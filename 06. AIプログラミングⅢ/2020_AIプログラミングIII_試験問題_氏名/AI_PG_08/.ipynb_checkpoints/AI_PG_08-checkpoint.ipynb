{
 "cells": [
  {
   "cell_type": "code",
   "execution_count": null,
   "metadata": {},
   "outputs": [],
   "source": [
    "# exam8.py\n",
    "\n",
    "import scrapy\n",
    "from scrapy.selector import Selector\n",
    "\n",
    "class Exam8Spider(scrapy.Spider):\n",
    "    name = 'exam8'\n",
    "    start_urls = ['file://C:/temp/kujira.html']\n",
    "\n",
    "    def parse(self, response):\n",
    "        li_list = response.xpath('//li/a').getall()\n",
    "\n",
    "        for a in li_list:\n",
    "            yield {\n",
    "                'href' : Selector(text=a).xpath('//a/@href').get(),\n",
    "                'text' : Selector(text=a).xpath('//a/text()').get()\n",
    "            }"
   ]
  },
  {
   "cell_type": "code",
   "execution_count": null,
   "metadata": {},
   "outputs": [],
   "source": [
    "# settings.py\n",
    "\n",
    "BOT_NAME = 'AiPg08'\n",
    "\n",
    "SPIDER_MODULES = ['AiPg08.spiders']\n",
    "NEWSPIDER_MODULE = 'AiPg08.spiders'\n",
    "\n",
    "ROBOTSTXT_OBEY = True\n",
    "\n",
    "FEED_EXPORT_ENCODING = 'utf-8'"
   ]
  }
 ],
 "metadata": {
  "kernelspec": {
   "display_name": "Python 3",
   "language": "python",
   "name": "python3"
  },
  "language_info": {
   "codemirror_mode": {
    "name": "ipython",
    "version": 3
   },
   "file_extension": ".py",
   "mimetype": "text/x-python",
   "name": "python",
   "nbconvert_exporter": "python",
   "pygments_lexer": "ipython3",
   "version": "3.8.5"
  }
 },
 "nbformat": 4,
 "nbformat_minor": 4
}
