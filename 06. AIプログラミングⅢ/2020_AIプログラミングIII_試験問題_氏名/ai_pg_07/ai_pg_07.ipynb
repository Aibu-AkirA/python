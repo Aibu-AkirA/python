import requests
import json, pprint
import datetime as dt

# APIキーの指定 - 取得したAPI Keyを設定する
# 이거 내 API Key임
apikey = '44a91992b7b41d804fdc35d624db9e18'

# 天気を調べたい都市の一覧
cities = ['Sapporo', 'Tokyo']

# APIのひな型
api = "https://api.openweathermap.org/data/2.5/weather?q={city}&APPID={key}"

# 温度変換(ケルビン→摂氏)無名関数の定義
def k2c(temp):
    return temp-273.15

# 時刻変換（unixtime→JST（日本標準時間））無名関数の定義
def unix2jst(ut):
    return dt.datetime.fromtimestamp(ut).strftime('%Y-%m-%d %H:%M:%S')

# 各都市の天気を取得する
for name in cities:
    # APIのURLを得る
    url = api.format(city=name, key=apikey)
    
    # 実際にAPIにリクエストを送信して結果を取得する
    r = requests.get(url)
    
    # 結果はJSON形式なのでデコードする
    data = json.loads(r.text)
    
    # 結果を画面に表示
    print("+ 都市=", data['name'])
    print("| 天気=", data['weather'][0]['description'])
    print("| 天気=")
    print("| 気温=", k2c(data['main']['temp']))
    print("| 湿度=", data['main']['humidity'])
    print("| 風速=", data['wind']['speed'])
    print("| 雲量=")
    print("| データ時刻=", unix2jst(data['dt']))
    print("")
