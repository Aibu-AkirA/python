{
 "cells": [
  {
   "cell_type": "code",
   "execution_count": 2,
   "metadata": {},
   "outputs": [],
   "source": [
    "#-*- encoding: utf8 -*-\n",
    "\n",
    "import cv2\n",
    "import numpy as np\n",
    "import os\n",
    "\n",
    "def nihongo(file_path):\n",
    "    f = open(file_path.encode(\"utf-8\"),\"rb\")\n",
    "    bytes = bytearray(f.read())\n",
    "    npArr = np.asarray(bytes, dtype=np.uint8)\n",
    "    return cv2.imdecode(npArr, cv2.IMREAD_UNCHANGED)\n",
    "\n",
    "def nihongoSave(filename, img, params=None):\n",
    "    try:\n",
    "        ext = os.path.splitext(filename)[1]\n",
    "        result, n = cv2.imencode(ext, img, params)\n",
    "\n",
    "        if result:\n",
    "            with open(filename, mode='w+b') as f:\n",
    "                n.tofile(f)\n",
    "            return True\n",
    "        else:\n",
    "            return False\n",
    "    except Exception as e:\n",
    "        print(e)\n",
    "        return False\n",
    "\n",
    "\n",
    "namelist = ['章', '熙']\n",
    "\n",
    "img = nihongo('./'+namelist[0]+'/'+namelist[0]+'_001.jpg')\n",
    "img2 = nihongo('./章/章_002.jpg')\n",
    "\n",
    "\n",
    "nihongoSave('./'+namelist[1]+'/'+namelist[1]+'_001.jpg', img)\n",
    "nihongoSave('./熙/熙_002.jpg', img2)\n",
    "\n",
    "cv2.imshow('img',img)\n",
    "cv2.imshow('img2',img2)\n",
    "cv2.waitKey(0)\n",
    "cv2.destroyAllWindows()\n"
   ]
  },
  {
   "cell_type": "code",
   "execution_count": null,
   "metadata": {},
   "outputs": [],
   "source": []
  }
 ],
 "metadata": {
  "kernelspec": {
   "display_name": "Python 3",
   "language": "python",
   "name": "python3"
  },
  "language_info": {
   "codemirror_mode": {
    "name": "ipython",
    "version": 3
   },
   "file_extension": ".py",
   "mimetype": "text/x-python",
   "name": "python",
   "nbconvert_exporter": "python",
   "pygments_lexer": "ipython3",
   "version": "3.8.3"
  }
 },
 "nbformat": 4,
 "nbformat_minor": 4
}
