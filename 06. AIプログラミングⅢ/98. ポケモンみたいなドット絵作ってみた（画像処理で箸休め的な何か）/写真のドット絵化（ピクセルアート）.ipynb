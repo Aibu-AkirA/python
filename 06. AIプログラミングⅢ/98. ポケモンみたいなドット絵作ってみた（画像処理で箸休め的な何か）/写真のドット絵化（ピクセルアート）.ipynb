{
 "cells": [
  {
   "cell_type": "markdown",
   "metadata": {},
   "source": [
    "# サンプルコード"
   ]
  },
  {
   "cell_type": "code",
   "execution_count": 3,
   "metadata": {},
   "outputs": [
    {
     "data": {
      "text/plain": [
       "True"
      ]
     },
     "execution_count": 3,
     "metadata": {},
     "output_type": "execute_result"
    }
   ],
   "source": [
    "# -*- coding: utf-8 -*-\n",
    "import cv2\n",
    "import numpy as np\n",
    "\n",
    "# 減色処理\n",
    "def sub_color(src, K):\n",
    "    # 次元数を1落とす\n",
    "    Z = src.reshape((-1,3))\n",
    "\n",
    "    # float32型に変換\n",
    "    Z = np.float32(Z)\n",
    "\n",
    "    # 基準の定義\n",
    "    criteria = (cv2.TERM_CRITERIA_EPS + cv2.TERM_CRITERIA_MAX_ITER, 10, 1.0)\n",
    "\n",
    "    # K-means法で減色\n",
    "    ret, label, center = cv2.kmeans(Z, K, None, criteria, 10, cv2.KMEANS_RANDOM_CENTERS)\n",
    "\n",
    "    # UINT8に変換\n",
    "    center = np.uint8(center)\n",
    "\n",
    "    res = center[label.flatten()]\n",
    "\n",
    "    # 配列の次元数と入力画像と同じに戻す\n",
    "    return res.reshape((src.shape))\n",
    "\n",
    "\n",
    "# モザイク処理\n",
    "def mosaic(img, alpha):\n",
    "    # 画像の高さ、幅、チャンネル数\n",
    "    h, w, ch = img.shape\n",
    "\n",
    "    # 縮小→拡大でモザイク加工\n",
    "    img = cv2.resize(img,(int(w*alpha), int(h*alpha)))\n",
    "    img = cv2.resize(img,(w, h), interpolation=cv2.INTER_NEAREST)\n",
    "\n",
    "    return img\n",
    "\n",
    "\n",
    "# ドット絵化\n",
    "def pixel_art(img, alpha=2, K=4):\n",
    "    # モザイク処理\n",
    "    img = mosaic(img, alpha)\n",
    "\n",
    "    # 減色処理\n",
    "    return sub_color(img, K)\n",
    "\n",
    "\n",
    "# 入力画像を取得\n",
    "img = cv2.imread(\"./migawaripika.jpg\")\n",
    "\n",
    "# ドット絵化\n",
    "# 左（alpha=0.5、K=4）、右（alpha=0.3、K=3）\n",
    "dst = pixel_art(img, 0.3, 4)\n",
    "    \n",
    "# 結果を出力\n",
    "cv2.imwrite(\"./pika02.png\", dst)"
   ]
  },
  {
   "cell_type": "markdown",
   "metadata": {},
   "source": [
    "# ほげ要望(^ω^)\n",
    "# Contours : More Functions\n",
    "・Image Processing in OpenCV  \n",
    "https://opencv-python-tutroals.readthedocs.io/en/latest/py_tutorials/py_imgproc/py_table_of_contents_imgproc/py_table_of_contents_imgproc.html  \n",
    "内の「Contours : More Functions」（原文英語）を読んで記事内のソースを実行して結果を確認してまとめなさい  \n",
    "https://opencv-python-tutroals.readthedocs.io/en/latest/py_tutorials/py_imgproc/py_contours/py_contours_more_functions/py_contours_more_functions.html#contours-more-functions  \n",
    "まとめたもので授業ができるくらい丁寧にまとめること（ソースファイル内にコメントを入れたりwebページ等で調べてMarkdownで補足説明とか）  \n",
    "・ほげ要望　Contours : More Functions.ipynb  \n",
    "・ほげ要望　Contours : More Functions.html  \n",
    "を提出しなさい。あまりに不適切なものは未提出と同等にします。"
   ]
  },
  {
   "cell_type": "markdown",
   "metadata": {},
   "source": [
    "# またまたエクストラはお休み"
   ]
  },
  {
   "cell_type": "code",
   "execution_count": null,
   "metadata": {},
   "outputs": [],
   "source": []
  }
 ],
 "metadata": {
  "kernelspec": {
   "display_name": "Python 3",
   "language": "python",
   "name": "python3"
  },
  "language_info": {
   "codemirror_mode": {
    "name": "ipython",
    "version": 3
   },
   "file_extension": ".py",
   "mimetype": "text/x-python",
   "name": "python",
   "nbconvert_exporter": "python",
   "pygments_lexer": "ipython3",
   "version": "3.8.3"
  }
 },
 "nbformat": 4,
 "nbformat_minor": 4
}
