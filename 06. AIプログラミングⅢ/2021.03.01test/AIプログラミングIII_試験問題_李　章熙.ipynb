{
 "cells": [
  {
   "cell_type": "markdown",
   "metadata": {},
   "source": [
    "# AIプログラミングIII　試験問題・解答用紙\n",
    "\n",
    "### 注意事項\n",
    "* ノートブック名（画面の上部に表示されている）を編集し、\"氏名\"を自分の名前に変えること\n",
    "* 解答は実行結果も表示された状態でHTML出力すること  \n",
    "* プログラムの実行結果として出力されるファイルも提出すること\n",
    "    * exam1.png, exam6.png, exam8.py, exam8.json, exam11.xlsx, exam12.json \n",
    "* SNS、Yahoo!知恵袋等のQAサービスは利用しないこと"
   ]
  },
  {
   "cell_type": "markdown",
   "metadata": {},
   "source": [
    "## 1\n",
    "吉田学園情報ビジネス専門学校HP（ https://yoshida-jobi.jp/ ）のトップページ下部に表示されているロゴ画像（下図参照）をダウンロードして「exam1.png」として保存するプログラムを完成させなさい。  \n",
    "ただし、画像の保存にはurllib.request.urlretrieve()関数を使用すること。  \n",
    "ロゴ画像のURLは実際のページを表示して確認すること。  \n",
    "\n",
    "<img src=\".\\fig_1.png\" width=\"700\" alt=\"情ビロゴ画像\">"
   ]
  },
  {
   "cell_type": "code",
   "execution_count": 1,
   "metadata": {},
   "outputs": [
    {
     "name": "stdout",
     "output_type": "stream",
     "text": [
      "保存しました\n"
     ]
    }
   ],
   "source": [
    "import urllib.request\n",
    "\n",
    "# URLと保存パスを指定\n",
    "url = \"https://yoshida-jobi.jp/wp-jobi/wp-content/themes/jobi/images/dist/common/logo/header_logo_black.svg\"\n",
    "savename =\"exam1.svg\"\n",
    "\n",
    "# ダウンロードとファイル保存（urllib.request.urlretrieve()関数を使用する）\n",
    "\n",
    "urllib.request.urlretrieve(url, savename)\n",
    "print(\"保存しました\")"
   ]
  },
  {
   "cell_type": "markdown",
   "metadata": {},
   "source": [
    "\n",
    "<img src=\".\\exam1.svg\" width=\"700\" alt=\"答え\">"
   ]
  },
  {
   "cell_type": "markdown",
   "metadata": {},
   "source": [
    "## 2\n",
    "以下の処理を行うプログラムを完成させなさい。  \n",
    "* 「クジラWeb API」で公開されている「クジラ 百人一首 API」を利用して、以下に示す条件で百人一首を検索し出力する\n",
    "    * 「クジラ百人一首API」のURL： https://api.aoikujira.com/hyakunin/get.php\n",
    "    * URLアクセス時のパラメータ\n",
    "        * fmt：\"XML\"を指定する\n",
    "        * key：\"ちはや\"を指定する\n",
    "* パラメータは変数valuesに設定し、URLエンコードしてURLに付加すること\n",
    "* 検索結果はXMLデータで返されるので、BeautifulSoupで解析し、漢字の上の句・下の句をprint()関数で出力する\n",
    "* XMLデータの定義はAPI紹介ページ（ https://api.aoikujira.com/index.php?hyakunin&show ）の「検索の例」を参照すること  "
   ]
  },
  {
   "cell_type": "code",
   "execution_count": 2,
   "metadata": {},
   "outputs": [
    {
     "name": "stdout",
     "output_type": "stream",
     "text": [
      "<kami>ちはやぶる 神代もきかず 竜田川</kami> <simo>からくれなゐに 水くくるとは</simo>\n"
     ]
    }
   ],
   "source": [
    "from bs4 import BeautifulSoup\n",
    "import urllib.request\n",
    "import urllib.parse\n",
    "\n",
    "# 「クジラ百人一首API」のURLを設定する\n",
    "api = \"https://api.aoikujira.com/hyakunin/get.php\"\n",
    "\n",
    "# アクセス時のパラメータをvaluesに設定する\n",
    "values = {\n",
    "    \"fmy\" : \"XML\",\n",
    "    \"key\" : \"ちはや\"\n",
    "}\n",
    "# パラメータをURLエンコードする\n",
    "params = urllib.parse.urlencode(values)\n",
    "\n",
    "# 「クジラ百人一首API」のURLにURLエンコードしたパラメータを付加する\n",
    "url = api + \"?\" + params\n",
    "\n",
    "# ページを開きデータを取得\n",
    "res = urllib.request.urlopen(url).read()\n",
    "\n",
    "# BeautifulSoupで解析\n",
    "soup = BeautifulSoup(res, \"html.parser\")\n",
    "\n",
    "# 漢字の上の句、下の句情報を抽出\n",
    "kami = soup.items.kami\n",
    "shimo = soup.items.simo\n",
    "\n",
    "# 出力\n",
    "print(kami, shimo)"
   ]
  },
  {
   "cell_type": "markdown",
   "metadata": {},
   "source": [
    "## 3\n",
    "変数htmlに格納されているHTML情報から、h1タグ、liタグの各要素を取得し、テキスト部分を出力するプログラムを完成させなさい。  \n",
    "なお、要素へのアクセスには、ルート要素からドット（.）を使ってアクセスする方法を利用すること  "
   ]
  },
  {
   "cell_type": "code",
   "execution_count": 3,
   "metadata": {},
   "outputs": [
    {
     "name": "stdout",
     "output_type": "stream",
     "text": [
      "h1 = 聖書\n",
      "li = 創世記\n",
      "li  = 出エジプト記\n"
     ]
    }
   ],
   "source": [
    "from bs4 import BeautifulSoup \n",
    "\n",
    "# 解析したいHTML\n",
    "html = \"\"\"\n",
    "<html>\n",
    "<body>\n",
    "<h1>聖書</h1>\n",
    "<ol>\n",
    "  <li>創世記</li>\n",
    "  <li>出エジプト記</li>\n",
    "</ol>\n",
    "</body>\n",
    "</html>\n",
    "\"\"\"\n",
    "\n",
    "# HTMLを解析する\n",
    "soup = BeautifulSoup(html, 'html.parser')\n",
    "\n",
    "# 要素を抽出する\n",
    "h1 = soup.html.body.h1\n",
    "li1 = soup.html.body.ol.li\n",
    "li2 = li1.next_sibling.next_sibling\n",
    "\n",
    "# 要素のテキストを表示する\n",
    "print(\"h1 = \" + h1.string)\n",
    "print(\"li = \" + li1.string)\n",
    "print(\"li  = \" + li2.string)"
   ]
  },
  {
   "cell_type": "markdown",
   "metadata": {},
   "source": [
    "## 4\n",
    "「kujira.html」を読み込み、下図に示した要素を抽出して「（テキスト情報） > （リンクURL）」の形式で出力するプログラムを完成させなさい。  \n",
    "なお、抽出に使用する要素名はファイルをブラウザで開き確認すること。 \n",
    "\n",
    "<img src=\".\\fig_4.png\" width=\"600\" alt=\"クジラWeb API画像2\">"
   ]
  },
  {
   "cell_type": "code",
   "execution_count": 6,
   "metadata": {},
   "outputs": [
    {
     "name": "stdout",
     "output_type": "stream",
     "text": [
      "時間API > http://api.aoikujira.com/index.php?time&show\n",
      "郵便番号API > http://api.aoikujira.com/index.php?zip&show\n",
      "IP確認API > http://api.aoikujira.com/index.php?ip&show\n",
      "百人一首API > http://api.aoikujira.com/index.php?hyakunin&show\n",
      "日本語プログラミング言語「なでしこ」更新情報RSS > http://nadesi.com/History.xml\n",
      "英単語頻出2000語 > http://api.aoikujira.com/index.php?eitango2000&show\n"
     ]
    }
   ],
   "source": [
    "from bs4 import BeautifulSoup \n",
    "\n",
    "# ファイルを開く\n",
    "fp = open(\".\\kujira.html\",'r', encoding=\"utf8\")\n",
    "\n",
    "# HTMLを解析する\n",
    "soup = BeautifulSoup(fp, \"html.parser\")\n",
    "\n",
    "# 要素の抽出\n",
    "li_list = soup.select(\"ol.list2 > li \")\n",
    "\n",
    "# リンク部分の情報を表示\n",
    "for li in li_list:\n",
    "    a = li.a\n",
    "    name = a.string\n",
    "    href = a.attrs[\"href\"]\n",
    "    print(name, \">\", href)"
   ]
  },
  {
   "cell_type": "markdown",
   "metadata": {},
   "source": [
    "## 5\n",
    "変数htmlに格納されているHTML情報のうち、正規表現を利用して以下の条件に合致するURLを抽出するプログラムを完成させなさい。\n",
    "* `\"http://\"`ではじまるURL\n",
    "* `\".htm\"`で終わるURL"
   ]
  },
  {
   "cell_type": "code",
   "execution_count": 5,
   "metadata": {},
   "outputs": [
    {
     "name": "stdout",
     "output_type": "stream",
     "text": [
      "=== http://～～～ ===\n",
      "https://example.com/fuga.html\n",
      "https://example.com/foo.htm\n",
      "https://example.com/test.jpg\n",
      "=== ～～～.htm ===\n",
      "hoge.htm\n",
      "https://example.com/foo.htm\n"
     ]
    }
   ],
   "source": [
    "from bs4 import BeautifulSoup \n",
    "import re\n",
    "\n",
    "# 解析したいHTML\n",
    "html = \"\"\"\n",
    "<ul>\n",
    "  <li><a href=\"hoge.htm\">hoge</li>\n",
    "  <li><a href=\"https://example.com/fuga.html\">fuga*</li>\n",
    "  <li><a href=\"https://example.com/foo.htm\">foo*</li>\n",
    "  <li><a href=\"https://example.com/test.jpg\">foo*</li>\n",
    "  <li><a href=\"http://example.com/aaa.png\">aaa</li>\n",
    "  <li><a href=\"http://example.com/bbb.html\">aaa</li>\n",
    "</ul>\n",
    "\"\"\"\n",
    "\n",
    "# BeautifulSoupで解析\n",
    "soup = BeautifulSoup(html, \"html.parser\")\n",
    "\n",
    "# 正規表現でhrefからhttp://～～～を抽出\n",
    "li = soup.find_all(href=re.compile(r\"^https://\"))\n",
    "\n",
    "# 抽出した要素のhref属性を出力\n",
    "print(\"=== http://～～～ ===\")\n",
    "for e in li:\n",
    "    print(e.attrs['href'])\n",
    "    \n",
    "# 正規表現でhrefから～～～.htmを抽出\n",
    "li = soup.find_all(href=re.compile(r\"htm$\"))\n",
    "\n",
    "# 抽出した要素のhref属性を出力\n",
    "print(\"=== ～～～.htm ===\")\n",
    "for e in li:\n",
    "    print(e.attrs['href'])"
   ]
  },
  {
   "cell_type": "markdown",
   "metadata": {},
   "source": [
    "## 6\n",
    "下図はDjangoを用いたWebアプリの処理の流れを示したものである。  \n",
    "図中の①～⑦に当てはまる語句を解答しなさい。\n",
    "\n",
    "<img src=\".\\fig_13.png\" width=\"600\" alt=\"Django画像\">\n",
    "\n",
    "* ①～⑦の説明\n",
    "* ①： Webアプリ全体の構成単位\n",
    "* ②： Webアプリ中の機能単位でのまとまり\n",
    "* ③： URLからどの②や④に処理を渡すかを識別するコンポーネント\n",
    "* ④： ②の中で司令塔の役割を果たすコンポーネント\n",
    "* ⑤： 画面で入力された値のバリデーションや、入力された値をオブジェクトに変換してDjango内部で保持するためのコンポーネント\n",
    "* ⑥： データベースとの連携を受け持ち、データベースの更新や検索結果を返すコンポーネント\n",
    "* ⑦： HTMLのひな型にデータベースの処理結果などを埋め込み、HTMLを作成するコンポーネント"
   ]
  },
  {
   "cell_type": "markdown",
   "metadata": {},
   "source": [
    "### 解答欄\n",
    "* ① プロジェクト\n",
    "* ② アプリケーション\n",
    "* ③ ルーティング\n",
    "* ④ ビュー\n",
    "* ⑤ フォーム\n",
    "* ⑥ モデル\n",
    "* ⑦ テンプレート"
   ]
  },
  {
   "cell_type": "markdown",
   "metadata": {},
   "source": [
    "## 7\n",
    "Djangoのユーティリティコマンドについて説明している下記文章中の①～⑦に当てはまる語句を解答しなさい。\n",
    "* Djangoプロジェクトを作成するコマンド\n",
    "    * \\$ ① ② ＜プロジェクト名＞  \n",
    "* Djangoアプリケーションを作成するコマンド\n",
    "    * \\$ python manage.py ③ ＜アプリケーション名＞\n",
    "* 開発用サーバーの起動\n",
    "    * \\$ python manage.py ④\n",
    "* マイグレーションファイルの作成\n",
    "    * \\$ python manage.py ⑤\n",
    "* マイグレーションの実行\n",
    "    * \\$ python manage.py ⑥\n",
    "* スーパーユーザー（サイト管理者）の作成\n",
    "    * \\$ python manage.py ⑦"
   ]
  },
  {
   "cell_type": "markdown",
   "metadata": {},
   "source": [
    "### 解答欄\n",
    "* ① django-amin\n",
    "* ② startproject\n",
    "* ③ startapp\n",
    "* ④ runserver\n",
    "* ⑤ makemigrations\n",
    "* ⑥ migrate\n",
    "* ⑦ createsuperuser"
   ]
  },
  {
   "cell_type": "code",
   "execution_count": null,
   "metadata": {},
   "outputs": [],
   "source": []
  }
 ],
 "metadata": {
  "kernelspec": {
   "display_name": "Python 3",
   "language": "python",
   "name": "python3"
  },
  "language_info": {
   "codemirror_mode": {
    "name": "ipython",
    "version": 3
   },
   "file_extension": ".py",
   "mimetype": "text/x-python",
   "name": "python",
   "nbconvert_exporter": "python",
   "pygments_lexer": "ipython3",
   "version": "3.8.3"
  }
 },
 "nbformat": 4,
 "nbformat_minor": 2
}
