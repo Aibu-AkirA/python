{
 "cells": [
  {
   "cell_type": "markdown",
   "metadata": {},
   "source": [
    "# ⑤（ログインが必要なサイトのダウンロード）"
   ]
  },
  {
   "cell_type": "markdown",
   "metadata": {},
   "source": [
    "## requestsを使う"
   ]
  },
  {
   "cell_type": "markdown",
   "metadata": {},
   "source": [
    "作詞掲示板  \n",
    "https://uta.pw/sakusibbs/"
   ]
  },
  {
   "cell_type": "markdown",
   "metadata": {},
   "source": [
    "### 実行結果"
   ]
  },
  {
   "cell_type": "code",
   "execution_count": 1,
   "metadata": {},
   "outputs": [
    {
     "name": "stdout",
     "output_type": "stream",
     "text": [
      "マイページ= https://uta.pw/sakusibbs/users.php?user_id=32\n",
      "- 今日も明日もJS三昧 by JS-TESTER > post.php?mml_id=161\n",
      "- 眠ってもデバッグ by JS-TESTER > post.php?mml_id=162\n",
      "- プリンとシュークリーム by JS-TESTER > post.php?mml_id=246\n",
      "- 吾輩はテスターである by JS-TESTER > post.php?mml_id=268\n",
      "- 吾輩はテスターである　その２ by JS-TESTER > post.php?mml_id=269\n",
      "- テスト by JS-TESTER > post.php?mml_id=816\n",
      "- ぱいソング by JS-TESTER > post.php?mml_id=845\n",
      "- I said ''Thanks'' by Shibutsuki > post.php?mml_id=892\n",
      "- Happy journey by Shibutsuki > post.php?mml_id=881\n",
      "- ひとりじゃない - Tyobi a long side Yulala by Tyobi > post.php?mml_id=882\n",
      "- もどかしいのよlove by 月城 麻里奈 > post.php?mml_id=867\n",
      "- もう貴方しか愛せない by 月城 麻里奈 > post.php?mml_id=868\n",
      "- それでも好きなんだよ？ by 月城 麻里奈 > post.php?mml_id=869\n",
      "- love悲しい愛のメロディ by 月城 麻里奈 > post.php?mml_id=870\n",
      "- 純愛花丸ロマンス by 月城 麻里奈 > post.php?mml_id=875\n",
      "- あなたが想い出にならなくて by 月城 麻里奈 > post.php?mml_id=876\n",
      "- 永遠の愛だと言ってよ by 月城 麻里奈 > post.php?mml_id=877\n",
      "- 指先からのlovelovelove by 月城 麻里奈 > post.php?mml_id=878\n",
      "- 愛におやすみなさい by 月城 麻里奈 > post.php?mml_id=880\n",
      "- 楽しいよ by FHU > post.php?mml_id=190\n",
      "- 劣等生の春 by FHU > post.php?mml_id=191\n",
      "- 一人歩き（ラップ） by FHU > post.php?mml_id=192\n",
      "- 一人歩き by FHU > post.php?mml_id=193\n",
      "- 10年 by FHU > post.php?mml_id=194\n",
      "- D×D（ドッグ、ドラッグ） by FHU > post.php?mml_id=195\n",
      "- 夏のフラダンス by FHU > post.php?mml_id=196\n",
      "- ノラビト by FHU > post.php?mml_id=197\n",
      "- 拝啓最低な僕へ by FHU > post.php?mml_id=198\n",
      "- Sadness sinner by 月城 麻里奈 > post.php?mml_id=792\n",
      "- 貴方が好きなんです by 月城 麻里奈 > post.php?mml_id=794\n",
      "- 天使の誘惑 by 月城 麻里奈 > post.php?mml_id=795\n",
      "- ヨハネの愛の黙示録 by 月城 麻里奈 > post.php?mml_id=818\n",
      "- 貴方のハートは私のモノ by 月城 麻里奈 > post.php?mml_id=819\n",
      "- 一滴の愛がキラリ by 月城 麻里奈 > post.php?mml_id=820\n",
      "- 少女Scramble by 月城 麻里奈 > post.php?mml_id=821\n",
      "- 嗚呼、人生あなた色 by 月城 麻里奈 > post.php?mml_id=822\n",
      "- 愛≒罪人 by 月城 麻里奈 > post.php?mml_id=823\n",
      "- Erotic Romans by 月城 麻里奈 > post.php?mml_id=824\n",
      "- 醜い顔のシンデレラ by 月城 麻里奈 > post.php?mml_id=825\n",
      "- 眠れない夜は会いたくて by 月城 麻里奈 > post.php?mml_id=830\n",
      "- 貴方の胸で眠りたい by 月城 麻里奈 > post.php?mml_id=831\n",
      "- 愛を眠らせて by 月城 麻里奈 > post.php?mml_id=832\n",
      "- kissで忘れさせて by 月城 麻里奈 > post.php?mml_id=833\n",
      "- 深紅のSecretmoon by 月城 麻里奈 > post.php?mml_id=834\n",
      "- 愛は冬の幻 by 月城 麻里奈 > post.php?mml_id=838\n",
      "- love dance with me by 月城 麻里奈 > post.php?mml_id=839\n",
      "- 可愛すぎだよAngel by 月城 麻里奈 > post.php?mml_id=840\n",
      "- chocolate honey by 月城 麻里奈 > post.php?mml_id=841\n",
      "- 最後の愛だったから by 月城 麻里奈 > post.php?mml_id=846\n",
      "- 美しい君が死んだら by 月城 麻里奈 > post.php?mml_id=849\n"
     ]
    }
   ],
   "source": [
    "# 作詞掲示板にログインしてお気に入りの詞を取得する\n",
    "import requests\n",
    "from bs4 import BeautifulSoup\n",
    "from urllib.parse import urljoin\n",
    "\n",
    "# ユーザー名とパスワードの指定 --- (※1)\n",
    "USER = \"JS-TESTER\"\n",
    "PASS = \"ipCU12ySxI\"\n",
    "\n",
    "# セッションを開始 --- (※2)\n",
    "session = requests.session()\n",
    "\n",
    "# ログイン --- (※3)\n",
    "login_info = {\n",
    "    \"username_mmlbbs6\": USER,  # ユーザー名を指定\n",
    "    \"password_mmlbbs6\": PASS,  # パスワードを指定\n",
    "    \"back\": \"index.php\",       # ログイン時に指定する値\n",
    "    \"mml_id\": \"0\"              # ログイン時に指定する値\n",
    "}\n",
    "url_login = \"https://uta.pw/sakusibbs/users.php?action=login&m=try\"\n",
    "res = session.post(url_login, data=login_info)\n",
    "res.raise_for_status() # エラーならここで例外を発生させる\n",
    "\n",
    "# マイページのURLをピックアップする --- (※4)\n",
    "soup = BeautifulSoup(res.text, \"html.parser\")\n",
    "a = soup.select_one(\".islogin a\")\n",
    "if a is None:\n",
    "    print(\"マイページが取得できませんでした\")\n",
    "    quit()\n",
    "# 相対URLを絶対URLに変換\n",
    "url_mypage = urljoin(url_login, a.attrs[\"href\"]) \n",
    "print(\"マイページ=\", url_mypage)\n",
    "\n",
    "# マイページにアクセス --- (※5)\n",
    "res = session.get(url_mypage)\n",
    "res.raise_for_status()\n",
    "\n",
    "# お気に入りの詞のタイトルを列挙 --- (※6)\n",
    "soup = BeautifulSoup(res.text, \"html.parser\")\n",
    "links = soup.select(\"#favlist li > a\")\n",
    "for a in links:\n",
    "    href = a.attrs[\"href\"]\n",
    "    title = a.get_text()\n",
    "    print(\"-\", title, \">\", href)"
   ]
  },
  {
   "cell_type": "markdown",
   "metadata": {},
   "source": [
    "### 実行結果"
   ]
  },
  {
   "cell_type": "code",
   "execution_count": 4,
   "metadata": {},
   "outputs": [
    {
     "name": "stdout",
     "output_type": "stream",
     "text": [
      "2020/07/22 11:39:29\n",
      "b'2020/07/22 11:39:29'\n"
     ]
    }
   ],
   "source": [
    "# データを取得\n",
    "import requests\n",
    "r = requests.get(\"https://api.aoikujira.com/time/get.php\")\n",
    "\n",
    "# テキスト形式でデータを得る\n",
    "text = r.text\n",
    "print(text)\n",
    "\n",
    "# バイナリ形式でデータを得る\n",
    "bin = r.content\n",
    "print(bin)"
   ]
  },
  {
   "cell_type": "markdown",
   "metadata": {},
   "source": [
    "### 実行結果"
   ]
  },
  {
   "cell_type": "code",
   "execution_count": 5,
   "metadata": {},
   "outputs": [
    {
     "name": "stdout",
     "output_type": "stream",
     "text": [
      "saved\n"
     ]
    }
   ],
   "source": [
    "# 画像データを取得\n",
    "import requests\n",
    "r = requests.get(\"https://uta.pw/shodou/img/3/3.png\")\n",
    "\n",
    "# バイナリ形式でデータを得て保存\n",
    "with open(\"test.png\", \"wb\") as f:\n",
    "    f.write(r.content)\n",
    "\n",
    "print(\"saved\")"
   ]
  }
 ],
 "metadata": {
  "kernelspec": {
   "display_name": "Python 3",
   "language": "python",
   "name": "python3"
  },
  "language_info": {
   "codemirror_mode": {
    "name": "ipython",
    "version": 3
   },
   "file_extension": ".py",
   "mimetype": "text/x-python",
   "name": "python",
   "nbconvert_exporter": "python",
   "pygments_lexer": "ipython3",
   "version": "3.8.3"
  }
 },
 "nbformat": 4,
 "nbformat_minor": 2
}
