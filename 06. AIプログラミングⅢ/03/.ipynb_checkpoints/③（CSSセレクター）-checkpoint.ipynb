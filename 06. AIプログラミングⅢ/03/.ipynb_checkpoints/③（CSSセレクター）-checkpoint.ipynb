{
 "cells": [
  {
   "cell_type": "markdown",
   "metadata": {},
   "source": [
    "# ③（CSSセレクター）"
   ]
  },
  {
   "cell_type": "markdown",
   "metadata": {},
   "source": [
    "### 青空文庫の夏目漱石の作品一覧表示\n",
    "#### 実行結果"
   ]
  },
  {
   "cell_type": "code",
   "execution_count": 1,
   "metadata": {},
   "outputs": [
    {
     "name": "stdout",
     "output_type": "stream",
     "text": [
      "イズムの功過 > ../cards/000148/card2314.html\n",
      "一夜 > ../cards/000148/card1086.html\n",
      "永日小品 > ../cards/000148/card758.html\n",
      "岡本一平著並画『探訪画趣』序 > ../cards/000148/card2669.html\n",
      "おはなし > ../cards/000148/card59017.html\n",
      "思い出す事など > ../cards/000148/card792.html\n",
      "カーライル博物館 > ../cards/000148/card1046.html\n",
      "薤露行 > ../cards/000148/card769.html\n",
      "学者と名誉 > ../cards/000148/card2383.html\n",
      "硝子戸の中 > ../cards/000148/card760.html\n",
      "元日 > ../cards/000148/card2674.html\n",
      "鬼哭寺の一夜 > ../cards/000148/card58276.html\n",
      "木下杢太郎『唐草表紙』序 > ../cards/000148/card2670.html\n",
      "教育と文芸 > ../cards/000148/card778.html\n",
      "京に着ける夕 > ../cards/000148/card777.html\n",
      "京に着ける夕 > ../cards/000148/card55936.html\n",
      "虚子君へ > ../cards/000148/card2373.html\n",
      "草枕 > ../cards/000148/card776.html\n",
      "虞美人草 > ../cards/000148/card761.html\n",
      "ケーベル先生 > ../cards/000148/card770.html\n",
      "ケーベル先生の告別 > ../cards/000148/card771.html\n",
      "現代日本の開化 > ../cards/000148/card759.html\n",
      "行人 > ../cards/000148/card775.html\n",
      "坑夫 > ../cards/000148/card774.html\n",
      "こころ > ../cards/000148/card773.html\n",
      "『心』広告文 > ../cards/000148/card4689.html\n",
      "『心』自序 > ../cards/000148/card4688.html\n",
      "『心』予告 > ../cards/000148/card4687.html\n",
      "琴のそら音 > ../cards/000148/card1073.html\n",
      "コンラッドの描きたる自然について > ../cards/000148/card766.html\n",
      "作物の批評 > ../cards/000148/card793.html\n",
      "三山居士 > ../cards/000148/card784.html\n",
      "三四郎 > ../cards/000148/card794.html\n",
      "『三四郎』予告 > ../cards/000148/card4682.html\n",
      "子規の画 > ../cards/000148/card1749.html\n",
      "子規の画 > ../cards/000148/card795.html\n",
      "「自然を写す文章」 > ../cards/000148/card42297.html\n",
      "自転車日記 > ../cards/000148/card768.html\n",
      "写生文 > ../cards/000148/card796.html\n",
      "従軍行 > ../cards/000148/card58277.html\n",
      "趣味の遺伝 > ../cards/000148/card1104.html\n",
      "初秋の一日 > ../cards/000148/card797.html\n",
      "処女作追懐談 > ../cards/000148/card2680.html\n",
      "人生 > ../cards/000148/card767.html\n",
      "鈴木三重吉宛書簡―明治三十九年 > ../cards/000148/card2575.html\n",
      "西洋にはない > ../cards/000148/card42320.html\n",
      "戦争からきた行き違い > ../cards/000148/card2315.html\n",
      "創作家の態度 > ../cards/000148/card1102.html\n",
      "それから > ../cards/000148/card1746.html\n",
      "それから > ../cards/000148/card56143.html\n",
      "『それから』予告 > ../cards/000148/card4681.html\n",
      "高浜虚子著『鶏頭』序 > ../cards/000148/card2667.html\n",
      "田山花袋君に答う > ../cards/000148/card2370.html\n",
      "「土」に就て > ../cards/000148/card56900.html\n",
      "『土』に就て > ../cards/000148/card2668.html\n",
      "艇長の遺書と中佐の詩 > ../cards/000148/card4686.html\n",
      "手紙 > ../cards/000148/card798.html\n",
      "『伝説の時代』序 > ../cards/000148/card42156.html\n",
      "点頭録 > ../cards/000148/card4672.html\n",
      "『東洋美術図譜』 > ../cards/000148/card2313.html\n",
      "道楽と職業 > ../cards/000148/card757.html\n",
      "長塚節氏の小説「土」 > ../cards/000148/card2682.html\n",
      "中味と形式 > ../cards/000148/card788.html\n",
      "二百十日 > ../cards/000148/card751.html\n",
      "入社の辞 > ../cards/000148/card2673.html\n",
      "猫の広告文 > ../cards/000148/card4683.html\n",
      "野分 > ../cards/000148/card791.html\n",
      "『煤煙』の序 > ../cards/000148/card4684.html\n",
      "博士問題とマードック先生と余 > ../cards/000148/card787.html\n",
      "博士問題の成行 > ../cards/000148/card2376.html\n",
      "長谷川君と余 > ../cards/000148/card762.html\n",
      "彼岸過迄 > ../cards/000148/card765.html\n",
      "「額の男」を読む > ../cards/000148/card50478.html\n",
      "文芸委員は何をするか > ../cards/000148/card754.html\n",
      "文芸と道徳 > ../cards/000148/card756.html\n",
      "文芸とヒロイツク > ../cards/000148/card4685.html\n",
      "文芸の哲学的基礎 > ../cards/000148/card755.html\n",
      "文芸は男子一生の事業とするに足らざる乎 > ../cards/000148/card2681.html\n",
      "文士の生活 > ../cards/000148/card2679.html\n",
      "文壇の趨勢 > ../cards/000148/card2371.html\n",
      "文鳥 > ../cards/000148/card753.html\n",
      "変な音 > ../cards/000148/card763.html\n",
      "変な音 > ../cards/000148/card764.html\n",
      "僕の昔 > ../cards/000148/card1750.html\n",
      "坊っちゃん > ../cards/000148/card752.html\n",
      "マードック先生の『日本歴史』 > ../cards/000148/card2375.html\n",
      "正岡子規 > ../cards/000148/card1751.html\n",
      "幻影の盾 > ../cards/000148/card780.html\n",
      "満韓ところどころ > ../cards/000148/card781.html\n",
      "道草 > ../cards/000148/card783.html\n",
      "水底の感 > ../cards/000148/card58278.html\n",
      "無題 > ../cards/000148/card786.html\n",
      "明暗 > ../cards/000148/card782.html\n",
      "明治座の所感を虚子君に問れて > ../cards/000148/card2372.html\n",
      "模倣と独立 > ../cards/000148/card1747.html\n",
      "門 > ../cards/000148/card785.html\n",
      "門 > ../cards/000148/card56923.html\n",
      "夢十夜 > ../cards/000148/card799.html\n",
      "余と万年筆 > ../cards/000148/card2675.html\n",
      "予の描かんと欲する作品 > ../cards/000148/card2678.html\n",
      "落第 > ../cards/000148/card2676.html\n",
      "倫敦消息 > ../cards/000148/card779.html\n",
      "倫敦塔 > ../cards/000148/card1076.html\n",
      "吾輩は猫である > ../cards/000148/card789.html\n",
      "吾輩ハ猫デアル > ../cards/000148/card790.html\n",
      "『吾輩は猫である』下篇自序 > ../cards/000148/card2672.html\n",
      "『吾輩は猫である』上篇自序 > ../cards/000148/card47148.html\n",
      "『吾輩は猫である』中篇自序 > ../cards/000148/card2671.html\n",
      "私の経過した学生時代 > ../cards/000148/card2677.html\n",
      "私の個人主義 > ../cards/000148/card772.html\n"
     ]
    }
   ],
   "source": [
    "from bs4 import BeautifulSoup \n",
    "import urllib.request as req\n",
    "\n",
    "url = \"https://www.aozora.gr.jp/index_pages/person148.html\"\n",
    "res = req.urlopen(url)\n",
    "soup = BeautifulSoup(res, \"html.parser\")\n",
    "\n",
    "li_list = soup.select(\"ol > li\")\n",
    "for li in li_list:\n",
    "    a = li.a\n",
    "    if a != None:\n",
    "        name = a.string\n",
    "        href = a.attrs[\"href\"]\n",
    "        print(name, \">\", href)"
   ]
  },
  {
   "cell_type": "markdown",
   "metadata": {},
   "source": [
    "### CSSセレクターを抽出する\n",
    "#### 実行結果"
   ]
  },
  {
   "cell_type": "code",
   "execution_count": 2,
   "metadata": {},
   "outputs": [
    {
     "name": "stdout",
     "output_type": "stream",
     "text": [
      "Numbers\n",
      "Numbers\n",
      "Numbers\n",
      "Numbers\n",
      "Numbers\n",
      "Numbers\n",
      "Numbers\n",
      "Numbers\n",
      "Numbers\n",
      "Numbers\n"
     ]
    }
   ],
   "source": [
    "from bs4 import BeautifulSoup \n",
    "fp = open(\"books.html\", encoding=\"utf-8\")\n",
    "soup = BeautifulSoup(fp, \"html.parser\")\n",
    "\n",
    "# CSSセレクタで検索する方法\n",
    "sel = lambda q : print(soup.select_one(q).string)\n",
    "sel(\"#nu\")               #(1)\n",
    "sel(\"li#nu\")             #(2)\n",
    "sel(\"ul > li#nu\")        #(3)\n",
    "sel(\"#bible #nu\")        #(4)\n",
    "sel(\"#bible > #nu\")      #(5)\n",
    "sel(\"ul#bible > li#nu\")  #(6)\n",
    "sel(\"li[id='nu']\")       #(7)\n",
    "sel(\"li:nth-of-type(4)\") #(8)\n",
    "\n",
    "# その他の方法 \n",
    "print(soup.select(\"li\")[3].string)   #(9)\n",
    "print(soup.find_all(\"li\")[3].string) #(10)"
   ]
  },
  {
   "cell_type": "markdown",
   "metadata": {},
   "source": [
    "### CSSセレクターで選択\n",
    "#### 実行結果"
   ]
  },
  {
   "cell_type": "code",
   "execution_count": 6,
   "metadata": {},
   "outputs": [
    {
     "name": "stdout",
     "output_type": "stream",
     "text": [
      "アボカド\n",
      "アボカド\n",
      "アボカド\n",
      "アボカド\n",
      "アボカド\n"
     ]
    }
   ],
   "source": [
    "from bs4 import BeautifulSoup \n",
    "fp = open(\"fruits-vegetables.html\", encoding=\"utf-8\")\n",
    "soup = BeautifulSoup(fp, \"html.parser\")\n",
    "\n",
    "# CSSセレクタで選び出す\n",
    "print(soup.select_one(\"#ve-list > li:nth-of-type(4)\").string)\n",
    "print(soup.select(\"#ve-list > li[data-lo='us']\")[1].string)\n",
    "print(soup.select(\"#ve-list > li.black\")[1].string)\n",
    "\n",
    "# findメソッドで選び出す ---- (5)\n",
    "cond = {\"data-lo\":\"us\", \"class\":\"black\"}\n",
    "print(soup.find(\"li\", cond).string)\n",
    "\n",
    "# findメソッドを二度組み合わせる --- (6)\n",
    "print(soup.find(id=\"ve-list\")\n",
    "          .find(\"li\", cond).string) "
   ]
  },
  {
   "cell_type": "markdown",
   "metadata": {},
   "source": [
    "### 正規表現\n",
    "#### 実行結果"
   ]
  },
  {
   "cell_type": "code",
   "execution_count": 7,
   "metadata": {},
   "outputs": [
    {
     "name": "stdout",
     "output_type": "stream",
     "text": [
      "https://example.com/fuga\n",
      "https://example.com/foo\n"
     ]
    }
   ],
   "source": [
    "from bs4 import BeautifulSoup \n",
    "import re # 正規表現を使う時 --- (*1)\n",
    "\n",
    "html = \"\"\"\n",
    "<ul>\n",
    "  <li><a href=\"hoge.html\">hoge</li>\n",
    "  <li><a href=\"https://example.com/fuga\">fuga*</li>\n",
    "  <li><a href=\"https://example.com/foo\">foo*</li>\n",
    "  <li><a href=\"http://example.com/aaa\">aaa</li>\n",
    "</ul>\n",
    "\"\"\"\n",
    "soup = BeautifulSoup(html, \"html.parser\")\n",
    "# 正規表現でhrefからhttpsのものを抽出 --- (*2)\n",
    "li = soup.find_all(href=re.compile(r\"^https://\"))\n",
    "for e in li: print(e.attrs['href'])"
   ]
  },
  {
   "cell_type": "code",
   "execution_count": null,
   "metadata": {},
   "outputs": [],
   "source": []
  },
  {
   "cell_type": "code",
   "execution_count": null,
   "metadata": {},
   "outputs": [],
   "source": []
  },
  {
   "cell_type": "code",
   "execution_count": null,
   "metadata": {},
   "outputs": [],
   "source": []
  },
  {
   "cell_type": "code",
   "execution_count": null,
   "metadata": {},
   "outputs": [],
   "source": []
  }
 ],
 "metadata": {
  "kernelspec": {
   "display_name": "Python 3",
   "language": "python",
   "name": "python3"
  },
  "language_info": {
   "codemirror_mode": {
    "name": "ipython",
    "version": 3
   },
   "file_extension": ".py",
   "mimetype": "text/x-python",
   "name": "python",
   "nbconvert_exporter": "python",
   "pygments_lexer": "ipython3",
   "version": "3.8.3"
  }
 },
 "nbformat": 4,
 "nbformat_minor": 2
}
