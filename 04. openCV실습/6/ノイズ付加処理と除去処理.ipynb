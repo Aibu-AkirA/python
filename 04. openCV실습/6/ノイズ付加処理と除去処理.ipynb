{
 "cells": [
  {
   "cell_type": "code",
   "execution_count": 1,
   "metadata": {},
   "outputs": [],
   "source": [
    "import cv2\n",
    "import numpy as np\n",
    "\n",
    "imgGet = cv2.imread('./saltAndPepper.jpg')\n",
    "\n",
    "median = cv2.medianBlur(imgGet,5)\n",
    "\n",
    "cv2.imshow('median',median)\n",
    "cv2.imshow('imgGet',imgGet)       \n",
    "\n",
    "cv2.waitKey(0)\n",
    "cv2.destroyAllWindows()"
   ]
  },
  {
   "cell_type": "markdown",
   "metadata": {},
   "source": [
    "![img](image.jpg)"
   ]
  },
  {
   "cell_type": "markdown",
   "metadata": {},
   "source": [
    "### ①ノイズ除去の意味\n",
    "画像の画質の低下や外部要因により画像に雑音が表示されたものをきれいに消すことです"
   ]
  },
  {
   "cell_type": "markdown",
   "metadata": {},
   "source": [
    "### ②ノイズ除去の使い方\n",
    "cv2.medianBlur(src, ksize)\n",
    "src – 1,3,4 channel image. depth가 CV_8U, CV_16U, or CV_32F なら ksize는 3または5, CV_8Uならもっと大きいksizeできる"
   ]
  },
  {
   "cell_type": "markdown",
   "metadata": {},
   "source": [
    "### ③ノイズ除去を使う理由\n",
    "すっきりとしたイメージをつくるため、映像認識作業の精度を上げるために使用すると思います。"
   ]
  },
  {
   "cell_type": "markdown",
   "metadata": {},
   "source": [
    "## 調べたページ\n",
    "https://opencv-python-tutroals.readthedocs.io/en/latest/py_tutorials/py_imgproc/py_filtering/py_filtering.html"
   ]
  },
  {
   "cell_type": "code",
   "execution_count": null,
   "metadata": {},
   "outputs": [],
   "source": []
  }
 ],
 "metadata": {
  "kernelspec": {
   "display_name": "Python 3",
   "language": "python",
   "name": "python3"
  },
  "language_info": {
   "codemirror_mode": {
    "name": "ipython",
    "version": 3
   },
   "file_extension": ".py",
   "mimetype": "text/x-python",
   "name": "python",
   "nbconvert_exporter": "python",
   "pygments_lexer": "ipython3",
   "version": "3.8.3"
  }
 },
 "nbformat": 4,
 "nbformat_minor": 4
}
