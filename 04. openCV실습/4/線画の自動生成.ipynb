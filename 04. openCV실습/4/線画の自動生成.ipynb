{
 "cells": [
  {
   "cell_type": "code",
   "execution_count": 19,
   "metadata": {},
   "outputs": [],
   "source": [
    "import cv2\n",
    "import numpy as np\n",
    "\n",
    "imgGet = cv2.imread('./pika.jpg')\n",
    "\n",
    "gray = cv2.cvtColor(imgGet, cv2.COLOR_RGB2GRAY)\n",
    "ret,thr = cv2.threshold(gray,100,255,cv2.THRESH_BINARY)\n",
    "kernel = np.ones((5,5),np.uint8)\n",
    "reversal = cv2.erode(thr,kernel,iterations = 3)\n",
    "\n",
    "edges = cv2.Canny(reversal,200,300)\n",
    "\n",
    "reversal2 = cv2.bitwise_not(edges)\n",
    "\n",
    "cv2.imshow('gray',gray)\n",
    "cv2.imshow('reversal',reversal2)       \n",
    "\n",
    "cv2.waitKey(0)\n",
    "cv2.destroyAllWindows()"
   ]
  },
  {
   "cell_type": "markdown",
   "metadata": {},
   "source": [
    "![img1](img1.png)"
   ]
  },
  {
   "cell_type": "markdown",
   "metadata": {},
   "source": [
    "## 調べたページ\n",
    "https://opencv-python-tutroals.readthedocs.io/en/latest/py_tutorials/py_imgproc/py_canny/py_canny.html#canny<br>\n",
    "https://opencv-python-tutroals.readthedocs.io/en/latest/py_tutorials/py_imgproc/py_morphological_ops/py_morphological_ops.html"
   ]
  },
  {
   "cell_type": "code",
   "execution_count": null,
   "metadata": {},
   "outputs": [],
   "source": []
  }
 ],
 "metadata": {
  "kernelspec": {
   "display_name": "Python 3",
   "language": "python",
   "name": "python3"
  },
  "language_info": {
   "codemirror_mode": {
    "name": "ipython",
    "version": 3
   },
   "file_extension": ".py",
   "mimetype": "text/x-python",
   "name": "python",
   "nbconvert_exporter": "python",
   "pygments_lexer": "ipython3",
   "version": "3.8.3"
  }
 },
 "nbformat": 4,
 "nbformat_minor": 4
}
