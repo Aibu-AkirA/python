{
 "cells": [
  {
   "cell_type": "code",
   "execution_count": 1,
   "metadata": {},
   "outputs": [],
   "source": [
    "import cv2\n",
    "import numpy as np\n",
    "\n",
    "imgGet = cv2.imread('./pika.jpg')\n",
    "\n",
    "gray = cv2.cvtColor(imgGet, cv2.COLOR_RGB2GRAY)\n",
    "\n",
    "ret,thr1st = cv2.threshold(gray,170,255,cv2.THRESH_TOZERO_INV)\n",
    "\n",
    "yarg = cv2.bitwise_not(thr1st)\n",
    "cv2.imshow('thr1st',thr1st)\n",
    "cv2.imshow('gray',gray)\n",
    "cv2.imshow('yarg',yarg)\n",
    "cv2.waitKey(0)\n",
    "cv2.destroyAllWindows()"
   ]
  },
  {
   "cell_type": "markdown",
   "metadata": {},
   "source": [
    "![img](./image1.jpg)"
   ]
  },
  {
   "cell_type": "markdown",
   "metadata": {},
   "source": [
    "# ふが要望"
   ]
  },
  {
   "cell_type": "markdown",
   "metadata": {},
   "source": [
    "## 閾値の意味\n",
    "\n",
    "しきい値、しきい値とも言う。<br>\n",
    "thershold_value基準で状況が急激に変化することを示す。<br>\n",
    "例えば、四捨五入するとき0.5より小さければ0、大きければ1と表現するときのしきい値は0.5。<br>\n",
    "これをイメージに適用したもの<br>"
   ]
  },
  {
   "cell_type": "markdown",
   "metadata": {},
   "source": [
    "### 閾値の使い方"
   ]
  },
  {
   "cell_type": "markdown",
   "metadata": {},
   "source": [
    "### cv2.threshold(img, threshold_value, value, flag)\n",
    "\n",
    "cv2.THRESH_BINARY<br>\n",
    "ピクセル値がthreshold_valueより大きければvalue、小さければ0<br>\n",
    "\n",
    "cv2.THRESH_BINARY_INV<br>\n",
    "ピクセル値がthreshold_valueより大きければ0、小さければvalue<br>\n",
    "\n",
    "cv2.THRESH_TRUNC<br>\n",
    "ピクセル値がthreshold_valueより大きければthreshold_value、小さければピクセル値そのままで<br>\n",
    "\n",
    "cv2.THRESH_TOZERO<br>\n",
    "ピクセル値がthreshold_valueより大きければピクセル値のまま、小さければ0<br>\n",
    "\n",
    "cv2.THRESH_TOZERO_INV<br>\n",
    "ピクセル値がthreshold_valueより大きければ0、小さければピクセル値のまま<br>"
   ]
  },
  {
   "cell_type": "markdown",
   "metadata": {},
   "source": [
    "### 閾値を使う理由\n",
    "\n",
    "もし、白いbackgroundであるイメージの場合、しきい値でbackgroundを処理しないと、backgroundも真っ黒になるからと思います。\n"
   ]
  },
  {
   "cell_type": "markdown",
   "metadata": {},
   "source": [
    "### 出典\n",
    "https://opencv-python-tutroals.readthedocs.io/en/latest/py_tutorials/py_imgproc/py_thresholding/py_thresholding.html\n",
    "<br>\n",
    "閾値を使う理由は自分の考えです。"
   ]
  },
  {
   "cell_type": "code",
   "execution_count": null,
   "metadata": {},
   "outputs": [],
   "source": []
  }
 ],
 "metadata": {
  "kernelspec": {
   "display_name": "Python 3",
   "language": "python",
   "name": "python3"
  },
  "language_info": {
   "codemirror_mode": {
    "name": "ipython",
    "version": 3
   },
   "file_extension": ".py",
   "mimetype": "text/x-python",
   "name": "python",
   "nbconvert_exporter": "python",
   "pygments_lexer": "ipython3",
   "version": "3.8.3"
  }
 },
 "nbformat": 4,
 "nbformat_minor": 4
}
