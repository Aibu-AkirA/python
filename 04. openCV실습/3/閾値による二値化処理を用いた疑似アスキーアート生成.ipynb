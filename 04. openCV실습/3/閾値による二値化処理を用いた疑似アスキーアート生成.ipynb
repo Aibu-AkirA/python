{
 "cells": [
  {
   "cell_type": "code",
   "execution_count": 1,
   "metadata": {},
   "outputs": [],
   "source": [
    "import cv2\n",
    "import numpy as np\n",
    "\n",
    "imgGet = cv2.imread('./pika.jpg')\n",
    "\n",
    "gray = cv2.cvtColor(imgGet, cv2.COLOR_RGB2GRAY)\n",
    "gray = cv2.bitwise_not(gray)\n",
    "\n",
    "\n",
    "ret,thr = cv2.threshold(gray,127,255,cv2.THRESH_BINARY)\n",
    "ret2,thr2 = cv2.threshold(gray,127,8,cv2.THRESH_BINARY)\n",
    "\n",
    "#---------textをイメージに表示するコードです--------------\n",
    "imgSize = np.shape(thr2)\n",
    "thrText = np.full((imgSize[0], imgSize[1], 3),(255, 255, 255), np.uint8)\n",
    "\n",
    "\n",
    "for y in range(imgSize[0]):\n",
    "    for x in range(imgSize[1]):\n",
    "        cv2.putText(thrText, str(thr2[y][x]), (x,y), cv2.FONT_HERSHEY_SIMPLEX, 0.00001, (0,0,0), 1, cv2.LINE_AA)\n",
    "#----------------------------------------------------------\n",
    "      \n",
    "#-----------------テキストファイルに保存--------------------\n",
    "file = open('akisuto.txt','w')\n",
    "text= ''\n",
    "\n",
    "for i in thr2:\n",
    "    for j in i:\n",
    "        text= text+str(j)\n",
    "    text = text + \"\\n\"\n",
    "\n",
    "file.writelines(text)\n",
    "file.close\n",
    "#----------------------------------------------------------\n",
    "        \n",
    "cv2.imshow('gray',gray)       \n",
    "cv2.imshow('thr',thr)\n",
    "cv2.imshow('thrText',thrText)\n",
    "cv2.waitKey(0)\n",
    "cv2.destroyAllWindows()"
   ]
  },
  {
   "cell_type": "markdown",
   "metadata": {},
   "source": [
    "## 結果です。色反転、二値化、テキストの順番です。\n",
    "\n",
    "![img1](img1.png)\n"
   ]
  },
  {
   "cell_type": "markdown",
   "metadata": {},
   "source": [
    "## メモ帳で保存したことです。\n",
    "![img2](img2.png)"
   ]
  },
  {
   "cell_type": "markdown",
   "metadata": {},
   "source": [
    "## 耳の部分を拡大すると、\n",
    "![img3](img3.png)"
   ]
  },
  {
   "cell_type": "markdown",
   "metadata": {},
   "source": [
    "## このように数字が見えます。"
   ]
  },
  {
   "cell_type": "markdown",
   "metadata": {},
   "source": [
    "### 二値化の意味\n",
    "\n",
    "二値化は一つの基準を決めて全ての値を2種類に変わることです。"
   ]
  },
  {
   "cell_type": "markdown",
   "metadata": {},
   "source": [
    "### 二値化の使い方\n",
    "### cv2.threshold(img, threshold_value, value, cv2.THRESH_BINARY)\n",
    "ピクセル値がthreshold_valueより大きければvalue、小さければ0"
   ]
  },
  {
   "cell_type": "markdown",
   "metadata": {},
   "source": [
    "### 二値化を使う理由\n",
    "ここではイメージの色の情報を用いて似合うテキストに変わって表示しています。\n",
    "その時、テキストの単純化をするために二値化を使います。"
   ]
  },
  {
   "cell_type": "code",
   "execution_count": null,
   "metadata": {},
   "outputs": [],
   "source": []
  }
 ],
 "metadata": {
  "kernelspec": {
   "display_name": "Python 3",
   "language": "python",
   "name": "python3"
  },
  "language_info": {
   "codemirror_mode": {
    "name": "ipython",
    "version": 3
   },
   "file_extension": ".py",
   "mimetype": "text/x-python",
   "name": "python",
   "nbconvert_exporter": "python",
   "pygments_lexer": "ipython3",
   "version": "3.8.3"
  }
 },
 "nbformat": 4,
 "nbformat_minor": 4
}
