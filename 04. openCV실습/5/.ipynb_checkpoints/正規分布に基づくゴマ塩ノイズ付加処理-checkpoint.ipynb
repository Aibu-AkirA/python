{
 "cells": [
  {
   "cell_type": "code",
   "execution_count": 1,
   "metadata": {},
   "outputs": [],
   "source": [
    "import cv2\n",
    "import numpy as np\n",
    "\n",
    "imgGet = cv2.imread('./akira.jpg')\n",
    "\n",
    "def addsalt_pepper(img, SNR):\n",
    "    img_ = img.copy()\n",
    "    c, h, w = img_.shape\n",
    "    mask = np.random.choice((0, 1, 2), size=(1, h, w), p=[SNR, (1 - SNR) / 2., (1 - SNR) / 2.])\n",
    "    mask = np.repeat(mask, c, axis=0) \n",
    "    img_[mask == 1] = 255 \n",
    "    img_[mask == 2] = 0 \n",
    "\n",
    "    return img_\n",
    "\n",
    "img_s = addsalt_pepper(imgGet.transpose(2, 1, 0), 0.7)\n",
    "img_s = img_s.transpose(2, 1, 0)\n",
    "\n",
    "cv2.imshow('img_',img_s)\n",
    "cv2.imshow('imgGet',imgGet)       \n",
    "cv2.imwrite('./saltAndPepper.jpg', img_s)\n",
    "cv2.waitKey(0)\n",
    "cv2.destroyAllWindows()"
   ]
  },
  {
   "cell_type": "markdown",
   "metadata": {},
   "source": [
    "![img](image.jpg)"
   ]
  },
  {
   "cell_type": "markdown",
   "metadata": {},
   "source": [
    "## 調べたページ\n",
    "https://www.programmersought.com/article/3363136769/"
   ]
  },
  {
   "cell_type": "code",
   "execution_count": null,
   "metadata": {},
   "outputs": [],
   "source": []
  }
 ],
 "metadata": {
  "kernelspec": {
   "display_name": "Python 3",
   "language": "python",
   "name": "python3"
  },
  "language_info": {
   "codemirror_mode": {
    "name": "ipython",
    "version": 3
   },
   "file_extension": ".py",
   "mimetype": "text/x-python",
   "name": "python",
   "nbconvert_exporter": "python",
   "pygments_lexer": "ipython3",
   "version": "3.8.3"
  }
 },
 "nbformat": 4,
 "nbformat_minor": 4
}
