{
 "cells": [
  {
   "cell_type": "code",
   "execution_count": 1,
   "metadata": {},
   "outputs": [],
   "source": [
    "paragraph = \"Bob hit a ball, the hit Ball flew far ater it was hit.\""
   ]
  },
  {
   "cell_type": "code",
   "execution_count": 2,
   "metadata": {},
   "outputs": [],
   "source": [
    "banned = ['hit']"
   ]
  },
  {
   "cell_type": "code",
   "execution_count": 13,
   "metadata": {},
   "outputs": [],
   "source": [
    "import collections\n",
    "import re\n",
    "\n",
    "def mostCommonWord(paragraph: str, banned: list):\n",
    "    words = [word for word in re.sub(r'[^\\w]',' ', paragraph)\n",
    "            .lower().split()\n",
    "                if word not in banned]\n",
    "    \n",
    "    counts = collections.Counter(words) #listの中で何が何個あるかディクショナリーで保存します。\n",
    "\n",
    "    return counts.most_common(1)[0][0]"
   ]
  },
  {
   "cell_type": "code",
   "execution_count": 14,
   "metadata": {},
   "outputs": [
    {
     "data": {
      "text/plain": [
       "'ball'"
      ]
     },
     "execution_count": 14,
     "metadata": {},
     "output_type": "execute_result"
    }
   ],
   "source": [
    "mostCommonWord(paragraph, banned)"
   ]
  },
  {
   "cell_type": "code",
   "execution_count": 18,
   "metadata": {},
   "outputs": [],
   "source": [
    "def mostCommonWord2(paragraph: str, banned: list):\n",
    "    words = [word for word in re.sub(r'[^\\w]',' ', paragraph)\n",
    "            .lower().split()\n",
    "                if word not in banned]\n",
    "    \n",
    "    counts = collections.Counter(words) #listの中で何が何個あるかディクショナリーで保存します。\n",
    "    \n",
    "    duplicateCounts=''\n",
    "    \n",
    "    for i in range(len(counts)):\n",
    "        if counts.most_common()[i][1] == counts.most_common(1)[0][1]:\n",
    "            duplicateCounts += counts.most_common()[i][0]+\", \"\n",
    "    \n",
    "    \n",
    "    return duplicateCounts[:-2]"
   ]
  },
  {
   "cell_type": "code",
   "execution_count": 19,
   "metadata": {},
   "outputs": [],
   "source": [
    "paragraph2 = \"car car car boy boy boy air air air\"\n",
    "banned2 = ['car']"
   ]
  },
  {
   "cell_type": "code",
   "execution_count": 20,
   "metadata": {},
   "outputs": [
    {
     "data": {
      "text/plain": [
       "'boy, air'"
      ]
     },
     "execution_count": 20,
     "metadata": {},
     "output_type": "execute_result"
    }
   ],
   "source": [
    "mostCommonWord2(paragraph2, banned2)"
   ]
  },
  {
   "cell_type": "code",
   "execution_count": null,
   "metadata": {},
   "outputs": [],
   "source": []
  }
 ],
 "metadata": {
  "kernelspec": {
   "display_name": "Python 3",
   "language": "python",
   "name": "python3"
  },
  "language_info": {
   "codemirror_mode": {
    "name": "ipython",
    "version": 3
   },
   "file_extension": ".py",
   "mimetype": "text/x-python",
   "name": "python",
   "nbconvert_exporter": "python",
   "pygments_lexer": "ipython3",
   "version": "3.8.3"
  }
 },
 "nbformat": 4,
 "nbformat_minor": 4
}
