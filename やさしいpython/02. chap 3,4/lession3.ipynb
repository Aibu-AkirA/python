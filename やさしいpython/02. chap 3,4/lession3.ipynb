{
 "cells": [
  {
   "cell_type": "code",
   "execution_count": 3,
   "metadata": {},
   "outputs": [
    {
     "name": "stdout",
     "output_type": "stream",
     "text": [
      "あなたは何才ですか23\n",
      "あなたは 23 才です\n"
     ]
    }
   ],
   "source": [
    "age = input(\"あなたは何才ですか\")\n",
    "print(\"あなたは\",age,\"才です\")"
   ]
  },
  {
   "cell_type": "code",
   "execution_count": 1,
   "metadata": {},
   "outputs": [
    {
     "name": "stdout",
     "output_type": "stream",
     "text": [
      "身長を入力してください。165.2\n",
      "体重を入力してください。52.5\n",
      "身長は 165.2 センチです。\n",
      "体重は 52.5 キロです。\n"
     ]
    }
   ],
   "source": [
    "height = float(input(\"身長を入力してください。\"))\n",
    "weight = float(input(\"体重を入力してください。\"))\n",
    "print(\"身長は\",height,\"センチです。\")\n",
    "print(\"体重は\",weight,\"キロです。\")"
   ]
  },
  {
   "cell_type": "code",
   "execution_count": null,
   "metadata": {},
   "outputs": [],
   "source": []
  }
 ],
 "metadata": {
  "kernelspec": {
   "display_name": "Python 3",
   "language": "python",
   "name": "python3"
  },
  "language_info": {
   "codemirror_mode": {
    "name": "ipython",
    "version": 3
   },
   "file_extension": ".py",
   "mimetype": "text/x-python",
   "name": "python",
   "nbconvert_exporter": "python",
   "pygments_lexer": "ipython3",
   "version": "3.8.3"
  }
 },
 "nbformat": 4,
 "nbformat_minor": 4
}
