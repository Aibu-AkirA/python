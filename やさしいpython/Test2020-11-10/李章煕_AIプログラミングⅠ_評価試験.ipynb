{
 "cells": [
  {
   "cell_type": "markdown",
   "metadata": {},
   "source": [
    "# 問題１（未知の問題に対してどう取り組むのかテスト）\n",
    "2進数、8進数、16進数の101を10進数で出力するコードを完成させなさい  \n",
    "コードは完成後実行して結果を出力すること"
   ]
  },
  {
   "cell_type": "code",
   "execution_count": 3,
   "metadata": {},
   "outputs": [
    {
     "name": "stdout",
     "output_type": "stream",
     "text": [
      "2進数の101は 5 です。\n",
      "8進数の101は 65 です。\n",
      "16進数の101は 257 です。\n"
     ]
    }
   ],
   "source": [
    "## 上に示した出力を行うコードを記述する\n",
    "print(\"2進数の101は\", 0b101, \"です。\")\n",
    "print(\"8進数の101は\", 0o101, \"です。\")\n",
    "print(\"16進数の101は\", 0x101, \"です。\")"
   ]
  },
  {
   "cell_type": "markdown",
   "metadata": {},
   "source": [
    "# 問題２（未知の問題に対してどう取り組むのかテスト）\n",
    "以下に示す出力を行うコードを記述しなさい  \n",
    "コードは完成後実行して結果を出力すること  \n",
    "  \n",
    "▲○▲○▲  \n",
    "○▲○▲○  \n",
    "▲○▲○▲  \n",
    "○▲○▲○  \n",
    "▲○▲○▲  "
   ]
  },
  {
   "cell_type": "code",
   "execution_count": 8,
   "metadata": {},
   "outputs": [
    {
     "name": "stdout",
     "output_type": "stream",
     "text": [
      "▲○▲○▲\n",
      "○▲○▲○\n",
      "▲○▲○▲\n",
      "○▲○▲○\n",
      "▲○▲○▲\n"
     ]
    }
   ],
   "source": [
    "## 上に示した出力を行うコードを記述する\n",
    "for i in range(5):\n",
    "    for j in range(5):\n",
    "        if((i+j)%2==0):\n",
    "            print(\"▲\",end=\"\")\n",
    "        else:\n",
    "            print(\"○\",end=\"\")\n",
    "    print()"
   ]
  },
  {
   "cell_type": "markdown",
   "metadata": {},
   "source": [
    "# 問題３（未知の問題に対してどう取り組むのかテスト）\n",
    "以下の入出力を行う関数func(price)を作成し、下のコードを完成させなさい  \n",
    "コードは完成後実行して結果を出力すること\n",
    "\n",
    "* 関数：**func(price)**\n",
    "    * 入力(引数)\n",
    "        * price:金額（単位：円、整数）  \n",
    "    * 出力（戻り値）\n",
    "        * 税込金額（単位：円、整数、税率は10%）  \n",
    "        （ただし、小数点以下の金額は切り捨てとする）\n",
    "\n",
    "\n",
    "* プログラム実行時の出力\n",
    "```\n",
    "税込金額は 165 円です\n",
    "```"
   ]
  },
  {
   "cell_type": "code",
   "execution_count": 11,
   "metadata": {},
   "outputs": [
    {
     "name": "stdout",
     "output_type": "stream",
     "text": [
      "税込金額は 165 円です\n"
     ]
    }
   ],
   "source": [
    "## 上に示した出力を行うコードを記述する\n",
    "def func(price):\n",
    "    print(\"税込金額は\",int(price*1.1) ,\"円です\")\n",
    "\n",
    "p=150\n",
    "func(p)"
   ]
  },
  {
   "cell_type": "markdown",
   "metadata": {},
   "source": [
    "# 問題４（平成６年度　AIプログラミングⅠ　評価試験（^ω^））\n",
    "２０を３で割って得られる商を余りでべき乗すると、値はいくつになりますか？組み込み関数を用いて一行で書くこと。"
   ]
  },
  {
   "cell_type": "code",
   "execution_count": 13,
   "metadata": {},
   "outputs": [
    {
     "data": {
      "text/plain": [
       "36"
      ]
     },
     "execution_count": 13,
     "metadata": {},
     "output_type": "execute_result"
    }
   ],
   "source": [
    "## 上に示した出力を行うコードを記述する\n",
    "pow(*divmod(20,3))"
   ]
  },
  {
   "cell_type": "markdown",
   "metadata": {},
   "source": [
    "# 問題５（平成６年度　AIプログラミングⅠ　評価試験（^ω^））\n",
    "## 問題文\n",
    "整数を格納したリストのすべての要素を、文字列に変換するコードを書いてください。sample_list = [2,3,4]などとして、適当なデータを用意してください。\n",
    "\n",
    "## 出力例\n",
    "['2', '3', '4']"
   ]
  },
  {
   "cell_type": "code",
   "execution_count": 14,
   "metadata": {},
   "outputs": [
    {
     "data": {
      "text/plain": [
       "['2', '3', '4']"
      ]
     },
     "execution_count": 14,
     "metadata": {},
     "output_type": "execute_result"
    }
   ],
   "source": [
    "## 上に示した出力を行うコードを記述する\n",
    "numList = [2,3,4]\n",
    "list(map(str, numList))"
   ]
  },
  {
   "cell_type": "markdown",
   "metadata": {},
   "source": [
    "# 問題６（平成６年度　AIプログラミングⅠ　評価試験（^ω^））\n",
    "## 問題文\n",
    "任意の数の単語と、区切り文字separatorを受け取り、区切り文字でつなげる関数concat_wordsを作成してください。  \n",
    "関数を用いて下記内容の一例を確認しなさい。\n",
    "## 入力と出力の一例\n",
    "～入力～  \n",
    "引数：'a','b','c'  \n",
    "区切り文字:'_'  \n",
    "～出力～  \n",
    "出力:'a_b_c'  \n",
    "～入力～  \n",
    "引数：hoge', 'fuga', 'piyo'  \n",
    "区切り文字:'(^ω^)'  \n",
    "～出力～  \n",
    "出力:'hoge(^ω^)fuga(^ω^)piyo' \n"
   ]
  },
  {
   "cell_type": "code",
   "execution_count": 18,
   "metadata": {},
   "outputs": [],
   "source": [
    "## 上に示した出力を行うコードを記述する\n",
    "def concat_words(*args, spearator='.'):\n",
    "    return spearator.join(args)\n"
   ]
  },
  {
   "cell_type": "code",
   "execution_count": 19,
   "metadata": {},
   "outputs": [
    {
     "data": {
      "text/plain": [
       "'a_b_c'"
      ]
     },
     "execution_count": 19,
     "metadata": {},
     "output_type": "execute_result"
    }
   ],
   "source": [
    "concat_words('a','b','c', spearator='_')"
   ]
  },
  {
   "cell_type": "code",
   "execution_count": 20,
   "metadata": {},
   "outputs": [
    {
     "data": {
      "text/plain": [
       "'hoge(^ω^)fuga(^ω^)piyo'"
      ]
     },
     "execution_count": 20,
     "metadata": {},
     "output_type": "execute_result"
    }
   ],
   "source": [
    "concat_words('hoge', 'fuga', 'piyo', spearator='(^ω^)')"
   ]
  },
  {
   "cell_type": "markdown",
   "metadata": {},
   "source": [
    "# 問題７（エクストラほげ問題）\n",
    "### 問題文\n",
    "  \n",
    "①$\\pi<\\theta<\\frac{3}{2}\\pi$とする。$cos\\theta = -\\frac{3}{4}$のとき、$sin\\theta$と$tan\\theta$の値を求めよ\n",
    "  \n",
    "②$0<\\theta<\\pi$とする。$tan\\theta = -3$のとき、$sin\\theta$と$cos\\theta$の値を求めよ"
   ]
  },
  {
   "cell_type": "code",
   "execution_count": 7,
   "metadata": {},
   "outputs": [],
   "source": [
    "## 上記の問題の答えを入力\n",
    "## ①\n",
    "## sinΘ = - √7/4\n",
    "## tanΘ = √7/3\n",
    "## ②\n",
    "## sinΘ = 3√10/10\n",
    "## cosΘ = -√10/10"
   ]
  },
  {
   "cell_type": "markdown",
   "metadata": {},
   "source": [
    "# 問題８（エクストラがんばれ問題）\n",
    "以下の文字列をint型のリストとして出力してください  \n",
    "str = \"1 2 3 4 5\""
   ]
  },
  {
   "cell_type": "code",
   "execution_count": 23,
   "metadata": {},
   "outputs": [
    {
     "data": {
      "text/plain": [
       "[1, 2, 3, 4, 5]"
      ]
     },
     "execution_count": 23,
     "metadata": {},
     "output_type": "execute_result"
    }
   ],
   "source": [
    "## 上に示した出力を行うコードを記述する\n",
    "str = \"1 2 3 4 5\"\n",
    "str = str.split()\n",
    "str = list(map(int, str))\n",
    "str"
   ]
  },
  {
   "cell_type": "markdown",
   "metadata": {},
   "source": [
    "# 問題９（ほげ要望）\n",
    "１データベースを作成して、すべての行を表示してください。 \n",
    "\n",
    "|name（商品名）|num（在庫）|\n",
    "| ---- | ---- |\n",
    "|みかん|80|\n",
    "|いちご|60|\n",
    "|りんご|22|\n",
    "|もも|50|\n",
    "|くり|75|\n",
    "  \n",
    "出力例  \n",
    "（みかん、80）  \n",
    "（いちご、60）  \n",
    "（りんご、22）  \n",
    "（もも、50）  \n",
    "（くり、75）  "
   ]
  },
  {
   "cell_type": "code",
   "execution_count": 21,
   "metadata": {},
   "outputs": [
    {
     "name": "stdout",
     "output_type": "stream",
     "text": [
      "('みかん', 80)\n",
      "('いちご', 60)\n",
      "('りんご', 22)\n",
      "('もも', 50)\n",
      "('くり', 75)\n"
     ]
    }
   ],
   "source": [
    "## 上に示した出力を行うコードを記述する\n",
    "import sqlite3\n",
    "\n",
    "conn = sqlite3.connect(\"pdb.db\")\n",
    "\n",
    "c = conn.cursor()\n",
    "\n",
    "c.execute(\"DROP TABLE IF EXISTS product\")\n",
    "\n",
    "c.execute(\"CREATE TABLE product(name CHAR(20), num INT)\")\n",
    "c.execute(\"INSERT INTO product VALUES('みかん', 80)\")\n",
    "c.execute(\"INSERT INTO product VALUES('いちご', 60)\")\n",
    "c.execute(\"INSERT INTO product VALUES('りんご', 22)\")\n",
    "c.execute(\"INSERT INTO product VALUES('もも', 50)\")\n",
    "c.execute(\"INSERT INTO product VALUES('くり', 75)\")\n",
    "\n",
    "conn.commit()\n",
    "\n",
    "itr = c.execute(\"SELECT * FROM product\")\n",
    "\n",
    "for row in itr:\n",
    "    print(row)\n",
    "\n",
    "conn.close()"
   ]
  },
  {
   "cell_type": "markdown",
   "metadata": {},
   "source": [
    "# 問題１０（ほげ要望）\n",
    "２上記のデータベースで、在庫が３０以下の行を表示してください。   \n",
    "出力例  \n",
    "（りんご、22） "
   ]
  },
  {
   "cell_type": "code",
   "execution_count": 22,
   "metadata": {},
   "outputs": [
    {
     "name": "stdout",
     "output_type": "stream",
     "text": [
      "('りんご', 22)\n"
     ]
    }
   ],
   "source": [
    "## 上に示した出力を行うコードを記述する\n",
    "import sqlite3\n",
    "\n",
    "conn = sqlite3.connect(\"pdb.db\")\n",
    "\n",
    "c = conn.cursor()\n",
    "\n",
    "c.execute(\"DROP TABLE IF EXISTS product\")\n",
    "\n",
    "c.execute(\"CREATE TABLE product(name CHAR(20), num INT)\")\n",
    "c.execute(\"INSERT INTO product VALUES('みかん', 80)\")\n",
    "c.execute(\"INSERT INTO product VALUES('いちご', 60)\")\n",
    "c.execute(\"INSERT INTO product VALUES('りんご', 22)\")\n",
    "c.execute(\"INSERT INTO product VALUES('もも', 50)\")\n",
    "c.execute(\"INSERT INTO product VALUES('くり', 75)\")\n",
    "\n",
    "conn.commit()\n",
    "\n",
    "itr = c.execute(\"SELECT * FROM product WHERE num <= 30\")\n",
    "\n",
    "for row in itr:\n",
    "    print(row)\n",
    "\n",
    "conn.close()"
   ]
  },
  {
   "cell_type": "markdown",
   "metadata": {},
   "source": [
    "# 今回はエクストラぽむぽむ問題は登場しませんでした。三上さんごめん\n",
    "# 皆さんお疲れさまでした。"
   ]
  }
 ],
 "metadata": {
  "kernelspec": {
   "display_name": "Python 3",
   "language": "python",
   "name": "python3"
  },
  "language_info": {
   "codemirror_mode": {
    "name": "ipython",
    "version": 3
   },
   "file_extension": ".py",
   "mimetype": "text/x-python",
   "name": "python",
   "nbconvert_exporter": "python",
   "pygments_lexer": "ipython3",
   "version": "3.8.3"
  }
 },
 "nbformat": 4,
 "nbformat_minor": 4
}
