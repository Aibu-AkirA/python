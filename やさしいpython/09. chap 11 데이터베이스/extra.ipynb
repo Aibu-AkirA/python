{
 "cells": [
  {
   "cell_type": "code",
   "execution_count": 23,
   "metadata": {},
   "outputs": [
    {
     "name": "stdout",
     "output_type": "stream",
     "text": [
      "('ラーメン', 20200523)\n",
      "('うどん', 20200825)\n",
      "('焼肉', 20201011)\n"
     ]
    }
   ],
   "source": [
    "import sqlite3\n",
    "\n",
    "conn = sqlite3.connect(\"pdb.db\")\n",
    "\n",
    "c = conn.cursor()\n",
    "\n",
    "c.execute(\"DROP TABLE IF EXISTS FoodDiary\")\n",
    "\n",
    "c.execute(\"CREATE TABLE FoodDiary(name CHAR(20), days DATE)\")\n",
    "c.execute(\"INSERT INTO FoodDiary VALUES('ラーメン', 20200523)\")\n",
    "c.execute(\"INSERT INTO FoodDiary VALUES('うどん', 20200825)\")\n",
    "c.execute(\"INSERT INTO FoodDiary VALUES('焼肉', 20201011)\")\n",
    "\n",
    "conn.commit()\n",
    "\n",
    "itr = c.execute(\"SELECT * FROM FoodDiary\")\n",
    "\n",
    "for row in itr:\n",
    "    print(row)\n",
    "\n",
    "conn.close()"
   ]
  },
  {
   "cell_type": "code",
   "execution_count": 26,
   "metadata": {},
   "outputs": [
    {
     "name": "stdout",
     "output_type": "stream",
     "text": [
      "機能を入力追加\n",
      "食べ物を入力:シナモンロール\n",
      "日付を入力:20201012\n",
      "('ラーメン', 20200523)\n",
      "('うどん', 20200825)\n",
      "('焼肉', 20201011)\n",
      "('シナモンロール', 20201012)\n"
     ]
    }
   ],
   "source": [
    "#各if文の中を自由に書いて完成させてね\n",
    "import sqlite3\n",
    "conn = sqlite3.connect(\"pdb.db\")\n",
    "\n",
    "c = conn.cursor()\n",
    "\n",
    "f = input(\"機能を入力\")\n",
    "if f == \"追加\":\n",
    "    food = input(\"食べ物を入力:\")\n",
    "    day = input(\"日付を入力:\")\n",
    "    c.execute(\"INSERT INTO FoodDiary VALUES(?,?)\", (food, day))\n",
    "    itr = c.execute(\"SELECT * FROM FoodDiary\")\n",
    "elif f == \"削除\":\n",
    "    delFood = input(\"削除したい食べ物を入力:\")\n",
    "    c.execute(\"DELETE FROM FoodDiary WHERE name=(?)\", (delFood,))\n",
    "    itr = c.execute(\"SELECT * FROM FoodDiary\")\n",
    "elif f == \"食履歴\":\n",
    "    eatDay = int(input(\"表示したい日付を入力:\"))\n",
    "    itr = c.execute(\"SELECT * FROM FoodDiary WHERE days=(?)\", (eatDay,))\n",
    "\n",
    "for row in itr:\n",
    "    print(row)\n",
    "conn.close()"
   ]
  },
  {
   "cell_type": "code",
   "execution_count": 27,
   "metadata": {},
   "outputs": [
    {
     "data": {
      "image/png": "[encoded data removed]",
      "text/plain": [
       "<Figure size 432x288 with 2 Axes>"
      ]
     },
     "metadata": {
      "needs_background": "light"
     },
     "output_type": "display_data"
    }
   ],
   "source": [
    "#このコードの一部を書き換えて、上にf(t)=sin(t),下にf(t)=cos(t)のグラフを表示してみてね\n",
    "import numpy as np\n",
    "import matplotlib.pyplot as plt\n",
    "#横軸\n",
    "t = np.arange(0.0, np.pi*4, 0.05)\n",
    "\n",
    "plt.figure(1)\n",
    "ax = plt.subplot(211)\n",
    "ax.plot(t, np.pi*t, 'k')\n",
    "\n",
    "ax = plt.subplot(212)\n",
    "ax.plot(t, np.sqrt(t), 'r--')\n",
    "plt.show()"
   ]
  },
  {
   "cell_type": "code",
   "execution_count": null,
   "metadata": {},
   "outputs": [],
   "source": []
  }
 ],
 "metadata": {
  "kernelspec": {
   "display_name": "Python 3",
   "language": "python",
   "name": "python3"
  },
  "language_info": {
   "codemirror_mode": {
    "name": "ipython",
    "version": 3
   },
   "file_extension": ".py",
   "mimetype": "text/x-python",
   "name": "python",
   "nbconvert_exporter": "python",
   "pygments_lexer": "ipython3",
   "version": "3.8.3"
  }
 },
 "nbformat": 4,
 "nbformat_minor": 4
}
