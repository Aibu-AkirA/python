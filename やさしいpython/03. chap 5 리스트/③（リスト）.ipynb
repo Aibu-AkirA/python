{
 "cells": [
  {
   "cell_type": "markdown",
   "metadata": {},
   "source": [
    "# ③（リスト）"
   ]
  },
  {
   "cell_type": "markdown",
   "metadata": {},
   "source": [
    "# Lesson5"
   ]
  },
  {
   "cell_type": "markdown",
   "metadata": {},
   "source": [
    "### 構文（リストの作成）\n",
    "```Python\n",
    "<リスト名> = [<値1>, <値2>, ・・・]\n",
    "```"
   ]
  },
  {
   "cell_type": "markdown",
   "metadata": {},
   "source": [
    "### Sample1.py"
   ]
  },
  {
   "cell_type": "code",
   "execution_count": 1,
   "metadata": {},
   "outputs": [
    {
     "name": "stdout",
     "output_type": "stream",
     "text": [
      "[80, 60, 22, 50, 75]\n"
     ]
    }
   ],
   "source": [
    "sale = [80, 60, 22, 50, 75]\n",
    "\n",
    "print(sale)"
   ]
  },
  {
   "cell_type": "code",
   "execution_count": 1,
   "metadata": {},
   "outputs": [
    {
     "name": "stdout",
     "output_type": "stream",
     "text": [
      "[0, 1, 1, 2, 3, 5]\n"
     ]
    }
   ],
   "source": [
    "sale = [0,1,1,\n",
    "        2,3,5]\n",
    "\n",
    "print(sale)"
   ]
  },
  {
   "cell_type": "markdown",
   "metadata": {},
   "source": [
    "### 構文（リストの長さ）\n",
    "```Python\n",
    "len(<リスト名>)\n",
    "```"
   ]
  },
  {
   "cell_type": "markdown",
   "metadata": {},
   "source": [
    "### Sample2.py"
   ]
  },
  {
   "cell_type": "code",
   "execution_count": 2,
   "metadata": {},
   "outputs": [
    {
     "name": "stdout",
     "output_type": "stream",
     "text": [
      "80\n",
      "60\n",
      "22\n",
      "50\n",
      "75\n",
      "リストの長さは 5 です。\n"
     ]
    }
   ],
   "source": [
    "sale = [80, 60, 22, 50, 75]\n",
    "\n",
    "print(sale[0])\n",
    "print(sale[1])\n",
    "print(sale[2])\n",
    "print(sale[3])\n",
    "print(sale[4])\n",
    "\n",
    "print(\"リストの長さは\", len(sale), \"です。\")"
   ]
  },
  {
   "cell_type": "markdown",
   "metadata": {},
   "source": [
    "### 構文（for文）\n",
    "``` Python\n",
    "for <変数> in <リスト>:\n",
    "    <変数を使った処理>\n",
    "```"
   ]
  },
  {
   "cell_type": "markdown",
   "metadata": {},
   "source": [
    "### Sample3.py"
   ]
  },
  {
   "cell_type": "code",
   "execution_count": 5,
   "metadata": {},
   "outputs": [
    {
     "name": "stdout",
     "output_type": "stream",
     "text": [
      "80\n",
      "60\n",
      "22\n",
      "50\n",
      "75\n",
      "リストの長さは 5 です。\n"
     ]
    }
   ],
   "source": [
    "sale = [80, 60, 22, 50, 75]\n",
    "\n",
    "for s in sale:\n",
    "    print(s)\n",
    "\n",
    "print(\"リストの長さは\", len(sale), \"です。\")"
   ]
  },
  {
   "cell_type": "markdown",
   "metadata": {},
   "source": [
    "### Sample4.py"
   ]
  },
  {
   "cell_type": "code",
   "execution_count": 6,
   "metadata": {},
   "outputs": [
    {
     "name": "stdout",
     "output_type": "stream",
     "text": [
      "何番のデータを変更しますか？2\n",
      "変更後のデータを入力してください。50\n",
      "2 番のデータ 22 を変更します。\n",
      "2 番のデータは 50 に変更されました。\n"
     ]
    }
   ],
   "source": [
    "sale = [80, 60, 22, 50, 75]\n",
    "\n",
    "i = int(input(\"何番のデータを変更しますか？\"))\n",
    "num = int(input(\"変更後のデータを入力してください。\"))\n",
    "\n",
    "print(i, \"番のデータ\" , sale[i], \"を変更します。\")\n",
    "\n",
    "sale[i] = num\n",
    "\n",
    "print(i, \"番のデータは\", sale[i],  \"に変更されました。\")"
   ]
  },
  {
   "cell_type": "markdown",
   "metadata": {},
   "source": [
    "### 構文（リストへの要素の追加）\n",
    "``` Python\n",
    "<リスト名>.append(<値>)\n",
    "```"
   ]
  },
  {
   "cell_type": "markdown",
   "metadata": {},
   "source": [
    "### 構文（リストへの要素の挿入）\n",
    "``` Python\n",
    "<リスト名>.insert(<位置>,<値>)\n",
    "```"
   ]
  },
  {
   "cell_type": "markdown",
   "metadata": {},
   "source": [
    "### Sample5.py"
   ]
  },
  {
   "cell_type": "code",
   "execution_count": 7,
   "metadata": {},
   "outputs": [
    {
     "name": "stdout",
     "output_type": "stream",
     "text": [
      "現在のデータは [80, 60, 22, 50, 75] です。\n",
      "末尾に100を追加します。\n",
      "現在のデータは [80, 60, 22, 50, 75, 100] です。\n",
      "sale[2]に25を挿入します。\n",
      "現在のデータは [80, 60, 25, 22, 50, 75, 100] です。\n"
     ]
    }
   ],
   "source": [
    "sale = [80, 60, 22, 50, 75]\n",
    "print(\"現在のデータは\", sale, \"です。\")\n",
    "\n",
    "print(\"末尾に100を追加します。\")\n",
    "sale.append(100)\n",
    "print(\"現在のデータは\", sale, \"です。\")\n",
    "\n",
    "print(\"sale[2]に25を挿入します。\")\n",
    "sale.insert(2, 25)\n",
    "print(\"現在のデータは\", sale, \"です。\")"
   ]
  },
  {
   "cell_type": "markdown",
   "metadata": {},
   "source": [
    "### 構文（リストの要素の削除）\n",
    "```Python\n",
    "del <リスト名>[インデックス]\n",
    "```"
   ]
  },
  {
   "cell_type": "markdown",
   "metadata": {},
   "source": [
    "### 構文（リストの要素の削除（remove））\n",
    "```Python\n",
    "リスト名.remove(値)\n",
    "```"
   ]
  },
  {
   "cell_type": "markdown",
   "metadata": {},
   "source": [
    "### Sample6.py"
   ]
  },
  {
   "cell_type": "code",
   "execution_count": 8,
   "metadata": {},
   "outputs": [
    {
     "name": "stdout",
     "output_type": "stream",
     "text": [
      "現在のデータは [80, 60, 22, 50, 75] です。\n",
      "先頭のデータを削除します。\n",
      "現在のデータは [60, 22, 50, 75] です。\n",
      "22を削除します。\n",
      "現在のデータは [60, 50, 75] です。\n"
     ]
    }
   ],
   "source": [
    "sale = [80, 60, 22, 50, 75]\n",
    "print(\"現在のデータは\", sale, \"です。\")\n",
    "\n",
    "print(\"先頭のデータを削除します。\")\n",
    "del sale[0]\n",
    "print(\"現在のデータは\", sale, \"です。\")\n",
    "\n",
    "print(\"22を削除します。\")\n",
    "sale.remove(22)\n",
    "print(\"現在のデータは\", sale, \"です。\")"
   ]
  },
  {
   "cell_type": "markdown",
   "metadata": {},
   "source": [
    "### Sample7.py"
   ]
  },
  {
   "cell_type": "code",
   "execution_count": 9,
   "metadata": {},
   "outputs": [
    {
     "name": "stdout",
     "output_type": "stream",
     "text": [
      "data1は [1, 2, 3, 4, 5] です。\n",
      "data2は [1, 2, 3, 4, 5] です。\n",
      "data1を変更します。\n",
      "data1は [10, 2, 3, 4, 5] です。\n",
      "data2は [10, 2, 3, 4, 5] です。\n"
     ]
    }
   ],
   "source": [
    "data1 = [1,2,3,4,5]\n",
    "data2 = data1\n",
    "\n",
    "print(\"data1は\", data1, \"です。\")\n",
    "print(\"data2は\", data2, \"です。\")\n",
    "\n",
    "data1[0] = 10\n",
    "\n",
    "print(\"data1を変更します。\")\n",
    "\n",
    "print(\"data1は\", data1, \"です。\")\n",
    "print(\"data2は\", data2, \"です。\")"
   ]
  },
  {
   "cell_type": "markdown",
   "metadata": {},
   "source": [
    "### Sample8.py"
   ]
  },
  {
   "cell_type": "code",
   "execution_count": 10,
   "metadata": {},
   "outputs": [
    {
     "name": "stdout",
     "output_type": "stream",
     "text": [
      "data1は [1, 2, 3, 4, 5] です。\n",
      "data2は [1, 2, 3, 4, 5] です。\n",
      "data1を変更します。\n",
      "data1は [10, 2, 3, 4, 5] です。\n",
      "data2は [1, 2, 3, 4, 5] です。\n"
     ]
    }
   ],
   "source": [
    "data1 = [1,2,3,4,5]\n",
    "data2 = list(data1)\n",
    "\n",
    "print(\"data1は\", data1, \"です。\")\n",
    "print(\"data2は\", data2, \"です。\")\n",
    "\n",
    "data1[0] = 10\n",
    "\n",
    "print(\"data1を変更します。\")\n",
    "\n",
    "print(\"data1は\", data1, \"です。\")\n",
    "print(\"data2は\", data2, \"です。\")"
   ]
  },
  {
   "cell_type": "markdown",
   "metadata": {},
   "source": [
    "## 構文（コンストラクタ）\n",
    "```Python\n",
    "data = list()\n",
    "```"
   ]
  },
  {
   "cell_type": "markdown",
   "metadata": {},
   "source": [
    "### Sample9.py"
   ]
  },
  {
   "cell_type": "code",
   "execution_count": 1,
   "metadata": {},
   "outputs": [
    {
     "name": "stdout",
     "output_type": "stream",
     "text": [
      "上半期のデータは [1, 2, 3, 4, 5, 6] です。\n",
      "下半期のデータは [7, 8, 9, 10, 11, 12] です。\n",
      "年間のデータは [1, 2, 3, 4, 5, 6, 7, 8, 9, 10, 11, 12] です。\n"
     ]
    }
   ],
   "source": [
    "sale1 = [1, 2, 3, 4, 5, 6]\n",
    "print(\"上半期のデータは\", sale1, \"です。\")\n",
    "\n",
    "sale2 = [7, 8, 9, 10, 11, 12]\n",
    "print(\"下半期のデータは\", sale2, \"です。\")\n",
    "\n",
    "ysale = sale1 + sale2\n",
    "\n",
    "print(\"年間のデータは\", ysale, \"です。\")"
   ]
  },
  {
   "cell_type": "markdown",
   "metadata": {},
   "source": [
    "### 構文（リストの連結）\n",
    "```Python\n",
    "<リスト1>.extend(<リスト2>)  \n",
    "<リスト1> += <リスト2>\n",
    "```"
   ]
  },
  {
   "cell_type": "markdown",
   "metadata": {},
   "source": [
    "### 構文（スライス）\n",
    "```Python\n",
    "<リスト名>[<開始値>:<停止値>:<間隔>]\n",
    "```"
   ]
  },
  {
   "cell_type": "markdown",
   "metadata": {},
   "source": [
    "### Sample10.py"
   ]
  },
  {
   "cell_type": "code",
   "execution_count": 2,
   "metadata": {},
   "outputs": [
    {
     "name": "stdout",
     "output_type": "stream",
     "text": [
      "年間のデータは [1, 2, 3, 4, 5, 6, 7, 8, 9, 10, 11, 12] です。\n",
      "上半期のデータは [1, 2, 3, 4, 5, 6] です。\n",
      "下半期のデータは [7, 8, 9, 10, 11, 12] です。\n",
      "一か月おきのデータは [1, 3, 5, 7, 9, 11] です。\n",
      "逆順のデータは [12, 11, 10, 9, 8, 7, 6, 5, 4, 3, 2, 1] です。\n",
      "年間のデータは [1, 2, 3, 4, 5, 6, 7, 8, 9, 10, 11, 12] です。\n",
      "上半期のデータを差し替えます。\n",
      "年間のデータは [0, 0, 0, 0, 0, 0, 7, 8, 9, 10, 11, 12] です。\n"
     ]
    }
   ],
   "source": [
    "ysale = [1, 2, 3, 4, 5, 6, 7, 8, 9, 10, 11, 12]\n",
    "print(\"年間のデータは\", ysale, \"です。\")\n",
    "\n",
    "sale1 = ysale[0:6]\n",
    "print(\"上半期のデータは\", sale1, \"です。\")\n",
    "\n",
    "sale2 = ysale[6:]\n",
    "print(\"下半期のデータは\", sale2, \"です。\")\n",
    "\n",
    "sale3 = ysale[::2]\n",
    "print(\"一か月おきのデータは\", sale3, \"です。\")\n",
    "\n",
    "sale4 = ysale[::-1]\n",
    "print(\"逆順のデータは\", sale4, \"です。\")\n",
    "\n",
    "print(\"年間のデータは\", ysale, \"です。\")\n",
    "print(\"上半期のデータを差し替えます。\")\n",
    "ysale[:6] = [0, 0, 0, 0, 0, 0]\n",
    "print(\"年間のデータは\", ysale, \"です。\")"
   ]
  },
  {
   "cell_type": "markdown",
   "metadata": {},
   "source": [
    "### Sample11.py"
   ]
  },
  {
   "cell_type": "code",
   "execution_count": 13,
   "metadata": {},
   "outputs": [
    {
     "name": "stdout",
     "output_type": "stream",
     "text": [
      "現在のデータは [1, 2, 3, 4, 5] です。\n",
      "data[::-1]をfor文で処理します。\n",
      "5\n",
      "4\n",
      "3\n",
      "2\n",
      "1\n",
      "data[::-1]は [5, 4, 3, 2, 1] です。\n",
      "現在のデータは [1, 2, 3, 4, 5] です。\n",
      "reversed(data)をfor文で処理します。\n",
      "5\n",
      "4\n",
      "3\n",
      "2\n",
      "1\n",
      "reversed(data)は <list_reverseiterator object at 0x000001FA420577C8> です。\n",
      "現在のデータは [1, 2, 3, 4, 5] です。\n",
      "data.reverse()を処理します。\n",
      "現在のデータは [5, 4, 3, 2, 1] です。\n"
     ]
    }
   ],
   "source": [
    "data = [1, 2, 3, 4, 5]\n",
    "print(\"現在のデータは\", data, \"です。\")\n",
    "\n",
    "print(\"data[::-1]をfor文で処理します。\")\n",
    "for d in data[::-1]:\n",
    "    print(d)\n",
    "print(\"data[::-1]は\", data[::-1], \"です。\")\n",
    "print(\"現在のデータは\", data, \"です。\")\n",
    "\n",
    "print(\"reversed(data)をfor文で処理します。\")\n",
    "for d in reversed(data):\n",
    "    print(d)\n",
    "print(\"reversed(data)は\", reversed(data), \"です。\")\n",
    "print(\"現在のデータは\", data, \"です。\")\n",
    "\n",
    "print(\"data.reverse()を処理します。\")\n",
    "data.reverse()\n",
    "print(\"現在のデータは\", data, \"です。\")"
   ]
  },
  {
   "cell_type": "markdown",
   "metadata": {},
   "source": [
    "### 構文（イテレータ）\n",
    "```Python\n",
    "iter(<data>)\n",
    "```"
   ]
  },
  {
   "cell_type": "code",
   "execution_count": 3,
   "metadata": {},
   "outputs": [
    {
     "name": "stdout",
     "output_type": "stream",
     "text": [
      "1\n",
      "2\n",
      "3\n"
     ]
    },
    {
     "ename": "StopIteration",
     "evalue": "",
     "output_type": "error",
     "traceback": [
      "\u001b[1;31m---------------------------------------------------------------------------\u001b[0m",
      "\u001b[1;31mStopIteration\u001b[0m                             Traceback (most recent call last)",
      "\u001b[1;32m<ipython-input-3-6a4a21b3ca45>\u001b[0m in \u001b[0;36m<module>\u001b[1;34m\u001b[0m\n\u001b[0;32m      5\u001b[0m \u001b[0mprint\u001b[0m\u001b[1;33m(\u001b[0m\u001b[0mnext\u001b[0m\u001b[1;33m(\u001b[0m\u001b[0mfuga\u001b[0m\u001b[1;33m)\u001b[0m\u001b[1;33m)\u001b[0m\u001b[1;33m\u001b[0m\u001b[1;33m\u001b[0m\u001b[0m\n\u001b[0;32m      6\u001b[0m \u001b[0mprint\u001b[0m\u001b[1;33m(\u001b[0m\u001b[0mnext\u001b[0m\u001b[1;33m(\u001b[0m\u001b[0mfuga\u001b[0m\u001b[1;33m)\u001b[0m\u001b[1;33m)\u001b[0m\u001b[1;33m\u001b[0m\u001b[1;33m\u001b[0m\u001b[0m\n\u001b[1;32m----> 7\u001b[1;33m \u001b[0mprint\u001b[0m\u001b[1;33m(\u001b[0m\u001b[0mnext\u001b[0m\u001b[1;33m(\u001b[0m\u001b[0mfuga\u001b[0m\u001b[1;33m)\u001b[0m\u001b[1;33m)\u001b[0m\u001b[1;33m\u001b[0m\u001b[1;33m\u001b[0m\u001b[0m\n\u001b[0m",
      "\u001b[1;31mStopIteration\u001b[0m: "
     ]
    }
   ],
   "source": [
    "hoge = [1,2,3]\n",
    "fuga = iter(hoge)\n",
    "\n",
    "print(next(fuga))\n",
    "print(next(fuga))\n",
    "print(next(fuga))\n",
    "print(next(fuga))"
   ]
  },
  {
   "cell_type": "markdown",
   "metadata": {},
   "source": [
    "### 構文（要素を組み合わせる）\n",
    "```Python\n",
    "zip(<リストA>,<リストB>,…)\n",
    "```"
   ]
  },
  {
   "cell_type": "markdown",
   "metadata": {},
   "source": [
    "### Sample12.py"
   ]
  },
  {
   "cell_type": "code",
   "execution_count": 14,
   "metadata": {},
   "outputs": [
    {
     "name": "stdout",
     "output_type": "stream",
     "text": [
      "都市名データは ['東京', '名古屋', '大阪', '京都'] です。\n",
      "売上データは [80, 60, 22, 50, 75] です。\n",
      "データを組み合わせます。\n",
      "('東京', 80)\n",
      "('名古屋', 60)\n",
      "('大阪', 22)\n",
      "('京都', 50)\n",
      "データとインデックスを組み合わせます。\n",
      "(0, '東京')\n",
      "(1, '名古屋')\n",
      "(2, '大阪')\n",
      "(3, '京都')\n"
     ]
    }
   ],
   "source": [
    "city = [\"東京\", \"名古屋\", \"大阪\", \"京都\"]\n",
    "sale = [80, 60, 22, 50, 75]\n",
    "\n",
    "print(\"都市名データは\", city, \"です。\")\n",
    "print(\"売上データは\", sale, \"です。\")\n",
    "\n",
    "print(\"データを組み合わせます。\")\n",
    "\n",
    "for d in zip(city, sale):\n",
    "    print(d)\n",
    "\n",
    "print(\"データとインデックスを組み合わせます。\")\n",
    "\n",
    "for d in enumerate(city):\n",
    "    print(d)"
   ]
  },
  {
   "cell_type": "markdown",
   "metadata": {},
   "source": [
    "### 構文（要素とインデックスを組み合わせる）\n",
    "```Python\n",
    "enumerate(<リスト名>)\n",
    "```"
   ]
  },
  {
   "cell_type": "markdown",
   "metadata": {},
   "source": [
    "### 構文（アンパック（for文））\n",
    "```Python\n",
    "for <変数1>, <変数2>, … in <リスト名>:\n",
    "```"
   ]
  },
  {
   "cell_type": "markdown",
   "metadata": {},
   "source": [
    "#### Sample13.py"
   ]
  },
  {
   "cell_type": "code",
   "execution_count": 15,
   "metadata": {},
   "outputs": [
    {
     "name": "stdout",
     "output_type": "stream",
     "text": [
      "都市名データは ['東京', '名古屋', '大阪', '京都'] です。\n",
      "売上データは [80, 60, 22, 50, 75] です。\n",
      "データを組み合わせます。\n",
      "('東京', 80)\n",
      "('名古屋', 60)\n",
      "('大阪', 22)\n",
      "('京都', 50)\n",
      "データを分解します。\n",
      "都市名は 東京 売上は 80\n",
      "都市名は 名古屋 売上は 60\n",
      "都市名は 大阪 売上は 22\n",
      "都市名は 京都 売上は 50\n"
     ]
    }
   ],
   "source": [
    "city = [\"東京\", \"名古屋\", \"大阪\", \"京都\"]\n",
    "sale = [80, 60, 22, 50, 75]\n",
    "\n",
    "print(\"都市名データは\", city, \"です。\")\n",
    "print(\"売上データは\", sale, \"です。\")\n",
    "\n",
    "print(\"データを組み合わせます。\")\n",
    "\n",
    "for d in zip(city, sale):\n",
    "    print(d)\n",
    "\n",
    "print(\"データを分解します。\")\n",
    "\n",
    "for c, s in zip(city, sale):\n",
    "    print(\"都市名は\", c, \"売上は\", s)"
   ]
  },
  {
   "cell_type": "markdown",
   "metadata": {},
   "source": [
    "### 構文（アンパック（代入））\n",
    "```python\n",
    "<変数1>, <変数2>, … = <リスト名>\n",
    "```"
   ]
  },
  {
   "cell_type": "markdown",
   "metadata": {},
   "source": [
    "## リスト内包表記"
   ]
  },
  {
   "cell_type": "markdown",
   "metadata": {},
   "source": [
    "### 構文（リスト内包表記の基本型）\n",
    "```Python\n",
    "[<式> for <任意の変数名> in <イテラブルオブジェクト>]\n",
    "```"
   ]
  },
  {
   "cell_type": "markdown",
   "metadata": {},
   "source": [
    "### 構文（ifで条件分岐したリスト内包表記）\n",
    "```Python\n",
    "[<式> for <任意の変数名> in <イテラブルオブジェクト> if <条件式>]\n",
    "```"
   ]
  },
  {
   "cell_type": "markdown",
   "metadata": {},
   "source": [
    "### 構文（三項演算子との組み合わせ（if else的な処理））\n",
    "```Python\n",
    "[<真のときの値> if <条件式> else <偽のときの値> for <任意の変数名> in <イテラブルオブジェクト>]  \n",
    "```"
   ]
  },
  {
   "cell_type": "markdown",
   "metadata": {},
   "source": [
    "### 構文（ネストしたリスト内包表記）\n",
    "```Python\n",
    "[<式> for <変数名1> in <イテラブルオブジェクト1> \n",
    "         for <変数名2> in <イテラブルオブジェクト2> \n",
    "             for <変数名3> in <イテラブルオブジェクト3>]  \n",
    "```"
   ]
  },
  {
   "cell_type": "markdown",
   "metadata": {},
   "source": [
    "### 構文（集合内包表記）\n",
    "```Python\n",
    "{<式> for <任意の変数名> in <イテラブルオブジェクト>}  \n",
    "```"
   ]
  },
  {
   "cell_type": "markdown",
   "metadata": {},
   "source": [
    "### 構文（辞書内包表記）\n",
    "```Python\n",
    "{<キー>: <値> for <任意の変数名> in <イテラブルオブジェクト>}  \n",
    "```"
   ]
  },
  {
   "cell_type": "markdown",
   "metadata": {},
   "source": [
    "### Sample14.py"
   ]
  },
  {
   "cell_type": "code",
   "execution_count": 16,
   "metadata": {},
   "outputs": [
    {
     "name": "stdout",
     "output_type": "stream",
     "text": [
      "現在のデータは [1, 2, 3, 4, 5] です。\n",
      "新しいデータは [2, 4, 8, 10] です。\n"
     ]
    }
   ],
   "source": [
    "data = [1,2,3,4,5]\n",
    "print(\"現在のデータは\", data, \"です。\")\n",
    "\n",
    "ndata = [n*2 for n in data if n!=3]\n",
    "\n",
    "print(\"新しいデータは\", ndata, \"です。\")"
   ]
  },
  {
   "cell_type": "markdown",
   "metadata": {},
   "source": [
    "### Sample15.py"
   ]
  },
  {
   "cell_type": "code",
   "execution_count": 3,
   "metadata": {},
   "outputs": [
    {
     "name": "stdout",
     "output_type": "stream",
     "text": [
      "現在のデータは [80, 60, 22, 50, 75] です。\n",
      "最大のデータは 80 です。\n",
      "最小のデータは 22 です。\n",
      "データの合計は 287 です。\n",
      "ソートされたデータは [22, 50, 60, 75, 80] です。\n"
     ]
    }
   ],
   "source": [
    "sale = [80, 60, 22, 50, 75]\n",
    "print(\"現在のデータは\", sale, \"です。\")\n",
    "\n",
    "print(\"最大のデータは\", max(sale), \"です。\")\n",
    "print(\"最小のデータは\", min(sale), \"です。\")\n",
    "\n",
    "print(\"データの合計は\", sum(sale), \"です。\")\n",
    "\n",
    "print(\"ソートされたデータは\", sorted(sale), \"です。\")"
   ]
  },
  {
   "cell_type": "markdown",
   "metadata": {},
   "source": [
    "### Sample16.py"
   ]
  },
  {
   "cell_type": "code",
   "execution_count": 18,
   "metadata": {},
   "outputs": [
    {
     "name": "stdout",
     "output_type": "stream",
     "text": [
      "現在のデータは [['東京', 32, 25], ['名古屋', 28, 21], ['大阪', 27, 20], ['京都', 26, 19], ['福岡', 27, 22]] です。\n",
      "都市別データは ['東京', 32, 25] です。\n",
      "東京\t32\t25\t\n",
      "都市別データは ['名古屋', 28, 21] です。\n",
      "名古屋\t28\t21\t\n",
      "都市別データは ['大阪', 27, 20] です。\n",
      "大阪\t27\t20\t\n",
      "都市別データは ['京都', 26, 19] です。\n",
      "京都\t26\t19\t\n",
      "都市別データは ['福岡', 27, 22] です。\n",
      "福岡\t27\t22\t\n",
      "東京 の最高気温は 32 最低気温は 25 です。\n"
     ]
    }
   ],
   "source": [
    "data = [\n",
    "   [\"東京\", 32, 25], \n",
    "   [\"名古屋\", 28, 21], \n",
    "   [\"大阪\", 27, 20],\n",
    "   [\"京都\", 26, 19],\n",
    "   [\"福岡\", 27, 22]\n",
    "]\n",
    "\n",
    "print(\"現在のデータは\", data, \"です。\")\n",
    "\n",
    "for dat in data:\n",
    "   print(\"都市別データは\", dat, \"です。\")\n",
    "   for d in dat:\n",
    "      print(d, end=\"\\t\")\n",
    "   print()\n",
    "   \n",
    "print(data[0][0], \"の最高気温は\", data[0][1], \"最低気温は\", data[0][2], \"です。\")"
   ]
  },
  {
   "cell_type": "markdown",
   "metadata": {},
   "source": [
    "# ほげ要望(^ω^)\n",
    "　教科書　【レッスンのまとめ】    \n",
    "・lesson5  \n",
    " 練習をやってくれたら喜びます"
   ]
  },
  {
   "cell_type": "markdown",
   "metadata": {},
   "source": [
    "# エクストラほげ問題③\n",
    "## 高校数学Ⅱ　整式の微分\n",
    "## 3次関数の極値から係数決定\n",
    "人工知能（AI）を学ぶ上で必須な数学の知識を問うような問題を出します。  \n",
    "最低限の内容ばかり問うのでわからない人は焦った方がいいと思います（ほげおくん調べ）  \n",
    "\n",
    "### もんだいだよん(^ω^)\n",
    "  \n",
    "①3次関数$f(x) = x^3+ax^2+bx+c$が,$x = -1$で極大値6,$x = 1$で極小値をとる。  \n",
    "このとき,定数$a,b,c$の値と極小値を求めよ。"
   ]
  },
  {
   "cell_type": "markdown",
   "metadata": {},
   "source": [
    "## エクストラぽむぽむ問題\n",
    "\n",
    "### １．図書館でアルバイトしよう！\n",
    "\n",
    "本のタイトルと、本の番号を関連付けたリストを作ってみよう。\n",
    ">前回のおさらいみたいな感じです。\n",
    "\n",
    "#### 以下実行結果\n",
    "['やさしいpython', 'すっきりわかるjava', 'HTML/CSSワークショップ']"
   ]
  },
  {
   "cell_type": "code",
   "execution_count": 2,
   "metadata": {},
   "outputs": [
    {
     "name": "stdout",
     "output_type": "stream",
     "text": [
      "['やさしいpython', 'すっきりわかるjava', 'HTML/CSSワークショップ']\n"
     ]
    }
   ],
   "source": [
    "# ★の部分をかいて完成させてね\n",
    "book = #★\n",
    "\n",
    "print(book)"
   ]
  },
  {
   "cell_type": "markdown",
   "metadata": {},
   "source": [
    "### ２．新作の本を追加してみよう\n",
    "bookリストに、「Springフレームワーク」の本を追加してみよう\n",
    "\n",
    "#### 以下実行結果\n",
    "['やさしいpython', 'すっきりわかるjava', 'HTML/CSSワークショップ', 'Springフレームワーク']"
   ]
  },
  {
   "cell_type": "code",
   "execution_count": 3,
   "metadata": {},
   "outputs": [
    {
     "name": "stdout",
     "output_type": "stream",
     "text": [
      "['やさしいpython', 'すっきりわかるjava', 'HTML/CSSワークショップ', 'Springフレームワーク']\n"
     ]
    }
   ],
   "source": [
    "#★の部分をかいて完成させてね\n",
    "\n",
    "# ★追加処理記述\n",
    "print(book)"
   ]
  },
  {
   "cell_type": "markdown",
   "metadata": {},
   "source": [
    "### ３．在庫整理\n",
    "あなたは先輩である健吾くんに頼まれて本棚の整理をすることになりました。\n",
    "<br>健吾君からの指示を書いておきます。\n",
    "<br>★「すっきりわかるjava」は「すっきりわからなくもないjava」になったので書き換えておいてほしい\n",
    "<br>★本が何冊あるかわからないのでインデックスをつけて出力してほしい\n",
    "\n",
    "#### 以下実行結果\n",
    "['やさしいpython', 'すっきりわからなくもないjava', 'HTML/CSSワークショップ', 'Springフレームワーク']\n",
    "<br>===インデックス化===\n",
    "<br>0 やさしいpython\n",
    "<br>1 すっきりわからなくもないjava\n",
    "<br>2 HTML/CSSワークショップ\n",
    "<br>3 Springフレームワーク"
   ]
  },
  {
   "cell_type": "code",
   "execution_count": 5,
   "metadata": {
    "scrolled": true
   },
   "outputs": [
    {
     "name": "stdout",
     "output_type": "stream",
     "text": [
      "['やさしいpython', 'すっきりわからなくもないjava', 'HTML/CSSワークショップ', 'Springフレームワーク']\n",
      "===インデックス化===\n",
      "0 やさしいpython\n",
      "1 すっきりわからなくもないjava\n",
      "2 HTML/CSSワークショップ\n",
      "3 Springフレームワーク\n"
     ]
    }
   ],
   "source": [
    "# ★の部分をかいて完成させてね\n",
    "book# ★\n",
    "\n",
    "print(book)\n",
    "\n",
    "print(\"===インデックス化===\")\n",
    "for i,n in # ★\n",
    "    print(i,n)"
   ]
  },
  {
   "cell_type": "markdown",
   "metadata": {},
   "source": [
    "# エクストラがんばれ問題\n",
    "がんばれ"
   ]
  },
  {
   "cell_type": "code",
   "execution_count": 7,
   "metadata": {},
   "outputs": [
    {
     "ename": "AttributeError",
     "evalue": "'int' object has no attribute 'append'",
     "output_type": "error",
     "traceback": [
      "\u001b[1;31m---------------------------------------------------------------------------\u001b[0m",
      "\u001b[1;31mAttributeError\u001b[0m                            Traceback (most recent call last)",
      "\u001b[1;32m<ipython-input-7-c6dd69917f1f>\u001b[0m in \u001b[0;36m<module>\u001b[1;34m\u001b[0m\n\u001b[0;32m      3\u001b[0m \u001b[0mlist\u001b[0m\u001b[1;33m=\u001b[0m\u001b[1;36m0\u001b[0m\u001b[1;33m\u001b[0m\u001b[1;33m\u001b[0m\u001b[0m\n\u001b[0;32m      4\u001b[0m \u001b[1;32mfor\u001b[0m \u001b[0mi\u001b[0m \u001b[1;32min\u001b[0m \u001b[0mrange\u001b[0m\u001b[1;33m(\u001b[0m\u001b[1;36m10\u001b[0m\u001b[1;33m)\u001b[0m\u001b[1;33m:\u001b[0m\u001b[1;33m\u001b[0m\u001b[1;33m\u001b[0m\u001b[0m\n\u001b[1;32m----> 5\u001b[1;33m     \u001b[0mlist\u001b[0m\u001b[1;33m.\u001b[0m\u001b[0mappend\u001b[0m\u001b[1;33m(\u001b[0m\u001b[0mrandom\u001b[0m\u001b[1;33m.\u001b[0m\u001b[0mrandint\u001b[0m\u001b[1;33m(\u001b[0m\u001b[1;36m0\u001b[0m\u001b[1;33m,\u001b[0m\u001b[1;36m10\u001b[0m\u001b[1;33m)\u001b[0m\u001b[1;33m)\u001b[0m\u001b[1;33m\u001b[0m\u001b[1;33m\u001b[0m\u001b[0m\n\u001b[0m\u001b[0;32m      6\u001b[0m \u001b[1;33m\u001b[0m\u001b[0m\n\u001b[0;32m      7\u001b[0m \u001b[0mprint\u001b[0m\u001b[1;33m(\u001b[0m\u001b[0mlist\u001b[0m\u001b[1;33m)\u001b[0m\u001b[1;33m\u001b[0m\u001b[1;33m\u001b[0m\u001b[0m\n",
      "\u001b[1;31mAttributeError\u001b[0m: 'int' object has no attribute 'append'"
     ]
    }
   ],
   "source": [
    "#ランダムな整数を10個リストに入れたいのにエラー出るから直してね\n",
    "import random\n",
    "list=0\n",
    "for i in range(10):\n",
    "    list.append(random.randint(0,10))\n",
    "\n",
    "print(list)"
   ]
  },
  {
   "cell_type": "code",
   "execution_count": 17,
   "metadata": {},
   "outputs": [
    {
     "name": "stdout",
     "output_type": "stream",
     "text": [
      "[[49, 97], [53, 5], [33, 65], [62, 51], [100, 38], [61, 45], [74, 27], [64, 17], [36, 17], [96, 12]]\n",
      "[0, 1, 0, 1, 1, 1, 1, 1, 0, 1]\n"
     ]
    },
    {
     "ename": "NameError",
     "evalue": "name 'list0' is not defined",
     "output_type": "error",
     "traceback": [
      "\u001b[1;31m---------------------------------------------------------------------------\u001b[0m",
      "\u001b[1;31mNameError\u001b[0m                                 Traceback (most recent call last)",
      "\u001b[1;32m<ipython-input-17-fe0b68a63672>\u001b[0m in \u001b[0;36m<module>\u001b[1;34m\u001b[0m\n\u001b[0;32m     24\u001b[0m \u001b[1;33m\u001b[0m\u001b[0m\n\u001b[0;32m     25\u001b[0m \u001b[1;33m\u001b[0m\u001b[0m\n\u001b[1;32m---> 26\u001b[1;33m \u001b[0mprint\u001b[0m\u001b[1;33m(\u001b[0m\u001b[0mlist0\u001b[0m\u001b[1;33m)\u001b[0m\u001b[1;33m\u001b[0m\u001b[1;33m\u001b[0m\u001b[0m\n\u001b[0m\u001b[0;32m     27\u001b[0m \u001b[0mprint\u001b[0m\u001b[1;33m(\u001b[0m\u001b[0mlist1\u001b[0m\u001b[1;33m)\u001b[0m\u001b[1;33m\u001b[0m\u001b[1;33m\u001b[0m\u001b[0m\n",
      "\u001b[1;31mNameError\u001b[0m: name 'list0' is not defined"
     ]
    }
   ],
   "source": [
    "#機械学習の教師データっぽいデータのtrain_xの中身を、train_yの数値(0か1)に基づいて「list0」,「list1」という配列にいれてってね\n",
    "#どうやってもいいけどできるだけコードは短くしてみよ\n",
    "\n",
    "'''\n",
    "[例]　\n",
    "train_x=[[49, 97], [53, 5], [33, 65]]\n",
    "train_y=[0,1,0]\n",
    "なら、\n",
    "list0=[[49, 97], [33, 65]]\n",
    "list1=[[53, 5]]\n",
    "'''\n",
    "\n",
    "import random\n",
    "random.seed(0)\n",
    "train_x=[[random.randint(0, 100), random.randint(0, 100)] for i in range(10)]\n",
    "train_y=[0 if i[0]<50 else 1 for i in train_x ]\n",
    "\n",
    "print(train_x)\n",
    "print(train_y)\n",
    "\n",
    "#ここにかいてねーー\n",
    "\n",
    "\n",
    "\n",
    "\n",
    "\n",
    "\n",
    "print(list0)\n",
    "print(list1)"
   ]
  },
  {
   "cell_type": "markdown",
   "metadata": {},
   "source": [
    "コレクションはいいやってなったので二問で許して"
   ]
  },
  {
   "cell_type": "code",
   "execution_count": null,
   "metadata": {},
   "outputs": [],
   "source": []
  }
 ],
 "metadata": {
  "kernelspec": {
   "display_name": "Python 3",
   "language": "python",
   "name": "python3"
  },
  "language_info": {
   "codemirror_mode": {
    "name": "ipython",
    "version": 3
   },
   "file_extension": ".py",
   "mimetype": "text/x-python",
   "name": "python",
   "nbconvert_exporter": "python",
   "pygments_lexer": "ipython3",
   "version": "3.8.3"
  }
 },
 "nbformat": 4,
 "nbformat_minor": 2
}
