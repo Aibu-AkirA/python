{
 "cells": [
  {
   "cell_type": "code",
   "execution_count": 2,
   "metadata": {},
   "outputs": [
    {
     "name": "stdout",
     "output_type": "stream",
     "text": [
      "['やさしいpython', 'すっきりわかるjava', 'HTML/CSSワークショップ']\n"
     ]
    }
   ],
   "source": [
    "# ★の部分をかいて完成させてね\n",
    "book = ['やさしいpython', 'すっきりわかるjava', 'HTML/CSSワークショップ']\n",
    "\n",
    "print(book)"
   ]
  },
  {
   "cell_type": "code",
   "execution_count": 3,
   "metadata": {},
   "outputs": [
    {
     "name": "stdout",
     "output_type": "stream",
     "text": [
      "['やさしいpython', 'すっきりわかるjava', 'HTML/CSSワークショップ', 'Springフレームワーク']\n"
     ]
    }
   ],
   "source": [
    "#★の部分をかいて完成させてね\n",
    "\n",
    "book.append(\"Springフレームワーク\")\n",
    "print(book)\n"
   ]
  },
  {
   "cell_type": "code",
   "execution_count": 16,
   "metadata": {},
   "outputs": [
    {
     "name": "stdout",
     "output_type": "stream",
     "text": [
      "['やさしいpython', 'すっきりわからなくもないjava', 'HTML/CSSワークショップ', 'Springフレームワーク']\n",
      "===インデックス化===\n",
      "0 やさしいpython\n",
      "1 すっきりわからなくもないjava\n",
      "2 HTML/CSSワークショップ\n",
      "3 Springフレームワーク\n"
     ]
    }
   ],
   "source": [
    "# ★の部分をかいて完成させてね\n",
    "book[1]=\"すっきりわからなくもないjava\"\n",
    "\n",
    "print(book)\n",
    "\n",
    "print(\"===インデックス化===\")\n",
    "for i,n in enumerate(book):\n",
    "    print(i,n)"
   ]
  },
  {
   "cell_type": "code",
   "execution_count": null,
   "metadata": {},
   "outputs": [],
   "source": []
  }
 ],
 "metadata": {
  "kernelspec": {
   "display_name": "Python 3",
   "language": "python",
   "name": "python3"
  },
  "language_info": {
   "codemirror_mode": {
    "name": "ipython",
    "version": 3
   },
   "file_extension": ".py",
   "mimetype": "text/x-python",
   "name": "python",
   "nbconvert_exporter": "python",
   "pygments_lexer": "ipython3",
   "version": "3.8.3"
  }
 },
 "nbformat": 4,
 "nbformat_minor": 4
}
