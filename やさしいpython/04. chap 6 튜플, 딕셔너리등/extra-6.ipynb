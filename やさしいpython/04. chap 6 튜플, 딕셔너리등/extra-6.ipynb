{
 "cells": [
  {
   "cell_type": "code",
   "execution_count": 1,
   "metadata": {},
   "outputs": [
    {
     "name": "stdout",
     "output_type": "stream",
     "text": [
      "=== Menu ===\n",
      "いちごみるく 300 円\n",
      "ばななみるく 200 円\n",
      "めろんみるく 250 円\n",
      "どの商品を買いますか？いちごみるく\n",
      "あなたが買うのは、 いちごみるく ですね\n",
      "何個買いますか？2\n",
      "購入個数は、 2 個です。\n",
      "合計金額は 480 円です\n",
      "お金を入れてください600\n",
      "おつりは 120 円です。\n"
     ]
    }
   ],
   "source": [
    "#二つ前のぽむぽむ問題をリメイクするよ。\n",
    "#もしやってないひとは、そこからコードをもってきてやると書き換えるところが少ないから便利！\n",
    "\n",
    "milk ={\"いちごみるく\":300, \"ばななみるく\":200, \"めろんみるく\":250}\n",
    "print(\"=== Menu ===\")\n",
    "for k,v in zip(milk.keys(),milk.values()):\n",
    "    print(k,v,\"円\")\n",
    "\n",
    "\n",
    "custmer = input(\"どの商品を買いますか？\")\n",
    "\n",
    "try:\n",
    "    if custmer in milk:\n",
    "        print(\"あなたが買うのは、\", custmer ,\"ですね\")\n",
    "        \n",
    "except:\n",
    "    print(\"もう一度やり直してください\")\n",
    "else:\n",
    "    num = int(input(\"何個買いますか？\"))\n",
    "    print(\"購入個数は、\",num,\"個です。\")\n",
    "\n",
    "    def calc(price):\n",
    "\n",
    "        print(\"合計金額は\",price,\"円です\")\n",
    "        \n",
    "        cprice = int(input(\"お金を入れてください\"))\n",
    "\n",
    "        if cprice >= price :\n",
    "            change = cprice - price\n",
    "            print(\"おつりは\",change,\"円です。\")\n",
    "        elif cprice <= price :\n",
    "            print(\"お金が足りません\")\n",
    "\n",
    "    if num >= 2:\n",
    "        price = int(milk[custmer]*0.8*num)\n",
    "        calc(price)\n",
    "    elif  num == 1:\n",
    "        price = milk[custmer]\n",
    "        calc(price)"
   ]
  },
  {
   "cell_type": "code",
   "execution_count": 2,
   "metadata": {},
   "outputs": [
    {
     "name": "stdout",
     "output_type": "stream",
     "text": [
      "=== Menu ====\n",
      "いちごみるく 300 円\n",
      "ばななみるく 200 円\n",
      "めろんみるく 250 円\n",
      "削除する商品を入力いちごみるく\n",
      "いちごみるく を削除しました\n",
      "リストの中身は {'ばななみるく': 200, 'めろんみるく': 250} です\n",
      "追加する商品を入力れもんみるく\n",
      "値段を入力400\n",
      "{'ばななみるく': 200, 'めろんみるく': 250, 'れもんみるく': 400}\n"
     ]
    }
   ],
   "source": [
    "#★の部分をかいて完成させてね\n",
    "item = {\"いちごみるく\":300, \"ばななみるく\":200, \"めろんみるく\":250}\n",
    "print(\"=== Menu ====\")\n",
    "for i, p in zip(item.keys(),item.values()):\n",
    "    print(i,p,\"円\")\n",
    "    \n",
    "delete = input(\"削除する商品を入力\")\n",
    "\n",
    "del item[delete]\n",
    "print(delete,\"を削除しました\")\n",
    "print(\"リストの中身は\",item,\"です\")\n",
    "\n",
    "addName = input(\"追加する商品を入力\")\n",
    "addPrice = int(input(\"値段を入力\"))\n",
    "item[addName] = addPrice\n",
    "print(item)"
   ]
  },
  {
   "cell_type": "code",
   "execution_count": 10,
   "metadata": {},
   "outputs": [
    {
     "name": "stdout",
     "output_type": "stream",
     "text": [
      "ab\n"
     ]
    }
   ],
   "source": [
    "#下の関数二つを動かし、「ab」と表示してね\n",
    "def a():\n",
    "    print(\"a\",end=\"\")\n",
    "\n",
    "def b():\n",
    "    print(\"b\")\n",
    "    \n",
    "#下に書いて\n",
    "a()\n",
    "b()"
   ]
  },
  {
   "cell_type": "code",
   "execution_count": 12,
   "metadata": {},
   "outputs": [
    {
     "name": "stdout",
     "output_type": "stream",
     "text": [
      "1 2 3\n"
     ]
    }
   ],
   "source": [
    "#引数を正しくして、「123」と表示されるようにしてね\n",
    "a=1\n",
    "b=2\n",
    "c=3\n",
    "def func(d,e,f):\n",
    "    print(f,d,e)\n",
    "#変えるとこ↓\n",
    "func(b,c,a)"
   ]
  },
  {
   "cell_type": "code",
   "execution_count": 16,
   "metadata": {},
   "outputs": [
    {
     "name": "stdout",
     "output_type": "stream",
     "text": [
      "0\n",
      "01\n",
      "012\n",
      "0123\n",
      "01234\n",
      "012345\n",
      "0123456\n",
      "01234567\n",
      "012345678\n",
      "0123456789\n"
     ]
    }
   ],
   "source": [
    "'''whileと関数funcを使用して「0\n",
    "                            01\n",
    "                            012\n",
    "                            ...\n",
    "                            ...\n",
    "                            0123456789」と表示してね'''\n",
    "num=0\n",
    "s=\"\"\n",
    "def func():\n",
    "    global num\n",
    "    global s\n",
    "    s+=str(num)\n",
    "    print(s)\n",
    "    num+=1\n",
    "\n",
    "while num < 10 :\n",
    "    func()"
   ]
  },
  {
   "cell_type": "code",
   "execution_count": null,
   "metadata": {},
   "outputs": [],
   "source": []
  }
 ],
 "metadata": {
  "kernelspec": {
   "display_name": "Python 3",
   "language": "python",
   "name": "python3"
  },
  "language_info": {
   "codemirror_mode": {
    "name": "ipython",
    "version": 3
   },
   "file_extension": ".py",
   "mimetype": "text/x-python",
   "name": "python",
   "nbconvert_exporter": "python",
   "pygments_lexer": "ipython3",
   "version": "3.8.3"
  }
 },
 "nbformat": 4,
 "nbformat_minor": 4
}
