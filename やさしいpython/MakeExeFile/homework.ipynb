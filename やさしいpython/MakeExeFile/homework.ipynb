{
 "cells": [
  {
   "cell_type": "code",
   "execution_count": null,
   "metadata": {},
   "outputs": [
    {
     "name": "stdout",
     "output_type": "stream",
     "text": [
      "文字列を入力してください:s\n",
      "エラー：数字で入力してください\n",
      "文字列を入力してください:a\n",
      "エラー：数字で入力してください\n",
      "終了するにはescを押してください。\n"
     ]
    }
   ],
   "source": [
    "import msvcrt\n",
    "import sys\n",
    "\n",
    "while True:\n",
    "    for i in range(2):\n",
    "        try:\n",
    "            number = int(input(\"文字列を入力してください:\"))\n",
    "        except ValueError:\n",
    "            print(\"エラー：数字で入力してください\")\n",
    "        else:\n",
    "            print(\"あなたの好きな数字は\",number,\"です\")\n",
    "    print(\"終了するにはescを押してください。\")\n",
    "        \n",
    "    ch = ord(msvcrt.getch()) #노주피터에서는 실행 안 되지만 파일로 만들면 됨ㅋㅋㅋㅋ\n",
    "    if ch == 27: # ord로 하는 이유는 getch()가 받아온 값을 정수로 바꿔서 비교하는게 정확하게됨\n",
    "        sys.exit()"
   ]
  },
  {
   "cell_type": "code",
   "execution_count": null,
   "metadata": {},
   "outputs": [],
   "source": []
  },
  {
   "cell_type": "code",
   "execution_count": null,
   "metadata": {},
   "outputs": [],
   "source": []
  }
 ],
 "metadata": {
  "kernelspec": {
   "display_name": "Python 3",
   "language": "python",
   "name": "python3"
  },
  "language_info": {
   "codemirror_mode": {
    "name": "ipython",
    "version": 3
   },
   "file_extension": ".py",
   "mimetype": "text/x-python",
   "name": "python",
   "nbconvert_exporter": "python",
   "pygments_lexer": "ipython3",
   "version": "3.8.3"
  }
 },
 "nbformat": 4,
 "nbformat_minor": 4
}
