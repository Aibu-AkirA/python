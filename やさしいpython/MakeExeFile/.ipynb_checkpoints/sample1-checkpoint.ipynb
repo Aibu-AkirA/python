{
 "cells": [
  {
   "cell_type": "code",
   "execution_count": null,
   "metadata": {},
   "outputs": [],
   "source": [
    "for i in range(2):\n",
    "    try:\n",
    "        number = int(input(\"文字列を入力してください:\"))\n",
    "    except ValueError:\n",
    "        print(\"エラー：数字で入力してください\")\n",
    "    else:\n",
    "        print(\"あなたの好きな数字は\",number,\"です\")\n"
   ]
  }
 ],
 "metadata": {
  "kernelspec": {
   "display_name": "Python 3",
   "language": "python",
   "name": "python3"
  },
  "language_info": {
   "codemirror_mode": {
    "name": "ipython",
    "version": 3
   },
   "file_extension": ".py",
   "mimetype": "text/x-python",
   "name": "python",
   "nbconvert_exporter": "python",
   "pygments_lexer": "ipython3",
   "version": "3.8.3"
  }
 },
 "nbformat": 4,
 "nbformat_minor": 4
}
