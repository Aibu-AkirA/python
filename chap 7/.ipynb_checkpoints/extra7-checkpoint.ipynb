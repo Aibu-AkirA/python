{
 "cells": [
  {
   "cell_type": "code",
   "execution_count": 11,
   "metadata": {},
   "outputs": [],
   "source": [
    "#★の部分をかいて完成させてね\n",
    "def cal(text) :\n",
    "    import calendar\n",
    "    print(text,\"を表示します。\")\n",
    "    year = int(input(\"表示する年を西暦で入力してください\"))\n",
    "    mon = int(input(\"表示する月を入力してください\"))\n",
    "   \n",
    "    #★print文の中身を書き換えてね\n",
    "    print(calendar.monthrange(year, mon))\n",
    "\n",
    "def dateTime(text) :\n",
    "    import datetime as dt\n",
    "    print(text,\"を表示します。\")\n",
    "    dt = dt.datetime.now()\n",
    "    print (dt)"
   ]
  },
  {
   "cell_type": "code",
   "execution_count": 12,
   "metadata": {},
   "outputs": [
    {
     "name": "stdout",
     "output_type": "stream",
     "text": [
      "=== 機能一覧 ===\n",
      "カレンダー 現在時刻\n",
      "表示したい機能を入力してください現在時刻\n",
      "現在時刻 を表示します。\n",
      "2020-10-19 11:47:44.210616\n"
     ]
    }
   ],
   "source": [
    "print(\"=== 機能一覧 ===\")\n",
    "print(\"カレンダー\",\"現在時刻\")\n",
    "\n",
    "function = input(\"表示したい機能を入力してください\")\n",
    "\n",
    "if function == \"カレンダー\":\n",
    "    cal(function)\n",
    "elif function == \"現在時刻\":\n",
    "    dateTime(function)\n",
    "else:\n",
    "    print(\"最初からやり直して下さい\")"
   ]
  },
  {
   "cell_type": "code",
   "execution_count": 24,
   "metadata": {},
   "outputs": [
    {
     "name": "stdout",
     "output_type": "stream",
     "text": [
      "2+3=5\n",
      "None\n"
     ]
    }
   ],
   "source": [
    "#エラー消して、計算結果が正しく出るようにして\n",
    "def add(a,b):\n",
    "    res=a+b\n",
    "    print(a,\"+\",b,\"=\",res, sep=\"\")\n",
    "\n",
    "print(add(2, 3))"
   ]
  },
  {
   "cell_type": "code",
   "execution_count": 26,
   "metadata": {},
   "outputs": [
    {
     "name": "stdout",
     "output_type": "stream",
     "text": [
      "65536\n"
     ]
    }
   ],
   "source": [
    "#下の2つの関数を用いて2の16乗の計算をやって、一番下の行のprintでだしてみて\n",
    "def multi(a,b):\n",
    "    res=a*b\n",
    "    return res\n",
    "\n",
    "def power(a,b):\n",
    "    res=a\n",
    "    for i in range(b-1):\n",
    "        res=multi(res,a)  \n",
    "    return res\n",
    "\n",
    "\n",
    "print(power(2, 16))"
   ]
  },
  {
   "cell_type": "code",
   "execution_count": 28,
   "metadata": {},
   "outputs": [
    {
     "name": "stdout",
     "output_type": "stream",
     "text": [
      "[1 2 3 4]\n"
     ]
    }
   ],
   "source": [
    "#エラー出ちゃうので直して配列が正しく出力されるようにしてね\n",
    "import numpy\n",
    "np = numpy\n",
    "a = np.array([1, 2, 3, 4])\n",
    "print(a)"
   ]
  },
  {
   "cell_type": "code",
   "execution_count": null,
   "metadata": {},
   "outputs": [],
   "source": []
  }
 ],
 "metadata": {
  "kernelspec": {
   "display_name": "Python 3",
   "language": "python",
   "name": "python3"
  },
  "language_info": {
   "codemirror_mode": {
    "name": "ipython",
    "version": 3
   },
   "file_extension": ".py",
   "mimetype": "text/x-python",
   "name": "python",
   "nbconvert_exporter": "python",
   "pygments_lexer": "ipython3",
   "version": "3.8.3"
  }
 },
 "nbformat": 4,
 "nbformat_minor": 4
}
