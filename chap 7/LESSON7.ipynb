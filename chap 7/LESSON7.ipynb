{
 "cells": [
  {
   "cell_type": "code",
   "execution_count": 2,
   "metadata": {},
   "outputs": [
    {
     "name": "stdout",
     "output_type": "stream",
     "text": [
      "個数を入力してください。5\n",
      "*****\n"
     ]
    }
   ],
   "source": [
    "def rpast(num):\n",
    "    print(\"*\"*num)\n",
    "\n",
    "star = int(input(\"個数を入力してください。\"))\n",
    "rpast(star)"
   ]
  },
  {
   "cell_type": "code",
   "execution_count": 6,
   "metadata": {},
   "outputs": [
    {
     "name": "stdout",
     "output_type": "stream",
     "text": [
      "文字列を入力してください。いいえ。\n",
      "個数を入力してください。8\n",
      "文字列あり---\n",
      "いいえ。いいえ。いいえ。いいえ。いいえ。いいえ。いいえ。いいえ。\n",
      "文字列なし---\n",
      "********\n"
     ]
    }
   ],
   "source": [
    "def rpstr(num, str=\"*\"):\n",
    "    print(str*num)\n",
    "\n",
    "moji = input(\"文字列を入力してください。\")\n",
    "num = int(input(\"個数を入力してください。\"))\n",
    "\n",
    "print(\"文字列あり---\")\n",
    "rpstr(num,moji)\n",
    "print(\"文字列なし---\")\n",
    "rpstr(num)\n"
   ]
  },
  {
   "cell_type": "code",
   "execution_count": 14,
   "metadata": {},
   "outputs": [
    {
     "name": "stdout",
     "output_type": "stream",
     "text": [
      "開始直（整数）を入力してください。3\n",
      "停止直（整数）を入力してください。10\n",
      "3\n",
      "4\n",
      "5\n",
      "6\n",
      "7\n",
      "8\n",
      "9\n"
     ]
    }
   ],
   "source": [
    "def number(s, f):\n",
    "    while s != f:\n",
    "        print(s)\n",
    "        s += 1\n",
    "s = int(input(\"開始直（整数）を入力してください。\"))\n",
    "f = int(input(\"停止直（整数）を入力してください。\"))\n",
    "number(s,f)"
   ]
  },
  {
   "cell_type": "code",
   "execution_count": null,
   "metadata": {},
   "outputs": [],
   "source": []
  }
 ],
 "metadata": {
  "kernelspec": {
   "display_name": "Python 3",
   "language": "python",
   "name": "python3"
  },
  "language_info": {
   "codemirror_mode": {
    "name": "ipython",
    "version": 3
   },
   "file_extension": ".py",
   "mimetype": "text/x-python",
   "name": "python",
   "nbconvert_exporter": "python",
   "pygments_lexer": "ipython3",
   "version": "3.8.3"
  }
 },
 "nbformat": 4,
 "nbformat_minor": 4
}
