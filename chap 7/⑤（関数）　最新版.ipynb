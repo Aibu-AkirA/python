{
 "cells": [
  {
   "cell_type": "markdown",
   "metadata": {},
   "source": [
    "# ⑤（関数）"
   ]
  },
  {
   "cell_type": "markdown",
   "metadata": {},
   "source": [
    "# Lesson7"
   ]
  },
  {
   "cell_type": "markdown",
   "metadata": {},
   "source": [
    "### 構文（関数定義）\n",
    "```Python\n",
    "def <関数名>(<引数リスト>):\n",
    "    <文>\n",
    "    ・・・\n",
    "    return <戻り値>\n",
    "```"
   ]
  },
  {
   "cell_type": "markdown",
   "metadata": {},
   "source": [
    "### 構文（関数の呼び出し）\n",
    "```Python\n",
    "<関数名>(<引数リスト>)\n",
    "```"
   ]
  },
  {
   "cell_type": "markdown",
   "metadata": {},
   "source": [
    "### Sample1.py"
   ]
  },
  {
   "cell_type": "code",
   "execution_count": 1,
   "metadata": {},
   "outputs": [
    {
     "name": "stdout",
     "output_type": "stream",
     "text": [
      "販売が行われました。\n"
     ]
    }
   ],
   "source": [
    "def sell():\n",
    "    print(\"販売が行われました。\")\n",
    "\n",
    "sell()"
   ]
  },
  {
   "cell_type": "code",
   "execution_count": 1,
   "metadata": {},
   "outputs": [
    {
     "ename": "NameError",
     "evalue": "name 'hoge' is not defined",
     "output_type": "error",
     "traceback": [
      "\u001b[1;31m---------------------------------------------------------------------------\u001b[0m",
      "\u001b[1;31mNameError\u001b[0m                                 Traceback (most recent call last)",
      "\u001b[1;32m<ipython-input-1-e9102f324289>\u001b[0m in \u001b[0;36m<module>\u001b[1;34m\u001b[0m\n\u001b[1;32m----> 1\u001b[1;33m \u001b[0mhoge\u001b[0m\u001b[1;33m(\u001b[0m\u001b[1;33m)\u001b[0m\u001b[1;33m\u001b[0m\u001b[1;33m\u001b[0m\u001b[0m\n\u001b[0m\u001b[0;32m      2\u001b[0m \u001b[1;33m\u001b[0m\u001b[0m\n\u001b[0;32m      3\u001b[0m \u001b[1;32mdef\u001b[0m \u001b[0mhoge\u001b[0m\u001b[1;33m(\u001b[0m\u001b[1;33m)\u001b[0m\u001b[1;33m:\u001b[0m\u001b[1;33m\u001b[0m\u001b[1;33m\u001b[0m\u001b[0m\n\u001b[0;32m      4\u001b[0m     \u001b[0mprint\u001b[0m\u001b[1;33m(\u001b[0m\u001b[1;34m\"hoge\"\u001b[0m\u001b[1;33m)\u001b[0m\u001b[1;33m\u001b[0m\u001b[1;33m\u001b[0m\u001b[0m\n",
      "\u001b[1;31mNameError\u001b[0m: name 'hoge' is not defined"
     ]
    }
   ],
   "source": [
    "hoge()\n",
    "\n",
    "def hoge():\n",
    "    print(\"hoge\")"
   ]
  },
  {
   "cell_type": "code",
   "execution_count": 2,
   "metadata": {},
   "outputs": [
    {
     "ename": "NameError",
     "evalue": "name 'hoge' is not defined",
     "output_type": "error",
     "traceback": [
      "\u001b[1;31m---------------------------------------------------------------------------\u001b[0m",
      "\u001b[1;31mNameError\u001b[0m                                 Traceback (most recent call last)",
      "\u001b[1;32m<ipython-input-2-16abde1b8ca1>\u001b[0m in \u001b[0;36m<module>\u001b[1;34m\u001b[0m\n\u001b[1;32m----> 1\u001b[1;33m \u001b[0mhoge\u001b[0m\u001b[1;33m(\u001b[0m\u001b[1;33m)\u001b[0m\u001b[1;33m\u001b[0m\u001b[1;33m\u001b[0m\u001b[0m\n\u001b[0m\u001b[0;32m      2\u001b[0m \u001b[1;33m\u001b[0m\u001b[0m\n\u001b[0;32m      3\u001b[0m \u001b[1;32mdef\u001b[0m \u001b[0mhoge\u001b[0m\u001b[1;33m(\u001b[0m\u001b[1;33m)\u001b[0m\u001b[1;33m:\u001b[0m\u001b[1;33m\u001b[0m\u001b[1;33m\u001b[0m\u001b[0m\n\u001b[0;32m      4\u001b[0m     \u001b[0mprint\u001b[0m\u001b[1;33m(\u001b[0m\u001b[1;34m\"hoge\"\u001b[0m\u001b[1;33m)\u001b[0m\u001b[1;33m\u001b[0m\u001b[1;33m\u001b[0m\u001b[0m\n\u001b[0;32m      5\u001b[0m \u001b[1;33m\u001b[0m\u001b[0m\n",
      "\u001b[1;31mNameError\u001b[0m: name 'hoge' is not defined"
     ]
    }
   ],
   "source": [
    "hoge()\n",
    "\n",
    "def hoge():\n",
    "    print(\"hoge\")\n",
    "\n",
    "print(\"fuga\")\n",
    "hoge()"
   ]
  },
  {
   "cell_type": "code",
   "execution_count": 3,
   "metadata": {},
   "outputs": [
    {
     "name": "stdout",
     "output_type": "stream",
     "text": [
      "fuga\n",
      "hoge\n"
     ]
    }
   ],
   "source": [
    "#hoge()\n",
    "\n",
    "def hoge():\n",
    "    print(\"hoge\")\n",
    "\n",
    "print(\"fuga\")\n",
    "hoge()"
   ]
  },
  {
   "cell_type": "markdown",
   "metadata": {},
   "source": [
    "### Sample2.py"
   ]
  },
  {
   "cell_type": "code",
   "execution_count": 2,
   "metadata": {},
   "outputs": [
    {
     "name": "stdout",
     "output_type": "stream",
     "text": [
      "販売が行われました。\n",
      "もう1度販売を行います。\n",
      "販売が行われました。\n"
     ]
    }
   ],
   "source": [
    "def sell():\n",
    "    print(\"販売が行われました。\")\n",
    "\n",
    "sell()\n",
    "\n",
    "print(\"もう1度販売を行います。\")\n",
    "\n",
    "sell()"
   ]
  },
  {
   "cell_type": "markdown",
   "metadata": {},
   "source": [
    "### Sample3.py"
   ]
  },
  {
   "cell_type": "code",
   "execution_count": 3,
   "metadata": {},
   "outputs": [
    {
     "name": "stdout",
     "output_type": "stream",
     "text": [
      "東京 支店の販売が行われました。\n",
      "大阪 支店の販売が行われました。\n"
     ]
    }
   ],
   "source": [
    "def sell(place):\n",
    "    print(place, \"支店の販売が行われました。\")\n",
    "\n",
    "sell(\"東京\")\n",
    "\n",
    "sell(\"大阪\")"
   ]
  },
  {
   "cell_type": "markdown",
   "metadata": {},
   "source": [
    "### Sample4.py"
   ]
  },
  {
   "cell_type": "code",
   "execution_count": 4,
   "metadata": {},
   "outputs": [
    {
     "name": "stdout",
     "output_type": "stream",
     "text": [
      "東京 支店の販売が行われました。\n"
     ]
    }
   ],
   "source": [
    "def sell(place):\n",
    "    print(place, \"支店の販売が行われました。\")\n",
    "\n",
    "shop = \"東京\"\n",
    "\n",
    "sell(shop)"
   ]
  },
  {
   "cell_type": "markdown",
   "metadata": {},
   "source": [
    "### Sample5.py"
   ]
  },
  {
   "cell_type": "code",
   "execution_count": 5,
   "metadata": {},
   "outputs": [
    {
     "name": "stdout",
     "output_type": "stream",
     "text": [
      "東京 支店で 5 万円の販売が行われました。\n"
     ]
    }
   ],
   "source": [
    "def sell(place, num):\n",
    "    print(place, \"支店で\", num, \"万円の販売が行われました。\")\n",
    "\n",
    "sell(\"東京\", 5)"
   ]
  },
  {
   "cell_type": "markdown",
   "metadata": {},
   "source": [
    "### Sample6.py"
   ]
  },
  {
   "cell_type": "code",
   "execution_count": 6,
   "metadata": {},
   "outputs": [
    {
     "name": "stdout",
     "output_type": "stream",
     "text": [
      "東京 支店で 5 社に 100 万円の販売が行われました。\n",
      "売上は 500 万円でした。\n"
     ]
    }
   ],
   "source": [
    "def sell(place, price, num):\n",
    "    print(place, \"支店で\", num, \"社に\", price, \"万円の販売が行われました。\")\n",
    "    tt = price * num\n",
    "    return tt\n",
    "\n",
    "total = sell(\"東京\", 100, 5)\n",
    "\n",
    "print(\"売上は\", total, \"万円でした。\")"
   ]
  },
  {
   "cell_type": "markdown",
   "metadata": {},
   "source": [
    "### 構文（return文）\n",
    "```Python\n",
    "return\n",
    "```"
   ]
  },
  {
   "cell_type": "markdown",
   "metadata": {},
   "source": [
    "### Sample7.py"
   ]
  },
  {
   "cell_type": "code",
   "execution_count": 7,
   "metadata": {},
   "outputs": [
    {
     "name": "stdout",
     "output_type": "stream",
     "text": [
      "2018 年 10 月 1 日に販売が行われました。\n",
      "販売完了: 2018 10 1\n"
     ]
    }
   ],
   "source": [
    "def sell():\n",
    "    y = 2018\n",
    "    m = 10\n",
    "    d = 1\n",
    "    print(y, \"年\", m, \"月\", d, \"日に販売が行われました。\")\n",
    "\n",
    "    return y, m, d\n",
    "\n",
    "sy, sm, sd = sell()\n",
    "\n",
    "print(\"販売完了:\", sy, sm, sd)"
   ]
  },
  {
   "cell_type": "markdown",
   "metadata": {},
   "source": [
    "### Sample8.py"
   ]
  },
  {
   "cell_type": "code",
   "execution_count": 8,
   "metadata": {},
   "outputs": [
    {
     "name": "stdout",
     "output_type": "stream",
     "text": [
      "操作番号を入力してください。（0～2）0\n",
      "データを追加します。\n"
     ]
    }
   ],
   "source": [
    "def append():\n",
    "    print(\"データを追加します。\")\n",
    "def update():\n",
    "    print(\"データを変更します。\")\n",
    "def delete():\n",
    "    print(\"データを削除します。\")\n",
    "\n",
    "list = [append, update, delete]\n",
    "\n",
    "res = int(input(\"操作番号を入力してください。（0～2）\"))\n",
    "\n",
    "if 0 <= res and res < len(list):\n",
    "    list[res]()"
   ]
  },
  {
   "cell_type": "markdown",
   "metadata": {},
   "source": [
    "### 構文（ラムダ演算子）\n",
    "```Python\n",
    "lambda <引数>: <式>\n",
    "```"
   ]
  },
  {
   "cell_type": "markdown",
   "metadata": {},
   "source": [
    "### Sample9.py"
   ]
  },
  {
   "cell_type": "code",
   "execution_count": 9,
   "metadata": {},
   "outputs": [
    {
     "name": "stdout",
     "output_type": "stream",
     "text": [
      "2\n",
      "4\n",
      "6\n",
      "8\n",
      "10\n"
     ]
    }
   ],
   "source": [
    "data = [1, 2, 3, 4, 5]\n",
    "\n",
    "for d in map(lambda x: x*2, data):\n",
    "    print(d)"
   ]
  },
  {
   "cell_type": "markdown",
   "metadata": {},
   "source": [
    "## map()関数\n",
    "```Python\n",
    "map(<関数>, <イテラブル>)\n",
    "```"
   ]
  },
  {
   "cell_type": "markdown",
   "metadata": {},
   "source": [
    "## デコレータ\n",
    "```Python\n",
    "@追加機能を修飾するデコレータ関数名  \n",
    "def <昨日を追加される関数名>:  \n",
    "    ・・・\n",
    "```"
   ]
  },
  {
   "cell_type": "markdown",
   "metadata": {},
   "source": [
    "### Sample10.py"
   ]
  },
  {
   "cell_type": "code",
   "execution_count": 10,
   "metadata": {},
   "outputs": [
    {
     "name": "stdout",
     "output_type": "stream",
     "text": [
      "メッセージを入力してください。ほげ\n",
      "---ほげ--- を入力しました。\n"
     ]
    }
   ],
   "source": [
    "def deco(func):\n",
    "    def wrapper(x):\n",
    "        wx = \"---\" + x + \"---\"\n",
    "        return func(wx)\n",
    "    return wrapper\n",
    "\n",
    "@deco\n",
    "def printmsg(x):\n",
    "    print(x, \"を入力しました。\")\n",
    "\n",
    "str = input(\"メッセージを入力してください。\")\n",
    "\n",
    "printmsg(str)"
   ]
  },
  {
   "cell_type": "markdown",
   "metadata": {},
   "source": [
    "### Sample11.py"
   ]
  },
  {
   "cell_type": "code",
   "execution_count": 12,
   "metadata": {},
   "outputs": [
    {
     "name": "stdout",
     "output_type": "stream",
     "text": [
      "関数の外で変数aが使えます。\n",
      "変数aの値は 0 です。\n",
      "funcBのなかでは変数aと変数bが使えます。\n",
      "変数aの値は 0 です。\n",
      "変数bの値は 1 です。\n",
      "funcCのなかでは変数aと変数cが使えます。\n",
      "変数aの値は 0 です。\n",
      "変数cの値は 2 です。\n"
     ]
    }
   ],
   "source": [
    "a = 0\n",
    "\n",
    "def funcB():\n",
    "\n",
    "    b = 1\n",
    "   \n",
    "    print(\"funcBのなかでは変数aと変数bが使えます。\")\n",
    "    print(\"変数aの値は\", a, \"です。\")\n",
    "    print(\"変数bの値は\", b, \"です。\")\n",
    "    #print(\"変数cの値は\", c, \"です。\")\n",
    "\n",
    "def funcC():\n",
    "\n",
    "    c = 2\n",
    "   \n",
    "    print(\"funcCのなかでは変数aと変数cが使えます。\")\n",
    "    print(\"変数aの値は\", a, \"です。\")\n",
    "    #print(\"変数bの値は\", b, \"です。\")\n",
    "    print(\"変数cの値は\", c, \"です。\")\n",
    "\n",
    "\n",
    "print(\"関数の外で変数aが使えます。\")\n",
    "print(\"変数aの値は\", a, \"です。\")\n",
    "#print(\"変数bの値は\", b, \"です。\")\n",
    "#print(\"変数cの値は\", c, \"です。\")\n",
    "\n",
    "funcB()\n",
    "funcC()"
   ]
  },
  {
   "cell_type": "markdown",
   "metadata": {},
   "source": [
    "### Sample12.py"
   ]
  },
  {
   "cell_type": "code",
   "execution_count": 13,
   "metadata": {},
   "outputs": [
    {
     "name": "stdout",
     "output_type": "stream",
     "text": [
      "変数aは 0 変数bは 0\n",
      "変数aは 1 変数bは 0\n",
      "変数aは 2 変数bは 0\n",
      "変数aは 3 変数bは 0\n",
      "変数aは 4 変数bは 0\n"
     ]
    }
   ],
   "source": [
    "a = 0\n",
    "\n",
    "def func():\n",
    "    global a\n",
    "    b = 0\n",
    "    \n",
    "    print(\"変数aは\", a, \"変数bは\", b)\n",
    "    \n",
    "    a = a+1\n",
    "    b = b+1\n",
    "\n",
    "for i in range(5):\n",
    "    func()"
   ]
  },
  {
   "cell_type": "markdown",
   "metadata": {},
   "source": [
    "# ほげ要望(^ω^)\n",
    "　教科書　【レッスンのまとめ】    \n",
    "・lesson7  \n",
    " 練習をやってくれたら喜びます"
   ]
  },
  {
   "cell_type": "markdown",
   "metadata": {},
   "source": [
    "# エクストラほげ問題⑤\n",
    "## 高校数学Ⅱ　整式の積分\n",
    "## 接線の傾き(導関数)から関数の決定\n",
    "人工知能（AI）を学ぶ上で必須な数学の知識を問うような問題を出します。  \n",
    "最低限の内容ばかり問うのでわからない人は焦った方がいいと思います（ほげおくん調べ）  \n",
    "  \n",
    "### もんだいだよん(^ω^)\n",
    "  \n",
    "①曲線$y=f(x)$は点$(1,4)$を通り,曲線上の任意の点$(x,y)$における接線の傾きが$2x^2-x+3$であるとする。この曲線の方程式を求めよ。"
   ]
  },
  {
   "cell_type": "markdown",
   "metadata": {},
   "source": [
    "## エクストラぽむぽむ問題\n",
    "\n",
    "### 関数を使って多様なシステムを作ろう\n",
    ">関数はとっても便利で、コードを簡潔にかけます\n",
    "><br>私はpythonで関数を勉強して始めて理解しました(javaでは理解しないままつかってました・・・）\n",
    "### １.機能を関数化しょう\n",
    "任意の年月のカレンダーを表示する関数と、現在時刻を表示する関数をつくってみよう\n",
    "\n",
    "#### 関数製作だけなので実行結果はないです"
   ]
  },
  {
   "cell_type": "code",
   "execution_count": 14,
   "metadata": {},
   "outputs": [],
   "source": [
    "#★の部分をかいて完成させてね\n",
    "#★　カレンダーを呼び出す関数定義（textという引数定義）\n",
    "    import calendar\n",
    "    print(text,\"を表示します。\")\n",
    "    year = int(input(\"表示する年を西暦で入力してください\"))\n",
    "    mon = int(input(\"表示する月を入力してください\"))\n",
    "   \n",
    "    #★print文の中身を書き換えてね\n",
    "    print()\n",
    "    \n",
    "#★　カレンダーを呼び出す関数定義（textという引数定義）\n",
    "    import datetime as dt\n",
    "    print(text,\"を表示します。\")\n",
    "    dt = dt#★\n",
    "    print (dt)"
   ]
  },
  {
   "cell_type": "markdown",
   "metadata": {},
   "source": [
    "### ２.実際に関数を呼び出す処理をかこう\n",
    "入力した機能を呼び出すようにしよう\n",
    "#### 以下実行結果\n",
    "=== 機能一覧 ===\n",
    "<br>カレンダー 現在時刻\n",
    "<br>表示したい機能を入力してください現在時刻\n",
    "<br>現在時刻 を表示します。\n",
    "<br>2020-10-08 10:15:28.367273"
   ]
  },
  {
   "cell_type": "code",
   "execution_count": 27,
   "metadata": {},
   "outputs": [
    {
     "name": "stdout",
     "output_type": "stream",
     "text": [
      "=== 機能一覧 ===\n",
      "カレンダー 現在時刻\n",
      "表示したい機能を入力してください現在時刻\n",
      "現在時刻 を表示します。\n",
      "2020-10-08 10:15:28.367273\n"
     ]
    }
   ],
   "source": [
    "print(\"=== 機能一覧 ===\")\n",
    "print(\"カレンダー\",\"現在時刻\")\n",
    "\n",
    "function = input(\"表示したい機能を入力してください\")\n",
    "\n",
    "if function == \"カレンダー\":\n",
    "    #★\n",
    "elif function == \"現在時刻\":\n",
    "    #★\n",
    "else:\n",
    "    print(\"最初からやり直して下さい\")"
   ]
  },
  {
   "cell_type": "markdown",
   "metadata": {},
   "source": [
    "# エクストラがんばれ問題\n",
    "がんばれ  \n",
    "上の問題なんかむずいからほどほどにしとく"
   ]
  },
  {
   "cell_type": "code",
   "execution_count": 16,
   "metadata": {},
   "outputs": [
    {
     "name": "stdout",
     "output_type": "stream",
     "text": [
      "2+3=5\n",
      "None\n"
     ]
    }
   ],
   "source": [
    "#エラー消して、計算結果が正しく出るようにして\n",
    "def add(a,b):\n",
    "    res=a+b\n",
    "    print(a+\"+\"+b+\"=\"+res)\n",
    "\n",
    "print(add())"
   ]
  },
  {
   "cell_type": "code",
   "execution_count": 12,
   "metadata": {},
   "outputs": [
    {
     "name": "stdout",
     "output_type": "stream",
     "text": [
      "\n"
     ]
    }
   ],
   "source": [
    "#下の2つの関数を用いて2の16乗の計算をやって、一番下の行のprintでだしてみて\n",
    "def multi(a,b):\n",
    "    res=a*b\n",
    "    return res\n",
    "\n",
    "def power(a,b):\n",
    "    res=a\n",
    "    for i in range(b-1):\n",
    "        res=multi(res,a)  \n",
    "    return res\n",
    "\n",
    "\n",
    "print()"
   ]
  },
  {
   "cell_type": "code",
   "execution_count": 1,
   "metadata": {},
   "outputs": [
    {
     "ename": "NameError",
     "evalue": "name 'np' is not defined",
     "output_type": "error",
     "traceback": [
      "\u001b[1;31m---------------------------------------------------------------------------\u001b[0m",
      "\u001b[1;31mNameError\u001b[0m                                 Traceback (most recent call last)",
      "\u001b[1;32m<ipython-input-1-82adbd0fce5b>\u001b[0m in \u001b[0;36m<module>\u001b[1;34m\u001b[0m\n\u001b[0;32m      1\u001b[0m \u001b[1;31m#エラー出ちゃうたすけてあげて\u001b[0m\u001b[1;33m\u001b[0m\u001b[1;33m\u001b[0m\u001b[1;33m\u001b[0m\u001b[0m\n\u001b[0;32m      2\u001b[0m \u001b[1;32mimport\u001b[0m \u001b[0mnumpy\u001b[0m\u001b[1;33m\u001b[0m\u001b[1;33m\u001b[0m\u001b[0m\n\u001b[1;32m----> 3\u001b[1;33m \u001b[0ma\u001b[0m \u001b[1;33m=\u001b[0m \u001b[0mnp\u001b[0m\u001b[1;33m.\u001b[0m\u001b[0marray\u001b[0m\u001b[1;33m(\u001b[0m\u001b[1;33m[\u001b[0m\u001b[1;36m1\u001b[0m\u001b[1;33m,\u001b[0m \u001b[1;36m2\u001b[0m\u001b[1;33m,\u001b[0m \u001b[1;36m3\u001b[0m\u001b[1;33m,\u001b[0m \u001b[1;36m4\u001b[0m\u001b[1;33m]\u001b[0m\u001b[1;33m)\u001b[0m\u001b[1;33m\u001b[0m\u001b[1;33m\u001b[0m\u001b[0m\n\u001b[0m\u001b[0;32m      4\u001b[0m \u001b[0mprint\u001b[0m\u001b[1;33m(\u001b[0m\u001b[0ma\u001b[0m\u001b[1;33m)\u001b[0m\u001b[1;33m\u001b[0m\u001b[1;33m\u001b[0m\u001b[0m\n",
      "\u001b[1;31mNameError\u001b[0m: name 'np' is not defined"
     ]
    }
   ],
   "source": [
    "#エラー出ちゃうので直して配列が正しく出力されるようにしてね\n",
    "import numpy\n",
    "a = np.array([1, 2, 3, 4])\n",
    "print(a)"
   ]
  },
  {
   "cell_type": "code",
   "execution_count": null,
   "metadata": {},
   "outputs": [],
   "source": []
  }
 ],
 "metadata": {
  "kernelspec": {
   "display_name": "Python 3",
   "language": "python",
   "name": "python3"
  },
  "language_info": {
   "codemirror_mode": {
    "name": "ipython",
    "version": 3
   },
   "file_extension": ".py",
   "mimetype": "text/x-python",
   "name": "python",
   "nbconvert_exporter": "python",
   "pygments_lexer": "ipython3",
   "version": "3.8.3"
  }
 },
 "nbformat": 4,
 "nbformat_minor": 2
}
