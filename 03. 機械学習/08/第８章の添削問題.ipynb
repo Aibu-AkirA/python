{
 "cells": [
  {
   "cell_type": "code",
   "execution_count": 2,
   "metadata": {},
   "outputs": [
    {
     "name": "stdout",
     "output_type": "stream",
     "text": [
      "growth      50\n",
      "ishikawa    26\n",
      "mission      7\n",
      "pro          1\n",
      "dtype: int64\n",
      "\n",
      "growth      50\n",
      "mission      7\n",
      "ishikawa    26\n",
      "pro          1\n",
      "tutor       30\n",
      "dtype: int64\n",
      "\n",
      "   ishikawa\n",
      "2         9\n",
      "3         8\n",
      "4         9\n",
      "5        10\n"
     ]
    }
   ],
   "source": [
    "import pandas as pd\n",
    "import numpy as np\n",
    "\n",
    "index = [\"growth\", \"mission\", \"ishikawa\", \"pro\"]\n",
    "data = [50, 7, 26, 1]\n",
    "#Seriesを作成してください\n",
    "series = pd.Series(data, index=index)\n",
    "\n",
    "#インデックスについてアルファベット順にソートしたseriesをaidemyに代入してください\n",
    "aidemy = series.sort_index()\n",
    "\n",
    "#seriesに、インデックスが\"tutor\"、データが30の要素を追加してください\n",
    "aidemy1 = pd.Series([30], index=[\"tutor\"])\n",
    "aidemy2 = series.append(aidemy1)\n",
    "\n",
    "print(aidemy)\n",
    "print()\n",
    "print(aidemy2)\n",
    "\n",
    "#DataFrameを生成し、列を追加します\n",
    "df = pd.DataFrame()\n",
    "for index in index:\n",
    "    df[index] = np.random.choice(range(1, 11), 10)\n",
    "    #range(開始行数、終了行数-1)です\n",
    "df.index = range(1, 11)\n",
    "\n",
    "#loc[]を使ってdfの２行目から５行目までの4行と、\"ishikawa\"を含むDataFrameをaidemy3に代入してください\n",
    "#インデックスは先頭の行が１，以後は整数値が偶が昇順に付けられています\n",
    "aidemy3 = df.loc[range(2,6),[\"ishikawa\"]]\n",
    "print()\n",
    "print(aidemy3)"
   ]
  },
  {
   "cell_type": "code",
   "execution_count": null,
   "metadata": {},
   "outputs": [],
   "source": []
  }
 ],
 "metadata": {
  "kernelspec": {
   "display_name": "Python 3",
   "language": "python",
   "name": "python3"
  },
  "language_info": {
   "codemirror_mode": {
    "name": "ipython",
    "version": 3
   },
   "file_extension": ".py",
   "mimetype": "text/x-python",
   "name": "python",
   "nbconvert_exporter": "python",
   "pygments_lexer": "ipython3",
   "version": "3.8.3"
  }
 },
 "nbformat": 4,
 "nbformat_minor": 4
}
