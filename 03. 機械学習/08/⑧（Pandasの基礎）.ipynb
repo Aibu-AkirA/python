{
 "cells": [
  {
   "cell_type": "markdown",
   "metadata": {},
   "source": [
    "# 力試しタイム"
   ]
  },
  {
   "cell_type": "markdown",
   "metadata": {},
   "source": [
    "P214の総合添削問題をやってみてはいかが？"
   ]
  },
  {
   "cell_type": "markdown",
   "metadata": {},
   "source": [
    "#  Chapter8 Pandasの基礎"
   ]
  },
  {
   "cell_type": "markdown",
   "metadata": {},
   "source": [
    "## 8.1 Pandasの外観（P.220）\n",
    "### 8.1.1 Pandasとは\n",
    "* **Pandas**\n",
    "    * Numpyと同様にデータの集合を扱うためのライブラリ\n",
    "        * 一般的なデータベースで行われる操作が実行可能\n",
    "        * 数値以外に文字列データも簡単に扱うことができる\n",
    "        \n",
    "* Pandasのデータ構造\n",
    "    * Series\n",
    "        * 1次元の配列\n",
    "            * 各要素にラベルが付与される\n",
    "    * **DataFrame**\n",
    "        * 2次元のテーブルで表される\n",
    "            * 横方向のデータ：行\n",
    "                * 行ラベル：インデックス\n",
    "            * 縦方向のデータ：列\n",
    "                * 列ラベル：カラム\n"
   ]
  },
  {
   "cell_type": "markdown",
   "metadata": {},
   "source": [
    "### 8.1.2 SeriesとDataFrameのデータの確認\n",
    "\n",
    "* Seriesは辞書型（ディクショナリ型）を渡すことで、キーの昇順にソートされる\n",
    "    * (おそらく)sort_index()操作が必要\n",
    "    \n",
    "    \n",
    "#### リスト8.1（Seriesのデータの例）（P.221）"
   ]
  },
  {
   "cell_type": "code",
   "execution_count": 25,
   "metadata": {},
   "outputs": [
    {
     "name": "stdout",
     "output_type": "stream",
     "text": [
      "=== そのまま出力 ===\n",
      "orange    3\n",
      "banana    2\n",
      "dtype: int64\n",
      "=== sort_index()後の出力 ===\n",
      "banana    2\n",
      "orange    3\n",
      "dtype: int64\n"
     ]
    }
   ],
   "source": [
    "# Pandas を pd として importします\n",
    "import pandas as pd\n",
    "# Series のデータです\n",
    "fruits = {\"orange\": 3, \"banana\": 2}\n",
    "print(\"=== そのまま出力 ===\")\n",
    "print(pd.Series(fruits))\n",
    "\n",
    "f_series = pd.Series(fruits)\n",
    "\n",
    "print(\"=== sort_index()後の出力 ===\")\n",
    "print(f_series.sort_index())"
   ]
  },
  {
   "cell_type": "markdown",
   "metadata": {},
   "source": [
    "#### Seriesのデータの例（インデックス指定）"
   ]
  },
  {
   "cell_type": "code",
   "execution_count": 4,
   "metadata": {},
   "outputs": [
    {
     "name": "stdout",
     "output_type": "stream",
     "text": [
      "===Seriesデータ（インデックス指定なし）===\n",
      "0     3\n",
      "1    15\n",
      "2    11\n",
      "dtype: int64\n",
      "===Seriesデータ（インデックス指定あり）===\n",
      "apple      3\n",
      "orange    15\n",
      "banana    11\n",
      "dtype: int64\n"
     ]
    }
   ],
   "source": [
    "# pandasをpdとしてimportします\n",
    "import pandas as pd\n",
    "\n",
    "# Series用の値作成\n",
    "data = [3, 15, 11]\n",
    "\n",
    "# Seriesの作成（インデックス指定なし）\n",
    "print(\"===Seriesデータ（インデックス指定なし）===\")\n",
    "series = pd.Series(data)\n",
    "print(series)\n",
    "\n",
    "# Seriesの作成（インデックス指定あり）\n",
    "# Series用のラベル（インデックス）作成\n",
    "index = [\"apple\", \"orange\", \"banana\"]\n",
    "\n",
    "print(\"===Seriesデータ（インデックス指定あり）===\")\n",
    "series = pd.Series(data, index=index)\n",
    "print(series)"
   ]
  },
  {
   "cell_type": "markdown",
   "metadata": {},
   "source": [
    "#### リスト8.2（DataFrameのデータの例）（P.222）"
   ]
  },
  {
   "cell_type": "code",
   "execution_count": 11,
   "metadata": {},
   "outputs": [
    {
     "name": "stdout",
     "output_type": "stream",
     "text": [
      "       fruits  year  time\n",
      "0       apple  2001     1\n",
      "1      orange  2002     4\n",
      "2      banana  2001     5\n",
      "3  strawberry  2008     6\n",
      "4   kiwifruit  2006     3\n"
     ]
    }
   ],
   "source": [
    "# Pandas を pd として importします\n",
    "import pandas as pd\n",
    "\n",
    "# DataFrameのデータです\n",
    "data = {\"fruits\": [\"apple\", \"orange\", \"banana\", \"strawberry\", \"kiwifruit\"],\n",
    "        \"year\": [2001, 2002, 2001, 2008, 2006],\n",
    "        \"time\": [1, 4, 5, 6, 3]}\n",
    "df = pd.DataFrame(data)\n",
    "print(df)"
   ]
  },
  {
   "cell_type": "markdown",
   "metadata": {},
   "source": [
    "## 8.2 Series（P.224）\n",
    "\n",
    "### 8.2.1 Seriesを生成する\n",
    "* Series\n",
    "    * 1次元の配列のように扱うことができる\n",
    "    * 生成方法\n",
    "        * pandasをimport\n",
    "            * **import pandas as pd**と書く\n",
    "            * pandas.Series → **pd.Series**と略記可能\n",
    "        * **pandas.Series(辞書型のリスト)**\n",
    "            * 各要素のキーがインデックスとなる\n",
    "        * **pandas.Series(データ配列, index=インデックス配列)**\n",
    "            * データとそれに関連付けたインデックスの指定での生成\n",
    "            * indexを指定しない場合、0からの整数がインデックスとなる\n",
    "* Series出力（print）時の**dtype**の表示\n",
    "    * dtype＝Data type\n",
    "        * データの型\n"
   ]
  },
  {
   "cell_type": "markdown",
   "metadata": {},
   "source": [
    "#### リスト8.1（Seriesのデータの例）（P.221）"
   ]
  },
  {
   "cell_type": "code",
   "execution_count": 1,
   "metadata": {},
   "outputs": [
    {
     "name": "stdout",
     "output_type": "stream",
     "text": [
      "=== そのまま出力 ===\n",
      "orange    3\n",
      "banana    2\n",
      "dtype: int64\n"
     ]
    }
   ],
   "source": [
    "# Pandas を pd として importします\n",
    "import pandas as pd\n",
    "# Series のデータです\n",
    "fruits = {\"orange\": 3, \"banana\": 2}\n",
    "print(\"=== そのまま出力 ===\")\n",
    "print(pd.Series(fruits))"
   ]
  },
  {
   "cell_type": "markdown",
   "metadata": {},
   "source": [
    "#### Seriesのデータの例（インデックス指定）"
   ]
  },
  {
   "cell_type": "code",
   "execution_count": 4,
   "metadata": {},
   "outputs": [
    {
     "name": "stdout",
     "output_type": "stream",
     "text": [
      "===Seriesデータ（インデックス指定なし）===\n",
      "0     3\n",
      "1    15\n",
      "2    11\n",
      "dtype: int64\n",
      "===Seriesデータ（インデックス指定あり）===\n",
      "apple      3\n",
      "orange    15\n",
      "banana    11\n",
      "dtype: int64\n"
     ]
    }
   ],
   "source": [
    "# pandasをpdとしてimportします\n",
    "import pandas as pd\n",
    "\n",
    "# Series用の値作成\n",
    "data = [3, 15, 11]\n",
    "\n",
    "# Seriesの作成（インデックス指定なし）\n",
    "print(\"===Seriesデータ（インデックス指定なし）===\")\n",
    "series = pd.Series(data)\n",
    "print(series)\n",
    "\n",
    "# Seriesの作成（インデックス指定あり）\n",
    "# Series用のラベル（インデックス）作成\n",
    "index = [\"apple\", \"orange\", \"banana\"]\n",
    "\n",
    "print(\"===Seriesデータ（インデックス指定あり）===\")\n",
    "series = pd.Series(data, index=index)\n",
    "print(series)"
   ]
  },
  {
   "cell_type": "markdown",
   "metadata": {},
   "source": [
    "### 8.2.2 参照\n",
    "* Seriesの要素の参照方法\n",
    "    * 番号で指定する\n",
    "        * スライス指定により、任意の範囲の取り出しが可能\n",
    "    * インデックス値で指定する        \n",
    "        * 参照する要素のインデックス値を1つのリストにまとめて参照することも可能\n",
    "        \n",
    "#### リスト8.8（参照の例：番号（スライス）指定）（P.227）"
   ]
  },
  {
   "cell_type": "code",
   "execution_count": 2,
   "metadata": {},
   "outputs": [
    {
     "name": "stdout",
     "output_type": "stream",
     "text": [
      "banana    3\n",
      "orange    4\n",
      "dtype: int64\n"
     ]
    }
   ],
   "source": [
    "import pandas as pd\n",
    "fruits = {\"banana\": 3, \"orange\": 4, \"grape\": 1, \"peach\": 5}\n",
    "series = pd.Series(fruits)\n",
    "\n",
    "print(series[0:2])"
   ]
  },
  {
   "cell_type": "markdown",
   "metadata": {},
   "source": [
    "#### リスト8.9（参照の例：インデックス値指定）（P.227）"
   ]
  },
  {
   "cell_type": "code",
   "execution_count": 3,
   "metadata": {},
   "outputs": [
    {
     "name": "stdout",
     "output_type": "stream",
     "text": [
      "orange    4\n",
      "peach     5\n",
      "dtype: int64\n"
     ]
    }
   ],
   "source": [
    "import pandas as pd\n",
    "fruits = {\"banana\": 3, \"orange\": 4, \"grape\": 1, \"peach\": 5}\n",
    "series = pd.Series(fruits)\n",
    "\n",
    "print(series[[\"orange\", \"peach\"]])"
   ]
  },
  {
   "cell_type": "markdown",
   "metadata": {},
   "source": [
    "### 8.2.3 データ、インデックスを取り出す\n",
    "* Seriesのデータの値のみを取り出す\n",
    "    * **series.values**\n",
    "* Seriesのインデックスのみを取り出す\n",
    "    * **series.index**\n",
    "    \n",
    "#### データ、インデックスの取り出し"
   ]
  },
  {
   "cell_type": "code",
   "execution_count": 7,
   "metadata": {},
   "outputs": [
    {
     "name": "stdout",
     "output_type": "stream",
     "text": [
      "=== series ===\n",
      "apple      5\n",
      "orange    15\n",
      "banana    11\n",
      "dtype: int64\n",
      "=== series_values ===\n",
      "[ 5 15 11]\n",
      "=== series_index ===\n",
      "Index(['apple', 'orange', 'banana'], dtype='object')\n"
     ]
    }
   ],
   "source": [
    "import pandas as pd\n",
    "\n",
    "## インデックス指定ありSeriesの作成\n",
    "index = [\"apple\", \"orange\", \"banana\"]\n",
    "data = [5, 15, 11]\n",
    "series = pd.Series(data, index=index)\n",
    "print(\"=== series ===\")\n",
    "print(series)\n",
    "\n",
    "# series_valuesにseriesのデータを代入し出力\n",
    "series_values = series.values\n",
    "print(\"=== series_values ===\")\n",
    "print(series_values)\n",
    "\n",
    "# series_indexにseriesのインデックスを代入し出力\n",
    "series_index = series.index\n",
    "print(\"=== series_index ===\")\n",
    "print(series_index)"
   ]
  },
  {
   "cell_type": "markdown",
   "metadata": {},
   "source": [
    "### 8.2.4 要素を追加する\n",
    "* Seriesへの要素の追加（append()）\n",
    "    * **追加する要素もSeriesである必要**\n",
    "        * 追加したい要素をSeries型に変換してから**append()**により追加\n",
    "    \n",
    "#### リスト8.14（要素を追加する例）（P.230）"
   ]
  },
  {
   "cell_type": "code",
   "execution_count": 13,
   "metadata": {},
   "outputs": [
    {
     "name": "stdout",
     "output_type": "stream",
     "text": [
      "=== series ===\n",
      "banana    3\n",
      "orange    2\n",
      "dtype: int64\n",
      "=== grape追加後のseries ===\n",
      "banana    3\n",
      "orange    2\n",
      "grape     3\n",
      "dtype: int64\n"
     ]
    }
   ],
   "source": [
    "import pandas as pd\n",
    "\n",
    "## ディクショナリ型を使ってseries作成\n",
    "fruits = {\"banana\": 3, \"orange\": 2}\n",
    "series = pd.Series(fruits)\n",
    "print(\"=== series ===\")\n",
    "print(series)\n",
    "\n",
    "## リストとindexを指定する形で要素を追加\n",
    "series = series.append(pd.Series([3], index=[\"grape\"]))\n",
    "print(\"=== grape追加後のseries ===\")\n",
    "print(series)"
   ]
  },
  {
   "cell_type": "markdown",
   "metadata": {},
   "source": [
    "### 8.2.5 要素を削除する\n",
    "* Seriesの要素の削除\n",
    "    * インデックス参照を用いて削除できる\n",
    "    * **series.drop(\"インデックス\")**\n",
    "        * dropはdrop元のseriesに影響を与えないので注意\n",
    "\n",
    "    \n",
    "#### リスト8.17（要素の削除）（P.232）"
   ]
  },
  {
   "cell_type": "code",
   "execution_count": 10,
   "metadata": {},
   "outputs": [
    {
     "name": "stdout",
     "output_type": "stream",
     "text": [
      "=== series ===\n",
      "apple         11\n",
      "orange         8\n",
      "banana         3\n",
      "strawberry    10\n",
      "dtype: int64\n",
      "=== banana削除後のseries ===\n",
      "apple         11\n",
      "orange         8\n",
      "strawberry    10\n",
      "dtype: int64\n"
     ]
    }
   ],
   "source": [
    "import pandas as pd\n",
    "\n",
    "# index指定ありのSeries作成\n",
    "index = [\"apple\", \"orange\", \"banana\", \"strawberry\"]\n",
    "data = [11, 8, 3, 10]\n",
    "series = pd.Series(data, index=index)\n",
    "print(\"=== series ===\")\n",
    "print(series)\n",
    "\n",
    "# インデックスがbananaの要素を削除\n",
    "series = series.drop(\"banana\")\n",
    "print(\"=== banana削除後のseries ===\")\n",
    "print(series)\n"
   ]
  },
  {
   "cell_type": "markdown",
   "metadata": {},
   "source": [
    "#### 要素の削除（drop結果を別の変数に入れた場合）"
   ]
  },
  {
   "cell_type": "code",
   "execution_count": 10,
   "metadata": {},
   "outputs": [
    {
     "name": "stdout",
     "output_type": "stream",
     "text": [
      "=== series ===\n",
      "apple         10\n",
      "orange         5\n",
      "banana         8\n",
      "strawberry    12\n",
      "kiwifruit      3\n",
      "dtype: int64\n",
      "=== series1 ===\n",
      "apple        10\n",
      "orange        5\n",
      "banana        8\n",
      "kiwifruit     3\n",
      "dtype: int64\n"
     ]
    }
   ],
   "source": [
    "import pandas as pd\n",
    "\n",
    "index = [\"apple\", \"orange\", \"banana\", \"strawberry\", \"kiwifruit\"]\n",
    "data = [10, 5, 8, 12, 3]\n",
    "\n",
    "# indexとdataを含むSeriesを作成しseriesに代入します\n",
    "series = pd.Series(data, index=index)\n",
    "\n",
    "# dropの結果を別の変数に代入する\n",
    "series1 = series.drop(\"strawberry\")\n",
    "\n",
    "print(\"=== series ===\")\n",
    "print(series)\n",
    "print(\"=== series1 ===\")\n",
    "print(series1)\n"
   ]
  },
  {
   "cell_type": "markdown",
   "metadata": {},
   "source": [
    "### 8.2.6 フィルタリング\n",
    "* Series型のデータの中から、条件に一致する要素を取り出す方法\n",
    "    * **bool型のシーケンスを指定すると、Trueとなるものだけを抽出できる**\n",
    "        * シーケンス：順序関係のある型（リスト、タプル、文字列等）\n",
    "    * bool型シーケンスでなく、**Series(DataFrame)を使った条件式の利用も可能**\n",
    "        * 複数条件の設定も可能\n",
    "    \n",
    "#### リスト8.19, 8.20（フィルタリングの例）（P.233, 234）"
   ]
  },
  {
   "cell_type": "code",
   "execution_count": 21,
   "metadata": {},
   "outputs": [
    {
     "name": "stdout",
     "output_type": "stream",
     "text": [
      "=== bool型シーケンスによるフィルタリング ===\n",
      "apple     10\n",
      "orange     5\n",
      "dtype: int64\n",
      "=== 条件式によるフィルタリング ===\n",
      "apple         10\n",
      "orange         5\n",
      "banana         8\n",
      "strawberry    12\n",
      "dtype: int64\n"
     ]
    }
   ],
   "source": [
    "index = [\"apple\", \"orange\", \"banana\", \"strawberry\", \"kiwifruit\"]\n",
    "data = [10, 5, 8, 12, 3]\n",
    "series = pd.Series(data, index=index)\n",
    "\n",
    "## bool型シーケンスによるフィルタリング\n",
    "conditions = [True, True, False, False, False]\n",
    "print(\"=== bool型シーケンスによるフィルタリング ===\")\n",
    "print(series[conditions])\n",
    "\n",
    "## 条件式によるフィルタリング\n",
    "## 値が5以上の要素を出力する\n",
    "print(\"=== 条件式によるフィルタリング ===\")\n",
    "print(series[series >= 5])"
   ]
  },
  {
   "cell_type": "markdown",
   "metadata": {},
   "source": [
    "### 8.2.7 ソート\n",
    "* Series型のソート方法\n",
    "    * インデックスについてのソート\n",
    "        * 変数seriesに対して、**series.sort_index()**\n",
    "    * データ（値）についてのソート\n",
    "        * 変数seriesに対して、**series.sort_values()**\n",
    "    * ソート順\n",
    "        * 特に指定しない場合：昇順ソート\n",
    "        * 引数に**ascending=False**を渡す：降順ソート\n",
    "            * series.sort_index(ascending=False)\n",
    "            * series.sort_values(ascending=False)\n",
    "    \n",
    "#### ソートの例"
   ]
  },
  {
   "cell_type": "code",
   "execution_count": 16,
   "metadata": {},
   "outputs": [
    {
     "name": "stdout",
     "output_type": "stream",
     "text": [
      "=== series ===\n",
      "apple     50\n",
      "orange    10\n",
      "banana    25\n",
      "dtype: int64\n",
      "=== indexについてソート ===\n",
      "apple     50\n",
      "banana    25\n",
      "orange    10\n",
      "dtype: int64\n",
      "=== データについてソート ===\n",
      "orange    10\n",
      "banana    25\n",
      "apple     50\n",
      "dtype: int64\n"
     ]
    }
   ],
   "source": [
    "import pandas as pd\n",
    "\n",
    "index = [\"apple\", \"orange\", \"banana\"]\n",
    "data = [50, 10, 25]\n",
    "series = pd.Series(data, index=index)\n",
    "print(\"=== series ===\")\n",
    "print(series)\n",
    "\n",
    "# seriesをインデックスについてアルファベット順にソート\n",
    "items1 = series.sort_index()\n",
    "print(\"=== indexについてソート ===\")\n",
    "print(items1)\n",
    "\n",
    "# seriesをデータについて値の大きさを昇順にソート\n",
    "items2 = series.sort_values()\n",
    "print(\"=== データについてソート ===\")\n",
    "print(items2)"
   ]
  },
  {
   "cell_type": "markdown",
   "metadata": {},
   "source": [
    "## 8.3 DataFrame（P.237）\n",
    "\n",
    "### 8.3.1 DataFrameの生成\n",
    "* DataFrame\n",
    "    * 2次元のデータ構造\n",
    "        * Seriesを複数束ねたようなイメージ\n",
    "        * 横方向のデータ：行\n",
    "            * 行ラベル：インデックス\n",
    "        * 縦方向のデータ：列\n",
    "            * 列ラベル：カラム\n",
    "\n",
    "    * 生成方法\n",
    "        * **Seriesを利用**\n",
    "            * **pd.DataFrame(\\[Series, Series, ...\\])**\n",
    "        * **バリュー（値）にリスト型を持った辞書（ディクショナリ）型変数を利用**\n",
    "            * 複数の辞書型変数を使用する場合、各変数のリスト型の長さは等しくないといけない（リスト8.25）\n",
    "        * 二次元のリストやnumpy.ndarrayからも生成可能"
   ]
  },
  {
   "cell_type": "markdown",
   "metadata": {},
   "source": [
    "#### リスト8.25（DataFrameの生成）（P.237）"
   ]
  },
  {
   "cell_type": "code",
   "execution_count": 2,
   "metadata": {},
   "outputs": [
    {
     "name": "stdout",
     "output_type": "stream",
     "text": [
      "       fruits  year  time\n",
      "0       apple  2001     1\n",
      "1      orange  2002     4\n",
      "2      banana  2001     5\n",
      "3  strawberry  2008     6\n",
      "4   kiwifruit  2006     3\n"
     ]
    }
   ],
   "source": [
    "import pandas as pd\n",
    "\n",
    "## 値にリスト型を持った辞書型による生成の例\n",
    "data = {\"fruits\": [\"apple\", \"orange\", \"banana\", \"strawberry\", \"kiwifruit\"],\n",
    "        \"year\": [2001, 2002, 2001, 2008, 2006],\n",
    "        \"time\": [1, 4, 5, 6, 3]}\n",
    "df = pd.DataFrame(data)\n",
    "print(df)"
   ]
  },
  {
   "cell_type": "markdown",
   "metadata": {},
   "source": [
    "#### 二次元のリストを利用したDataFrame生成の例"
   ]
  },
  {
   "cell_type": "code",
   "execution_count": 6,
   "metadata": {},
   "outputs": [
    {
     "name": "stdout",
     "output_type": "stream",
     "text": [
      "       fruits  year  time\n",
      "0       apple  2001     1\n",
      "1      orange  2002     4\n",
      "2      banana  2001     5\n",
      "3  strawberry  2008     6\n",
      "4   kiwifruit  2006     3\n"
     ]
    }
   ],
   "source": [
    "import pandas as pd\n",
    "\n",
    "## 二次元のリストを利用したDataFrameの例\n",
    "df = pd.DataFrame([[\"apple\", 2001, 1],\n",
    "                   [\"orange\", 2002, 4],\n",
    "                   [\"banana\", 2001, 5],\n",
    "                   [\"strawberry\", 2008, 6],\n",
    "                   [\"kiwifruit\", 2006, 3]],\n",
    "                   columns=[\"fruits\", \"year\", \"time\"])\n",
    "print(df)"
   ]
  },
  {
   "cell_type": "markdown",
   "metadata": {},
   "source": [
    "### 8.3.2 インデックスとカラムを設定する\n",
    "* インデックス\n",
    "    * 行の名前\n",
    "    * 特に指定しない場合、0から昇順に数字が割り当てられる\n",
    "    * **df.index** に行数と同じ長さのリストを代入することで設定可能\n",
    "* カラム\n",
    "    * 列の名前\n",
    "    * 元データが**Seriesの場合、index**がカラム\n",
    "    * 元データが**辞書型の場合、キー**がカラム\n",
    "    * **df.columns** に列数と同じ長さのリストを代入することで設定可能\n"
   ]
  },
  {
   "cell_type": "markdown",
   "metadata": {},
   "source": [
    "#### インデックス、カラム設定の例"
   ]
  },
  {
   "cell_type": "code",
   "execution_count": 18,
   "metadata": {
    "id": "answer",
    "scrolled": true
   },
   "outputs": [
    {
     "name": "stdout",
     "output_type": "stream",
     "text": [
      "=== df ===\n",
      "   fruits  year  time\n",
      "0   apple  2001     1\n",
      "1  orange  2002     4\n",
      "2  banana  2001     5\n",
      "=== index設定後のdf ===\n",
      "    fruits  year  time\n",
      "11   apple  2001     1\n",
      "12  orange  2002     4\n",
      "13  banana  2001     5\n",
      "=== columns設定後のdf ===\n",
      "     items  version  nums\n",
      "11   apple     2001     1\n",
      "12  orange     2002     4\n",
      "13  banana     2001     5\n"
     ]
    }
   ],
   "source": [
    "import pandas as pd\n",
    "\n",
    "## 辞書型変数からDataFrame型変数を作成\n",
    "data = {\"fruits\": [\"apple\", \"orange\", \"banana\"],\n",
    "        \"year\": [2001, 2002, 2001],\n",
    "        \"time\": [1, 4, 5]}\n",
    "df = pd.DataFrame(data)\n",
    "print(\"=== df ===\")\n",
    "print(df)\n",
    "\n",
    "## インデックスの設定\n",
    "df.index = [11, 12, 13]\n",
    "print(\"=== index設定後のdf ===\")\n",
    "print(df)\n",
    "\n",
    "# カラムの設定\n",
    "df.columns = [\"items\", \"version\", \"nums\"]\n",
    "print(\"=== columns設定後のdf ===\")\n",
    "print(df)\n"
   ]
  },
  {
   "cell_type": "markdown",
   "metadata": {},
   "source": [
    "### 8.3.3 行を追加する\n",
    "* 既存のDataFrameに新しいデータ（行データ）を追加したい場合\n",
    "    * 変数**df** に対して**df.append(\"Series型のデータ\", ignore_index=True)** を実行する\n",
    "        * 渡したSeries型のデータのインデックスが**df**のカラムに対応した上で、新しい行が追加されたDataFrameが生成される\n",
    "        * DataFrame全体が1から作り直されるので、データ量が大きい場合は注意が必要\n",
    "    * **df** のカラムと**df** に追加するSeries型のデータのインデックスが一致しない場合\n",
    "        * **df** に新しいカラムが追加され、値が存在しない要素は**NaN**で埋められる"
   ]
  },
  {
   "cell_type": "markdown",
   "metadata": {},
   "source": [
    "#### リスト8.30（行を追加する例）（P.240）"
   ]
  },
  {
   "cell_type": "code",
   "execution_count": 2,
   "metadata": {},
   "outputs": [
    {
     "name": "stdout",
     "output_type": "stream",
     "text": [
      "       fruits  year  time\n",
      "0       apple  2001     1\n",
      "1      orange  2002     4\n",
      "2      banana  2001     5\n",
      "3  strawberry  2008     6\n",
      "4   kiwifruit  2006     3\n",
      "5       mango  2008     7\n"
     ]
    }
   ],
   "source": [
    "import pandas as pd\n",
    "\n",
    "## 辞書型変数からDataFrame型変数を作成\n",
    "data = {\"fruits\": [\"apple\", \"orange\", \"banana\", \"strawberry\", \"kiwifruit\"],\n",
    "        \"year\": [2001, 2002, 2001, 2008, 2006],\n",
    "        \"time\": [1, 4, 5, 6, 3]}\n",
    "df = pd.DataFrame(data)\n",
    "\n",
    "## 追加するSeries型のデータを作成\n",
    "series = pd.Series([\"mango\", 2008, 7], index=[\"fruits\", \"year\", \"time\"])\n",
    "\n",
    "df = df.append(series, ignore_index=True)\n",
    "print(df)"
   ]
  },
  {
   "cell_type": "markdown",
   "metadata": {},
   "source": [
    "#### ignore_index=Falseでappendした場合\n",
    "* series に name が設定されていないとエラーになるというメッセージが表示される"
   ]
  },
  {
   "cell_type": "code",
   "execution_count": 2,
   "metadata": {},
   "outputs": [
    {
     "ename": "TypeError",
     "evalue": "Can only append a Series if ignore_index=True or if the Series has a name",
     "output_type": "error",
     "traceback": [
      "\u001b[1;31m---------------------------------------------------------------------------\u001b[0m",
      "\u001b[1;31mTypeError\u001b[0m                                 Traceback (most recent call last)",
      "\u001b[1;32m<ipython-input-2-703f75978cea>\u001b[0m in \u001b[0;36m<module>\u001b[1;34m\u001b[0m\n\u001b[0;32m      9\u001b[0m \u001b[1;31m##series = pd.Series([\"mango\", 2008, 7], index=[\"fruits\", \"year\", \"time\"], name=\"hoge\")\u001b[0m\u001b[1;33m\u001b[0m\u001b[1;33m\u001b[0m\u001b[1;33m\u001b[0m\u001b[0m\n\u001b[0;32m     10\u001b[0m \u001b[1;33m\u001b[0m\u001b[0m\n\u001b[1;32m---> 11\u001b[1;33m \u001b[0mdf\u001b[0m \u001b[1;33m=\u001b[0m \u001b[0mdf\u001b[0m\u001b[1;33m.\u001b[0m\u001b[0mappend\u001b[0m\u001b[1;33m(\u001b[0m\u001b[0mseries\u001b[0m\u001b[1;33m,\u001b[0m \u001b[0mignore_index\u001b[0m\u001b[1;33m=\u001b[0m\u001b[1;32mFalse\u001b[0m\u001b[1;33m)\u001b[0m\u001b[1;33m\u001b[0m\u001b[1;33m\u001b[0m\u001b[0m\n\u001b[0m\u001b[0;32m     12\u001b[0m \u001b[0mprint\u001b[0m\u001b[1;33m(\u001b[0m\u001b[0mdf\u001b[0m\u001b[1;33m)\u001b[0m\u001b[1;33m\u001b[0m\u001b[1;33m\u001b[0m\u001b[0m\n",
      "\u001b[1;32m~\\AppData\\Local\\Continuum\\anaconda3\\envs\\mlearn1\\lib\\site-packages\\pandas\\core\\frame.py\u001b[0m in \u001b[0;36mappend\u001b[1;34m(self, other, ignore_index, verify_integrity, sort)\u001b[0m\n\u001b[0;32m   7081\u001b[0m             \u001b[1;32mif\u001b[0m \u001b[0mother\u001b[0m\u001b[1;33m.\u001b[0m\u001b[0mname\u001b[0m \u001b[1;32mis\u001b[0m \u001b[1;32mNone\u001b[0m \u001b[1;32mand\u001b[0m \u001b[1;32mnot\u001b[0m \u001b[0mignore_index\u001b[0m\u001b[1;33m:\u001b[0m\u001b[1;33m\u001b[0m\u001b[1;33m\u001b[0m\u001b[0m\n\u001b[0;32m   7082\u001b[0m                 raise TypeError(\n\u001b[1;32m-> 7083\u001b[1;33m                     \u001b[1;34m\"Can only append a Series if ignore_index=True\"\u001b[0m\u001b[1;33m\u001b[0m\u001b[1;33m\u001b[0m\u001b[0m\n\u001b[0m\u001b[0;32m   7084\u001b[0m                     \u001b[1;34m\" or if the Series has a name\"\u001b[0m\u001b[1;33m\u001b[0m\u001b[1;33m\u001b[0m\u001b[0m\n\u001b[0;32m   7085\u001b[0m                 )\n",
      "\u001b[1;31mTypeError\u001b[0m: Can only append a Series if ignore_index=True or if the Series has a name"
     ]
    }
   ],
   "source": [
    "import pandas as pd\n",
    "\n",
    "data = {\"fruits\": [\"apple\", \"orange\", \"banana\", \"strawberry\", \"kiwifruit\"],\n",
    "        \"year\": [2001, 2002, 2001, 2008, 2006],\n",
    "        \"time\": [1, 4, 5, 6, 3]}\n",
    "df = pd.DataFrame(data)\n",
    "\n",
    "series = pd.Series([\"mango\", 2008, 7], index=[\"fruits\", \"year\", \"time\"])\n",
    "##series = pd.Series([\"mango\", 2008, 7], index=[\"fruits\", \"year\", \"time\"], name=\"hoge\")\n",
    "\n",
    "df = df.append(series, ignore_index=False)\n",
    "print(df)"
   ]
  },
  {
   "cell_type": "markdown",
   "metadata": {},
   "source": [
    "### 8.3.4 列を追加する\n",
    "* 既存のDataFrameに新しいカラム（列データ）を追加したい場合\n",
    "    * 変数**df** に対して**df\\[\"新しいカラム\"\\]** にSeriesまたはリストを代入する\n",
    "        * リストを代入した場合、最初の行から最初の要素が割り当てられる\n",
    "        * Seriesを代入した場合、Seriesのインデックスが**dfのインデックス**に対応して割り当てられる\n",
    "            * 行の追加（append）のときはSeries型のデータのインデックスが**dfのカラム**に対応"
   ]
  },
  {
   "cell_type": "markdown",
   "metadata": {},
   "source": [
    "#### リスト8.33（列を追加する例）（P.243）"
   ]
  },
  {
   "cell_type": "code",
   "execution_count": 5,
   "metadata": {},
   "outputs": [
    {
     "name": "stdout",
     "output_type": "stream",
     "text": [
      "       fruits  year  time  price\n",
      "0       apple  2001     1    150\n",
      "1      orange  2002     4    120\n",
      "2      banana  2001     5    100\n",
      "3  strawberry  2008     6    300\n",
      "4   kiwifruit  2006     3    150\n"
     ]
    }
   ],
   "source": [
    "import pandas as pd\n",
    "\n",
    "## 辞書型変数からDataFrame型変数を作成\n",
    "data = {\"fruits\": [\"apple\", \"orange\", \"banana\", \"strawberry\", \"kiwifruit\"],\n",
    "        \"year\": [2001, 2002, 2001, 2008, 2006],\n",
    "        \"time\": [1, 4, 5, 6, 3]}\n",
    "df = pd.DataFrame(data)\n",
    "\n",
    "## リストを代入して新しいカラムを追加\n",
    "df[\"price\"] = [150, 120, 100, 300, 150]\n",
    "print(df)"
   ]
  },
  {
   "cell_type": "markdown",
   "metadata": {},
   "source": [
    "### 8.3.5 データの参照\n",
    "* DataFrameのデータの参照\n",
    "    * 行と列を指定することで参照が可能\n",
    "* 参照方法\n",
    "    * **loc**\n",
    "        * 名前による参照\n",
    "    * **iloc**\n",
    "        * 番号による参照"
   ]
  },
  {
   "cell_type": "markdown",
   "metadata": {},
   "source": [
    "### 8.3.6 名前による参照\n",
    "* 名前による参照\n",
    "    * インデックス、カラム名を使って参照する：**loc**  \n",
    "    * **df.loc\\[\\[\"インデックスのリスト\"\\], \\[\"カラムのリスト\"\\]\\]**\n",
    "        * 該当する範囲のDataFrameを得ることができる"
   ]
  },
  {
   "cell_type": "markdown",
   "metadata": {},
   "source": [
    "#### リスト8.36（名前による参照の例①）、リスト8.37（名前による参照の例②）（P.246、247）"
   ]
  },
  {
   "cell_type": "code",
   "execution_count": 7,
   "metadata": {},
   "outputs": [
    {
     "name": "stdout",
     "output_type": "stream",
     "text": [
      "===DataFrame全体の表示===\n",
      "       fruits  year  time\n",
      "0       apple  2001     1\n",
      "1      orange  2002     4\n",
      "2      banana  2001     5\n",
      "3  strawberry  2008     6\n",
      "4   kiwifruit  2006     3\n",
      "===参照した領域の表示===\n",
      "   time  year\n",
      "1     4  2002\n",
      "2     5  2001\n"
     ]
    }
   ],
   "source": [
    "import pandas as pd\n",
    "\n",
    "data = {\"fruits\": [\"apple\", \"orange\", \"banana\", \"strawberry\", \"kiwifruit\"],\n",
    "        \"year\": [2001, 2002, 2001, 2008, 2006],\n",
    "        \"time\": [1, 4, 5, 6, 3]}\n",
    "df = pd.DataFrame(data)\n",
    "\n",
    "## DataFrame全体の表示\n",
    "print(\"===DataFrame全体の表示===\")\n",
    "print(df)\n",
    "\n",
    "## 名前による参照\n",
    "df = df.loc[[1,2],[\"time\",\"year\"]]\n",
    "## 参照した領域の表示\n",
    "print(\"===参照した領域の表示===\")\n",
    "print(df)"
   ]
  },
  {
   "cell_type": "markdown",
   "metadata": {},
   "source": [
    "### 8.3.7 番号による参照\n",
    "* 番号による参照\n",
    "    * インデックス、カラムの番号を使って参照する：**iloc**  \n",
    "    * **df.iloc\\[\\[\"行番号のリスト\"\\], \\[\"列番号のリスト\"\\]\\]**\n",
    "        * 該当する範囲のDataFrameを得ることができる\n",
    "        * 行・列ともに番号は0から始まる\n",
    "        * リストのほか、スライス機能の利用も可能"
   ]
  },
  {
   "cell_type": "markdown",
   "metadata": {},
   "source": [
    "#### リスト8.40（番号による参照の例①）、リスト8.41（番号による参照の例②）（P.248）"
   ]
  },
  {
   "cell_type": "code",
   "execution_count": 8,
   "metadata": {},
   "outputs": [
    {
     "name": "stdout",
     "output_type": "stream",
     "text": [
      "===DataFrame全体の表示===\n",
      "       fruits  year  time\n",
      "0       apple  2001     1\n",
      "1      orange  2002     4\n",
      "2      banana  2001     5\n",
      "3  strawberry  2008     6\n",
      "4   kiwifruit  2006     3\n",
      "===参照した領域の表示===\n",
      "       fruits  time\n",
      "1      orange     4\n",
      "3  strawberry     6\n"
     ]
    }
   ],
   "source": [
    "import pandas as pd\n",
    "\n",
    "data = {\"fruits\": [\"apple\", \"orange\", \"banana\", \"strawberry\", \"kiwifruit\"],\n",
    "        \"year\": [2001, 2002, 2001, 2008, 2006],\n",
    "        \"time\": [1, 4, 5, 6, 3]}\n",
    "df = pd.DataFrame(data)\n",
    "\n",
    "## DataFrame全体の表示\n",
    "print(\"===DataFrame全体の表示===\")\n",
    "print(df)\n",
    "\n",
    "## 番号による参照\n",
    "df = df.iloc[[1, 3], [0, 2]]\n",
    "\n",
    "## 参照した領域の表示\n",
    "print(\"===参照した領域の表示===\")\n",
    "print(df)"
   ]
  },
  {
   "cell_type": "markdown",
   "metadata": {},
   "source": [
    "### 8.3.8 行または列の削除\n",
    "* 行または列の削除\n",
    "    * **df.drop()** にインデックスまたはカラムを指定する \n",
    "        * インデックス、カラムはリストにしてまとめて削除することも可能\n",
    "        * 列の削除の場合、第2引数に**axis=1**を指定する\n",
    "        * pandas0.21.0からの追加機能\n",
    "            * **index=, columns=** での指定が可能となった\n",
    "                * axis指定をしなくても列の削除が可能となった\n",
    "            * index, columnでの指定により、行と列まとめて削除が可能となった"
   ]
  },
  {
   "cell_type": "markdown",
   "metadata": {},
   "source": [
    "#### リスト8.44（行または列の削除の例）（P.251）"
   ]
  },
  {
   "cell_type": "code",
   "execution_count": 18,
   "metadata": {},
   "outputs": [
    {
     "name": "stdout",
     "output_type": "stream",
     "text": [
      "       fruits  year  time\n",
      "0       apple  2001     1\n",
      "1      orange  2002     4\n",
      "2      banana  2001     5\n",
      "3  strawberry  2008     6\n",
      "4   kiwifruit  2006     3\n",
      "\n",
      "       fruits  year  time\n",
      "2      banana  2001     5\n",
      "3  strawberry  2008     6\n",
      "4   kiwifruit  2006     3\n",
      "\n",
      "       fruits  time\n",
      "0       apple     1\n",
      "1      orange     4\n",
      "2      banana     5\n",
      "3  strawberry     6\n",
      "4   kiwifruit     3\n"
     ]
    }
   ],
   "source": [
    "import pandas as pd\n",
    "\n",
    "data = {\"fruits\": [\"apple\", \"orange\", \"banana\", \"strawberry\", \"kiwifruit\"],\n",
    "        \"year\": [2001, 2002, 2001, 2008, 2006],\n",
    "        \"time\": [1, 4, 5, 6, 3]}\n",
    "df = pd.DataFrame(data)\n",
    "\n",
    "## 削除前のDataFrame\n",
    "print(df)\n",
    "\n",
    "# drop()を用いてdfの0,1行目を削除します\n",
    "df_1 = df.drop(range(0, 2))\n",
    "## index指定でも同様の削除が可能\n",
    "##df_1 = df.drop(index=range(0,2))\n",
    "\n",
    "# drop()を用いてdfの列\"year\"を削除します\n",
    "df_2 = df.drop(\"year\", axis=1)\n",
    "## columns指定でも同様の削除が可能\n",
    "## df_2 = df.drop(columns=\"year\")\n",
    "\n",
    "print()\n",
    "print(df_1)\n",
    "print()\n",
    "print(df_2)"
   ]
  },
  {
   "cell_type": "markdown",
   "metadata": {},
   "source": [
    "### 8.3.9 ソート\n",
    "* DataFrame型変数**df**のデータのソート\n",
    "    * **df.sort_values(by=\"カラムもしくはカラムのリスト\", ascending=True)** \n",
    "        * 指定した列の値の昇順（小さい順）にソートされたDataFrameを生成\n",
    "        * **ascending=False** を指定すると降順（大きい順）にソートされる\n",
    "            * 指定がない場合は **ascending = True**\n",
    "        * カラムのリストが条件の場合、リストの順番が早いカラムが優先される"
   ]
  },
  {
   "cell_type": "markdown",
   "metadata": {},
   "source": [
    "#### リスト8.47（ソートの例）（P.253）"
   ]
  },
  {
   "cell_type": "code",
   "execution_count": 23,
   "metadata": {},
   "outputs": [
    {
     "name": "stdout",
     "output_type": "stream",
     "text": [
      "       fruits  time  year\n",
      "0       apple     1  2001\n",
      "1      orange     4  2002\n",
      "2      banana     5  2001\n",
      "3  strawberry     6  2008\n",
      "4   kiwifruit     3  2006\n",
      "\n",
      "       fruits  time  year\n",
      "0       apple     1  2001\n",
      "2      banana     5  2001\n",
      "1      orange     4  2002\n",
      "4   kiwifruit     3  2006\n",
      "3  strawberry     6  2008\n",
      "\n",
      "       fruits  time  year\n",
      "0       apple     1  2001\n",
      "4   kiwifruit     3  2006\n",
      "1      orange     4  2002\n",
      "2      banana     5  2001\n",
      "3  strawberry     6  2008\n"
     ]
    }
   ],
   "source": [
    "import pandas as pd\n",
    "\n",
    "data = {\"fruits\": [\"apple\", \"orange\", \"banana\", \"strawberry\", \"kiwifruit\"],\n",
    "        \"time\": [1, 4, 5, 6, 3],\n",
    "        \"year\": [2001, 2002, 2001, 2008, 2006]}\n",
    "df = pd.DataFrame(data)\n",
    "print(df)\n",
    "print()\n",
    "\n",
    "#データを昇順にソートします(引数にカラムを指定)\n",
    "df = df.sort_values(by=\"year\", ascending = True)\n",
    "print(df)\n",
    "print()\n",
    "\n",
    "#データを昇順にソートします(引数にカラムのリストを指定)\n",
    "df = df.sort_values(by=[\"time\", \"year\"] , ascending = True)\n",
    "print(df)"
   ]
  },
  {
   "cell_type": "markdown",
   "metadata": {},
   "source": [
    "### 8.3.10 フィルタリング\n",
    "* DataFrame型変数もSeries型の変数と同様に、bool型のシーケンスの指定により  \n",
    "Trueのものだけを取り出すフィルタリングが可能\n",
    "    * DataFrameを用いた条件式からbool型のシーケンスを取得することも可能"
   ]
  },
  {
   "cell_type": "markdown",
   "metadata": {},
   "source": [
    "#### リスト8.50（フィルタリングの例）（P.256）"
   ]
  },
  {
   "cell_type": "code",
   "execution_count": 25,
   "metadata": {},
   "outputs": [
    {
     "name": "stdout",
     "output_type": "stream",
     "text": [
      "[ True False  True False  True]\n",
      "\n",
      "      fruits  year  time\n",
      "0      apple  2001     1\n",
      "2     banana  2001     5\n",
      "4  kiwifruit  2006     3\n"
     ]
    }
   ],
   "source": [
    "import pandas as pd\n",
    "\n",
    "data = {\"fruits\": [\"apple\", \"orange\", \"banana\", \"strawberry\", \"kiwifruit\"],\n",
    "        \"year\": [2001, 2002, 2001, 2008, 2006],\n",
    "        \"time\": [1, 4, 5, 6, 3]}\n",
    "df = pd.DataFrame(data)\n",
    "\n",
    "## フィルタリングに使用するbool型シーケンス\n",
    "print(df.index % 2 == 0)\n",
    "print()\n",
    "## フィルタリングした結果を出力\n",
    "print(df[df.index % 2 == 0])"
   ]
  },
  {
   "cell_type": "markdown",
   "metadata": {},
   "source": [
    "# ほげ要望"
   ]
  },
  {
   "cell_type": "markdown",
   "metadata": {},
   "source": [
    "第８章の添削問題をやってくれたら工藤が喜びます"
   ]
  },
  {
   "cell_type": "markdown",
   "metadata": {},
   "source": [
    "# エクストラほげ問題⑧\n",
    "## Pythonで学ぶ線形代数\n",
    "## ベクトル積（外積）\n",
    "大学に進学をした理系学生が１年生の最初に習うのが線形代数です。その知識を使い今習っているPythonの技術向上を目指しましょう。   \n",
    "※ヒントのようなもの  \n",
    "①https://oguemon.com/topic/study/linear-algebra/  \n",
    "②https://mathtrain.jp/category/senkei  \n",
    "③https://python.atelierkobato.com/linear/  \n",
    "④https://examist.jp/category/mathematics/  \n",
    "⑤http://www.geisya.or.jp/~mwm48961/koukou/index_m.htm  \n",
    "  \n",
    "# もんだいだよん(^ω^)\n",
    "## ベクトル積（外積）\n",
    "### numpy.cross()\n",
    "下記内容のプログラムを実行してベクトルの外積の性質を確認しなさい。   \n",
    "```Python\n",
    "# Numpy_Vector_Cross\n",
    "\n",
    "# In[1]\n",
    "\n",
    "import numpy as np\n",
    "from scipy.linalg import norm\n",
    "import matplotlib.pyplot as plt\n",
    "\n",
    "# ここにcoordinate_3d()を実装\n",
    "# ここにvisual_vector_3d()を実装\n",
    "\n",
    "# FigureとAxes\n",
    "fig = plt.figure(figsize = (6, 6))\n",
    "ax = fig.add_subplot(111, projection='3d')\n",
    "\n",
    "# 3D座標を設定\n",
    "coordinate_3d(ax, [-5, 5], [-5, 5], [-5, 10], grid = True)\n",
    "\n",
    "# 始点を設定\n",
    "loc = [0, 0, 0]\n",
    "\n",
    "# ベクトルu,vを定義\n",
    "u = [3, 1, 0]\n",
    "v = [2, 5, 1]\n",
    "\n",
    "# uとvのベクトル積w\n",
    "w = np.cross(u, v)\n",
    "\n",
    "# wの大きさ（ノルム）を計算\n",
    "w_norm = norm(w)\n",
    "\n",
    "# ベクトルu,v,wを配置\n",
    "visual_vector_3d(ax, loc, u, \"red\")\n",
    "visual_vector_3d(ax, loc, v, \"blue\")\n",
    "visual_vector_3d(ax, loc, w, \"green\")\n",
    "\n",
    "print(\"w = {}\".format(w))\n",
    "print(\"|w| = {:.3f}\".format(w_norm))\n",
    "```\n",
    "### 外積と内積\n",
    "　内積と外積の違いをまとめて.htmlファイルで提出してください"
   ]
  }
 ],
 "metadata": {
  "kernelspec": {
   "display_name": "Python 3",
   "language": "python",
   "name": "python3"
  },
  "language_info": {
   "codemirror_mode": {
    "name": "ipython",
    "version": 3
   },
   "file_extension": ".py",
   "mimetype": "text/x-python",
   "name": "python",
   "nbconvert_exporter": "python",
   "pygments_lexer": "ipython3",
   "version": "3.8.3"
  }
 },
 "nbformat": 4,
 "nbformat_minor": 2
}
