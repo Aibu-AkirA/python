{
 "cells": [
  {
   "cell_type": "markdown",
   "metadata": {},
   "source": [
    "「1.」教師あり学習<br>\n",
    "「2.」教師なし学習<br>\n",
    "「3.」強化学習<br>\n",
    "「4.」教師あり学習<br>\n",
    "「5.」学習データ<br>\n",
    "「6.」機械学習アルゴリズム<br>\n",
    "「7.」ラベル<br>\n",
    "「8.」計算<br>"
   ]
  }
 ],
 "metadata": {
  "kernelspec": {
   "display_name": "Python 3",
   "language": "python",
   "name": "python3"
  },
  "language_info": {
   "codemirror_mode": {
    "name": "ipython",
    "version": 3
   },
   "file_extension": ".py",
   "mimetype": "text/x-python",
   "name": "python",
   "nbconvert_exporter": "python",
   "pygments_lexer": "ipython3",
   "version": "3.8.3"
  }
 },
 "nbformat": 4,
 "nbformat_minor": 4
}
