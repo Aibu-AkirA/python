{
 "cells": [
  {
   "cell_type": "markdown",
   "metadata": {},
   "source": [
    "#  Chapter1 機械学習概論"
   ]
  },
  {
   "cell_type": "markdown",
   "metadata": {},
   "source": [
    "## 1.1 機械学習概論（P.16）\n",
    "### 1.1.1 なぜ今「機械学習」が注目されているのか\n",
    "### 1.1.2 機械学習とは"
   ]
  },
  {
   "cell_type": "markdown",
   "metadata": {},
   "source": [
    "　人間では到底実現不可能な短時間で、大量のデータから自動的に正確な結果を得ることができる\n",
    "* 概念の関係性\n",
    "    * 人工知能（AI）＞機械学習（マシンラーニング）＞深層学習（ディープラーニング）  \n",
    "    * **人工知能**  \n",
    "        * 人間と同じような知的処理を行うことのできる技術や機械\n",
    "            * If-Then形式の知識表現アルゴリズムも人工知能\n",
    "    * **機械学習**\n",
    "        * **データから反復的に学習し、そこに潜むパターンを探し出すこと**\n",
    "            * 探し出す手法\n",
    "                * 教師あり学習（Supervised Learnings）\n",
    "                * 教師なし学習（Unsupervised Learnings）\n",
    "                * 強化学習（Reinforcement Learnings）\n",
    "            * 各学習手法：**機械学習アルゴリズム**\n",
    "    * **深層学習**  \n",
    "        * 機械学習の手法の一つ\n",
    "            * 隠れ層が多い（層が深い）ニューラルネットワーク  \n",
    "            * 現実世界のデータでも学習が可能"
   ]
  },
  {
   "cell_type": "markdown",
   "metadata": {},
   "source": [
    "## 1.2 機械学習の各手法（P.19）\n",
    "### 1.2.1 教師あり学習を理解する\n",
    "### 1.2.2 教師なし学習を理解する\n",
    "### 1.2.3 強化学習を理解する"
   ]
  },
  {
   "cell_type": "markdown",
   "metadata": {},
   "source": [
    "* 教師あり学習\n",
    "    * 教師：データに付随する正解ラベル\n",
    "    * 問題の種類\n",
    "        * 分類問題\n",
    "            * 最終的にカテゴリを予測するもの\n",
    "        * 回帰問題\n",
    "            * 最終的に連続値を予測するもの\n",
    "    * 教師あり学習の流れ\n",
    "        * 様々な教師データをコンピュータに与え「正解ラベル」を学習し、  \n",
    "        「正解ラベル」を出力するように学習モデルを生成する\n",
    "        * 生成したモデルに未知のデータを適用したときに、  \n",
    "        「正解ラベル」に近い値が出るかどうかを検証する\n",
    "        \n",
    "        \n",
    "* 教師なし学習\n",
    "    * データに「正解ラベル」がない\n",
    "    * 問題の種類\n",
    "        * クラスタリング\n",
    "        * データの圧縮\n",
    "\n",
    "\n",
    "* 強化学習\n",
    "    * エージェントと環境の相互作用で学習を行う\n",
    "        * エージェントは環境に対して行動する\n",
    "        * 環境は行動の結果に対して報酬を与える\n",
    "        * エージェントは与えられた報酬に基づいて、行動の評価を行い次の行動を決定する\n",
    "    * 問題の種類\n",
    "        * 囲碁AI/将棋AI\n",
    "        * ロボットの操作制御\n",
    "            * [バラ積みロボット: 深層学習で教示レス動作獲得](https://www.youtube.com/watch?v=ATXJ5dzOcDw)\n",
    "            "
   ]
  },
  {
   "cell_type": "markdown",
   "metadata": {},
   "source": [
    "# ほげ要望"
   ]
  },
  {
   "cell_type": "markdown",
   "metadata": {},
   "source": [
    "第１章の添削問題をやってくれたら工藤が喜びます"
   ]
  },
  {
   "cell_type": "markdown",
   "metadata": {},
   "source": [
    "# エクストラほげ問題"
   ]
  },
  {
   "cell_type": "markdown",
   "metadata": {},
   "source": [
    "# エクストラほげ問題①\n",
    "## Pythonで学ぶ線形代数\n",
    "## ベクトルとスカラー\n",
    "大学に進学をした理系学生が１年生の最初に習うのが線形代数です。その知識を使い今習っているPythonの技術向上を目指しましょう。   \n",
    "※ヒントのようなもの  \n",
    "①https://oguemon.com/topic/study/linear-algebra/  \n",
    "②https://mathtrain.jp/category/senkei  \n",
    "③https://python.atelierkobato.com/linear/  \n",
    "④https://examist.jp/category/mathematics/  \n",
    "⑤http://www.geisya.or.jp/~mwm48961/koukou/index_m.htm  \n",
    "  \n",
    "# もんだいだよん(^ω^)\n",
    "## NumPy ベクトル演算\n",
    "### ①加算と減算\n",
    "PythonのライブラリNumPyを用いて解きなさい  \n",
    "ベクトル$\\vec{a}$、$\\vec{b}$の和$\\vec{a}+\\vec{b}$と、差$\\vec{a}-\\vec{b}$を求めなさい\n",
    "  \n",
    "$\n",
    "  \\vec{a} = \\left(\n",
    "    \\begin{array}{ccc}\n",
    "      1 \\\\\n",
    "      2 \\\\\n",
    "      3\n",
    "    \\end{array}\n",
    "  \\right)\n",
    "$\n",
    "$\n",
    "  \\vec{b} = \\left(\n",
    "    \\begin{array}{ccc}\n",
    "      4 \\\\\n",
    "      5 \\\\\n",
    "      6\n",
    "    \\end{array}\n",
    "  \\right)\n",
    "$\n",
    "\n",
    "### ②乗算と除算\n",
    "PythonのライブラリNumPyを用いて解きなさい  \n",
    "ベクトル$\\vec{a}$、$\\vec{b}$の積$\\vec{a}\\vec{b}$と、商$\\vec{a}/\\vec{b}$を求めなさい\n",
    "  \n",
    "$\n",
    "  \\vec{a} = \\left(\n",
    "    \\begin{array}{ccc}\n",
    "      1 \\\\\n",
    "      2 \\\\\n",
    "      3\n",
    "    \\end{array}\n",
    "  \\right)\n",
    "$\n",
    "$\n",
    "  \\vec{b} = \\left(\n",
    "    \\begin{array}{ccc}\n",
    "      4 \\\\\n",
    "      5 \\\\\n",
    "      6\n",
    "    \\end{array}\n",
    "  \\right)\n",
    "$\n",
    "\n",
    "### ③スカラーと1次元配列の演算\n",
    "PythonのライブラリNumPyを用いて解きなさい  \n",
    "ベクトル$\\vec{a}$とスカラー$\\lambda$の掛け算の答え$\\lambda{\\vec{a}}$を求めなさい\n",
    "  \n",
    "$\\lambda=5$\n",
    "  \n",
    "$\n",
    "  \\vec{a} = \\left(\n",
    "    \\begin{array}{ccc}\n",
    "      1 \\\\\n",
    "      2 \\\\\n",
    "      3\n",
    "    \\end{array}\n",
    "  \\right)\n",
    "$\n",
    "# ヒントのようなもの\n",
    "以下の流れでプログラムしたらいいと思います  \n",
    "\n",
    "``` python\n",
    "#ライブラリのインポート\n",
    "\n",
    "#ベクトルやスカラー定義\n",
    "\n",
    "#計算処理\n",
    "\n",
    "#結果のプリント\n",
    "\n",
    "```"
   ]
  }
 ],
 "metadata": {
  "kernelspec": {
   "display_name": "Python 3",
   "language": "python",
   "name": "python3"
  },
  "language_info": {
   "codemirror_mode": {
    "name": "ipython",
    "version": 3
   },
   "file_extension": ".py",
   "mimetype": "text/x-python",
   "name": "python",
   "nbconvert_exporter": "python",
   "pygments_lexer": "ipython3",
   "version": "3.8.3"
  }
 },
 "nbformat": 4,
 "nbformat_minor": 2
}
