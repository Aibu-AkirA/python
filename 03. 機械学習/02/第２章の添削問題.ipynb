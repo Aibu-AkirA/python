{
 "cells": [
  {
   "cell_type": "markdown",
   "metadata": {},
   "source": [
    "1. 過学習<br>\n",
    "2. 学習しすぎた状態<br>\n",
    "3. バリアンス<br>\n",
    "4. 学習不足<br>\n",
    "5. バイアス<br>\n",
    "6. トレーニングデータ<br>\n",
    "7. テストデータ<br>\n",
    "8. k-文化交差検証<br>\n",
    "9. leave-one-out交差検証<br>\n"
   ]
  },
  {
   "cell_type": "code",
   "execution_count": null,
   "metadata": {},
   "outputs": [],
   "source": []
  }
 ],
 "metadata": {
  "kernelspec": {
   "display_name": "Python 3",
   "language": "python",
   "name": "python3"
  },
  "language_info": {
   "codemirror_mode": {
    "name": "ipython",
    "version": 3
   },
   "file_extension": ".py",
   "mimetype": "text/x-python",
   "name": "python",
   "nbconvert_exporter": "python",
   "pygments_lexer": "ipython3",
   "version": "3.8.3"
  }
 },
 "nbformat": 4,
 "nbformat_minor": 4
}
