{
 "cells": [
  {
   "cell_type": "markdown",
   "metadata": {},
   "source": [
    "## 5.5 Appendix（P.120）\n",
    "### 5.5.2 リスト in リストのループ\n",
    "* リストの要素がリスト型の場合、その中身のリストの中の要素をfor文により取り出すことができる\n",
    "    * 書き方：「**for a, b, c,… in 変数（list型）**」（アンパック）\n",
    "        * ただし、a, b, c…の個数はリストの中の要素と等しくなければならない"
   ]
  },
  {
   "cell_type": "markdown",
   "metadata": {},
   "source": [
    "### （P.122）リスト5.56"
   ]
  },
  {
   "cell_type": "code",
   "execution_count": 2,
   "metadata": {},
   "outputs": [
    {
     "name": "stdout",
     "output_type": "stream",
     "text": [
      "1 2 3\n",
      "4 5 6\n"
     ]
    }
   ],
   "source": [
    "list = [[1, 2, 3],\n",
    "        [4, 5, 6]]\n",
    "\n",
    "for a, b, c in list:      ## リストの中の要素は3個なので変数も3個必要\n",
    "    print(a, b, c)"
   ]
  },
  {
   "cell_type": "markdown",
   "metadata": {},
   "source": [
    "### 5.5.3 辞書型のループ\n",
    "* 辞書型のループでは、キーとバリューの両方を変数としてループさせることができる。\n",
    "    * **items()** を用いる→「**for keyの変数名, valueの変数名 in 変数（辞書型）.items():**」"
   ]
  },
  {
   "cell_type": "markdown",
   "metadata": {},
   "source": [
    "### （P.123）リスト5.59"
   ]
  },
  {
   "cell_type": "code",
   "execution_count": 1,
   "metadata": {},
   "outputs": [
    {
     "name": "stdout",
     "output_type": "stream",
     "text": [
      "strawberry is red\n",
      "peach is pink\n",
      "banana is yellow\n"
     ]
    }
   ],
   "source": [
    "fruits = {\"strawberry\": \"red\", \"peach\": \"pink\", \"banana\": \"yellow\"}\n",
    "for fruit, color in fruits.items():\n",
    "        print(fruit+\" is \"+color)"
   ]
  },
  {
   "cell_type": "markdown",
   "metadata": {},
   "source": [
    "# ほげ要望\n",
    "第５章の添削問題をやってくれたら工藤が喜びます"
   ]
  },
  {
   "cell_type": "markdown",
   "metadata": {},
   "source": [
    "# エクストラほげ問題⑤\n",
    "## Pythonで学ぶ線形代数\n",
    "## コーシー・シュワルツの不等式と三角不等式\n",
    "大学に進学をした理系学生が１年生の最初に習うのが線形代数です。その知識を使い今習っているPythonの技術向上を目指しましょう。   \n",
    "※ヒントのようなもの  \n",
    "①https://oguemon.com/topic/study/linear-algebra/  \n",
    "②https://mathtrain.jp/category/senkei  \n",
    "③https://python.atelierkobato.com/linear/  \n",
    "④https://examist.jp/category/mathematics/  \n",
    "⑤http://www.geisya.or.jp/~mwm48961/koukou/index_m.htm  \n",
    "  \n",
    "# もんだいだよん(^ω^)\n",
    "## コーシー・シュワルツの不等式と三角不等式\n",
    "### コーシー・シュワルツの不等式\n",
    "角度による内積の定義  \n",
    "$ v \\cdot w = \\|v\\|\\|w\\|cos \\theta $  \n",
    "$ cos \\theta $はｰ1から1の値をとるため  \n",
    "$ |v \\cdot w| \\le \\|v\\|\\|w\\| $   \n",
    "上記の内容がコーシー・シュワルツの不等式である  \n",
    "  \n",
    "\n",
    "$\n",
    "  v = \\left(\n",
    "    \\begin{array}{ccc}\n",
    "      2 \\\\\n",
    "      3 \n",
    "    \\end{array}\n",
    "  \\right)\n",
    "$\n",
    "$\n",
    "  w = \\left(\n",
    "    \\begin{array}{ccc}\n",
    "      2 \\\\\n",
    "      5 \n",
    "    \\end{array}\n",
    "  \\right)\n",
    "$\n",
    "について、コーシー・シュワルツの不等式が成り立つことを確かめなさい  \n",
    "\n",
    "### 三角不等式\n",
    "内積の定義とコーシー・シュワルツの不等式を用いてベクトルの和についての評価式を作った  \n",
    "$ |v + w| \\le \\|v\\| + \\|w\\| $  \n",
    "これは、三角不等式 (triangle inequality) という有名な式である  \n",
    "\n",
    "\n",
    "$\n",
    "  v = \\left(\n",
    "    \\begin{array}{ccc}\n",
    "      2 \\\\\n",
    "      3 \n",
    "    \\end{array}\n",
    "  \\right)\n",
    "$\n",
    "$\n",
    "  w = \\left(\n",
    "    \\begin{array}{ccc}\n",
    "      2 \\\\\n",
    "      5 \n",
    "    \\end{array}\n",
    "  \\right)\n",
    "$\n",
    "について、三角不等式が成り立つことを確かめなさい"
   ]
  }
 ],
 "metadata": {
  "kernelspec": {
   "display_name": "Python 3",
   "language": "python",
   "name": "python3"
  },
  "language_info": {
   "codemirror_mode": {
    "name": "ipython",
    "version": 3
   },
   "file_extension": ".py",
   "mimetype": "text/x-python",
   "name": "python",
   "nbconvert_exporter": "python",
   "pygments_lexer": "ipython3",
   "version": "3.8.3"
  }
 },
 "nbformat": 4,
 "nbformat_minor": 2
}
