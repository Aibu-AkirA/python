{
 "cells": [
  {
   "cell_type": "code",
   "execution_count": 2,
   "metadata": {},
   "outputs": [
    {
     "name": "stdout",
     "output_type": "stream",
     "text": [
      "1993年は平年です\n"
     ]
    }
   ],
   "source": [
    "# 変数yearに西暦で年を入力してください\n",
    "year = 1993\n",
    "\n",
    "# if文により条件分岐をし、うるう年か平年かを判別します\n",
    "if year % 400 != 0 and year % 100 != 0:\n",
    "    print (year, \"年は平年です\",sep=\"\")\n",
    "elif year % 4 == 0:\n",
    "    print (year, \"年はうるう年です\",sep=\"\")\n",
    "else:\n",
    "    print (year, \"年は平年です\",sep=\"\")"
   ]
  },
  {
   "cell_type": "code",
   "execution_count": null,
   "metadata": {},
   "outputs": [],
   "source": []
  }
 ],
 "metadata": {
  "kernelspec": {
   "display_name": "Python 3",
   "language": "python",
   "name": "python3"
  },
  "language_info": {
   "codemirror_mode": {
    "name": "ipython",
    "version": 3
   },
   "file_extension": ".py",
   "mimetype": "text/x-python",
   "name": "python",
   "nbconvert_exporter": "python",
   "pygments_lexer": "ipython3",
   "version": "3.8.3"
  }
 },
 "nbformat": 4,
 "nbformat_minor": 4
}
