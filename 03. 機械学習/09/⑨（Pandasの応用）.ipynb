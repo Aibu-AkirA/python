{
 "cells": [
  {
   "cell_type": "markdown",
   "metadata": {
    "chapterId": "Hy8l_RQWlbz",
    "id": "chapter_name"
   },
   "source": [
    "# Chapter9　Pandasの応用"
   ]
  },
  {
   "cell_type": "markdown",
   "metadata": {
    "id": "section_name",
    "sectionId": "B1Peu0XWgZM"
   },
   "source": [
    "## 9.1 DataFrameの連結・結合の概観（P.262）"
   ]
  },
  {
   "cell_type": "markdown",
   "metadata": {
    "courseId": 4010,
    "exerciseId": "ryGBKh8sIgz",
    "id": "quiz_session_name",
    "important": true,
    "isDL": false,
    "timeoutSecs": 5
   },
   "source": [
    "### 9.1.1 連結・結合について"
   ]
  },
  {
   "cell_type": "markdown",
   "metadata": {},
   "source": [
    "* DataFrameは**連結**、**結合**の操作が可能\n",
    "    * 連結\n",
    "        * DataFrame同士を一定の方向にそのままつなげる操作\n",
    "    * 結合\n",
    "        * 特定の**key**を参照してつなげる操作\n",
    "        \n",
    "<img src=\".\\Fig9_1.png\" width=\"800\" alt=\"連結・結合の例\">"
   ]
  },
  {
   "cell_type": "markdown",
   "metadata": {
    "id": "section_name",
    "sectionId": "HJ_eORQblZG"
   },
   "source": [
    "## 9.2 DataFrameの連結（P.263）"
   ]
  },
  {
   "cell_type": "markdown",
   "metadata": {
    "courseId": 4010,
    "exerciseId": "BJQBF3UsIgM",
    "id": "code_session_name",
    "important": true,
    "isDL": false,
    "timeoutSecs": 5
   },
   "source": [
    "### 9.2.1 インデックス、カラムが一致しているDataFrame同士の連結\n",
    "* DataFrame同士の連結操作\n",
    "    * **`pandas.concat(\"DataFrameのリスト\", axis=0)`**\n",
    "        * リストの先頭から順に**縦方向**に連結\n",
    "        * 同じカラムについて連結される\n",
    "    * **`pandas.concat(\"DataFrameのリスト\", axis=1)`**\n",
    "        * リストの先頭から順に**横方向**に連結\n",
    "        * 同じインデックスについて連結される"
   ]
  },
  {
   "cell_type": "markdown",
   "metadata": {},
   "source": [
    "#### concatの例"
   ]
  },
  {
   "cell_type": "code",
   "execution_count": 82,
   "metadata": {},
   "outputs": [
    {
     "name": "stdout",
     "output_type": "stream",
     "text": [
      "==== 1つ目のDataFrame ====\n",
      "   apple  orange\n",
      "1     45      68\n",
      "2     48      10\n",
      "==== 2つ目のDataFrame ====\n",
      "   apple  orange\n",
      "1     38      76\n",
      "2     13       6\n",
      "==== axis=0（縦方向）の連結 ====\n",
      "   apple  orange\n",
      "1     45      68\n",
      "2     48      10\n",
      "1     38      76\n",
      "2     13       6\n",
      "==== axis=1（横方向）の連結 ====\n",
      "   apple  orange  apple  orange\n",
      "1     45      68     38      76\n",
      "2     48      10     13       6\n"
     ]
    }
   ],
   "source": [
    "import pandas as pd\n",
    "\n",
    "## 1つめのDataFrame\n",
    "data1 = {\"apple\": [45, 48], \"orange\": [68, 10]}\n",
    "index = [1,2]\n",
    "df1 = pd.DataFrame(data1)\n",
    "df1.index = index\n",
    "\n",
    "## 2つめのDataFrame\n",
    "data2 = {\"apple\": [38, 13], \"orange\": [76, 6]}\n",
    "df2 = pd.DataFrame(data2)\n",
    "df2.index = index\n",
    "\n",
    "print(\"==== 1つ目のDataFrame ====\")\n",
    "print(df1)\n",
    "print(\"==== 2つ目のDataFrame ====\")\n",
    "print(df2)\n",
    "\n",
    "print(\"==== axis=0（縦方向）の連結 ====\")\n",
    "print(pd.concat([df1, df2], axis=0))\n",
    "print(\"==== axis=1（横方向）の連結 ====\")\n",
    "print(pd.concat([df1, df2], axis=1))"
   ]
  },
  {
   "cell_type": "markdown",
   "metadata": {
    "courseId": 4010,
    "exerciseId": "ByVBF2LoLgz",
    "id": "code_session_name",
    "important": true,
    "isDL": false,
    "timeoutSecs": 5
   },
   "source": [
    "### 9.2.2 インデックス、カラムが一致していないDataFrame同士の連結\n",
    "* インデックス、カラムが一致していないDataFrame同士の連結\n",
    "    * 共通のインデックスやカラムでない行や列に**NaN(Not a Number:非数)** を持つセルが作成される\n",
    "* 結合の操作はインデックス、カラムが一致しているDataFrame同士の結合と同じ\n",
    "    * **`pandas.concat(\"DataFrameのリスト\", axis=0)`**\n",
    "        * リストの先頭から順に縦方向に連結\n",
    "        * 同じカラムについて連結される\n",
    "        * version0.23以降、以下の警告が表示される\n",
    "            * `Sorting because non-concatenation axis is not aligned. A future version of pandas will change to not sort by default.\n",
    "To accept the future behavior, pass 'sort=False'.\n",
    "To retain the current behavior and silence the warning, pass 'sort=True'.`  \n",
    "            （将来のバージョンで一致しない列のソートはデフォルトFalseに変更される）\n",
    "    * **`pandas.concat(\"DataFrameのリスト\", axis=1)`**\n",
    "        * リストの先頭から順に横方向に連結\n",
    "        * 同じインデックスについて連結される"
   ]
  },
  {
   "cell_type": "markdown",
   "metadata": {},
   "source": [
    "#### concat（インデックス、カラムが不一致）の例"
   ]
  },
  {
   "cell_type": "code",
   "execution_count": 83,
   "metadata": {},
   "outputs": [
    {
     "name": "stdout",
     "output_type": "stream",
     "text": [
      "==== 1つ目のDataFrame ====\n",
      "   apple  orange\n",
      "1     45      68\n",
      "2     48      10\n",
      "==== 2つ目のDataFrame ====\n",
      "   orange  banana\n",
      "2      76      17\n",
      "3       6       2\n",
      "==== axis=0（縦方向）の連結 ====\n",
      "   apple  banana  orange\n",
      "1   45.0     NaN      68\n",
      "2   48.0     NaN      10\n",
      "2    NaN    17.0      76\n",
      "3    NaN     2.0       6\n",
      "==== axis=1（横方向）の連結 ====\n",
      "   apple  orange  orange  banana\n",
      "1   45.0    68.0     NaN     NaN\n",
      "2   48.0    10.0    76.0    17.0\n",
      "3    NaN     NaN     6.0     2.0\n"
     ]
    },
    {
     "name": "stderr",
     "output_type": "stream",
     "text": [
      "C:\\local\\Anaconda3\\envs\\mlearn\\lib\\site-packages\\ipykernel_launcher.py:21: FutureWarning: Sorting because non-concatenation axis is not aligned. A future version\n",
      "of pandas will change to not sort by default.\n",
      "\n",
      "To accept the future behavior, pass 'sort=False'.\n",
      "\n",
      "To retain the current behavior and silence the warning, pass 'sort=True'.\n",
      "\n"
     ]
    }
   ],
   "source": [
    "import pandas as pd\n",
    "\n",
    "## 1つめのDataFrame\n",
    "data1 = {\"apple\": [45, 48], \"orange\": [68, 10]}\n",
    "index1 = [1,2]\n",
    "df1 = pd.DataFrame(data1)\n",
    "df1.index = index1\n",
    "\n",
    "## 2つめのDataFrame\n",
    "data2 = {\"orange\": [76, 6], \"banana\": [17, 2]}\n",
    "index2 = [2,3]\n",
    "df2 = pd.DataFrame(data2)\n",
    "df2.index = index2\n",
    "\n",
    "print(\"==== 1つ目のDataFrame ====\")\n",
    "print(df1)\n",
    "print(\"==== 2つ目のDataFrame ====\")\n",
    "print(df2)\n",
    "\n",
    "print(\"==== axis=0（縦方向）の連結 ====\")\n",
    "print(pd.concat([df1, df2], axis=0))\n",
    "print(\"==== axis=1（横方向）の連結 ====\")\n",
    "print(pd.concat([df1, df2], axis=1))"
   ]
  },
  {
   "cell_type": "markdown",
   "metadata": {
    "courseId": 4010,
    "exerciseId": "HySHFhIiIlz",
    "id": "code_session_name",
    "important": true,
    "isDL": false,
    "timeoutSecs": 5
   },
   "source": [
    "### 〇9.2.3 連結する際のラベルの指定\n",
    "* 連結するとラベルに重複が生じる場合がある\n",
    "    * **pd.concat()** の引数に**keys**でラベルを与えることで重複を避けることが可能\n",
    "        * 連結後のDataFrameでは複数のラベルが使用された状態となる（**MultiIndex**）"
   ]
  },
  {
   "cell_type": "markdown",
   "metadata": {},
   "source": [
    "#### concat（横方向MultiIndex）の例\n",
    "* 横方向MultiIndexの場合 **df\\[カラムのインデックス\\]** 指定で参照可能\n",
    "    * 複数階層指定の場合、インデックスをリスト型、タプル型で指定する"
   ]
  },
  {
   "cell_type": "code",
   "execution_count": 81,
   "metadata": {},
   "outputs": [
    {
     "name": "stdout",
     "output_type": "stream",
     "text": [
      "==== 1つ目のDataFrame ====\n",
      "   apple  orange\n",
      "1     45      68\n",
      "2     48      10\n",
      "==== 2つ目のDataFrame ====\n",
      "   orange  banana\n",
      "2      76      17\n",
      "3       6       2\n",
      "==== axis=1（横方向）の連結 ====\n",
      "      A             B       \n",
      "  apple orange orange banana\n",
      "1  45.0   68.0    NaN    NaN\n",
      "2  48.0   10.0   76.0   17.0\n",
      "3   NaN    NaN    6.0    2.0\n",
      "==== axis=1（横方向）連結データ\"A\"の出力 ====\n",
      "   apple  orange\n",
      "1   45.0    68.0\n",
      "2   48.0    10.0\n",
      "3    NaN     NaN\n",
      "==== axis=1（横方向）連結データ\"A orange\"の出力 ====\n",
      "1    68.0\n",
      "2    10.0\n",
      "3     NaN\n",
      "Name: (A, orange), dtype: float64\n",
      "==== axis=1（横方向）連結データ\"A orange\"の出力2 ====\n",
      "1    68.0\n",
      "2    10.0\n",
      "3     NaN\n",
      "Name: (A, orange), dtype: float64\n"
     ]
    }
   ],
   "source": [
    "import pandas as pd\n",
    "\n",
    "## 1つめのDataFrame\n",
    "data1 = {\"apple\": [45, 48], \"orange\": [68, 10]}\n",
    "index1 = [1,2]\n",
    "df1 = pd.DataFrame(data1)\n",
    "df1.index = index1\n",
    "\n",
    "## 2つめのDataFrame\n",
    "data2 = {\"orange\": [76, 6], \"banana\": [17, 2]}\n",
    "index2 = [2,3]\n",
    "df2 = pd.DataFrame(data2)\n",
    "df2.index = index2\n",
    "\n",
    "print(\"==== 1つ目のDataFrame ====\")\n",
    "print(df1)\n",
    "print(\"==== 2つ目のDataFrame ====\")\n",
    "print(df2)\n",
    "\n",
    "print(\"==== axis=1（横方向）の連結 ====\")\n",
    "## keysでラベル\"A\", \"B\"を付与する\n",
    "df_concat2 = pd.concat([df1, df2], axis=1, keys=[\"A\",\"B\"])\n",
    "print(df_concat2)\n",
    "\n",
    "## MultiIndexの参照例\n",
    "print(\"==== axis=1（横方向）連結データ\\\"A\\\"の出力 ====\")\n",
    "print(df_concat2[\"A\"])\n",
    "print(\"==== axis=1（横方向）連結データ\\\"A orange\\\"の出力 ====\")\n",
    "print(df_concat2[\"A\", \"orange\"])\n",
    "## MultiIndexのタプル指定でも出力可能\n",
    "print(\"==== axis=1（横方向）連結データ\\\"A orange\\\"の出力2 ====\")\n",
    "print(df_concat2[(\"A\", \"orange\")])"
   ]
  },
  {
   "cell_type": "markdown",
   "metadata": {},
   "source": [
    "#### concat（縦方向MultiIndex）の例\n",
    "* 縦方向のMultiIndexの場合、loc関数を利用する\n",
    "    * 複数階層のIndex参照時はタプルで指定する"
   ]
  },
  {
   "cell_type": "code",
   "execution_count": 87,
   "metadata": {},
   "outputs": [
    {
     "name": "stdout",
     "output_type": "stream",
     "text": [
      "==== 1つ目のDataFrame ====\n",
      "   apple  orange\n",
      "1     45      68\n",
      "2     48      10\n",
      "==== 2つ目のDataFrame ====\n",
      "   orange  banana\n",
      "2      76      17\n",
      "3       6       2\n",
      "==== axis=0（縦方向）の連結 ====\n",
      "     apple  banana  orange\n",
      "A 1   45.0     NaN      68\n",
      "  2   48.0     NaN      10\n",
      "B 2    NaN    17.0      76\n",
      "  3    NaN     2.0       6\n",
      "==== axis=0（縦方向）連結データ\"A\"の出力 ====\n",
      "     apple  banana  orange\n",
      "A 1   45.0     NaN      68\n",
      "  2   48.0     NaN      10\n",
      "==== axis=0（縦方向）連結データ\"A 2\"の出力 ====\n",
      "apple     48.0\n",
      "banana     NaN\n",
      "orange    10.0\n",
      "Name: (A, 2), dtype: float64\n"
     ]
    }
   ],
   "source": [
    "import pandas as pd\n",
    "\n",
    "## 1つめのDataFrame\n",
    "data1 = {\"apple\": [45, 48], \"orange\": [68, 10]}\n",
    "index1 = [1,2]\n",
    "df1 = pd.DataFrame(data1)\n",
    "df1.index = index1\n",
    "\n",
    "## 2つめのDataFrame\n",
    "data2 = {\"orange\": [76, 6], \"banana\": [17, 2]}\n",
    "index2 = [2,3]\n",
    "df2 = pd.DataFrame(data2)\n",
    "df2.index = index2\n",
    "\n",
    "print(\"==== 1つ目のDataFrame ====\")\n",
    "print(df1)\n",
    "print(\"==== 2つ目のDataFrame ====\")\n",
    "print(df2)\n",
    "\n",
    "print(\"==== axis=0（縦方向）の連結 ====\")\n",
    "## keysでラベル\"A\", \"B\"を付与する\n",
    "## (sort=Trueは警告表示対策)\n",
    "df_concat1 = pd.concat([df1, df2], axis=0, keys=[\"A\",\"B\"], sort=True)\n",
    "print(df_concat1)\n",
    "\n",
    "## MultiIndexの参照例\n",
    "print(\"==== axis=0（縦方向）連結データ\\\"A\\\"の出力 ====\")\n",
    "print(df_concat1.loc[[\"A\"]])\n",
    "print(\"==== axis=0（縦方向）連結データ\\\"A 2\\\"の出力 ====\")\n",
    "print(df_concat1.loc[(\"A\", 2)])"
   ]
  },
  {
   "cell_type": "markdown",
   "metadata": {
    "id": "section_name",
    "sectionId": "SytlORmbgbG"
   },
   "source": [
    "## 9.3 DataFrameの結合（P.271）"
   ]
  },
  {
   "cell_type": "markdown",
   "metadata": {
    "courseId": 4010,
    "exerciseId": "SyUrtnIjIxz",
    "id": "quiz_session_name",
    "important": true,
    "isDL": false,
    "timeoutSecs": 5
   },
   "source": [
    "### 9.3.1 結合の種類"
   ]
  },
  {
   "cell_type": "markdown",
   "metadata": {},
   "source": [
    "* **結合（マージ）**\n",
    "    * **Key**と呼ばれる列を指定し、2つのDataFrameのKeyの値が一致する行を横につなげる操作\n",
    "* 結合の種類\n",
    "    * **内部結合**\n",
    "        * **Key**列に共通の値がない行は破棄される\n",
    "        * ほかに同じカラムを持っており、それらの値が一致していれば行を残す、  \n",
    "        または破棄するなどの指定もできる（複数の列をkeyとすることが可能）\n",
    "    * **外部結合**\n",
    "        * **Key**列に共通の値がない行も残る\n",
    "            * 共通でない列については**NaN**で埋められる"
   ]
  },
  {
   "cell_type": "markdown",
   "metadata": {},
   "source": [
    "#### 内部結合・外部結合の例"
   ]
  },
  {
   "cell_type": "code",
   "execution_count": 1,
   "metadata": {
    "id": "index"
   },
   "outputs": [
    {
     "name": "stdout",
     "output_type": "stream",
     "text": [
      "=== df1 ===\n",
      "   amount      fruits  year\n",
      "0       1      banana  2001\n",
      "1       4  strawberry  2008\n",
      "2       5   kiwifruit  2006\n",
      "=== df2 ===\n",
      "       fruits  price  year\n",
      "0      banana    100  2001\n",
      "1  strawberry    250  2008\n",
      "2       mango   3000  2007\n",
      "=== 内部結合の例（fruits） ===\n",
      "   amount      fruits  year_x  price  year_y\n",
      "0       1      banana    2001    100    2001\n",
      "1       4  strawberry    2008    250    2008\n",
      "=== 外部結合の例（fruits） ===\n",
      "   amount      fruits  year_x   price  year_y\n",
      "0     1.0      banana  2001.0   100.0  2001.0\n",
      "1     4.0  strawberry  2008.0   250.0  2008.0\n",
      "2     5.0   kiwifruit  2006.0     NaN     NaN\n",
      "3     NaN       mango     NaN  3000.0  2007.0\n"
     ]
    }
   ],
   "source": [
    "import numpy as np\n",
    "import pandas as pd\n",
    "\n",
    "data1 = {\"amount\": [1, 4, 5],\n",
    "         \"fruits\": [\"banana\", \"strawberry\", \"kiwifruit\"],\n",
    "         \"year\": [2001, 2008, 2006]}\n",
    "df1 = pd.DataFrame(data1)\n",
    "\n",
    "data2 = {\"fruits\": [\"banana\", \"strawberry\", \"mango\"],\n",
    "         \"price\": [100, 250, 3000],\n",
    "         \"year\": [2001, 2008, 2007]}\n",
    "df2 = pd.DataFrame(data2)\n",
    "\n",
    "print(\"=== df1 ===\")\n",
    "print(df1)\n",
    "print(\"=== df2 ===\")\n",
    "print(df2)\n",
    "\n",
    "## 内部結合の例\n",
    "df3 = pd.merge(df1, df2, on=\"fruits\", how=\"inner\")\n",
    "print(\"=== 内部結合の例（fruits） ===\")\n",
    "print(df3)\n",
    "\n",
    "## 外部結合の例\n",
    "df3 = pd.merge(df1, df2, on=\"fruits\", how=\"outer\")\n",
    "print(\"=== 外部結合の例（fruits） ===\")\n",
    "print(df3)"
   ]
  },
  {
   "cell_type": "markdown",
   "metadata": {
    "courseId": 4010,
    "exerciseId": "B1PHFhLiIgf",
    "id": "code_session_name",
    "important": true,
    "isDL": false,
    "timeoutSecs": 5
   },
   "source": [
    "### 9.3.2 内部結合の基本\n",
    "* 内部結合のメソッド\n",
    "    * **`pandas.merge(df1, df2, on=Keyとなるカラム, how=\"inner\")`**\n",
    "        * df1が左側に寄せられる\n",
    "        * Key列で値が一致しない行は破棄される\n",
    "        * Key列以外の値の一致しない共通の列（下記例ではyear）は残される\n",
    "            * 左側のDataFrameに属していたカラムには**\\_x** が接尾辞として付けられる\n",
    "            * 右側のDataFrameに属していたカラムには**\\_y** が接尾辞として付けられる\n",
    "        * 特にしていない限り、DataFrameのインデックスは処理に関与しない\n",
    "            "
   ]
  },
  {
   "cell_type": "markdown",
   "metadata": {},
   "source": [
    "#### 内部結合の例（再掲）"
   ]
  },
  {
   "cell_type": "code",
   "execution_count": 3,
   "metadata": {
    "id": "index"
   },
   "outputs": [
    {
     "name": "stdout",
     "output_type": "stream",
     "text": [
      "=== df1 ===\n",
      "   amount      fruits  year\n",
      "0       1      banana  2001\n",
      "1       4  strawberry  2008\n",
      "2       5   kiwifruit  2006\n",
      "=== df2 ===\n",
      "       fruits  price  year\n",
      "0      banana    100  2001\n",
      "1  strawberry    250  2008\n",
      "2       mango   3000  2007\n",
      "=== 内部結合の例（fruits） ===\n",
      "   amount      fruits  year_x  price  year_y\n",
      "0       1      banana    2001    100    2001\n",
      "1       4  strawberry    2008    250    2008\n"
     ]
    }
   ],
   "source": [
    "import numpy as np\n",
    "import pandas as pd\n",
    "\n",
    "data1 = {\"amount\": [1, 4, 5],\n",
    "         \"fruits\": [\"banana\", \"strawberry\", \"kiwifruit\"],\n",
    "         \"year\": [2001, 2008, 2006]}\n",
    "df1 = pd.DataFrame(data1)\n",
    "\n",
    "data2 = {\"fruits\": [\"banana\", \"strawberry\", \"mango\"],\n",
    "         \"price\": [100, 250, 3000],\n",
    "         \"year\": [2001, 2008, 2007]}\n",
    "df2 = pd.DataFrame(data2)\n",
    "\n",
    "print(\"=== df1 ===\")\n",
    "print(df1)\n",
    "print(\"=== df2 ===\")\n",
    "print(df2)\n",
    "\n",
    "## 内部結合の例\n",
    "df3 = pd.merge(df1, df2, on=\"fruits\", how=\"inner\")\n",
    "print(\"=== 内部結合の例（fruits） ===\")\n",
    "print(df3)"
   ]
  },
  {
   "cell_type": "markdown",
   "metadata": {
    "courseId": 4010,
    "exerciseId": "H1dHtnLiLeG",
    "id": "code_session_name",
    "important": true,
    "isDL": false,
    "timeoutSecs": 5
   },
   "source": [
    "### 9.3.3 外部結合の基本\n",
    "* 外部結合のメソッド\n",
    "    * **`pandas.merge(df1, df2, on=Keyとなるカラム, how=\"outer\")`**\n",
    "        * df1が左側に寄せられる\n",
    "        * Key列で値が一致しない行は残される\n",
    "            * 共通でない列は**NaN** で埋められる\n",
    "        * Key列以外の値の一致しない共通の列（下記例ではyear）は残される\n",
    "            * 左側のDataFrameに属していたカラムには**\\_x** が接尾辞として付けられる\n",
    "            * 右側のDataFrameに属していたカラムには**\\_y** が接尾辞として付けられる\n",
    "        * 特にしていない限り、DataFrameのインデックスは処理に関与しない\n",
    "            "
   ]
  },
  {
   "cell_type": "markdown",
   "metadata": {},
   "source": [
    "#### 外部結合の例（再掲）"
   ]
  },
  {
   "cell_type": "code",
   "execution_count": 4,
   "metadata": {
    "id": "index"
   },
   "outputs": [
    {
     "name": "stdout",
     "output_type": "stream",
     "text": [
      "=== df1 ===\n",
      "   amount      fruits  year\n",
      "0       1      banana  2001\n",
      "1       4  strawberry  2008\n",
      "2       5   kiwifruit  2006\n",
      "=== df2 ===\n",
      "       fruits  price  year\n",
      "0      banana    100  2001\n",
      "1  strawberry    250  2008\n",
      "2       mango   3000  2007\n",
      "=== 外部結合の例（fruits） ===\n",
      "   amount      fruits  year_x   price  year_y\n",
      "0     1.0      banana  2001.0   100.0  2001.0\n",
      "1     4.0  strawberry  2008.0   250.0  2008.0\n",
      "2     5.0   kiwifruit  2006.0     NaN     NaN\n",
      "3     NaN       mango     NaN  3000.0  2007.0\n"
     ]
    }
   ],
   "source": [
    "import numpy as np\n",
    "import pandas as pd\n",
    "\n",
    "data1 = {\"amount\": [1, 4, 5],\n",
    "         \"fruits\": [\"banana\", \"strawberry\", \"kiwifruit\"],\n",
    "         \"year\": [2001, 2008, 2006]}\n",
    "df1 = pd.DataFrame(data1)\n",
    "\n",
    "data2 = {\"fruits\": [\"banana\", \"strawberry\", \"mango\"],\n",
    "         \"price\": [100, 250, 3000],\n",
    "         \"year\": [2001, 2008, 2007]}\n",
    "df2 = pd.DataFrame(data2)\n",
    "\n",
    "print(\"=== df1 ===\")\n",
    "print(df1)\n",
    "print(\"=== df2 ===\")\n",
    "print(df2)\n",
    "\n",
    "## 外部結合の例\n",
    "df3 = pd.merge(df1, df2, on=\"fruits\", how=\"outer\")\n",
    "print(\"=== 外部結合の例（fruits） ===\")\n",
    "print(df3)"
   ]
  },
  {
   "cell_type": "markdown",
   "metadata": {
    "courseId": 4010,
    "exerciseId": "SyYBF2UiIlM",
    "id": "code_session_name",
    "important": false,
    "isDL": false,
    "timeoutSecs": 5
   },
   "source": [
    "### 9.3.4 同名でない列をKeyにして結合する\n",
    "* 2つのDataFrameで、Keyにしたい列の名前が異なる場合\n",
    "    * **`pandas.merge(左側DF, 右側DF, left_on=\"左側DFのカラム\", right_on=\"右側DFのカラム\", how=\"結合方法\")`**\n",
    "        * 左右DataFrameのKeyとなるカラム名を別々に引数として渡す"
   ]
  },
  {
   "cell_type": "markdown",
   "metadata": {},
   "source": [
    "#### 同名でない列をKeyにして結合する例"
   ]
  },
  {
   "cell_type": "code",
   "execution_count": 5,
   "metadata": {},
   "outputs": [
    {
     "name": "stdout",
     "output_type": "stream",
     "text": [
      "=== df1 ===\n",
      "   amount fruits_name  year\n",
      "0       1      banana  2001\n",
      "1       4  strawberry  2008\n",
      "2       5   kiwifruit  2006\n",
      "=== df2 ===\n",
      "    fruits_nm  price  year\n",
      "0      banana    100  2001\n",
      "1  strawberry    250  2008\n",
      "2       mango   3000  2007\n",
      "=== 結合の例 ===\n",
      "   amount fruits_name  year_x   fruits_nm  price  year_y\n",
      "0       1      banana    2001      banana    100    2001\n",
      "1       4  strawberry    2008  strawberry    250    2008\n"
     ]
    }
   ],
   "source": [
    "import numpy as np\n",
    "import pandas as pd\n",
    "\n",
    "data1 = {\"amount\": [1, 4, 5],\n",
    "         \"fruits_name\": [\"banana\", \"strawberry\", \"kiwifruit\"],\n",
    "         \"year\": [2001, 2008, 2006]}\n",
    "df1 = pd.DataFrame(data1)\n",
    "\n",
    "data2 = {\"fruits_nm\": [\"banana\", \"strawberry\", \"mango\"],\n",
    "         \"price\": [100, 250, 3000],\n",
    "         \"year\": [2001, 2008, 2007]}\n",
    "df2 = pd.DataFrame(data2)\n",
    "\n",
    "print(\"=== df1 ===\")\n",
    "print(df1)\n",
    "print(\"=== df2 ===\")\n",
    "print(df2)\n",
    "\n",
    "## 結合の例\n",
    "df3 = pd.merge(df1, df2, left_on=\"fruits_name\", right_on=\"fruits_nm\", how=\"inner\")\n",
    "print(\"=== 結合の例 ===\")\n",
    "print(df3)"
   ]
  },
  {
   "cell_type": "markdown",
   "metadata": {
    "courseId": 4010,
    "exerciseId": "Hy5rYh8j8ez",
    "id": "code_session_name",
    "important": false,
    "isDL": false,
    "timeoutSecs": 5
   },
   "source": [
    "### 9.3.5 インデックスをKeyにして結合する\n",
    "* インデックスをKeyとして結合する場合\n",
    "    * **pandas.merge()** のleft_on=\"左側DFのカラム\", right_on=\"右側DFのカラム\"の代わりに  \n",
    "    **`left_index = True、right_index = True`** で指定する"
   ]
  },
  {
   "cell_type": "markdown",
   "metadata": {},
   "source": [
    "#### インデックスをKeyにする例"
   ]
  },
  {
   "cell_type": "code",
   "execution_count": 1,
   "metadata": {
    "id": "index"
   },
   "outputs": [
    {
     "name": "stdout",
     "output_type": "stream",
     "text": [
      "=== order_df ===\n",
      "    id  item_id  customer_id\n",
      "0  100      123           11\n",
      "1  101      456           12\n",
      "=== customer_df ===\n",
      "      name\n",
      "11    Sato\n",
      "12     Ito\n",
      "13  Suzuki\n",
      "=== 結合の例 ===\n",
      "    id  item_id  customer_id  name\n",
      "0  100      123           11  Sato\n",
      "1  101      456           12   Ito\n"
     ]
    }
   ],
   "source": [
    "import pandas as pd\n",
    "\n",
    "# 注文情報です\n",
    "order_df = pd.DataFrame([[100, 123, 11],\n",
    "                         [101, 456, 12]],\n",
    "                         columns=[\"id\", \"item_id\", \"customer_id\"])\n",
    "# 顧客情報です\n",
    "customer_df = pd.DataFrame([[\"Sato\"],\n",
    "                           [\"Ito\"],\n",
    "                           [\"Suzuki\"]],\n",
    "                           columns=[\"name\"])\n",
    "customer_df.index = [11, 12, 13]\n",
    "\n",
    "print(\"=== order_df ===\")\n",
    "print(order_df)\n",
    "print(\"=== customer_df ===\")\n",
    "print(customer_df)\n",
    "\n",
    "## 結合の例\n",
    "df = pd.merge(order_df, customer_df, left_on=\"customer_id\", \n",
    "              right_index=True, how=\"inner\")\n",
    "print(\"=== 結合の例 ===\")\n",
    "print(df)\n"
   ]
  },
  {
   "cell_type": "markdown",
   "metadata": {
    "id": "section_name",
    "sectionId": "HycedRXbl-f"
   },
   "source": [
    "## 9.4 DataFrameを用いたデータ分析（P.281）"
   ]
  },
  {
   "cell_type": "markdown",
   "metadata": {
    "courseId": 4010,
    "exerciseId": "SkiSt3UsUlM",
    "id": "code_session_name",
    "important": true,
    "isDL": false,
    "timeoutSecs": 5
   },
   "source": [
    "### 9.4.1 一部の行を得る\n",
    "* DataFrame型変数**df**の一部の行を取得する\n",
    "    * **`df.head()`**\n",
    "        * 冒頭の5行のみを含むDataFrameを返す\n",
    "        * 引数に整数値を指定すると、指定した行数分の冒頭の行を含むDataFrameを返す\n",
    "    * **`df.tail()`**\n",
    "        * 末尾の5行のみを含むDataFrameを返す\n",
    "        * 引数に整数値を指定すると、指定した行数分の末尾の行を含むDataFrameを返す\n",
    "* **head()** 、**tail()** 関数はSeries型変数に対しても使用可能"
   ]
  },
  {
   "cell_type": "markdown",
   "metadata": {},
   "source": [
    "#### head(), tail()の使用例"
   ]
  },
  {
   "cell_type": "code",
   "execution_count": 7,
   "metadata": {
    "id": "index"
   },
   "outputs": [
    {
     "name": "stdout",
     "output_type": "stream",
     "text": [
      "    apple  orange  banana\n",
      "1       6       8       6\n",
      "2       1       7      10\n",
      "3       4       9       9\n",
      "4       4       9      10\n",
      "5       8       2       5\n",
      "6      10       7       4\n",
      "7       4       8       1\n",
      "8       6       8       4\n",
      "9       3       9       6\n",
      "10      5       2       1\n",
      "   apple  orange  banana\n",
      "1      6       8       6\n",
      "2      1       7      10\n",
      "    apple  orange  banana\n",
      "9       3       9       6\n",
      "10      5       2       1\n"
     ]
    }
   ],
   "source": [
    "import numpy as np\n",
    "import pandas as pd\n",
    "np.random.seed(0)\n",
    "columns = [\"apple\", \"orange\", \"banana\"]\n",
    "\n",
    "# DataFrameを生成し、列を追加します\n",
    "df = pd.DataFrame()\n",
    "for column in columns:\n",
    "    df[column] = np.random.choice(range(1, 11), 10)\n",
    "df.index = range(1, 11)\n",
    "\n",
    "print(df)\n",
    "# dfの冒頭2行を取得し、df_headに代入してください\n",
    "df_head = df.head(2)\n",
    "\n",
    "# dfの末尾2行を取得し、df_tailに代入してください\n",
    "df_tail = df.tail(2)\n",
    "\n",
    "# 出力します\n",
    "print(df_head)\n",
    "print(df_tail)"
   ]
  },
  {
   "cell_type": "markdown",
   "metadata": {
    "courseId": 4010,
    "exerciseId": "rJnSFnIsLxz",
    "id": "code_session_name",
    "important": true,
    "isDL": false,
    "timeoutSecs": 5
   },
   "source": [
    "### 9.4.2 計算処理を適用する\n",
    "* Numpyで用意されている関数にSeriesやDataFrameを渡すことができる\n",
    "    * すべての要素に対して計算処理が適用される\n",
    "* Numpy配列を受け取る関数にDataFrameを渡すことができる\n",
    "    * 列単位でまとめて計算処理が行われる\n",
    "* SeriesやDataFrameではブロードキャストをサポートしている\n",
    "    * Pandas同士やPandasと整数の計算も「＋ － ＊ ／」を用いて処理できる"
   ]
  },
  {
   "cell_type": "markdown",
   "metadata": {},
   "source": [
    "#### 計算処理の例"
   ]
  },
  {
   "cell_type": "code",
   "execution_count": 13,
   "metadata": {
    "id": "index"
   },
   "outputs": [
    {
     "name": "stdout",
     "output_type": "stream",
     "text": [
      "=== DataFrame ===\n",
      "   apple  orange  banana\n",
      "1      6       4       4\n",
      "2      1       8       6\n",
      "3      4      10       3\n",
      "=== np.sum(df) ===\n",
      "apple     11\n",
      "orange    22\n",
      "banana    13\n",
      "dtype: int64\n",
      "=== df + 10 ===\n",
      "   apple  orange  banana\n",
      "1     16      14      14\n",
      "2     11      18      16\n",
      "3     14      20      13\n"
     ]
    }
   ],
   "source": [
    "import numpy as np\n",
    "import pandas as pd\n",
    "import math\n",
    "np.random.seed(0)\n",
    "columns = [\"apple\", \"orange\", \"banana\"]\n",
    "\n",
    "# DataFrameを生成し、列を追加します\n",
    "df = pd.DataFrame()\n",
    "for column in columns:\n",
    "    df[column] = np.random.choice(range(1, 11), 3)\n",
    "df.index = range(1, 4)\n",
    "\n",
    "print(\"=== DataFrame ===\")\n",
    "print(df)\n",
    "\n",
    "## np.sum()にDataFrameを渡す\n",
    "## 列単位でまとめて計算される\n",
    "print(\"=== np.sum(df) ===\")\n",
    "print(np.sum(df))\n",
    "\n",
    "# ブロードキャストの利用例\n",
    "print(\"=== df + 10 ===\")\n",
    "print(df + 10)"
   ]
  },
  {
   "cell_type": "markdown",
   "metadata": {
    "courseId": 4010,
    "exerciseId": "HypSY3UsLgf",
    "id": "code_session_name",
    "important": true,
    "isDL": false,
    "timeoutSecs": 5
   },
   "source": [
    "### 9.4.3 要約統計量を得る\n",
    "* 要約統計量\n",
    "    * 平均値、最大値、最小値など、データの特徴的な統計的情報をまとめたもの\n",
    "* DataFrame型変数**df** に関する要約統計量の取得\n",
    "    * **`df.describe()`**\n",
    "        * 列ごとの**個数**、**平均値**、**標準偏差**、**最小値**、**四分位数**、**最大値**を含むDataFrameを返す\n",
    "        * 得られたDataFrameのインデックスは統計量の名前になる"
   ]
  },
  {
   "cell_type": "markdown",
   "metadata": {},
   "source": [
    "#### 要約統計量の取得例"
   ]
  },
  {
   "cell_type": "code",
   "execution_count": 19,
   "metadata": {
    "id": "index"
   },
   "outputs": [
    {
     "name": "stdout",
     "output_type": "stream",
     "text": [
      "=== DataFrame ===\n",
      "   apple  orange  banana\n",
      "1     45      40      24\n",
      "2     48      10       7\n",
      "3      1      20      25\n",
      "4      4      22      25\n",
      "5      4      37      13\n",
      "=== df.describe() ===\n",
      "           apple  orange     banana\n",
      "count   5.000000   5.000   5.000000\n",
      "mean   20.400000  25.800  18.800000\n",
      "std    23.880955  12.498   8.318654\n",
      "min     1.000000  10.000   7.000000\n",
      "25%     4.000000  20.000  13.000000\n",
      "50%     4.000000  22.000  24.000000\n",
      "75%    45.000000  37.000  25.000000\n",
      "max    48.000000  40.000  25.000000\n"
     ]
    }
   ],
   "source": [
    "import numpy as np\n",
    "import pandas as pd\n",
    "import math\n",
    "np.random.seed(0)\n",
    "columns = [\"apple\", \"orange\", \"banana\"]\n",
    "\n",
    "# DataFrameを生成し、列を追加します\n",
    "df = pd.DataFrame()\n",
    "for column in columns:\n",
    "    df[column] = np.random.choice(range(1, 50), 5)\n",
    "df.index = range(1, 6)\n",
    "\n",
    "print(\"=== DataFrame ===\")\n",
    "print(df)\n",
    "\n",
    "## 要約統計量の取得\n",
    "print(\"=== df.describe() ===\")\n",
    "print(df.describe())\n"
   ]
  },
  {
   "cell_type": "markdown",
   "metadata": {
    "courseId": 4010,
    "exerciseId": "BkCSFnUsUxf",
    "id": "code_session_name",
    "important": false,
    "isDL": false,
    "timeoutSecs": 5
   },
   "source": [
    "### 9.4.4 DataFrameの行間または列間の差を求める\n",
    "* DataFrame型データの行間（列間）の差を求める操作\n",
    "    * 時系列分析などで用いられる\n",
    "    * **`df.diff(\"行または列の間隔\", axis=\"方向\")`**\n",
    "        * 行間、または列間の差を計算したDataFrameが作成される\n",
    "        * 間隔が正の場合は前の行との差、間隔が負の場合は後の行との差\n",
    "        * axis=0の場合は行方向、axis=1の場合は列方向"
   ]
  },
  {
   "cell_type": "markdown",
   "metadata": {},
   "source": [
    "#### 行間の差を求める例"
   ]
  },
  {
   "cell_type": "code",
   "execution_count": 21,
   "metadata": {
    "id": "index"
   },
   "outputs": [
    {
     "name": "stdout",
     "output_type": "stream",
     "text": [
      "=== DataFrame ===\n",
      "   apple  orange  banana\n",
      "1     45      40      24\n",
      "2     48      10       7\n",
      "3      1      20      25\n",
      "4      4      22      25\n",
      "5      4      37      13\n",
      "=== df.diff() ===\n",
      "   apple  orange  banana\n",
      "1    NaN     NaN     NaN\n",
      "2    3.0   -30.0   -17.0\n",
      "3  -47.0    10.0    18.0\n",
      "4    3.0     2.0     0.0\n",
      "5    0.0    15.0   -12.0\n"
     ]
    }
   ],
   "source": [
    "import numpy as np\n",
    "import pandas as pd\n",
    "import math\n",
    "np.random.seed(0)\n",
    "columns = [\"apple\", \"orange\", \"banana\"]\n",
    "\n",
    "# DataFrameを生成し、列を追加します\n",
    "df = pd.DataFrame()\n",
    "for column in columns:\n",
    "    df[column] = np.random.choice(range(1, 50), 5)\n",
    "df.index = range(1, 6)\n",
    "\n",
    "print(\"=== DataFrame ===\")\n",
    "print(df)\n",
    "\n",
    "## 行間の差を求める例\n",
    "## (1行前のデータとの差を求めている)\n",
    "print(\"=== df.diff() ===\")\n",
    "print(df.diff(1, axis=0))"
   ]
  },
  {
   "cell_type": "markdown",
   "metadata": {
    "courseId": 4010,
    "exerciseId": "S1JIF3Uj8xz",
    "id": "code_session_name",
    "important": false,
    "isDL": false,
    "timeoutSecs": 5
   },
   "source": [
    "### 9.4.5 グループ化\n",
    "* グループ化\n",
    "    * ある特定の列について、同じ値を持つ行を集約すること\n",
    "    * データベースでも同様の操作が可能（GROUP BY）\n",
    "* DataFrame型変数**df**についてのグループ化の方法\n",
    "    * **`df.groupby(\"カラム名\")`**\n",
    "        * 戻り値としてGroupByオブジェクトが返されるが、直接表示することはできない\n",
    "        * GroupByオブジェクトに対して演算を行うことができる\n",
    "            * 平均値計算（**mean()** ）や和を求める（**sum()** ）"
   ]
  },
  {
   "cell_type": "markdown",
   "metadata": {},
   "source": [
    "#### グループ化の例"
   ]
  },
  {
   "cell_type": "code",
   "execution_count": 1,
   "metadata": {
    "id": "index"
   },
   "outputs": [
    {
     "name": "stdout",
     "output_type": "stream",
     "text": [
      "=== baseball_df ===\n",
      "       Team  Win  Lose  Draw   League\n",
      "0    GIANTS   77    64     2  Central\n",
      "1  BAYSTARS   71    69     3  Central\n",
      "2    TIGERS   69    68     6  Central\n",
      "3     LIONS   80    62     1  Pacific\n",
      "4     HAWKS   76    62     5  Pacific\n",
      "5    EAGLES   71    68     4  Pacific\n",
      "=== mean_df ===\n",
      "               Win  Lose      Draw\n",
      "League                            \n",
      "Central  72.333333  67.0  3.666667\n",
      "Pacific  75.666667  64.0  3.333333\n"
     ]
    }
   ],
   "source": [
    "import pandas as pd\n",
    "\n",
    "# DataFrameを作成します\n",
    "baseball_df = pd.DataFrame([[\"GIANTS\", 77, 64, 2, \"Central\"],\n",
    "                              [\"BAYSTARS\", 71, 69, 3, \"Central\"],\n",
    "                              [\"TIGERS\", 69, 68, 6, \"Central\"],\n",
    "                              [\"LIONS\", 80, 62, 1, \"Pacific\"],\n",
    "                              [\"HAWKS\", 76, 62, 5, \"Pacific\"],\n",
    "                              [\"EAGLES\", 71, 68, 4, \"Pacific\"]], \n",
    "                             columns=[\"Team\", \"Win\", \n",
    "                                      \"Lose\", \"Draw\", \"League\"])\n",
    "# 出力\n",
    "print(\"=== baseball_df ===\")\n",
    "print(baseball_df)\n",
    "\n",
    "# prefecture_dfをリーグ(League)についてグループ化し、grouped_Leagueに代入\n",
    "grouped_League = baseball_df.groupby(\"League\")\n",
    "\n",
    "# grouped_Leagueに出てきたリーグごとの、勝ち数(Win)、負け数(Lose)、\n",
    "# 引き分け数（Draw）の平均をmean_dfに代入\n",
    "mean_df = grouped_League.mean()\n",
    "\n",
    "# 出力\n",
    "print(\"=== mean_df ===\")\n",
    "print(mean_df)"
   ]
  },
  {
   "cell_type": "markdown",
   "metadata": {},
   "source": [
    "# ほげ要望"
   ]
  },
  {
   "cell_type": "markdown",
   "metadata": {},
   "source": [
    "第９章の添削問題をやってくれたら工藤が喜びます"
   ]
  },
  {
   "cell_type": "markdown",
   "metadata": {},
   "source": [
    "# エクストラほげ問題⑨\n",
    "## Pythonで学ぶ線形代数\n",
    "## 行列の定義と演算規則\n",
    "大学に進学をした理系学生が１年生の最初に習うのが線形代数です。その知識を使い今習っているPythonの技術向上を目指しましょう。   \n",
    "※ヒントのようなもの  \n",
    "①https://oguemon.com/topic/study/linear-algebra/  \n",
    "②https://mathtrain.jp/category/senkei  \n",
    "③https://python.atelierkobato.com/linear/  \n",
    "④https://examist.jp/category/mathematics/  \n",
    "⑤http://www.geisya.or.jp/~mwm48961/koukou/index_m.htm  \n",
    "  \n",
    "# もんだいだよん(^ω^)\n",
    "## 行列の定義と演算規則\n",
    "### 行列とベクトルの積\n",
    "　一般的な二元一次連立方程式  \n",
    "$5x -  y = 9 $    \n",
    "$2x + 3y = 7 $  \n",
    "を行列とベクトルの積と考えてnumpyを用いて計算を行いなさい  \n",
    "### numpy.dot()\n",
    "　下記の二つの行列A、Bの行列積A・Bを求めなさい  \n",
    " $\n",
    "  \\mathrm|A| = \\left|\n",
    "    \\begin{array}{ccc}\n",
    "           -1& 5\\\\\n",
    "            7& 0\n",
    "    \\end{array}\n",
    "  \\right|\n",
    "$  \n",
    "$\n",
    "  \\mathrm|B| = \\left|\n",
    "    \\begin{array}{ccc}\n",
    "            3& 1\\\\\n",
    "           -2& 6\n",
    "    \\end{array}\n",
    "  \\right|\n",
    "$\n",
    "\n",
    "### numpy.linalg.multi_dot()\n",
    "配列のリストを受け取って行列積を返す方法を用いて下記行列の行列積A・B・Cを計算しなさい  \n",
    " $\n",
    "  \\mathrm|A| = \\left|\n",
    "    \\begin{array}{ccc}\n",
    "            3& 0\\\\\n",
    "            1& 2\n",
    "    \\end{array}\n",
    "  \\right|\n",
    "$  \n",
    " $\n",
    "  \\mathrm|B| = \\left|\n",
    "    \\begin{array}{ccc}\n",
    "            0&-1\\\\\n",
    "            5& 1\n",
    "    \\end{array}\n",
    "  \\right|\n",
    "$  \n",
    " $\n",
    "  \\mathrm|C| = \\left|\n",
    "    \\begin{array}{ccc}\n",
    "            1& 4\\\\\n",
    "           -3& 1\n",
    "    \\end{array}\n",
    "  \\right|\n",
    "$  "
   ]
  }
 ],
 "metadata": {
  "anaconda-cloud": {},
  "kernelspec": {
   "display_name": "Python 3",
   "language": "python",
   "name": "python3"
  },
  "language_info": {
   "codemirror_mode": {
    "name": "ipython",
    "version": 3
   },
   "file_extension": ".py",
   "mimetype": "text/x-python",
   "name": "python",
   "nbconvert_exporter": "python",
   "pygments_lexer": "ipython3",
   "version": "3.8.3"
  },
  "varInspector": {
   "cols": {
    "lenName": 16,
    "lenType": 16,
    "lenVar": 40
   },
   "kernels_config": {
    "python": {
     "delete_cmd_postfix": "",
     "delete_cmd_prefix": "del ",
     "library": "var_list.py",
     "varRefreshCmd": "print(var_dic_list())"
    },
    "r": {
     "delete_cmd_postfix": ") ",
     "delete_cmd_prefix": "rm(",
     "library": "var_list.r",
     "varRefreshCmd": "cat(var_dic_list()) "
    }
   },
   "types_to_exclude": [
    "module",
    "function",
    "builtin_function_or_method",
    "instance",
    "_Feature"
   ],
   "window_display": false
  }
 },
 "nbformat": 4,
 "nbformat_minor": 2
}
