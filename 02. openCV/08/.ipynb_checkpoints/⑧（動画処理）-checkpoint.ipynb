{
 "cells": [
  {
   "cell_type": "markdown",
   "metadata": {},
   "source": [
    "# ⑧（動画処理）"
   ]
  },
  {
   "cell_type": "markdown",
   "metadata": {},
   "source": [
    "## フレームサイズの表示"
   ]
  },
  {
   "cell_type": "code",
   "execution_count": 1,
   "metadata": {},
   "outputs": [
    {
     "name": "stdout",
     "output_type": "stream",
     "text": [
      "frame size = 640.0 x 480.0\n"
     ]
    }
   ],
   "source": [
    "# -*- coding: utf-8 -*\n",
    "\n",
    "import cv2\n",
    "\n",
    "try:\n",
    "    capture = cv2.VideoCapture(0)\n",
    "    width = capture.get(cv2.CAP_PROP_FRAME_WIDTH)\n",
    "    height = capture.get(cv2.CAP_PROP_FRAME_HEIGHT)\n",
    "    \n",
    "    print('frame size = ' + str(width) + ' x ' + str(height))\n",
    "except:\n",
    "    import sys\n",
    "    print(\"Error:\", sys.exc_info()[0])\n",
    "    print(sys.exc_info()[1])\n",
    "    import traceback\n",
    "    print(traceback.format_tb(sys.exc_info()[2]))"
   ]
  },
  {
   "cell_type": "markdown",
   "metadata": {},
   "source": [
    "## 動画の表示"
   ]
  },
  {
   "cell_type": "code",
   "execution_count": 2,
   "metadata": {},
   "outputs": [],
   "source": [
    "# -*- coding: utf-8 -*\n",
    "\n",
    "import cv2\n",
    "\n",
    "try:\n",
    "    capture = cv2.VideoCapture(0)\n",
    "    \n",
    "    while(True):\n",
    "        ret, frame = capture.read()\n",
    "        if ret == False:\n",
    "            print('カメラから映像を取得できませんでした。')\n",
    "            break\n",
    "        \n",
    "        cv2.imshow('f', frame)\n",
    "        \n",
    "        if cv2.waitKey(1) & 0xFF == ord('q'):\n",
    "            break\n",
    "        \n",
    "    capture.release()\n",
    "    cv2.destroyAllWindows()\n",
    "except:\n",
    "    import sys\n",
    "    print(\"Error:\", sys.exc_info()[0])\n",
    "    print(sys.exc_info()[1])\n",
    "    import traceback\n",
    "    print(traceback.format_tb(sys.exc_info()[2]))"
   ]
  },
  {
   "cell_type": "markdown",
   "metadata": {},
   "source": [
    "## グレイスケール"
   ]
  },
  {
   "cell_type": "code",
   "execution_count": 2,
   "metadata": {},
   "outputs": [],
   "source": [
    "# -*- coding: utf-8 -*\n",
    "\n",
    "import cv2\n",
    "\n",
    "try:\n",
    "    capture = cv2.VideoCapture(0)\n",
    "    while(True):\n",
    "        ret, frame = capture.read()\n",
    "        \n",
    "        if ret == False:\n",
    "            print('カメラから映像を取得できませんでした。')\n",
    "            break\n",
    "        \n",
    "        gray = cv2.cvtColor(frame, cv2.COLOR_BGR2GRAY)\n",
    "        cv2.imshow('f', gray)\n",
    "        \n",
    "        if cv2.waitKey(1) & 0xFF == ord('q'):\n",
    "            break\n",
    "    \n",
    "    capture.release()\n",
    "    cv2.destroyAllWindows()\n",
    "except:\n",
    "    import sys\n",
    "    print(\"Error:\", sys.exc_info()[0])\n",
    "    print(sys.exc_info()[1])\n",
    "    import traceback\n",
    "    print(traceback.format_tb(sys.exc_info()[2]))"
   ]
  },
  {
   "cell_type": "markdown",
   "metadata": {},
   "source": [
    "## 輝度平滑化"
   ]
  },
  {
   "cell_type": "code",
   "execution_count": 3,
   "metadata": {},
   "outputs": [],
   "source": [
    "# -*- coding: utf-8 -*\n",
    "\n",
    "import cv2\n",
    "\n",
    "try:\n",
    "    capture = cv2.VideoCapture(0)\n",
    "    while(True):\n",
    "        ret, frame = capture.read()\n",
    "        \n",
    "        if ret == False:\n",
    "            print('カメラから映像を取得できませんでした。')\n",
    "            break\n",
    "        \n",
    "        gray = cv2.cvtColor(frame, cv2.COLOR_BGR2GRAY)\n",
    "        dst = cv2.equalizeHist(gray)\n",
    "        cv2.imshow('f', dst)\n",
    "        \n",
    "        if cv2.waitKey(1) & 0xFF == ord('q'):\n",
    "            break\n",
    "    \n",
    "    capture.release()\n",
    "    cv2.destroyAllWindows()\n",
    "except:\n",
    "    import sys\n",
    "    print(\"Error:\", sys.exc_info()[0])\n",
    "    print(sys.exc_info()[1])\n",
    "    import traceback\n",
    "    print(traceback.format_tb(sys.exc_info()[2]))"
   ]
  },
  {
   "cell_type": "markdown",
   "metadata": {},
   "source": [
    "## Canny処理"
   ]
  },
  {
   "cell_type": "code",
   "execution_count": 4,
   "metadata": {},
   "outputs": [],
   "source": [
    "# -*- coding: utf-8 -*\n",
    "\n",
    "import cv2\n",
    "\n",
    "try:\n",
    "    capture = cv2.VideoCapture(0)\n",
    "    while(True):\n",
    "        ret, frame = capture.read()\n",
    "        if ret == False:\n",
    "            print('カメラから映像を取得できませんでした。')\n",
    "            break\n",
    "        dst = cv2.Canny(frame, 40.0, 200.0)\n",
    "        cv2.imshow('f', dst)\n",
    "        if cv2.waitKey(1) & 0xFF == ord('q'):\n",
    "            break\n",
    "    \n",
    "    capture.release()\n",
    "    cv2.destroyAllWindows()\n",
    "except:\n",
    "    import sys\n",
    "    print(\"Error:\", sys.exc_info()[0])\n",
    "    print(sys.exc_info()[1])\n",
    "    import traceback\n",
    "    print(traceback.format_tb(sys.exc_info()[2]))"
   ]
  },
  {
   "cell_type": "code",
   "execution_count": 5,
   "metadata": {},
   "outputs": [],
   "source": [
    "# -*- coding: utf-8 -*\n",
    "\n",
    "import cv2\n",
    "\n",
    "try:\n",
    "    capture = cv2.VideoCapture(0)\n",
    "    while(True):\n",
    "        ret, frame = capture.read()\n",
    "        if ret == False:\n",
    "            print('カメラから映像を取得できませんでした。')\n",
    "            break\n",
    "        dst = cv2.Canny(frame, 40.0, 200.0)\n",
    "        dst = cv2.bitwise_not(dst)\n",
    "        cv2.imshow('f', dst)\n",
    "        \n",
    "        if cv2.waitKey(1) & 0xFF == ord('q'):\n",
    "            break\n",
    "    \n",
    "    capture.release()\n",
    "    cv2.destroyAllWindows()\n",
    "except:\n",
    "    import sys\n",
    "    print(\"Error:\", sys.exc_info()[0])\n",
    "    print(sys.exc_info()[1])\n",
    "    import traceback\n",
    "    print(traceback.format_tb(sys.exc_info()[2]))"
   ]
  },
  {
   "cell_type": "markdown",
   "metadata": {},
   "source": [
    "## シャッフル"
   ]
  },
  {
   "cell_type": "code",
   "execution_count": 6,
   "metadata": {},
   "outputs": [],
   "source": [
    "# -*- coding: utf-8 -*\n",
    "\n",
    "import cv2\n",
    "import numpy as np\n",
    "\n",
    "try:\n",
    "    capture = cv2.VideoCapture(0)\n",
    "    height = int(capture.get(cv2.CAP_PROP_FRAME_HEIGHT))\n",
    "    width = int(capture.get(cv2.CAP_PROP_FRAME_WIDTH))\n",
    "    roi_target = [0, 1, 2, 3]\n",
    "    counter = 60\n",
    "    \n",
    "    while(True):\n",
    "        ret, frame = capture.read()\n",
    "        if ret == False:\n",
    "            print('カメラから映像を取得できませんでした。')\n",
    "            break\n",
    "        dst = np.zeros((height, width, 3), np.uint8)\n",
    "        \n",
    "        y1 = [0, height//2, height//2, 0]\n",
    "        y2 = [height//2, height, height, height//2]\n",
    "        x1 = [0, 0, width//2, width//2]\n",
    "        x2 = [width//2, width//2, width, width]\n",
    "        \n",
    "        for i in range(0, 4):\n",
    "            dst[y1[i]:y2[i], x1[i]:x2[i]] = \\\n",
    "            frame[y1[roi_target[i]]:y2[roi_target[i]], x1[roi_target[i]]:x2[roi_target[i]]]\n",
    "        \n",
    "        counter -= 1\n",
    "        if counter <= 0:\n",
    "            counter = 60\n",
    "            for i in range(0, 4):\n",
    "                roi_target[i] += 1\n",
    "                if roi_target[i] == 4:\n",
    "                    roi_target[i] = 0\n",
    "        \n",
    "        cv2.imshow('f', dst)\n",
    "        if cv2.waitKey(1) & 0xFF == ord('q'):\n",
    "            break\n",
    "    \n",
    "    capture.release()\n",
    "    cv2.destroyAllWindows()\n",
    "except:\n",
    "    import sys\n",
    "    print(\"Error:\", sys.exc_info()[0])\n",
    "    print(sys.exc_info()[1])\n",
    "    import traceback\n",
    "    print(traceback.format_tb(sys.exc_info()[2]))"
   ]
  },
  {
   "cell_type": "markdown",
   "metadata": {},
   "source": [
    "## 回転"
   ]
  },
  {
   "cell_type": "code",
   "execution_count": 7,
   "metadata": {},
   "outputs": [],
   "source": [
    "# -*- coding: utf-8 -*\n",
    "\n",
    "import cv2\n",
    "\n",
    "try:\n",
    "    capture = cv2.VideoCapture(0)\n",
    "    height = int(capture.get(cv2.CAP_PROP_FRAME_HEIGHT))\n",
    "    width = int(capture.get(cv2.CAP_PROP_FRAME_WIDTH))\n",
    "    center = (width//2, height//2)\n",
    "    degree = 0.0\n",
    "    \n",
    "    while(True):\n",
    "        ret, frame = capture.read()\n",
    "        if ret == False:\n",
    "            print('カメラから映像を取得できませんでした。')\n",
    "            break\n",
    "        affin_trans = cv2.getRotationMatrix2D(center, degree, 1.0)\n",
    "        dst = cv2.warpAffine(frame, affin_trans, (width, height))\n",
    "        degree += 1.0\n",
    "        \n",
    "        cv2.imshow('f', dst)\n",
    "        if cv2.waitKey(1) & 0xFF == ord('q'):\n",
    "            break\n",
    "    \n",
    "    capture.release()\n",
    "    cv2.destroyAllWindows()\n",
    "except:\n",
    "    import sys\n",
    "    print(\"Error:\", sys.exc_info()[0])\n",
    "    print(sys.exc_info()[1])\n",
    "    import traceback\n",
    "    print(traceback.format_tb(sys.exc_info()[2]))"
   ]
  },
  {
   "cell_type": "markdown",
   "metadata": {},
   "source": [
    "## 一部回転"
   ]
  },
  {
   "cell_type": "code",
   "execution_count": 8,
   "metadata": {},
   "outputs": [],
   "source": [
    "# -*- coding: utf-8 -*\n",
    "\n",
    "import cv2\n",
    "\n",
    "try:\n",
    "    capture = cv2.VideoCapture(0)\n",
    "    height = int(capture.get(cv2.CAP_PROP_FRAME_HEIGHT))\n",
    "    width = int(capture.get(cv2.CAP_PROP_FRAME_WIDTH))\n",
    "    center = (width//4, height//4)\n",
    "    degree = 0.0\n",
    "    roi = [width//4, height//4, (width*3)//4, (height*3)//4]\n",
    "    \n",
    "    while(True):\n",
    "        ret, frame = capture.read()\n",
    "        if ret == False:\n",
    "            print('カメラから映像を取得できませんでした。')\n",
    "            break\n",
    "        frame_part = frame[roi[1]:roi[3], roi[0]:roi[2]]\n",
    "        \n",
    "        affin_trans = cv2.getRotationMatrix2D(center, degree, 1.0)\n",
    "        dst = cv2.warpAffine(frame_part, affin_trans, (width//2, height//2), flags = cv2.INTER_CUBIC)\n",
    "        degree += 1.0\n",
    "        \n",
    "        frame[roi[1]:roi[3], roi[0]:roi[2]] = dst\n",
    "        \n",
    "        cv2.imshow('f', frame)\n",
    "        if cv2.waitKey(1) & 0xFF == ord('q'):\n",
    "            break\n",
    "    \n",
    "    capture.release()\n",
    "    cv2.destroyAllWindows()\n",
    "except:\n",
    "    import sys\n",
    "    print(\"Error:\", sys.exc_info()[0])\n",
    "    print(sys.exc_info()[1])\n",
    "    import traceback\n",
    "    print(traceback.format_tb(sys.exc_info()[2]))"
   ]
  },
  {
   "cell_type": "markdown",
   "metadata": {},
   "source": [
    "# 関数説明\n",
    "http://opencv.jp/opencv-2svn/py/"
   ]
  },
  {
   "cell_type": "markdown",
   "metadata": {},
   "source": [
    "# ほげ要望(^ω^)\n",
    "## Image Pyramids\n",
    "・Image Processing in OpenCV  \n",
    "https://opencv-python-tutroals.readthedocs.io/en/latest/py_tutorials/py_imgproc/py_table_of_contents_imgproc/py_table_of_contents_imgproc.html  \n",
    "内の「Image Pyramids」（原文英語）を読んで記事内のソースを実行して結果を確認してまとめなさい  \n",
    "https://opencv-python-tutroals.readthedocs.io/en/latest/py_tutorials/py_imgproc/py_pyramids/py_pyramids.html#pyramids  \n",
    "まとめたもので授業ができるくらい丁寧にまとめること（ソースファイル内にコメントを入れたりwebページ等で調べてMarkdownで補足説明とか）  \n",
    "・ほげ要望　Image Pyramids.ipynb  \n",
    "・ほげ要望　Image Pyramids.html  \n",
    "を提出しなさい。あまりに不適切なものは未提出と同等にします。"
   ]
  },
  {
   "cell_type": "markdown",
   "metadata": {},
   "source": [
    "# エクストラほげ問題⑦\n",
    "## 大学数学　線形代数\n",
    "## 行列の積\n",
    "大学で習うような数学の知識をつけてほしいのでこのような形で問題として出します。  \n",
    "人工知能を学ぶ上でとても重要（画像処理や深層学習等々で大量に使う）なのでしっかりと学んでください！   \n",
    "※ヒントのようなもの  \n",
    "①https://oguemon.com/topic/study/linear-algebra/  \n",
    "②https://mathtrain.jp/category/senkei  \n",
    "③https://python.atelierkobato.com/linear/  \n",
    "④https://examist.jp/category/mathematics/  \n",
    "⑤http://www.geisya.or.jp/~mwm48961/koukou/index_m.htm  \n",
    "  \n",
    "### もんだいだよん(^ω^)\n",
    "  \n",
    "①各行列$A$、$B$に対して行列の積$AB$と$BA$を求めなさい\n",
    "  \n",
    "$\n",
    "A = \\left(\n",
    "  \\begin{array}{ccc}\n",
    "    5 & 8 \\\\\n",
    "    5 & 9 \\\\\n",
    "  \\end{array}\n",
    "\\right)\n",
    "B = \\left(\n",
    "  \\begin{array}{ccc}\n",
    "    7 & 11 \\\\\n",
    "    4 & 7 \\\\\n",
    "  \\end{array}\n",
    "\\right)\n",
    "$\n"
   ]
  }
 ],
 "metadata": {
  "kernelspec": {
   "display_name": "Python 3",
   "language": "python",
   "name": "python3"
  },
  "language_info": {
   "codemirror_mode": {
    "name": "ipython",
    "version": 3
   },
   "file_extension": ".py",
   "mimetype": "text/x-python",
   "name": "python",
   "nbconvert_exporter": "python",
   "pygments_lexer": "ipython3",
   "version": "3.8.3"
  }
 },
 "nbformat": 4,
 "nbformat_minor": 2
}
