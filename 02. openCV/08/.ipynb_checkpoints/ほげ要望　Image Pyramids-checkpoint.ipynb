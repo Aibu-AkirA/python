{
 "cells": [
  {
   "cell_type": "markdown",
   "metadata": {},
   "source": [
    "# Image Pyramids"
   ]
  },
  {
   "cell_type": "markdown",
   "metadata": {},
   "source": [
    "일반적으로는 고정된 이미지 사이즈를 작업을 하지만, <br>\n",
    "때때로 동일한 이미지에 대해서 다양한 사이즈를 가지고 작업을 해야 하는 경우가 있습니다. <br>\n",
    "만일, 이미지에서 얼굴을 찾을 경우에 얼굴의 사이즈를 확신할 수 없습니다. <br>\n",
    "이럴 경우에는 원본 이미지에 대한 다양한 사이즈에서 얼굴을 찾는다면 <br>\n",
    "좀더 정확하고 확실한 이미지를 찾을 수 있습니다. <br>\n",
    "이 처럼 동일 이미지의 서로 다른 사이즈의 set을 Image Pyramids라고 합니다<br>\n",
    "(가장 아래에 가장 큰 해상도를 놓고 점점 줄여가면서 쌓아가는 형태입니다.)<br><br>\n",
    "\n",
    "一般的に作業する時にはイメージのサイズを固定しますが、<br>\n",
    "時々、同じイメージに対して色んなサイズで作業しなければならない時があります。<br>\n",
    "例え、顔認識をする時により正確なサイズを求めるために、画像のサイズを変えながら顔を認識する方式です。<br>\n",
    "このように同じイメージの異なるサイズのsetをImage Pyramidsといいます。<br>\n",
    "（一番下に最大の解像度を置いてどんどん小さくしながら積み上げていく形態です。）<br>"
   ]
  },
  {
   "cell_type": "markdown",
   "metadata": {},
   "source": [
    "#### Image PyramidsにはGaussian PyramidsとLaplacian Pyramidsがあります。<br><br>"
   ]
  },
  {
   "cell_type": "markdown",
   "metadata": {},
   "source": [
    "### Gaussian Pyramid\n",
    "Gaussian PyramidのHigh Level（低い解像度、Pyramidの上段)は<br>\n",
    "Lower levelからrowとcolumnを連続的に取り除きながら生成されます。<br>\n",
    "MxNサイジの画像はM2 XN2が適用されると、1/4のサイズに縮小されます。<br>"
   ]
  },
  {
   "cell_type": "code",
   "execution_count": 3,
   "metadata": {},
   "outputs": [],
   "source": [
    "#-*-coding:utf-8 -*-\n",
    "import cv2\n",
    "\n",
    "img = cv2.imread('akira.jpg')\n",
    "\n",
    "\n",
    "lower_reso = cv2.pyrDown(img) # 원본 이미지의 1/4 사이즈\n",
    "higher_reso = cv2.pyrUp(img) #원본 이미지의 4배 사이즈\n",
    "\n",
    "cv2.imshow('img', img)\n",
    "cv2.imshow('lower', lower_reso)\n",
    "cv2.imshow('higher', higher_reso)\n",
    "\n",
    "cv2.waitKey(0)\n",
    "\n",
    "cv2.destroyAllWindows()"
   ]
  },
  {
   "cell_type": "markdown",
   "metadata": {},
   "source": [
    "![m1](image1.png)"
   ]
  },
  {
   "cell_type": "markdown",
   "metadata": {},
   "source": [
    "### Laplacian Pyramid\n",
    "Laplacian PyramidはGaussian Pyramidで作られます。<br>\n",
    "cv2.pyrDown() と cv2.pyrUp() 関数を使って縮小、拡張を行うと原本と同じイメージは得られません。<br>\n",
    "(計算に若干の違いが生じます。)<br>\n",
    "例えば、"
   ]
  },
  {
   "cell_type": "code",
   "execution_count": 1,
   "metadata": {},
   "outputs": [
    {
     "data": {
      "text/plain": [
       "(300, 181, 3)"
      ]
     },
     "execution_count": 1,
     "metadata": {},
     "output_type": "execute_result"
    }
   ],
   "source": [
    ">>> import cv2\n",
    "img = cv2.imread('akira2.jpg')\n",
    "img.shape"
   ]
  },
  {
   "cell_type": "code",
   "execution_count": 2,
   "metadata": {},
   "outputs": [
    {
     "data": {
      "text/plain": [
       "(150, 91, 3)"
      ]
     },
     "execution_count": 2,
     "metadata": {},
     "output_type": "execute_result"
    }
   ],
   "source": [
    "GAD = cv2.pyrDown(img)\n",
    "GAD.shape"
   ]
  },
  {
   "cell_type": "code",
   "execution_count": 3,
   "metadata": {},
   "outputs": [
    {
     "data": {
      "text/plain": [
       "(300, 182, 3)"
      ]
     },
     "execution_count": 3,
     "metadata": {},
     "output_type": "execute_result"
    }
   ],
   "source": [
    "GAU = cv2.pyrUp(GAD)\n",
    "GAU.shape"
   ]
  },
  {
   "cell_type": "code",
   "execution_count": 4,
   "metadata": {},
   "outputs": [],
   "source": [
    "temp = cv2.resize(GAU, (181, 300))\n",
    "res = cv2.subtract(img, temp)\n",
    "cv2.imshow('res',res)\n",
    "cv2.waitKey(0)\n",
    "cv2.destroyAllWindows()"
   ]
  },
  {
   "cell_type": "markdown",
   "metadata": {},
   "source": [
    "このように原本画像のshapeが(300, 181, 3)をcv2.pyrDown()を適用すると、行と列が2倍ずつ減り、<br>\n",
    "小数点は四捨五入されて(150, 91, 3)になります。 <br>\n",
    "これを再びcv2.pyrUp()させると(300, 182, 3)となり、原本画像との1row差が生じます。<br>\n",
    "これをresizeを通じて同一のshapeにした後に2配列の差を求めると、以下のように外郭線が残ることになります。<br>\n",
    "（偶数解像度も同一の結果が出ます）。<br>"
   ]
  },
  {
   "cell_type": "markdown",
   "metadata": {},
   "source": [
    "#### 画像のPyramidを利用すれば画像の結合を自然に処理できます。 作業順序は、以下のとおりです。\n",
    "\n",
    "1. 2つの画像をそれぞれLoadする。<br>\n",
    "2. 各画像に対して適当なGaussian  Pyramidを生成する。<br>\n",
    "3. Gaussian  Pyramidを利用してLaplacian  Pyramidを生成する。<br>\n",
    "4. 各段階のLaplicain  Pyramidを利用して各画像の左側と右側を欠陥。<br>\n",
    "5. 欠陥した結果の中で最も小さいイメージを拡大しながら、同一サイズの結合結果とAddして外郭線を鮮明に処理する。"
   ]
  },
  {
   "cell_type": "code",
   "execution_count": null,
   "metadata": {},
   "outputs": [],
   "source": [
    "import cv2\n",
    "import numpy as np\n",
    "from matplotlib import pyplot as plt\n",
    "# 1段階\n",
    "A = cv2.imread('apple.jpg')\n",
    "B = cv2.imread('orange.jpg')\n",
    "\n",
    "# 2段階\n",
    "# A イメージに対するGaussian Pyramidを生成\n",
    "# だんだん小さくなるPyramid\n",
    "G = A.copy()\n",
    "gpA = [G]\n",
    "for i in range(6):\n",
    "    G = cv2.pyrDown(G)\n",
    "    gpA.append(G)\n",
    "\n",
    "# B イメージに対するGaussian Pyramidを生成\n",
    "# だんだん小さくなるPyramid\n",
    "G = B.copy()\n",
    "gpB = [G]\n",
    "for i in range(6):\n",
    "    G = cv2.pyrDown(G)\n",
    "    gpB.append(G)\n",
    "\n",
    "# 3段階\n",
    "# A イメージに対するLaplacian Pyramidを生成\n",
    "lpA = [gpA[5]] # n番目に追加されたGaussian Image\n",
    "for i in range(5,0,-1):\n",
    "    GE = cv2.pyrUp(gpA[i]) #n番目に追加されたGaussian ImageをUp Scaleする\n",
    "    temp = cv2.resize(gpA[i-1], (GE.shape[:2][1], GE.shape[:2][0])) # 行列の大きさを等しくする\n",
    "    L = cv2.subtract(temp,GE) # n-1番目イメージからn番目Up Sacleしたイメージの差 -> Laplacian Pyramid\n",
    "    lpA.append(L)\n",
    "\n",
    "# A イメージと同じように B イメージも Laplacian Pyramid を生成\n",
    "lpB = [gpB[5]]\n",
    "for i in range(5,0,-1):\n",
    "    GE = cv2.pyrUp(gpB[i])\n",
    "    temp = cv2.resize(gpB[i - 1], (GE.shape[:2][1], GE.shape[:2][0]))\n",
    "    L = cv2.subtract(temp, GE)\n",
    "    # L = cv2.subtract(gpB[i-1],GE)\n",
    "    lpB.append(L)\n",
    "\n",
    "# 4段階\n",
    "# Laplician Pyramidを累積で左と右に再欠陥する\n",
    "LS = []\n",
    "for la,lb in zip(lpA,lpB):\n",
    "    rows,cols,dpt = la.shape\n",
    "    ls = np.hstack((la[:,0:cols/2], lb[:,cols/2:]))\n",
    "    LS.append(ls)\n",
    "\n",
    "\n",
    "# 5段階\n",
    "ls_ = LS[0] # 左側と右側が組み合わさった最も小さいイメージ\n",
    "for i in range(1,6):\n",
    "    ls_ = cv2.pyrUp(ls_) # Up Sacle\n",
    "    temp = cv2.resize(LS[i],(ls_.shape[:2][1], ls_.shape[:2][0])) # 外枠だけのイメージ\n",
    "    ls_ = cv2.add(ls_, temp) # UP Sacleされた画像に外郭線を追加して鮮明な画像を作成\n",
    "\n",
    "# 原本イメージをそのまま貼った場合\n",
    "real = np.hstack((A[:,:cols/2],B[:,cols/2:]))\n",
    "\n",
    "cv2.imshow('real', real)\n",
    "cv2.imshow('blending', ls_)\n",
    "cv2.destroyAllWindows()"
   ]
  }
 ],
 "metadata": {
  "kernelspec": {
   "display_name": "Python 3",
   "language": "python",
   "name": "python3"
  },
  "language_info": {
   "codemirror_mode": {
    "name": "ipython",
    "version": 3
   },
   "file_extension": ".py",
   "mimetype": "text/x-python",
   "name": "python",
   "nbconvert_exporter": "python",
   "pygments_lexer": "ipython3",
   "version": "3.8.3"
  }
 },
 "nbformat": 4,
 "nbformat_minor": 4
}
