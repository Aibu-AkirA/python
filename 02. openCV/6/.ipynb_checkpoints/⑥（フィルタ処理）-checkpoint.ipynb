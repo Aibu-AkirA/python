{
 "cells": [
  {
   "cell_type": "markdown",
   "metadata": {},
   "source": [
    "# ⑥（フィルタ処理）"
   ]
  },
  {
   "cell_type": "markdown",
   "metadata": {},
   "source": [
    "## 画像の色反転"
   ]
  },
  {
   "cell_type": "code",
   "execution_count": 1,
   "metadata": {},
   "outputs": [],
   "source": [
    "# -*- coding: utf-8 -*\n",
    "\n",
    "import cv2\n",
    "\n",
    "try:\n",
    "    img = cv2.imread('./lena.png')\n",
    "    \n",
    "    if img is None:\n",
    "        print ('ファイルを読み込めません。')\n",
    "        import sys\n",
    "        sys.exit()\n",
    "    \n",
    "    dst = cv2.bitwise_not(img)\n",
    "    cv2.imwrite('./bitwise_not.png', dst)\n",
    "    cv2.imshow('./bitwise_not.png', dst)\n",
    "\n",
    "except:\n",
    "    import sys\n",
    "    print(\"Error:\", sys.exc_info()[0])\n",
    "    print(sys.exc_info()[1])\n",
    "    import traceback\n",
    "    print(traceback.format_tb(sys.exc_info()[2]))\n",
    "    \n",
    "#画面の削除\n",
    "cv2.waitKey(0)\n",
    "cv2.destroyAllWindows()"
   ]
  },
  {
   "cell_type": "markdown",
   "metadata": {},
   "source": [
    "## ブラー処理"
   ]
  },
  {
   "cell_type": "code",
   "execution_count": 2,
   "metadata": {},
   "outputs": [],
   "source": [
    "# -*- coding: utf-8 -*\n",
    "\n",
    "import cv2\n",
    "\n",
    "try:\n",
    "    img = cv2.imread('./lena.png')\n",
    "\n",
    "    if img is None:\n",
    "        print ('ファイルを読み込めません。')\n",
    "        import sys\n",
    "        sys.exit()\n",
    "\n",
    "    dst = cv2.blur(img, (15, 15))\n",
    "    cv2.imwrite('./blur.png', dst)\n",
    "    cv2.imshow('./blur.png', dst)\n",
    "\n",
    "except:\n",
    "    import sys\n",
    "    print(\"Error:\", sys.exc_info()[0])\n",
    "    print(sys.exc_info()[1])\n",
    "    import traceback\n",
    "    print(traceback.format_tb(sys.exc_info()[2]))\n",
    "    \n",
    "#画面の削除\n",
    "cv2.waitKey(0)\n",
    "cv2.destroyAllWindows()"
   ]
  },
  {
   "cell_type": "markdown",
   "metadata": {},
   "source": [
    "## メディアン処理"
   ]
  },
  {
   "cell_type": "code",
   "execution_count": 3,
   "metadata": {},
   "outputs": [],
   "source": [
    "# -*- coding: utf-8 -*\n",
    "\n",
    "import cv2\n",
    "\n",
    "try:\n",
    "    img = cv2.imread('./lena.png')\n",
    "\n",
    "    if img is None:\n",
    "        print ('ファイルを読み込めません。')\n",
    "        import sys\n",
    "        sys.exit()\n",
    "\n",
    "    dst = cv2.medianBlur(img, 11)\n",
    "    cv2.imwrite('./medianBlur1.png', dst)\n",
    "    cv2.imshow('./medianBlur1.png', dst)\n",
    "\n",
    "    dst = cv2.medianBlur(img, 33)\n",
    "    cv2.imwrite('./medianBlur2.png', dst)\n",
    "    cv2.imshow('./medianBlur2.png', dst)\n",
    "\n",
    "except:\n",
    "    import sys\n",
    "    print(\"Error:\", sys.exc_info()[0])\n",
    "    print(sys.exc_info()[1])\n",
    "    import traceback\n",
    "    print(traceback.format_tb(sys.exc_info()[2]))\n",
    "    \n",
    "#画面の削除\n",
    "cv2.waitKey(0)\n",
    "cv2.destroyAllWindows()"
   ]
  },
  {
   "cell_type": "markdown",
   "metadata": {},
   "source": [
    "## ガウシアン処理"
   ]
  },
  {
   "cell_type": "code",
   "execution_count": 4,
   "metadata": {},
   "outputs": [],
   "source": [
    "# -*- coding: utf-8 -*\n",
    "\n",
    "import cv2\n",
    "\n",
    "try:\n",
    "    img = cv2.imread('./lena.png')\n",
    "\n",
    "    if img is None:\n",
    "        print ('ファイルを読み込めません。')\n",
    "        import sys\n",
    "        sys.exit()\n",
    "\n",
    "    dst = cv2.GaussianBlur(img, (13, 13), 10, 10)\n",
    "    cv2.imwrite('./gaussianBlur1.png', dst)\n",
    "    cv2.imshow('./gaussianBlur1.png', dst)\n",
    "\n",
    "    dst = cv2.GaussianBlur(img, (31, 5), 80, 3)\n",
    "    cv2.imwrite('./gaussianBlur2.png', dst)\n",
    "    cv2.imshow('./gaussianBlur2.png', dst)\n",
    "\n",
    "except:\n",
    "    import sys\n",
    "    print(\"Error:\", sys.exc_info()[0])\n",
    "    print(sys.exc_info()[1])\n",
    "    import traceback\n",
    "    print(traceback.format_tb(sys.exc_info()[2]))\n",
    "    \n",
    "#画面の削除\n",
    "cv2.waitKey(0)\n",
    "cv2.destroyAllWindows()"
   ]
  },
  {
   "cell_type": "markdown",
   "metadata": {},
   "source": [
    "## ラプラシアン処理"
   ]
  },
  {
   "cell_type": "code",
   "execution_count": 4,
   "metadata": {},
   "outputs": [],
   "source": [
    "# -*- coding: utf-8 -*\n",
    "\n",
    "import cv2\n",
    "\n",
    "try:\n",
    "    img = cv2.imread('./lena.png')\n",
    "\n",
    "    if img is None:\n",
    "        print ('ファイルを読み込めません。')\n",
    "        import sys\n",
    "        sys.exit()\n",
    "\n",
    "    dst = cv2.Laplacian(img, -1)\n",
    "    cv2.imwrite('./laplacian.png', dst)\n",
    "    cv2.imshow('./laplacian.png', dst)\n",
    "\n",
    "except:\n",
    "    import sys\n",
    "    print(\"Error:\", sys.exc_info()[0])\n",
    "    print(sys.exc_info()[1])\n",
    "    import traceback\n",
    "    print(traceback.format_tb(sys.exc_info()[2]))\n",
    "    \n",
    "#画面の削除\n",
    "cv2.waitKey(0)\n",
    "cv2.destroyAllWindows()"
   ]
  },
  {
   "cell_type": "markdown",
   "metadata": {},
   "source": [
    "## Sobel処理"
   ]
  },
  {
   "cell_type": "code",
   "execution_count": 5,
   "metadata": {},
   "outputs": [],
   "source": [
    "# -*- coding: utf-8 -*\n",
    "\n",
    "import cv2\n",
    "\n",
    "try:\n",
    "    img = cv2.imread('./lena.png')\n",
    "\n",
    "    if img is None:\n",
    "        print ('ファイルを読み込めません。')\n",
    "        import sys\n",
    "        sys.exit()\n",
    "\n",
    "    dst = cv2.Sobel(img, -1, 0, 1)\n",
    "    cv2.imwrite('./sobel.png', dst)\n",
    "    cv2.imshow('./sobel.png', dst)\n",
    "\n",
    "except:\n",
    "    import sys\n",
    "    print(\"Error:\", sys.exc_info()[0])\n",
    "    print(sys.exc_info()[1])\n",
    "    import traceback\n",
    "    print(traceback.format_tb(sys.exc_info()[2]))\n",
    "    \n",
    "#画面の削除\n",
    "cv2.waitKey(0)\n",
    "cv2.destroyAllWindows()"
   ]
  },
  {
   "cell_type": "markdown",
   "metadata": {},
   "source": [
    "## Canny処理"
   ]
  },
  {
   "cell_type": "code",
   "execution_count": 6,
   "metadata": {},
   "outputs": [],
   "source": [
    "# -*- coding: utf-8 -*\n",
    "\n",
    "import cv2\n",
    "\n",
    "try:\n",
    "    img = cv2.imread('./lena.png')\n",
    "\n",
    "    if img is None:\n",
    "        print ('ファイルを読み込めません。')\n",
    "        import sys\n",
    "        sys.exit()\n",
    "\n",
    "    dst = cv2.Canny(img, 40.0, 200.0)\n",
    "    cv2.imwrite('./canny.png', dst)\n",
    "    cv2.imshow('./canny.png', dst)\n",
    "\n",
    "except:\n",
    "    import sys\n",
    "    print(\"Error:\", sys.exc_info()[0])\n",
    "    print(sys.exc_info()[1])\n",
    "    import traceback\n",
    "    print(traceback.format_tb(sys.exc_info()[2]))\n",
    "    \n",
    "#画面の削除\n",
    "cv2.waitKey(0)\n",
    "cv2.destroyAllWindows()"
   ]
  },
  {
   "cell_type": "markdown",
   "metadata": {},
   "source": [
    "## 画像の膨張処理"
   ]
  },
  {
   "cell_type": "code",
   "execution_count": 7,
   "metadata": {},
   "outputs": [],
   "source": [
    "# -*- coding: utf-8 -*\n",
    "\n",
    "import cv2\n",
    "import numpy as np\n",
    "\n",
    "try:\n",
    "    img = cv2.imread('./lena.png')\n",
    "\n",
    "    if img is None:\n",
    "        print ('ファイルを読み込めません。')\n",
    "        import sys\n",
    "        sys.exit()\n",
    "\n",
    "    kernel = np.ones((3,3),np.uint8)\n",
    "    dst = cv2.dilate(img, kernel)\n",
    "    cv2.imwrite('./dilate.png', dst)\n",
    "    cv2.imshow('./dilate.png', dst)\n",
    "\n",
    "except:\n",
    "    import sys\n",
    "    print(\"Error:\", sys.exc_info()[0])\n",
    "    print(sys.exc_info()[1])\n",
    "    import traceback\n",
    "    print(traceback.format_tb(sys.exc_info()[2]))\n",
    "    \n",
    "#画面の削除\n",
    "cv2.waitKey(0)\n",
    "cv2.destroyAllWindows()"
   ]
  },
  {
   "cell_type": "markdown",
   "metadata": {},
   "source": [
    "## 画像の収縮処理"
   ]
  },
  {
   "cell_type": "code",
   "execution_count": 8,
   "metadata": {},
   "outputs": [],
   "source": [
    "# -*- coding: utf-8 -*\n",
    "\n",
    "import cv2\n",
    "import numpy as np\n",
    "\n",
    "try:\n",
    "    img = cv2.imread('./lena.png')\n",
    "\n",
    "    if img is None:\n",
    "        print ('ファイルを読み込めません。')\n",
    "        import sys\n",
    "        sys.exit()\n",
    "\n",
    "    kernel = np.ones((3,3),np.uint8)\n",
    "    dst = cv2.erode(img, kernel)\n",
    "    cv2.imwrite('./erode.png', dst)\n",
    "    cv2.imshow('./erode.png', dst)\n",
    "\n",
    "except:\n",
    "    import sys\n",
    "    print(\"Error:\", sys.exc_info()[0])\n",
    "    print(sys.exc_info()[1])\n",
    "    import traceback\n",
    "    print(traceback.format_tb(sys.exc_info()[2]))\n",
    "    \n",
    "#画面の削除\n",
    "cv2.waitKey(0)\n",
    "cv2.destroyAllWindows()"
   ]
  },
  {
   "cell_type": "markdown",
   "metadata": {},
   "source": [
    "## ボックスフィルタ処理"
   ]
  },
  {
   "cell_type": "code",
   "execution_count": 9,
   "metadata": {},
   "outputs": [],
   "source": [
    "# -*- coding: utf-8 -*\n",
    "\n",
    "import cv2\n",
    "\n",
    "try:\n",
    "    img = cv2.imread('./lena.png')\n",
    "\n",
    "    if img is None:\n",
    "        print ('ファイルを読み込めません。')\n",
    "        import sys\n",
    "        sys.exit()\n",
    "\n",
    "    dst = cv2.boxFilter(img, -1, (5,5))\n",
    "    cv2.imwrite('./BoxFilter.png', dst)\n",
    "    cv2.imshow('./BoxFilter.png', dst)\n",
    "\n",
    "except:\n",
    "    import sys\n",
    "    print(\"Error:\", sys.exc_info()[0])\n",
    "    print(sys.exc_info()[1])\n",
    "    import traceback\n",
    "    print(traceback.format_tb(sys.exc_info()[2]))\n",
    "    \n",
    "#画面の削除\n",
    "cv2.waitKey(0)\n",
    "cv2.destroyAllWindows()"
   ]
  },
  {
   "cell_type": "markdown",
   "metadata": {},
   "source": [
    "## モザイク処理"
   ]
  },
  {
   "cell_type": "code",
   "execution_count": 10,
   "metadata": {},
   "outputs": [],
   "source": [
    "# -*- coding: utf-8 -*\n",
    "\n",
    "import cv2\n",
    "\n",
    "try:\n",
    "    img = cv2.imread('./lena.png')\n",
    "\n",
    "    if img is None:\n",
    "        print ('ファイルを読み込めません。')\n",
    "        import sys\n",
    "        sys.exit()\n",
    "\n",
    "    SCALE = 0.2\n",
    "    height = img.shape[0]\n",
    "    width = img.shape[1]\n",
    "\n",
    "    dst = cv2.resize(img, (round(width*SCALE), round(height*SCALE)),\n",
    "                     interpolation = cv2.INTER_NEAREST)\n",
    "    dst = cv2.resize(dst, (width, height),\n",
    "                     interpolation = cv2.INTER_NEAREST)\n",
    "    cv2.imwrite('./mozaic.png', dst)\n",
    "    cv2.imshow('./mozaic.png', dst)\n",
    "\n",
    "except:\n",
    "    import sys\n",
    "    print(\"Error:\", sys.exc_info()[0])\n",
    "    print(sys.exc_info()[1])\n",
    "    import traceback\n",
    "    print(traceback.format_tb(sys.exc_info()[2]))\n",
    "    \n",
    "#画面の削除\n",
    "cv2.waitKey(0)\n",
    "cv2.destroyAllWindows()"
   ]
  },
  {
   "cell_type": "markdown",
   "metadata": {},
   "source": [
    "# 関数説明\n",
    "http://opencv.jp/opencv-2svn/py/"
   ]
  },
  {
   "cell_type": "markdown",
   "metadata": {},
   "source": [
    "# ほげ要望(^ω^)\n",
    "## Image Gradients\n",
    "・Image Processing in OpenCV  \n",
    "https://opencv-python-tutroals.readthedocs.io/en/latest/py_tutorials/py_imgproc/py_table_of_contents_imgproc/py_table_of_contents_imgproc.html  \n",
    "内の「Image Gradients」（原文英語）を読んで記事内のソースを実行して結果を確認してまとめなさい  \n",
    "https://opencv-python-tutroals.readthedocs.io/en/latest/py_tutorials/py_imgproc/py_gradients/py_gradients.html  \n",
    "まとめたもので授業ができるくらい丁寧にまとめること（ソースファイル内にコメントを入れたりwebページ等で調べてMarkdownで補足説明とか）  \n",
    "・ほげ要望　Image Gradients.ipynb  \n",
    "・ほげ要望　Image Gradients.html  \n",
    "を提出しなさい。あまりに不適切なものは未提出と同等にします。"
   ]
  },
  {
   "cell_type": "markdown",
   "metadata": {},
   "source": [
    "# エクストラほげ問題⑤\n",
    "## 大学数学　線形代数\n",
    "## 線形代数ってなに？\n",
    "大学で習うような数学の知識をつけてほしいのでこのような形で問題として出します。  \n",
    "人工知能を学ぶ上でとても重要（画像処理や深層学習等々で大量に使う）なのでしっかりと学んでください！   \n",
    "※ヒントのようなもの  \n",
    "①https://oguemon.com/topic/study/linear-algebra/  \n",
    "②https://mathtrain.jp/category/senkei  \n",
    "③https://python.atelierkobato.com/linear/  \n",
    "④https://examist.jp/category/mathematics/  \n",
    "⑤http://www.geisya.or.jp/~mwm48961/koukou/index_m.htm  \n",
    "  \n",
    "### もんだいだよん(^ω^)\n",
    "  \n",
    "①連立方程式を行列を使って表しなさい\n",
    "  \n",
    "\\begin{eqnarray}\n",
    "  \\left\\{\n",
    "    \\begin{array}{l}\n",
    "      2x + 4y = 10 \\\\\n",
    "      x + 3y = 6\n",
    "    \\end{array}\n",
    "  \\right.\n",
    "\\end{eqnarray}\n",
    "\n",
    "②2次の正方行列を書きなさい（成分はどんな数字でも構いません）\n",
    "  \n",
    "③3行3列の単位行列を書きなさい\n",
    "  "
   ]
  },
  {
   "cell_type": "code",
   "execution_count": null,
   "metadata": {},
   "outputs": [],
   "source": []
  }
 ],
 "metadata": {
  "kernelspec": {
   "display_name": "Python 3",
   "language": "python",
   "name": "python3"
  },
  "language_info": {
   "codemirror_mode": {
    "name": "ipython",
    "version": 3
   },
   "file_extension": ".py",
   "mimetype": "text/x-python",
   "name": "python",
   "nbconvert_exporter": "python",
   "pygments_lexer": "ipython3",
   "version": "3.8.3"
  }
 },
 "nbformat": 4,
 "nbformat_minor": 2
}
