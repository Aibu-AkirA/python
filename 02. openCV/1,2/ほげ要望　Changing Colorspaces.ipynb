{
 "cells": [
  {
   "cell_type": "code",
   "execution_count": 3,
   "metadata": {
    "scrolled": false
   },
   "outputs": [
    {
     "name": "stdout",
     "output_type": "stream",
     "text": [
      "[[[120 255 255]]]\n"
     ]
    }
   ],
   "source": [
    "import cv2\n",
    "import numpy as np\n",
    "\n",
    "redrgb = np.uint8([[[0,0,255]]])\n",
    "redhsv = cv2.cvtColor(redrgb, cv2.COLOR_BGR2HSV)\n",
    "print(redhsv)\n"
   ]
  },
  {
   "cell_type": "code",
   "execution_count": 1,
   "metadata": {},
   "outputs": [],
   "source": [
    "import cv2\n",
    "import numpy as np\n",
    "\n",
    "cap = cv2.VideoCapture(0) #웹캠을 지정 해주고,ウェブカメラ\n",
    "\n",
    "while(1):\n",
    "\n",
    "    _, frame = cap.read()\n",
    "\n",
    "    hsv = cv2.cvtColor(frame, cv2.COLOR_BGR2HSV)\n",
    "\n",
    "    lower_blue = np.array([110,50,50])\n",
    "    upper_blue = np.array([130,255,255])\n",
    "\n",
    "    mask = cv2.inRange(hsv, lower_blue, upper_blue)\n",
    "\n",
    "    res = cv2.bitwise_and(frame,frame, mask= mask)\n",
    "\n",
    "    cv2.imshow('frame',frame)\n",
    "    cv2.imshow('mask',mask)\n",
    "    cv2.imshow('res',res)\n",
    "    \n",
    "    k = cv2.waitKey(5) & 0xFF \n",
    "    if k == 27:\n",
    "        break\n",
    "\n",
    "cap.release()\n",
    "cv2.destroyAllWindows()"
   ]
  },
  {
   "cell_type": "markdown",
   "metadata": {},
   "source": [
    "cap = cv2.VideoCapture(0) #웹캠을 지정 해주고,ウェブカメラ\n",
    "\n",
    "while(1):#사진이 아니라 동영상임으로 while를 사용, 動画だから繰り返す\n",
    "\n",
    "    # 프레임을 받아 옵니다.(카메라 켜서 화면 들고옴)、カメラを持ち込む\n",
    "    _, frame = cap.read()\n",
    "\n",
    "    # BGR 를 HSV로 바꾸고　BGRをHSVに変わる(BGRよりHSVが色を比べやすい)\n",
    "    hsv = cv2.cvtColor(frame, cv2.COLOR_BGR2HSV)\n",
    "\n",
    "    # 파란색의 범위를 지정 해줍시다.青色の範囲を決める\n",
    "    lower_blue = np.array([110,50,50]) #적어도 이정도는 되어야 파란색ㅇㅈ\n",
    "    upper_blue = np.array([130,255,255]) #이거보다 진하면 파란색 ㄴㄴ\n",
    "\n",
    "    # 위에서 지정한 파란색 범위에 드는 부분을 표시　、先に決めた範囲に入る部分を表示\n",
    "    mask = cv2.inRange(hsv, lower_blue, upper_blue)\n",
    "\n",
    "    # 위mask에 지정된 부분의 원래 색을 표시、maskで表示された部分の元の色を表示\n",
    "    res = cv2.bitwise_and(frame,frame, mask= mask)\n",
    "\n",
    "    # 이것들을 윈도우 창으로 표시、これらをwindows窓に開く\n",
    "    cv2.imshow('frame',frame)\n",
    "    cv2.imshow('mask',mask)\n",
    "    cv2.imshow('res',res)\n",
    "    \n",
    "    #이제 꺼볼까요、使い終わったら消しましょうか。\n",
    "    k = cv2.waitKey(5) & 0xFF #cv2.waitKey(5)를 하면 눌린 숫자키를 k에 저장합니다、ｋに押したボタンを保存\n",
    "    if k == 27: # 27은 esc키를 누르면 저장 되는 숫자임 즉 esc누르면 반복 정지、27はESCキー\n",
    "        break\n",
    "\n",
    "cap.release() # 원래는 없는 코드 였지만 이걸 추가해야 카메라가 완벽하게 꺼진다、カメラを消す\n",
    "cv2.destroyAllWindows() # 위의 실행이 끝났으므로 윈도우창들 전부 끄자、windows窓を消す。"
   ]
  },
  {
   "cell_type": "code",
   "execution_count": null,
   "metadata": {},
   "outputs": [],
   "source": []
  }
 ],
 "metadata": {
  "kernelspec": {
   "display_name": "Python 3",
   "language": "python",
   "name": "python3"
  },
  "language_info": {
   "codemirror_mode": {
    "name": "ipython",
    "version": 3
   },
   "file_extension": ".py",
   "mimetype": "text/x-python",
   "name": "python",
   "nbconvert_exporter": "python",
   "pygments_lexer": "ipython3",
   "version": "3.8.3"
  }
 },
 "nbformat": 4,
 "nbformat_minor": 4
}
