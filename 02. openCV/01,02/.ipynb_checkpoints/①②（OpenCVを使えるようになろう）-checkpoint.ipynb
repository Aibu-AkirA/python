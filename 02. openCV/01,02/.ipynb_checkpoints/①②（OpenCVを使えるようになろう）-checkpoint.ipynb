{
 "cells": [
  {
   "cell_type": "markdown",
   "metadata": {},
   "source": [
    "# ①②（OpenCVを使えるようになろう）"
   ]
  },
  {
   "cell_type": "markdown",
   "metadata": {},
   "source": [
    "## OpenCV環境の構築\n",
    "1. 構築手順  \n",
    "    1. Anaconda起動  \n",
    "    1. Environmentsを開く    \n",
    "    1. base(root)横の▶Oを左クリック  \n",
    "    1. Open Terminalを左クリック  \n",
    "    1. OpenCVとNumPyをインストール  "
   ]
  },
  {
   "cell_type": "markdown",
   "metadata": {},
   "source": [
    "## プログラムしてみよう"
   ]
  },
  {
   "cell_type": "code",
   "execution_count": 6,
   "metadata": {},
   "outputs": [],
   "source": [
    "#ライブラリ呼び出し\n",
    "import numpy as np\n",
    "import cv2\n",
    "\n",
    "#画像生成\n",
    "img = np.zeros((400, 400, 3), np.uint8)\n",
    "\n",
    "\n",
    "#色ぬりぬり\n",
    "img[:,:] = [225, 0, 0]\n",
    "\n",
    "#画像の保存&表示\n",
    "cv2.imwrite('./blue.png', img)\n",
    "cv2.imshow('./blue.png', img)\n",
    "#画面の削除\n",
    "cv2.waitKey(0)\n",
    "cv2.destroyAllWindows()"
   ]
  },
  {
   "cell_type": "code",
   "execution_count": 22,
   "metadata": {},
   "outputs": [],
   "source": [
    "#ライブラリ呼び出し\n",
    "import numpy as np\n",
    "import cv2\n",
    "\n",
    "#画像生成\n",
    "img = np.zeros((400, 400, 3), np.uint8)\n",
    "\n",
    "#色ぬりぬり\n",
    "img[:,:] = [0, 255, 0]\n",
    "\n",
    "#画像の保存&表示\n",
    "cv2.imwrite('./green.png', img)\n",
    "cv2.imshow('./green.png', img)\n",
    "#画面の削除\n",
    "cv2.waitKey(0)\n",
    "cv2.destroyAllWindows()"
   ]
  },
  {
   "cell_type": "code",
   "execution_count": 2,
   "metadata": {},
   "outputs": [],
   "source": [
    "#ライブラリ呼び出し\n",
    "import numpy as np\n",
    "import cv2\n",
    "\n",
    "#画像生成\n",
    "img = np.zeros((400, 400, 3), np.uint8)\n",
    "\n",
    "#色ぬりぬり\n",
    "img[:,:] = [0, 0, 255]\n",
    "\n",
    "#画像の保存&表示\n",
    "cv2.imwrite('./Red.png', img)\n",
    "cv2.imshow('./Red.png', img)\n",
    "#画面の削除\n",
    "cv2.waitKey(0)\n",
    "cv2.destroyAllWindows()"
   ]
  },
  {
   "cell_type": "code",
   "execution_count": 4,
   "metadata": {},
   "outputs": [
    {
     "name": "stdout",
     "output_type": "stream",
     "text": [
      "(512, 512, 3)\n"
     ]
    }
   ],
   "source": [
    "#ライブラリ呼び出し\n",
    "import numpy as np\n",
    "import cv2\n",
    "\n",
    "#画像ファイルの読み込み\n",
    "img = cv2.imread('./lena.png')\n",
    "\n",
    "#화면 사이즈 확인\n",
    "hoge = np.shape(img)\n",
    "print(hoge)\n",
    "\n",
    "#画像の保存&表示\n",
    "cv2.imwrite('./ReadWrite.png', img)\n",
    "cv2.imshow('./ReadWrite.png', img)\n",
    "#画面の削除\n",
    "cv2.waitKey(0)\n",
    "cv2.destroyAllWindows()"
   ]
  },
  {
   "cell_type": "markdown",
   "metadata": {},
   "source": [
    "# 関数説明\n",
    "http://opencv.jp/opencv-2svn/py/"
   ]
  },
  {
   "cell_type": "markdown",
   "metadata": {},
   "source": [
    "# ほげ要望(^ω^)\n",
    "## Changing Colorspaces\n",
    "・Image Processing in OpenCV  \n",
    "https://opencv-python-tutroals.readthedocs.io/en/latest/py_tutorials/py_imgproc/py_table_of_contents_imgproc/py_table_of_contents_imgproc.html  \n",
    "内の「Changing Colorspaces」（原文英語）を読んで記事内のソースを実行して結果を確認してまとめなさい  \n",
    "https://opencv-python-tutroals.readthedocs.io/en/latest/py_tutorials/py_imgproc/py_colorspaces/py_colorspaces.html#converting-colorspaces  \n",
    "まとめたもので授業ができるくらい丁寧にまとめること（ソースファイル内にコメントを入れたりwebページ等で調べてMarkdownで補足説明とか）  \n",
    "・ほげ要望　Changing Colorspaces.ipynb  \n",
    "・ほげ要望　Changing Colorspaces.html  \n",
    "を提出しなさい。あまりに不適切なものは未提出と同等にします。"
   ]
  },
  {
   "cell_type": "markdown",
   "metadata": {},
   "source": [
    "# エクストラほげ問題①\n",
    "## 高校数学Ｂ　平面ベクトルと平面図形\n",
    "## ベクトルの基本と演算法則、等式の証明、正六角形\n",
    "大学で習うような数学の知識をつけてほしいのでこのような形で問題として出します。  \n",
    "人工知能を学ぶ上でとても重要（画像処理や深層学習等々で大量に使う）なのでしっかりと学んでください！   \n",
    "※ヒントのようなもの  \n",
    "①https://oguemon.com/topic/study/linear-algebra/  \n",
    "②https://mathtrain.jp/category/senkei  \n",
    "③https://python.atelierkobato.com/linear/  \n",
    "④https://examist.jp/category/mathematics/  \n",
    "⑤http://www.geisya.or.jp/~mwm48961/koukou/index_m.htm  \n",
    "  \n",
    "### もんだいだよん(^ω^)\n",
    "  \n",
    "①$2 \\vec{x} - 3 \\vec{y} = 6\\vec{p} $、$- \\vec{x} + \\vec{y} = \\vec{q} $を満たす$\\vec{x}$、$\\vec{y}$を$\\vec{p}$、$\\vec{q}$で表せ。\n",
    "  "
   ]
  }
 ],
 "metadata": {
  "kernelspec": {
   "display_name": "Python 3",
   "language": "python",
   "name": "python3"
  },
  "language_info": {
   "codemirror_mode": {
    "name": "ipython",
    "version": 3
   },
   "file_extension": ".py",
   "mimetype": "text/x-python",
   "name": "python",
   "nbconvert_exporter": "python",
   "pygments_lexer": "ipython3",
   "version": "3.8.3"
  }
 },
 "nbformat": 4,
 "nbformat_minor": 2
}
