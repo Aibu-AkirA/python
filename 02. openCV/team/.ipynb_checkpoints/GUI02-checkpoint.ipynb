{
 "cells": [
  {
   "cell_type": "markdown",
   "metadata": {},
   "source": [
    "## フレームのみ"
   ]
  },
  {
   "cell_type": "code",
   "execution_count": 2,
   "metadata": {},
   "outputs": [],
   "source": [
    "import tkinter\n",
    "# ウィンドウ\n",
    "window = tkinter.Tk()\n",
    "# ウィンドウのタイトル\n",
    "window.title('Hear Color Changer')\n",
    "# ウィンドウの大きさ指定\n",
    "window.geometry('960x540')\n",
    "# 表示\n",
    "window.mainloop()"
   ]
  },
  {
   "cell_type": "markdown",
   "metadata": {},
   "source": [
    "## 画面の背景色を変えるプログラム"
   ]
  },
  {
   "cell_type": "code",
   "execution_count": 11,
   "metadata": {},
   "outputs": [],
   "source": [
    "import tkinter\n",
    "from tkinter import colorchooser\n",
    "\n",
    "#1.色選択ボタンのクラス\n",
    "class ColorSelectButton(tkinter.Button):\n",
    "    # Buttonそのものの設定\n",
    "    def __init__(self, master):\n",
    "        super().__init__(\n",
    "            master=master,\n",
    "            # Buttonの名前設定\n",
    "            text=\"Change Hear Color\",\n",
    "            # Buttonの大きさ\n",
    "            width=50,\n",
    "            # Buttonの文字右揃え\n",
    "            # anchor=tkinter.W,\n",
    "            command=self.color_change,  #クリック時に実行\n",
    "            )\n",
    "    # 着色される場所を指定\n",
    "    def color_change(self):\n",
    "        c = colorchooser.askcolor() #colorchooser呼び出し\n",
    "        # 背景を変更(rootは全体)\n",
    "        root.config(bg=c[1])        #背景を選択した色に設定\n",
    "\n",
    "\n",
    "if __name__ == \"__main__\":\n",
    "    root = tkinter.Tk()\n",
    "\n",
    "    #2.ボタンの表示\n",
    "    b = ColorSelectButton(master=root)\n",
    "    b.pack()\n",
    "    root.title('Hear Color Changer')\n",
    "    root.geometry('960x540')\n",
    "    root.mainloop()"
   ]
  },
  {
   "cell_type": "markdown",
   "metadata": {},
   "source": [
    "## 資料\n",
    "\n",
    "配置 https://denno-sekai.com/tkinter-pack/\n",
    "\n",
    "（今回は使ってない）"
   ]
  },
  {
   "cell_type": "markdown",
   "metadata": {},
   "source": [
    "## 上記のプルグラムにカメラ映像を表示 \n",
    "\n",
    "このプログラムに機能を実装することによって完成。\n",
    "\n",
    "※ボタンには Change Hear Color と書いてありますが、このプログラムでは背景色を変更します。"
   ]
  },
  {
   "cell_type": "code",
   "execution_count": null,
   "metadata": {},
   "outputs": [],
   "source": [
    "import cv2\n",
    "import numpy as np\n",
    "import tkinter as tk\n",
    "from tkinter import colorchooser\n",
    "from PIL import Image,ImageTk\n",
    "\n",
    "# ビデオをキャプチャー.\n",
    "cap = cv2.VideoCapture(0)\n",
    "\n",
    "# 色選択ボタンのクラス\n",
    "class ColorSelectButton(tk.Button):\n",
    "    # Buttonそのものの設定\n",
    "    def __init__(self, master):\n",
    "        super().__init__(\n",
    "            master=master,\n",
    "            # Buttonの名前設定\n",
    "            text=\"Change Hear Color\",\n",
    "            # Buttonの横幅\n",
    "            width=30,\n",
    "            # Buttonの高さ\n",
    "            #height=1,\n",
    "            # 文字のサイズ変更\n",
    "            font=(\"\",20),\n",
    "            # Buttonの文字右揃え\n",
    "            #anchor=tkinter.W,\n",
    "            command=self.color_change,  #クリック時に実行\n",
    "            )\n",
    "    # 着色される場所を指定\n",
    "    def color_change(self):\n",
    "        c = colorchooser.askcolor() #colorchooser呼び出し\n",
    "        # 背景を変更(rootは全体)\n",
    "        root.config(bg=c[1])        #背景を選択した色に設定\n",
    "        \n",
    "# カメラ機能実装 1 \n",
    "def capStart():\n",
    "    try:\n",
    "        global c, w, h, img\n",
    "        c=cv2.VideoCapture(0)\n",
    "        w, h= c.get(cv2.CAP_PROP_FRAME_WIDTH), c.get(cv2.CAP_PROP_FRAME_HEIGHT)\n",
    "    except:\n",
    "        import sys\n",
    "        print(\"error-----\")\n",
    "        print(sys.exec_info()[0])\n",
    "        print(sys.exec_info()[1])\n",
    "        '''終了時の処理はここでは省略します。\n",
    "        c.release()\n",
    "        cv2.destroyAllWindows()'''\n",
    "        \n",
    "# カメラ機能実装　2\n",
    "def u():#update\n",
    "    global img\n",
    "    ret, frame =c.read()\n",
    "    if ret:\n",
    "        img=ImageTk.PhotoImage(Image.fromarray(cv2.cvtColor(frame, cv2.COLOR_BGR2RGB)))\n",
    "        canvas.create_image(w/2,h/2,image=img)\n",
    "    else:\n",
    "        print(\"u-Fail\")\n",
    "    root.after(1,u)\n",
    "\n",
    "\n",
    "\n",
    "if __name__ == \"__main__\":\n",
    "    root = tk.Tk()\n",
    "\n",
    "    # ボタンの表示\n",
    "    b = ColorSelectButton(master=root)\n",
    "    b.pack()\n",
    "    # バックグラウンド初期カラー(formatはRGB)\n",
    "    color = '#{:02x}{:02x}{:02x}'.format(236, 90, 236)\n",
    "    root.config(bg = color)\n",
    "    # カメラ映像表示\n",
    "    canvas=tk.Canvas(root, width=640, height=480, bg=\"white\")\n",
    "    canvas.pack()\n",
    "    # ウィンドウのタイトル\n",
    "    root.title('Hear Color Changer')\n",
    "    # ウィンドウの大きさ\n",
    "    root.geometry('850x540')\n",
    "    # カメラ\n",
    "    capStart()\n",
    "    u()\n",
    "    # 表示\n",
    "    root.mainloop()\n",
    "    # カメラオフ\n",
    "    c.release()"
   ]
  },
  {
   "cell_type": "markdown",
   "metadata": {},
   "source": [
    "## TkinterにWebカメラの映像を表示のサンプル"
   ]
  },
  {
   "cell_type": "code",
   "execution_count": 2,
   "metadata": {},
   "outputs": [],
   "source": [
    "import tkinter as tk\n",
    "import cv2\n",
    "from PIL import Image,ImageTk\n",
    "import numpy as np\n",
    "\n",
    "root=tk.Tk()\n",
    "root.title(\"camera\")\n",
    "root.geometry(\"720x480\")\n",
    "root.resizable(width=False, height=False)\n",
    "canvas=tk.Canvas(root, width=640, height=480, bg=\"white\")\n",
    "canvas.pack()\n",
    "\n",
    "def capStart():\n",
    "    try:\n",
    "        global c, w, h, img\n",
    "        c=cv2.VideoCapture(0)\n",
    "        w, h= c.get(cv2.CAP_PROP_FRAME_WIDTH), c.get(cv2.CAP_PROP_FRAME_HEIGHT)\n",
    "    except:\n",
    "        import sys\n",
    "        print(\"error-----\")\n",
    "        print(sys.exec_info()[0])\n",
    "        print(sys.exec_info()[1])\n",
    "        '''終了時の処理はここでは省略します。\n",
    "        c.release()\n",
    "        cv2.destroyAllWindows()'''\n",
    "\n",
    "def u():#update\n",
    "    global img\n",
    "    ret, frame =c.read()\n",
    "    if ret:\n",
    "        img=ImageTk.PhotoImage(Image.fromarray(cv2.cvtColor(frame, cv2.COLOR_BGR2RGB)))\n",
    "        canvas.create_image(w/2,h/2,image=img)\n",
    "    else:\n",
    "        print(\"u-Fail\")\n",
    "    root.after(1,u)\n",
    "\n",
    "capStart()\n",
    "u()\n",
    "root.mainloop()\n",
    "c.release()"
   ]
  },
  {
   "cell_type": "markdown",
   "metadata": {},
   "source": [
    "## カラーパレット2　(実行して表示)\n",
    "\n",
    "使い方はわかりませんでした。参考までに。"
   ]
  },
  {
   "cell_type": "code",
   "execution_count": 3,
   "metadata": {},
   "outputs": [
    {
     "data": {
      "application/vnd.jupyter.widget-view+json": {
       "model_id": "482cad9ed75542c897f1fee6fda3a761",
       "version_major": 2,
       "version_minor": 0
      },
      "text/plain": [
       "interactive(children=(FloatSlider(value=0.6, description='l', max=1.0), FloatSlider(value=0.65, description='s…"
      ]
     },
     "metadata": {},
     "output_type": "display_data"
    }
   ],
   "source": [
    "%matplotlib inline\n",
    "import seaborn as sns, numpy as np\n",
    "from ipywidgets import interact, FloatSlider\n",
    "\n",
    "def show_pal1(l, s):\n",
    "    sns.palplot(sns.hls_palette(24, l=0.5, s=1))\n",
    "interact(show_pal1, l=FloatSlider(0.6, max=1), s=FloatSlider(0.65, max=1));"
   ]
  },
  {
   "cell_type": "code",
   "execution_count": null,
   "metadata": {},
   "outputs": [],
   "source": []
  }
 ],
 "metadata": {
  "kernelspec": {
   "display_name": "Python 3",
   "language": "python",
   "name": "python3"
  },
  "language_info": {
   "codemirror_mode": {
    "name": "ipython",
    "version": 3
   },
   "file_extension": ".py",
   "mimetype": "text/x-python",
   "name": "python",
   "nbconvert_exporter": "python",
   "pygments_lexer": "ipython3",
   "version": "3.8.3"
  }
 },
 "nbformat": 4,
 "nbformat_minor": 4
}
