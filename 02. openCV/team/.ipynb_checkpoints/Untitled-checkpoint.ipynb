{
 "cells": [
  {
   "cell_type": "code",
   "execution_count": 2,
   "metadata": {},
   "outputs": [
    {
     "name": "stdout",
     "output_type": "stream",
     "text": [
      "(24, 15, 12)\n",
      "(25, 16, 13)\n",
      "(25, 16, 14)\n",
      "(24, 15, 12)\n",
      "(24, 15, 12)\n",
      "(24, 15, 12)\n",
      "(24, 15, 12)\n",
      "(25, 17, 18)\n",
      "(26, 18, 19)\n",
      "(28, 20, 21)\n",
      "(29, 17, 16)\n",
      "(27, 18, 16)\n",
      "(24, 15, 13)\n",
      "(25, 16, 13)\n",
      "(25, 16, 14)\n",
      "(25, 16, 14)\n",
      "(25, 16, 14)\n",
      "(25, 16, 14)\n",
      "(26, 17, 15)\n",
      "(27, 18, 16)\n"
     ]
    }
   ],
   "source": [
    "import numpy as np\n",
    "import cv2\n",
    "import scipy.stats\n",
    "\n",
    "cap = cv2.VideoCapture(0)\n",
    "face_cascade = cv2.CascadeClassifier('haarcascade_frontalface_default.xml')\n",
    "\n",
    "img = np.zeros((200, 200, 3), np.uint8)\n",
    "img[:,:] = [255, 255, 255]\n",
    "while(1):\n",
    "    \n",
    "    _, frame= cap.read()\n",
    "    \n",
    "    gray = cv2.cvtColor(frame, cv2.COLOR_BGR2GRAY)\n",
    "    faces = face_cascade.detectMultiScale(gray, 1.3, 5)\n",
    "    \n",
    "    for (x,y,w,h) in faces:\n",
    "        y3 = y-int(h/3)\n",
    "        dst = np.zeros((int(h/3), w, 3), np.uint8)\n",
    "        roi = frame[y3:y, x:x+w]\n",
    "        dst[0:int(h/3), 0:w] = roi\n",
    "        #-----------------------------------------------\n",
    "        \n",
    "        w_size, h_size, n_color = dst.shape\n",
    "        color_arr = dst.reshape(w_size * h_size, n_color)\n",
    "        color_code = ['{:02x}{:02x}{:02x}'.format(*elem) for elem in color_arr]\n",
    "        mode, _ = scipy.stats.mode(color_code)\n",
    "        r = int(mode[0][0:2], 16)\n",
    "        g = int(mode[0][2:4], 16)\n",
    "        b = int(mode[0][4:6], 16)\n",
    "        color_mode = (r, g, b)\n",
    "        print(color_mode) \n",
    "        #-----------------------------------------------\n",
    "    \n",
    "    \n",
    "    \n",
    "\n",
    "    \n",
    "    #hsv = cv2.cvtColor(getColor, cv2.COLOR_BGR2HSV)\n",
    "    \n",
    "    #cv2.imshow('img ',img)\n",
    "    cv2.imshow('frame',frame)\n",
    "    \n",
    "    k = cv2.waitKey(5) & 0xFF\n",
    "    k2 = cv2.waitKey(5)\n",
    "    if k == 27:\n",
    "        break\n",
    "        \n",
    "cap.release()\n",
    "cv2.destroyAllWindows()"
   ]
  },
  {
   "cell_type": "code",
   "execution_count": null,
   "metadata": {},
   "outputs": [],
   "source": []
  }
 ],
 "metadata": {
  "kernelspec": {
   "display_name": "Python 3",
   "language": "python",
   "name": "python3"
  },
  "language_info": {
   "codemirror_mode": {
    "name": "ipython",
    "version": 3
   },
   "file_extension": ".py",
   "mimetype": "text/x-python",
   "name": "python",
   "nbconvert_exporter": "python",
   "pygments_lexer": "ipython3",
   "version": "3.8.3"
  }
 },
 "nbformat": 4,
 "nbformat_minor": 4
}
