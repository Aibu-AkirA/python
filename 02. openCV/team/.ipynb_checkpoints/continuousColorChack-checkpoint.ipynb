{
 "cells": [
  {
   "cell_type": "code",
   "execution_count": 25,
   "metadata": {},
   "outputs": [
    {
     "name": "stdout",
     "output_type": "stream",
     "text": [
      "(480, 640, 3)\n"
     ]
    }
   ],
   "source": [
    "import cv2\n",
    "import numpy as np\n",
    "\n",
    "cap = cv2.VideoCapture(0)\n",
    "\n",
    "while(1):\n",
    "\n",
    "    _, frame = cap.read()\n",
    "\n",
    "    hsv = cv2.cvtColor(frame, cv2.COLOR_BGR2HSV)\n",
    "    \n",
    "    imgSize = np.shape(frame)\n",
    "    \n",
    "    xSize = int(imgSize[1]/5)\n",
    "    ySize = int(imgSize[0]/4)\n",
    "    \n",
    "    x=xSize*2; y=ySize; w=xSize; h=ySize\n",
    "    cv2.rectangle(frame, (x,y), (x+w, y+h), (0,255,0),2)\n",
    "\n",
    "    lower_blue = np.array([110,50,50])\n",
    "    upper_blue = np.array([130,255,255])\n",
    "\n",
    "    mask = cv2.inRange(hsv, lower_blue, upper_blue)\n",
    "\n",
    "    res = cv2.bitwise_and(frame,frame, mask = mask)\n",
    "\n",
    "    cv2.imshow('frame',frame)\n",
    "    cv2.imshow('mask',mask)\n",
    "    cv2.imshow('res',res)\n",
    "    \n",
    "    k = cv2.waitKey(5) & 0xFF\n",
    "    k2 = cv2.waitKey(5)\n",
    "    if k == 27:\n",
    "        break\n",
    "print(frame.shape)\n",
    "cap.release()\n",
    "cv2.destroyAllWindows()"
   ]
  },
  {
   "cell_type": "code",
   "execution_count": null,
   "metadata": {},
   "outputs": [],
   "source": [
    "import cv2\n",
    "import numpy as np\n",
    "\n",
    "cap = cv2.VideoCapture(0)\n",
    "\n",
    "while(1):\n",
    "\n",
    "    _, frame = cap.read()\n",
    "\n",
    "    hsv = cv2.cvtColor(frame, cv2.COLOR_BGR2HSV)\n",
    "    \n",
    "    imgSize = np.shape(frame)\n",
    "    \n",
    "    xSize = int(imgSize[1]/5)\n",
    "    ySize = int(imgSize[0]/4)\n",
    "    \n",
    "    x=xSize*2; y=ySize; w=xSize; h=ySize\n",
    "    cv2.rectangle(frame, (x,y), (x+w, y+h), (0,255,0),2)\n",
    "\n",
    "    cv2.imshow('frame',frame)\n",
    "\n",
    "    k = cv2.waitKey(5) & 0xFF\n",
    "    k2 = cv2.waitKey(5)\n",
    "    if k == 27:\n",
    "        break\n",
    "        \n",
    "print(frame.shape)\n",
    "cap.release()\n",
    "cv2.destroyAllWindows()"
   ]
  }
 ],
 "metadata": {
  "kernelspec": {
   "display_name": "Python 3",
   "language": "python",
   "name": "python3"
  },
  "language_info": {
   "codemirror_mode": {
    "name": "ipython",
    "version": 3
   },
   "file_extension": ".py",
   "mimetype": "text/x-python",
   "name": "python",
   "nbconvert_exporter": "python",
   "pygments_lexer": "ipython3",
   "version": "3.8.3"
  }
 },
 "nbformat": 4,
 "nbformat_minor": 4
}
