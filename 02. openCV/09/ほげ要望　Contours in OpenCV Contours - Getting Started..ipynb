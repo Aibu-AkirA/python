{
 "cells": [
  {
   "cell_type": "markdown",
   "metadata": {},
   "source": [
    "# contours"
   ]
  },
  {
   "cell_type": "markdown",
   "metadata": {},
   "source": [
    "輪郭線は、同一の色または強度を持つすべての連続点（境界に沿って）を結合する曲線で簡単に説明できます。<br>\n",
    "輪郭線は、形状分析やオブジェクト感知、認識に有用な道具です。<br>\n",
    "\n",
    "正確性を高めるには、バイナリ画像を使用してください。<br>\n",
    "従って、輪郭線を見出す前に臨界点又はcanny edgedetectionを適用してください。<br>\n",
    "find Contours関数はソースイメージを修正します。<br>\n",
    "したがって、輪郭線を見つけた後もソース画像を希望する場合は、すでに他の変数に保存してください。<br>\n",
    "OpenCVで輪郭線を探すのは、黒の背景から白い物体を探すようなものです。<br>\n",
    "そのため、探す物体は白、背景は黒でなければなりません。<br>"
   ]
  },
  {
   "cell_type": "markdown",
   "metadata": {},
   "source": [
    "윤곽선은 동일한 색상 또는 강도를 갖는 모든 연속 점 (경계를 따라)을 결합하는 곡선으로 간단히 설명 할 수 있습니다.<br>\n",
    "윤곽선은 형상 분석 및 객체 감지 및 인식에 유용한 도구입니다.<br>\n",
    "\n",
    "정확성을 높이려면 이진 이미지를 사용하십시오.<br>\n",
    "따라서 윤곽선을 찾기 전에 임계점 또는 canny edge detection를 적용하십시오.<br>\n",
    "findContours 함수는 소스 이미지를 수정합니다.<br>\n",
    "따라서 윤곽선을 찾은 후에도 소스 이미지를 원한다면 이미 다른 변수에 저장하십시오.<br>\n",
    "OpenCV에서 윤곽선을 찾는 것은 검정 배경에서 흰색 물체를 찾는 것과 같습니다. <br>\n",
    "그러므로 찾을 물체는 흰색이어야하고 배경은 검은색이어야 합니다.<br>"
   ]
  },
  {
   "cell_type": "markdown",
   "metadata": {},
   "source": [
    "### contours, hierarchy = cv2.findContours(binary, cv2.RETR_CCOMP, cv2.CHAIN_APPROX_NONE)\n",
    "\n",
    "\n",
    "cv2.findContours(이진화 이미지, 검색 방법, 근사화 방법)을 의미합니다.<br>\n",
    "반환값으로 윤곽선, 계층 구조를 반환합니다.<br>\n",
    "윤곽선은 Numpy 구조의 배열로 검출된 윤곽선의 지점들이 담겨있습니다.<br>\n",
    "계층 구조는 윤곽선의 계층 구조를 의미합니다. 각 윤곽선에 해당하는 속성 정보들이 담겨있습니다.<br>\n",
    "\n",
    "cv2.findContours(二進化画像、検索方法、近似化方法)を意味します。<br>\n",
    "戻り値として輪郭線、階層構造を返します。<br>\n",
    "輪郭線には、Numpy構造の配列で検出された輪郭線の地点が込められています。<br>\n",
    "階層構造とは輪郭線の階層構造を意味します。 各輪郭線に該当する属性情報が含まれています。<br>"
   ]
  },
  {
   "cell_type": "markdown",
   "metadata": {},
   "source": [
    "### cv2.drawContours(img, contours, -1, (0,255,0), 3)<br>\n",
    "\n",
    "cv2.drawContours(이미지, [윤곽선], 윤곽선 인덱스, (B, G, R), 두께, 선형 타입)을 의미합니다.<br>\n",
    "윤곽선은 검출된 윤곽선들이 저장된 Numpy 배열입니다.<br>\n",
    "윤곽선 인덱스는 검출된 윤곽선 배열에서 몇 번째 인덱스의 윤곽선을 그릴지를 의미합니다.<br><br>\n",
    "\n",
    "윤곽선 인덱스를 0으로 사용할 경우 0 번째 인덱스의 윤곽선을 그리게 됩니다. <br>\n",
    "하지만, 윤곽선 인수를 대괄호로 다시 묶을 경우, 0 번째 인덱스가 최댓값인 배열로 변경됩니다.<br>\n",
    "동일한 방식으로 [윤곽선], 0과 윤곽선, -1은 동일한 의미를 갖습니다. (-1은 윤곽선 배열 모두를 의미)<br>\n",
    "<br><br>\n",
    "cv2.drawContours(イメージ、[輪郭線]、輪郭線インデックス、(B、G、R)、厚さ、線形タイプ)を意味します。<br>\n",
    "輪郭線は、検出された輪郭線が保存されたNumpy配列です。<br>\n",
    "輪郭線インデックスは、検出された輪郭線の配列において、何番目のインデックスの輪郭線を描くかを意味します。<br><br>\n",
    "\n",
    "輪郭線インデックスを0にする場合、0番目のインデックスの輪郭を描きます。 <br>\n",
    "しかし、輪郭線引数を大括弧にし直す場合、0番目のインデックスが最大値の配列に変更されます。<br>\n",
    "同様に、[輪郭線]、0や輪郭線、-1は、同一の意味を持ちます。 （1は輪郭線配列すべてを意味）<br>"
   ]
  },
  {
   "cell_type": "code",
   "execution_count": 12,
   "metadata": {},
   "outputs": [],
   "source": [
    "import numpy as np\n",
    "import cv2\n",
    "\n",
    "img = cv2.imread('test2.jpg')\n",
    "imgray = cv2.cvtColor(img,cv2.COLOR_BGR2GRAY)\n",
    "\n",
    "ret,thresh = cv2.threshold(imgray,127,255,0)\n",
    "\n",
    "contours, hierarchy = cv2.findContours(thresh,cv2.RETR_TREE,cv2.CHAIN_APPROX_SIMPLE)\n",
    "\n",
    "cv2.drawContours(img, contours, -1, (0,255,0), 3)\n",
    "\n",
    "cv2.imshow('thresh', thresh)\n",
    "cv2.imshow('contours', img)\n",
    "\n",
    "cv2.waitKey(0)\n",
    "cv2.destroyAllWindows()"
   ]
  },
  {
   "cell_type": "markdown",
   "metadata": {},
   "source": [
    "![img1](img1.jpg)"
   ]
  },
  {
   "cell_type": "code",
   "execution_count": 15,
   "metadata": {},
   "outputs": [],
   "source": [
    "import numpy as np\n",
    "import cv2\n",
    "\n",
    "img = cv2.imread('test2.jpg')\n",
    "imgray = cv2.cvtColor(img,cv2.COLOR_BGR2GRAY)\n",
    "\n",
    "ret,thresh = cv2.threshold(imgray,127,255,0)\n",
    "\n",
    "contours, hierarchy = cv2.findContours(thresh,cv2.RETR_TREE,cv2.CHAIN_APPROX_NONE)\n",
    "\n",
    "for i in range(len(contours)):\n",
    "    cv2.drawContours(img, [contours[i]], -1, (0, 0, 255), 3)\n",
    "    cv2.imshow(\"img\", img)\n",
    "    cv2.waitKey(0)\n",
    "cv2.destroyAllWindows()"
   ]
  },
  {
   "cell_type": "code",
   "execution_count": null,
   "metadata": {},
   "outputs": [],
   "source": []
  }
 ],
 "metadata": {
  "kernelspec": {
   "display_name": "Python 3",
   "language": "python",
   "name": "python3"
  },
  "language_info": {
   "codemirror_mode": {
    "name": "ipython",
    "version": 3
   },
   "file_extension": ".py",
   "mimetype": "text/x-python",
   "name": "python",
   "nbconvert_exporter": "python",
   "pygments_lexer": "ipython3",
   "version": "3.8.3"
  }
 },
 "nbformat": 4,
 "nbformat_minor": 4
}
