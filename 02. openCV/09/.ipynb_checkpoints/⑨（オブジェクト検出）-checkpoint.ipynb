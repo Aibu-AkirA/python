{
 "cells": [
  {
   "cell_type": "markdown",
   "metadata": {},
   "source": [
    "# ⑨（オブジェクト検出）"
   ]
  },
  {
   "cell_type": "markdown",
   "metadata": {},
   "source": [
    "## コーナー検出"
   ]
  },
  {
   "cell_type": "code",
   "execution_count": 1,
   "metadata": {},
   "outputs": [
    {
     "name": "stderr",
     "output_type": "stream",
     "text": [
      "<ipython-input-1-3cb4249bc877>:24: DeprecationWarning: an integer is required (got type numpy.float32).  Implicit conversion to integers using __int__ is deprecated, and may be removed in a future version of Python.\n",
      "  cv2.circle(img, (x,y), 4, (255, 255, 0), 2)\n"
     ]
    }
   ],
   "source": [
    "# -*- coding: utf-8 -*\n",
    "\n",
    "import cv2\n",
    "\n",
    "try:\n",
    "    MAX_CORNERS = 50\n",
    "    BLOCK_SIZE = 3\n",
    "    QUALITY_LEVEL = 0.01\n",
    "    MIN_DISTANCE = 20.0\n",
    "\n",
    "    img = cv2.imread('./lena.png')\n",
    "\n",
    "    if img is None:\n",
    "        print ('ファイルを読み込めません。')\n",
    "        import sys\n",
    "        sys.exit()\n",
    "\n",
    "    gray = cv2.cvtColor(img, cv2.COLOR_RGB2GRAY)\n",
    "    corners = cv2.goodFeaturesToTrack(gray, MAX_CORNERS, QUALITY_LEVEL, MIN_DISTANCE,\n",
    "                                      blockSize = BLOCK_SIZE, useHarrisDetector = False)\n",
    "\n",
    "    for i in corners:\n",
    "        x,y = i.ravel()\n",
    "        cv2.circle(img, (x,y), 4, (255, 255, 0), 2)\n",
    "\n",
    "    cv2.imwrite('./corners.png', img)\n",
    "    cv2.imshow('./corners.png', img)\n",
    "    \n",
    "except:\n",
    "    import sys\n",
    "    print(\"Error:\", sys.exc_info()[0])\n",
    "    print(sys.exc_info()[1])\n",
    "    import traceback\n",
    "    print(traceback.format_tb(sys.exc_info()[2]))\n",
    "    \n",
    "#画面の削除\n",
    "cv2.waitKey(0)\n",
    "cv2.destroyAllWindows()"
   ]
  },
  {
   "cell_type": "markdown",
   "metadata": {},
   "source": [
    "## 顔検出"
   ]
  },
  {
   "cell_type": "code",
   "execution_count": 2,
   "metadata": {},
   "outputs": [],
   "source": [
    "# -*- coding: utf-8 -*\n",
    "\n",
    "import cv2\n",
    "\n",
    "try:    \n",
    "    img = cv2.imread('./lena.png')\n",
    "    \n",
    "    if img is None:\n",
    "        print ('ファイルを読み込めません。')\n",
    "        import sys\n",
    "        sys.exit()\n",
    "    \n",
    "    cascade = cv2.CascadeClassifier(r'./haarcascade_frontalface_alt.xml')\n",
    "    facerect = cascade.detectMultiScale(img)\n",
    "    \n",
    "    if len(facerect) > 0:\n",
    "        for rect in facerect:\n",
    "            cv2.rectangle(img, tuple(rect[0:2]), tuple(rect[0:2]+rect[2:4]), (0, 0,255), thickness=2)\n",
    "    else:\n",
    "        print('no face')\n",
    "\n",
    "    cv2.imwrite('./dobj.png', img)\n",
    "    cv2.imshow('./dobj.png', img)\n",
    "\n",
    "except:\n",
    "    import sys\n",
    "    print(\"Error:\", sys.exc_info()[0])\n",
    "    print(sys.exc_info()[1])\n",
    "    import traceback\n",
    "    print(traceback.format_tb(sys.exc_info()[2]))\n",
    "    \n",
    "#画面の削除\n",
    "cv2.waitKey(0)\n",
    "cv2.destroyAllWindows()"
   ]
  },
  {
   "cell_type": "markdown",
   "metadata": {},
   "source": [
    "## オブジェクト検出"
   ]
  },
  {
   "cell_type": "markdown",
   "metadata": {},
   "source": [
    "1. カスケード分類器の詳細説明\n",
    "    1. CascadeClassifierの詳細説明\n",
    "    1. .xmlファイルの解説\n",
    "    1. 物体検出の説明"
   ]
  },
  {
   "cell_type": "markdown",
   "metadata": {},
   "source": [
    "## 動画の顔検出"
   ]
  },
  {
   "cell_type": "code",
   "execution_count": 3,
   "metadata": {},
   "outputs": [],
   "source": [
    "# -*- coding: utf-8 -*\n",
    "\n",
    "import cv2\n",
    "\n",
    "try:\n",
    "    capture = cv2.VideoCapture(0)\n",
    "    cascade = cv2.CascadeClassifier(r'./haarcascade_frontalface_alt.xml')\n",
    "\n",
    "    while(True):\n",
    "        ret, frame = capture.read()\n",
    "        if ret == False:\n",
    "            print('カメラから映像を取得できませんでした.')\n",
    "            continue\n",
    "        facerect = cascade.detectMultiScale(frame)\n",
    "        if len(facerect) > 0:\n",
    "            for rect in facerect:\n",
    "                cv2.rectangle(frame, tuple(rect[0:2]),\n",
    "                              tuple(rect[0:2]+rect[2:4]), (0, 0,255), thickness=2)\n",
    "        cv2.imshow('f', frame)\n",
    "\n",
    "        if cv2.waitKey(1) & 0xFF == ord('q'):\n",
    "            break\n",
    "\n",
    "    capture.release()\n",
    "    cv2.destroyAllWindows()\n",
    "except:\n",
    "    import sys\n",
    "    print(\"Error:\", sys.exc_info()[0])\n",
    "    print(sys.exc_info()[1])\n",
    "    import traceback\n",
    "    print(traceback.format_tb(sys.exc_info()[2]))\n"
   ]
  },
  {
   "cell_type": "markdown",
   "metadata": {},
   "source": [
    "## ダメージ補修"
   ]
  },
  {
   "cell_type": "code",
   "execution_count": 5,
   "metadata": {},
   "outputs": [],
   "source": [
    "# -*- coding: utf-8 -*\n",
    "\n",
    "import cv2\n",
    "#import numpy as np\n",
    "\n",
    "try:\n",
    "    img = cv2.imread('./female_dmg.png')\n",
    "\n",
    "    if img is None:\n",
    "        print ('ファイルを読み込めません。')\n",
    "        import sys\n",
    "        sys.exit()\n",
    "\n",
    "    msk = cv2.cvtColor(img, cv2.COLOR_RGB2GRAY)\n",
    "    ret, msk = cv2.threshold(msk, 240, 255, cv2.THRESH_BINARY)\n",
    "    # マスク画像の保存\n",
    "    #cv2.imwrite('c:/temp/msk.jpg', msk)\n",
    "    #kernel = np.ones((3,3),np.uint8)\n",
    "    #msk = cv2.dilate(msk, kernel)\n",
    "    #cv2.imwrite('c:/temp/msk_dilated.jpg', msk)\n",
    "    dst = img.copy()\n",
    "    dst = cv2.inpaint(img, msk, 1, cv2.INPAINT_TELEA)\n",
    "\n",
    "    cv2.imwrite('./dst.jpg', dst)\n",
    "    cv2.imshow('./dst.jpg', dst)\n",
    "\n",
    "except:\n",
    "    import sys\n",
    "    print(\"Error:\", sys.exc_info()[0])\n",
    "    print(sys.exc_info()[1])\n",
    "    import traceback\n",
    "    print(traceback.format_tb(sys.exc_info()[2]))\n",
    "\n",
    "#画面の削除\n",
    "cv2.waitKey(0)\n",
    "cv2.destroyAllWindows()"
   ]
  },
  {
   "cell_type": "markdown",
   "metadata": {},
   "source": [
    "## テンプレートマッチング"
   ]
  },
  {
   "cell_type": "code",
   "execution_count": 7,
   "metadata": {},
   "outputs": [],
   "source": [
    "# -*- coding: utf-8 -*\n",
    "\n",
    "import cv2\n",
    "\n",
    "try:\n",
    "    img = cv2.imread('./lena.png')\n",
    "    templ = cv2.imread('./template.png')\n",
    "\n",
    "    if img is None or templ is None:\n",
    "        print ('ファイルを読み込めません。')\n",
    "        import sys\n",
    "        sys.exit()\n",
    "\n",
    "    result = cv2.matchTemplate(img, templ, cv2.TM_CCOEFF_NORMED)\n",
    "    mmr = cv2.minMaxLoc(result)\n",
    "    pos = mmr[3]\n",
    "\n",
    "    dst = img.copy()\n",
    "    cv2.rectangle(dst, pos, (pos[0] + templ.shape[1], pos[1] + templ.shape[0]),\n",
    "                  (0, 0, 255), 2)\n",
    "\n",
    "    cv2.imwrite('./dst_match.jpg', dst)\n",
    "    cv2.imshow('./dst_match.jpg', dst)\n",
    "\n",
    "except:\n",
    "    import sys\n",
    "    print(\"Error:\", sys.exc_info()[0])\n",
    "    print(sys.exc_info()[1])\n",
    "    import traceback\n",
    "    print(traceback.format_tb(sys.exc_info()[2]))\n",
    "    \n",
    "#画面の削除\n",
    "cv2.waitKey(0)\n",
    "cv2.destroyAllWindows()"
   ]
  },
  {
   "cell_type": "markdown",
   "metadata": {},
   "source": [
    "## 特徴点検出"
   ]
  },
  {
   "cell_type": "code",
   "execution_count": 9,
   "metadata": {},
   "outputs": [],
   "source": [
    "# -*- coding: utf-8 -*\n",
    "\n",
    "import cv2\n",
    "\n",
    "try:    \n",
    "    src1 = cv2.imread('./lena.png')\n",
    "    src2 = cv2.imread('./rotate_033.png')\n",
    "    \n",
    "    if src1 is None or src2 is None:\n",
    "        print ('ファイルを読み込めません。')\n",
    "        import sys\n",
    "        sys.exit()\n",
    "    \n",
    "    detector = cv2.AKAZE_create()\n",
    "    keypoints1, descriptor1 = detector.detectAndCompute(src1, None)\n",
    "    keypoints2, descriptor2 = detector.detectAndCompute(src2, None)\n",
    "\n",
    "    matcher = cv2.BFMatcher(cv2.NORM_HAMMING)\n",
    "    matches = matcher.match(descriptor1, descriptor2)\n",
    "    dst = cv2.drawMatches(src1, keypoints1, src2, keypoints2, matches, None, flags=2)\n",
    "    \n",
    "    cv2.imwrite('./dst.png', dst)\n",
    "    cv2.imshow('./dst.png', dst)\n",
    "\n",
    "except:\n",
    "    import sys\n",
    "    print(\"Error:\", sys.exc_info()[0])\n",
    "    print(sys.exc_info()[1])\n",
    "    import traceback\n",
    "    print(traceback.format_tb(sys.exc_info()[2]))\n",
    "    \n",
    "#画面の削除\n",
    "cv2.waitKey(0)\n",
    "cv2.destroyAllWindows()"
   ]
  },
  {
   "cell_type": "markdown",
   "metadata": {},
   "source": [
    "# 関数説明"
   ]
  },
  {
   "cell_type": "markdown",
   "metadata": {},
   "source": [
    "http://opencv.jp/opencv-2svn/py/"
   ]
  },
  {
   "cell_type": "markdown",
   "metadata": {},
   "source": [
    "# ほげ要望(^ω^)\n",
    "## Contours in OpenCV Contours : Getting Started\n",
    "・Image Processing in OpenCV  \n",
    "https://opencv-python-tutroals.readthedocs.io/en/latest/py_tutorials/py_imgproc/py_table_of_contents_imgproc/py_table_of_contents_imgproc.html  \n",
    "内の「Contours in OpenCV Contours : Getting Started」（原文英語）を読んで記事内のソースを実行して結果を確認してまとめなさい  \n",
    "https://opencv-python-tutroals.readthedocs.io/en/latest/py_tutorials/py_imgproc/py_contours/py_table_of_contents_contours/py_table_of_contents_contours.html#table-of-content-contours  \n",
    "まとめたもので授業ができるくらい丁寧にまとめること（ソースファイル内にコメントを入れたりwebページ等で調べてMarkdownで補足説明とか）  \n",
    "・ほげ要望　Contours in OpenCV Contours : Getting Started.ipynb  \n",
    "・ほげ要望　Contours in OpenCV Contours : Getting Started.html  \n",
    "を提出しなさい。あまりに不適切なものは未提出と同等にします。"
   ]
  },
  {
   "cell_type": "markdown",
   "metadata": {},
   "source": [
    "# エクストラほげ問題⑧\n",
    "## 大学数学　線形代数\n",
    "## 行列のべき乗\n",
    "大学で習うような数学の知識をつけてほしいのでこのような形で問題として出します。  \n",
    "人工知能を学ぶ上でとても重要（画像処理や深層学習等々で大量に使う）なのでしっかりと学んでください！   \n",
    "※ヒントのようなもの  \n",
    "①https://oguemon.com/topic/study/linear-algebra/  \n",
    "②https://mathtrain.jp/category/senkei  \n",
    "③https://python.atelierkobato.com/linear/  \n",
    "④https://examist.jp/category/mathematics/  \n",
    "⑤http://www.geisya.or.jp/~mwm48961/koukou/index_m.htm  \n",
    "  \n",
    "### もんだいだよん(^ω^)\n",
    "  \n",
    "①行列$A$に対してべき乗$A^3$を求めなさい\n",
    "  \n",
    "$\n",
    "A = \\left(\n",
    "  \\begin{array}{ccc}\n",
    "    1 & 0 \\\\\n",
    "    0 & 1 \\\\\n",
    "  \\end{array}\n",
    "\\right)\n",
    "$\n",
    "\n",
    "②行列$A$に対してべき乗$A^n$を求めなさい\n",
    "\n",
    "$\n",
    "A = \\left(\n",
    "  \\begin{array}{ccc}\n",
    "    1 & a \\\\\n",
    "    0 & 1 \\\\\n",
    "  \\end{array}\n",
    "\\right)\n",
    "$"
   ]
  },
  {
   "cell_type": "code",
   "execution_count": null,
   "metadata": {},
   "outputs": [],
   "source": []
  }
 ],
 "metadata": {
  "kernelspec": {
   "display_name": "Python 3",
   "language": "python",
   "name": "python3"
  },
  "language_info": {
   "codemirror_mode": {
    "name": "ipython",
    "version": 3
   },
   "file_extension": ".py",
   "mimetype": "text/x-python",
   "name": "python",
   "nbconvert_exporter": "python",
   "pygments_lexer": "ipython3",
   "version": "3.8.3"
  }
 },
 "nbformat": 4,
 "nbformat_minor": 2
}
