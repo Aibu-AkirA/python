{
 "cells": [
  {
   "cell_type": "markdown",
   "metadata": {},
   "source": [
    "# ③（グラフィックス）"
   ]
  },
  {
   "cell_type": "markdown",
   "metadata": {},
   "source": [
    "## 円を書く"
   ]
  },
  {
   "cell_type": "code",
   "execution_count": 1,
   "metadata": {},
   "outputs": [],
   "source": [
    "# -*- coding: utf-8 -*\n",
    "# ライブラリのインポート\n",
    "import numpy as np\n",
    "import cv2\n",
    "\n",
    "# 円をかきかき\n",
    "img = np.zeros((400, 400, 3), np.uint8)\n",
    "cv2.circle(img, (200, 200), 50, (255, 0, 0), 1)\n",
    "cv2.imwrite('./circle1.jpg', img)\n",
    "cv2.imshow('./circle1.jpg', img)\n",
    "\n",
    "# 円をかきかき\n",
    "img = np.zeros((400, 400, 3), np.uint8)\n",
    "cv2.circle(img, (200, 200), 100, (0, 255, 0), 3)\n",
    "cv2.imwrite('./circle2.jpg', img)\n",
    "cv2.imshow('./circle2.jpg', img)\n",
    "\n",
    "# 円をかきかき\n",
    "img = np.zeros((400, 400, 3), np.uint8)\n",
    "cv2.circle(img, (200, 200), 150, (0, 0, 255), -1)\n",
    "cv2.imwrite('./circle3.jpg', img)\n",
    "cv2.imshow('./circle3.jpg', img)\n",
    "\n",
    "#画面の削除\n",
    "cv2.waitKey(0)\n",
    "cv2.destroyAllWindows()"
   ]
  },
  {
   "cell_type": "markdown",
   "metadata": {},
   "source": [
    "## 画像の上に線を描く"
   ]
  },
  {
   "cell_type": "code",
   "execution_count": 5,
   "metadata": {},
   "outputs": [],
   "source": [
    "# -*- coding: utf-8 -*\n",
    "\n",
    "import cv2\n",
    "\n",
    "try:\n",
    "    img = cv2.imread('./Lenna.png')\n",
    "    if img is None:\n",
    "#        print (u'ファイルを読み込めません。')\n",
    "#        import sys\n",
    "#        sys.exit()\n",
    "         raise ValueError('ファイルを読み込めません。')\n",
    "\n",
    "    cv2.line(img, (50, 50), (200, 50), (255, 0, 0))\n",
    "\n",
    "    cv2.line(img, (50, 100), (200, 100), (0, 255, 0), 5)\n",
    "\n",
    "    cv2.imwrite('./LinesOnImage.png', img)\n",
    "    cv2.imshow('./LinesOnImage.png', img)\n",
    "    \n",
    "except ValueError as e:\n",
    "    print(e)\n",
    "    \n",
    "except:\n",
    "    import sys\n",
    "    print(\"Error:\", sys.exc_info()[0])\n",
    "    print(sys.exc_info()[1])\n",
    "    import traceback\n",
    "    print(traceback.format_tb(sys.exc_info()[2]))\n",
    "    \n",
    "#画面の削除\n",
    "cv2.waitKey(0)\n",
    "cv2.destroyAllWindows()"
   ]
  },
  {
   "cell_type": "markdown",
   "metadata": {},
   "source": [
    "## 画像の上に円を描く"
   ]
  },
  {
   "cell_type": "code",
   "execution_count": 6,
   "metadata": {},
   "outputs": [],
   "source": [
    "# -*- coding: utf-8 -*\n",
    "\n",
    "import cv2\n",
    "\n",
    "try:\n",
    "    img = cv2.imread('./Lenna.png')\n",
    "\n",
    "    if img is None:\n",
    "        print ('ファイルを読み込めません。')\n",
    "        import sys\n",
    "        sys.exit()\n",
    "\n",
    "    cv2.circle(img, (50, 50), 40, (0, 255, 0), 2)\n",
    "    cv2.circle(img, (150, 150), 80, (255, 255, 0), 6)\n",
    "    cv2.circle(img, (200, 200), 50, (0, 255, 255), -1)\n",
    "\n",
    "    cv2.imwrite('./CirclesOnImage.png', img)\n",
    "    cv2.imshow('./CirclesOnImage.png', img)\n",
    "\n",
    "except:\n",
    "    import sys\n",
    "    print(\"Error:\", sys.exc_info()[0])\n",
    "    print(sys.exc_info()[1])\n",
    "    import traceback\n",
    "    print(traceback.format_tb(sys.exc_info()[2]))\n",
    "    \n",
    "#画面の削除\n",
    "cv2.waitKey(0)\n",
    "cv2.destroyAllWindows()"
   ]
  },
  {
   "cell_type": "markdown",
   "metadata": {},
   "source": [
    "## 画像の上に文字を書く"
   ]
  },
  {
   "cell_type": "code",
   "execution_count": 7,
   "metadata": {},
   "outputs": [],
   "source": [
    "# -*- coding: utf-8 -*\n",
    "\n",
    "import cv2\n",
    "\n",
    "try:\n",
    "    img = cv2.imread('./Lenna.png')\n",
    "\n",
    "    if img is None:\n",
    "        print ('ファイルを読み込めません。')\n",
    "        import sys\n",
    "        sys.exit()\n",
    "\n",
    "    cv2.putText(img,\n",
    "                'Hello OpenCV', \n",
    "                (50, 50), \n",
    "                cv2.FONT_HERSHEY_SIMPLEX,\n",
    "                0.8, \n",
    "                (50, 60, 80),\n",
    "                2)\n",
    "\n",
    "    cv2.imwrite('./puttext.png', img)\n",
    "    cv2.imshow('./puttext.png', img)\n",
    "\n",
    "except:\n",
    "    import sys\n",
    "    print(\"Error:\", sys.exc_info()[0])\n",
    "    print(sys.exc_info()[1])\n",
    "    import traceback\n",
    "    print(traceback.format_tb(sys.exc_info()[2]))\n",
    "    \n",
    "#画面の削除\n",
    "cv2.waitKey(0)\n",
    "cv2.destroyAllWindows()"
   ]
  },
  {
   "cell_type": "markdown",
   "metadata": {},
   "source": [
    "# 関数説明\n",
    "http://opencv.jp/opencv-2svn/py/"
   ]
  },
  {
   "cell_type": "markdown",
   "metadata": {},
   "source": [
    "# ほげ要望(^ω^)\n",
    "## Image Thresholding\n",
    "・Image Processing in OpenCV  \n",
    "https://opencv-python-tutroals.readthedocs.io/en/latest/py_tutorials/py_imgproc/py_table_of_contents_imgproc/py_table_of_contents_imgproc.html  \n",
    "内の「Image Thresholding」（原文英語）を読んで記事内のソースを実行して結果を確認してまとめなさい  \n",
    "https://opencv-python-tutroals.readthedocs.io/en/latest/py_tutorials/py_imgproc/py_thresholding/py_thresholding.html  \n",
    "まとめたもので授業ができるくらい丁寧にまとめること（ソースファイル内にコメントを入れたりwebページ等で調べてMarkdownで補足説明とか）  \n",
    "・ほげ要望　Image Thresholding.ipynb  \n",
    "・ほげ要望　Image Thresholding.html  \n",
    "を提出しなさい。あまりに不適切なものは未提出と同等にします。"
   ]
  },
  {
   "cell_type": "markdown",
   "metadata": {},
   "source": [
    "# エクストラほげ問題②\n",
    "## 高校数学Ｂ　平面ベクトルと平面図形\n",
    "## ベクトルの成分表示と大きさ、成分によるベクトルの演算\n",
    "大学で習うような数学の知識をつけてほしいのでこのような形で問題として出します。  \n",
    "人工知能を学ぶ上でとても重要（画像処理や深層学習等々で大量に使う）なのでしっかりと学んでください！   \n",
    "※ヒントのようなもの  \n",
    "①https://oguemon.com/topic/study/linear-algebra/  \n",
    "②https://mathtrain.jp/category/senkei  \n",
    "③https://python.atelierkobato.com/linear/  \n",
    "④https://examist.jp/category/mathematics/  \n",
    "⑤http://www.geisya.or.jp/~mwm48961/koukou/index_m.htm  \n",
    "  \n",
    "### もんだいだよん(^ω^)\n",
    "  \n",
    "①$\\vec{a}=(2,3)$、$\\vec{b}=(-4,2)$のとき、ベクトル$2\\vec{a}-\\vec{b}$を成分で表し、大きさを求めよ。さらに、$2\\vec{a}-\\vec{b}$と平行な単位ベクトル$\\vec{e}$を求めよ。\n",
    "  "
   ]
  },
  {
   "cell_type": "markdown",
   "metadata": {},
   "source": [
    "# エクストラがんばれ問題\n",
    "がんばれ"
   ]
  },
  {
   "cell_type": "code",
   "execution_count": null,
   "metadata": {},
   "outputs": [],
   "source": [
    "#地獄みたいな止まり方するからちゃんと動くようにしてね\n",
    "#コード直す前に実行するとPython止まるからプログラム終了してね\n",
    "#一見難しそうだけど説明された知識だけで行けるよ\n",
    "\n",
    "\n",
    "#ライブラリ呼び出し\n",
    "import numpy as np\n",
    "import cv2\n",
    "from scipy import ndimage\n",
    "import os\n",
    "\n",
    "img = cv2.imread('./lena.png')\n",
    "i=0\n",
    "out_dir=\"./ganbare\"\n",
    "os.makedirs(out_dir,exist_ok=True)\n",
    "# 左右反転\n",
    "img_flip = cv2.flip(img, 1)\n",
    "fileName = os.path.join(out_dir, str(i) + \"_flip.jpg\")\n",
    "cv2.imwrite(str(fileName), img_flip)\n",
    "# 回転\n",
    "for ang in [-10,0,10]:\n",
    "    \n",
    "    #ここScipyはいってなかったらごめん画像回転のコード書くかScipyいれてください；；\n",
    "    #便利だから入れて損はないよ！！\n",
    "    img_rot = ndimage.rotate(img,ang)\n",
    "    \n",
    "    \n",
    "    cv2.img_rot = cv2.resize(img_rot,(64,64))\n",
    "    fileName=os.path.join(out_dir,str(i)+\"_\"+str(ang)+\".jpg\")\n",
    "    cv2.imwrite(str(fileName),img_rot)\n",
    "    cv2.imshow(str(fileName),img_rot)\n",
    "    # 閾値\n",
    "    img_thr = cv2.threshold(img_rot, 100, 255, cv2.THRESH_TOZERO)[1]\n",
    "    fileName=os.path.join(out_dir,str(i)+\"_\"+str(ang)+\"thr.jpg\")\n",
    "    cv2.imwrite(str(fileName),img_thr)\n",
    "    cv2.imshow(str(fileName),img_rot)\n",
    "    # ぼかし\n",
    "    img_filter = cv2.GaussianBlur(img_rot, (5, 5), 0)\n",
    "    fileName=os.path.join(out_dir,str(i)+\"_\"+str(ang)+\"filter.jpg\")\n",
    "    cv2.imwrite(str(fileName),img_filter)\n",
    "    cv2.imshow(str(fileName),img_rot)"
   ]
  }
 ],
 "metadata": {
  "kernelspec": {
   "display_name": "Python 3",
   "language": "python",
   "name": "python3"
  },
  "language_info": {
   "codemirror_mode": {
    "name": "ipython",
    "version": 3
   },
   "file_extension": ".py",
   "mimetype": "text/x-python",
   "name": "python",
   "nbconvert_exporter": "python",
   "pygments_lexer": "ipython3",
   "version": "3.8.3"
  }
 },
 "nbformat": 4,
 "nbformat_minor": 2
}
