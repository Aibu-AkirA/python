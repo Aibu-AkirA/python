{
 "cells": [
  {
   "cell_type": "markdown",
   "metadata": {},
   "source": [
    "# ⑤（色の処理）"
   ]
  },
  {
   "cell_type": "markdown",
   "metadata": {},
   "source": [
    "## グレイスケール①"
   ]
  },
  {
   "cell_type": "code",
   "execution_count": 1,
   "metadata": {},
   "outputs": [],
   "source": [
    "# -*- coding: utf-8 -*\n",
    "\n",
    "import cv2\n",
    "\n",
    "try:\n",
    "    img = cv2.imread('./lena.png', cv2.IMREAD_GRAYSCALE)\n",
    "    \n",
    "    if img is None:\n",
    "        print ('ファイルを読み込めません。')\n",
    "        import sys\n",
    "        sys.exit()\n",
    "\n",
    "    cv2.imwrite('./grayscale1.png', img)\n",
    "    cv2.imshow('./grayscale1.png', img)\n",
    "\n",
    "except:\n",
    "    import sys\n",
    "    print(\"Error:\", sys.exc_info()[0])\n",
    "    print(sys.exc_info()[1])\n",
    "    import traceback\n",
    "    print(traceback.format_tb(sys.exc_info()[2]))\n",
    "    \n",
    "#画面の削除\n",
    "cv2.waitKey(0)\n",
    "cv2.destroyAllWindows()"
   ]
  },
  {
   "cell_type": "markdown",
   "metadata": {},
   "source": [
    "## グレイスケール①"
   ]
  },
  {
   "cell_type": "code",
   "execution_count": 2,
   "metadata": {},
   "outputs": [],
   "source": [
    "# -*- coding: utf-8 -*\n",
    "\n",
    "import cv2\n",
    "\n",
    "try:\n",
    "    img = cv2.imread('./lena.png')\n",
    "\n",
    "    if img is None:\n",
    "        print ('ファイルを読み込めません。')\n",
    "        import sys\n",
    "        sys.exit()\n",
    "        \n",
    "\n",
    "    dst = cv2.cvtColor(img, cv2.COLOR_RGB2GRAY)\n",
    "    cv2.imwrite('./grayscale2.png', dst)\n",
    "    cv2.imshow('./grayscale2.png', dst)\n",
    "\n",
    "except:\n",
    "    import sys\n",
    "    print(\"Error:\", sys.exc_info()[0])\n",
    "    print(sys.exc_info()[1])\n",
    "    import traceback\n",
    "    print(traceback.format_tb(sys.exc_info()[2]))\n",
    "    \n",
    "#画面の削除\n",
    "cv2.waitKey(0)\n",
    "cv2.destroyAllWindows()"
   ]
  },
  {
   "cell_type": "markdown",
   "metadata": {},
   "source": [
    "## 輝度平滑化"
   ]
  },
  {
   "cell_type": "code",
   "execution_count": 3,
   "metadata": {},
   "outputs": [],
   "source": [
    "# -*- coding: utf-8 -*\n",
    "\n",
    "import cv2\n",
    "\n",
    "try:\n",
    "    img = cv2.imread('./lena.png', cv2.IMREAD_GRAYSCALE)\n",
    "\n",
    "    if img is None:\n",
    "        print ('ファイルを読み込めません。')\n",
    "        import sys\n",
    "        sys.exit()\n",
    "\n",
    "    dst = cv2.equalizeHist(img)\n",
    "    cv2.imwrite('./equalize.png', dst)\n",
    "    cv2.imshow('./equalize.png', dst)\n",
    "\n",
    "except:\n",
    "    import sys\n",
    "    print(\"Error:\", sys.exc_info()[0])\n",
    "    print(sys.exc_info()[1])\n",
    "    import traceback\n",
    "    print(traceback.format_tb(sys.exc_info()[2]))\n",
    "    \n",
    "#画面の削除\n",
    "cv2.waitKey(0)\n",
    "cv2.destroyAllWindows()"
   ]
  },
  {
   "cell_type": "markdown",
   "metadata": {},
   "source": [
    "## 閾値処理　スレッショルド処理"
   ]
  },
  {
   "cell_type": "code",
   "execution_count": 4,
   "metadata": {},
   "outputs": [],
   "source": [
    "# -*- coding: utf-8 -*\n",
    "\n",
    "import cv2\n",
    "\n",
    "try:\n",
    "    img = cv2.imread('./lena.png', cv2.IMREAD_GRAYSCALE)\n",
    "\n",
    "    if img is None:\n",
    "        print ('ファイルを読み込めません。')\n",
    "        import sys\n",
    "        sys.exit()\n",
    "\n",
    "    ret, dst = cv2.threshold(img, 100, 200, cv2.THRESH_BINARY)\n",
    "    cv2.imwrite('./threshold_THRESH_BINARY.png', dst)\n",
    "    cv2.imshow('./threshold_THRESH_BINARY.png', dst)\n",
    "    \n",
    "    ret, dst = cv2.threshold(img, 100, 200, cv2.THRESH_BINARY_INV)\n",
    "    cv2.imwrite('./threshold_THRESH_BINARY_INV.png', dst)\n",
    "    cv2.imshow('./threshold_THRESH_BINARY_INV.png', dst)\n",
    "\n",
    "    ret, dst = cv2.threshold(img, 100, 200, cv2.THRESH_TRUNC)\n",
    "    cv2.imwrite('./threshold_THRESH_TRUNC.png', dst)\n",
    "    cv2.imshow('./threshold_THRESH_TRUNC.png', dst)\n",
    "\n",
    "    ret, dst = cv2.threshold(img, 100, 200, cv2.THRESH_TOZERO)\n",
    "    cv2.imwrite('./threshold_THRESH_TOZERO.png', dst)\n",
    "    cv2.imshow('./threshold_THRESH_TOZERO.png', dst)\n",
    "\n",
    "    ret, dst = cv2.threshold(img, 100, 200, cv2.THRESH_TOZERO_INV)\n",
    "    cv2.imwrite('./threshold_THRESH_TOZERO_INV.png', dst)\n",
    "    cv2.imshow('./threshold_THRESH_TOZERO_INV.png', dst)\n",
    "\n",
    "except:\n",
    "    import sys\n",
    "    print(\"Error:\", sys.exc_info()[0])\n",
    "    print(sys.exc_info()[1])\n",
    "    import traceback\n",
    "    print(traceback.format_tb(sys.exc_info()[2]))\n",
    "    \n",
    "#画面の削除\n",
    "cv2.waitKey(0)\n",
    "cv2.destroyAllWindows()"
   ]
  },
  {
   "cell_type": "markdown",
   "metadata": {},
   "source": [
    "## 閾値処理　アダプティブスレッショルド処理"
   ]
  },
  {
   "cell_type": "code",
   "execution_count": 9,
   "metadata": {},
   "outputs": [],
   "source": [
    "# -*- coding: utf-8 -*\n",
    "\n",
    "import cv2\n",
    "\n",
    "try:\n",
    "    img = cv2.imread('./lena.png', cv2.IMREAD_GRAYSCALE)\n",
    "\n",
    "    if img is None:\n",
    "        print ('ファイルを読み込めません。')\n",
    "        import sys\n",
    "        sys.exit()\n",
    "\n",
    "    dst = cv2.adaptiveThreshold(img, 200, cv2.ADAPTIVE_THRESH_GAUSSIAN_C, cv2.THRESH_BINARY, 7, 8)\n",
    "    cv2.imwrite('./adaptiveThreshold.png', dst)\n",
    "    cv2.imshow('./adaptiveThreshold.png', dst)\n",
    "\n",
    "except:\n",
    "    import sys\n",
    "    print(\"Error:\", sys.exc_info()[0])\n",
    "    print(sys.exc_info()[1])\n",
    "    import traceback\n",
    "    print(traceback.format_tb(sys.exc_info()[2]))\n",
    "    \n",
    "#画面の削除\n",
    "cv2.waitKey(0)\n",
    "cv2.destroyAllWindows()"
   ]
  },
  {
   "cell_type": "markdown",
   "metadata": {},
   "source": [
    "## カラー画像の各成分を分離"
   ]
  },
  {
   "cell_type": "code",
   "execution_count": 25,
   "metadata": {},
   "outputs": [],
   "source": [
    "# -*- coding: utf-8 -*\n",
    "\n",
    "import cv2\n",
    "import numpy as np\n",
    "\n",
    "try:\n",
    "    img = cv2.imread('./lena.png')\n",
    "\n",
    "    if img is None:\n",
    "        print ('ファイルを読み込めません。')\n",
    "        import sys\n",
    "        sys.exit()\n",
    "\n",
    "    rgb = cv2.split(img)\n",
    "    blue = rgb[0]\n",
    "    green = rgb[1]\n",
    "    red = rgb[2]\n",
    "    \n",
    "    imgSize = np.shape(img)\n",
    "    img2 = np.zeros((imgSize[0], imgSize[1], imgSize[2]), np.uint8)\n",
    "    \n",
    "    \n",
    "    img2[:,:] = [0, 0, 0]\n",
    "    rgb2 = cv2.split(img2)\n",
    "    \n",
    "    img3 = cv2.merge([blue, rgb2[1], rgb2[2]])\n",
    "    img4 = cv2.merge([rgb2[0], green, rgb2[2]])\n",
    "    img5 = cv2.merge([rgb2[0], rgb2[1], red])\n",
    "    \n",
    "    cv2.imwrite('./blue2.png', img3)\n",
    "    cv2.imshow('./blue2.png', img3)\n",
    "    cv2.imwrite('./green2.png', img4)\n",
    "    cv2.imshow('./green2.png', img4)\n",
    "    cv2.imwrite('./red2.png', img5)\n",
    "    cv2.imshow('./red2.png', img5)\n",
    "    \n",
    "    cv2.imwrite('./blue.png', blue)\n",
    "    cv2.imshow('./blue.png', blue)\n",
    "    cv2.imwrite('./green.png', green)\n",
    "    cv2.imshow('./green.png', green)\n",
    "    cv2.imwrite('./red.png', red)\n",
    "    cv2.imshow('./red.png', red)\n",
    "\n",
    "except:\n",
    "    import sys\n",
    "    print(\"Error:\", sys.exc_info()[0])\n",
    "    print(sys.exc_info()[1])\n",
    "    import traceback\n",
    "    print(traceback.format_tb(sys.exc_info()[2]))\n",
    "    \n",
    "#画面の削除\n",
    "cv2.waitKey(0)\n",
    "cv2.destroyAllWindows()"
   ]
  },
  {
   "cell_type": "markdown",
   "metadata": {},
   "source": [
    "# 関数説明\n",
    "http://opencv.jp/opencv-2svn/py/"
   ]
  },
  {
   "cell_type": "markdown",
   "metadata": {},
   "source": [
    "# ほげ要望(^ω^)\n",
    "## Morphological Transformations\n",
    "・Image Processing in OpenCV  \n",
    "https://opencv-python-tutroals.readthedocs.io/en/latest/py_tutorials/py_imgproc/py_table_of_contents_imgproc/py_table_of_contents_imgproc.html  \n",
    "内の「Morphological Transformations」（原文英語）を読んで記事内のソースを実行して結果を確認してまとめなさい  \n",
    "https://opencv-python-tutroals.readthedocs.io/en/latest/py_tutorials/py_imgproc/py_morphological_ops/py_morphological_ops.html  \n",
    "まとめたもので授業ができるくらい丁寧にまとめること（ソースファイル内にコメントを入れたりwebページ等で調べてMarkdownで補足説明とか）  \n",
    "・ほげ要望　Morphological Transformations.ipynb  \n",
    "・ほげ要望　Morphological Transformations.html  \n",
    "を提出しなさい。あまりに不適切なものは未提出と同等にします。"
   ]
  },
  {
   "cell_type": "markdown",
   "metadata": {},
   "source": [
    "# エクストラほげ問題④\n",
    "## 高校数学Ｂ　空間ベクトルと空間図形、空間の方程式\n",
    "## ベクトルの外積(裏技)による法線ベクトル・空間の三角形の面積・平行六面体の体積・四面体の体積\n",
    "大学で習うような数学の知識をつけてほしいのでこのような形で問題として出します。  \n",
    "人工知能を学ぶ上でとても重要（画像処理や深層学習等々で大量に使う）なのでしっかりと学んでください！   \n",
    "※ヒントのようなもの  \n",
    "①https://oguemon.com/topic/study/linear-algebra/  \n",
    "②https://mathtrain.jp/category/senkei  \n",
    "③https://python.atelierkobato.com/linear/  \n",
    "④https://examist.jp/category/mathematics/  \n",
    "⑤http://www.geisya.or.jp/~mwm48961/koukou/index_m.htm  \n",
    "  \n",
    "### もんだいだよん(^ω^)\n",
    "  \n",
    "①$\\vec{a}= (1,3,2)、\\vec{b}= (-1,1,2)$の両方に垂直な単位ベクトルを求めよ。\n",
    "  "
   ]
  },
  {
   "cell_type": "code",
   "execution_count": null,
   "metadata": {},
   "outputs": [],
   "source": []
  }
 ],
 "metadata": {
  "kernelspec": {
   "display_name": "Python 3",
   "language": "python",
   "name": "python3"
  },
  "language_info": {
   "codemirror_mode": {
    "name": "ipython",
    "version": 3
   },
   "file_extension": ".py",
   "mimetype": "text/x-python",
   "name": "python",
   "nbconvert_exporter": "python",
   "pygments_lexer": "ipython3",
   "version": "3.8.3"
  }
 },
 "nbformat": 4,
 "nbformat_minor": 2
}
