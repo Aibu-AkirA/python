{
 "cells": [
  {
   "cell_type": "code",
   "execution_count": 1,
   "metadata": {},
   "outputs": [
    {
     "name": "stdout",
     "output_type": "stream",
     "text": [
      "1から10までの偶数を表示します。\n",
      "2\n",
      "4\n",
      "6\n",
      "8\n",
      "10\n"
     ]
    }
   ],
   "source": [
    "print(\"1から10までの偶数を表示します。\")\n",
    "for i in range(1,11):\n",
    "    if i%2 == 0 :\n",
    "        print(i)"
   ]
  },
  {
   "cell_type": "code",
   "execution_count": 2,
   "metadata": {},
   "outputs": [
    {
     "name": "stdout",
     "output_type": "stream",
     "text": [
      "1から10までの偶数を表示します。\n",
      "2\n",
      "4\n",
      "6\n",
      "8\n",
      "10\n"
     ]
    }
   ],
   "source": [
    "print(\"1から10までの偶数を表示します。\")\n",
    "for i in range(2,11,2):\n",
    "    print(i)"
   ]
  },
  {
   "cell_type": "code",
   "execution_count": 9,
   "metadata": {},
   "outputs": [
    {
     "name": "stdout",
     "output_type": "stream",
     "text": [
      "1 \t2 \t3 \t4 \t5 \t6 \t7 \t8 \t9 \t\n",
      "2 \t4 \t6 \t8 \t10 \t12 \t14 \t16 \t18 \t\n",
      "3 \t6 \t9 \t12 \t15 \t18 \t21 \t24 \t27 \t\n",
      "4 \t8 \t12 \t16 \t20 \t24 \t28 \t32 \t36 \t\n",
      "5 \t10 \t15 \t20 \t25 \t30 \t35 \t40 \t45 \t\n",
      "6 \t12 \t18 \t24 \t30 \t36 \t42 \t48 \t54 \t\n",
      "7 \t14 \t21 \t28 \t35 \t42 \t49 \t56 \t63 \t\n",
      "8 \t16 \t24 \t32 \t40 \t48 \t56 \t64 \t72 \t\n",
      "9 \t18 \t27 \t36 \t45 \t54 \t63 \t72 \t81 \t\n"
     ]
    }
   ],
   "source": [
    "for i in range(1,10):\n",
    "    for y in range(1,10):\n",
    "        print(i*y,\"\\t\",end=\"\")\n",
    "    print()    "
   ]
  },
  {
   "cell_type": "code",
<<<<<<< HEAD
   "execution_count": 1,
=======
   "execution_count": 10,
>>>>>>> 0e6d12f85f470f3752b74dfd964ad8c10f998755
   "metadata": {},
   "outputs": [
    {
     "name": "stdout",
     "output_type": "stream",
     "text": [
<<<<<<< HEAD
      "\n",
=======
>>>>>>> 0e6d12f85f470f3752b74dfd964ad8c10f998755
      "*\n",
      "**\n",
      "***\n",
      "****\n",
      "*****\n"
     ]
    }
   ],
   "source": [
    "for i in range(1,6):\n",
    "    print(\"*\"*i)"
   ]
  },
  {
   "cell_type": "code",
   "execution_count": null,
   "metadata": {},
   "outputs": [],
   "source": []
  }
 ],
 "metadata": {
  "kernelspec": {
   "display_name": "Python 3",
   "language": "python",
   "name": "python3"
  },
  "language_info": {
   "codemirror_mode": {
    "name": "ipython",
    "version": 3
   },
   "file_extension": ".py",
   "mimetype": "text/x-python",
   "name": "python",
   "nbconvert_exporter": "python",
   "pygments_lexer": "ipython3",
   "version": "3.8.3"
  }
 },
 "nbformat": 4,
 "nbformat_minor": 4
}
