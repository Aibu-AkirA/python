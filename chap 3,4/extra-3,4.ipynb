{
 "cells": [
  {
   "cell_type": "code",
   "execution_count": 2,
   "metadata": {},
   "outputs": [
    {
     "name": "stdout",
     "output_type": "stream",
     "text": [
      "0\n",
      "1\n",
      "2\n",
      "3\n",
      "4\n",
      "5\n",
      "6\n",
      "7\n",
      "8\n",
      "9\n"
     ]
    }
   ],
   "source": [
    "#問題1\n",
    "#for文を用いて1～10までの数を足して出力したい。\n",
    "#間違っている部分を直して正しく出力できるようにしてください。\n",
    "for i in range(10):\n",
    "    sum = 0\n",
    "    sum += i\n",
    "    print(sum)\n"
   ]
  },
  {
   "cell_type": "code",
   "execution_count": 4,
   "metadata": {},
   "outputs": [
    {
     "name": "stdout",
     "output_type": "stream",
     "text": [
      "[1, 2, 3, 4, 5]\n"
     ]
    }
   ],
   "source": [
    "#問題2\n",
    "#以下の文字列をint型のリストとして出力してください\n",
    "\n",
    "str = \"1 2 3 4 5\"\n",
    "str = str.split()\n",
    "str = list(map(int, str))\n",
    "print(str)"
   ]
  },
  {
   "cell_type": "code",
   "execution_count": 10,
   "metadata": {},
   "outputs": [
    {
     "name": "stdout",
     "output_type": "stream",
     "text": [
      "0 0\n",
      "1 1\n",
      "2 1\n",
      "3 2\n",
      "4 3\n",
      "5 5\n",
      "6 8\n",
      "7 13\n",
      "8 21\n",
      "9 34\n",
      "10 55\n",
      "11 89\n",
      "12 144\n",
      "13 233\n",
      "14 377\n",
      "15 610\n",
      "16 987\n",
      "17 1597\n",
      "18 2584\n",
      "19 4181\n",
      "20 6765\n"
     ]
    }
   ],
   "source": [
    "#問題3\n",
    "#0番目を0、1番目を1として、2番目以降の数は「2つ前の数と1つ前の数を足し合わせた数」になるようなリストを出力してください。\n",
    "#リストは、0～20番目を出力してください。\n",
    "#ヒント：こういう数列には名前がついてるよ\n",
    "def fiboacci(n):\n",
    "    if n <= 1:\n",
    "        return n\n",
    "    else:\n",
    "        return(fiboacci(n-1) + fiboacci(n-2))\n",
    "    \n",
    "for i in range(0,21):\n",
    "    print(i, fiboacci(i))"
   ]
  },
  {
   "cell_type": "code",
   "execution_count": 3,
   "metadata": {},
   "outputs": [
    {
     "name": "stdout",
     "output_type": "stream",
     "text": [
      "=== Menu ===\n",
      "いちごみるく\n",
      "ばななみるく\n",
      "めろんみるく\n"
     ]
    }
   ],
   "source": [
    "# ★の部分をかいて完成させてね\n",
    "# 商品リスト化\n",
    "item = {\"いちごみるく\", \"ばななみるく\",\"めろんみるく\"}\n",
    "\n",
    "# リストの中身出力\n",
    "print(\"=== Menu ===\")\n",
    "for i in item :\n",
    "    print(i)\n",
    "    "
   ]
  },
  {
   "cell_type": "code",
   "execution_count": 5,
   "metadata": {},
   "outputs": [
    {
     "name": "stdout",
     "output_type": "stream",
     "text": [
      "=== Menu ===\n",
      "ばななみるく 100円\n",
      "めろんみるく 100円\n",
      "いちごみるく 100円\n",
      "どの商品を買いますか？いちごみるく\n",
      "何個買いますか？3\n",
      "購入個数は、 3 個です。\n",
      "合計金額は 240 円です\n",
      "お金を入れてください300\n",
      "おつりは 60 円です。\n"
     ]
    }
   ],
   "source": [
    "#　★の部分をかいて完成させてね\n",
    "# 商品の名前は1番の問題と同じにしてください\n",
    "item = {\"いちごみるく 100円\", \"ばななみるく 100円\",\"めろんみるく 100円\"}\n",
    "\n",
    "print(\"=== Menu ===\")\n",
    "for i in item :\n",
    "    print(i)\n",
    "\n",
    "custmer = input(\"どの商品を買いますか？\")\n",
    "\n",
    "try:\n",
    "    if custmer in item:\n",
    "        print(\"あなたが買うのは、\", custmer ,\"ですね\")\n",
    "        \n",
    "except:\n",
    "    print(\"もう一度やり直してください\")\n",
    "else:\n",
    "    num = int(input(\"何個買いますか？\"))\n",
    "    print(\"購入個数は、\",num,\"個です。\")\n",
    "\n",
    "    def calc(price):\n",
    "\n",
    "        print(\"合計金額は\",price,\"円です\")\n",
    "        \n",
    "        cprice = int(input(\"お金を入れてください\"))\n",
    "\n",
    "        if cprice >= price :\n",
    "            change = cprice - price\n",
    "            print(\"おつりは\",change,\"円です。\")\n",
    "        elif cprice <= price :\n",
    "            print(\"お金が足りません\")\n",
    "\n",
    "    if num >= 2:\n",
    "        price = 80*num\n",
    "        calc(price)\n",
    "    elif  num == 1:\n",
    "        price = 100\n",
    "        calc(price)"
   ]
  },
  {
   "cell_type": "code",
   "execution_count": 1,
   "metadata": {},
   "outputs": [
    {
     "name": "stdout",
     "output_type": "stream",
     "text": [
      "=== Menu ===\n",
      "ばななみるく 100円\n",
      "めろんみるく 100円\n",
      "いちごみるく 100円\n",
      "どの商品を買いますか？いちごみるく\n",
      "もう一度やり直してください\n"
     ]
    }
   ],
   "source": [
    "#　★の部分をかいて完成させてね\n",
    "# 商品の名前は1番の問題と同じにしてください\n",
    "item = {\"いちごみるく 100円\", \"ばななみるく 100円\",\"めろんみるく 100円\"}\n",
    "\n",
    "print(\"=== Menu ===\")\n",
    "for i in item :\n",
    "    print(i)\n",
    "\n",
    "custmer = input(\"どの商品を買いますか？\")\n",
    "\n",
    "\n",
    "if custmer in item:\n",
    "    print(\"あなたが買うのは、\",custmer,\"ですね\")\n",
    "    num = int(input(\"何個買いますか？\"))\n",
    "    print(\"購入個数は、\",num,\"個です。\")\n",
    "\n",
    "    def calc(price):\n",
    "\n",
    "        print(\"合計金額は\",price,\"円です\")\n",
    "        \n",
    "        cprice = int(input(\"お金を入れてください\"))\n",
    "\n",
    "        if cprice >= price :\n",
    "            change = cprice - price\n",
    "            print(\"おつりは\",change,\"円です。\")\n",
    "        elif cprice <= price :\n",
    "            print(\"お金が足りません\")\n",
    "\n",
    "    if num >= 2:\n",
    "        price = 80*num\n",
    "        calc(price)\n",
    "    elif  num == 1:\n",
    "        price = 100\n",
    "        calc(price)\n",
    "\n",
    "        \n",
    "\n",
    "    print(\"もう一度やり直してください\")"
   ]
  },
  {
   "cell_type": "code",
   "execution_count": null,
   "metadata": {},
   "outputs": [],
   "source": []
  }
 ],
 "metadata": {
  "kernelspec": {
   "display_name": "Python 3",
   "language": "python",
   "name": "python3"
  },
  "language_info": {
   "codemirror_mode": {
    "name": "ipython",
    "version": 3
   },
   "file_extension": ".py",
   "mimetype": "text/x-python",
   "name": "python",
   "nbconvert_exporter": "python",
   "pygments_lexer": "ipython3",
   "version": "3.8.3"
  }
 },
 "nbformat": 4,
 "nbformat_minor": 4
}
