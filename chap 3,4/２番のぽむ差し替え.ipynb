{
 "cells": [
  {
   "cell_type": "markdown",
   "metadata": {},
   "source": [
    "##  エクストラぽむぽむ問題\n",
    "\n",
    "### 今回は簡単なレジシステムを作ってみよう\n",
    "※前回のぽむぽむ問題を解いてくれたらよりすんなりできます。\n",
    "\n",
    "### １．商品名を定義してみよう\n",
    ">javaでもやった配列を、pythonではリストって言ったりします。\n",
    "><br>よりつかいやすくシンプルになってるので遊んでみよう！\n",
    "\n",
    "商品名を3つ考えて、リストに入れてみよう。\n",
    "<br>※例はいちごみるく、ばななみるく、めろんみるく\n",
    "\n",
    "#### 以下実行結果\n",
    "=== Menu ===\n",
    "<br>いちごみるく\n",
    "<br>ばななみるく\n",
    "<br>めろんみるく"
   ]
  },
  {
   "cell_type": "code",
   "execution_count": 5,
   "metadata": {},
   "outputs": [
    {
     "name": "stdout",
     "output_type": "stream",
     "text": [
      "=== Menu ===\n",
      "いちごみるく\n",
      "ばななみるく\n",
      "めろんみるく\n"
     ]
    }
   ],
   "source": [
    "# ★の部分をかいて完成させてね\n",
    "# 商品リスト化\n",
    "item = #★\n",
    "\n",
    "# リストの中身出力\n",
    "print(\"=== Menu ===\")\n",
    "for #★ forの条件文と中身を考えてね\n",
    "    #★"
   ]
  },
  {
   "cell_type": "markdown",
   "metadata": {},
   "source": [
    "### ２．任意の商品を購入してみよう。\n",
    ">ここからはちょっと難しめ。一部出来たらすごいし、余裕があれば全部やってほしい！\n",
    "><br>解答の仕方がいくつかあるから、出力結果とエラー処理がちゃんとできていればおっけい◎\n",
    "\n",
    "キーボードからの入力で、商品リストの商品を買ってみよう。\n",
    "<br>★条件\n",
    "<br>・一律値段は100円\n",
    "<br>・二つ以上買ったら合計金額から20％引き\n",
    "<br>・金額が足りないときは「お金が足りません」と出力すること。\n",
    "\n",
    "#### 以下実行結果\n",
    "=== Menu ===\n",
    "<br>いちごみるく 100円\n",
    "<br>ばななみるく 100円\n",
    "<br>めろんみるく 100円\n",
    "<br>どの商品を買いますか？いちごみるく\n",
    "<br>あなたが買うのは、 いちごみるく ですね\n",
    "<br>何個買いますか？3\n",
    "<br>購入個数は、 3 個です。\n",
    "<br>合計金額は 240 円です\n",
    "<br>お金を入れてください300\n",
    "<br>おつりは 60 円です。"
   ]
  },
  {
   "cell_type": "code",
   "execution_count": 1,
   "metadata": {},
   "outputs": [
    {
     "ename": "SyntaxError",
     "evalue": "invalid syntax (<ipython-input-1-e46aa9ed6a7b>, line 3)",
     "output_type": "error",
     "traceback": [
      "\u001b[1;36m  File \u001b[1;32m\"<ipython-input-1-e46aa9ed6a7b>\"\u001b[1;36m, line \u001b[1;32m3\u001b[0m\n\u001b[1;33m    item = #★\u001b[0m\n\u001b[1;37m           ^\u001b[0m\n\u001b[1;31mSyntaxError\u001b[0m\u001b[1;31m:\u001b[0m invalid syntax\n"
     ]
    }
   ],
   "source": [
    "#　★の部分をかいて完成させてね\n",
    "# 商品の名前は1番の問題と同じにしてください\n",
    "item = #★\n",
    "\n",
    "print(\"=== Menu ===\")\n",
    "for #★\n",
    "    #★\n",
    "\n",
    "custmer = input(\"どの商品を買いますか？\")\n",
    "\n",
    "\n",
    "if #★\n",
    "    print(\"あなたが買うのは、\",★,\"ですね\")\n",
    "    num = #★\n",
    "    print(\"購入個数は、\",★,\"個です。\")\n",
    "\n",
    "    def calc(price):\n",
    "\n",
    "        print(\"合計金額は\",price,\"円です\")\n",
    "        \n",
    "        cprice = int(input(\"お金を入れてください\"))\n",
    "\n",
    "        if #★\n",
    "            change = cprice - price\n",
    "            print(\"おつりは\",change,\"円です。\")\n",
    "        elif #★\n",
    "            print(\"お金が足りません\")\n",
    "\n",
    "    if num >= 2:\n",
    "        price = #★\n",
    "        calc(price)\n",
    "    elif  num == 1:\n",
    "        price = 100\n",
    "        calc(price)\n",
    "\n",
    "        \n",
    "#★\n",
    "    print(\"もう一度やり直してください\")\n",
    "    "
   ]
  }
 ],
 "metadata": {
  "kernelspec": {
   "display_name": "Python 3",
   "language": "python",
   "name": "python3"
  },
  "language_info": {
   "codemirror_mode": {
    "name": "ipython",
    "version": 3
   },
   "file_extension": ".py",
   "mimetype": "text/x-python",
   "name": "python",
   "nbconvert_exporter": "python",
   "pygments_lexer": "ipython3",
   "version": "3.8.3"
  }
 },
 "nbformat": 4,
 "nbformat_minor": 4
}
