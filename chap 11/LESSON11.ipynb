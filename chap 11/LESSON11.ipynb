{
 "cells": [
  {
   "cell_type": "code",
   "execution_count": 5,
   "metadata": {},
   "outputs": [
    {
     "name": "stdout",
     "output_type": "stream",
     "text": [
      "('みかん', 80)\n",
      "('いちご', 60)\n",
      "('りんご', 22)\n",
      "('もも', 50)\n",
      "('くり', 75)\n"
     ]
    }
   ],
   "source": [
    "import sqlite3\n",
    "\n",
    "conn = sqlite3.connect(\"pdb.db\")\n",
    "\n",
    "c = conn.cursor()\n",
    "\n",
    "c.execute(\"DROP TABLE IF EXISTS product\")\n",
    "\n",
    "c.execute(\"CREATE TABLE product(name CHAR(20), num INT)\")\n",
    "c.execute(\"INSERT INTO product VALUES('みかん', 80)\")\n",
    "c.execute(\"INSERT INTO product VALUES('いちご', 60)\")\n",
    "c.execute(\"INSERT INTO product VALUES('りんご', 22)\")\n",
    "c.execute(\"INSERT INTO product VALUES('もも', 50)\")\n",
    "c.execute(\"INSERT INTO product VALUES('くり', 75)\")\n",
    "\n",
    "conn.commit()\n",
    "\n",
    "itr = c.execute(\"SELECT * FROM product\")\n",
    "\n",
    "for row in itr:\n",
    "    print(row)\n",
    "\n",
    "conn.close()"
   ]
  },
  {
   "cell_type": "code",
   "execution_count": 15,
   "metadata": {},
   "outputs": [
    {
     "name": "stdout",
     "output_type": "stream",
     "text": [
      "('りんご', 22)\n"
     ]
    }
   ],
   "source": [
    "import sqlite3\n",
    "\n",
    "conn = sqlite3.connect(\"pdb.db\")\n",
    "\n",
    "c = conn.cursor()\n",
    "\n",
    "c.execute(\"DROP TABLE IF EXISTS product\")\n",
    "\n",
    "c.execute(\"CREATE TABLE product(name CHAR(20), num INT)\")\n",
    "c.execute(\"INSERT INTO product VALUES('みかん', 80)\")\n",
    "c.execute(\"INSERT INTO product VALUES('いちご', 60)\")\n",
    "c.execute(\"INSERT INTO product VALUES('りんご', 22)\")\n",
    "c.execute(\"INSERT INTO product VALUES('もも', 50)\")\n",
    "c.execute(\"INSERT INTO product VALUES('くり', 75)\")\n",
    "\n",
    "\n",
    "conn.commit()\n",
    "\n",
    "itr = c.execute(\"SELECT * FROM product WHERE num <= 30\")\n",
    "for row in itr:\n",
    "    print(row)\n",
    "\n",
    "conn.close()"
   ]
  }
 ],
 "metadata": {
  "kernelspec": {
   "display_name": "Python 3",
   "language": "python",
   "name": "python3"
  },
  "language_info": {
   "codemirror_mode": {
    "name": "ipython",
    "version": 3
   },
   "file_extension": ".py",
   "mimetype": "text/x-python",
   "name": "python",
   "nbconvert_exporter": "python",
   "pygments_lexer": "ipython3",
   "version": "3.8.3"
  }
 },
 "nbformat": 4,
 "nbformat_minor": 4
}
