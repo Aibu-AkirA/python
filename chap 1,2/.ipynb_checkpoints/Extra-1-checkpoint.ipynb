{
 "cells": [
  {
   "cell_type": "code",
   "execution_count": 3,
   "metadata": {},
   "outputs": [
    {
     "name": "stdout",
     "output_type": "stream",
     "text": [
      "スペースを消したい\n"
     ]
    }
   ],
   "source": [
    "#エクストラがんばれ問題1\n",
    "# 下の出力からスペースを消して出力して下さい\n",
    "print(\"スペース\",\"を\",\"消したい\",sep='')"
   ]
  },
  {
   "cell_type": "code",
   "execution_count": 4,
   "metadata": {},
   "outputs": [
    {
     "name": "stdout",
     "output_type": "stream",
     "text": [
      "スペースを2つ消したい\n"
     ]
    }
   ],
   "source": [
    "#エクストラがんばれ問題2\n",
    "# numという変数は使ったままでスペースを使って出力してください\n",
    "num = 2\n",
    "print(\"スペースを\",num,\"つ消したい\",sep='')"
   ]
  },
  {
   "cell_type": "code",
   "execution_count": 4,
   "metadata": {},
   "outputs": [
    {
     "name": "stdout",
     "output_type": "stream",
     "text": [
      "●〇〇〇〇〇〇〇〇〇〇〇〇〇〇〇〇〇〇〇〇〇〇〇〇〇〇〇〇〇〇〇〇〇〇〇〇〇〇〇\n",
      "〇〇〇●〇〇〇〇〇〇〇〇〇〇〇〇〇〇〇〇〇〇〇〇〇〇〇〇〇〇〇〇〇〇〇〇〇〇〇〇\n",
      "〇〇〇〇〇〇●〇〇〇〇〇〇〇〇〇〇〇〇〇〇〇〇〇〇〇〇〇〇〇〇〇〇〇〇〇〇〇〇〇\n",
      "〇〇〇〇〇〇〇〇〇●〇〇〇〇〇〇〇〇〇〇〇〇〇〇〇〇〇〇〇〇〇〇〇〇〇〇〇〇〇〇\n",
      "〇〇〇〇〇〇〇〇〇〇〇〇●〇〇〇〇〇〇〇〇〇〇〇〇〇〇〇〇〇〇〇〇〇〇〇〇〇〇〇\n",
      "〇〇〇〇〇〇〇〇〇〇〇〇〇〇〇●〇〇〇〇〇〇〇〇〇〇〇〇〇〇〇〇〇〇〇〇〇〇〇〇\n",
      "〇〇〇〇〇〇〇〇〇〇〇〇〇〇〇〇〇〇●〇〇〇〇〇〇〇〇〇〇〇〇〇〇〇〇〇〇〇〇〇\n",
      "〇〇〇〇〇〇〇〇〇〇〇〇〇〇〇〇〇〇〇〇〇●〇〇〇〇〇〇〇〇〇〇〇〇〇〇〇〇〇〇\n",
      "〇〇〇〇〇〇〇〇〇〇〇〇〇〇〇〇〇〇〇〇〇〇〇〇●〇〇〇〇〇〇〇〇〇〇〇〇〇〇〇\n",
      "〇〇〇〇〇〇〇〇〇〇〇〇〇〇〇〇〇〇〇〇〇〇〇〇〇〇〇●〇〇〇〇〇〇〇〇〇〇〇〇\n",
      "〇〇〇〇〇〇〇〇〇〇〇〇〇〇〇〇〇〇〇〇〇〇〇〇〇〇〇〇〇〇●〇〇〇〇〇〇〇〇〇\n",
      "〇〇〇〇〇〇〇〇〇〇〇〇〇〇〇〇〇〇〇〇〇〇〇〇〇〇〇〇〇〇〇〇〇●〇〇〇〇〇〇\n",
      "〇〇〇〇〇〇〇〇〇〇〇〇〇〇〇〇〇〇〇〇〇〇〇〇〇〇〇〇〇〇〇〇〇〇〇〇●〇〇〇\n",
      "〇〇〇〇〇〇〇〇〇〇〇〇〇〇〇〇〇〇〇〇〇〇〇〇〇〇〇〇〇〇〇〇〇〇〇〇〇〇〇●\n",
      "〇〇〇〇〇〇〇〇〇〇〇〇〇〇〇〇〇〇〇〇〇〇〇〇〇〇〇〇〇〇〇〇〇〇〇〇〇〇〇〇\n",
      "〇〇〇〇〇〇〇〇〇〇〇〇〇〇〇〇〇〇〇〇〇〇〇〇〇〇〇〇〇〇〇〇〇〇〇〇〇〇〇〇\n",
      "〇〇〇〇〇〇〇〇〇〇〇〇〇〇〇〇〇〇〇〇〇〇〇〇〇〇〇〇〇〇〇〇〇〇〇〇〇〇〇〇\n",
      "〇〇〇〇〇〇〇〇〇〇〇〇〇〇〇〇〇〇〇〇〇〇〇〇〇〇〇〇〇〇〇〇〇〇〇〇〇〇〇〇\n",
      "〇〇〇〇〇〇〇〇〇〇〇〇〇〇〇〇〇〇〇〇〇〇〇〇〇〇〇〇〇〇〇〇〇〇〇〇〇〇〇〇\n",
      "〇〇〇〇〇〇〇〇〇〇〇〇〇〇〇〇〇〇〇〇〇〇〇〇〇〇〇〇〇〇〇〇〇〇〇〇〇〇〇〇\n"
     ]
    }
   ],
   "source": [
    "#エクストラがんばれ問題3\n",
    "#forループとif文をつかってy=x/3のグラフっぽいやつ書いてみよう\n",
    "#10×10より大きいサイズで\n",
    "#どこ書き換えてもいいよ\n",
    "\n",
    "for y in range(20):\n",
    "    for x in range(40):\n",
    "        if(y==x/3):\n",
    "            print(\"●\",end=\"\")\n",
    "        else:\n",
    "            print(\"〇\",end=\"\")\n",
    "    print()"
   ]
  },
  {
   "cell_type": "code",
   "execution_count": 6,
   "metadata": {},
   "outputs": [
    {
     "name": "stdout",
     "output_type": "stream",
     "text": [
      "hoge\n"
     ]
    }
   ],
   "source": [
    "##まず実行してみてね\n",
    "sample = input()"
   ]
  },
  {
   "cell_type": "code",
   "execution_count": 5,
   "metadata": {},
   "outputs": [
    {
     "name": "stdout",
     "output_type": "stream",
     "text": [
      "あなたの名前を教えてね:アキラ\n",
      "好きな曲を教えてね:月光花\n",
      "アキラは月光花が好きです\n"
     ]
    }
   ],
   "source": [
    "name = input(\"あなたの名前を教えてね:\")\n",
    "\n",
    "song = input(\"好きな曲を教えてね:\")\n",
    "\n",
    "print(name,\"は\",song,\"が好きです\",sep='')"
   ]
  },
  {
   "cell_type": "code",
   "execution_count": null,
   "metadata": {},
   "outputs": [],
   "source": [
    "# ★の部分だけをかいて完成させてね\n",
    "\n",
    "# １回目にあなたの好きな数字を入力したパターン\n",
    "# 2回目に工藤先生と入力したパターンでやってね\n",
    "for i in range(2) :\n",
    "    try:\n",
    "        number = int(input(\"好きな数字は？\"))\n",
    "    except:\n",
    "        print(\"エラー：数字で入力してください\")\n",
    "    else :\n",
    "        print(\"あなたの好きな数字は\",number,\"です\",sep='')\n",
    "        break"
   ]
  },
  {
   "cell_type": "code",
   "execution_count": null,
   "metadata": {},
   "outputs": [],
   "source": []
  }
 ],
 "metadata": {
  "kernelspec": {
   "display_name": "Python 3",
   "language": "python",
   "name": "python3"
  },
  "language_info": {
   "codemirror_mode": {
    "name": "ipython",
    "version": 3
   },
   "file_extension": ".py",
   "mimetype": "text/x-python",
   "name": "python",
   "nbconvert_exporter": "python",
   "pygments_lexer": "ipython3",
   "version": "3.8.3"
  }
 },
 "nbformat": 4,
 "nbformat_minor": 4
}
