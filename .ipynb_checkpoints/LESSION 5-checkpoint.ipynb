{
 "cells": [
  {
   "cell_type": "code",
   "execution_count": 4,
   "metadata": {},
   "outputs": [
    {
     "name": "stdout",
     "output_type": "stream",
     "text": [
      "テストの点は [74, 85, 69, 77, 81] です。\n",
      "最後店は 85 です。\n",
      "最低店は 69 です。\n",
      "平均点 77.2 です。\n"
     ]
    }
   ],
   "source": [
    "test = [74, 85, 69, 77, 81]\n",
    "print(\"テストの点は\", test ,\"です。\")\n",
    "print(\"最後店は\",max(test),\"です。\")\n",
    "print(\"最低店は\",min(test),\"です。\")\n",
    "print(\"平均点\",sum(test)/len(test),\"です。\")"
   ]
  },
  {
   "cell_type": "code",
   "execution_count": 7,
   "metadata": {},
   "outputs": [
    {
     "name": "stdout",
     "output_type": "stream",
     "text": [
      "テストの点は [74, 85, 69, 77, 81] です。\n",
      "昇順 [69, 74, 77, 81, 85] です。\n",
      "降順 [85, 81, 77, 74, 69] です。\n"
     ]
    }
   ],
   "source": [
    "test = [74, 85, 69, 77, 81]\n",
    "print(\"テストの点は\", test ,\"です。\")\n",
    "test.sort()\n",
    "print(\"昇順\",test,\"です。\")\n",
    "test.reverse()\n",
    "print(\"降順\",test,\"です。\")"
   ]
  },
  {
   "cell_type": "code",
   "execution_count": 16,
   "metadata": {},
   "outputs": [
    {
     "name": "stdout",
     "output_type": "stream",
     "text": [
      "テストの点は [74, 85, 69, 77, 81] です。\n",
      "80点以上は [85, 81] です。\n",
      "80点以上の人 2 人です。\n"
     ]
    }
   ],
   "source": [
    "test = [74, 85, 69, 77, 81]\n",
    "print(\"テストの点は\", test ,\"です。\")\n",
    "test80 = [i for i in test if i >=80]\n",
    "print(\"80点以上は\",test80,\"です。\")\n",
    "print(\"80点以上の人\",len(test80),\"人です。\")\n"
   ]
  },
  {
   "cell_type": "code",
   "execution_count": 19,
   "metadata": {},
   "outputs": [
    {
     "name": "stdout",
     "output_type": "stream",
     "text": [
      "都市名データは ['東京', '名古屋', '大阪', '京都', '福岡'] です。\n",
      "最高気温データは [32, 28, 27, 26, 27] です。\n",
      "最低気温データは [25, 21, 20, 19, 22] です。\n",
      "東京 の最高気温は 32 最低気温は 25 です。\n",
      "名古屋 の最高気温は 28 最低気温は 21 です。\n",
      "大阪 の最高気温は 27 最低気温は 20 です。\n",
      "京都 の最高気温は 26 最低気温は 19 です。\n",
      "福岡 の最高気温は 27 最低気温は 22 です。\n"
     ]
    }
   ],
   "source": [
    "city=[\"東京\",\"名古屋\",\"大阪\",\"京都\",\"福岡\"]\n",
    "maxtem=[32,28,27,26,27]\n",
    "mintem=[25,21,20,19,22]\n",
    "print(\"都市名データは\",city,\"です。\")\n",
    "print(\"最高気温データは\",maxtem,\"です。\")\n",
    "print(\"最低気温データは\",mintem,\"です。\")\n",
    "for c, xt, nt in zip(city, maxtem, mintem):\n",
    "    print(c,\"の最高気温は\", xt, \"最低気温は\", nt, \"です。\")"
   ]
  },
  {
   "cell_type": "code",
   "execution_count": null,
   "metadata": {},
   "outputs": [],
   "source": []
  }
 ],
 "metadata": {
  "kernelspec": {
   "display_name": "Python 3",
   "language": "python",
   "name": "python3"
  },
  "language_info": {
   "codemirror_mode": {
    "name": "ipython",
    "version": 3
   },
   "file_extension": ".py",
   "mimetype": "text/x-python",
   "name": "python",
   "nbconvert_exporter": "python",
   "pygments_lexer": "ipython3",
   "version": "3.8.3"
  }
 },
 "nbformat": 4,
 "nbformat_minor": 4
}
