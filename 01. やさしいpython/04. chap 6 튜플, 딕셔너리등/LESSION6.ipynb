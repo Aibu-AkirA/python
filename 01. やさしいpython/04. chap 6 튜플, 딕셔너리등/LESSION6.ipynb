{
 "cells": [
  {
   "cell_type": "code",
   "execution_count": 1,
   "metadata": {},
   "outputs": [],
   "source": [
    "# a = 5\n",
    "# b = 4\n",
    "# c = 3\n",
    "# d = 1,2"
   ]
  },
  {
   "cell_type": "code",
   "execution_count": null,
   "metadata": {},
   "outputs": [],
   "source": [
    "#1. ないキーは呼ばれません。\n",
    "#2. tulpeは直せません。\n",
    "#3. 配列は0から始まるのでdata[0]からdata[4]まであります。data[5]はありません。\n",
    "#4. dictionaryはキーと値両方がないともらえません。"
   ]
  }
 ],
 "metadata": {
  "kernelspec": {
   "display_name": "Python 3",
   "language": "python",
   "name": "python3"
  },
  "language_info": {
   "codemirror_mode": {
    "name": "ipython",
    "version": 3
   },
   "file_extension": ".py",
   "mimetype": "text/x-python",
   "name": "python",
   "nbconvert_exporter": "python",
   "pygments_lexer": "ipython3",
   "version": "3.8.3"
  }
 },
 "nbformat": 4,
 "nbformat_minor": 4
}
