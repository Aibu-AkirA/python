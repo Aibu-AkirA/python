{
 "cells": [
  {
   "cell_type": "code",
   "execution_count": 13,
   "metadata": {},
   "outputs": [
    {
     "name": "stdout",
     "output_type": "stream",
     "text": [
      "ファイルのリストは以下です。\n",
      "Sample.csv\n",
      "Sample.exe\n",
      "Sample1.py\n",
      "Sample2.py\n",
      "Sample.txt\n",
      "index.html\n",
      "拡張子を入力してください。py\n",
      "該当するファイルのリストは以下です。\n",
      "Sample1.py\n",
      "Sample2.py\n"
     ]
    }
   ],
   "source": [
    "import re\n",
    "fileList = [\"Sample.csv\", \"Sample.exe\", \"Sample1.py\", \"Sample2.py\", \"Sample.txt\", \"index.html\"]\n",
    "\n",
    "def checkExt(ext, fileList):\n",
    "    for i in range(len(fileList)):\n",
    "        if re.search(\".\"+ext, fileList[i]):\n",
    "            print(fileList[i])\n",
    "\n",
    "print(\"ファイルのリストは以下です。\")\n",
    "for i in fileList:\n",
    "    print(i)\n",
    "ext=input(\"拡張子を入力してください。\")\n",
    "print(\"該当するファイルのリストは以下です。\")\n",
    "checkExt(ext, fileList)"
   ]
  },
  {
   "cell_type": "code",
   "execution_count": 14,
   "metadata": {},
   "outputs": [],
   "source": [
    "#問題2\n",
    "#1.x  2.o  3.x  4.x  5.o  6.x  7.x  8.o"
   ]
  },
  {
   "cell_type": "code",
   "execution_count": null,
   "metadata": {},
   "outputs": [],
   "source": [
    "#問題3\n",
    "#1.^[0-7]{3}$\n",
    "#2.^[0-9]{3}-[0-9]{4}-[0-9]{4}$ "
   ]
  }
 ],
 "metadata": {
  "kernelspec": {
   "display_name": "Python 3",
   "language": "python",
   "name": "python3"
  },
  "language_info": {
   "codemirror_mode": {
    "name": "ipython",
    "version": 3
   },
   "file_extension": ".py",
   "mimetype": "text/x-python",
   "name": "python",
   "nbconvert_exporter": "python",
   "pygments_lexer": "ipython3",
   "version": "3.8.3"
  }
 },
 "nbformat": 4,
 "nbformat_minor": 4
}
