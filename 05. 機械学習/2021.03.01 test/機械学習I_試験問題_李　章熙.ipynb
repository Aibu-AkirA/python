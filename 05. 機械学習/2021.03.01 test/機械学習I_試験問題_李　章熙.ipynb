{
 "cells": [
  {
   "cell_type": "markdown",
   "metadata": {},
   "source": [
    "# 機械学習I　試験問題・解答用紙\n",
    "\n",
    "### 注意事項\n",
    "* ノートブック名（画面の上部に表示されている）を編集し、\"氏名\"を自分の名前に変えること\n",
    "* 解答は実行結果も表示された状態でHTML出力すること  \n",
    "* SNS、Yahoo!知恵袋等のQAサービスは利用しないこと"
   ]
  },
  {
   "cell_type": "markdown",
   "metadata": {
    "courseId": 2010,
    "exerciseId": "S1pKhUjUlG",
    "id": "code_session_name",
    "important": true,
    "isDL": false,
    "timeoutSecs": 5
   },
   "source": [
    "## 1\n",
    "混同行列について示した下図の（1）～（4）に当てはまる語句と、その説明文として適切な文章の番号を答えなさい。  \n",
    "<img src=\".\\fig_1.png\" width=\"400\" alt=\"混同行列\">\n",
    "**説明文**  \n",
    "１．陽性クラスと予測され、結果も陽性クラスであった個数  \n",
    "２．陰性クラスと予測され、結果も陰性クラスであった個数  \n",
    "３．陽性クラスと予測されたが、結果は陰性クラスであった個数  \n",
    "４．陰性クラスと予測されたが、結果は陽性クラスであった個数"
   ]
  },
  {
   "cell_type": "markdown",
   "metadata": {},
   "source": [
    "答：  \n",
    "* 図中の（１）～（４）に当てはまる語句  \n",
    "    * （１）  真陽性 Ture Positive\n",
    "    * （２）  偽陽性 False Negative\n",
    "    * （３）  真陰性 False Positive\n",
    "    * （４）  偽陰性 Ture Negative\n",
    "* 図中の（１）～（４）の説明文として適切な文章の番号  \n",
    "    * （１）  1\n",
    "    * （２）  3\n",
    "    * （３）  2\n",
    "    * （４）  4"
   ]
  },
  {
   "cell_type": "markdown",
   "metadata": {
    "courseId": 2010,
    "exerciseId": "S1pKhUjUlG",
    "id": "code_session_name",
    "important": true,
    "isDL": false,
    "timeoutSecs": 5
   },
   "source": [
    "## 2\n",
    "以下の正解データと予測データについての適合率、再現率、F値を計算するプログラムを完成させなさい。  \n",
    "なお、データは1が陽性、0が陰性とする。  \n",
    "* 正解データ： **`[0,0,1,1,0,1,1,1,0,1,0,1]`**  \n",
    "* 予測データ： **`[0,0,0,0,0,0,1,1,1,1,1,1]`**"
   ]
  },
  {
   "cell_type": "code",
   "execution_count": 2,
   "metadata": {},
   "outputs": [
    {
     "name": "stdout",
     "output_type": "stream",
     "text": [
      "適合率: 0.667\n",
      "再現率: 0.571\n",
      "F値: 0.615\n"
     ]
    }
   ],
   "source": [
    "from sklearn.metrics import precision_score\n",
    "from sklearn.metrics import recall_score, f1_score\n",
    "from sklearn.metrics import confusion_matrix\n",
    "\n",
    "# 正解データをy_true、予測データをy_predに代入する\n",
    "y_true = [0,0,1,1,0,1,1,1,0,1,0,1]\n",
    "y_pred = [0,0,0,0,0,0,1,1,1,1,1,1]\n",
    "\n",
    "con = confusion_matrix(y_true, y_pred)[:, ::-1][::-1]\n",
    "\n",
    "# 適合率をprecisionに代入する\n",
    "precision = con[0][0] / ( con[1][0] + con[0][0] )\n",
    "\n",
    "# 再現率をrecallに代入する\n",
    "recall = con[0][0] / ( con[0][1] + con[0][0] )\n",
    "\n",
    "# F値をf1_scoreに代入する\n",
    "f1_score = 2 * (precision*recall) / (precision+recall)\n",
    "\n",
    "print(\"適合率: %.3f\" % precision)\n",
    "print(\"再現率: %.3f\" % recall)\n",
    "print(\"F値: %.3f\" % f1_score)"
   ]
  },
  {
   "cell_type": "markdown",
   "metadata": {},
   "source": [
    "## 3\n",
    "以下の処理を行うプログラムを完成させなさい。\n",
    "* numpy.arange関数を用いて、2から10までの偶数を要素とするndarray配列を生成し、変数np_data1に代入する\n",
    "* numpy.arange関数を用いて、1から9までの奇数を要素とするndarray配列を生成し、変数np_data2に代入する\n",
    "* np_data1とnp_data2の各要素の差を計算し、変数np_data3に代入する"
   ]
  },
  {
   "cell_type": "code",
   "execution_count": 3,
   "metadata": {},
   "outputs": [
    {
     "name": "stdout",
     "output_type": "stream",
     "text": [
      "===== np_data1 ====\n",
      "[ 2  4  6  8 10]\n",
      "===== np_data2 ====\n",
      "[1 3 5 7 9]\n",
      "===== np_data3 ====\n",
      "[1 1 1 1 1]\n"
     ]
    }
   ],
   "source": [
    "import numpy as np\n",
    "\n",
    "# numpy.arange関数を用いて、2から10までの偶数を要素とするndarray配列を生成し、変数np_data1に代入する\n",
    "np_data1 = np.arange(2,11,2)\n",
    "\n",
    "# numpy.arange関数を用いて、1から9までの奇数を要素とするndarray配列を生成し、変数np_data2に代入する\n",
    "np_data2 = np.arange(1,10,2)\n",
    "\n",
    "# np_data1とnp_data2の各要素の差を計算し、変数np_data3に代入する\n",
    "np_data3 = np_data1-np_data2\n",
    "\n",
    "# 出力\n",
    "print(\"===== np_data1 ====\")\n",
    "print(np_data1)\n",
    "print(\"===== np_data2 ====\")\n",
    "print(np_data2)\n",
    "print(\"===== np_data3 ====\")\n",
    "print(np_data3)\n"
   ]
  },
  {
   "cell_type": "markdown",
   "metadata": {},
   "source": [
    "## 4\n",
    "以下に示す要素を持つndarray配列をそれぞれ作成しなさい。  \n",
    "* 0以上1未満の一様乱数の要素10個を持つndarray配列\n",
    "* ガウス分布(正規分布)に従う乱数の要素5個を持つndarray配列、ただしnumpy.random.normal()を使用すること\n",
    "* 各要素が1以上20未満の整数の乱数である4×3の行列"
   ]
  },
  {
   "cell_type": "code",
   "execution_count": null,
   "metadata": {},
   "outputs": [],
   "source": [
    "import numpy as np\n",
    "\n",
    "np.random.seed(1)\n",
    "# 0以上1未満の一様乱数の要素10個を持つndarray配列\n",
    "arr1 = np.random.randint(0,1,10)\n",
    "\n",
    "np.random.seed(1)\n",
    "# ガウス分布(正規分布)に従う乱数の要素5個を持つndarray配列、ただしnumpy.random.normal()を使用すること\n",
    "arr2 = np.random.normal(size=5)\n",
    "\n",
    "np.random.seed(1)\n",
    "# 各要素が1以上20未満の整数の乱数である4×3の行列\n",
    "arr3 = randint(0,20, (4, 3))\n",
    "\n",
    "# 出力\n",
    "print(\"===== arr1 ====\")\n",
    "print(arr1)\n",
    "print(\"===== arr2 ====\")\n",
    "print(arr2)\n",
    "print(\"===== arr3 ====\")\n",
    "print(arr3)"
   ]
  },
  {
   "cell_type": "markdown",
   "metadata": {},
   "source": [
    "## 5\n",
    "2次元配列arr = \n",
    "$\n",
    "\\left[\\begin{array}{c}\n",
    "           [1 & 2 & 3 & 4] \\\\\n",
    "           [5 & 6 & 7 & 8] \\\\\n",
    "           [9 & 10 & 11 & 12] \\\\\n",
    "        \\end{array}\\right]\n",
    "$について、以下の処理を行うプログラムを完成させなさい。  \n",
    "\n",
    "* 変数arrの要素のうち6を出力\n",
    "* 変数arrの要素のうち4列目を出力\n",
    "* 変数arrから以下を部分的に取り出し出力  \n",
    "**\\[ \\[5 6 7\\]**  \n",
    "**\\[9 10 11\\] \\]**\n"
   ]
  },
  {
   "cell_type": "code",
   "execution_count": 7,
   "metadata": {},
   "outputs": [
    {
     "name": "stdout",
     "output_type": "stream",
     "text": [
      "=== arr ===\n",
      "[[ 1  2  3  4]\n",
      " [ 5  6  7  8]\n",
      " [ 9 10 11 12]]\n",
      "=== 6の要素 ===\n",
      "6\n",
      "=== arrの4列目 ===\n",
      "[[ 4]\n",
      " [ 8]\n",
      " [12]]\n",
      "=== arrの一部 ===\n",
      "[[ 5  6  7]\n",
      " [ 9 10 11]]\n"
     ]
    }
   ],
   "source": [
    "import numpy as np\n",
    "\n",
    "arr = np.array([[1, 2, 3, 4], [5, 6, 7, 8], [9, 10, 11, 12]])\n",
    "print(\"=== arr ===\")\n",
    "print(arr)\n",
    "\n",
    "# 変数arrの要素のうち6を出力\n",
    "print(\"=== 6の要素 ===\")\n",
    "print(arr[1][1])\n",
    "\n",
    "# 変数arrの要素のうち4列目を出力\n",
    "print(\"=== arrの4列目 ===\")\n",
    "print(arr[:4,3:])\n",
    "\n",
    "# 変数arrから[[5,6,7], [9,10,11]]を部分的に取り出して出力\n",
    "print(\"=== arrの一部 ===\")\n",
    "print(arr[1:, :3])"
   ]
  },
  {
   "cell_type": "markdown",
   "metadata": {},
   "source": [
    "## 6\n",
    "変数arrについて、以下の処理を行うプログラムを完成させなさい。  \n",
    "* 列方向(縦方向)の合計値を出力\n",
    "* 行方向(横方向)にソートして出力（ただし、numpy.sort()関数を使用すること）\n",
    "* 行方向(横方向)にソートしたときの要素のインデックスを出力"
   ]
  },
  {
   "cell_type": "code",
   "execution_count": 8,
   "metadata": {},
   "outputs": [
    {
     "name": "stdout",
     "output_type": "stream",
     "text": [
      "=== arr ===\n",
      "[[5 0 3 7]\n",
      " [9 3 2 4]\n",
      " [7 6 8 1]]\n",
      "=== 列方向の合計 ===\n",
      "[21  9 13 12]\n",
      "=== 行方向(横方向)にソート ===\n",
      "[15 18 22]\n",
      "=== 行方向(横方向)にソートしたときの要素のインデックス ===\n",
      "[[1 2 3]\n",
      " [2 1 1]\n",
      " [0 3 0]\n",
      " [3 0 2]]\n"
     ]
    }
   ],
   "source": [
    "import numpy as np\n",
    "\n",
    "arr = np.array([[5, 0, 3, 7], [9, 3, 2, 4], [7, 6, 8, 1]])\n",
    "\n",
    "# arrの列方向の合計値を求める\n",
    "ans1 = (arr.sum(axis=0))\n",
    "\n",
    "# 行方向(横方向)にソートして出力（ただし、numpy.sort()関数を使用すること）\n",
    "ans2 = (arr.sum(axis=1))\n",
    "\n",
    "# 行方向(横方向)にソートしたときの要素のインデックスを出力\n",
    "ans3 = (arr.argsort().T)\n",
    "\n",
    "# 出力\n",
    "print(\"=== arr ===\")\n",
    "print(arr)\n",
    "print(\"=== 列方向の合計 ===\")\n",
    "print(ans1)\n",
    "print(\"=== 行方向(横方向)にソート ===\")\n",
    "print(ans2)\n",
    "print(\"=== 行方向(横方向)にソートしたときの要素のインデックス ===\")\n",
    "print(ans3)\n"
   ]
  },
  {
   "cell_type": "markdown",
   "metadata": {},
   "source": [
    "## 7\n",
    "変数arrについて以下の統計量の計算を行うプログラムを完成させなさい。。  \n",
    "* 行ごとの平均\n",
    "* 列ごとの最小値の要素のインデックス\n",
    "* 列ごとの最大値の要素のインデックス"
   ]
  },
  {
   "cell_type": "code",
   "execution_count": 9,
   "metadata": {},
   "outputs": [
    {
     "name": "stdout",
     "output_type": "stream",
     "text": [
      "=== arr ===\n",
      "[[5 0 3 7]\n",
      " [9 3 2 4]\n",
      " [7 6 8 1]]\n",
      "=== 行ごとの平均 ===\n",
      "[3.75 4.5  5.5 ]\n",
      "=== 列ごとの最小値の要素のインデックス ===\n",
      "[5 0 2 1]\n",
      "=== 列ごとの最大値の要素のインデックス ===\n",
      "[9 6 8 7]\n"
     ]
    }
   ],
   "source": [
    "import numpy as np\n",
    "\n",
    "arr = np.array([[5, 0, 3, 7], [9, 3, 2, 4], [7, 6, 8, 1]])\n",
    "\n",
    "# 行ごとの平均を出力\n",
    "ans1 = arr.mean(axis=1)\n",
    "\n",
    "# 列ごとの最小値の要素のインデックスを出力\n",
    "ans2 = arr.min(axis=0)\n",
    "\n",
    "# 列ごとの最大値の要素のインデックスを出力\n",
    "ans3 = arr.max(axis=0)\n",
    "\n",
    "# 出力\n",
    "print(\"=== arr ===\")\n",
    "print(arr)\n",
    "print(\"=== 行ごとの平均 ===\")\n",
    "print(ans1)\n",
    "print(\"=== 列ごとの最小値の要素のインデックス ===\")\n",
    "print(ans2)\n",
    "print(\"=== 列ごとの最大値の要素のインデックス ===\")\n",
    "print(ans3)\n"
   ]
  },
  {
   "cell_type": "markdown",
   "metadata": {},
   "source": [
    "## 8\n",
    "以下の処理を行うプログラムを完成させなさい。\n",
    "* 以下の要素を持つディクショナリ型変数dic_dataを生成し、dic_dataを用いてSeries型変数a_seriesを作成  \n",
    "    * 「\"Sapporo\":1955, \"Asahikawa\":337, \"Hakodate\":259, \"Tomakomai\":172, \"Kushiro\":170」\n",
    "* インデックス参照（スライス）を用いて、a_seriesの2つ目から4つ目までの3つの要素（\"Asahikawa\":337, \"Hakodate\":259, \"Tomakomai\":172）を取り出す\n",
    "* インデックス値を指定する方法を用いて、a_seriesの\"Asahikawa\"、\"Kushiro\"のインデックスを持つ要素を取り出す"
   ]
  },
  {
   "cell_type": "code",
   "execution_count": 14,
   "metadata": {},
   "outputs": [
    {
     "name": "stdout",
     "output_type": "stream",
     "text": [
      "=== arr ===\n",
      "Sapporo      1955\n",
      "Asahikawa     337\n",
      "Hakodate      259\n",
      "Tomakomai     172\n",
      "Kushiro       170\n",
      "dtype: int64\n",
      "=== items1 ===\n",
      "Asahikawa    337\n",
      "Hakodate     259\n",
      "Tomakomai    172\n",
      "Kushiro      170\n",
      "dtype: int64\n",
      "=== items2 ===\n",
      "Asahikawa    337\n",
      "Kushiro      170\n",
      "dtype: int64\n"
     ]
    }
   ],
   "source": [
    "import pandas as pd\n",
    "\n",
    "# ディクショナリ型変数dic_dataを生成\n",
    "dic_data = {\"Sapporo\":1955, \"Asahikawa\":337, \"Hakodate\":259, \"Tomakomai\":172, \"Kushiro\":170}\n",
    "\n",
    "# dic_dataを用いてSeriesを生成し、a_seriesに代入\n",
    "a_series = pd.Series(dic_data)\n",
    "\n",
    "# インデックス参照を用いてa_seriesの2つ目から4つ目までの3つの要素を取り出す\n",
    "items1 = a_series[1:5]\n",
    "\n",
    "# インデックス値を指定する方法を用いて\"Asahikawa\"、\"Kushiro\"のインデックスを持つ要素を取り出す\n",
    "items2 = a_series[[\"Asahikawa\",\"Kushiro\"]]\n",
    "\n",
    "# 出力\n",
    "print(\"=== arr ===\")\n",
    "print(a_series)\n",
    "print(\"=== items1 ===\")\n",
    "print(items1)\n",
    "print(\"=== items2 ===\")\n",
    "print(items2)"
   ]
  },
  {
   "cell_type": "markdown",
   "metadata": {},
   "source": [
    "## 9\n",
    "以下の処理を行うプログラムを完成させなさい。\n",
    "\n",
    "* a_seriesに以下のインデックスと値の要素を追加  \n",
    "    * インデックス：\"Obihiro\", \"Ebetsu\"\n",
    "    * 値：167, 119\n",
    "* 要素追加後のa_seriesから、インデックス\"Asahikawa\"の要素を削除し、a_series2に代入\n",
    "* a_series2内の要素のうち、値が170以上260未満の要素をa_series3に代入"
   ]
  },
  {
   "cell_type": "code",
   "execution_count": 15,
   "metadata": {},
   "outputs": [
    {
     "name": "stdout",
     "output_type": "stream",
     "text": [
      "=== 要素追加後のa_series ===\n",
      "Sapporo      1955\n",
      "Asahikawa     337\n",
      "Hakodate      260\n",
      "Tomakomai     172\n",
      "Kushiro       170\n",
      "Obihiro       167\n",
      "Ebetsu        119\n",
      "dtype: int64\n",
      "=== a_series2 ===\n",
      "Sapporo      1955\n",
      "Hakodate      260\n",
      "Tomakomai     172\n",
      "Kushiro       170\n",
      "Obihiro       167\n",
      "Ebetsu        119\n",
      "dtype: int64\n",
      "=== a_series3 ===\n",
      "Tomakomai    172\n",
      "Kushiro      170\n",
      "dtype: int64\n"
     ]
    }
   ],
   "source": [
    "import pandas as pd\n",
    "\n",
    "index = [\"Sapporo\", \"Asahikawa\", \"Hakodate\", \"Tomakomai\", \"Kushiro\"]\n",
    "data = [1955, 337, 260, 172, 170]\n",
    "a_series = pd.Series(data, index=index)\n",
    "\n",
    "# a_seriesに、インデックスが「\"Obihiro\", \"Ebetsu\"」、値が「167, 119」の要素を追加\n",
    "\n",
    "a_series = a_series.append(pd.Series({\"Obihiro\": 167, \"Ebetsu\":119}))\n",
    "\n",
    "# 要素追加後のa_seriesから、インデックス\"Asahikawa\"の要素を削除し、a_series2に代入\n",
    "a_series2 = a_series.drop(\"Asahikawa\")\n",
    "\n",
    "# a_series2内の要素のうち、値が170以上260未満の要素を出力\n",
    "a_series3 = a_series2[a_series2>=170][a_series2<260]\n",
    "\n",
    "# 出力\n",
    "print(\"=== 要素追加後のa_series ===\")\n",
    "print(a_series)\n",
    "# 要素削除後のa_seriesを出力\n",
    "print(\"=== a_series2 ===\")\n",
    "print(a_series2)\n",
    "print(\"=== a_series3 ===\")\n",
    "print(a_series3)"
   ]
  },
  {
   "cell_type": "markdown",
   "metadata": {},
   "source": [
    "## 10\n",
    "以下の処理を行うプログラムを完成させなさい。\n",
    "* series1、series2 からDataFrameを生成しdfに代入\n",
    "* dfに新しい行としてadd_seriesを追加\n",
    "* add_series追加後のdfに新しい列\"Obihiro\"を追加する。追加する列の値はadd_listとする"
   ]
  },
  {
   "cell_type": "code",
   "execution_count": 16,
   "metadata": {},
   "outputs": [
    {
     "name": "stdout",
     "output_type": "stream",
     "text": [
      "=== df ===\n",
      "   Sapporo  Asahikawa  Hakodate  Tomakomai  Kushiro\n",
      "0     1955        337       260        172      170\n",
      "1      100        204       202        213      206\n",
      "=== 新しい行追加後 ===\n",
      "   Sapporo  Asahikawa  Hakodate  Tomakomai  Kushiro\n",
      "0     1955        337       260        172      170\n",
      "1      100        204       202        213      206\n",
      "2        2          1         5          1        8\n",
      "=== Obihiro列追加後 ===\n",
      "   Sapporo  Asahikawa  Hakodate  Tomakomai  Kushiro  Obihiro\n",
      "0     1955        337       260        172      170      167\n",
      "1      100        204       202        213      206      207\n",
      "2        2          1         5          1        8        6\n"
     ]
    }
   ],
   "source": [
    "import numpy as np\n",
    "import pandas as pd\n",
    "\n",
    "columns = [\"Sapporo\", \"Asahikawa\", \"Hakodate\", \"Tomakomai\", \"Kushiro\"]\n",
    "data1 = [1955, 337, 260, 172, 170]\n",
    "data2 = [100, 204, 202, 213, 206]\n",
    "series1 = pd.Series(data1, index=index)\n",
    "series2 = pd.Series(data2, index=index)\n",
    "\n",
    "# series1, series2からDataFrameを生成しdfに代入\n",
    "df = pd.DataFrame([series1,series2])\n",
    "\n",
    "print(\"=== df ===\")\n",
    "print(df)\n",
    "\n",
    "# dfと同じインデックスを持つSeries型変数add_series\n",
    "add_series = pd.Series([2, 1, 5, 1, 8], index=columns)\n",
    "\n",
    "# dfに新しい行としてadd_series追加\n",
    "df = df.append(add_series, ignore_index=True)\n",
    "\n",
    "print(\"=== 新しい行追加後 ===\")\n",
    "print(df)\n",
    "\n",
    "# List型変数add_list\n",
    "add_list = [167, 207, 6]\n",
    "\n",
    "# dfに新しい列として\"Obihiro\"追加\n",
    "\n",
    "df[\"Obihiro\"] = add_list\n",
    "\n",
    "\n",
    "print(\"=== Obihiro列追加後 ===\")\n",
    "print(df)"
   ]
  },
  {
   "cell_type": "markdown",
   "metadata": {},
   "source": [
    "## 11\n",
    "DataFrame型の変数dfに対して、以下の処理を行うプログラムを完成させなさい。\n",
    "* loc\\[ \\]を使ってすべての行の\"Asahikawa\"列と\"Tomakomai\"列を取得\n",
    "* iloc\\[ \\]を使ってすべての行の\"Asahikawa\"列と\"Tomakomai\"列を取得\n",
    "* iloc\\[ \\]を使って1行目と3行目の\"Hakodate\"列と\"Kushiro\"列を取得"
   ]
  },
  {
   "cell_type": "code",
   "execution_count": 20,
   "metadata": {},
   "outputs": [
    {
     "name": "stdout",
     "output_type": "stream",
     "text": [
      "=== df ===\n",
      "     Sapporo  Asahikawa  Hakodate  Tomakomai  Kushiro\n",
      "101        6          4         6          8        9\n",
      "102        1          8         3          7        2\n",
      "103        4          4         5          9        7\n",
      "=== loc[ ]を使ってすべての行の\"Asahikawa\"列と\"Tomakomai\"列 ===\n",
      "     Asahikawa  Tomakomai\n",
      "101          4          8\n",
      "102          8          7\n",
      "103          4          9\n",
      "=== iloc[ ]を使ってすべての行の\"Asahikawa\"列と\"Tomakomai\"列 ===\n",
      "     Asahikawa  Tomakomai\n",
      "101          4          8\n",
      "102          8          7\n",
      "103          4          9\n",
      "=== 1行目と3行目の\"Hakodate\"列と\"Kushiro\"列 ===\n",
      "     Hakodate  Kushiro\n",
      "101         6        9\n",
      "102         3        2\n",
      "103         5        7\n"
     ]
    }
   ],
   "source": [
    "import numpy as np\n",
    "import pandas as pd\n",
    "\n",
    "\n",
    "np.random.seed(0)\n",
    "columns = [\"Sapporo\", \"Asahikawa\", \"Hakodate\", \"Tomakomai\", \"Kushiro\"]\n",
    "df = pd.DataFrame()\n",
    "for column in columns:\n",
    "    df[column] = np.random.choice(range(1, 10), 3)\n",
    "df.index = range(101, 104)\n",
    "print(\"=== df ===\")\n",
    "print(df)\n",
    "\n",
    "# loc[ ]を使ってすべての行の\"Asahikawa\"列と\"Tomakomai\"列を取得\n",
    "df1 = df.loc[:,[\"Asahikawa\",\"Tomakomai\"]]\n",
    "\n",
    "print(\"=== loc[ ]を使ってすべての行の\\\"Asahikawa\\\"列と\\\"Tomakomai\\\"列 ===\")\n",
    "print(df1)\n",
    "\n",
    "# iloc[ ]を使ってすべての行の\"Asahikawa\"列と\"Tomakomai\"列を取得\n",
    "df2 = df.iloc[:,[1, 3]]\n",
    "\n",
    "print(\"=== iloc[ ]を使ってすべての行の\\\"Asahikawa\\\"列と\\\"Tomakomai\\\"列 ===\")\n",
    "print(df2)\n",
    "\n",
    "# 1行目と3行目の\"Hakodate\"列と\"Kushiro\"列を取得\n",
    "df3 = df.iloc[0:3,[2, 4]]\n",
    "\n",
    "print(\"=== 1行目と3行目の\\\"Hakodate\\\"列と\\\"Kushiro\\\"列 ===\")\n",
    "print(df3)\n"
   ]
  },
  {
   "cell_type": "markdown",
   "metadata": {},
   "source": [
    "## 12\n",
    "DataFrame型の変数df内の要素のうち、以下の条件を満たす要素をそれぞれ取得するプログラムを完成させなさい。\n",
    "* \"Sapporo\"列が10以上\n",
    "* \"Hakodate\"列が偶数\n",
    "* インデックスが奇数"
   ]
  },
  {
   "cell_type": "code",
   "execution_count": 21,
   "metadata": {},
   "outputs": [
    {
     "name": "stdout",
     "output_type": "stream",
     "text": [
      "=== df ===\n",
      "     Sapporo  Asahikawa  Hakodate  Tomakomai  Kushiro\n",
      "101       13         28        22         25        7\n",
      "102       16          4        19         25        8\n",
      "103       22          8         5         13       24\n",
      "104        1         10        24         27       15\n",
      "105        4         20         7          2       25\n",
      "=== \"Sapporo\"列が10以上 ===\n",
      "     Sapporo  Asahikawa  Hakodate  Tomakomai  Kushiro\n",
      "101       13         28        22         25        7\n",
      "102       16          4        19         25        8\n",
      "103       22          8         5         13       24\n",
      "=== \"Hakodate\"列が偶数 ===\n",
      "     Sapporo  Asahikawa  Hakodate  Tomakomai  Kushiro\n",
      "101       13         28        22         25        7\n",
      "104        1         10        24         27       15\n",
      "=== インデックスが奇数 ===\n",
      "     Sapporo  Asahikawa  Hakodate  Tomakomai  Kushiro\n",
      "101       13         28        22         25        7\n",
      "103       22          8         5         13       24\n",
      "105        4         20         7          2       25\n"
     ]
    }
   ],
   "source": [
    "import numpy as np\n",
    "import pandas as pd\n",
    "\n",
    "np.random.seed(0)\n",
    "columns = [\"Sapporo\", \"Asahikawa\", \"Hakodate\", \"Tomakomai\", \"Kushiro\"]\n",
    "df = pd.DataFrame()\n",
    "for column in columns:\n",
    "    df[column] = np.random.choice(range(1, 30), 5)\n",
    "df.index = range(101, 106)\n",
    "print(\"=== df ===\")\n",
    "print(df)\n",
    "\n",
    "# \"Sapporo\"列が10以上\n",
    "df1 = df.loc[df[\"Sapporo\"] >= 10]\n",
    "\n",
    "# \"Hakodate\"列が偶数\n",
    "df2 = df.loc[df[\"Hakodate\"] % 2 ==0]\n",
    "\n",
    "# インデックスが奇数\n",
    "df3 = df.loc[df.index % 2 !=0]\n",
    "\n",
    "#出力\n",
    "print(\"=== \\\"Sapporo\\\"列が10以上 ===\")\n",
    "print(df1)\n",
    "print(\"=== \\\"Hakodate\\\"列が偶数 ===\")\n",
    "print(df2)\n",
    "print(\"=== インデックスが奇数 ===\")\n",
    "print(df3)\n"
   ]
  },
  {
   "cell_type": "markdown",
   "metadata": {},
   "source": [
    "## 13\n",
    "DataFrame型の変数df_data1とdf_data2に対して、以下の処理を行うプログラムを完成させなさい。\n",
    "* 縦方向に連結し、df1に代入\n",
    "* 横方向に連結し、df2に代入"
   ]
  },
  {
   "cell_type": "code",
   "execution_count": 22,
   "metadata": {},
   "outputs": [
    {
     "name": "stdout",
     "output_type": "stream",
     "text": [
      "==== 縦方向の連結 ====\n",
      "   Sapporo  Asahikawa\n",
      "1     1995        337\n",
      "2      100        204\n",
      "1       13         28\n",
      "2       16          4\n",
      "==== 横方向の連結 ====\n",
      "   Sapporo  Asahikawa  Sapporo  Asahikawa\n",
      "1     1995        337       13         28\n",
      "2      100        204       16          4\n"
     ]
    }
   ],
   "source": [
    "import numpy as np\n",
    "import pandas as pd\n",
    "\n",
    "index = [1,2]\n",
    "## 1つめのDataFrame\n",
    "data1 = {\"Sapporo\": [1995, 100], \"Asahikawa\": [337, 204]}\n",
    "df_data1 = pd.DataFrame(data1)\n",
    "df_data1.index = index\n",
    "## 2つめのDataFrame\n",
    "data2 = {\"Sapporo\": [13, 16], \"Asahikawa\": [28, 4]}\n",
    "df_data2 = pd.DataFrame(data2)\n",
    "df_data2.index = index\n",
    "\n",
    "# df_data1とdf_data2を縦方向に連結\n",
    "df1 = pd.concat([df_data1, df_data2], axis = 0)\n",
    "\n",
    "# df_data1とdf_data2を横方向に連結\n",
    "df2 = pd.concat([df_data1, df_data2], axis = 1)\n",
    "\n",
    "# 出力\n",
    "print(\"==== 縦方向の連結 ====\")\n",
    "print(df1)\n",
    "print(\"==== 横方向の連結 ====\")\n",
    "print(df2)"
   ]
  },
  {
   "cell_type": "markdown",
   "metadata": {},
   "source": [
    "## 14\n",
    "DataFrame型の変数df_data1とdf_data2に対して、以下の処理を行うプログラムを完成させなさい。\n",
    "* df_data1は\"X\"、df_data2は\"Y\"のラベルを追加して横方向に連結し、dfに代入\n",
    "* dfの\"X\"ラベルのデータをXに代入\n",
    "* dfの\"Y\"ラベルの\"Sapporo\"をY_sapporoに代入"
   ]
  },
  {
   "cell_type": "code",
   "execution_count": 25,
   "metadata": {},
   "outputs": [
    {
     "name": "stdout",
     "output_type": "stream",
     "text": [
      "==== df ====\n",
      "        X                 Y          \n",
      "  Sapporo Asahikawa Sapporo Asahikawa\n",
      "1    1995       337      13        28\n",
      "2     100       204      16         4\n",
      "==== X ====\n",
      "   Sapporo  Asahikawa\n",
      "1     1995        337\n",
      "2      100        204\n",
      "==== Y_sapporo ====\n",
      "1    13\n",
      "2    16\n",
      "Name: (Y, Sapporo), dtype: int64\n"
     ]
    }
   ],
   "source": [
    "import numpy as np\n",
    "import pandas as pd\n",
    "\n",
    "index = [1,2]\n",
    "## 1つめのDataFrame\n",
    "data1 = {\"Sapporo\": [1995, 100], \"Asahikawa\": [337, 204]}\n",
    "df_data1 = pd.DataFrame(data1)\n",
    "df_data1.index = index\n",
    "## 2つめのDataFrame\n",
    "data2 = {\"Sapporo\": [13, 16], \"Asahikawa\": [28, 4]}\n",
    "df_data2 = pd.DataFrame(data2)\n",
    "df_data2.index = index\n",
    "\n",
    "# df_data1とdf_data2を横方向に連結\n",
    "# その際、df_data1は\"X\"、df_data2は\"Y\"のラベルを追加してdfに代入\n",
    "df = pd.concat([df_data1, df_data2], axis = 1, keys=[\"X\",\"Y\"])\n",
    "\n",
    "#  dfの\"X\"ラベルのデータをXに代入\n",
    "X = df[\"X\"]\n",
    "\n",
    "#  dfの\"Y\"ラベルの\"Sapporo\"をY_sapporoに代入\n",
    "Y_sapporo = df[\"Y\", \"Sapporo\"]\n",
    "\n",
    "# 出力\n",
    "print(\"==== df ====\")\n",
    "print(df)\n",
    "print(\"==== X ====\")\n",
    "print(X)\n",
    "print(\"==== Y_sapporo ====\")\n",
    "print(Y_sapporo)"
   ]
  },
  {
   "cell_type": "markdown",
   "metadata": {},
   "source": [
    "## 15\n",
    "* DataFrame型の変数df1、df2、df3に対して、以下の処理を行うプログラムを完成させなさい。\n",
    "    * df1とdf2について、カラム\"fruits\"をKeyに内部結合しdf_m1に代入\n",
    "    * df1とdf2について、カラム\"fruits\"をKeyに外部結合しdf_m2に代入\n",
    "    * df1とdf3について、df1のfruitsとdf3のfruits_nameをKeyにして内部結合しdf_m3に代入"
   ]
  },
  {
   "cell_type": "code",
   "execution_count": 27,
   "metadata": {},
   "outputs": [
    {
     "name": "stdout",
     "output_type": "stream",
     "text": [
      "=== df_m1 ===\n",
      "   fruits  amount  year  price\n",
      "0   apple     100  2010     80\n",
      "1  banana      25  2019    300\n",
      "=== df_m2 ===\n",
      "   fruits  amount    year   price\n",
      "0   apple   100.0  2010.0    80.0\n",
      "1  orange    54.0  2015.0     NaN\n",
      "2  banana    25.0  2019.0   300.0\n",
      "3   grape     NaN     NaN  1000.0\n",
      "=== df_m3 ===\n",
      "   fruits  amount  year fruits_name  sales\n",
      "0   apple     100  2010       apple     80\n",
      "1  orange      54  2015      orange     25\n"
     ]
    }
   ],
   "source": [
    "import numpy as np\n",
    "import pandas as pd\n",
    "\n",
    "## 1つめのDataFrame\n",
    "data1 = {\"fruits\": [\"apple\", \"orange\", \"banana\"],\n",
    "         \"amount\": [100, 54, 25],\n",
    "         \"year\": [2010, 2015, 2019]}\n",
    "df1 = pd.DataFrame(data1)\n",
    "## 2つめのDataFrame\n",
    "data2 = {\"fruits\": [\"apple\", \"banana\", \"grape\"],\n",
    "         \"price\": [80, 300, 1000]}\n",
    "df2 = pd.DataFrame(data2)\n",
    "## 3つめのDataFrame\n",
    "data3 = {\"fruits_name\": [\"apple\", \"orange\", \"mango\"],\n",
    "         \"sales\": [80, 25, 11]}\n",
    "df3 = pd.DataFrame(data3)\n",
    "\n",
    "## df1とdf2について、カラム\"fruits\"をKeyに内部結合しdf_m1に代入\n",
    "df_m1 = pd.merge(df1, df2, on=\"fruits\", how=\"inner\")\n",
    "\n",
    "## df1とdf2について、カラム\"fruits\"をKeyに外部結合しdf_m2に代入\n",
    "df_m2 = pd.merge(df1, df2, on=\"fruits\", how=\"outer\")\n",
    "\n",
    "## df1とdf3について、df1のfruitsとdf3のfruits_nameをKeyにして内部結合しdf_m3に代入\n",
    "df_m3 =  pd.merge(df1, df3, left_on=\"fruits\",right_on=\"fruits_name\" , how=\"inner\")\n",
    "\n",
    "# 出力\n",
    "print(\"=== df_m1 ===\")\n",
    "print(df_m1)\n",
    "print(\"=== df_m2 ===\")\n",
    "print(df_m2)\n",
    "print(\"=== df_m3 ===\")\n",
    "print(df_m3)"
   ]
  },
  {
   "cell_type": "markdown",
   "metadata": {},
   "source": [
    "## 16\n",
    "* DataFrame型の変数dfについて、以下の処理を行うプログラムを完成させなさい。\n",
    "    * Numpyの関数を用いてdfの列単位での合計を計算しdf_sumsに代入\n",
    "    * DataFrame型の変数dfの要約統計量を取り出してdf_desに代入\n",
    "    * 要約統計量のうち、平均値と最大値を取り出してdf_meanmaxに代入"
   ]
  },
  {
   "cell_type": "code",
   "execution_count": 1,
   "metadata": {},
   "outputs": [
    {
     "name": "stdout",
     "output_type": "stream",
     "text": [
      "=== df ===\n",
      "   apple  orange  banana\n",
      "1     47      15      22\n",
      "2     22      25      17\n",
      "3     18      10      16\n",
      "4     19      26      35\n",
      "5     21      11      30\n",
      "=== df_sums ===\n",
      "apple     127\n",
      "orange     87\n",
      "banana    120\n",
      "dtype: int64\n",
      "=== df_des ===\n",
      "           apple     orange     banana\n",
      "count   5.000000   5.000000   5.000000\n",
      "mean   25.400000  17.400000  24.000000\n",
      "std    12.177849   7.635444   8.276473\n",
      "min    18.000000  10.000000  16.000000\n",
      "25%    19.000000  11.000000  17.000000\n",
      "50%    21.000000  15.000000  22.000000\n",
      "75%    22.000000  25.000000  30.000000\n",
      "max    47.000000  26.000000  35.000000\n",
      "=== df_meanmax ===\n",
      "      apple  orange  banana\n",
      "mean   25.4    17.4    24.0\n",
      "max    47.0    26.0    35.0\n"
     ]
    }
   ],
   "source": [
    "import numpy as np\n",
    "import pandas as pd\n",
    "import math\n",
    "\n",
    "np.random.seed(1)\n",
    "# DataFrame（df）を生成\n",
    "columns = [\"apple\", \"orange\", \"banana\"]\n",
    "df = pd.DataFrame()\n",
    "for column in columns:\n",
    "    df[column] = np.random.choice(range(10, 50), 5)\n",
    "df.index = range(1, 6)\n",
    "\n",
    "# 列単位の合計の計算\n",
    "df_sums = np.sum(df)\n",
    "\n",
    "# dfの要約統計量を出力する\n",
    "df_des = df.describe()\n",
    "\n",
    "# dfの要約統計量のうち、平均値と最大値を取り出してdf_minmaxに代入する\n",
    "df_meanmax = df.describe().loc[[\"mean\", \"max\"]]\n",
    "\n",
    "\n",
    "# 出力\n",
    "print(\"=== df ===\")\n",
    "print(df)\n",
    "print(\"=== df_sums ===\")\n",
    "print(df_sums)\n",
    "print(\"=== df_des ===\")\n",
    "print(df_des)\n",
    "print(\"=== df_meanmax ===\")\n",
    "print(df_meanmax)"
   ]
  },
  {
   "cell_type": "markdown",
   "metadata": {},
   "source": [
    "## 17\n",
    "以下の処理を行うプログラムを完成させなさい。\n",
    "* 日時を表す文字列sをdatetimeオブジェクトに変換し、xに代入\n",
    "* 10時間23分45秒を表すtimedeltaオブジェクトを作成し、yに代入\n",
    "* xにyの時間を加えたdatetimeオブジェクトをzに代入"
   ]
  },
  {
   "cell_type": "code",
   "execution_count": 7,
   "metadata": {},
   "outputs": [
    {
     "name": "stdout",
     "output_type": "stream",
     "text": [
      "==== x ====\n",
      "2020-02-01 20:30:40\n",
      "==== y ====\n",
      "10:23:45\n",
      "==== z ====\n",
      "2020-02-02 06:54:25\n"
     ]
    }
   ],
   "source": [
    "import datetime as dt\n",
    "\n",
    "# 日時を表す文字列\n",
    "s = \"2020-2-1 20:30:40\"\n",
    "\n",
    "# sをdatetimeオブジェクトに変換しxに代入\n",
    "x = dt.datetime.strptime(s, \"%Y-%m-%d %H:%M:%S\")\n",
    "\n",
    "# 10時間23分45秒を表すtimedeltaオブジェクトを作成し、yに代入\n",
    "y = dt.timedelta(hours=10, minutes=23, seconds =45)\n",
    "\n",
    "# xにyの時間を加えたdatetimeオブジェクトをzに代入\n",
    "z = x + y\n",
    "\n",
    "# 出力\n",
    "print(\"==== x ====\")\n",
    "print(x)\n",
    "print(\"==== y ====\")\n",
    "print(y)\n",
    "print(\"==== z ====\")\n",
    "print(z)"
   ]
  },
  {
   "cell_type": "markdown",
   "metadata": {},
   "source": [
    "## 18\n",
    "縦1行×横2列のグラフレイアウトを作成し、以下の設定で折れ線グラフをプロットするグラフを完成させなさい。\n",
    "* グラフレイアウトの設定\n",
    "    * 図が表示される領域の大きさは横9インチ×縦4インチになるように設定する\n",
    "    * 2つのグラフが重ならないように、サブプロット間を縦横ともに0.4の割合で空ける\n",
    "* 左側のグラフ\n",
    "    * x軸のデータはx1、y軸のデータはy1を使用する\n",
    "    * y軸の表示範囲を「5～30」とする\n",
    "    * グリッドを表示する\n",
    "    * 線のスタイルを破線、線の色を赤に設定する\n",
    "    * マーカーを円、マーカーの色を黒に設定する\n",
    "* 右側のグラフ\n",
    "    * x軸のデータはnp.linspace()を利用し、 $-\\pi$ から $\\pi$ の範囲で50個のデータを用意し、x2に代入する\n",
    "    * y軸のデータは y2=sin(x2) としてy2に代入する\n",
    "    * x軸の目盛りは、$[-\\pi, -\\frac{1}{2}\\pi, 0, \\frac{1}{2}\\pi, \\pi]$ の位置にそれぞれ \\[ -180°、-90°、0°、90°、180°\\] と表示する\n",
    "    * グラフのタイトルは「y=sin(x)」と表示する\n",
    "    * x軸は\"X\"、y軸は\"Y\"と表示する"
   ]
  },
  {
   "cell_type": "code",
   "execution_count": 29,
   "metadata": {},
   "outputs": [
    {
     "data": {
      "image/png": "[encoded data removed]",
      "text/plain": [
       "<Figure size 648x288 with 2 Axes>"
      ]
     },
     "metadata": {
      "needs_background": "light"
     },
     "output_type": "display_data"
    }
   ],
   "source": [
    "import matplotlib.pyplot as plt\n",
    "import numpy as np\n",
    "%matplotlib inline\n",
    "\n",
    "# 図が表示される領域の大きさを横9インチ×縦4インチになるように設定\n",
    "fig = plt.figure(figsize=(9, 4))\n",
    "\n",
    "# サブプロット同士が重ならないように設定する\n",
    "plt.subplots_adjust(wspace=0.4, hspace=0.4)\n",
    "\n",
    "\n",
    "# 左側のグラフ用のサブプロットを生成\n",
    "ax = fig.add_subplot(1,2,1)\n",
    "\n",
    "# 左側グラフ用データ\n",
    "# X軸データ\n",
    "x1 = np.arange(1, 13)   \n",
    "# Y軸データ\n",
    "y1 =  [-1, 0, 4, 12, 17, 22, 25, 26, 22, 16, 9, 2]\n",
    "\n",
    "# Y軸の表示範囲を5～30とする\n",
    "plt.ylim([5, 30])\n",
    "\n",
    "# サブプロットaxのグラフにグリッドを表示する\n",
    "ax.grid(True)\n",
    "\n",
    "# データx1,y1をグラフにプロット\n",
    "# 線のスタイルを破線、線の色を赤に設定\n",
    "# マーカーを円、マーカーの色を黒に設定\n",
    "plt.plot(x1, y1, 'ro--', mfc=\"k\", mec=\"k\")\n",
    "\n",
    "\n",
    "# 右側のグラフ用のサブプロットを生成する\n",
    "ax = fig.add_subplot(1,2,2)\n",
    "\n",
    "# X軸データはnp.linspace()を利用し-pi～piの範囲で50個用意する\n",
    "x2 = np.linspace(-np.pi, np.pi, 50)\n",
    "\n",
    "# Y軸データはy2=sin(x2)となるよう生成する\n",
    "y2 = np.sin(x2*2)\n",
    "\n",
    "# X軸用の目盛りの位置をリストで用意する\n",
    "positions = [-np.pi,-1/2*np.pi,0, 1/2*np.pi, np.pi]\n",
    "\n",
    "# X軸用の目盛りの表示文字列をリストで用意する\n",
    "labels = [\"-180°\",\"-90°\",\"0°\",\"90°\",\"180°\"]\n",
    "\n",
    "# サブプロットaxのグラフのタイトルを設定する\n",
    "ax.grid(True)\n",
    "\n",
    "# サブプロットaxのグラフのx軸、y軸に名前を設定する\n",
    "ax.set_xlabel(\"x\")\n",
    "ax.set_ylabel(\"y\")\n",
    "\n",
    "# サブプロットaxのグラフのx軸に目盛りを設定する\n",
    "ax.set_xticks(positions)\n",
    "ax.set_xticklabels(labels)\n",
    "\n",
    "# データx2,y2をグラフにプロットし、表示する\n",
    "ax.plot(x2, y2)\n",
    "\n",
    "plt.show()\n"
   ]
  },
  {
   "cell_type": "markdown",
   "metadata": {},
   "source": [
    "## 19\n",
    "以下の条件でヒストグラムを作成するプログラムを完成させなさい。  \n",
    "\n",
    "* データは正規分布に従う乱数2000個とする\n",
    "* ビン数は10とする\n",
    "* グラフは正規化を行う（normed=Trueは使用しないこと）"
   ]
  },
  {
   "cell_type": "code",
   "execution_count": 30,
   "metadata": {},
   "outputs": [
    {
     "data": {
      "image/png": "[encoded data removed]",
      "text/plain": [
       "<Figure size 432x288 with 1 Axes>"
      ]
     },
     "metadata": {
      "needs_background": "light"
     },
     "output_type": "display_data"
    }
   ],
   "source": [
    "import numpy as np\n",
    "import matplotlib.pyplot as plt\n",
    "%matplotlib inline\n",
    "\n",
    "np.random.seed(0)\n",
    "\n",
    "# 正規分布に従う乱数を2000個生成\n",
    "data = np.random.randn(2000)\n",
    "\n",
    "# ビン数10の正規化されたヒストグラムを作成する\n",
    "plt.hist(data, bins=10)\n",
    "\n",
    "plt.show()"
   ]
  },
  {
   "cell_type": "markdown",
   "metadata": {},
   "source": [
    "## 20\n",
    "以下の条件で散布図を作成するプログラムを完成させなさい。  \n",
    "\n",
    "* x軸のデータ、y軸のデータとも、0～49までの整数から重複を許してランダムに選択した200個のデータとする\n",
    "* マーカーの濃さを表現するデータzを、0～49までの整数から重複を許してランダムに選択した200個のデータとする\n",
    "* マーカーの色は赤系統とする\n",
    "* カラーバーを表示する"
   ]
  },
  {
   "cell_type": "code",
   "execution_count": 49,
   "metadata": {},
   "outputs": [
    {
     "data": {
      "image/png": "[encoded data removed]",
      "text/plain": [
       "<Figure size 432x288 with 2 Axes>"
      ]
     },
     "metadata": {
      "needs_background": "light"
     },
     "output_type": "display_data"
    }
   ],
   "source": [
    "import numpy as np\n",
    "import matplotlib.pyplot as plt\n",
    "%matplotlib inline\n",
    "\n",
    "np.random.seed(0)\n",
    "\n",
    "# x軸、y軸データを作成\n",
    "# (0～49までの整数から重複を許してランダムに選択した200個のデータ)\n",
    "x = np.random.choice(np.arange(0, 50), 200)\n",
    "y = np.random.choice(np.arange(0, 50), 200)\n",
    "\n",
    "# マーカーの濃さを表現するデータを作成\n",
    "# (0～49までの整数から重複を許してランダムに選択した200個のデータ)\n",
    "z = np.random.choice(np.arange(0, 50), 200)\n",
    "\n",
    "# 散布図を作成\n",
    "# zの値に応じて、マーカーの濃さが赤系統で変わるようにプロット\n",
    "plt.scatter(x, y, c=z, cmap='Reds')\n",
    "\n",
    "# カラーバーを表示\n",
    "plt.colorbar()\n",
    "\n",
    "plt.show()"
   ]
  },
  {
   "cell_type": "code",
   "execution_count": null,
   "metadata": {},
   "outputs": [],
   "source": []
  }
 ],
 "metadata": {
  "kernelspec": {
   "display_name": "Python 3",
   "language": "python",
   "name": "python3"
  },
  "language_info": {
   "codemirror_mode": {
    "name": "ipython",
    "version": 3
   },
   "file_extension": ".py",
   "mimetype": "text/x-python",
   "name": "python",
   "nbconvert_exporter": "python",
   "pygments_lexer": "ipython3",
   "version": "3.8.3"
  },
  "varInspector": {
   "cols": {
    "lenName": 16,
    "lenType": 16,
    "lenVar": 40
   },
   "kernels_config": {
    "python": {
     "delete_cmd_postfix": "",
     "delete_cmd_prefix": "del ",
     "library": "var_list.py",
     "varRefreshCmd": "print(var_dic_list())"
    },
    "r": {
     "delete_cmd_postfix": ") ",
     "delete_cmd_prefix": "rm(",
     "library": "var_list.r",
     "varRefreshCmd": "cat(var_dic_list()) "
    }
   },
   "types_to_exclude": [
    "module",
    "function",
    "builtin_function_or_method",
    "instance",
    "_Feature"
   ],
   "window_display": false
  }
 },
 "nbformat": 4,
 "nbformat_minor": 2
}
