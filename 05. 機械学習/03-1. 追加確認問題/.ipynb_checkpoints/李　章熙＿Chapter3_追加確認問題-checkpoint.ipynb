{
 "cells": [
  {
   "cell_type": "markdown",
   "metadata": {
    "chapterId": "HJIGOAX-xbM",
    "id": "chapter_name"
   },
   "source": [
    "# Chapter3 性能評価指標"
   ]
  },
  {
   "cell_type": "markdown",
   "metadata": {
    "courseId": 2010,
    "exerciseId": "S1pKhUjUlG",
    "id": "code_session_name",
    "important": true,
    "isDL": false,
    "timeoutSecs": 5
   },
   "source": [
    "### 3-1\n",
    "混同行列について示した下図の（1）～（4）に当てはまる語句を答えなさい。  \n",
    "（参考：3.1.1　混同行列を理解する）\n",
    "<img src=\".\\fig_3-1.png\" width=\"400\" alt=\"混同行列\">"
   ]
  },
  {
   "cell_type": "markdown",
   "metadata": {},
   "source": [
    "答：（１）  真陽性 Ture Positive<br>\n",
    "　　（２）  偽陽性 False Negative<br>\n",
    "　　（３）  真陰性 False Positive<br>\n",
    "　　（４）  偽陰性 Ture Negative<br>"
   ]
  },
  {
   "cell_type": "markdown",
   "metadata": {
    "courseId": 2010,
    "exerciseId": "S1pKhUjUlG",
    "id": "code_session_name",
    "important": true,
    "isDL": false,
    "timeoutSecs": 5
   },
   "source": [
    "### 3-2\n",
    "混同行列の各分類についての説明文として適切なものを、以下の選択肢から選びなさい。  \n",
    "（参考：3.1.1　混同行列を理解する）\n",
    "\n",
    "１．陽性クラスと予測され、結果も陽性クラスであった個数  \n",
    "２．陰性クラスと予測され、結果も陰性クラスであった個数  \n",
    "３．陽性クラスと予測されたが、結果は陰性クラスであった個数  \n",
    "４．陰性クラスと予測されたが、結果は陽性クラスであった個数"
   ]
  },
  {
   "cell_type": "markdown",
   "metadata": {},
   "source": [
    "答：（真陽性）  1<br>\n",
    "　　（偽陽性）  3<br>\n",
    "　　（真陰性）  2<br>\n",
    "　　（偽陰性）  4<br>"
   ]
  },
  {
   "cell_type": "markdown",
   "metadata": {
    "courseId": 2010,
    "exerciseId": "S1pKhUjUlG",
    "id": "code_session_name",
    "important": true,
    "isDL": false,
    "timeoutSecs": 5
   },
   "source": [
    "### 3-3\n",
    "以下の正解データと予測データについての混同行列を出力するプログラムを完成させなさい。  \n",
    "なお、データは0が陽性、1が陰性とする。  \n",
    "（参考：3.1.2 混同行列を実装する）\n",
    "* 正解データ： **`[0,0,0,0,1,1,1,1,0,1,1,1]`**  \n",
    "* 予測データ： **`[0,0,0,0,0,0,1,1,1,1,1,1]`**\n"
   ]
  },
  {
   "cell_type": "code",
   "execution_count": 28,
   "metadata": {
    "id": "index"
   },
   "outputs": [
    {
     "name": "stdout",
     "output_type": "stream",
     "text": [
      "[[4 1]\n",
      " [2 5]]\n"
     ]
    }
   ],
   "source": [
    "import numpy\n",
    "from sklearn.metrics import confusion_matrix\n",
    "\n",
    "# 正解データをy_true、予測データをy_predに代入する\n",
    "y_true = [0,0,0,0,1,1,1,1,0,1,1,1]\n",
    "y_pred = [0,0,0,0,0,0,1,1,1,1,1,1]\n",
    "\n",
    "# 変数confmatにy_trueとy_predの混同行列を代入する\n",
    "confmat = confusion_matrix(y_true, y_pred)\n",
    "\n",
    "# 結果を出力します\n",
    "print(confmat)"
   ]
  },
  {
   "cell_type": "markdown",
   "metadata": {
    "courseId": 2010,
    "exerciseId": "S1pKhUjUlG",
    "id": "code_session_name",
    "important": true,
    "isDL": false,
    "timeoutSecs": 5
   },
   "source": [
    "### 3-4\n",
    "以下の正解データと予測データについての混同行列を出力するプログラムを完成させなさい。  \n",
    "なお、データは **1が陽性、0が陰性** とする。  \n",
    "（参考：3.1.2 混同行列を実装する）\n",
    "* 正解データ： **`[0,0,0,0,1,1,1,1,0,1,1,1]`**  \n",
    "* 予測データ： **`[0,0,0,0,0,0,1,1,1,1,1,1]`**\n",
    "\n",
    "\n",
    "* ヒント  \n",
    "confusion_matrix()関数は、デフォルトで各軸の項目は値の昇順で並ぶ。   \n",
    "混同行列は陽性を上側（左側）に配置するのが基本なので、1が陽性、0が陰性を表す場合、  \n",
    "引数として **`labels=[最初に表示する値, 2番目に表示する値, ...]`**   \n",
    "を用いて、項目の並ぶ順を変更する必要がある。  "
   ]
  },
  {
   "cell_type": "code",
   "execution_count": 24,
   "metadata": {
    "id": "index"
   },
   "outputs": [
    {
     "name": "stdout",
     "output_type": "stream",
     "text": [
      "[[5 2]\n",
      " [1 4]]\n"
     ]
    }
   ],
   "source": [
    "import numpy\n",
    "from sklearn.metrics import confusion_matrix\n",
    "\n",
    "# 正解データをy_true、予測データをy_predに代入する\n",
    "y_true = [0,0,0,0,1,1,1,1,0,1,1,1]\n",
    "y_pred = [0,0,0,0,0,0,1,1,1,1,1,1]\n",
    "\n",
    "# 変数confmatにy_trueとy_predの混同行列を代入する\n",
    "confmat = confusion_matrix(y_true, y_pred)[:, ::-1][::-1]\n",
    "\n",
    "# 結果を出力します\n",
    "print(confmat)"
   ]
  },
  {
   "cell_type": "markdown",
   "metadata": {},
   "source": [
    "### 3-5  \n",
    "下記の正解率の計算式の表現を参考にして、適合率と再現率の計算式を表しなさい。  \n",
    "（参考：3.1.4 F値）\n",
    "\n",
    "　正解率 = （TP＋TN）／（FP＋FN＋TP＋TN）"
   ]
  },
  {
   "cell_type": "markdown",
   "metadata": {},
   "source": [
    "答：適合率＝  TP / ( FP + TP )<br>\n",
    "　　再現率＝  TP / ( FN + TP )"
   ]
  },
  {
   "cell_type": "markdown",
   "metadata": {},
   "source": [
    "### 3-6  \n",
    "下記の正解率の計算式の表現を参考にして、適合率と再現率の計算式を表しなさい。  \n",
    "（参考：3.1.4 F値）\n",
    "\n",
    "　正解率 = （真陽性＋真陰性）／（偽陽性＋偽陰性＋真陽性＋真陰性）"
   ]
  },
  {
   "cell_type": "markdown",
   "metadata": {},
   "source": [
    "答：適合率＝  真陽性 / (偽陽性 + 真陽性)<br>\n",
    "　　再現率＝  真陽性 / (偽陰性 + 真陽性)"
   ]
  },
  {
   "cell_type": "markdown",
   "metadata": {},
   "source": [
    "### 3-7  \n",
    "F値に関する以下の式の（ア）、（イ）に当てはまる語句を答えなさい。  \n",
    "（参考：3.1.4 F値）\n",
    "\n",
    "$$\n",
    "F値 = 2 \\times \\frac{（ア） \\times （イ）}{（ア） + （イ）}\n",
    "$$\n"
   ]
  },
  {
   "cell_type": "markdown",
   "metadata": {},
   "source": [
    "答：（ア）＝  適合率<br>\n",
    "　　（イ）＝  再現率"
   ]
  },
  {
   "cell_type": "markdown",
   "metadata": {
    "courseId": 2010,
    "exerciseId": "S1pKhUjUlG",
    "id": "code_session_name",
    "important": true,
    "isDL": false,
    "timeoutSecs": 5
   },
   "source": [
    "### 3-8\n",
    "以下の正解データと予測データについての適合率、再現率、F値を計算するプログラムを完成させなさい。  \n",
    "なお、データは1が陽性、0が陰性とする。  \n",
    "（参考：3.1.5 性能評価指標を実装する）\n",
    "* 正解データ： **`[0,0,0,0,1,1,1,1,0,1,1,1]`**  \n",
    "* 予測データ： **`[0,0,0,0,0,0,1,1,1,1,1,1]`**"
   ]
  },
  {
   "cell_type": "code",
   "execution_count": 25,
   "metadata": {},
   "outputs": [
    {
     "name": "stdout",
     "output_type": "stream",
     "text": [
      "適合率: 0.833\n",
      "再現率: 0.714\n",
      "F値: 0.769\n"
     ]
    }
   ],
   "source": [
    "from sklearn.metrics import precision_score\n",
    "from sklearn.metrics import recall_score, f1_score\n",
    "\n",
    "# 正解データをy_true、予測データをy_predに代入する\n",
    "y_true = [0,0,0,0,1,1,1,1,0,1,1,1]\n",
    "y_pred = [0,0,0,0,0,0,1,1,1,1,1,1]\n",
    "\n",
    "#1が陽性、0が陰性\n",
    "con = confusion_matrix(y_true, y_pred)[:, ::-1][::-1]\n",
    "\n",
    "# 適合率をprecisionに代入する\n",
    "precision = con[0][0] / ( con[1][0] + con[0][0] )\n",
    "# 再現率をrecallに代入する\n",
    "recall = con[0][0] / ( con[0][1] + con[0][0] )\n",
    "# F値をf1_scoreに代入する\n",
    "f1_score = 2 * (precision*recall) / (precision+recall)\n",
    "\n",
    "print(\"適合率: %.3f\" % precision)\n",
    "print(\"再現率: %.3f\" % recall)\n",
    "print(\"F値: %.3f\" % f1_score)"
   ]
  },
  {
   "cell_type": "code",
   "execution_count": null,
   "metadata": {},
   "outputs": [],
   "source": []
  }
 ],
 "metadata": {
  "kernelspec": {
   "display_name": "Python 3",
   "language": "python",
   "name": "python3"
  },
  "language_info": {
   "codemirror_mode": {
    "name": "ipython",
    "version": 3
   },
   "file_extension": ".py",
   "mimetype": "text/x-python",
   "name": "python",
   "nbconvert_exporter": "python",
   "pygments_lexer": "ipython3",
   "version": "3.8.3"
  },
  "varInspector": {
   "cols": {
    "lenName": 16,
    "lenType": 16,
    "lenVar": 40
   },
   "kernels_config": {
    "python": {
     "delete_cmd_postfix": "",
     "delete_cmd_prefix": "del ",
     "library": "var_list.py",
     "varRefreshCmd": "print(var_dic_list())"
    },
    "r": {
     "delete_cmd_postfix": ") ",
     "delete_cmd_prefix": "rm(",
     "library": "var_list.r",
     "varRefreshCmd": "cat(var_dic_list()) "
    }
   },
   "types_to_exclude": [
    "module",
    "function",
    "builtin_function_or_method",
    "instance",
    "_Feature"
   ],
   "window_display": false
  }
 },
 "nbformat": 4,
 "nbformat_minor": 2
}
