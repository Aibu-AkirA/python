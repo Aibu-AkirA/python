{
 "cells": [
  {
   "cell_type": "markdown",
   "metadata": {
    "chapterId": "Hy8l_RQWlbz",
    "id": "chapter_name"
   },
   "source": [
    "#  Chapter9　Pandasの応用"
   ]
  },
  {
   "cell_type": "markdown",
   "metadata": {},
   "source": [
    "### 9-1\n",
    "下図の（1）～（3）の表の操作は連結・結合どちらの操作か答えなさい。  \n",
    "（参考：9.1.1 連結・結合について）\n",
    "<img src=\".\\Fig_9-1.png\" width=\"600\" alt=\"問題の表\">"
   ]
  },
  {
   "cell_type": "markdown",
   "metadata": {},
   "source": [
    "答：（1）  連結<br>\n",
    "　　（2）  結合<br>\n",
    "　　（3）  連結<br>"
   ]
  },
  {
   "cell_type": "markdown",
   "metadata": {},
   "source": [
    "### 9-2\n",
    "指定のインデックスとカラムを持つDataFrameを乱数によって作成する関数 **make_dandom_df(index, columns, seed)** を完成させなさい。  \n",
    "（参考：9.2.1 インデックス、カラムが一致しているDataFrame同士の連結）\n",
    "* 入力\n",
    "    * index:出力するdataframeのインデックスとなるリスト\n",
    "    * columns:出力するdataframeのカラム名となるリスト\n",
    "    * seed:乱数を生成する際のシード\n",
    "        * 乱数の生成にはnumpy.randomモジュールを使用すること\n",
    "* 出力\n",
    "    * 指定のインデックスとカラムを持ち、各要素は1～50までの乱数のDataFrame"
   ]
  },
  {
   "cell_type": "code",
   "execution_count": 3,
   "metadata": {},
   "outputs": [
    {
     "name": "stdout",
     "output_type": "stream",
     "text": [
      "   apple  orange  banana\n",
      "1     45       4      10\n",
      "2     48       4      20\n",
      "3      1      40      22\n"
     ]
    }
   ],
   "source": [
    "import numpy as np\n",
    "import pandas as pd\n",
    "\n",
    "# 指定のインデックスとカラムを持つDataFrameを乱数によって作成する関数\n",
    "def make_random_df(index, columns, seed):\n",
    "    # 乱数を生成する際の乱数を設定する\n",
    "    \n",
    "    np.random.seed(seed)\n",
    "\n",
    "    # DataFrame作成\n",
    "    df = pd.DataFrame()\n",
    "    # 各カラムごとに乱数で要素を設定する\n",
    "    for column in columns:\n",
    "        df[column] = np.random.choice(range(1,51), len(index))\n",
    "\n",
    "    # インデックスとして引数のindexを設定する\n",
    "    df.index = index\n",
    "\n",
    "    return df\n",
    "\n",
    "#作成した関数の動作確認用\n",
    "columns = [\"apple\", \"orange\", \"banana\"]\n",
    "df_data1 = make_random_df(range(1, 4), columns, 0)\n",
    "print(df_data1)"
   ]
  },
  {
   "cell_type": "markdown",
   "metadata": {},
   "source": [
    "### 9-3\n",
    "* DataFrame型の変数**df_data1**と**df_data2**を縦方向に連結し、**df1**に代入しなさい\n",
    "* DataFrame型の変数**df_data1**と**df_data2**を横方向に連結し、**df2**に代入しなさい\n",
    "\n",
    "（参考：9.2.1 インデックス、カラムが一致しているDataFrame同士の連結）"
   ]
  },
  {
   "cell_type": "code",
   "execution_count": 6,
   "metadata": {
    "id": "answer"
   },
   "outputs": [
    {
     "name": "stdout",
     "output_type": "stream",
     "text": [
      "==== 縦方向の連結 ====\n",
      "   apple  orange\n",
      "1     45      68\n",
      "2     48      10\n",
      "1     38      76\n",
      "2     13       6\n",
      "==== 横方向の連結 ====\n",
      "   apple  orange  apple  orange\n",
      "1     45      68     38      76\n",
      "2     48      10     13       6\n"
     ]
    }
   ],
   "source": [
    "import numpy as np\n",
    "import pandas as pd\n",
    "\n",
    "## 1つめのDataFrame\n",
    "data1 = {\"apple\": [45, 48], \"orange\": [68, 10]}\n",
    "index = [1,2]\n",
    "df_data1 = pd.DataFrame(data1)\n",
    "df_data1.index = index\n",
    "## 2つめのDataFrame\n",
    "data2 = {\"apple\": [38, 13], \"orange\": [76, 6]}\n",
    "df_data2 = pd.DataFrame(data2)\n",
    "df_data2.index = index\n",
    "\n",
    "# df_data1とdf_data2を縦方向に連結する\n",
    "df1 = pd.concat([df_data1, df_data2], axis = 0)\n",
    "\n",
    "# df_data1とdf_data2を横方向に連結する\n",
    "df2 = pd.concat([df_data1, df_data2], axis = 1)\n",
    "\n",
    "print(\"==== 縦方向の連結 ====\")\n",
    "print(df1)\n",
    "print(\"==== 横方向の連結 ====\")\n",
    "print(df2)"
   ]
  },
  {
   "cell_type": "markdown",
   "metadata": {},
   "source": [
    "### 9-4\n",
    "* DataFrame型の変数**df_data1**と**df_data2**を縦方向に連結し、**df1**に代入してください  \n",
    "* DataFrame型の変数**df_data1**と**df_data2**を横方向に連結し、**df2**に代入してください  \n",
    "* 連結時に使用する関数には、引数として **sort=True** を指定し、実行時に警告が出力されないようにすること\n",
    "\n",
    "（参考：9.2.2 インデックス、カラムが一致していないDataFrame同士の連結）"
   ]
  },
  {
   "cell_type": "code",
   "execution_count": 7,
   "metadata": {
    "id": "answer"
   },
   "outputs": [
    {
     "name": "stdout",
     "output_type": "stream",
     "text": [
      "==== 縦方向の連結 ====\n",
      "   apple  banana  orange\n",
      "1   45.0     NaN      68\n",
      "2   48.0     NaN      10\n",
      "2    NaN    17.0      76\n",
      "3    NaN     2.0       6\n",
      "==== 横方向の連結 ====\n",
      "   apple  orange  orange  banana\n",
      "1   45.0    68.0     NaN     NaN\n",
      "2   48.0    10.0    76.0    17.0\n",
      "3    NaN     NaN     6.0     2.0\n"
     ]
    }
   ],
   "source": [
    "import numpy as np\n",
    "import pandas as pd\n",
    "\n",
    "## 1つめのDataFrame\n",
    "data1 = {\"apple\": [45, 48], \"orange\": [68, 10]}\n",
    "index1 = [1,2]\n",
    "df_data1 = pd.DataFrame(data1)\n",
    "df_data1.index = index1\n",
    "## 2つめのDataFrame\n",
    "data2 = {\"orange\": [76, 6], \"banana\": [17, 2]}\n",
    "index2 = [2,3]\n",
    "df_data2 = pd.DataFrame(data2)\n",
    "df_data2.index = index2\n",
    "\n",
    "# df_data1とdf_data2を縦方向に連結しdf1に代入する\n",
    "df1 = pd.concat([df_data1, df_data2], axis = 0, sort=True)\n",
    "\n",
    "# df_data1とdf_data2を横方向に連結しdf2に代入する\n",
    "df2 = pd.concat([df_data1, df_data2], axis = 1, sort=True)\n",
    "\n",
    "print(\"==== 縦方向の連結 ====\")\n",
    "print(df1)\n",
    "print(\"==== 横方向の連結 ====\")\n",
    "print(df2)"
   ]
  },
  {
   "cell_type": "markdown",
   "metadata": {},
   "source": [
    "### 9-5\n",
    "* 以下の処理を行うプログラムを完成させなさい。\n",
    "    * DataFrame型の変数 **df_data1** と **df_data2** を横方向に連結する\n",
    "    * ラベルが重複しないように **df_data1**は **\"A\"** 、 **df_data2** は **\"B\"** のラベルを追加する（MultiIndexとする）\n",
    "    * 連結したDataFrameを **df** に代入する\n",
    "    * **df** の **\"A\"** ラベルのデータを **A**に代入する\n",
    "    * **df** の **\"B\"** ラベルの **\"orange\"** を **B_orange**に代入する\n",
    "    \n",
    "（参考：9.2.3 連結する際のラベルの指定）"
   ]
  },
  {
   "cell_type": "code",
   "execution_count": 8,
   "metadata": {
    "id": "answer"
   },
   "outputs": [
    {
     "name": "stdout",
     "output_type": "stream",
     "text": [
      "==== 横方向の連結 ====\n",
      "      A             B       \n",
      "  apple orange orange banana\n",
      "1  45.0   68.0    NaN    NaN\n",
      "2  48.0   10.0   76.0   17.0\n",
      "3   NaN    NaN    6.0    2.0\n",
      "==== 横方向連結データ\"A\"の出力 ====\n",
      "   apple  orange\n",
      "1   45.0    68.0\n",
      "2   48.0    10.0\n",
      "3    NaN     NaN\n",
      "==== 横方向連結データ\"B_orange\"の出力 ====\n",
      "1     NaN\n",
      "2    76.0\n",
      "3     6.0\n",
      "Name: (B, orange), dtype: float64\n"
     ]
    }
   ],
   "source": [
    "import numpy as np\n",
    "import pandas as pd\n",
    "\n",
    "## 1つめのDataFrame\n",
    "data1 = {\"apple\": [45, 48], \"orange\": [68, 10]}\n",
    "index1 = [1,2]\n",
    "df_data1 = pd.DataFrame(data1)\n",
    "df_data1.index = index1\n",
    "## 2つめのDataFrame\n",
    "data2 = {\"orange\": [76, 6], \"banana\": [17, 2]}\n",
    "index2 = [2,3]\n",
    "df_data2 = pd.DataFrame(data2)\n",
    "df_data2.index = index2\n",
    "\n",
    "# df_data1とdf_data2を横方向に連結する\n",
    "# その際、それぞれ\"A\"、\"B\"のラベルを指定してMultiIndexにしてdfに代入する\n",
    "df = pd.concat([df_data1, df_data2], axis = 1, keys=[\"A\",\"B\"])\n",
    "\n",
    "#  dfの\"A\"ラベルのデータをAに代入する\n",
    "A = df[\"A\"]\n",
    "\n",
    "#  dfの\"B\"ラベルの\"orange\"をB_orangeに代入する\n",
    "B_orange = df[\"B\", \"orange\"]\n",
    "\n",
    "print(\"==== 横方向の連結 ====\")\n",
    "print(df)\n",
    "print(\"==== 横方向連結データ\\\"A\\\"の出力 ====\")\n",
    "print(A)\n",
    "print(\"==== 横方向連結データ\\\"B_orange\\\"の出力 ====\")\n",
    "print(B_orange)\n"
   ]
  },
  {
   "cell_type": "markdown",
   "metadata": {},
   "source": [
    "### 9-6\n",
    "* 以下の処理を行うプログラムを完成させなさい。\n",
    "    * DataFrame型の変数 **df_data1** と **df_data2** を縦方向に連結する\n",
    "    * ラベル（インデックス）が重複しないように **df_data1**は **\"A\"** 、 **df_data2** は **\"B\"** のラベルを追加する（MultiIndexとする）\n",
    "    * 連結したDataFrameを **df** に代入する\n",
    "        * 連結時、警告が出力されないよう引数に **sort=True** を設定すること\n",
    "    * **df** の **\"A\"** ラベルのデータを **A**に代入する\n",
    "    * **df** の **\"B\"** ラベルの **2** を **B_2**に代入する\n",
    "    \n",
    "* ヒント\n",
    "    * 縦方向にMultiIndexがあるDataFrameの参照を行う場合、loc関数を利用する\n",
    "    * 複数階層のIndex参照時はタプル型で指定する\n",
    "    \n",
    "（参考：9.2.3 連結する際のラベルの指定）"
   ]
  },
  {
   "cell_type": "code",
   "execution_count": 15,
   "metadata": {},
   "outputs": [
    {
     "name": "stdout",
     "output_type": "stream",
     "text": [
      "==== 縦方向の連結 ====\n",
      "     apple  banana  orange\n",
      "A 1   45.0     NaN      68\n",
      "  2   48.0     NaN      10\n",
      "B 2    NaN    17.0      76\n",
      "  3    NaN     2.0       6\n",
      "==== 縦方向連結データ\"A\"の出力 ====\n",
      "   apple  banana  orange\n",
      "1   45.0     NaN      68\n",
      "2   48.0     NaN      10\n",
      "==== 縦方向連結データ\"B_2\"の出力 ====\n",
      "apple      NaN\n",
      "banana    17.0\n",
      "orange    76.0\n",
      "Name: (B, 2), dtype: float64\n"
     ]
    }
   ],
   "source": [
    "import numpy as np\n",
    "import pandas as pd\n",
    "\n",
    "## 1つめのDataFrame\n",
    "data1 = {\"apple\": [45, 48], \"orange\": [68, 10]}\n",
    "index1 = [1,2]\n",
    "df_data1 = pd.DataFrame(data1)\n",
    "df_data1.index = index1\n",
    "## 2つめのDataFrame\n",
    "data2 = {\"orange\": [76, 6], \"banana\": [17, 2]}\n",
    "index2 = [2,3]\n",
    "df_data2 = pd.DataFrame(data2)\n",
    "df_data2.index = index2\n",
    "\n",
    "# df_data1とdf_data2を縦方向に連結する\n",
    "# その際、それぞれ\"A\"、\"B\"のラベルを指定してMultiIndexにしてdfに代入する\n",
    "df = pd.concat([df_data1, df_data2], axis = 0, keys=[\"A\",\"B\"], sort=True)\n",
    "\n",
    "#  dfの\"A\"ラベルのデータをAに代入する\n",
    "A = df.loc[\"A\"]\n",
    "\n",
    "#  dfの\"B\"ラベルの2をB_2に代入する\n",
    "B_2 = df.loc[\"B\", 2]\n",
    "print(\"==== 縦方向の連結 ====\")\n",
    "print(df)\n",
    "print(\"==== 縦方向連結データ\\\"A\\\"の出力 ====\")\n",
    "print(A)\n",
    "print(\"==== 縦方向連結データ\\\"B_2\\\"の出力 ====\")\n",
    "print(B_2)\n"
   ]
  },
  {
   "cell_type": "markdown",
   "metadata": {},
   "source": [
    "### 9-7\n",
    "* 以下の処理を行うプログラムを完成させなさい。\n",
    "    * DataFrame型の変数 **df1** と **df2** をカラム **\"fruits\"** をKeyに **内部結合** し、 **df_i** に代入する\n",
    "    * DataFrame型の変数 **df1** と **df2** をカラム **\"fruits\"** をKeyに **外部結合** し、 **df_o** に代入する\n",
    "    \n",
    "（参考：9.3.2 内部結合の基本、9.3.3 外部結合の基本）"
   ]
  },
  {
   "cell_type": "code",
   "execution_count": 16,
   "metadata": {},
   "outputs": [
    {
     "name": "stdout",
     "output_type": "stream",
     "text": [
      "=== 内部結合（Keyとなるカラム：fruits） ===\n",
      "   amount      fruits  year_x  price  year_y\n",
      "0       1      banana    2001    100    2001\n",
      "1       4  strawberry    2008    250    2008\n",
      "=== 外部結合（Keyとなるカラム：fruits） ===\n",
      "   amount      fruits  year_x   price  year_y\n",
      "0     1.0      banana  2001.0   100.0  2001.0\n",
      "1     4.0  strawberry  2008.0   250.0  2008.0\n",
      "2     5.0   kiwifruit  2006.0     NaN     NaN\n",
      "3     NaN       mango     NaN  3000.0  2007.0\n"
     ]
    }
   ],
   "source": [
    "import numpy as np\n",
    "import pandas as pd\n",
    "\n",
    "## 1つめのDataFrame\n",
    "data1 = {\"amount\": [1, 4, 5],\n",
    "         \"fruits\": [\"banana\", \"strawberry\", \"kiwifruit\"],\n",
    "         \"year\": [2001, 2008, 2006]}\n",
    "df1 = pd.DataFrame(data1)\n",
    "## 2つめのDataFrame\n",
    "data2 = {\"fruits\": [\"banana\", \"strawberry\", \"mango\"],\n",
    "         \"price\": [100, 250, 3000],\n",
    "         \"year\": [2001, 2008, 2007]}\n",
    "df2 = pd.DataFrame(data2)\n",
    "\n",
    "## カラム\"fruits\"をKeyに内部結合を行いdf_iに代入する\n",
    "df_i = pd.merge(df1, df2, on=\"fruits\", how=\"inner\")\n",
    "## カラム\"fruits\"をKeyに外部結合を行いdf_oに代入する\n",
    "df_o = pd.merge(df1, df2, on=\"fruits\", how=\"outer\")\n",
    "\n",
    "print(\"=== 内部結合（Keyとなるカラム：fruits） ===\")\n",
    "print(df_i)\n",
    "print(\"=== 外部結合（Keyとなるカラム：fruits） ===\")\n",
    "print(df_o)"
   ]
  },
  {
   "cell_type": "markdown",
   "metadata": {},
   "source": [
    "### 9-8\n",
    "* **df1** と **df2** を以下の条件で結合するプログラムを完成させなさい。\n",
    "    * **df1** の **fruits_name** と **df2** の **fruits_nm** をKeyにして結合する\n",
    "    * 結合方法は内部結合とする\n",
    "    \n",
    "（参考：9.3.4 同名でない列をKeyにして結合する）"
   ]
  },
  {
   "cell_type": "code",
   "execution_count": 19,
   "metadata": {},
   "outputs": [
    {
     "name": "stdout",
     "output_type": "stream",
     "text": [
      "=== df1 ===\n",
      "   amount fruits_name  year\n",
      "0       1      banana  2001\n",
      "1       4  strawberry  2008\n",
      "2       5   kiwifruit  2006\n",
      "=== df2 ===\n",
      "    fruits_nm  price  year\n",
      "0      banana    100  2001\n",
      "1  strawberry    250  2008\n",
      "2       mango   3000  2007\n",
      "=== 結合結果 ===\n",
      "   amount fruits_name  year_x   fruits_nm  price  year_y\n",
      "0       1      banana    2001      banana    100    2001\n",
      "1       4  strawberry    2008  strawberry    250    2008\n"
     ]
    }
   ],
   "source": [
    "import numpy as np\n",
    "import pandas as pd\n",
    "\n",
    "## 1つめのDataFrame\n",
    "data1 = {\"amount\": [1, 4, 5],\n",
    "         \"fruits_name\": [\"banana\", \"strawberry\", \"kiwifruit\"],\n",
    "         \"year\": [2001, 2008, 2006]}\n",
    "df1 = pd.DataFrame(data1)\n",
    "## 2つめのDataFrame\n",
    "data2 = {\"fruits_nm\": [\"banana\", \"strawberry\", \"mango\"],\n",
    "         \"price\": [100, 250, 3000],\n",
    "         \"year\": [2001, 2008, 2007]}\n",
    "df2 = pd.DataFrame(data2)\n",
    "\n",
    "print(\"=== df1 ===\")\n",
    "print(df1)\n",
    "print(\"=== df2 ===\")\n",
    "print(df2)\n",
    "\n",
    "## df1のfruits_nameとdf2のfruits_nmをKeyにして内部結合を行う\n",
    "df3 = pd.merge(df1, df2, left_on=\"fruits_name\",right_on=\"fruits_nm\" , how=\"inner\")\n",
    "\n",
    "print(\"=== 結合結果 ===\")\n",
    "print(df3)"
   ]
  },
  {
   "cell_type": "markdown",
   "metadata": {},
   "source": [
    "### 9-9\n",
    "* **user_df** と **item_df** を以下の条件で結合するプログラムを完成させなさい。\n",
    "    * **user_df** の **インデックス** と **item_df** の **user_id** をKeyにして結合する\n",
    "    * 結合方法は内部結合とする\n",
    "    \n",
    "（参考：9.3.5 インデックスをKeyにして結合する）"
   ]
  },
  {
   "cell_type": "code",
   "execution_count": 22,
   "metadata": {},
   "outputs": [
    {
     "name": "stdout",
     "output_type": "stream",
     "text": [
      "=== user_df ===\n",
      "      name\n",
      "11    Sato\n",
      "12     Ito\n",
      "13  Suzuki\n",
      "=== item_df ===\n",
      "    id  item_id  user_id\n",
      "0  100      123       11\n",
      "1  101      456       12\n",
      "=== 結合結果 ===\n",
      "   name   id  item_id  user_id\n",
      "0  Sato  100      123       11\n",
      "1   Ito  101      456       12\n"
     ]
    }
   ],
   "source": [
    "import pandas as pd\n",
    "\n",
    "# 顧客情報DataFrame\n",
    "user_df = pd.DataFrame([[\"Sato\"],\n",
    "                        [\"Ito\"],\n",
    "                        [\"Suzuki\"]],\n",
    "                        columns=[\"name\"])\n",
    "user_df.index = [11, 12, 13]\n",
    "\n",
    "# 注文情報DataFrame\n",
    "item_df = pd.DataFrame([[100, 123, 11],\n",
    "                        [101, 456, 12]],\n",
    "                        columns=[\"id\", \"item_id\", \"user_id\"])\n",
    "\n",
    "print(\"=== user_df ===\")\n",
    "print(user_df)\n",
    "print(\"=== item_df ===\")\n",
    "print(item_df)\n",
    "\n",
    "## user_dfのインデックスとitem_dfのuser_idをKeyにして内部結合する\n",
    "df = pd.merge(user_df, item_df, right_on=\"user_id\", left_index=True, how=\"inner\")\n",
    "\n",
    "print(\"=== 結合結果 ===\")\n",
    "print(df)"
   ]
  },
  {
   "cell_type": "markdown",
   "metadata": {},
   "source": [
    "### 9-10\n",
    "以下の処理を行うプログラムを完成させなさい。  \n",
    "* DataFrame型の変数**df**の冒頭4行を取得し、**df_head** に代入する。\n",
    "* DataFrame型の変数**df**の末尾2行を取得し、**df_tail** に代入する。\n",
    "\n",
    "（参考：9.4.1 一部の行を得る）"
   ]
  },
  {
   "cell_type": "code",
   "execution_count": 25,
   "metadata": {
    "id": "answer"
   },
   "outputs": [
    {
     "name": "stdout",
     "output_type": "stream",
     "text": [
      "=== df ===\n",
      "    apple  orange  banana\n",
      "1      45      24      25\n",
      "2      48       7      18\n",
      "3       1      25      38\n",
      "4       4      25      26\n",
      "5       4      13      14\n",
      "6      40       2       9\n",
      "7      10      39      10\n",
      "8      20      40      21\n",
      "9      22      24      17\n",
      "10     37      47       6\n",
      "=== dfの冒頭4行 ===\n",
      "   apple  orange  banana\n",
      "1     45      24      25\n",
      "2     48       7      18\n",
      "3      1      25      38\n",
      "4      4      25      26\n",
      "=== dfの末尾2行 ===\n",
      "    apple  orange  banana\n",
      "9      22      24      17\n",
      "10     37      47       6\n"
     ]
    }
   ],
   "source": [
    "import numpy as np\n",
    "import pandas as pd\n",
    "\n",
    "np.random.seed(0)\n",
    "columns = [\"apple\", \"orange\", \"banana\"]\n",
    "# DataFrameを生成し列を追加\n",
    "df = pd.DataFrame()\n",
    "for column in columns:\n",
    "    df[column] = np.random.choice(range(1, 51), 10)\n",
    "df.index = range(1, 11)\n",
    "print(\"=== df ===\")\n",
    "print(df)\n",
    "\n",
    "# dfの冒頭4行を取得しdf_headに代入する\n",
    "df_head = df.head(4)\n",
    "\n",
    "# dfの末尾2行を取得しdf_tailに代入する\n",
    "df_tail = df.tail(2)\n",
    "\n",
    "\n",
    "print(\"=== dfの冒頭4行 ===\")\n",
    "print(df_head)\n",
    "print(\"=== dfの末尾2行 ===\")\n",
    "print(df_tail)"
   ]
  },
  {
   "cell_type": "markdown",
   "metadata": {},
   "source": [
    "### 9-11\n",
    "* **df** について、以下の処理を行うプログラムを完成させなさい。\n",
    "    * **df** の各要素に10を加える\n",
    "    * Numpyの関数を用いて **df** の列単位での合計を求める\n",
    "    * Numpyの関数を用いて **df** 全要素の平均を求める\n",
    "    \n",
    "（参考：9.4.2 計算処理を適用する）"
   ]
  },
  {
   "cell_type": "code",
   "execution_count": 26,
   "metadata": {
    "id": "answer",
    "scrolled": false
   },
   "outputs": [
    {
     "name": "stdout",
     "output_type": "stream",
     "text": [
      "=== DataFrame ===\n",
      "   apple  orange  banana\n",
      "1      6       4       4\n",
      "2      1       8       6\n",
      "3      4      10       3\n",
      "=== dfの各要素に10を加える ===\n",
      "   apple  orange  banana\n",
      "1     16      14      14\n",
      "2     11      18      16\n",
      "3     14      20      13\n",
      "=== dfの列単位の合計 ===\n",
      "apple     11\n",
      "orange    22\n",
      "banana    13\n",
      "dtype: int64\n",
      "=== dfの全要素の平均 ===\n",
      "apple     3.666667\n",
      "orange    7.333333\n",
      "banana    4.333333\n",
      "dtype: float64\n"
     ]
    }
   ],
   "source": [
    "import numpy as np\n",
    "import pandas as pd\n",
    "import math\n",
    "\n",
    "np.random.seed(0)\n",
    "# DataFrame（df）を生成\n",
    "columns = [\"apple\", \"orange\", \"banana\"]\n",
    "df = pd.DataFrame()\n",
    "for column in columns:\n",
    "    df[column] = np.random.choice(range(1, 11), 3)\n",
    "df.index = range(1, 4)\n",
    "print(\"=== DataFrame ===\")\n",
    "print(df)\n",
    "\n",
    "\n",
    "# dfの各要素に10を加える\n",
    "add_10 = df+10\n",
    "\n",
    "# 列単位の合計の計算\n",
    "df_sums = np.sum(df)\n",
    "\n",
    "# 全要素の平均の計算\n",
    "df_ave = np.mean(df)\n",
    "\n",
    "print(\"=== dfの各要素に10を加える ===\")\n",
    "print(add_10)\n",
    "print(\"=== dfの列単位の合計 ===\")\n",
    "print(df_sums)\n",
    "print(\"=== dfの全要素の平均 ===\")\n",
    "print(df_ave)"
   ]
  },
  {
   "cell_type": "markdown",
   "metadata": {},
   "source": [
    "### 9-12\n",
    "* 以下の処理を行うプログラムを完成させなさい。\n",
    "    * DataFrame型の変数 **df** の要約統計量を取り出して **df_des** に代入する\n",
    "    * 要約統計量のうち、 **最小値**と**最大値** を取り出して **df_minmax** に代入する\n",
    "    \n",
    "（参考：9.4.3 要約統計量を得る）"
   ]
  },
  {
   "cell_type": "code",
   "execution_count": 27,
   "metadata": {
    "id": "answer"
   },
   "outputs": [
    {
     "name": "stdout",
     "output_type": "stream",
     "text": [
      "=== DataFrame ===\n",
      "   apple  orange  banana\n",
      "1     45      40      24\n",
      "2     48      10       7\n",
      "3      1      20      25\n",
      "4      4      22      25\n",
      "5      4      37      13\n",
      "=== 要約統計量 ===\n",
      "           apple  orange     banana\n",
      "count   5.000000   5.000   5.000000\n",
      "mean   20.400000  25.800  18.800000\n",
      "std    23.880955  12.498   8.318654\n",
      "min     1.000000  10.000   7.000000\n",
      "25%     4.000000  20.000  13.000000\n",
      "50%     4.000000  22.000  24.000000\n",
      "75%    45.000000  37.000  25.000000\n",
      "max    48.000000  40.000  25.000000\n",
      "=== 最小値、最大値 ===\n",
      "     apple  orange  banana\n",
      "max   48.0    40.0    25.0\n",
      "min    1.0    10.0     7.0\n"
     ]
    }
   ],
   "source": [
    "import numpy as np\n",
    "import pandas as pd\n",
    "np.random.seed(0)\n",
    "\n",
    "# DataFrameを生成\n",
    "columns = [\"apple\", \"orange\", \"banana\"]\n",
    "df = pd.DataFrame()\n",
    "for column in columns:\n",
    "    df[column] = np.random.choice(range(1, 50), 5)\n",
    "df.index = range(1, 6)\n",
    "print(\"=== DataFrame ===\")\n",
    "print(df)\n",
    "\n",
    "# dfの要約統計量を出力する\n",
    "df_des = df.describe()\n",
    "\n",
    "# dfの要約統計量のうち、最小値と最大値を取り出してdf_minmaxに代入する\n",
    "df_minmax = df.describe().loc[[\"max\", \"min\"]]\n",
    "\n",
    "print(\"=== 要約統計量 ===\")\n",
    "print(df_des)\n",
    "print(\"=== 最小値、最大値 ===\")\n",
    "print(df_minmax)"
   ]
  },
  {
   "cell_type": "markdown",
   "metadata": {},
   "source": [
    "### 9-13\n",
    "* DataFrame型の変数 **df** について、以下の処理を行うプログラムを完成させなさい。\n",
    "    * 各行について、2行後の行との差を計算したDataFrameを**df_diff1** に代入する。\n",
    "    * 各行について、1行前の行との差を計算したDataFrameを**df_diff2** に代入する。\n",
    "    * 各列について、1列後の行との差を計算したDataFrameを**df_diff3** に代入する。\n",
    "    * 各列について、2列前の行との差を計算したDataFrameを**df_diff4** に代入する。\n",
    "    \n",
    "（参考：9.4.4 DataFrameの行間または列間の差を求める）"
   ]
  },
  {
   "cell_type": "code",
   "execution_count": 28,
   "metadata": {
    "id": "answer"
   },
   "outputs": [
    {
     "name": "stdout",
     "output_type": "stream",
     "text": [
      "=== DataFrame ===\n",
      "   1月  2月  3月  4月  5月  6月\n",
      "1  10  31  22  27  30  45\n",
      "2  13  46  11  47  26  34\n",
      "3  13  33  48  35  15  39\n",
      "4  49  16  49  23  25  29\n",
      "5  19  34  33  18  10  29\n",
      "6  29  34  34  19  28  24\n",
      "=== 2行後の行との差 ===\n",
      "     1月    2月    3月    4月    5月    6月\n",
      "1  -3.0  -2.0 -26.0  -8.0  15.0   6.0\n",
      "2 -36.0  30.0 -38.0  24.0   1.0   5.0\n",
      "3  -6.0  -1.0  15.0  17.0   5.0  10.0\n",
      "4  20.0 -18.0  15.0   4.0  -3.0   5.0\n",
      "5   NaN   NaN   NaN   NaN   NaN   NaN\n",
      "6   NaN   NaN   NaN   NaN   NaN   NaN\n",
      "=== 1行前の行との差 ===\n",
      "     1月    2月    3月    4月    5月    6月\n",
      "1   NaN   NaN   NaN   NaN   NaN   NaN\n",
      "2   3.0  15.0 -11.0  20.0  -4.0 -11.0\n",
      "3   0.0 -13.0  37.0 -12.0 -11.0   5.0\n",
      "4  36.0 -17.0   1.0 -12.0  10.0 -10.0\n",
      "5 -30.0  18.0 -16.0  -5.0 -15.0   0.0\n",
      "6  10.0   0.0   1.0   1.0  18.0  -5.0\n",
      "=== 1行後の行との差 ===\n",
      "     1月    2月    3月    4月    5月  6月\n",
      "1 -21.0   9.0  -5.0  -3.0 -15.0 NaN\n",
      "2 -33.0  35.0 -36.0  21.0  -8.0 NaN\n",
      "3 -20.0 -15.0  13.0  20.0 -24.0 NaN\n",
      "4  33.0 -33.0  26.0  -2.0  -4.0 NaN\n",
      "5 -15.0   1.0  15.0   8.0 -19.0 NaN\n",
      "6  -5.0   0.0  15.0  -9.0   4.0 NaN\n",
      "=== 2行前の行との差 ===\n",
      "   1月  2月    3月    4月    5月    6月\n",
      "1 NaN NaN  12.0  -4.0   8.0  18.0\n",
      "2 NaN NaN  -2.0   1.0  15.0 -13.0\n",
      "3 NaN NaN  35.0   2.0 -33.0   4.0\n",
      "4 NaN NaN   0.0   7.0 -24.0   6.0\n",
      "5 NaN NaN  14.0 -16.0 -23.0  11.0\n",
      "6 NaN NaN   5.0 -15.0  -6.0   5.0\n"
     ]
    }
   ],
   "source": [
    "import numpy as np\n",
    "import pandas as pd\n",
    "\n",
    "np.random.seed(0)\n",
    "# DataFrameを生成\n",
    "columns = [\"1月\", \"2月\", \"3月\", \"4月\", \"5月\", \"6月\"]\n",
    "df = pd.DataFrame()\n",
    "for column in columns:\n",
    "    df[column] = np.random.choice(range(10, 51), 6)\n",
    "df.index = range(1, 7)\n",
    "\n",
    "print(\"=== DataFrame ===\")\n",
    "print(df)\n",
    "\n",
    "# 2行後の行との差を計算したDataFrameをdf_diff1に代入\n",
    "df_diff1 = df.diff(-2, axis=0)\n",
    "\n",
    "# 1行前の行との差を計算したDataFrameをdf_diff2に代入\n",
    "df_diff2 = df.diff(1, axis=0)\n",
    "\n",
    "# 1列後の列との差を計算したDataFrameをdf_diff3に代入\n",
    "df_diff3 = df.diff(-1, axis=1)\n",
    "\n",
    "# 2列前の列との差を計算したDataFrameをdf_diff4に代入\n",
    "df_diff4 = df.diff(2, axis=1)\n",
    "\n",
    "print(\"=== 2行後の行との差 ===\")\n",
    "print(df_diff1)\n",
    "print(\"=== 1行前の行との差 ===\")\n",
    "print(df_diff2)\n",
    "print(\"=== 1行後の行との差 ===\")\n",
    "print(df_diff3)\n",
    "print(\"=== 2行前の行との差 ===\")\n",
    "print(df_diff4)"
   ]
  },
  {
   "cell_type": "markdown",
   "metadata": {},
   "source": [
    "### 9-14\n",
    "* DataFrame型の変数 **class_df** について、以下の処理を行うプログラムを完成させなさい。\n",
    "    * **Class** についてグループ化を行い、 **grouped_df** に代入する\n",
    "    * **grouped_df** に代入されたグループごとの各項目の合計を **sum_df** に代入する\n",
    "    * **grouped_df** に代入されたグループごとの各項目の平均を **mean_df** に代入する\n",
    "    \n",
    "（参考：9.4.5 グループ化）"
   ]
  },
  {
   "cell_type": "code",
   "execution_count": 33,
   "metadata": {},
   "outputs": [
    {
     "name": "stdout",
     "output_type": "stream",
     "text": [
      "=== df ===\n",
      "     Name  Test1  Test2 Class\n",
      "0   satou     77     64     A\n",
      "1  saitou     71     69     B\n",
      "2   katou     69     68     A\n",
      "3    itou     80     62     A\n",
      "4   sudou     76     62     B\n",
      "5  kondou     71     68     B\n",
      "=== sum_df ===\n",
      "       Test1  Test2\n",
      "Class              \n",
      "A        226    194\n",
      "B        218    199\n",
      "=== mean_df ===\n",
      "           Test1      Test2\n",
      "Class                      \n",
      "A      75.333333  64.666667\n",
      "B      72.666667  66.333333\n"
     ]
    }
   ],
   "source": [
    "import pandas as pd\n",
    "\n",
    "# DataFrameを生成\n",
    "class_df = pd.DataFrame([[\"satou\", 77, 64, \"A\"],\n",
    "                         [\"saitou\", 71, 69, \"B\"],\n",
    "                         [\"katou\", 69, 68, \"A\"],\n",
    "                         [\"itou\", 80, 62, \"A\"],\n",
    "                         [\"sudou\", 76, 62, \"B\"],\n",
    "                         [\"kondou\", 71, 68, \"B\"]], \n",
    "                         columns=[\"Name\", \"Test1\", \n",
    "                                  \"Test2\", \"Class\"])\n",
    "print(\"=== df ===\")\n",
    "print(class_df)\n",
    "\n",
    "# class_dfをClassについてグループ化し、grouped_dfに代入\n",
    "grouped_df = class_df.groupby(\"Class\")\n",
    "\n",
    "# Classごとの項目の合計をsum_dfに代入\n",
    "sum_df = grouped_df.sum()\n",
    "\n",
    "# Classごとの項目の平均をmean_dfに代入\n",
    "mean_df = grouped_df.mean()\n",
    "\n",
    "# 出力\n",
    "print(\"=== sum_df ===\")\n",
    "print(sum_df)\n",
    "print(\"=== mean_df ===\")\n",
    "print(mean_df)"
   ]
  },
  {
   "cell_type": "code",
   "execution_count": null,
   "metadata": {},
   "outputs": [],
   "source": []
  }
 ],
 "metadata": {
  "anaconda-cloud": {},
  "kernelspec": {
   "display_name": "Python 3",
   "language": "python",
   "name": "python3"
  },
  "language_info": {
   "codemirror_mode": {
    "name": "ipython",
    "version": 3
   },
   "file_extension": ".py",
   "mimetype": "text/x-python",
   "name": "python",
   "nbconvert_exporter": "python",
   "pygments_lexer": "ipython3",
   "version": "3.8.3"
  },
  "varInspector": {
   "cols": {
    "lenName": 16,
    "lenType": 16,
    "lenVar": 40
   },
   "kernels_config": {
    "python": {
     "delete_cmd_postfix": "",
     "delete_cmd_prefix": "del ",
     "library": "var_list.py",
     "varRefreshCmd": "print(var_dic_list())"
    },
    "r": {
     "delete_cmd_postfix": ") ",
     "delete_cmd_prefix": "rm(",
     "library": "var_list.r",
     "varRefreshCmd": "cat(var_dic_list()) "
    }
   },
   "types_to_exclude": [
    "module",
    "function",
    "builtin_function_or_method",
    "instance",
    "_Feature"
   ],
   "window_display": false
  }
 },
 "nbformat": 4,
 "nbformat_minor": 2
}
