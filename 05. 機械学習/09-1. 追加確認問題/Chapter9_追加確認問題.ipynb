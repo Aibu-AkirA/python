{
 "cells": [
  {
   "cell_type": "markdown",
   "metadata": {
    "chapterId": "Hy8l_RQWlbz",
    "id": "chapter_name"
   },
   "source": [
    "#  Chapter9　Pandasの応用"
   ]
  },
  {
   "cell_type": "markdown",
   "metadata": {},
   "source": [
    "### 9-1\n",
    "下図の（1）～（3）の表の操作は連結・結合どちらの操作か答えなさい。  \n",
    "（参考：9.1.1 連結・結合について）\n",
    "<img src=\".\\Fig_9-1.png\" width=\"600\" alt=\"問題の表\">"
   ]
  },
  {
   "cell_type": "markdown",
   "metadata": {},
   "source": [
    "答：（1）  \n",
    "　　（2）  \n",
    "　　（3）  "
   ]
  },
  {
   "cell_type": "markdown",
   "metadata": {},
   "source": [
    "### 9-2\n",
    "指定のインデックスとカラムを持つDataFrameを乱数によって作成する関数 **make_dandom_df(index, columns, seed)** を完成させなさい。  \n",
    "（参考：9.2.1 インデックス、カラムが一致しているDataFrame同士の連結）\n",
    "* 入力\n",
    "    * index:出力するdataframeのインデックスとなるリスト\n",
    "    * columns:出力するdataframeのカラム名となるリスト\n",
    "    * seed:乱数を生成する際のシード\n",
    "        * 乱数の生成にはnumpy.randomモジュールを使用すること\n",
    "* 出力\n",
    "    * 指定のインデックスとカラムを持ち、各要素は1～50までの乱数のDataFrame"
   ]
  },
  {
   "cell_type": "code",
   "execution_count": null,
   "metadata": {},
   "outputs": [],
   "source": [
    "import numpy as np\n",
    "import pandas as pd\n",
    "\n",
    "# 指定のインデックスとカラムを持つDataFrameを乱数によって作成する関数\n",
    "def make_random_df(index, columns, seed):\n",
    "    # 乱数を生成する際の乱数を設定する\n",
    "\n",
    "\n",
    "    # DataFrame作成\n",
    "    df = pd.DataFrame()\n",
    "    # 各カラムごとに乱数で要素を設定する\n",
    "    for column in columns:\n",
    "        df[column] = \n",
    "\n",
    "    # インデックスとして引数のindexを設定する\n",
    "    df.index = \n",
    "\n",
    "    return df\n",
    "\n",
    "#作成した関数の動作確認用\n",
    "columns = [\"apple\", \"orange\", \"banana\"]\n",
    "df_data1 = make_random_df(range(1, 4), columns, 0)\n",
    "print(df_data1)"
   ]
  },
  {
   "cell_type": "markdown",
   "metadata": {},
   "source": [
    "### 9-3\n",
    "* DataFrame型の変数**df_data1**と**df_data2**を縦方向に連結し、**df1**に代入しなさい\n",
    "* DataFrame型の変数**df_data1**と**df_data2**を横方向に連結し、**df2**に代入しなさい\n",
    "\n",
    "（参考：9.2.1 インデックス、カラムが一致しているDataFrame同士の連結）"
   ]
  },
  {
   "cell_type": "code",
   "execution_count": null,
   "metadata": {
    "id": "answer"
   },
   "outputs": [],
   "source": [
    "import numpy as np\n",
    "import pandas as pd\n",
    "\n",
    "## 1つめのDataFrame\n",
    "data1 = {\"apple\": [45, 48], \"orange\": [68, 10]}\n",
    "index = [1,2]\n",
    "df_data1 = pd.DataFrame(data1)\n",
    "df_data1.index = index\n",
    "## 2つめのDataFrame\n",
    "data2 = {\"apple\": [38, 13], \"orange\": [76, 6]}\n",
    "df_data2 = pd.DataFrame(data2)\n",
    "df_data2.index = index\n",
    "\n",
    "# df_data1とdf_data2を縦方向に連結する\n",
    "df1 = \n",
    "\n",
    "# df_data1とdf_data2を横方向に連結する\n",
    "df2 = \n",
    "\n",
    "print(\"==== 縦方向の連結 ====\")\n",
    "print(df1)\n",
    "print(\"==== 横方向の連結 ====\")\n",
    "print(df2)"
   ]
  },
  {
   "cell_type": "markdown",
   "metadata": {},
   "source": [
    "### 9-4\n",
    "* DataFrame型の変数**df_data1**と**df_data2**を縦方向に連結し、**df1**に代入してください  \n",
    "* DataFrame型の変数**df_data1**と**df_data2**を横方向に連結し、**df2**に代入してください  \n",
    "* 連結時に使用する関数には、引数として **sort=True** を指定し、実行時に警告が出力されないようにすること\n",
    "\n",
    "（参考：9.2.2 インデックス、カラムが一致していないDataFrame同士の連結）"
   ]
  },
  {
   "cell_type": "code",
   "execution_count": null,
   "metadata": {
    "id": "answer"
   },
   "outputs": [],
   "source": [
    "import numpy as np\n",
    "import pandas as pd\n",
    "\n",
    "## 1つめのDataFrame\n",
    "data1 = {\"apple\": [45, 48], \"orange\": [68, 10]}\n",
    "index1 = [1,2]\n",
    "df_data1 = pd.DataFrame(data1)\n",
    "df_data1.index = index1\n",
    "## 2つめのDataFrame\n",
    "data2 = {\"orange\": [76, 6], \"banana\": [17, 2]}\n",
    "index2 = [2,3]\n",
    "df_data2 = pd.DataFrame(data2)\n",
    "df_data2.index = index2\n",
    "\n",
    "# df_data1とdf_data2を縦方向に連結しdf1に代入する\n",
    "df1 = \n",
    "\n",
    "# df_data1とdf_data2を横方向に連結しdf2に代入する\n",
    "df2 = \n",
    "\n",
    "print(\"==== 縦方向の連結 ====\")\n",
    "print(df1)\n",
    "print(\"==== 横方向の連結 ====\")\n",
    "print(df2)"
   ]
  },
  {
   "cell_type": "markdown",
   "metadata": {},
   "source": [
    "### 9-5\n",
    "* 以下の処理を行うプログラムを完成させなさい。\n",
    "    * DataFrame型の変数 **df_data1** と **df_data2** を横方向に連結する\n",
    "    * ラベルが重複しないように **df_data1**は **\"A\"** 、 **df_data2** は **\"B\"** のラベルを追加する（MultiIndexとする）\n",
    "    * 連結したDataFrameを **df** に代入する\n",
    "    * **df** の **\"A\"** ラベルのデータを **A**に代入する\n",
    "    * **df** の **\"B\"** ラベルの **\"orange\"** を **B_orange**に代入する\n",
    "    \n",
    "（参考：9.2.3 連結する際のラベルの指定）"
   ]
  },
  {
   "cell_type": "code",
   "execution_count": null,
   "metadata": {
    "id": "answer"
   },
   "outputs": [],
   "source": [
    "import numpy as np\n",
    "import pandas as pd\n",
    "\n",
    "## 1つめのDataFrame\n",
    "data1 = {\"apple\": [45, 48], \"orange\": [68, 10]}\n",
    "index1 = [1,2]\n",
    "df_data1 = pd.DataFrame(data1)\n",
    "df_data1.index = index1\n",
    "## 2つめのDataFrame\n",
    "data2 = {\"orange\": [76, 6], \"banana\": [17, 2]}\n",
    "index2 = [2,3]\n",
    "df_data2 = pd.DataFrame(data2)\n",
    "df_data2.index = index2\n",
    "\n",
    "# df_data1とdf_data2を横方向に連結する\n",
    "# その際、それぞれ\"A\"、\"B\"のラベルを指定してMultiIndexにしてdfに代入する\n",
    "df = \n",
    "\n",
    "#  dfの\"A\"ラベルのデータをAに代入する\n",
    "A = \n",
    "\n",
    "#  dfの\"B\"ラベルの\"orange\"をB_orangeに代入する\n",
    "B_orange = \n",
    "\n",
    "print(\"==== 横方向の連結 ====\")\n",
    "print(df)\n",
    "print(\"==== 横方向連結データ\\\"A\\\"の出力 ====\")\n",
    "print(A)\n",
    "print(\"==== 横方向連結データ\\\"B_orange\\\"の出力 ====\")\n",
    "print(B_orange)\n"
   ]
  },
  {
   "cell_type": "markdown",
   "metadata": {},
   "source": [
    "### 9-6\n",
    "* 以下の処理を行うプログラムを完成させなさい。\n",
    "    * DataFrame型の変数 **df_data1** と **df_data2** を縦方向に連結する\n",
    "    * ラベル（インデックス）が重複しないように **df_data1**は **\"A\"** 、 **df_data2** は **\"B\"** のラベルを追加する（MultiIndexとする）\n",
    "    * 連結したDataFrameを **df** に代入する\n",
    "        * 連結時、警告が出力されないよう引数に **sort=True** を設定すること\n",
    "    * **df** の **\"A\"** ラベルのデータを **A**に代入する\n",
    "    * **df** の **\"B\"** ラベルの **2** を **B_2**に代入する\n",
    "    \n",
    "* ヒント\n",
    "    * 縦方向にMultiIndexがあるDataFrameの参照を行う場合、loc関数を利用する\n",
    "    * 複数階層のIndex参照時はタプル型で指定する\n",
    "    \n",
    "（参考：9.2.3 連結する際のラベルの指定）"
   ]
  },
  {
   "cell_type": "code",
   "execution_count": null,
   "metadata": {},
   "outputs": [],
   "source": [
    "import numpy as np\n",
    "import pandas as pd\n",
    "\n",
    "## 1つめのDataFrame\n",
    "data1 = {\"apple\": [45, 48], \"orange\": [68, 10]}\n",
    "index1 = [1,2]\n",
    "df_data1 = pd.DataFrame(data1)\n",
    "df_data1.index = index1\n",
    "## 2つめのDataFrame\n",
    "data2 = {\"orange\": [76, 6], \"banana\": [17, 2]}\n",
    "index2 = [2,3]\n",
    "df_data2 = pd.DataFrame(data2)\n",
    "df_data2.index = index2\n",
    "\n",
    "# df_data1とdf_data2を縦方向に連結する\n",
    "# その際、それぞれ\"A\"、\"B\"のラベルを指定してMultiIndexにしてdfに代入する\n",
    "df = \n",
    "\n",
    "#  dfの\"A\"ラベルのデータをAに代入する\n",
    "A = \n",
    "\n",
    "#  dfの\"B\"ラベルの2をB_2に代入する\n",
    "B_2 = \n",
    "\n",
    "print(\"==== 縦方向の連結 ====\")\n",
    "print(df)\n",
    "print(\"==== 縦方向連結データ\\\"A\\\"の出力 ====\")\n",
    "print(A)\n",
    "print(\"==== 縦方向連結データ\\\"B_2\\\"の出力 ====\")\n",
    "print(B_2)\n"
   ]
  },
  {
   "cell_type": "markdown",
   "metadata": {},
   "source": [
    "### 9-7\n",
    "* 以下の処理を行うプログラムを完成させなさい。\n",
    "    * DataFrame型の変数 **df1** と **df2** をカラム **\"fruits\"** をKeyに **内部結合** し、 **df_i** に代入する\n",
    "    * DataFrame型の変数 **df1** と **df2** をカラム **\"fruits\"** をKeyに **外部結合** し、 **df_o** に代入する\n",
    "    \n",
    "（参考：9.3.2 内部結合の基本、9.3.3 外部結合の基本）"
   ]
  },
  {
   "cell_type": "code",
   "execution_count": null,
   "metadata": {},
   "outputs": [],
   "source": [
    "import numpy as np\n",
    "import pandas as pd\n",
    "\n",
    "## 1つめのDataFrame\n",
    "data1 = {\"amount\": [1, 4, 5],\n",
    "         \"fruits\": [\"banana\", \"strawberry\", \"kiwifruit\"],\n",
    "         \"year\": [2001, 2008, 2006]}\n",
    "df1 = pd.DataFrame(data1)\n",
    "## 2つめのDataFrame\n",
    "data2 = {\"fruits\": [\"banana\", \"strawberry\", \"mango\"],\n",
    "         \"price\": [100, 250, 3000],\n",
    "         \"year\": [2001, 2008, 2007]}\n",
    "df2 = pd.DataFrame(data2)\n",
    "\n",
    "## カラム\"fruits\"をKeyに内部結合を行いdf_iに代入する\n",
    "df_i = \n",
    "## カラム\"fruits\"をKeyに外部結合を行いdf_oに代入する\n",
    "df_o = \n",
    "\n",
    "print(\"=== 内部結合（Keyとなるカラム：fruits） ===\")\n",
    "print(df_i)\n",
    "print(\"=== 外部結合（Keyとなるカラム：fruits） ===\")\n",
    "print(df_o)"
   ]
  },
  {
   "cell_type": "markdown",
   "metadata": {},
   "source": [
    "### 9-8\n",
    "* **df1** と **df2** を以下の条件で結合するプログラムを完成させなさい。\n",
    "    * **df1** の **fruits_name** と **df2** の **fruits_nm** をKeyにして結合する\n",
    "    * 結合方法は内部結合とする\n",
    "    \n",
    "（参考：9.3.4 同名でない列をKeyにして結合する）"
   ]
  },
  {
   "cell_type": "code",
   "execution_count": null,
   "metadata": {},
   "outputs": [],
   "source": [
    "import numpy as np\n",
    "import pandas as pd\n",
    "\n",
    "## 1つめのDataFrame\n",
    "data1 = {\"amount\": [1, 4, 5],\n",
    "         \"fruits_name\": [\"banana\", \"strawberry\", \"kiwifruit\"],\n",
    "         \"year\": [2001, 2008, 2006]}\n",
    "df1 = pd.DataFrame(data1)\n",
    "## 2つめのDataFrame\n",
    "data2 = {\"fruits_nm\": [\"banana\", \"strawberry\", \"mango\"],\n",
    "         \"price\": [100, 250, 3000],\n",
    "         \"year\": [2001, 2008, 2007]}\n",
    "df2 = pd.DataFrame(data2)\n",
    "\n",
    "print(\"=== df1 ===\")\n",
    "print(df1)\n",
    "print(\"=== df2 ===\")\n",
    "print(df2)\n",
    "\n",
    "## df1のfruits_nameとdf2のfruits_nmをKeyにして内部結合を行う\n",
    "df3 = \n",
    "\n",
    "print(\"=== 結合結果 ===\")\n",
    "print(df3)"
   ]
  },
  {
   "cell_type": "markdown",
   "metadata": {},
   "source": [
    "### 9-9\n",
    "* **user_df** と **item_df** を以下の条件で結合するプログラムを完成させなさい。\n",
    "    * **user_df** の **インデックス** と **item_df** の **user_id** をKeyにして結合する\n",
    "    * 結合方法は内部結合とする\n",
    "    \n",
    "（参考：9.3.5 インデックスをKeyにして結合する）"
   ]
  },
  {
   "cell_type": "code",
   "execution_count": null,
   "metadata": {},
   "outputs": [],
   "source": [
    "import pandas as pd\n",
    "\n",
    "# 顧客情報DataFrame\n",
    "user_df = pd.DataFrame([[\"Sato\"],\n",
    "                        [\"Ito\"],\n",
    "                        [\"Suzuki\"]],\n",
    "                        columns=[\"name\"])\n",
    "user_df.index = [11, 12, 13]\n",
    "\n",
    "# 注文情報DataFrame\n",
    "item_df = pd.DataFrame([[100, 123, 11],\n",
    "                        [101, 456, 12]],\n",
    "                        columns=[\"id\", \"item_id\", \"user_id\"])\n",
    "\n",
    "print(\"=== user_df ===\")\n",
    "print(user_df)\n",
    "print(\"=== item_df ===\")\n",
    "print(item_df)\n",
    "\n",
    "## user_dfのインデックスとitem_dfのuser_idをKeyにして内部結合する\n",
    "df =\n",
    "\n",
    "print(\"=== 結合結果 ===\")\n",
    "print(df)"
   ]
  },
  {
   "cell_type": "markdown",
   "metadata": {},
   "source": [
    "### 9-10\n",
    "以下の処理を行うプログラムを完成させなさい。  \n",
    "* DataFrame型の変数**df**の冒頭4行を取得し、**df_head** に代入する。\n",
    "* DataFrame型の変数**df**の末尾2行を取得し、**df_tail** に代入する。\n",
    "\n",
    "（参考：9.4.1 一部の行を得る）"
   ]
  },
  {
   "cell_type": "code",
   "execution_count": null,
   "metadata": {
    "id": "answer"
   },
   "outputs": [],
   "source": [
    "import numpy as np\n",
    "import pandas as pd\n",
    "\n",
    "np.random.seed(0)\n",
    "columns = [\"apple\", \"orange\", \"banana\"]\n",
    "# DataFrameを生成し列を追加\n",
    "df = pd.DataFrame()\n",
    "for column in columns:\n",
    "    df[column] = np.random.choice(range(1, 51), 10)\n",
    "df.index = range(1, 11)\n",
    "print(\"=== df ===\")\n",
    "print(df)\n",
    "\n",
    "# dfの冒頭4行を取得しdf_headに代入する\n",
    "df_head =\n",
    "\n",
    "# dfの末尾2行を取得しdf_tailに代入する\n",
    "df_tail =\n",
    "\n",
    "\n",
    "print(\"=== dfの冒頭4行 ===\")\n",
    "print(df_head)\n",
    "print(\"=== dfの末尾2行 ===\")\n",
    "print(df_tail)"
   ]
  },
  {
   "cell_type": "markdown",
   "metadata": {},
   "source": [
    "### 9-11\n",
    "* **df** について、以下の処理を行うプログラムを完成させなさい。\n",
    "    * **df** の各要素に10を加える\n",
    "    * Numpyの関数を用いて **df** の列単位での合計を求める\n",
    "    * Numpyの関数を用いて **df** 全要素の平均を求める\n",
    "    \n",
    "（参考：9.4.2 計算処理を適用する）"
   ]
  },
  {
   "cell_type": "code",
   "execution_count": null,
   "metadata": {
    "id": "answer",
    "scrolled": false
   },
   "outputs": [],
   "source": [
    "import numpy as np\n",
    "import pandas as pd\n",
    "import math\n",
    "\n",
    "np.random.seed(0)\n",
    "# DataFrame（df）を生成\n",
    "columns = [\"apple\", \"orange\", \"banana\"]\n",
    "df = pd.DataFrame()\n",
    "for column in columns:\n",
    "    df[column] = np.random.choice(range(1, 11), 3)\n",
    "df.index = range(1, 4)\n",
    "print(\"=== DataFrame ===\")\n",
    "print(df)\n",
    "\n",
    "\n",
    "# dfの各要素に10を加える\n",
    "add_10 = \n",
    "\n",
    "# 列単位の合計の計算\n",
    "df_sums = \n",
    "\n",
    "# 全要素の平均の計算\n",
    "df_ave = \n",
    "\n",
    "print(\"=== dfの各要素に10を加える ===\")\n",
    "print(add_10)\n",
    "print(\"=== dfの列単位の合計 ===\")\n",
    "print(df_sums)\n",
    "print(\"=== dfの全要素の平均 ===\")\n",
    "print(df_ave)"
   ]
  },
  {
   "cell_type": "markdown",
   "metadata": {},
   "source": [
    "### 9-12\n",
    "* 以下の処理を行うプログラムを完成させなさい。\n",
    "    * DataFrame型の変数 **df** の要約統計量を取り出して **df_des** に代入する\n",
    "    * 要約統計量のうち、 **最小値**と**最大値** を取り出して **df_minmax** に代入する\n",
    "    \n",
    "（参考：9.4.3 要約統計量を得る）"
   ]
  },
  {
   "cell_type": "code",
   "execution_count": null,
   "metadata": {
    "id": "answer"
   },
   "outputs": [],
   "source": [
    "import numpy as np\n",
    "import pandas as pd\n",
    "np.random.seed(0)\n",
    "\n",
    "# DataFrameを生成\n",
    "columns = [\"apple\", \"orange\", \"banana\"]\n",
    "df = pd.DataFrame()\n",
    "for column in columns:\n",
    "    df[column] = np.random.choice(range(1, 50), 5)\n",
    "df.index = range(1, 6)\n",
    "print(\"=== DataFrame ===\")\n",
    "print(df)\n",
    "\n",
    "# dfの要約統計量を出力する\n",
    "df_des = \n",
    "\n",
    "# dfの要約統計量のうち、最小値と最大値を取り出してdf_minmaxに代入する\n",
    "df_minmax = \n",
    "\n",
    "print(\"=== 要約統計量 ===\")\n",
    "print(df_des)\n",
    "print(\"=== 最小値、最大値 ===\")\n",
    "print(df_minmax)"
   ]
  },
  {
   "cell_type": "markdown",
   "metadata": {},
   "source": [
    "### 9-13\n",
    "* DataFrame型の変数 **df** について、以下の処理を行うプログラムを完成させなさい。\n",
    "    * 各行について、2行後の行との差を計算したDataFrameを**df_diff1** に代入する。\n",
    "    * 各行について、1行前の行との差を計算したDataFrameを**df_diff2** に代入する。\n",
    "    * 各列について、1列後の行との差を計算したDataFrameを**df_diff3** に代入する。\n",
    "    * 各列について、2列前の行との差を計算したDataFrameを**df_diff4** に代入する。\n",
    "    \n",
    "（参考：9.4.4 DataFrameの行間または列間の差を求める）"
   ]
  },
  {
   "cell_type": "code",
   "execution_count": null,
   "metadata": {
    "id": "answer"
   },
   "outputs": [],
   "source": [
    "import numpy as np\n",
    "import pandas as pd\n",
    "\n",
    "np.random.seed(0)\n",
    "# DataFrameを生成\n",
    "columns = [\"1月\", \"2月\", \"3月\", \"4月\", \"5月\", \"6月\"]\n",
    "df = pd.DataFrame()\n",
    "for column in columns:\n",
    "    df[column] = np.random.choice(range(10, 51), 6)\n",
    "df.index = range(1, 7)\n",
    "\n",
    "print(\"=== DataFrame ===\")\n",
    "print(df)\n",
    "\n",
    "# 2行後の行との差を計算したDataFrameをdf_diff1に代入\n",
    "df_diff1 = \n",
    "\n",
    "# 1行前の行との差を計算したDataFrameをdf_diff2に代入\n",
    "df_diff2 = \n",
    "\n",
    "# 1列後の列との差を計算したDataFrameをdf_diff3に代入\n",
    "df_diff3 = \n",
    "\n",
    "# 2列前の列との差を計算したDataFrameをdf_diff4に代入\n",
    "df_diff4 = \n",
    "\n",
    "print(\"=== 2行後の行との差 ===\")\n",
    "print(df_diff1)\n",
    "print(\"=== 1行前の行との差 ===\")\n",
    "print(df_diff2)\n",
    "print(\"=== 1行後の行との差 ===\")\n",
    "print(df_diff3)\n",
    "print(\"=== 2行前の行との差 ===\")\n",
    "print(df_diff4)"
   ]
  },
  {
   "cell_type": "markdown",
   "metadata": {},
   "source": [
    "### 9-14\n",
    "* DataFrame型の変数 **class_df** について、以下の処理を行うプログラムを完成させなさい。\n",
    "    * **Class** についてグループ化を行い、 **grouped_df** に代入する\n",
    "    * **grouped_df** に代入されたグループごとの各項目の合計を **sum_df** に代入する\n",
    "    * **grouped_df** に代入されたグループごとの各項目の平均を **mean_df** に代入する\n",
    "    \n",
    "（参考：9.4.5 グループ化）"
   ]
  },
  {
   "cell_type": "code",
   "execution_count": null,
   "metadata": {},
   "outputs": [],
   "source": [
    "import pandas as pd\n",
    "\n",
    "# DataFrameを生成\n",
    "class_df = pd.DataFrame([[\"satou\", 77, 64, \"A\"],\n",
    "                         [\"saitou\", 71, 69, \"B\"],\n",
    "                         [\"katou\", 69, 68, \"A\"],\n",
    "                         [\"itou\", 80, 62, \"A\"],\n",
    "                         [\"sudou\", 76, 62, \"B\"],\n",
    "                         [\"kondou\", 71, 68, \"B\"]], \n",
    "                         columns=[\"Name\", \"Test1\", \n",
    "                                  \"Test2\", \"Class\"])\n",
    "print(\"=== df ===\")\n",
    "print(class_df)\n",
    "\n",
    "# class_dfをClassについてグループ化し、grouped_dfに代入\n",
    "grouped_df = \n",
    "\n",
    "# Classごとの項目の合計をsum_dfに代入\n",
    "sum_df = \n",
    "\n",
    "# Classごとの項目の平均をmean_dfに代入\n",
    "mean_df = \n",
    "\n",
    "# 出力\n",
    "print(\"=== sum_df ===\")\n",
    "print(sum_df)\n",
    "print(\"=== mean_df ===\")\n",
    "print(mean_df)"
   ]
  }
 ],
 "metadata": {
  "anaconda-cloud": {},
  "kernelspec": {
   "display_name": "Python 3",
   "language": "python",
   "name": "python3"
  },
  "language_info": {
   "codemirror_mode": {
    "name": "ipython",
    "version": 3
   },
   "file_extension": ".py",
   "mimetype": "text/x-python",
   "name": "python",
   "nbconvert_exporter": "python",
   "pygments_lexer": "ipython3",
   "version": "3.7.4"
  },
  "varInspector": {
   "cols": {
    "lenName": 16,
    "lenType": 16,
    "lenVar": 40
   },
   "kernels_config": {
    "python": {
     "delete_cmd_postfix": "",
     "delete_cmd_prefix": "del ",
     "library": "var_list.py",
     "varRefreshCmd": "print(var_dic_list())"
    },
    "r": {
     "delete_cmd_postfix": ") ",
     "delete_cmd_prefix": "rm(",
     "library": "var_list.r",
     "varRefreshCmd": "cat(var_dic_list()) "
    }
   },
   "types_to_exclude": [
    "module",
    "function",
    "builtin_function_or_method",
    "instance",
    "_Feature"
   ],
   "window_display": false
  }
 },
 "nbformat": 4,
 "nbformat_minor": 2
}
