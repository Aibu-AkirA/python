{
 "cells": [
  {
   "cell_type": "markdown",
   "metadata": {},
   "source": [
    "# 力試しタイム"
   ]
  },
  {
   "cell_type": "markdown",
   "metadata": {},
   "source": [
    "P.168の総合添削問題をやってみてはいかが？"
   ]
  },
  {
   "cell_type": "markdown",
   "metadata": {},
   "source": [
    "#  Chapter7　NumPy"
   ]
  },
  {
   "cell_type": "markdown",
   "metadata": {},
   "source": [
    "## 7.1 NumPyの外観（P.172）"
   ]
  },
  {
   "cell_type": "markdown",
   "metadata": {
    "courseId": 2010,
    "exerciseId": "S1pKhUjUlG",
    "id": "code_session_name",
    "important": true,
    "isDL": false,
    "timeoutSecs": 5
   },
   "source": [
    "### 7.1.1 Numpyとは"
   ]
  },
  {
   "cell_type": "markdown",
   "metadata": {},
   "source": [
    "* **NumPy**\n",
    "    * Pythonでベクトルや行列計算を**高速に**行うのに特化した基盤となるライブラリ\n",
    "* Numpy以外の主なライブラリ\n",
    "    * 機械学習ライブラリ\n",
    "        * scikit-learn\n",
    "        * Keras + TensorFlow\n",
    "    * 計算・可視化ライブラリ\n",
    "        * Scipy\n",
    "        * Pandas\n",
    "        * matplotlib\n",
    "        \n"
   ]
  },
  {
   "cell_type": "markdown",
   "metadata": {
    "courseId": 2010,
    "exerciseId": "S1pKhUjUlG",
    "id": "code_session_name",
    "important": true,
    "isDL": false,
    "timeoutSecs": 5
   },
   "source": [
    "### 7.1.2 Numpyの高速な処理の体験"
   ]
  },
  {
   "cell_type": "markdown",
   "metadata": {},
   "source": [
    "#### リスト7.1（NumPyによる処理高速化の確認）（P.174）"
   ]
  },
  {
   "cell_type": "code",
   "execution_count": 1,
   "metadata": {},
   "outputs": [
    {
     "name": "stdout",
     "output_type": "stream",
     "text": [
      "Pythonの機能のみでの計算結果：6.62[sec]\n",
      "NumPyを使った場合の計算結果：0.05[sec]\n"
     ]
    }
   ],
   "source": [
    "# 必要なライブラリをimportします\n",
    "import numpy as np\n",
    "import time\n",
    "from numpy.random import rand\n",
    "\n",
    "# 行、列の大きさ\n",
    "N = 150\n",
    "\n",
    "# 行列を初期化します\n",
    "matA = np.array(rand(N, N))\n",
    "matB = np.array(rand(N, N))\n",
    "matC = np.array([[0] * N for _ in range(N)])\n",
    "\n",
    "# Pythonのリストを使って計算します\n",
    "\n",
    "# 開始時間を取得します\n",
    "start = time.time()\n",
    "\n",
    "# for文を使って行列の掛け算を実行します\n",
    "for i in range(N):\n",
    "    for j in range(N):\n",
    "        for k in range(N):\n",
    "            matC[i][j] = matA[i][k] * matB[k][j]\n",
    "\n",
    "print(\"Pythonの機能のみでの計算結果：%.2f[sec]\" % float(time.time() - start))\n",
    "\n",
    "# NumPyを使って計算します\n",
    "\n",
    "# 開始時間を取得します\n",
    "start = time.time()\n",
    "\n",
    "# NumPyを使って行列の掛け算を実行します\n",
    "matC = np.dot(matA, matB)\n",
    "\n",
    "# 少数第2位の桁で打ち切っているのでNumPyは0.00[sec]と表示されます\n",
    "print(\"NumPyを使った場合の計算結果：%.2f[sec]\" % float(time.time() - start))"
   ]
  },
  {
   "cell_type": "markdown",
   "metadata": {},
   "source": [
    "## 7.2 NumPy1次元配列（P.175）\n",
    "\n",
    "### 7.2.1 import\n",
    "* NumPyのimport方法(慣習的な命名規則)\n",
    "    * **import NumPy as np**\n",
    "    \n",
    "### 7.2.2 1次元配列\n",
    "* **ndarray**\n",
    "    * 配列を高速で扱うためのクラス\n",
    "    * インスタンスの生成方法\n",
    "        * **`np.array(リスト)`**\n",
    "            * リストの各要素を配列要素として持つインスタンスを生成\n",
    "        * **`np.arange(X)`**\n",
    "            * 等間隔に増減させた値を配列要素として持つインスタンスを生成"
   ]
  },
  {
   "cell_type": "markdown",
   "metadata": {},
   "source": [
    "#### インスタンス生成の例"
   ]
  },
  {
   "cell_type": "code",
   "execution_count": 16,
   "metadata": {},
   "outputs": [
    {
     "name": "stdout",
     "output_type": "stream",
     "text": [
      "data1 = [1 2 3]\n",
      "data2 = [0 1 2 3]\n",
      "data3 = [1 3 5 7 9]\n"
     ]
    }
   ],
   "source": [
    "import numpy as np\n",
    "\n",
    "## np.array()関数を用いて、リストで生成する例\n",
    "data1 = np.array([1,2,3])\n",
    "print(\"data1 =\", data1)\n",
    "\n",
    "## np.arange()関数を用いて生成する例\n",
    "data2 = np.arange(4)\n",
    "print(\"data2 =\", data2)\n",
    "\n",
    "## np.arange()関数を用いて生成する例-その2-\n",
    "data3 = np.arange(1,10,2)\n",
    "print(\"data3 =\", data3)"
   ]
  },
  {
   "cell_type": "markdown",
   "metadata": {},
   "source": [
    "* 次元ごとの配列の呼び方\n",
    "    * 1次元：ベクトル\n",
    "        * 例：`array_1d = np.array([1,2,3,4,5,6,7,8])`\n",
    "    * 2次元：行列\n",
    "        * 例：`array_2d = np.array([[1,2,3,4],[5,6,7,8]])`\n",
    "    * 3次元以上：テンソル\n",
    "        * 例：`array_3d = np.array([[[1,2],[3,4]],[[5,6],[7,8]]])`\n",
    "\n",
    "### 7.2.3 1次元配列の計算\n",
    "* 要素ごとの計算\n",
    "    * Pythonのリスト\n",
    "        * ループを書いて要素を1つずつ取り出して計算\n",
    "    * ndarray\n",
    "        * ndarray同士の算術演算では同じ位置にある要素同士で計算される\n",
    "        * ループを書く必要がない\n",
    "        \n",
    "#### リスト7.7, リスト7.8（1次元配列の計算の例）（P.178）"
   ]
  },
  {
   "cell_type": "code",
   "execution_count": 8,
   "metadata": {},
   "outputs": [
    {
     "name": "stdout",
     "output_type": "stream",
     "text": [
      "[2, 4, 6, 8]\n",
      "[2 4 6 8]\n"
     ]
    }
   ],
   "source": [
    "# NumPyを使わないで実行します\n",
    "storages = [1, 2, 3, 4]\n",
    "new_storages = []\n",
    "for n in storages:\n",
    "    n += n\n",
    "    new_storages.append(n)\n",
    "print(new_storages)\n",
    "\n",
    "# NumPyを使って実行します\n",
    "import numpy as np\n",
    "storages = np.array([1, 2, 3, 4])\n",
    "storages += storages\n",
    "print(storages)"
   ]
  },
  {
   "cell_type": "markdown",
   "metadata": {},
   "source": [
    "### 7.2.4 インデックス参照とスライス\n",
    "* NumPyでもインデックス参照やスライスの利用が可能\n",
    "    * Pythonのリスト型と同様\n",
    "    * スライスの値を変更する場合は**`arr[start:end] = 変更したい値`**\n",
    "        * startから(end - 1)のリストが作成されることに注意する\n",
    "        \n",
    "#### リスト7.12（スライスの例）（P.181）"
   ]
  },
  {
   "cell_type": "code",
   "execution_count": 11,
   "metadata": {},
   "outputs": [
    {
     "name": "stdout",
     "output_type": "stream",
     "text": [
      "[0 1 2 3 4 5 6 7 8 9]\n",
      "[1 1 1 3 4 5 6 7 8 9]\n"
     ]
    }
   ],
   "source": [
    "arr = np.arange(10)\n",
    "print(arr)\n",
    "\n",
    "arr[0:3] = 1\n",
    "print(arr)"
   ]
  },
  {
   "cell_type": "markdown",
   "metadata": {},
   "source": [
    "### 7.2.5 ndarrayの注意点\n",
    "* 代入先の変数の値を変更すると元のndarray配列の値も変更される\n",
    "    * Pythonのリストと同様\n",
    "    * ndarrayをコピーして2つの別々の変数にしたい場合はcopy()メソッドを使用する\n",
    "    \n",
    "#### リスト7.15：問題（代入時の挙動）（P.183）"
   ]
  },
  {
   "cell_type": "code",
   "execution_count": 12,
   "metadata": {},
   "outputs": [
    {
     "name": "stdout",
     "output_type": "stream",
     "text": [
      "[1 2 3 4 5]\n",
      "[100   2   3   4   5]\n",
      "[1 2 3 4 5]\n",
      "[1 2 3 4 5]\n"
     ]
    }
   ],
   "source": [
    "import numpy as np\n",
    "\n",
    "# ndarrayをそのまま別の変数に代入した場合の挙動を見て行きましょう\n",
    "arr1 = np.array([1, 2, 3, 4, 5])\n",
    "print(arr1)\n",
    "\n",
    "arr2 = arr1\n",
    "arr2[0] = 100\n",
    "\n",
    "# 別の変数への変更が元の変数にも影響されています\n",
    "print(arr1)\n",
    "\n",
    "# ndarrayをcopy( )を使って別の変数に代入した場合の挙動を見て行きましょう\n",
    "arr1 = np.array([1, 2, 3, 4, 5])\n",
    "print(arr1)\n",
    "\n",
    "arr2 = arr1.copy()\n",
    "arr2[0] = 100\n",
    "\n",
    "# 別の変数への変更が元の変数には影響を与えていません\n",
    "print(arr1)"
   ]
  },
  {
   "cell_type": "markdown",
   "metadata": {},
   "source": [
    "### 7.2.6 viewとcopy\n",
    "* Pythonのリストとndarrayの相違点\n",
    "    * ndarrayのスライスは**もとの配列と同じデータを指している（view）**\n",
    "* スライスをコピーとして扱いたい場合は **`arr[:].copy()`** とする\n",
    "\n",
    "#### リスト7.17：問題（スライスの挙動）（P.184）"
   ]
  },
  {
   "cell_type": "code",
   "execution_count": 3,
   "metadata": {},
   "outputs": [
    {
     "name": "stdout",
     "output_type": "stream",
     "text": [
      "リスト型データです\n",
      "arr_List: [0, 1, 2, 3, 4, 5, 6, 7, 8, 9]\n",
      "\n",
      "リストのスライスではコピーが作られるので、\n",
      "       arr_Listにはarr_List_copyの変更が反映されません\n",
      "arr_List: [0, 1, 2, 3, 4, 5, 6, 7, 8, 9]\n",
      "\n",
      "NumPyのndarrayデータです\n",
      "arr_NumPy: [0 1 2 3 4 5 6 7 8 9]\n",
      "\n",
      "NumPyのスライスではview(データが格納されている場所の情報)が代入されるので、arr_NumPy_viewの変更がarr_NumPyに反映されます\n",
      "arr_NumPy: [100   1   2   3   4   5   6   7   8   9]\n",
      "\n",
      "NumPyのndarrayでcopy()を用いた場合での挙動です\n",
      "arr_NumPy: [0 1 2 3 4 5 6 7 8 9]\n",
      "\n",
      "copy()を用いた場合は、コピーが生成されているのでarr_NumPy_copyはarr_NumPyに影響を与えません\n",
      "arr_NumPy: [0 1 2 3 4 5 6 7 8 9]\n"
     ]
    }
   ],
   "source": [
    "import numpy as np\n",
    "\n",
    "# Pythonのリストでスライスを用いた場合の挙動を確認しましょう\n",
    "arr_List = [x for x in range(10)]\n",
    "print(\"リスト型データです\")\n",
    "print(\"arr_List:\",arr_List)\n",
    "\n",
    "print()\n",
    "arr_List_copy = arr_List[:]\n",
    "arr_List_copy[0] = 100\n",
    "\n",
    "print(\"リストのスライスではコピーが作られるので、 \\\n",
    "      arr_Listにはarr_List_copyの変更が反映されません\")\n",
    "print(\"arr_List:\",arr_List)\n",
    "print()\n",
    "\n",
    "# NumPyのndarrayでスライスを用いた場合での挙動を確認しましょう\n",
    "arr_NumPy = np.arange(10)\n",
    "print(\"NumPyのndarrayデータです\")\n",
    "print(\"arr_NumPy:\",arr_NumPy)\n",
    "print()\n",
    "\n",
    "arr_NumPy_view = arr_NumPy[:]\n",
    "arr_NumPy_view[0] = 100\n",
    "\n",
    "print(\"NumPyのスライスではview(データが格納されている場所の情報)が代入されるので、arr_NumPy_viewの変更がarr_NumPyに反映されます\")\n",
    "print(\"arr_NumPy:\",arr_NumPy)\n",
    "print()\n",
    "\n",
    "# NumPyのndarrayでcopy()を用いた場合での挙動を確認しましょう\n",
    "arr_NumPy = np.arange(10)\n",
    "print('NumPyのndarrayでcopy()を用いた場合での挙動です')\n",
    "print(\"arr_NumPy:\",arr_NumPy)\n",
    "print()\n",
    "arr_NumPy_copy = arr_NumPy[:].copy()\n",
    "arr_NumPy_copy[0] = 100\n",
    "\n",
    "print(\"copy()を用いた場合は、コピーが生成されているのでarr_NumPy_copyはarr_NumPyに影響を与えません\")\n",
    "print(\"arr_NumPy:\",arr_NumPy)"
   ]
  },
  {
   "cell_type": "markdown",
   "metadata": {},
   "source": [
    "### 7.2.7 ブールインデックス参照\n",
    "* \\[ \\]の中に論理値（True/False）の配列を用いて要素を取り出す方法\n",
    "\n",
    "#### リスト7.19（ブールインデックス参照の例①）（P.187）"
   ]
  },
  {
   "cell_type": "code",
   "execution_count": 2,
   "metadata": {
    "scrolled": true
   },
   "outputs": [
    {
     "name": "stdout",
     "output_type": "stream",
     "text": [
      "[2 4 6]\n"
     ]
    }
   ],
   "source": [
    "import numpy as np\n",
    "\n",
    "arr = np.array([2, 4, 6, 7]) \n",
    "### True, True, True, Falseなので、インデックス0～2までが出力される\n",
    "print(arr[np.array([True, True, True, False])])  "
   ]
  },
  {
   "cell_type": "markdown",
   "metadata": {},
   "source": [
    "#### リスト7.20（ブールインデックス参照の例②）（P.187）\n",
    "* 3で割ったときの余りが1だとTrue→出力される"
   ]
  },
  {
   "cell_type": "code",
   "execution_count": 4,
   "metadata": {},
   "outputs": [
    {
     "name": "stdout",
     "output_type": "stream",
     "text": [
      "arrの各要素を3で割ったときの余りが1かどうかの真偽値の配列\n",
      "[False  True False  True]\n",
      "3で割ったときの余りが1となるarrの要素の配列\n",
      "[4 7]\n"
     ]
    }
   ],
   "source": [
    "import numpy as np\n",
    "\n",
    "arr = np.array([2, 4, 6, 7]) \n",
    "\n",
    "print(\"arrの各要素を3で割ったときの余りが1かどうかの真偽値の配列\")\n",
    "print(arr % 3 == 1)\n",
    "\n",
    "print(\"3で割ったときの余りが1となるarrの要素の配列\")\n",
    "print(arr[arr % 3 == 1])\n"
   ]
  },
  {
   "cell_type": "markdown",
   "metadata": {},
   "source": [
    "### 7.2.8 ユニバーサル関数\n",
    "* ndarray配列の各要素に対して演算した結果を返す関数\n",
    "    * 多次元配列でも利用可能\n",
    "    * 引数が1つのもの\n",
    "        * np.abs()\n",
    "            * 要素の絶対値を返す\n",
    "        * np.exp()\n",
    "            * 要素のe(自然対数の底)のべき乗を返す\n",
    "        * np.sqrt()\n",
    "            * 要素の平方根を返す\n",
    "    * 引数が2つのもの\n",
    "        * np.add()\n",
    "            * 要素同士の和を返す\n",
    "        * np.subtract()\n",
    "            * 要素同士の差を返す\n",
    "        * np.maximum()\n",
    "            * 要素同士の最大値を格納した配列を返す\n",
    "            \n",
    "#### リスト7.23：問題（ユニバーサル関数）（P.189）\n",
    "* 変数arrの各要素を絶対値にし、変数arr_absに代入してください\n",
    "* 変数arr_absの各要素のeのべき乗と平方根を出力してください\n"
   ]
  },
  {
   "cell_type": "code",
   "execution_count": 5,
   "metadata": {},
   "outputs": [
    {
     "name": "stdout",
     "output_type": "stream",
     "text": [
      "[ 4 -9 16 -4 20]\n",
      "[ 4  9 16  4 20]\n",
      "[5.45981500e+01 8.10308393e+03 8.88611052e+06 5.45981500e+01\n",
      " 4.85165195e+08]\n",
      "[2.         3.         4.         2.         4.47213595]\n"
     ]
    }
   ],
   "source": [
    "import numpy as np\n",
    "\n",
    "arr = np.array([4, -9, 16, -4, 20])\n",
    "print(arr)\n",
    "\n",
    "# 変数arrの各要素を絶対値にし、変数arr_absに代入してください\n",
    "arr_abs = np.abs(arr)\n",
    "print(arr_abs)\n",
    "\n",
    "# 変数arr_absの各要素のeのべき乗と平方根を出力してください\n",
    "print(np.exp(arr_abs))\n",
    "print(np.sqrt(arr_abs))"
   ]
  },
  {
   "cell_type": "markdown",
   "metadata": {},
   "source": [
    "### 7.2.9 集合関数\n",
    "* 集合関数は1次元配列のみを対象としている\n",
    "* 代表的な関数\n",
    "    * np.unique()\n",
    "        * 重複を取り除きソート\n",
    "    * np.union1d(x, y)\n",
    "        * 配列xとyのうち少なくとも一方に存在する要素を取り出しソート（和集合）\n",
    "    * np.intersect1d(x, y)\n",
    "        * 配列xとyのうち共通する要素を取り出しソート（積集合）\n",
    "    * np.setdiff1d(x, y)\n",
    "        * 配列xとyに共通する要素を配列xから取り除きソート（差集合）\n",
    "     "
   ]
  },
  {
   "cell_type": "markdown",
   "metadata": {},
   "source": [
    "### 7.2.10 乱数\n",
    "* 代表的な乱数生成関数\n",
    "    * np.random.rand()\n",
    "        * 0以上1**未満**の一様乱数を生成\n",
    "        * 引数に整数を入れることで、その整数の数分の乱数を生成する\n",
    "    * np.random.randint(x, y, z)\n",
    "        * x以上y**未満**の整数をz個生成\n",
    "        * zにはタプルを入力可能\n",
    "            * (2,3)の場合→2×3の行列を生成する\n",
    "    * np.random.normal()\n",
    "        * ガウス分布に従う乱数を生成\n",
    "  \n",
    "  \n",
    "* インポート方法\n",
    "    * **from numpy.random import randint**\n",
    "        * 関数呼び出し時に **randint()** のみで使用可能となる\n",
    "    * 一般化すると、「**from モジュール名 import そのモジュールの中の関数名**」\n",
    "    \n",
    "\n",
    "#### 乱数生成関数の使用例"
   ]
  },
  {
   "cell_type": "code",
   "execution_count": 9,
   "metadata": {},
   "outputs": [
    {
     "name": "stdout",
     "output_type": "stream",
     "text": [
      "=== np.random.rand() ===\n",
      "[0.45719403 0.09739825 0.61259157 0.93907821 0.76205847]\n",
      "=== np.random.randint() ===\n",
      "[[9 1 9 7]\n",
      " [4 3 3 6]\n",
      " [7 9 9 9]]\n",
      "=== np.random.normal() ===\n",
      "[ 0.89838587  1.74182179 -0.28910937 -0.0983001  -1.03525512]\n"
     ]
    }
   ],
   "source": [
    "import numpy as np\n",
    "\n",
    "## np.random.rand()の例\n",
    "print(\"=== np.random.rand() ===\")\n",
    "print(np.random.rand(5))\n",
    "\n",
    "## np.random.randint()の例\n",
    "## 1以上10未満の整数で、3×4の行列を作成\n",
    "print(\"=== np.random.randint() ===\")\n",
    "print(np.random.randint(1, 10, (3, 4)))\n",
    "\n",
    "## np.random.normal()の例\n",
    "print(\"=== np.random.normal() ===\")\n",
    "print(np.random.normal(size=5))"
   ]
  },
  {
   "cell_type": "markdown",
   "metadata": {},
   "source": [
    "## 7.3 NumPy2次元配列（P.194）\n",
    "### 7.3.1 2次元配列\n",
    "* 2次元配列（＝行列）の作成方法\n",
    "    * **np.array(\\[ リスト, リスト \\])**\n",
    "* **ndayyay配列.shape**\n",
    "    * 各次元ごとの要素数を返す\n",
    "* **ndarray配列.reshape(a, b)**\n",
    "    * 指定した引数と同じ形の行列に変換"
   ]
  },
  {
   "cell_type": "markdown",
   "metadata": {},
   "source": [
    "#### 2次元配列作成の例"
   ]
  },
  {
   "cell_type": "code",
   "execution_count": 14,
   "metadata": {},
   "outputs": [
    {
     "name": "stdout",
     "output_type": "stream",
     "text": [
      "[[1 2 3]\n",
      " [4 5 6]]\n",
      "[[1 2]\n",
      " [3 4]\n",
      " [5 6]]\n"
     ]
    }
   ],
   "source": [
    "import numpy as np\n",
    "\n",
    "## リストを2つ用意\n",
    "arr1 = [1, 2 ,3]\n",
    "arr2 = [4, 5, 6]\n",
    "\n",
    "## リスト2つを使用したndarray配列の生成\n",
    "np_arr = np.array([arr1, arr2])\n",
    "print(np_arr)\n",
    "\n",
    "## reshapeを用いた行・列数の変換\n",
    "print(np_arr.reshape(3,2))"
   ]
  },
  {
   "cell_type": "markdown",
   "metadata": {},
   "source": [
    "### 7.3.2 インデックス参照とスライス\n",
    "* インデックスを1つ指定　→　任意の行を配列で取得\n",
    "* インデックスを2つ指定　→　個々の要素を取得\n",
    "    * 表現方法（どちらも同じ要素を指す）\n",
    "        * **arr\\[1\\]\\[2\\]**\n",
    "        * **arr\\[1, 2\\]**\n",
    "* スライスの利用も可能\n",
    "\n",
    "#### リスト7.31（インデックス参照の例①）（P.196）"
   ]
  },
  {
   "cell_type": "code",
   "execution_count": 7,
   "metadata": {},
   "outputs": [
    {
     "name": "stdout",
     "output_type": "stream",
     "text": [
      "[4 5 6]\n"
     ]
    }
   ],
   "source": [
    "import numpy as np\n",
    "\n",
    "arr = np.array([[1, 2 ,3], [4, 5, 6]])\n",
    "print(arr[1])"
   ]
  },
  {
   "cell_type": "markdown",
   "metadata": {},
   "source": [
    "#### リスト7.32（インデックス参照の例②）（P.196）"
   ]
  },
  {
   "cell_type": "code",
   "execution_count": 8,
   "metadata": {},
   "outputs": [
    {
     "name": "stdout",
     "output_type": "stream",
     "text": [
      "6\n"
     ]
    }
   ],
   "source": [
    "import numpy as np\n",
    "\n",
    "arr = np.array([[1, 2 ,3], [4, 5, 6]])\n",
    "print(arr[1,2])"
   ]
  },
  {
   "cell_type": "markdown",
   "metadata": {},
   "source": [
    "#### リスト7.33（スライスの例）（P.196）"
   ]
  },
  {
   "cell_type": "code",
   "execution_count": 1,
   "metadata": {},
   "outputs": [
    {
     "name": "stdout",
     "output_type": "stream",
     "text": [
      "[5 6]\n"
     ]
    }
   ],
   "source": [
    "import numpy as np\n",
    "\n",
    "arr = np.array([[1, 2 ,3], [4, 5, 6]])\n",
    "print(arr[1,1:])  ## 1行目の1列目以降を表示"
   ]
  },
  {
   "cell_type": "markdown",
   "metadata": {},
   "source": [
    "### 7.3.3 axis\n",
    "* axis\n",
    "    * 座標軸のようなもの\n",
    "    * 2次元配列の場合\n",
    "        * axis = 0\n",
    "            * 列ごとに処理を行う\n",
    "        * axis = 1\n",
    "            * 行ごとに処理を行う\n",
    "\n",
    "* sum()メソッドの場合\n",
    "    * 引数に指定なし\n",
    "        * 単純な合計値\n",
    "    * 引数に axis=0  \n",
    "        * 縦（列方向）に足し算が行われ、1次元配列として出力\n",
    "    * 引数に axis=1\n",
    "        * 横（行方向）に足し算が行われ、1次元配列として出力"
   ]
  },
  {
   "cell_type": "markdown",
   "metadata": {},
   "source": [
    "#### リスト7.36（axisの例）（P.199）"
   ]
  },
  {
   "cell_type": "code",
   "execution_count": 3,
   "metadata": {},
   "outputs": [
    {
     "name": "stdout",
     "output_type": "stream",
     "text": [
      "21\n",
      "[5 7 9]\n",
      "[ 6 15]\n"
     ]
    }
   ],
   "source": [
    "arr = np.array([[1, 2 ,3], [4, 5, 6]])\n",
    "\n",
    "print(arr.sum())           ## 引数なし→単純な合計値\n",
    "print(arr.sum(axis=0))     ## axis=0 → 縦方向に計算\n",
    "print(arr.sum(axis=1))     ## axis=1 → 横方向に計算"
   ]
  },
  {
   "cell_type": "markdown",
   "metadata": {},
   "source": [
    "### 7.3.4 ファンシーインデックス参照"
   ]
  },
  {
   "cell_type": "markdown",
   "metadata": {},
   "source": [
    "* ファンシーインデックス参照\n",
    "    * インデックス参照にインデックスの配列を用いて、**ある特定の順序で行を抽出する**方法\n",
    "        * インデックス参照と表現方法が異なるので注意する\n",
    "        * インデックス番号は0番目からの指定\n",
    "    * スライスと異なり、常に元データのコピーを返し、新しい要素を作成する"
   ]
  },
  {
   "cell_type": "markdown",
   "metadata": {},
   "source": [
    "#### リスト7.39（ファンシーインデックス参照の例）（P.200）"
   ]
  },
  {
   "cell_type": "code",
   "execution_count": 4,
   "metadata": {},
   "outputs": [
    {
     "name": "stdout",
     "output_type": "stream",
     "text": [
      "[[7 8]\n",
      " [5 6]\n",
      " [1 2]]\n"
     ]
    }
   ],
   "source": [
    "arr = np.array([[1, 2], [3, 4], [5, 6], [7, 8]]) \n",
    "\n",
    "# 3行目、2行目、0行目の順番に行の要素を抽出し、新しい要素を作成します\n",
    "# インデックス番号は0から始まります\n",
    "print(arr[[3, 2, 0]]) "
   ]
  },
  {
   "cell_type": "markdown",
   "metadata": {},
   "source": [
    "### 7.3.5 転置行列\n",
    "* 転置\n",
    "    * 行と列を入れ替えること\n",
    "    * ndarrayの転置方法\n",
    "        * np.transpose(ndarray配列)を用いる\n",
    "        * ndarray配列.Tを用いる"
   ]
  },
  {
   "cell_type": "markdown",
   "metadata": {},
   "source": [
    "#### 転置の例"
   ]
  },
  {
   "cell_type": "code",
   "execution_count": 11,
   "metadata": {
    "id": "answer"
   },
   "outputs": [
    {
     "name": "stdout",
     "output_type": "stream",
     "text": [
      "=== arr ===\n",
      "[[ 0  1  2  3]\n",
      " [ 4  5  6  7]\n",
      " [ 8  9 10 11]]\n",
      "=== arr.T ===\n",
      "[[ 0  4  8]\n",
      " [ 1  5  9]\n",
      " [ 2  6 10]\n",
      " [ 3  7 11]]\n",
      "=== np.transpose(arr)) ===\n",
      "[[ 0  4  8]\n",
      " [ 1  5  9]\n",
      " [ 2  6 10]\n",
      " [ 3  7 11]]\n"
     ]
    }
   ],
   "source": [
    "import numpy as np\n",
    "\n",
    "arr = np.arange(12).reshape(3, 4)\n",
    "print(\"=== arr ===\")\n",
    "print(arr)\n",
    "\n",
    "## 変数arrを転置する\n",
    "## arr.T\n",
    "print(\"=== arr.T ===\")\n",
    "print(arr.T)\n",
    "## np.transposeの使用\n",
    "print(\"=== np.transpose(arr)) ===\")\n",
    "print(np.transpose(arr))"
   ]
  },
  {
   "cell_type": "markdown",
   "metadata": {},
   "source": [
    "### 7.3.6 ソート\n",
    "* ndarrayもリスト型と同様にsort()でソートが可能\n",
    "    * 2次元配列の場合\n",
    "        * **`ndarray配列.sort(0)`**\n",
    "            * 列単位で要素がソートされる\n",
    "        * **`ndarray配列.sort(1)`**\n",
    "            * 行単位で要素がソートされる\n",
    "    * **`numpy.sort(ndarray配列)`**でもソート可能\n",
    "        * ソートした配列のコピーを返す(元の配列は変わらない)点がndarray配列.sort()と異なる\n",
    "    * axis指定がない場合、2次元配列なら行単位でソートされる\n",
    "* **`argsort()`**メソッド\n",
    "    * ソート後の配列のインデックスを返す\n",
    "    \n",
    "#### ソートの例"
   ]
  },
  {
   "cell_type": "code",
   "execution_count": 8,
   "metadata": {},
   "outputs": [
    {
     "name": "stdout",
     "output_type": "stream",
     "text": [
      "====arr====\n",
      "[[15 30  5 10]\n",
      " [ 9 12  3  6]\n",
      " [ 4  2  8  6]]\n",
      "\n",
      "====np.sort(arr)====\n",
      "[[ 5 10 15 30]\n",
      " [ 3  6  9 12]\n",
      " [ 2  4  6  8]]\n",
      "====arr====\n",
      "[[15 30  5 10]\n",
      " [ 9 12  3  6]\n",
      " [ 4  2  8  6]]\n",
      "\n",
      "====arr.sort(0)====\n",
      "[[ 4  2  3  6]\n",
      " [ 9 12  5  6]\n",
      " [15 30  8 10]]\n",
      "====arr.sort(1)====\n",
      "[[ 2  3  4  6]\n",
      " [ 5  6  9 12]\n",
      " [ 8 10 15 30]]\n"
     ]
    }
   ],
   "source": [
    "import numpy as np\n",
    "\n",
    "arr = np.array([[15, 30, 5, 10],[9, 12, 3, 6],[4, 2, 8, 6]])\n",
    "\n",
    "print(\"====arr====\")\n",
    "print(arr)\n",
    "print()\n",
    "\n",
    "## numpy.sort()によるソート\n",
    "## axis指定がないので行方向でのソート\n",
    "print(\"====np.sort(arr)====\")\n",
    "print(np.sort(arr))\n",
    "## 元の行列には影響がない\n",
    "print(\"====arr====\")\n",
    "print(arr)\n",
    "print()\n",
    "\n",
    "## 列方向でのソート\n",
    "arr.sort(0)\n",
    "print(\"====arr.sort(0)====\")\n",
    "print(arr)\n",
    "\n",
    "## 行方向でのソート\n",
    "arr.sort(1)\n",
    "print(\"====arr.sort(1)====\")\n",
    "print(arr)"
   ]
  },
  {
   "cell_type": "markdown",
   "metadata": {},
   "source": [
    "#### リスト7.44（argsortの例）（P.203）\n",
    "* ソート前の配列：**\\[15, 30, 5\\]**\n",
    "* ソート後の配列：**\\[5, 15, 30\\]**\n",
    "    * ソート後の配列の0番目（5）：元の配列の2番目\n",
    "    * ソート後の配列の1番目（15）：元の配列の0番目\n",
    "    * ソート後の配列の2番目（30）：元の配列の1番目"
   ]
  },
  {
   "cell_type": "code",
   "execution_count": 1,
   "metadata": {},
   "outputs": [
    {
     "data": {
      "text/plain": [
       "array([2, 0, 1], dtype=int64)"
      ]
     },
     "execution_count": 1,
     "metadata": {},
     "output_type": "execute_result"
    }
   ],
   "source": [
    "import numpy as np\n",
    "\n",
    "arr = np.array([15, 30, 5])\n",
    "arr.argsort()"
   ]
  },
  {
   "cell_type": "markdown",
   "metadata": {},
   "source": [
    "### 7.3.7 行列計算\n",
    "* 行列計算をするための関数\n",
    "    * **`np.dot(a, b)`**\n",
    "        * 2つの行列の行列積を返す\n",
    "        * 行列積：行列の中にある行ベクトルと列ベクトルの内積を要素とする行列\n",
    "            * 行列積の例\n",
    "            \n",
    "            \n",
    "$$\n",
    "        \\begin{bmatrix}\n",
    "        1 & 2 \\\\\n",
    "        3 & 4 \\\\\n",
    "        \\end{bmatrix}\n",
    "    \\times\n",
    "    \\begin{bmatrix}\n",
    "    1 & 2 \\\\\n",
    "    3 & 4 \\\\\n",
    "    \\end{bmatrix}\n",
    "    = \n",
    "    \\begin{bmatrix}\n",
    "    1 \\times 1 + 2 \\times 3 & 1 \\times 2 + 2 \\times 4 \\\\\n",
    "    1 \\times 3 + 4 \\times 3 & 3 \\times 2 + 4 \\times 4 \\\\\n",
    "    \\end{bmatrix}\n",
    "    = \n",
    "        \\begin{bmatrix}\n",
    "        7 & 10\\\\\n",
    "        15 & 22 \\\\\n",
    "        \\end{bmatrix}\n",
    "$$\n",
    "        \n",
    "* \n",
    "    * **`np.linalg.norm(a)`**\n",
    "        * ノルム：ベクトルの長さ\n",
    "            * 要素の2乗値を足し合わせてルートを被せたもの\n",
    "            \n",
    "#### 行列計算の例"
   ]
  },
  {
   "cell_type": "code",
   "execution_count": 9,
   "metadata": {},
   "outputs": [
    {
     "name": "stdout",
     "output_type": "stream",
     "text": [
      "=== np.dot(arr1, arr2) ===\n",
      "[[ 7 10]\n",
      " [15 22]]\n",
      "=== np.linalg.norm(arr3) ===\n",
      "2.23606797749979\n"
     ]
    }
   ],
   "source": [
    "import numpy as np\n",
    "\n",
    "arr1 = np.array([[1, 2], [3, 4]])\n",
    "arr2 = np.array([[1, 2], [3, 4]])\n",
    "\n",
    "## 行列積の計算\n",
    "print(\"=== np.dot(arr1, arr2) ===\")\n",
    "print(np.dot(arr1, arr2))\n",
    "\n",
    "arr3 = np.array([1, 2])\n",
    "\n",
    "## ノルムの計算\n",
    "print(\"=== np.linalg.norm(arr3) ===\")\n",
    "print(np.linalg.norm(arr3))"
   ]
  },
  {
   "cell_type": "markdown",
   "metadata": {},
   "source": [
    "### 7.3.8 統計関数\n",
    "* 統計関数\n",
    "    * ndarray配列全体、もしくは特定の軸を中心とした数学的な処理を行う関数またはメソッド\n",
    "    * メソッドの例\n",
    "        * **`mean(), np.average()`**\n",
    "            * 配列の要素の平均を返す\n",
    "            * mean()は計算時のデータ型指定ができる\n",
    "            * np.average()は引数に重みパラメータを与えることで、重み付き平均が求められる\n",
    "        * **`np.max(), np.min()`**\n",
    "            * 最大値、最小値を返す\n",
    "        * **`np.argmax(), np.argmin()`**\n",
    "            * 最大値、最小値のインデックス番号を返す\n",
    "        * **`np.std(), np.var()`**\n",
    "            * 標準偏差、分散を返す\n",
    "    * axisで指定した軸ごとに処理を行うことができる\n",
    "        * **`axis = 0`**\n",
    "            * 列ごとに処理を行う\n",
    "        * **`axis = 1`**\n",
    "            * 行ごとに処理を行う\n",
    "\n",
    "\n",
    "#### 統計関数の例（mean()）"
   ]
  },
  {
   "cell_type": "code",
   "execution_count": 3,
   "metadata": {},
   "outputs": [
    {
     "name": "stdout",
     "output_type": "stream",
     "text": [
      "=== arr ===\n",
      "[[1 2 3]\n",
      " [4 5 6]]\n",
      "=== arr.mean() ===\n",
      "3.5\n",
      "=== arr.mean(axis=0) ===\n",
      "[2.5 3.5 4.5]\n",
      "=== arr.mean(axis=1) ===\n",
      "[2. 5.]\n"
     ]
    }
   ],
   "source": [
    "import numpy as np\n",
    "\n",
    "arr = np.array([[1, 2 ,3], [4, 5, 6]])\n",
    "\n",
    "print(\"=== arr ===\")\n",
    "print(arr)\n",
    "\n",
    "### 全体の平均を求める\n",
    "print(\"=== arr.mean() ===\")\n",
    "print(arr.mean())\n",
    "### 列ごとの平均を求める（axis=0）\n",
    "print(\"=== arr.mean(axis=0) ===\")\n",
    "print(arr.mean(axis=0))\n",
    "### 行ごとの平均を求める（axis=1）\n",
    "print(\"=== arr.mean(axis=1) ===\")\n",
    "print(arr.mean(axis=1))"
   ]
  },
  {
   "cell_type": "markdown",
   "metadata": {},
   "source": [
    "### 7.3.9 ブロードキャスト\n",
    "* ブロードキャスト\n",
    "    * 2つのndarray同士の演算時にサイズの小さい配列の行と列を自動で大きい配列に合わせること\n",
    "```\n",
    " 　[[0 1 2][3 4 5]] + 1\n",
    " = [[0 1 2][3 4 5]] + [[1 1 1][1 1 1]]\n",
    " = [[1 2 3][4 5 6]]\n",
    "```"
   ]
  },
  {
   "cell_type": "markdown",
   "metadata": {},
   "source": [
    "#### リスト7.51（ブロードキャストの例）（P.211）"
   ]
  },
  {
   "cell_type": "code",
   "execution_count": 17,
   "metadata": {
    "scrolled": true
   },
   "outputs": [
    {
     "name": "stdout",
     "output_type": "stream",
     "text": [
      "ブロードキャスト前の表示\n",
      "[[0 1 2]\n",
      " [3 4 5]]\n",
      "ブロードキャスト後の表示\n",
      "[[1 2 3]\n",
      " [4 5 6]]\n"
     ]
    }
   ],
   "source": [
    "x = np.arange(6).reshape(2, 3)\n",
    "\n",
    "print(\"ブロードキャスト前の表示\")\n",
    "print(x)\n",
    "\n",
    "print(\"ブロードキャスト後の表示\")\n",
    "print(x + 1)"
   ]
  },
  {
   "cell_type": "markdown",
   "metadata": {},
   "source": [
    "# ほげ要望"
   ]
  },
  {
   "cell_type": "markdown",
   "metadata": {},
   "source": [
    "第７章の添削問題をやってくれたら工藤が喜びます"
   ]
  },
  {
   "cell_type": "markdown",
   "metadata": {},
   "source": [
    "# エクストラほげ問題⑦\n",
    "## Pythonで学ぶ線形代数\n",
    "## 行列式の交代性と転置不変性\n",
    "大学に進学をした理系学生が１年生の最初に習うのが線形代数です。その知識を使い今習っているPythonの技術向上を目指しましょう。   \n",
    "※ヒントのようなもの  \n",
    "①https://oguemon.com/topic/study/linear-algebra/  \n",
    "②https://mathtrain.jp/category/senkei  \n",
    "③https://python.atelierkobato.com/linear/  \n",
    "④https://examist.jp/category/mathematics/  \n",
    "⑤http://www.geisya.or.jp/~mwm48961/koukou/index_m.htm  \n",
    "  \n",
    "# もんだいだよん(^ω^)\n",
    "## 行列式の交代性と転置不変性\n",
    "### 行列式の転置不変性\n",
    "4 次元の行列式\n",
    "\n",
    "$\n",
    "  \\mathrm{det}A = |A| = \\left|\n",
    "    \\begin{array}{ccc}\n",
    "            5& 9& 2& 7\\\\\n",
    "            1& 3& 9& 5\\\\\n",
    "            6& 2& 0& 4\\\\\n",
    "            2& 6& 3& 3\n",
    "    \\end{array}\n",
    "  \\right|\n",
    "$  \n",
    "について転置不変性を確認しなさい  \n",
    "手計算では大変なのでnumpyの関数を用いること  "
   ]
  }
 ],
 "metadata": {
  "kernelspec": {
   "display_name": "Python 3",
   "language": "python",
   "name": "python3"
  },
  "language_info": {
   "codemirror_mode": {
    "name": "ipython",
    "version": 3
   },
   "file_extension": ".py",
   "mimetype": "text/x-python",
   "name": "python",
   "nbconvert_exporter": "python",
   "pygments_lexer": "ipython3",
   "version": "3.8.3"
  }
 },
 "nbformat": 4,
 "nbformat_minor": 2
}
