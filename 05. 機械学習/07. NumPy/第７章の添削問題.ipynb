{
 "cells": [
  {
   "cell_type": "code",
   "execution_count": 5,
   "metadata": {},
   "outputs": [
    {
     "name": "stdout",
     "output_type": "stream",
     "text": [
      "[[16 24 29]\n",
      " [15 10  7]\n",
      " [25  6 12]\n",
      " [11  4 23]\n",
      " [15  3  2]] \n",
      "\n",
      "[[16 15 25 11 15]\n",
      " [24 10  6  4  3]\n",
      " [29  7 12 23  2]] \n",
      "\n",
      "[[15 25 11]\n",
      " [10  6  4]\n",
      " [ 7 12 23]] \n",
      "\n",
      "[[ 7  6  4]\n",
      " [10 12 11]\n",
      " [15 25 23]] \n",
      "\n"
     ]
    },
    {
     "data": {
      "text/plain": [
       "array([10.66666667, 14.33333333, 12.66666667])"
      ]
     },
     "execution_count": 5,
     "metadata": {},
     "output_type": "execute_result"
    }
   ],
   "source": [
    "import numpy as np\n",
    "\n",
    "arr = np.random.randint(1, 31, (5, 3))\n",
    "print(arr,\"\\n\")\n",
    "\n",
    "arr = arr.T\n",
    "print(arr,\"\\n\")\n",
    "\n",
    "arr1 = arr[:, 1:4]\n",
    "print(arr1,\"\\n\")\n",
    "\n",
    "arr.sort(0)\n",
    "print(arr1,\"\\n\")\n",
    "\n",
    "arr1.mean(axis=0)"
   ]
  },
  {
   "cell_type": "code",
   "execution_count": null,
   "metadata": {},
   "outputs": [],
   "source": []
  }
 ],
 "metadata": {
  "kernelspec": {
   "display_name": "Python 3",
   "language": "python",
   "name": "python3"
  },
  "language_info": {
   "codemirror_mode": {
    "name": "ipython",
    "version": 3
   },
   "file_extension": ".py",
   "mimetype": "text/x-python",
   "name": "python",
   "nbconvert_exporter": "python",
   "pygments_lexer": "ipython3",
   "version": "3.8.3"
  }
 },
 "nbformat": 4,
 "nbformat_minor": 4
}
