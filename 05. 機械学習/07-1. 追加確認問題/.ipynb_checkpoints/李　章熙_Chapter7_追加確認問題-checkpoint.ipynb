{
 "cells": [
  {
   "cell_type": "markdown",
   "metadata": {
    "chapterId": "ryAdAX-gZf",
    "id": "chapter_name"
   },
   "source": [
    "#  Chapter7　NumPy"
   ]
  },
  {
   "cell_type": "markdown",
   "metadata": {},
   "source": [
    "### 7-1\n",
    "リスト型変数dataを生成しなさい。要素は「100, 29, 13, 7, 33, 11」とする。    \n",
    "そして、dataからndarray配列を生成し、変数np_dataに代入しなさい。  \n",
    "（参考：7.2.2 1次元配列）"
   ]
  },
  {
   "cell_type": "code",
   "execution_count": 2,
   "metadata": {
    "id": "answer"
   },
   "outputs": [
    {
     "name": "stdout",
     "output_type": "stream",
     "text": [
      "[100  29  13   7  33  11]\n"
     ]
    }
   ],
   "source": [
    "import numpy as np\n",
    "\n",
    "## リスト型変数dataを生成する。要素は「100, 29, 13, 7, 33, 11」\n",
    "data = [100, 29, 13, 7, 33, 11]\n",
    "\n",
    "# ndarray配列を生成し、変数np_dataに代入する\n",
    "np_data = np.array(data)\n",
    "\n",
    "print(np_data)"
   ]
  },
  {
   "cell_type": "markdown",
   "metadata": {},
   "source": [
    "### 7-2\n",
    "numpy.arange関数を用いて、3から10までの連続する整数を要素とするndarray配列を生成し、変数np_dataに代入しなさい。  \n",
    "（参考：7.2.2 1次元配列）"
   ]
  },
  {
   "cell_type": "code",
   "execution_count": 3,
   "metadata": {},
   "outputs": [
    {
     "name": "stdout",
     "output_type": "stream",
     "text": [
      "[ 3  4  5  6  7  8  9 10]\n"
     ]
    }
   ],
   "source": [
    "import numpy as np\n",
    "\n",
    "# numpy.arange関数を用いて、3から10までの連続する整数を要素とするndarray配列を生成し、変数np_dataに代入する\n",
    "np_data = np.array(range(3,11))\n",
    "\n",
    "print(np_data)"
   ]
  },
  {
   "cell_type": "markdown",
   "metadata": {},
   "source": [
    "### 7-3\n",
    "numpy.arange関数を用いて、0から10までの偶数を要素とするndarray配列を生成し、変数np_dataに代入しなさい。  \n",
    "（参考：7.2.2 1次元配列）"
   ]
  },
  {
   "cell_type": "code",
   "execution_count": 4,
   "metadata": {},
   "outputs": [
    {
     "name": "stdout",
     "output_type": "stream",
     "text": [
      "[ 0  1  2  3  4  5  6  7  8  9 10]\n"
     ]
    }
   ],
   "source": [
    "import numpy as np\n",
    "\n",
    "# numpy.arange関数を用いて、0から10までの偶数を要素とするndarray配列を生成し、変数np_dataに代入する\n",
    "np_data = np.arange(11)\n",
    "\n",
    "print(np_data)"
   ]
  },
  {
   "cell_type": "markdown",
   "metadata": {},
   "source": [
    "### 7-4\n",
    "ndarray配列arr1, arr2について、以下に示す計算を行い、print()関数で結果を出力しなさい。  \n",
    "（参考：7.2.3 1次元配列の計算）\n",
    "\n",
    "* arr1 + arr2\n",
    "* arr1 - arr2\n",
    "* arr1の4乗\n",
    "* 4をarr2で割った値"
   ]
  },
  {
   "cell_type": "code",
   "execution_count": 5,
   "metadata": {
    "id": "answer"
   },
   "outputs": [
    {
     "name": "stdout",
     "output_type": "stream",
     "text": [
      "arr1 + arr2\n",
      "[ 5 13 13 15 14]\n",
      "arr1 - arr2\n",
      "[ 1  3  7  7 -2]\n",
      "arr1の4乗\n",
      "[   81  4096 10000 14641  1296]\n",
      "4をarr2で割った値\n",
      "[1.33333333 0.5        0.4        0.36363636 0.66666667]\n"
     ]
    }
   ],
   "source": [
    "import numpy as np\n",
    "\n",
    "arr1 = np.array([3, 8, 10, 11, 6])\n",
    "arr2 = np.array([2, 5, 3, 4, 8])\n",
    "\n",
    "# arr1 + arr2\n",
    "print('arr1 + arr2')\n",
    "print(arr1+arr2)\n",
    "\n",
    "# arr1 - arr2\n",
    "print('arr1 - arr2')\n",
    "print(arr1-arr2)\n",
    "\n",
    "# arr1の4乗\n",
    "print('arr1の4乗')\n",
    "print(arr1**4)\n",
    "\n",
    "# 4をarr2で割った値\n",
    "print('4をarr2で割った値')\n",
    "print(4/arr1)"
   ]
  },
  {
   "cell_type": "markdown",
   "metadata": {},
   "source": [
    "### 7-5\n",
    "変数arrについて、スライス表現を用いて以下の処理を行いなさい。  \n",
    "（参考：7.2.4 インデックス参照とスライス）\n",
    "\n",
    "* 2番目から6番目までの要素をprint()関数で出力しなさい\n",
    "* 1番目から4番目までの要素を13に変更して、arr全体をprint()関数で出力しなさい。"
   ]
  },
  {
   "cell_type": "code",
   "execution_count": 10,
   "metadata": {
    "id": "answer"
   },
   "outputs": [
    {
     "name": "stdout",
     "output_type": "stream",
     "text": [
      "[1 2 3 4 5 6 7 8 9]\n",
      "[2 3 4 5 6]\n",
      "[13 13 13 13  5  6  7  8  9]\n"
     ]
    }
   ],
   "source": [
    "import numpy as np\n",
    "\n",
    "arr = np.arange(1,10)\n",
    "print(arr)\n",
    "\n",
    "# 2番目から6番目までの要素をprint()関数で出力\n",
    "print(arr[1:6])\n",
    "\n",
    "# 1番目から4番目までの要素を13に変更して、arr全体をprint()関数で出力\n",
    "arr[0:4]=13\n",
    "print(arr)"
   ]
  },
  {
   "cell_type": "markdown",
   "metadata": {},
   "source": [
    "### 7-6\n",
    "ブールインデックス参照を用いて、変数arrの各要素のうち3で割ったときに余りが2となる要素の配列をprint()関数で出力しなさい。  \n",
    "（参考：7.2.7 ブールインデックス参照）\n"
   ]
  },
  {
   "cell_type": "code",
   "execution_count": 12,
   "metadata": {
    "id": "answer"
   },
   "outputs": [
    {
     "name": "stdout",
     "output_type": "stream",
     "text": [
      "[ 2  5  8 11 14 17 20 23 26 29]\n"
     ]
    }
   ],
   "source": [
    "import numpy as np\n",
    "\n",
    "arr = np.arange(1,31)\n",
    "\n",
    "# 変数arrの各要素のうち3で割ったときに余りが2となる要素の配列を出力\n",
    "print(arr[arr%3==2])"
   ]
  },
  {
   "cell_type": "markdown",
   "metadata": {},
   "source": [
    "### 7-7\n",
    "ndarray配列arr1, arr2について、以下の処理を行い結果をprint()関数で出力しなさい。  \n",
    "（参考：7.2.8 ユニバーサル関数）\n",
    "\n",
    "* 要素同士の大きいほうの値を格納したndarray配列arr_maxを出力する\n",
    "* arr_maxの各要素の平方根を格納したndarray配列arr_sqrtを出力する"
   ]
  },
  {
   "cell_type": "code",
   "execution_count": 14,
   "metadata": {},
   "outputs": [
    {
     "name": "stdout",
     "output_type": "stream",
     "text": [
      "[ 4  9 16 25 36]\n",
      "[2. 3. 4. 5. 6.]\n"
     ]
    }
   ],
   "source": [
    "import numpy as np\n",
    "\n",
    "arr1 = np.array([4, 8, 16, 20, 36])\n",
    "arr2 = np.array([2, 9, 14, 25, 33])\n",
    "\n",
    "# 変数arr1とarr2の要素のうち、大きいほうの値をarr_maxに格納する\n",
    "arr_max = np.maximum(arr1, arr2)\n",
    "print(arr_max)\n",
    "\n",
    "# 変数arr_maxの各要素の平方根をarr_sqrtに格納する\n",
    "arr_sqrt = np.sqrt(arr_max)\n",
    "print(arr_sqrt)"
   ]
  },
  {
   "cell_type": "markdown",
   "metadata": {},
   "source": [
    "### 7-8\n",
    "ndarray配列arr1, arr2について、以下の処理を行い結果をprint()関数で出力しなさい。  \n",
    "（参考：7.2.9 集合関数）\n",
    "\n",
    "* arr1の重複をなくした配列を変数arr1_uniqueに格納し出力する\n",
    "* arr1_uniqueとarr2の和集合と積集合を出力する\n",
    "* arr1_uniqueからarr2を引いた差集合を出力する"
   ]
  },
  {
   "cell_type": "code",
   "execution_count": 17,
   "metadata": {
    "id": "answer"
   },
   "outputs": [
    {
     "name": "stdout",
     "output_type": "stream",
     "text": [
      "[1 2 3 4 5]\n",
      "[ 1  2  3  4  5  6  8 10]\n",
      "[2 4]\n",
      "[1 3 5]\n"
     ]
    }
   ],
   "source": [
    "import numpy as np\n",
    "\n",
    "arr1 = [1, 2, 3, 4, 5, 4, 3, 2, 1]\n",
    "arr2 = [2, 4, 6, 8, 10]\n",
    "\n",
    "# arr1の重複をなくした配列を変数arr1_uniqueに代入\n",
    "arr1_unique = np.unique(arr1)\n",
    "print(arr1_unique)\n",
    "\n",
    "# 変数arr1_uniqueと変数arr2の和集合を出力\n",
    "print(np.union1d(arr1_unique, arr2))\n",
    "\n",
    "# 変数arr1_uniqueと変数arr2の積集合を出力\n",
    "print(np.intersect1d(arr1_unique, arr2))\n",
    "\n",
    "# 変数arr1_uniqueから変数arr2を引いた差集合を出力\n",
    "print(np.setdiff1d(arr1_unique, arr2))"
   ]
  },
  {
   "cell_type": "markdown",
   "metadata": {},
   "source": [
    "### 7-9\n",
    "以下に示す要素を持つndarray配列をそれぞれ作成し、結果をprint()関数で出力しなさい。\n",
    "* 0以上1未満の一様乱数の要素5個を持つndarray配列(arr1)\n",
    "* ガウス分布に従う乱数の要素5個を持つndarray配列(arr2)\n",
    "* 0以上10未満の整数の乱数の要素5個を持つndarray配列(arr3)\n",
    "* 各要素が0以上10未満の整数の乱数である3×5の行列(arr4)  \n",
    "（参考：7.2.10 乱数）"
   ]
  },
  {
   "cell_type": "code",
   "execution_count": 21,
   "metadata": {
    "id": "answer",
    "scrolled": true
   },
   "outputs": [
    {
     "name": "stdout",
     "output_type": "stream",
     "text": [
      "[0 0 0 0 0]\n",
      "[-0.88014945  1.11899894 -0.37191232 -1.54485402  1.17746007]\n",
      "[]\n",
      "[[9 5 8 6 6]\n",
      " [5 7 2 5 3]\n",
      " [9 4 3 6 6]]\n"
     ]
    }
   ],
   "source": [
    "import numpy as np\n",
    "from numpy.random import randint\n",
    "\n",
    "# 0以上1未満の一様乱数の要素5個を持つndarray配列\n",
    "arr1 = np.random.randint(0,1,5)\n",
    "print(arr1)\n",
    "\n",
    "# ガウス分布に従う乱数の要素5個を持つndarray配列\n",
    "arr2 = np.random.normal(size=5)\n",
    "print(arr2)\n",
    "\n",
    "# 0以上10未満の整数の乱数の要素5個を持つndarray配列\n",
    "arr3 = np.random.rand(0,10,5)\n",
    "print(arr3)\n",
    "\n",
    "# 各要素が0以上10未満の整数の乱数である3×5の行列\n",
    "arr4 = randint(0,10, (3, 5))\n",
    "print(arr4)\n"
   ]
  },
  {
   "cell_type": "markdown",
   "metadata": {},
   "source": [
    "### 7-10\n",
    "* list1, list2, list3を用いて、変数arr1として2次元のndarray配列を生成し、結果をprint()関数で出力しなさい。\n",
    "* arr1の各次元ごとの要素数をprint()関数で出力しなさい。  \n",
    "（参考：7.3.1 2次元配列）"
   ]
  },
  {
   "cell_type": "code",
   "execution_count": 23,
   "metadata": {},
   "outputs": [
    {
     "name": "stdout",
     "output_type": "stream",
     "text": [
      "[[ 1  2  3  4]\n",
      " [ 5  6  7  8]\n",
      " [ 9 10 11 12]]\n",
      "(3, 4)\n"
     ]
    }
   ],
   "source": [
    "import numpy as np\n",
    "\n",
    "list1 = [1,2,3,4]\n",
    "list2 = [5,6,7,8]\n",
    "list3 = [9,10,11,12]\n",
    "\n",
    "# list1, list2, list3を用いて2次元配列を生成\n",
    "arr1 = np.array([list1,list2,list3])\n",
    "print(arr1)\n",
    "\n",
    "# arr1の各次元ごとの要素数を出力\n",
    "print(arr1.shape)"
   ]
  },
  {
   "cell_type": "markdown",
   "metadata": {},
   "source": [
    "### 7-11\n",
    "* arange()とreshape()を用いて7-10のarr1と同じ値を持つ2次元配列を生成し、print()関数で出力しなさい。  \n",
    "（参考：7.2.2 1次元配列、7.3.1 2次元配列）"
   ]
  },
  {
   "cell_type": "code",
   "execution_count": 27,
   "metadata": {},
   "outputs": [
    {
     "name": "stdout",
     "output_type": "stream",
     "text": [
      "[[ 7  8]\n",
      " [ 9 10]]\n"
     ]
    }
   ],
   "source": [
    "import numpy as np\n",
    "\n",
    "# arange()とreshape()を用いて7-10のarr1と同じ値を持つ2次元配列を生成\n",
    "arr1 = np.arange(7, 11)\n",
    "print(arr1.reshape(2,2))"
   ]
  },
  {
   "cell_type": "markdown",
   "metadata": {},
   "source": [
    "### 7-12\n",
    "2次元配列arr = \n",
    "$\n",
    "\\left[\\begin{array}{c}\n",
    "           1 & 2 & 3\\\\\n",
    "           4 & 5 & 6\\\\\n",
    "           7 & 8 & 9\\\\\n",
    "        \\end{array}\\right]\n",
    "$について、以下の処理を行い、結果をprint()関数で出力しなさい。  \n",
    "（参考：7.3.2 インデックス参照とスライス）\n",
    "\n",
    "* 変数arrの要素のうち6を出力\n",
    "* 変数arrの要素のうち2行目を出力\n",
    "* 変数arrの要素のうち3列目を出力\n",
    "* 変数arrから以下を部分的に取り出し出力  \n",
    "**\\[ \\[2 3\\]**  \n",
    "**\\[5 6\\] \\]**\n"
   ]
  },
  {
   "cell_type": "code",
   "execution_count": 34,
   "metadata": {
    "id": "answer"
   },
   "outputs": [
    {
     "name": "stdout",
     "output_type": "stream",
     "text": [
      "=== arr ===\n",
      "[[1 2 3]\n",
      " [4 5 6]\n",
      " [7 8 9]]\n",
      "=== 6の要素 ===\n",
      "6\n",
      "=== arrの2行目 ===\n",
      "[4 5 6]\n",
      "=== arrの3列目 ===\n",
      "[[3]\n",
      " [6]\n",
      " [9]]\n",
      "=== arrの一部 ===\n",
      "[[2 3]\n",
      " [5 6]]\n"
     ]
    }
   ],
   "source": [
    "import numpy as np\n",
    "\n",
    "arr = np.array([[1, 2, 3], [4, 5, 6], [7, 8, 9]])\n",
    "print(\"=== arr ===\")\n",
    "print(arr)\n",
    "\n",
    "# 変数arrの要素のうち6を出力\n",
    "print(\"=== 6の要素 ===\")\n",
    "print(arr[1][2])\n",
    "\n",
    "# 変数arrの要素のうち2行目を出力\n",
    "print(\"=== arrの2行目 ===\")\n",
    "print(arr[1])\n",
    "\n",
    "# 変数arrの要素のうち3列目を出力\n",
    "print(\"=== arrの3列目 ===\")\n",
    "print(arr[:3,2:])\n",
    "\n",
    "# 変数arrから2,3,5,6を部分的に取り出して出力\n",
    "print(\"=== arrの一部 ===\")\n",
    "print(arr[0:2, 1:]   )"
   ]
  },
  {
   "cell_type": "markdown",
   "metadata": {},
   "source": [
    "### 7-13\n",
    "2次元配列arr = \n",
    "$\n",
    "\\left[\\begin{array}{c}\n",
    "           1 & 2 & 3\\\\\n",
    "           4 & 5 & 6\\\\\n",
    "           7 & 8 & 9\\\\\n",
    "        \\end{array}\\right]\n",
    "$について、以下の処理を行い、結果をprint()関数で出力しなさい。  \n",
    "（参考：7.3.3 axis）\n",
    "\n",
    "* 列方向(縦方向)の合計値を出力\n",
    "* 行方向(横方向)の合計値を出力"
   ]
  },
  {
   "cell_type": "code",
   "execution_count": 36,
   "metadata": {
    "id": "answer"
   },
   "outputs": [
    {
     "name": "stdout",
     "output_type": "stream",
     "text": [
      "[12 15 18]\n",
      "[ 6 15 24]\n"
     ]
    }
   ],
   "source": [
    "import numpy as np\n",
    "\n",
    "arr = np.array([[1, 2, 3], [4, 5, 6], [7, 8, 9]])\n",
    "\n",
    "# arrの列方向の合計値を求める\n",
    "print(arr.sum(axis=0))\n",
    "\n",
    "# arrの行方向の合計値を求める\n",
    "print(arr.sum(axis=1))\n"
   ]
  },
  {
   "cell_type": "markdown",
   "metadata": {},
   "source": [
    "### 7-14\n",
    "ファンシーインデックス参照を用いて、変数arrの3行目、5行目、1行目、2行目の順番で配列を出力しなさい。  \n",
    "（参考：7.3.4 ファインシーインデックス参照）"
   ]
  },
  {
   "cell_type": "code",
   "execution_count": 39,
   "metadata": {
    "id": "answer"
   },
   "outputs": [
    {
     "name": "stdout",
     "output_type": "stream",
     "text": [
      "=== arr ===\n",
      "[[ 0  1  2  3  4]\n",
      " [ 5  6  7  8  9]\n",
      " [10 11 12 13 14]\n",
      " [15 16 17 18 19]\n",
      " [20 21 22 23 24]]\n",
      "=== 入れ替え後 ===\n",
      "[[10 11 12 13 14]\n",
      " [20 21 22 23 24]\n",
      " [ 0  1  2  3  4]\n",
      " [ 5  6  7  8  9]]\n"
     ]
    }
   ],
   "source": [
    "import numpy as np\n",
    "\n",
    "arr = np.arange(25).reshape(5, 5)\n",
    "print(\"=== arr ===\")\n",
    "print(arr)\n",
    "\n",
    "# 変数arrの行の順番を変更(3行目、5行目、1行目、2行目)したものを出力\n",
    "print(\"=== 入れ替え後 ===\")\n",
    "print(arr[[2,4,0,1]])"
   ]
  },
  {
   "cell_type": "markdown",
   "metadata": {},
   "source": [
    "### 7-15\n",
    "変数arrの転置行列をprint()関数で出力しなさい。  \n",
    "（参考：7.3.5 転置行列）"
   ]
  },
  {
   "cell_type": "code",
   "execution_count": 42,
   "metadata": {},
   "outputs": [
    {
     "name": "stdout",
     "output_type": "stream",
     "text": [
      "=== arr ===\n",
      "[[ 0  1  2  3]\n",
      " [ 4  5  6  7]\n",
      " [ 8  9 10 11]]\n",
      "=== 転置行列 ===\n",
      "[[ 0  4  8]\n",
      " [ 1  5  9]\n",
      " [ 2  6 10]\n",
      " [ 3  7 11]]\n"
     ]
    }
   ],
   "source": [
    "import numpy as np\n",
    "\n",
    "arr = np.arange(12).reshape(3, 4)\n",
    "print(\"=== arr ===\")\n",
    "print(arr)\n",
    "\n",
    "print(\"=== 転置行列 ===\")\n",
    "# 変数arrを転置\n",
    "print(arr.T)"
   ]
  },
  {
   "cell_type": "markdown",
   "metadata": {},
   "source": [
    "### 7-16\n",
    "変数arrについて、以下のソートを行いprint()関数で出力しなさい。  \n",
    "（参考：7.3.6 ソート）\n",
    "* argsort()メソッドで列方向にソートしたときの要素のインデックスを出力\n",
    "* argsort()メソッドで行方向にソートしたときの要素のインデックスを出力\n",
    "* np.sort()関数で行方向にソートして出力\n",
    "* np.sort()関数で列方向にソートして出力\n",
    "* sort()メソッドで列方向にソートして出力"
   ]
  },
  {
   "cell_type": "code",
   "execution_count": 56,
   "metadata": {
    "id": "answer"
   },
   "outputs": [
    {
     "name": "stdout",
     "output_type": "stream",
     "text": [
      "=== arr ===\n",
      "[[5 0 3 3 7]\n",
      " [9 3 5 2 4]\n",
      " [7 6 8 8 1]]\n",
      "=== argsort()メソッドで列方向にソート ===\n",
      "[[1 2 3 0 4]\n",
      " [3 1 4 2 0]\n",
      " [4 1 0 2 3]]\n",
      "=== argsort()メソッドで行方向にソート ===\n",
      "[[1 3 4]\n",
      " [2 1 1]\n",
      " [3 4 0]\n",
      " [0 2 2]\n",
      " [4 0 3]]\n",
      "=== np.sort()関数で列方向にソート ===\n",
      "[[0 3 3 5 7]\n",
      " [2 3 4 5 9]\n",
      " [1 6 7 8 8]]\n",
      "=== np.sort()関数で行方向にソート ===\n",
      "[[0 2 1]\n",
      " [3 3 6]\n",
      " [3 4 7]\n",
      " [5 5 8]\n",
      " [7 9 8]]\n",
      "=== sort()メソッドで列方向にソート ===\n",
      "None\n"
     ]
    }
   ],
   "source": [
    "import numpy as np\n",
    "\n",
    "np.random.seed(0)\n",
    "arr = np.random.randint(0, 10, (3,5))\n",
    "print(\"=== arr ===\")\n",
    "print(arr)\n",
    "\n",
    "# argsort()メソッドで列方向にソートしたときの要素のインデックスを出力\n",
    "print(\"=== argsort()メソッドで列方向にソート ===\")\n",
    "print(arr.argsort())\n",
    "# argsort()メソッドで行方向にソートしたときの要素のインデックスを出力\n",
    "print(\"=== argsort()メソッドで行方向にソート ===\")\n",
    "print(arr.argsort().T)\n",
    "\n",
    "# np.sort()メソッドで列方向にソートして出力\n",
    "print(\"=== np.sort()関数で列方向にソート ===\")\n",
    "print(np.sort(arr))\n",
    "# np.sort()メソッドで行方向にソートして出力\n",
    "print(\"=== np.sort()関数で行方向にソート ===\")\n",
    "print(np.sort(arr).T)\n",
    "\n",
    "# sort()メソッドを用いて列方向にソートして出力\n",
    "\n",
    "print(\"=== sort()メソッドで列方向にソート ===\")\n",
    "print(arr.sort(1))"
   ]
  },
  {
   "cell_type": "markdown",
   "metadata": {},
   "source": [
    "### 7-17\n",
    "* 変数arr1とarr2の行列積をprint()関数で出力しなさい\n",
    "* 変数vecのノルムをprint()関数で出力しなさい  \n",
    "\n",
    "（参考：7.3.7 行列計算）"
   ]
  },
  {
   "cell_type": "code",
   "execution_count": 60,
   "metadata": {
    "id": "answer"
   },
   "outputs": [
    {
     "name": "stdout",
     "output_type": "stream",
     "text": [
      "=== arr1 ===\n",
      "[[5 0 3 3 7]\n",
      " [9 3 5 2 4]\n",
      " [7 6 8 8 1]]\n",
      "=== arr2 ===\n",
      "[[6 7]\n",
      " [7 8]\n",
      " [1 5]\n",
      " [9 8]\n",
      " [9 4]]\n",
      "=== arr1とarr2の行列積 ===\n",
      "[[123 102]\n",
      " [134 144]\n",
      " [173 205]]\n",
      "=== vecのノルム ===\n",
      "4.242640687119285\n"
     ]
    }
   ],
   "source": [
    "import numpy as np\n",
    "\n",
    "np.random.seed(0)\n",
    "arr1 = np.random.randint(0, 10, (3,5))\n",
    "arr2 = np.random.randint(0, 10, (5,2))\n",
    "print(\"=== arr1 ===\")\n",
    "print(arr1)\n",
    "print(\"=== arr2 ===\")\n",
    "print(arr2)\n",
    "\n",
    "\n",
    "# 変数arrとarrの行列積を出力してください\n",
    "print(\"=== arr1とarr2の行列積 ===\")\n",
    "print(np.dot(arr1, arr2))\n",
    "\n",
    "# vecを定義します\n",
    "vec = np.random.randint(0, 10, 3)\n",
    "\n",
    "# 変数vecのノルムを出力してください\n",
    "print(\"=== vecのノルム ===\")\n",
    "print(np.linalg.norm(vec))"
   ]
  },
  {
   "cell_type": "markdown",
   "metadata": {},
   "source": [
    "### 7-18\n",
    "変数arrについて以下の統計量の計算を行い、print()関数で出力しなさい。  \n",
    "（参考：7.3.8 統計関数）\n",
    "\n",
    "* 列ごとの平均\n",
    "* 行ごとの平均\n",
    "* 全要素の平均\n",
    "* 列ごとの最小値の要素のインデックス\n",
    "* 行ごとの最小値の要素のインデックス\n",
    "* 全要素の最小値の要素のインデックス\n",
    "* 全要素の最大値の要素のインデックス"
   ]
  },
  {
   "cell_type": "code",
   "execution_count": 63,
   "metadata": {
    "id": "answer",
    "scrolled": false
   },
   "outputs": [
    {
     "name": "stdout",
     "output_type": "stream",
     "text": [
      "=== arr ===\n",
      "[[6 1 4 4 8]\n",
      " [4 6 3 5 8]\n",
      " [7 9 9 2 7]\n",
      " [8 8 9 2 6]\n",
      " [9 5 4 1 4]]\n",
      "=== 列ごとの平均 ===\n",
      "[6.8 5.8 5.8 2.8 6.6]\n",
      "=== 行ごとの平均 ===\n",
      "[4.6 5.2 6.8 6.6 4.6]\n",
      "=== 全要素の平均 ===\n",
      "5.56\n",
      "=== 列ごとの最小値の要素のインデックス ===\n",
      "[4 1 3 1 4]\n",
      "=== 行ごとの最小値の要素のインデックス ===\n",
      "[1 3 2 2 1]\n",
      "=== 全要素の最小値の要素のインデックス ===\n",
      "1\n",
      "=== 全要素の最大値の要素のインデックス ===\n",
      "9\n"
     ]
    }
   ],
   "source": [
    "import numpy as np\n",
    "\n",
    "np.random.seed(0)\n",
    "arr = np.random.randint(1, 10, (5,5))\n",
    "print(\"=== arr ===\")\n",
    "print(arr)\n",
    "\n",
    "# 列ごとの平均を出力\n",
    "print(\"=== 列ごとの平均 ===\")\n",
    "print(arr.mean(axis=0))\n",
    "\n",
    "# 行ごとの平均を出力\n",
    "print(\"=== 行ごとの平均 ===\")\n",
    "print(arr.mean(axis=1))\n",
    "\n",
    "# 全要素の平均を出力\n",
    "print(\"=== 全要素の平均 ===\")\n",
    "print(arr.mean())\n",
    "\n",
    "# 列ごとの最小値の要素のインデックスを出力\n",
    "print(\"=== 列ごとの最小値の要素のインデックス ===\")\n",
    "print(arr.min(axis=0))\n",
    "\n",
    "# 行ごとの最小値の要素のインデックスを出力\n",
    "print(\"=== 行ごとの最小値の要素のインデックス ===\")\n",
    "print(arr.min(axis=1))\n",
    "\n",
    "# 全要素の最小値の要素のインデックスを出力\n",
    "print(\"=== 全要素の最小値の要素のインデックス ===\")\n",
    "print(arr.min())\n",
    "\n",
    "# 全要素の最大値の要素のインデックスを出力\n",
    "print(\"=== 全要素の最大値の要素のインデックス ===\")\n",
    "print(arr.max())"
   ]
  },
  {
   "cell_type": "markdown",
   "metadata": {},
   "source": [
    "### 7-19\n",
    "変数arrの全ての要素を2倍し、print()関数で出力しなさい。  \n",
    "（参考：7.3.9 ブロードキャスト）"
   ]
  },
  {
   "cell_type": "code",
   "execution_count": 64,
   "metadata": {
    "id": "answer",
    "scrolled": true
   },
   "outputs": [
    {
     "name": "stdout",
     "output_type": "stream",
     "text": [
      "=== arr ===\n",
      "[[ 0  1  2  3  4]\n",
      " [ 5  6  7  8  9]\n",
      " [10 11 12 13 14]]\n",
      "=== arrのすべての要素を2倍 ===\n",
      "[[ 0  2  4  6  8]\n",
      " [10 12 14 16 18]\n",
      " [20 22 24 26 28]]\n"
     ]
    }
   ],
   "source": [
    "import numpy as np\n",
    "\n",
    "arr = np.arange(15).reshape(3, 5)\n",
    "print(\"=== arr ===\")\n",
    "print(arr)\n",
    "\n",
    "# arrのすべての要素を2倍したものを出力する\n",
    "print(\"=== arrのすべての要素を2倍 ===\")\n",
    "print(arr*2)"
   ]
  },
  {
   "cell_type": "code",
   "execution_count": null,
   "metadata": {},
   "outputs": [],
   "source": []
  }
 ],
 "metadata": {
  "kernelspec": {
   "display_name": "Python 3",
   "language": "python",
   "name": "python3"
  },
  "language_info": {
   "codemirror_mode": {
    "name": "ipython",
    "version": 3
   },
   "file_extension": ".py",
   "mimetype": "text/x-python",
   "name": "python",
   "nbconvert_exporter": "python",
   "pygments_lexer": "ipython3",
   "version": "3.8.3"
  },
  "varInspector": {
   "cols": {
    "lenName": 16,
    "lenType": 16,
    "lenVar": 40
   },
   "kernels_config": {
    "python": {
     "delete_cmd_postfix": "",
     "delete_cmd_prefix": "del ",
     "library": "var_list.py",
     "varRefreshCmd": "print(var_dic_list())"
    },
    "r": {
     "delete_cmd_postfix": ") ",
     "delete_cmd_prefix": "rm(",
     "library": "var_list.r",
     "varRefreshCmd": "cat(var_dic_list()) "
    }
   },
   "types_to_exclude": [
    "module",
    "function",
    "builtin_function_or_method",
    "instance",
    "_Feature"
   ],
   "window_display": false
  }
 },
 "nbformat": 4,
 "nbformat_minor": 2
}
