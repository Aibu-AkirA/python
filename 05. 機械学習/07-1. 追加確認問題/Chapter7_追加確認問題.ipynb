{
 "cells": [
  {
   "cell_type": "markdown",
   "metadata": {
    "chapterId": "ryAdAX-gZf",
    "id": "chapter_name"
   },
   "source": [
    "#  Chapter7　NumPy"
   ]
  },
  {
   "cell_type": "markdown",
   "metadata": {},
   "source": [
    "### 7-1\n",
    "リスト型変数dataを生成しなさい。要素は「100, 29, 13, 7, 33, 11」とする。    \n",
    "そして、dataからndarray配列を生成し、変数np_dataに代入しなさい。  \n",
    "（参考：7.2.2 1次元配列）"
   ]
  },
  {
   "cell_type": "code",
   "execution_count": null,
   "metadata": {
    "id": "answer"
   },
   "outputs": [],
   "source": [
    "import numpy as np\n",
    "\n",
    "## リスト型変数dataを生成する。要素は「100, 29, 13, 7, 33, 11」\n",
    "data = \n",
    "\n",
    "# ndarray配列を生成し、変数np_dataに代入する\n",
    "np_data = \n",
    "\n",
    "print(np_data)"
   ]
  },
  {
   "cell_type": "markdown",
   "metadata": {},
   "source": [
    "### 7-2\n",
    "numpy.arange関数を用いて、3から10までの連続する整数を要素とするndarray配列を生成し、変数np_dataに代入しなさい。  \n",
    "（参考：7.2.2 1次元配列）"
   ]
  },
  {
   "cell_type": "code",
   "execution_count": null,
   "metadata": {},
   "outputs": [],
   "source": [
    "import numpy as np\n",
    "\n",
    "# numpy.arange関数を用いて、3から10までの連続する整数を要素とするndarray配列を生成し、変数np_dataに代入する\n",
    "np_data = \n",
    "\n",
    "print(np_data)"
   ]
  },
  {
   "cell_type": "markdown",
   "metadata": {},
   "source": [
    "### 7-3\n",
    "numpy.arange関数を用いて、0から10までの偶数を要素とするndarray配列を生成し、変数np_dataに代入しなさい。  \n",
    "（参考：7.2.2 1次元配列）"
   ]
  },
  {
   "cell_type": "code",
   "execution_count": null,
   "metadata": {},
   "outputs": [],
   "source": [
    "import numpy as np\n",
    "\n",
    "# numpy.arange関数を用いて、0から10までの偶数を要素とするndarray配列を生成し、変数np_dataに代入する\n",
    "np_data = \n",
    "\n",
    "print(np_data)"
   ]
  },
  {
   "cell_type": "markdown",
   "metadata": {},
   "source": [
    "### 7-4\n",
    "ndarray配列arr1, arr2について、以下に示す計算を行い、print()関数で結果を出力しなさい。  \n",
    "（参考：7.2.3 1次元配列の計算）\n",
    "\n",
    "* arr1 + arr2\n",
    "* arr1 - arr2\n",
    "* arr1の4乗\n",
    "* 4をarr2で割った値"
   ]
  },
  {
   "cell_type": "code",
   "execution_count": null,
   "metadata": {
    "id": "answer"
   },
   "outputs": [],
   "source": [
    "import numpy as np\n",
    "\n",
    "arr1 = np.array([3, 8, 10, 11, 6])\n",
    "arr2 = np.array([2, 5, 3, 4, 8])\n",
    "\n",
    "# arr1 + arr2\n",
    "print('arr1 + arr2')\n",
    "print(    )\n",
    "\n",
    "# arr1 - arr2\n",
    "print('arr1 - arr2')\n",
    "print(    )\n",
    "\n",
    "# arr1の4乗\n",
    "print('arr1の4乗')\n",
    "print(    )\n",
    "\n",
    "# 4をarr2で割った値\n",
    "print('4をarr2で割った値')\n",
    "print(    )"
   ]
  },
  {
   "cell_type": "markdown",
   "metadata": {},
   "source": [
    "### 7-5\n",
    "変数arrについて、スライス表現を用いて以下の処理を行いなさい。  \n",
    "（参考：7.2.4 インデックス参照とスライス）\n",
    "\n",
    "* 2番目から6番目までの要素をprint()関数で出力しなさい\n",
    "* 1番目から4番目までの要素を13に変更して、arr全体をprint()関数で出力しなさい。"
   ]
  },
  {
   "cell_type": "code",
   "execution_count": null,
   "metadata": {
    "id": "answer"
   },
   "outputs": [],
   "source": [
    "import numpy as np\n",
    "\n",
    "arr = np.arange(1,10)\n",
    "print(arr)\n",
    "\n",
    "# 2番目から6番目までの要素をprint()関数で出力\n",
    "print(    )\n",
    "\n",
    "# 1番目から4番目までの要素を13に変更して、arr全体をprint()関数で出力\n",
    "\n",
    "print(arr)"
   ]
  },
  {
   "cell_type": "markdown",
   "metadata": {},
   "source": [
    "### 7-6\n",
    "ブールインデックス参照を用いて、変数arrの各要素のうち3で割ったときに余りが2となる要素の配列をprint()関数で出力しなさい。  \n",
    "（参考：7.2.7 ブールインデックス参照）\n"
   ]
  },
  {
   "cell_type": "code",
   "execution_count": null,
   "metadata": {
    "id": "answer"
   },
   "outputs": [],
   "source": [
    "import numpy as np\n",
    "\n",
    "arr = np.arange(1,31)\n",
    "\n",
    "# 変数arrの各要素のうち3で割ったときに余りが2となる要素の配列を出力\n",
    "print(    )"
   ]
  },
  {
   "cell_type": "markdown",
   "metadata": {},
   "source": [
    "### 7-7\n",
    "ndarray配列arr1, arr2について、以下の処理を行い結果をprint()関数で出力しなさい。  \n",
    "（参考：7.2.8 ユニバーサル関数）\n",
    "\n",
    "* 要素同士の大きいほうの値を格納したndarray配列arr_maxを出力する\n",
    "* arr_maxの各要素の平方根を格納したndarray配列arr_sqrtを出力する"
   ]
  },
  {
   "cell_type": "code",
   "execution_count": null,
   "metadata": {},
   "outputs": [],
   "source": [
    "import numpy as np\n",
    "\n",
    "arr1 = np.array([4, 8, 16, 20, 36])\n",
    "arr2 = np.array([2, 9, 14, 25, 33])\n",
    "\n",
    "# 変数arr1とarr2の要素のうち、大きいほうの値をarr_maxに格納する\n",
    "arr_max = \n",
    "print(arr_max)\n",
    "\n",
    "# 変数arr_maxの各要素の平方根をarr_sqrtに格納する\n",
    "arr_sqrt = \n",
    "print(arr_sqrt)"
   ]
  },
  {
   "cell_type": "markdown",
   "metadata": {},
   "source": [
    "### 7-8\n",
    "ndarray配列arr1, arr2について、以下の処理を行い結果をprint()関数で出力しなさい。  \n",
    "（参考：7.2.9 集合関数）\n",
    "\n",
    "* arr1の重複をなくした配列を変数arr1_uniqueに格納し出力する\n",
    "* arr1_uniqueとarr2の和集合と積集合を出力する\n",
    "* arr1_uniqueからarr2を引いた差集合を出力する"
   ]
  },
  {
   "cell_type": "code",
   "execution_count": null,
   "metadata": {
    "id": "answer"
   },
   "outputs": [],
   "source": [
    "import numpy as np\n",
    "\n",
    "arr1 = [1, 2, 3, 4, 5, 4, 3, 2, 1]\n",
    "arr2 = [2, 4, 6, 8, 10]\n",
    "\n",
    "# arr1の重複をなくした配列を変数arr1_uniqueに代入\n",
    "arr1_unique = \n",
    "print(arr1_unique)\n",
    "\n",
    "# 変数arr1_uniqueと変数arr2の和集合を出力\n",
    "print(    )\n",
    "\n",
    "# 変数arr1_uniqueと変数arr2の積集合を出力\n",
    "print(    )\n",
    "\n",
    "# 変数arr1_uniqueから変数arr2を引いた差集合を出力\n",
    "print(    )"
   ]
  },
  {
   "cell_type": "markdown",
   "metadata": {},
   "source": [
    "### 7-9\n",
    "以下に示す要素を持つndarray配列をそれぞれ作成し、結果をprint()関数で出力しなさい。\n",
    "* 0以上1未満の一様乱数の要素5個を持つndarray配列(arr1)\n",
    "* ガウス分布に従う乱数の要素5個を持つndarray配列(arr2)\n",
    "* 0以上10未満の整数の乱数の要素5個を持つndarray配列(arr3)\n",
    "* 各要素が0以上10未満の整数の乱数である3×5の行列(arr4)  \n",
    "（参考：7.2.10 乱数）"
   ]
  },
  {
   "cell_type": "code",
   "execution_count": null,
   "metadata": {
    "id": "answer",
    "scrolled": true
   },
   "outputs": [],
   "source": [
    "import numpy as np\n",
    "\n",
    "# 0以上1未満の一様乱数の要素5個を持つndarray配列\n",
    "arr1 = \n",
    "print(arr1)\n",
    "\n",
    "# ガウス分布に従う乱数の要素5個を持つndarray配列\n",
    "arr2 = \n",
    "print(arr2)\n",
    "\n",
    "# 0以上10未満の整数の乱数の要素5個を持つndarray配列\n",
    "arr3 = \n",
    "print(arr3)\n",
    "\n",
    "# 各要素が0以上10未満の整数の乱数である3×5の行列\n",
    "arr4 = \n",
    "print(arr4)\n"
   ]
  },
  {
   "cell_type": "markdown",
   "metadata": {},
   "source": [
    "### 7-10\n",
    "* list1, list2, list3を用いて、変数arr1として2次元のndarray配列を生成し、結果をprint()関数で出力しなさい。\n",
    "* arr1の各次元ごとの要素数をprint()関数で出力しなさい。  \n",
    "（参考：7.3.1 2次元配列）"
   ]
  },
  {
   "cell_type": "code",
   "execution_count": null,
   "metadata": {},
   "outputs": [],
   "source": [
    "import numpy as np\n",
    "\n",
    "list1 = [1,2,3,4]\n",
    "list2 = [5,6,7,8]\n",
    "list3 = [9,10,11,12]\n",
    "\n",
    "# list1, list2, list3を用いて2次元配列を生成\n",
    "arr1 = \n",
    "print(arr1)\n",
    "\n",
    "# arr1の各次元ごとの要素数を出力\n",
    "print(    )"
   ]
  },
  {
   "cell_type": "markdown",
   "metadata": {},
   "source": [
    "### 7-11\n",
    "* arange()とreshape()を用いて7-10のarr1と同じ値を持つ2次元配列を生成し、print()関数で出力しなさい。  \n",
    "（参考：7.2.2 1次元配列、7.3.1 2次元配列）"
   ]
  },
  {
   "cell_type": "code",
   "execution_count": null,
   "metadata": {},
   "outputs": [],
   "source": [
    "import numpy as np\n",
    "\n",
    "# arange()とreshape()を用いて7-10のarr1と同じ値を持つ2次元配列を生成\n",
    "arr1 = \n",
    "print(arr1)"
   ]
  },
  {
   "cell_type": "markdown",
   "metadata": {},
   "source": [
    "### 7-12\n",
    "2次元配列arr = \n",
    "$\n",
    "\\left[\\begin{array}{c}\n",
    "           1 & 2 & 3\\\\\n",
    "           4 & 5 & 6\\\\\n",
    "           7 & 8 & 9\\\\\n",
    "        \\end{array}\\right]\n",
    "$について、以下の処理を行い、結果をprint()関数で出力しなさい。  \n",
    "（参考：7.3.2 インデックス参照とスライス）\n",
    "\n",
    "* 変数arrの要素のうち6を出力\n",
    "* 変数arrの要素のうち2行目を出力\n",
    "* 変数arrの要素のうち3列目を出力\n",
    "* 変数arrから以下を部分的に取り出し出力  \n",
    "**\\[ \\[2 3\\]**  \n",
    "**\\[5 6\\] \\]**\n"
   ]
  },
  {
   "cell_type": "code",
   "execution_count": null,
   "metadata": {
    "id": "answer"
   },
   "outputs": [],
   "source": [
    "import numpy as np\n",
    "\n",
    "arr = np.array([[1, 2, 3], [4, 5, 6], [7, 8, 9]])\n",
    "print(\"=== arr ===\")\n",
    "print(arr)\n",
    "\n",
    "# 変数arrの要素のうち6を出力\n",
    "print(\"=== 6の要素 ===\")\n",
    "print(    )\n",
    "\n",
    "# 変数arrの要素のうち2行目を出力\n",
    "print(\"=== arrの2行目 ===\")\n",
    "print(    )\n",
    "\n",
    "# 変数arrの要素のうち3列目を出力\n",
    "print(\"=== arrの3列目 ===\")\n",
    "print(    )\n",
    "\n",
    "# 変数arrから2,3,5,6を部分的に取り出して出力\n",
    "print(\"=== arrの一部 ===\")\n",
    "print(    )"
   ]
  },
  {
   "cell_type": "markdown",
   "metadata": {},
   "source": [
    "### 7-13\n",
    "2次元配列arr = \n",
    "$\n",
    "\\left[\\begin{array}{c}\n",
    "           1 & 2 & 3\\\\\n",
    "           4 & 5 & 6\\\\\n",
    "           7 & 8 & 9\\\\\n",
    "        \\end{array}\\right]\n",
    "$について、以下の処理を行い、結果をprint()関数で出力しなさい。  \n",
    "（参考：7.3.3 axis）\n",
    "\n",
    "* 列方向(縦方向)の合計値を出力\n",
    "* 行方向(横方向)の合計値を出力"
   ]
  },
  {
   "cell_type": "code",
   "execution_count": null,
   "metadata": {
    "id": "answer"
   },
   "outputs": [],
   "source": [
    "import numpy as np\n",
    "\n",
    "arr = np.array([[1, 2, 3], [4, 5, 6], [7, 8, 9]])\n",
    "\n",
    "# arrの列方向の合計値を求める\n",
    "print(    )\n",
    "\n",
    "# arrの行方向の合計値を求める\n",
    "print(    )\n"
   ]
  },
  {
   "cell_type": "markdown",
   "metadata": {},
   "source": [
    "### 7-14\n",
    "ファンシーインデックス参照を用いて、変数arrの3行目、5行目、1行目、2行目の順番で配列を出力しなさい。  \n",
    "（参考：7.3.4 ファインシーインデックス参照）"
   ]
  },
  {
   "cell_type": "code",
   "execution_count": null,
   "metadata": {
    "id": "answer"
   },
   "outputs": [],
   "source": [
    "import numpy as np\n",
    "\n",
    "arr = np.arange(25).reshape(5, 5)\n",
    "print(\"=== arr ===\")\n",
    "print(arr)\n",
    "\n",
    "# 変数arrの行の順番を変更(3行目、5行目、1行目、2行目)したものを出力\n",
    "print(\"=== 入れ替え後 ===\")\n",
    "print(    )"
   ]
  },
  {
   "cell_type": "markdown",
   "metadata": {},
   "source": [
    "### 7-15\n",
    "変数arrの転置行列をprint()関数で出力しなさい。  \n",
    "（参考：7.3.5 転置行列）"
   ]
  },
  {
   "cell_type": "code",
   "execution_count": null,
   "metadata": {},
   "outputs": [],
   "source": [
    "import numpy as np\n",
    "\n",
    "arr = np.arange(12).reshape(3, 4)\n",
    "print(\"=== arr ===\")\n",
    "print(arr)\n",
    "\n",
    "print(\"=== 転置行列 ===\")\n",
    "# 変数arrを転置\n",
    "print(    )"
   ]
  },
  {
   "cell_type": "markdown",
   "metadata": {},
   "source": [
    "### 7-16\n",
    "変数arrについて、以下のソートを行いprint()関数で出力しなさい。  \n",
    "（参考：7.3.6 ソート）\n",
    "* argsort()メソッドで列方向にソートしたときの要素のインデックスを出力\n",
    "* argsort()メソッドで行方向にソートしたときの要素のインデックスを出力\n",
    "* np.sort()関数で行方向にソートして出力\n",
    "* np.sort()関数で列方向にソートして出力\n",
    "* sort()メソッドで列方向にソートして出力"
   ]
  },
  {
   "cell_type": "code",
   "execution_count": null,
   "metadata": {
    "id": "answer"
   },
   "outputs": [],
   "source": [
    "import numpy as np\n",
    "\n",
    "np.random.seed(0)\n",
    "arr = np.random.randint(0, 10, (3,5))\n",
    "print(\"=== arr ===\")\n",
    "print(arr)\n",
    "\n",
    "# argsort()メソッドで列方向にソートしたときの要素のインデックスを出力\n",
    "print(\"=== argsort()メソッドで列方向にソート ===\")\n",
    "print(    )\n",
    "# argsort()メソッドで行方向にソートしたときの要素のインデックスを出力\n",
    "print(\"=== argsort()メソッドで行方向にソート ===\")\n",
    "print(    )\n",
    "\n",
    "# np.sort()メソッドで列方向にソートして出力\n",
    "print(\"=== np.sort()関数で列方向にソート ===\")\n",
    "print(    )\n",
    "# np.sort()メソッドで行方向にソートして出力\n",
    "print(\"=== np.sort()関数で行方向にソート ===\")\n",
    "print(    )\n",
    "\n",
    "# sort()メソッドを用いて列方向にソートして出力\n",
    "\n",
    "print(\"=== sort()メソッドで列方向にソート ===\")\n",
    "print(arr)"
   ]
  },
  {
   "cell_type": "markdown",
   "metadata": {},
   "source": [
    "### 7-17\n",
    "* 変数arr1とarr2の行列積をprint()関数で出力しなさい\n",
    "* 変数vecのノルムをprint()関数で出力しなさい  \n",
    "\n",
    "（参考：7.3.7 行列計算）"
   ]
  },
  {
   "cell_type": "code",
   "execution_count": null,
   "metadata": {
    "id": "answer"
   },
   "outputs": [],
   "source": [
    "import numpy as np\n",
    "\n",
    "np.random.seed(0)\n",
    "arr1 = np.random.randint(0, 10, (3,5))\n",
    "arr2 = np.random.randint(0, 10, (5,2))\n",
    "print(\"=== arr1 ===\")\n",
    "print(arr1)\n",
    "print(\"=== arr2 ===\")\n",
    "print(arr2)\n",
    "\n",
    "\n",
    "# 変数arrとarrの行列積を出力してください\n",
    "print(\"=== arr1とarr2の行列積 ===\")\n",
    "print(    )\n",
    "\n",
    "# vecを定義します\n",
    "vec = np.random.randint(0, 10, 3)\n",
    "\n",
    "# 変数vecのノルムを出力してください\n",
    "print(\"=== vecのノルム ===\")\n",
    "print(    )"
   ]
  },
  {
   "cell_type": "markdown",
   "metadata": {},
   "source": [
    "### 7-18\n",
    "変数arrについて以下の統計量の計算を行い、print()関数で出力しなさい。  \n",
    "（参考：7.3.8 統計関数）\n",
    "\n",
    "* 列ごとの平均\n",
    "* 行ごとの平均\n",
    "* 全要素の平均\n",
    "* 列ごとの最小値の要素のインデックス\n",
    "* 行ごとの最小値の要素のインデックス\n",
    "* 全要素の最小値の要素のインデックス\n",
    "* 全要素の最大値の要素のインデックス"
   ]
  },
  {
   "cell_type": "code",
   "execution_count": null,
   "metadata": {
    "id": "answer",
    "scrolled": false
   },
   "outputs": [],
   "source": [
    "import numpy as np\n",
    "\n",
    "np.random.seed(0)\n",
    "arr = np.random.randint(1, 10, (5,5))\n",
    "print(\"=== arr ===\")\n",
    "print(arr)\n",
    "\n",
    "# 列ごとの平均を出力\n",
    "print(\"=== 列ごとの平均 ===\")\n",
    "print(    )\n",
    "\n",
    "# 行ごとの平均を出力\n",
    "print(\"=== 行ごとの平均 ===\")\n",
    "print(    )\n",
    "\n",
    "# 全要素の平均を出力\n",
    "print(\"=== 全要素の平均 ===\")\n",
    "print(    )\n",
    "\n",
    "# 列ごとの最小値の要素のインデックスを出力\n",
    "print(\"=== 列ごとの最小値の要素のインデックス ===\")\n",
    "print(    )\n",
    "\n",
    "# 行ごとの最小値の要素のインデックスを出力\n",
    "print(\"=== 行ごとの最小値の要素のインデックス ===\")\n",
    "print(    )\n",
    "\n",
    "# 全要素の最小値の要素のインデックスを出力\n",
    "print(\"=== 全要素の最小値の要素のインデックス ===\")\n",
    "print(    )\n",
    "\n",
    "# 全要素の最大値の要素のインデックスを出力\n",
    "print(\"=== 全要素の最大値の要素のインデックス ===\")\n",
    "print(    )"
   ]
  },
  {
   "cell_type": "markdown",
   "metadata": {},
   "source": [
    "### 7-19\n",
    "変数arrの全ての要素を2倍し、print()関数で出力しなさい。  \n",
    "（参考：7.3.9 ブロードキャスト）"
   ]
  },
  {
   "cell_type": "code",
   "execution_count": null,
   "metadata": {
    "id": "answer",
    "scrolled": true
   },
   "outputs": [],
   "source": [
    "import numpy as np\n",
    "\n",
    "arr = np.arange(15).reshape(3, 5)\n",
    "print(\"=== arr ===\")\n",
    "print(arr)\n",
    "\n",
    "# arrのすべての要素を2倍したものを出力する\n",
    "print(\"=== arrのすべての要素を2倍 ===\")\n",
    "print(    )"
   ]
  }
 ],
 "metadata": {
  "kernelspec": {
   "display_name": "Python 3",
   "language": "python",
   "name": "python3"
  },
  "language_info": {
   "codemirror_mode": {
    "name": "ipython",
    "version": 3
   },
   "file_extension": ".py",
   "mimetype": "text/x-python",
   "name": "python",
   "nbconvert_exporter": "python",
   "pygments_lexer": "ipython3",
   "version": "3.7.4"
  },
  "varInspector": {
   "cols": {
    "lenName": 16,
    "lenType": 16,
    "lenVar": 40
   },
   "kernels_config": {
    "python": {
     "delete_cmd_postfix": "",
     "delete_cmd_prefix": "del ",
     "library": "var_list.py",
     "varRefreshCmd": "print(var_dic_list())"
    },
    "r": {
     "delete_cmd_postfix": ") ",
     "delete_cmd_prefix": "rm(",
     "library": "var_list.r",
     "varRefreshCmd": "cat(var_dic_list()) "
    }
   },
   "types_to_exclude": [
    "module",
    "function",
    "builtin_function_or_method",
    "instance",
    "_Feature"
   ],
   "window_display": false
  }
 },
 "nbformat": 4,
 "nbformat_minor": 2
}
