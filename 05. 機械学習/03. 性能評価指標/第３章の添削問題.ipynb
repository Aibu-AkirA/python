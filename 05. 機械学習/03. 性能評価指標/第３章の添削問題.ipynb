{
 "cells": [
  {
   "cell_type": "markdown",
   "metadata": {},
   "source": [
    "1. 真陽性\n",
    "2. 偽陽性\n",
    "3. 偽陰性\n",
    "4. 真陰性\n",
    "<br><br>\n",
    "5. 陽性\n",
    "6. 陽性\n",
    "7. 陽性\n",
    "<br><br>\n",
    "8. 陰性\n",
    "9. 陰性\n",
    "<br><br>\n",
    "10. 陽性\n",
    "<br><br>\n",
    "11. 陰性\n",
    "12. 陰性\n",
    "13. FN\n",
    "14. FP\n",
    "15. 再現率\n",
    "16. 適合率\n",
    "17. PR曲線\n",
    "18. ブレークイーブンポイント"
   ]
  },
  {
   "cell_type": "code",
   "execution_count": 1,
   "metadata": {},
   "outputs": [
    {
     "name": "stdout",
     "output_type": "stream",
     "text": [
      "Accuracy: 0.60\n"
     ]
    }
   ],
   "source": [
    "import matplotlib.pyplot as plt\n",
    "import numpy as np\n",
    "import pandas as pd\n",
    "from sklearn import datasets\n",
    "from sklearn import svm\n",
    "from sklearn.model_selection import train_test_split\n",
    "from sklearn.metrics import accuracy_score\n",
    "\n",
    "#(1.)\n",
    "iris = datasets.load_iris()\n",
    "X = iris.data[:, [2,3]]\n",
    "y = iris.target\n",
    "\n",
    "#(2.)\n",
    "X_train, X_test, y_train, y_test = train_test_split(X, y, test_size=0.3, random_state=0)\n",
    "\n",
    "#(3.)\n",
    "svc = svm.SVC(C=1, kernel='rbf', gamma=0.001)\n",
    "svc.fit(X_train, y_train)\n",
    "\n",
    "#(4.)\n",
    "y_pred = svc.predict(X_test)\n",
    "print(\"Accuracy: %.2f\"% accuracy_score(y_test, y_pred))"
   ]
  },
  {
   "cell_type": "markdown",
   "metadata": {},
   "source": [
    "1. 教師ありデータを持ち込みます。\n",
    "2. 教師ありデータをトレーニングデータとテストデータに分けています。\n",
    "3. 機械学習アルゴリズムを使ってトレーニングデータを学習させています。\n",
    "4. テストデータを使って予測がどのぐらい当たったかを調べて、学習した機械学習アルゴリズムの性能を確認します。"
   ]
  },
  {
   "cell_type": "code",
   "execution_count": null,
   "metadata": {},
   "outputs": [],
   "source": []
  }
 ],
 "metadata": {
  "kernelspec": {
   "display_name": "Python 3",
   "language": "python",
   "name": "python3"
  },
  "language_info": {
   "codemirror_mode": {
    "name": "ipython",
    "version": 3
   },
   "file_extension": ".py",
   "mimetype": "text/x-python",
   "name": "python",
   "nbconvert_exporter": "python",
   "pygments_lexer": "ipython3",
   "version": "3.8.3"
  }
 },
 "nbformat": 4,
 "nbformat_minor": 4
}
