{
 "cells": [
  {
   "cell_type": "markdown",
   "metadata": {
    "chapterId": "HJIGOAX-xbM",
    "id": "chapter_name"
   },
   "source": [
    "# Chapter3 性能評価指標"
   ]
  },
  {
   "cell_type": "markdown",
   "metadata": {},
   "source": [
    "## 3.1 性能評価指標（P.44）\n",
    "\n",
    "* 混同行列\n",
    "    * 各テストデータに対するモデルの予測結果を4つの観点で分類し、\n",
    "    それぞれに当てはまる予想結果の個数をまとめた表\n",
    "        * 真陽性（True Positive）\n",
    "            * 陽性クラスと予測され、結果も陽性クラスであった個数\n",
    "        * 真陰性（True Negative）\n",
    "            * 陰性クラスと予測され、結果も陰性クラスであった個数\n",
    "        * 偽陽性（False Positive）\n",
    "            * 陽性クラスと予測されたが、結果は陰性クラスであった個数\n",
    "        * 偽陰性（False Negative）\n",
    "            * 陰性クラスと予測されたが、結果は陽性クラスであった個数\n",
    "    * 真陽性・真陰性\n",
    "        * 機械学習モデルが正解\n",
    "    * 偽陽性・偽陰性\n",
    "        * 機械学習モデルが不正解\n",
    "       \n",
    "<img src=\".\\fig_3.1.png\" width=\"300\" alt=\"混同行列\">\n",
    "\n",
    "* 混同行列の実装\n",
    "    * confusion_matrix()を利用する\n",
    "        * [**`metrics.confusion_matrix(y_true, y_pred[, …]`**)](https://scikit-learn.org/stable/modules/generated/sklearn.metrics.confusion_matrix.html)\n",
    "            * y_trueに正解データの配列\n",
    "            * y_predに予測データの配列\n",
    "            * 出力は正解と予測の組み合わせをカウントした値を行列にしただけ\n",
    "                * 各軸は各クラスの値を昇順にソートした順番（0,1の順番）\n",
    "                * どの値が陽性、陰性かによって、行列の並びを変える必要がある\n",
    "            * 出力される行列の並びを指定する場合は、labels=\"\"で指定する"
   ]
  },
  {
   "cell_type": "markdown",
   "metadata": {},
   "source": [
    "### リスト3.2（P.47）"
   ]
  },
  {
   "cell_type": "code",
   "execution_count": 1,
   "metadata": {},
   "outputs": [
    {
     "name": "stdout",
     "output_type": "stream",
     "text": [
      "[[2 1]\n",
      " [0 3]]\n"
     ]
    }
   ],
   "source": [
    "# ここで必要となるモジュールをimportします\n",
    "import numpy\n",
    "from sklearn.metrics import confusion_matrix\n",
    "\n",
    "# データを格納します。ここでは0が陽性、1が陰性を示しています\n",
    "y_true = [0,0,0,1,1,1]\n",
    "y_pred = [1,0,0,1,1,1]\n",
    "\n",
    "# 以下の行に変数confmatにy_trueとy_predの混同行列を格納してください\n",
    "confmat = confusion_matrix(y_true, y_pred)\n",
    "\n",
    "# 結果を出力します\n",
    "print (confmat)"
   ]
  },
  {
   "cell_type": "markdown",
   "metadata": {},
   "source": [
    "### リスト3.2（0が陰性、1が陽性のデータを分類したい場合（labels指定））"
   ]
  },
  {
   "cell_type": "code",
   "execution_count": 3,
   "metadata": {},
   "outputs": [
    {
     "name": "stdout",
     "output_type": "stream",
     "text": [
      "[[3 0]\n",
      " [1 2]]\n"
     ]
    }
   ],
   "source": [
    "# ここで必要となるモジュールをimportします\n",
    "import numpy\n",
    "from sklearn.metrics import confusion_matrix\n",
    "\n",
    "# データを格納します。ここでは1が陽性、0が陰性を示しています\n",
    "y_true = [0,0,0,1,1,1]\n",
    "y_pred = [1,0,0,1,1,1]\n",
    "\n",
    "# 以下の行に変数confmatにy_trueとy_predの混同行列を格納してください\n",
    "confmat = confusion_matrix(y_true, y_pred, labels=[1,0])\n",
    "\n",
    "# 結果を出力します\n",
    "print (confmat)"
   ]
  },
  {
   "cell_type": "markdown",
   "metadata": {},
   "source": [
    "### 正解率・F値\n",
    "$$\n",
    "    正解率 = \\frac{TP + TN}{FP + FN + TP + TN}\n",
    "$$\n",
    "\n",
    "* データに偏りがある場合、正解率は非常に危険  \n",
    "    * 「適合率（精度、precision）」・「再現率（recall）」・「F値」という指標で評価する\n",
    "    * 3つの指標はすべて０～１の範囲で示され、1に近いほうが「性能がよい」ことを示す\n",
    "* 適合率（精度、precision）\n",
    "    * 陽性と予測されたデータのうち、実際に陽性であるものの割合\n",
    "* 再現率（recall）\n",
    "    * 実際の陽性データのうち、陽性と予測できたものの割合\n",
    "* F値\n",
    "    * 適合率と再現率の両方を組み合わせた（調和平均）\n",
    "\n",
    "$$\n",
    "    適合率（精度、precision） = \\frac{TP}{FP + TP}\n",
    "$$\n",
    "$$\n",
    "    再現率（recall）= \\frac{TP}{FN + TP}\n",
    "$$\n",
    "$$\n",
    "    F値 = 2 \\times \\frac{適合率 \\times 再現率}{適合率 + 再現率}\n",
    "$$\n",
    "\n",
    "* 性能評価指標の実装\n",
    "    * sklearn.metricsからimportして利用可能\n",
    "    * 適合度（精度、precision）\n",
    "        * [**`metrics.precision_score(y_true, y_pred[, …])`**](https://scikit-learn.org/stable/modules/generated/sklearn.metrics.precision_score.html)\n",
    "    * 再現率（recall）\n",
    "        * [**`metrics.recall_score(y_true, y_pred[, …])`**](https://scikit-learn.org/stable/modules/generated/sklearn.metrics.recall_score.html#sklearn.metrics.recall_score)\n",
    "    * F値\n",
    "        * [**`metrics.f1_score(y_true, y_pred[, labels, …])`**](https://scikit-learn.org/stable/modules/generated/sklearn.metrics.f1_score.html#sklearn.metrics.f1_score)"
   ]
  },
  {
   "cell_type": "markdown",
   "metadata": {},
   "source": [
    "### リスト3.3（P.50）"
   ]
  },
  {
   "cell_type": "code",
   "execution_count": 2,
   "metadata": {},
   "outputs": [
    {
     "name": "stdout",
     "output_type": "stream",
     "text": [
      "Precision: 0.750\n",
      "Recall: 1.000\n",
      "F1: 0.857\n"
     ]
    }
   ],
   "source": [
    "# 適合率、再現率、F\n",
    "from sklearn.metrics import precision_score\n",
    "from sklearn.metrics import recall_score, f1_score\n",
    "\n",
    "# データを格納します。ここでは0が陽性、1が陰性を示しています\n",
    "y_true = [0,0,0,1,1,1]\n",
    "y_pred = [1,0,0,1,1,1]\n",
    "\n",
    "# y_trueには正解のラベルを、y_predには予測結果のラベルをそれぞれ渡します\n",
    "print(\"Precision: %.3f\" % precision_score(y_true, y_pred))\n",
    "print(\"Recall: %.3f\" % recall_score(y_true, y_pred))\n",
    "print(\"F1: %.3f\" % f1_score(y_true, y_pred))"
   ]
  },
  {
   "cell_type": "markdown",
   "metadata": {},
   "source": [
    "## 3.2 PR曲線（P.52）\n",
    "\n",
    "* 再現率と適合率はトレードオフの関係\n",
    "    * 片方をあげるともう一方がさがる\n",
    "    * 再現性と適合性のどちらを重視するかは問題による\n",
    "        * どちらかへのこだわりがない場合、F値が用いられる\n",
    "        \n",
    "* PR曲線\n",
    "    * 横軸：再現率、縦軸：適合率としてデータをプロットし、グラフで表したもの\n",
    "    * PR曲線には適合率と再現率が一致する点が存在する\n",
    "        * ブレークイーブンポイント（BEP）と呼ぶ\n",
    "        * BEPが右上にあるほど良いモデル"
   ]
  },
  {
   "cell_type": "markdown",
   "metadata": {},
   "source": [
    "# ほげ要望\n",
    "第３章の添削問題をやってくれたら工藤が喜びます"
   ]
  },
  {
   "cell_type": "markdown",
   "metadata": {},
   "source": [
    "# エクストラほげ問題③\n",
    "## Pythonで学ぶ線形代数\n",
    "## ベクトルの内積\n",
    "大学に進学をした理系学生が１年生の最初に習うのが線形代数です。その知識を使い今習っているPythonの技術向上を目指しましょう。   \n",
    "※ヒントのようなもの  \n",
    "①https://oguemon.com/topic/study/linear-algebra/  \n",
    "②https://mathtrain.jp/category/senkei  \n",
    "③https://python.atelierkobato.com/linear/  \n",
    "④https://examist.jp/category/mathematics/  \n",
    "⑤http://www.geisya.or.jp/~mwm48961/koukou/index_m.htm  \n",
    "  \n",
    "# もんだいだよん(^ω^)\n",
    "## ベクトルの内積\n",
    "### ①numpy.dot()\n",
    "PythonのライブラリNumPyを用いて解きなさい  \n",
    "ベクトル$\\vec{a}$とベクトル$\\vec{b}$の内積$\\vec{a}・\\vec{b}$をnumpy.dot()を用いて求めなさい\n",
    "  \n",
    "$\n",
    "  \\vec{a} = \\left(\n",
    "    \\begin{array}{ccc}\n",
    "      2 \\\\\n",
    "      3 \\\\\n",
    "      4\n",
    "    \\end{array}\n",
    "  \\right)\n",
    "$\n",
    "$\n",
    "  \\vec{b} = \\left(\n",
    "    \\begin{array}{ccc}\n",
    "      5 \\\\\n",
    "      1 \\\\\n",
    "      6\n",
    "    \\end{array}\n",
    "  \\right)\n",
    "$\n",
    "\n",
    "\n",
    "### ②numpy.vdot()\n",
    "PythonのライブラリNumPyを用いて解きなさい  \n",
    "ベクトル$\\vec{a}$とベクトル$\\vec{b}$の内積$\\vec{a}・\\vec{b}$をnumpy.vdot()を用いて求めなさい\n",
    "  \n",
    "$\n",
    "  \\vec{a} = \\left(\n",
    "    \\begin{array}{ccc}\n",
    "      2 \\\\\n",
    "      3 \\\\\n",
    "      4\n",
    "    \\end{array}\n",
    "  \\right)\n",
    "$\n",
    "$\n",
    "  \\vec{b} = \\left(\n",
    "    \\begin{array}{ccc}\n",
    "      5 \\\\\n",
    "      1 \\\\\n",
    "      6\n",
    "    \\end{array}\n",
    "  \\right)\n",
    "$\n",
    "\n",
    "\n",
    "### ③numpy.inner()\n",
    "PythonのライブラリNumPyを用いて解きなさい  \n",
    "ベクトル$\\vec{a}$とベクトル$\\vec{b}$の内積$\\vec{a}・\\vec{b}$をnumpy.inner()を用いて求めなさい\n",
    "  \n",
    "$\n",
    "  \\vec{a} = \\left(\n",
    "    \\begin{array}{ccc}\n",
    "      2 \\\\\n",
    "      3 \\\\\n",
    "      4\n",
    "    \\end{array}\n",
    "  \\right)\n",
    "$\n",
    "$\n",
    "  \\vec{b} = \\left(\n",
    "    \\begin{array}{ccc}\n",
    "      5 \\\\\n",
    "      1 \\\\\n",
    "      6\n",
    "    \\end{array}\n",
    "  \\right)\n",
    "$\n",
    "\n",
    "\n",
    "# ヒントのようなもの\n",
    "以下の流れでプログラムしたらいいと思います  \n",
    "\n",
    "``` python\n",
    "#ライブラリのインポート\n",
    "\n",
    "#ベクトルやスカラー定義\n",
    "\n",
    "#計算処理\n",
    "\n",
    "#結果のプリント\n",
    "\n",
    "```"
   ]
  }
 ],
 "metadata": {
  "kernelspec": {
   "display_name": "Python 3",
   "language": "python",
   "name": "python3"
  },
  "language_info": {
   "codemirror_mode": {
    "name": "ipython",
    "version": 3
   },
   "file_extension": ".py",
   "mimetype": "text/x-python",
   "name": "python",
   "nbconvert_exporter": "python",
   "pygments_lexer": "ipython3",
   "version": "3.8.3"
  }
 },
 "nbformat": 4,
 "nbformat_minor": 2
}
