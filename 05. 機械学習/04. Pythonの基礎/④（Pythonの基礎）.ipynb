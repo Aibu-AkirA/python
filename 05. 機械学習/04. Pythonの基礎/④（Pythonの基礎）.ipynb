{
 "cells": [
  {
   "cell_type": "markdown",
   "metadata": {},
   "source": [
    "# 力試しタイム"
   ]
  },
  {
   "cell_type": "markdown",
   "metadata": {},
   "source": [
    "P.60の総合添削問題をやってみてはいかが？"
   ]
  },
  {
   "cell_type": "markdown",
   "metadata": {},
   "source": [
    "**リスト4.49：問題**  \n",
    "うるう年かどうかを調べるプログラムを作成してください。  \n",
    "* ①西暦が400で割り切れず100で割り切れる場合は平年です。  \n",
    "* ②①が成立しない場合、西暦が4で割り切れる場合はうるう年です。  \n",
    "* それ以外の場合は平年です。  \n",
    "* うるう年の場合は「＊＊年はうるう年です」と出力してください。  \n",
    "* 平年の場合は「＊＊年は平年です」と出力してください。"
   ]
  },
  {
   "cell_type": "code",
   "execution_count": 1,
   "metadata": {},
   "outputs": [],
   "source": [
    "# 変数yearに西暦で年を入力してください\n",
    "\n",
    "\n",
    "\n",
    "\n",
    "\n",
    "# if文により条件分岐をし、うるう年か平年かを判別します\n"
   ]
  },
  {
   "cell_type": "markdown",
   "metadata": {},
   "source": [
    "**リスト4.50：解答例**"
   ]
  },
  {
   "cell_type": "code",
   "execution_count": 2,
   "metadata": {},
   "outputs": [
    {
     "name": "stdout",
     "output_type": "stream",
     "text": [
      "2000年はうるう年です\n"
     ]
    }
   ],
   "source": [
    "# 変数yearに西暦で年を入力してください\n",
    "year = 2000\n",
    "\n",
    "# if文により条件分岐をし、うるう年か平年かを判別します\n",
    "if year % 100 == 0 and year % 400 != 0:\n",
    "    print (str(year) + \"年は平年です\")\n",
    "elif year % 4 == 0:\n",
    "    print (str(year) + \"年はうるう年です\")\n",
    "else:\n",
    "    print (str(year) + \"年は平年です\")"
   ]
  },
  {
   "cell_type": "markdown",
   "metadata": {},
   "source": [
    "# ほげ要望\n",
    "第４章の添削問題を行ってくれたら工藤が喜びます"
   ]
  },
  {
   "cell_type": "markdown",
   "metadata": {},
   "source": [
    "# エクストラほげ問題④\n",
    "## Pythonで学ぶ線形代数\n",
    "## ベクトルの描画\n",
    "大学に進学をした理系学生が１年生の最初に習うのが線形代数です。その知識を使い今習っているPythonの技術向上を目指しましょう。   \n",
    "※ヒントのようなもの  \n",
    "①https://oguemon.com/topic/study/linear-algebra/  \n",
    "②https://mathtrain.jp/category/senkei  \n",
    "③https://python.atelierkobato.com/linear/  \n",
    "④https://examist.jp/category/mathematics/  \n",
    "⑤http://www.geisya.or.jp/~mwm48961/koukou/index_m.htm  \n",
    "  \n",
    "# もんだいだよん(^ω^)\n",
    "## ベクトルの描画\n",
    "### ①matplotlib.axes.Axes.quiver()\n",
    "PythonのライブラリNumPyを用いて解きなさい  \n",
    "ベクトル$\\vec{a}$をmatplotlib.axes.Axes.quiver()を用いて描画しなさい\n",
    "\n",
    "$\n",
    "  A = \\left(\n",
    "    \\begin{array}{ccc}\n",
    "      2 \\\\\n",
    "      3 \n",
    "    \\end{array}\n",
    "  \\right)\n",
    "$\n",
    "$\n",
    "  B = \\left(\n",
    "    \\begin{array}{ccc}\n",
    "      5 \\\\\n",
    "      1 \n",
    "    \\end{array}\n",
    "  \\right)\n",
    "$\n",
    "\n",
    "### ②numpy.vdot()\n",
    "PythonのライブラリNumPyを用いて解きなさい  \n",
    "行列$A$の内積$A・B$をnumpy.vdot()を用いて求めなさい\n",
    "  \n",
    "$\n",
    "  A = \\left(\n",
    "    \\begin{array}{ccc}\n",
    "      1 & 2 \\\\\n",
    "      3 & 4 \\\\\n",
    "    \\end{array}\n",
    "  \\right)\n",
    "$\n",
    "$\n",
    "  B = \\left(\n",
    "    \\begin{array}{ccc}\n",
    "      5 & 6 \\\\\n",
    "      7 & 8 \\\\\n",
    "    \\end{array}\n",
    "  \\right)\n",
    "$\n",
    "\n",
    "\n",
    "### ③numpy.inner()\n",
    "PythonのライブラリNumPyを用いて解きなさい  \n",
    "行列$A$の内積$A・B$をnumpy.inner()を用いて求めなさい\n",
    "  \n",
    "$\n",
    "  A = \\left(\n",
    "    \\begin{array}{ccc}\n",
    "      2 \\\\\n",
    "      3 \n",
    "    \\end{array}\n",
    "  \\right)\n",
    "$\n",
    "$\n",
    "  B = \\left(\n",
    "    \\begin{array}{ccc}\n",
    "      5 \\\\\n",
    "      1 \n",
    "    \\end{array}\n",
    "  \\right)\n",
    "$\n",
    "\n",
    "\n",
    "# ヒントのようなもの\n",
    "以下の流れでプログラムしたらいいと思います  \n",
    "\n",
    "``` python\n",
    "#ライブラリのインポート\n",
    "\n",
    "#ベクトルやスカラー定義\n",
    "\n",
    "#計算処理\n",
    "\n",
    "#結果のプリント\n",
    "\n",
    "```"
   ]
  }
 ],
 "metadata": {
  "kernelspec": {
   "display_name": "Python 3",
   "language": "python",
   "name": "python3"
  },
  "language_info": {
   "codemirror_mode": {
    "name": "ipython",
    "version": 3
   },
   "file_extension": ".py",
   "mimetype": "text/x-python",
   "name": "python",
   "nbconvert_exporter": "python",
   "pygments_lexer": "ipython3",
   "version": "3.8.3"
  }
 },
 "nbformat": 4,
 "nbformat_minor": 2
}
