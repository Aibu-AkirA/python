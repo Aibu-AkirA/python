{
 "cells": [
  {
   "cell_type": "code",
   "execution_count": 17,
   "metadata": {},
   "outputs": [],
   "source": [
    "def binary_search (number, target_number):\n",
    "    \n",
    "    start = 0\n",
    "    end = len(number)-1\n",
    "    center = int(end/2)\n",
    "    while(target_number != number[center]):\n",
    "        if(target_number > number[center]):\n",
    "            start = center\n",
    "            center = int((end-start)/2)+start\n",
    "        elif(target_number < number[center]):\n",
    "            end = center\n",
    "            center = int((end-start)/2)+start\n",
    "            \n",
    "    print(target_number, \"は\", center, \"番目にあります\", sep=\"\")   \n"
   ]
  },
  {
   "cell_type": "code",
   "execution_count": 18,
   "metadata": {},
   "outputs": [
    {
     "name": "stdout",
     "output_type": "stream",
     "text": [
      "12は12番目にあります\n"
     ]
    }
   ],
   "source": [
    "numlist = [0,1,2,3,4,5,6,7,8,9,10,11,12,13,14,15,16]\n",
    "\n",
    "binary_search(numlist, 12)"
   ]
  },
  {
   "cell_type": "code",
   "execution_count": 19,
   "metadata": {},
   "outputs": [
    {
     "name": "stdout",
     "output_type": "stream",
     "text": [
      "512は5番目にあります\n"
     ]
    }
   ],
   "source": [
    "numlist2 = [0,13,17,23,44,512,6345,7123,10000,160000]\n",
    "\n",
    "binary_search(numlist2, 512)"
   ]
  },
  {
   "cell_type": "code",
   "execution_count": null,
   "metadata": {},
   "outputs": [],
   "source": []
  }
 ],
 "metadata": {
  "kernelspec": {
   "display_name": "Python 3",
   "language": "python",
   "name": "python3"
  },
  "language_info": {
   "codemirror_mode": {
    "name": "ipython",
    "version": 3
   },
   "file_extension": ".py",
   "mimetype": "text/x-python",
   "name": "python",
   "nbconvert_exporter": "python",
   "pygments_lexer": "ipython3",
   "version": "3.8.3"
  }
 },
 "nbformat": 4,
 "nbformat_minor": 4
}
