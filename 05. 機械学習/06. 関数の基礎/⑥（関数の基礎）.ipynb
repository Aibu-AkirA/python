{
 "cells": [
  {
   "cell_type": "markdown",
   "metadata": {},
   "source": [
    "## 6.4 Appendix（P.165）\n",
    "### 6.4.1 文字列のフォーマット指定  \n",
    "* 「%」演算子を用いたフォーマット指定も可能  \n",
    "    * ダブルクォートやシングルクォートで囲まれた文字列の中に「%」を記述することにより  \n",
    "    **文字列の後ろに置かれたオブジェクトを引き渡す**ことができる\n",
    "        * **%d**：整数で表示\n",
    "        * **%f**：小数で表示\n",
    "        * **%.2f**：小数第2位まで表示\n",
    "        * **%s**：文字列として表示        "
   ]
  },
  {
   "cell_type": "markdown",
   "metadata": {},
   "source": [
    "### （P.165）リスト6.53"
   ]
  },
  {
   "cell_type": "code",
   "execution_count": 3,
   "metadata": {},
   "outputs": [
    {
     "name": "stdout",
     "output_type": "stream",
     "text": [
      "円周率は3.141592\n",
      "円周率は3.14\n"
     ]
    }
   ],
   "source": [
    "pai = 3.141592\n",
    "print(\"円周率は%f\" % pai)  \n",
    "print(\"円周率は%.2f\" % pai)  "
   ]
  },
  {
   "cell_type": "markdown",
   "metadata": {},
   "source": [
    "# ほげ要望\n",
    "第６章の添削問題をやってくれたら工藤が喜びます"
   ]
  },
  {
   "cell_type": "markdown",
   "metadata": {},
   "source": [
    "# エクストラほげ問題⑥\n",
    "## Pythonで学ぶ線形代数\n",
    "## 行列式の定義とサラスの方法\n",
    "大学に進学をした理系学生が１年生の最初に習うのが線形代数です。その知識を使い今習っているPythonの技術向上を目指しましょう。   \n",
    "※ヒントのようなもの  \n",
    "①https://oguemon.com/topic/study/linear-algebra/  \n",
    "②https://mathtrain.jp/category/senkei  \n",
    "③https://python.atelierkobato.com/linear/  \n",
    "④https://examist.jp/category/mathematics/  \n",
    "⑤http://www.geisya.or.jp/~mwm48961/koukou/index_m.htm  \n",
    "  \n",
    "# もんだいだよん(^ω^)\n",
    "## 行列式の定義とサラスの方法\n",
    "### 行列式の定義\n",
    "scipy.linalg.det()を用いて、行列$A$の$det A$を計算してみないさい\n",
    "\n",
    "$\n",
    "  \\mathrm{det}A = |A| = \\left|\n",
    "    \\begin{array}{ccc}\n",
    "      5 & 2\\\\\n",
    "      -3 &4\n",
    "    \\end{array}\n",
    "  \\right|\n",
    "$\n",
    "### サラスの方法\n",
    "サラスの方法を調べて自分で作成した３次元ベクトルで計算をしてみなさい\n",
    "\n",
    "### 行列式の展開\n",
    "行列式の展開方法を調べて先ほど作成した三次元ベクトルを展開しなさい"
   ]
  }
 ],
 "metadata": {
  "kernelspec": {
   "display_name": "Python 3",
   "language": "python",
   "name": "python3"
  },
  "language_info": {
   "codemirror_mode": {
    "name": "ipython",
    "version": 3
   },
   "file_extension": ".py",
   "mimetype": "text/x-python",
   "name": "python",
   "nbconvert_exporter": "python",
   "pygments_lexer": "ipython3",
   "version": "3.8.3"
  }
 },
 "nbformat": 4,
 "nbformat_minor": 2
}
