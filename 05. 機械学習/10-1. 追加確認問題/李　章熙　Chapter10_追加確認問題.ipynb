{
 "cells": [
  {
   "cell_type": "markdown",
   "metadata": {
    "chapterId": "SyUAPlA7M",
    "id": "chapter_name"
   },
   "source": [
    "# Chapter10　データ可視化のための準備"
   ]
  },
  {
   "cell_type": "markdown",
   "metadata": {},
   "source": [
    "### 10-1\n",
    "以下の処理を行うプログラムを完成させなさい。  \n",
    "（参考：10.2.2 正規分布に従う乱数を生成する）\n",
    "* シードの値を10に設定する\n",
    "* 正規分布に従う乱数を5つ生成し、**x** に代入する\n",
    "* 生成した乱数の平均を **y** に代入する"
   ]
  },
  {
   "cell_type": "code",
   "execution_count": 1,
   "metadata": {
    "id": "answer",
    "scrolled": true
   },
   "outputs": [
    {
     "name": "stdout",
     "output_type": "stream",
     "text": [
      "==== 生成した乱数 ====\n",
      "[ 1.3315865   0.71527897 -1.54540029 -0.00838385  0.62133597]\n",
      "==== 平均 ====\n",
      "0.22288346207572268\n"
     ]
    }
   ],
   "source": [
    "import numpy as np\n",
    "\n",
    "# シードの値を10に設定する\n",
    "np.random.seed(10)\n",
    "\n",
    "# 正規分布に従う乱数を5個生成しxに代入する\n",
    "x = np.random.randn(5)\n",
    "\n",
    "# 生成した乱数の平均をyに代入する\n",
    "y = np.mean(x)\n",
    "\n",
    "# 出力\n",
    "print(\"==== 生成した乱数 ====\")\n",
    "print(x)\n",
    "print(\"==== 平均 ====\")\n",
    "print(y)\n"
   ]
  },
  {
   "cell_type": "markdown",
   "metadata": {},
   "source": [
    "### 10-2\n",
    "以下の処理を行うプログラムを完成させなさい。  \n",
    "（参考：10.2.3 二項分布に従う乱数を生成する）\n",
    "* シードの値を0に設定する\n",
    "* 0.5の確率で成功する試行を100回行った時の成功数を20回分求めて、 **x** に代入する\n",
    "* **x** の中の最大値を **x_max** 、 最小値を **x_min** に代入する"
   ]
  },
  {
   "cell_type": "code",
   "execution_count": 2,
   "metadata": {
    "id": "answer",
    "scrolled": true
   },
   "outputs": [
    {
     "name": "stdout",
     "output_type": "stream",
     "text": [
      "==== x ====\n",
      "[52 51 61 51 43 47 45 48 42 45 60 53 52 53 53 53 42 52 51 57]\n",
      "==== x_max ====\n",
      "61\n",
      "==== x_min ====\n",
      "42\n"
     ]
    }
   ],
   "source": [
    "import numpy as np\n",
    "\n",
    "# シードの値を0に設定\n",
    "np.random.seed(0)\n",
    "\n",
    "# 0.5の確率で成功する試行を100回行った時の成功数を20回分求めて、xに代入\n",
    "x = np.random.binomial(100, 0.5, 20)\n",
    "\n",
    "# xの最大値をx_maxに代入\n",
    "x_max = np.max(x)\n",
    "\n",
    "# xの最小値をx_minに代入\n",
    "x_min = np.min(x)\n",
    "\n",
    "# 出力\n",
    "print(\"==== x ====\")\n",
    "print(x)\n",
    "print(\"==== x_max ====\")\n",
    "print(x_max)\n",
    "print(\"==== x_min ====\")\n",
    "print(x_min)\n"
   ]
  },
  {
   "cell_type": "markdown",
   "metadata": {},
   "source": [
    "### 10-3\n",
    "以下の処理を行うプログラムを完成させなさい。  \n",
    "（参考：10.2.4 リストからランダムに選択する）\n",
    "\n",
    "* 1から15までの整数を要素に持つリストを **x** に代入する\n",
    "* リストxの中からランダムに10個選んだ結果を **y** に代入する（ランダムに選択する際、重複を許す）"
   ]
  },
  {
   "cell_type": "code",
   "execution_count": 4,
   "metadata": {
    "id": "answer",
    "scrolled": false
   },
   "outputs": [
    {
     "name": "stdout",
     "output_type": "stream",
     "text": [
      "==== x ====\n",
      "[1, 2, 3, 4, 5, 6, 7, 8, 9, 10, 11, 12, 13, 14, 15]\n",
      "==== y ====\n",
      "[13  6  1  4 12  4  8 10  4  6]\n"
     ]
    }
   ],
   "source": [
    "import numpy as np\n",
    "\n",
    "# 1から15までの整数を要素に持つリストをxに代入\n",
    "x = list(range(1,16))\n",
    "\n",
    "# シード設定\n",
    "np.random.seed(0)\n",
    "# xの中からランダムに10個選んでyに代入\n",
    "y = np.random.choice(x, 10)\n",
    "\n",
    "# 出力\n",
    "print(\"==== x ====\")\n",
    "print(x)\n",
    "print(\"==== y ====\")\n",
    "print(y)\n"
   ]
  },
  {
   "cell_type": "markdown",
   "metadata": {},
   "source": [
    "### 10-4\n",
    "以下の処理を行うプログラムを完成させなさい。  \n",
    "（参考：10.3.1 datetime型、10.3.2 timedelta型、10.3.3 datetime型とtimedelta型の演算）\n",
    "\n",
    "* 2020年2月1日10時30分を表すdatetimeオブジェクトを作成し、 **x** に代入する\n",
    "* 2時間1分39秒を表すtimedeltaオブジェクトを作成し、 **y** に代入する\n",
    "* **x** に **y** の時間を加えたdatetimeオブジェクトを **z** に代入する"
   ]
  },
  {
   "cell_type": "code",
   "execution_count": 7,
   "metadata": {
    "id": "answer",
    "scrolled": true
   },
   "outputs": [
    {
     "name": "stdout",
     "output_type": "stream",
     "text": [
      "==== x ====\n",
      "2020-01-02 10:30:00\n",
      "==== y ====\n",
      "2:01:39\n",
      "==== z ====\n",
      "2020-01-02 12:31:39\n"
     ]
    }
   ],
   "source": [
    "import datetime as dt\n",
    "\n",
    "# 2020年2月1日10時30分を表すdatetimeオブジェクトを作成し、xに代入\n",
    "x = dt.datetime(2020, 1, 2, 10, 30)\n",
    "\n",
    "# 2時間1分39秒を表すtimedeltaオブジェクトを作成し、yに代入\n",
    "y = dt.timedelta(seconds = 7299)\n",
    "\n",
    "# xにyの時間を加えたdatetimeオブジェクトをzに代入\n",
    "z = x + y\n",
    "\n",
    "# 出力\n",
    "print(\"==== x ====\")\n",
    "print(x)\n",
    "print(\"==== y ====\")\n",
    "print(y)\n",
    "print(\"==== z ====\")\n",
    "print(z)"
   ]
  },
  {
   "cell_type": "markdown",
   "metadata": {},
   "source": [
    "### 10-5\n",
    " 日時を表す文字列 **s** をdatetimeオブジェクトに変換し、xに代入するプログラムを完成させなさい  \n",
    "（参考：10.3.4 時を表す文字列からdatetimeオブジェクトを作成する）"
   ]
  },
  {
   "cell_type": "code",
   "execution_count": 14,
   "metadata": {
    "id": "answer",
    "scrolled": false
   },
   "outputs": [
    {
     "name": "stdout",
     "output_type": "stream",
     "text": [
      "2019-12-23 20:30:40\n"
     ]
    }
   ],
   "source": [
    "import datetime as dt\n",
    "\n",
    "# 2019年12月23日20時30分40秒を表す文字列\n",
    "s = \"2019/12/23 20:30:40\"\n",
    "\n",
    "# sを変換して、2019年12月23日20時30分40秒を表すdatetimeオブジェクトをxに代入\n",
    "x = dt.datetime.strptime(s, \"%Y/%m/%d  %H:%M:%S\")\n",
    "\n",
    "# 出力\n",
    "print(x)"
   ]
  },
  {
   "cell_type": "markdown",
   "metadata": {},
   "source": [
    "### 10-6\n",
    "np.arange()を用いて **x** に1から15までの奇数列を代入しなさい  \n",
    "（参考：10.4.2 等間隔の数列を生成する①）"
   ]
  },
  {
   "cell_type": "code",
   "execution_count": 15,
   "metadata": {
    "id": "answer"
   },
   "outputs": [
    {
     "name": "stdout",
     "output_type": "stream",
     "text": [
      "[ 1  3  5  7  9 11 13 15]\n"
     ]
    }
   ],
   "source": [
    "import numpy as np\n",
    "\n",
    "# np.arange()を用いて、xに1から15までの奇数列を代入\n",
    "x = np.arange(1,16, 2)\n",
    "\n",
    "# 出力\n",
    "print(x)"
   ]
  },
  {
   "cell_type": "markdown",
   "metadata": {},
   "source": [
    "### 10-7\n",
    "np.linspace()を用いて-15から15までの範囲を等間隔に分ける7点をxに代入しなさい  \n",
    "（参考：10.4.3 等間隔の数列を生成する②）"
   ]
  },
  {
   "cell_type": "code",
   "execution_count": 18,
   "metadata": {
    "id": "answer",
    "scrolled": true
   },
   "outputs": [
    {
     "name": "stdout",
     "output_type": "stream",
     "text": [
      "[-15. -10.  -5.   0.   5.  10.  15.]\n"
     ]
    }
   ],
   "source": [
    "import numpy as np\n",
    "\n",
    "# np.linspace()を用いて-15から15までの範囲を等間隔に分ける7点をxに代入\n",
    "x = np.linspace(-15, 15, 7)\n",
    "\n",
    "# 出力\n",
    "print(x)"
   ]
  },
  {
   "cell_type": "code",
   "execution_count": null,
   "metadata": {},
   "outputs": [],
   "source": []
  }
 ],
 "metadata": {
  "kernelspec": {
   "display_name": "Python 3",
   "language": "python",
   "name": "python3"
  },
  "language_info": {
   "codemirror_mode": {
    "name": "ipython",
    "version": 3
   },
   "file_extension": ".py",
   "mimetype": "text/x-python",
   "name": "python",
   "nbconvert_exporter": "python",
   "pygments_lexer": "ipython3",
   "version": "3.8.3"
  }
 },
 "nbformat": 4,
 "nbformat_minor": 2
}
