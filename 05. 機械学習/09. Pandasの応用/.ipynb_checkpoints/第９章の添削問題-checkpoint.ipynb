{
 "cells": [
  {
   "cell_type": "code",
   "execution_count": 3,
   "metadata": {},
   "outputs": [
    {
     "name": "stdout",
     "output_type": "stream",
     "text": [
      "       国語  数学  社会  料理  英語  体育\n",
      "taro   30  45  12  45  87  56\n",
      "mike   65  47  83  17  58  43\n",
      "kana   64  63  86  57  46  73\n",
      "jun    38  47  62  91  63  82\n",
      "sachi  65  36  85  94  36  62\n",
      "\n",
      "       国語  数学  社会  料理  英語  体育\n",
      "sachi  65  36  85  94  36  62\n",
      "taro   30  45  12  45  87  56\n",
      "mike   65  47  83  17  58  43\n",
      "jun    38  47  62  91  63  82\n",
      "kana   64  63  86  57  46  73\n",
      "\n",
      "       国語  数学  社会  料理  英語  体育\n",
      "sachi  70  41  90  99  41  67\n",
      "taro   35  50  17  50  92  61\n",
      "mike   70  52  88  22  63  48\n",
      "jun    43  52  67  96  68  87\n",
      "kana   69  68  91  62  51  78\n",
      "\n",
      "        国語    数学    社会    料理    英語    体育\n",
      "mean  57.4  52.6  70.6  65.8  63.0  68.2\n",
      "max   70.0  68.0  91.0  99.0  92.0  87.0\n",
      "min   35.0  41.0  17.0  22.0  41.0  48.0\n"
     ]
    }
   ],
   "source": [
    "import pandas as pd\n",
    "\n",
    "index=[\"taro\", \"mike\", \"kana\", \"jun\", \"sachi\"]\n",
    "columns = [\"国語\", \"数学\", \"社会\", \"料理\", \"英語\"]\n",
    "data = [[30, 45, 12, 45, 87], [65, 47, 83, 17, 58], [64, 63, 86, 57, 46], [38, 47, 62, 91, 63], [65, 36, 85, 94, 36]]\n",
    "\n",
    "df = pd.DataFrame(data, index=index, columns=columns)\n",
    "\n",
    "pe_column = pd.Series([56, 43, 73, 82, 62], index=[\"taro\", \"mike\", \"kana\", \"jun\", \"sachi\"])\n",
    "\n",
    "df[\"体育\"] = pe_column\n",
    "print(df)\n",
    "print()\n",
    "\n",
    "df1 = df.sort_values(by=\"数学\", ascending=True)\n",
    "print(df1)\n",
    "print()\n",
    "\n",
    "df2 = df1 + 5\n",
    "print(df2)\n",
    "print()\n",
    "\n",
    "print(df2.describe().loc[[\"mean\", \"max\", \"min\"]])"
   ]
  },
  {
   "cell_type": "code",
   "execution_count": null,
   "metadata": {},
   "outputs": [],
   "source": []
  }
 ],
 "metadata": {
  "kernelspec": {
   "display_name": "Python 3",
   "language": "python",
   "name": "python3"
  },
  "language_info": {
   "codemirror_mode": {
    "name": "ipython",
    "version": 3
   },
   "file_extension": ".py",
   "mimetype": "text/x-python",
   "name": "python",
   "nbconvert_exporter": "python",
   "pygments_lexer": "ipython3",
   "version": "3.8.3"
  }
 },
 "nbformat": 4,
 "nbformat_minor": 4
}
