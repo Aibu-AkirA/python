{
 "cells": [
  {
   "cell_type": "markdown",
   "metadata": {
    "chapterId": "SyMl_A7ZxWf",
    "id": "chapter_name"
   },
   "source": [
    "#  Chapter8 Pandasの基礎"
   ]
  },
  {
   "cell_type": "markdown",
   "metadata": {},
   "source": [
    "### 8-1\n",
    "* リスト型変数indexとdataを生成しなさい。要素はそれぞれ以下の通りとする。  \n",
    "    * index：「\"dog\", \"cat\", \"bird\", \"mouse\", \"rabbit\"」\n",
    "    * data：「30, 15, 3, 8, 11」\n",
    "* データ(値)にdata、インデックスにindexを指定したSeriesを作成し、a_seriesに代入しなさい。  \n",
    "\n",
    "（参考：8.2.1 Seriesを生成する）\n"
   ]
  },
  {
   "cell_type": "code",
   "execution_count": 1,
   "metadata": {
    "id": "answer",
    "scrolled": true
   },
   "outputs": [
    {
     "name": "stdout",
     "output_type": "stream",
     "text": [
      "dog       30\n",
      "cat       15\n",
      "bird       3\n",
      "mouse      8\n",
      "rabbit    11\n",
      "dtype: int64\n"
     ]
    }
   ],
   "source": [
    "import pandas as pd\n",
    "\n",
    "# リスト型変数indexとdataを生成\n",
    "index = [\"dog\", \"cat\", \"bird\", \"mouse\", \"rabbit\"]\n",
    "data = [30, 15, 3, 8, 11]\n",
    "\n",
    "# indexとdataを含むSeriesを生成しa_seriesに代入\n",
    "a_series = pd.Series(data, index=index)\n",
    "\n",
    "print(a_series)"
   ]
  },
  {
   "cell_type": "markdown",
   "metadata": {},
   "source": [
    "### 8-2\n",
    "* 以下の要素を持つディクショナリ型変数dic_dataを生成しなさい。  \n",
    "    * 「\"dog\":30, \"cat\":15, \"bird\":3, \"mouse\":8, \"rabbit\":11」\n",
    "* dic_dataを用いてSeriesを作成し、a_seriesに代入しなさい。  \n",
    "\n",
    "（参考：8.2.1 Seriesを生成する）\n"
   ]
  },
  {
   "cell_type": "code",
   "execution_count": 3,
   "metadata": {},
   "outputs": [
    {
     "name": "stdout",
     "output_type": "stream",
     "text": [
      "dog       30\n",
      "cat       15\n",
      "bird       3\n",
      "mouse      8\n",
      "rabbit    11\n",
      "dtype: int64\n"
     ]
    }
   ],
   "source": [
    "import pandas as pd\n",
    "\n",
    "# ディクショナリ型変数dic_dataを生成\n",
    "dic_data = {\"dog\":30, \"cat\":15, \"bird\":3, \"mouse\":8, \"rabbit\":11}\n",
    "\n",
    "# dic_dataを用いてSeriesを生成し、a_seriesに代入\n",
    "a_series = pd.Series(dic_data)\n",
    "\n",
    "print(a_series)"
   ]
  },
  {
   "cell_type": "markdown",
   "metadata": {},
   "source": [
    "### 8-3\n",
    "* インデックス参照（スライス）を用いて、seriesの1つ目から3つ目までの3つの要素を取り出して、items1に代入しなさい\n",
    "* インデックス参照（スライス）を用いて、seriesの1つ目、3つ目、5つ目の3つの要素を取り出して、items2に代入しなさい\n",
    "* インデックス値を指定する方法を用いて、seriesの\"apple\"、\"banana\"、\"kiwifruit\"のインデックスを持つ要素を取り出してitems3に代入しなさい\n",
    "\n",
    "（参考：8.2.2 参照）"
   ]
  },
  {
   "cell_type": "code",
   "execution_count": 4,
   "metadata": {
    "id": "answer",
    "scrolled": true
   },
   "outputs": [
    {
     "name": "stdout",
     "output_type": "stream",
     "text": [
      "apple     10\n",
      "orange     5\n",
      "banana     8\n",
      "dtype: int64\n",
      "\n",
      "apple        10\n",
      "banana        8\n",
      "kiwifruit     3\n",
      "dtype: int64\n",
      "\n",
      "apple        10\n",
      "banana        8\n",
      "kiwifruit     3\n",
      "dtype: int64\n"
     ]
    }
   ],
   "source": [
    "import pandas as pd\n",
    "\n",
    "index = [\"apple\", \"orange\", \"banana\", \"strawberry\", \"kiwifruit\"]\n",
    "data = [10, 5, 8, 12, 3]\n",
    "series = pd.Series(data, index=index)\n",
    "\n",
    "# インデックス参照を用いてseriesの1つ目から3つ目までの3つの要素を取り出してitems1に代入\n",
    "items1 = series[0:3]\n",
    "\n",
    "# インデックス参照を用いてseriesの1つ目、3つ目、5つ目の3つの要素を取り出してitems2に代入\n",
    "items2 = series[0:5:2]\n",
    "\n",
    "# インデックス値を指定する方法を用いて\"apple\", \"banana\", \"kiwifruit\"のインデックスを持つ要素を取り出してitems3に代入\n",
    "items3 = series[[\"apple\",\"banana\",\"kiwifruit\"]]\n",
    "\n",
    "print(items1)\n",
    "print()\n",
    "print(items2)\n",
    "print()\n",
    "print(items3)"
   ]
  },
  {
   "cell_type": "markdown",
   "metadata": {},
   "source": [
    "### 8-4\n",
    "* 変数**series_values** に**a_series** のデータ（値）を代入しなさい\n",
    "* 変数**series_index** に**a_series** のインデックスを代入しなさい\n",
    "\n",
    "（参考：8.2.3 データ、インデックスを取り出す）"
   ]
  },
  {
   "cell_type": "code",
   "execution_count": 6,
   "metadata": {
    "id": "answer",
    "scrolled": true
   },
   "outputs": [
    {
     "name": "stdout",
     "output_type": "stream",
     "text": [
      "[30 15  3  8 11]\n",
      "Index(['dog', 'cat', 'bird', 'mouse', 'rabbit'], dtype='object')\n"
     ]
    }
   ],
   "source": [
    "import pandas as pd\n",
    "\n",
    "index = [\"dog\", \"cat\", \"bird\", \"mouse\", \"rabbit\"]\n",
    "data = [30, 15, 3, 8, 11]\n",
    "a_series = pd.Series(data, index=index)\n",
    "\n",
    "# series_valuesにseriesのデータを代入してください\n",
    "series_values = a_series.values\n",
    "\n",
    "# series_indexにseriesのインデックスを代入してください\n",
    "series_index = a_series.index\n",
    "\n",
    "print(series_values)\n",
    "print(series_index)"
   ]
  },
  {
   "cell_type": "markdown",
   "metadata": {},
   "source": [
    "### 8-5\n",
    "* a_seriesに以下のインデックスと値の要素を追加しなさい  \n",
    "    * インデックス：\"deer\", \"bear\"\n",
    "    * 値：40, 100\n",
    "* 要素追加後のa_seriesから、インデックス\"bird\"の要素を削除しなさい\n",
    "\n",
    "（参考：8.2.4 要素を追加する、8.2.5 要素を削除する）\n"
   ]
  },
  {
   "cell_type": "code",
   "execution_count": 10,
   "metadata": {
    "id": "answer",
    "scrolled": true
   },
   "outputs": [
    {
     "name": "stdout",
     "output_type": "stream",
     "text": [
      "=== 要素追加後のa_series ===\n",
      "dog        30\n",
      "cat        15\n",
      "bird        3\n",
      "mouse       8\n",
      "rabbit     11\n",
      "deer       40\n",
      "bear      100\n",
      "dtype: int64\n",
      "=== 要素削除後のa_series ===\n",
      "dog        30\n",
      "cat        15\n",
      "mouse       8\n",
      "rabbit     11\n",
      "deer       40\n",
      "bear      100\n",
      "dtype: int64\n"
     ]
    }
   ],
   "source": [
    "import pandas as pd\n",
    "\n",
    "index = [\"dog\", \"cat\", \"bird\", \"mouse\", \"rabbit\"]\n",
    "data = [30, 15, 3, 8, 11]\n",
    "a_series = pd.Series(data, index=index)\n",
    "\n",
    "# a_seriesに、インデックスが「\"deer\", \"bear\"」、値が「40, 100」の要素を追加\n",
    "\n",
    "a_series = a_series.append(pd.Series({\"deer\": 40, \"bear\":100}))\n",
    "\n",
    "# 要素追加後のa_seriesを出力\n",
    "print(\"=== 要素追加後のa_series ===\")\n",
    "print(a_series)\n",
    "\n",
    "# a_seriesからインデックス\"bird\"の要素を削除\n",
    "a_series = a_series.drop(\"bird\")\n",
    "\n",
    "# 要素削除後のa_seriesを出力\n",
    "print(\"=== 要素削除後のa_series ===\")\n",
    "print(a_series)"
   ]
  },
  {
   "cell_type": "markdown",
   "metadata": {},
   "source": [
    "### 8-6\n",
    "* a_series内の要素のうち、以下の条件を満たす要素をそれぞれ出力しなさい\n",
    "    * 値が15以下\n",
    "    * 値が10の倍数\n",
    "    * 値が10以上30未満\n",
    "        * ヒント\n",
    "            * 条件を複数個つけたい場合 **`series[条件1][条件2]`** 、または **`series[(条件1) & (条件2)]`** とする\n",
    "    * インデックスが\"mouse\"\n",
    "    \n",
    "（参考：8.2.6 フィルタリング）"
   ]
  },
  {
   "cell_type": "code",
   "execution_count": 23,
   "metadata": {
    "id": "answer",
    "scrolled": false
   },
   "outputs": [
    {
     "name": "stdout",
     "output_type": "stream",
     "text": [
      "=== 値が15以下 ===\n",
      "cat       15\n",
      "bird       3\n",
      "mouse      8\n",
      "rabbit    11\n",
      "dtype: int64\n",
      "=== 値が10の倍数 ===\n",
      "dog      30\n",
      "deer     40\n",
      "bear    100\n",
      "dtype: int64\n",
      "=== 値が10以上30未満 ===\n",
      "cat       15\n",
      "rabbit    11\n",
      "dtype: int64\n",
      "=== インデックスが\"mouse\" ===\n",
      "8\n"
     ]
    }
   ],
   "source": [
    "import pandas as pd\n",
    "\n",
    "index = [\"dog\", \"cat\", \"bird\", \"mouse\", \"rabbit\", \"deer\", \"bear\"]\n",
    "data = [30, 15, 3, 8, 11, 40, 100]\n",
    "a_series = pd.Series(data, index=index)\n",
    "\n",
    "# 値が15以下の要素を含むSeriesを取得\n",
    "series1 = a_series[a_series<16]\n",
    "print(\"=== 値が15以下 ===\")\n",
    "print(series1)\n",
    "\n",
    "# 値が10の倍数の要素を含むSeriesを取得\n",
    "series2 = a_series[a_series%10==0]\n",
    "print(\"=== 値が10の倍数 ===\")\n",
    "print(series2)\n",
    "\n",
    "# 値が10以上30未満の要素を含むSeriesを取得\n",
    "series3 = a_series[a_series>9][a_series<30]\n",
    "print(\"=== 値が10以上30未満 ===\")\n",
    "print(series3)\n",
    "\n",
    "# インデックスが\"mouse\"の要素を含むSeriesを取得\n",
    "series4 = a_series[\"mouse\"]\n",
    "print(\"=== インデックスが\\\"mouse\\\" ===\")\n",
    "print(series4)"
   ]
  },
  {
   "cell_type": "markdown",
   "metadata": {},
   "source": [
    "### 8-7\n",
    "* a_seriesをインデックスについてアルファベット順にソートしたSeriesを**items1** に代入してください\n",
    "* a_seriesをデータについて値の大きさを**降順**にソートしたSeriesを**items2** に代入してください"
   ]
  },
  {
   "cell_type": "code",
   "execution_count": 25,
   "metadata": {
    "id": "answer",
    "scrolled": true
   },
   "outputs": [
    {
     "name": "stdout",
     "output_type": "stream",
     "text": [
      "=== インデックスについてアルファベット順にソート ===\n",
      "bird       3\n",
      "cat       15\n",
      "dog       30\n",
      "mouse      8\n",
      "rabbit    11\n",
      "dtype: int64\n",
      "=== データについて値の大きさを降順にソート ===\n",
      "dog       30\n",
      "cat       15\n",
      "rabbit    11\n",
      "mouse      8\n",
      "bird       3\n",
      "dtype: int64\n"
     ]
    }
   ],
   "source": [
    "import pandas as pd\n",
    "\n",
    "index = [\"dog\", \"cat\", \"bird\", \"mouse\", \"rabbit\"]\n",
    "data = [30, 15, 3, 8, 11]\n",
    "a_series = pd.Series(data, index=index)\n",
    "\n",
    "# a_seriesをインデックスについてアルファベット順にソートしたSeriesをitems1に代入\n",
    "items1 = a_series.sort_index()\n",
    "\n",
    "# a_seriesをデータについて値の大きさを降順にソートしたSeriesをitems2に代入\n",
    "items2 = a_series.sort_values()[::-1]\n",
    "\n",
    "print(\"=== インデックスについてアルファベット順にソート ===\")\n",
    "print(items1)\n",
    "print(\"=== データについて値の大きさを降順にソート ===\")\n",
    "print(items2)"
   ]
  },
  {
   "cell_type": "markdown",
   "metadata": {},
   "source": [
    "### 8-8\n",
    "* リスト型変数index、data1、data2を生成しなさい。要素はそれぞれ以下の通りとする。\n",
    "    * index：「\"book\", \"note\", \"pen\", \"eraser\", \"pencil\"」\n",
    "    * data1：「1000, 150, 200, 100, 30」\n",
    "    * data2：「7, 13, 5, 2, 8」\n",
    "* データにdata1、インデックスにindexを指定したSeriesを作成し、series1に代入しなさい。\n",
    "* データにdata2、インデックスにindexを指定したSeriesを作成し、series2に代入しなさい。\n",
    "* series1、series2 からDataFrameを生成し、dfに代入しなさい\n",
    "\n",
    "（参考：8.3.1 DataFrameの生成）"
   ]
  },
  {
   "cell_type": "code",
   "execution_count": 29,
   "metadata": {
    "id": "answer",
    "scrolled": false
   },
   "outputs": [
    {
     "name": "stdout",
     "output_type": "stream",
     "text": [
      "   book  note  pen  eraser  pencil\n",
      "0  1000   150  200     100      30\n",
      "1     7    13    5       2       8\n"
     ]
    }
   ],
   "source": [
    "import pandas as pd\n",
    "\n",
    "# リスト型変数index, data1, data2を生成\n",
    "index = [\"book\", \"note\", \"pen\", \"eraser\", \"pencil\"]\n",
    "data1 = [1000, 150, 200, 100, 30]\n",
    "data2 = [7, 13, 5, 2, 8]\n",
    "\n",
    "\n",
    "# data1とindexからseries1を生成\n",
    "series1 = pd.Series(data1, index=index)\n",
    "# data2とindexからseries2を生成\n",
    "series2 = pd.Series(data2, index=index)\n",
    "\n",
    "# series1, series2からDataFrameを生成してdfに代入\n",
    "df = pd.DataFrame([series1,series2])\n",
    "\n",
    "print(df)"
   ]
  },
  {
   "cell_type": "markdown",
   "metadata": {},
   "source": [
    "### 8-9\n",
    "8-8で生成したdfと同じ要素を持つDataFrame型変数df2を、ディクショナリ型変数dic_dataを用いて生成しなさい。"
   ]
  },
  {
   "cell_type": "code",
   "execution_count": 33,
   "metadata": {
    "id": "answer",
    "scrolled": false
   },
   "outputs": [
    {
     "name": "stdout",
     "output_type": "stream",
     "text": [
      "   book  note  pen  eraser  pencil\n",
      "0  1000   150  200     100      30\n",
      "1     7    13    5       2       8\n"
     ]
    }
   ],
   "source": [
    "import pandas as pd\n",
    "\n",
    "# 8-8で生成したdfと同じ要素を持つディクショナリ型変数dic_dataを生成\n",
    "dic_data = {\"book\":1000, \"note\":150, \"pen\":200, \"eraser\":100, \"pencil\":30}\n",
    "\n",
    "dic_data2 = {\"book\":7, \"note\":13, \"pen\":5, \"eraser\":2, \"pencil\":8}\n",
    "\n",
    "# dic_dataからDataFrameを生成してdf2に代入\n",
    "df2 = pd.DataFrame([dic_data, dic_data2])\n",
    "\n",
    "print(df2)"
   ]
  },
  {
   "cell_type": "markdown",
   "metadata": {},
   "source": [
    "### 8-10\n",
    "* DataFrame型の変数**df**のインデックスが101から始まるように指定してください。"
   ]
  },
  {
   "cell_type": "code",
   "execution_count": 45,
   "metadata": {
    "id": "answer",
    "scrolled": true
   },
   "outputs": [
    {
     "name": "stdout",
     "output_type": "stream",
     "text": [
      "Empty DataFrame\n",
      "Columns: []\n",
      "Index: []\n",
      "     book  note  pen  eraser  pencil\n",
      "101     6     4    7       8       9\n",
      "102     1     6    9       8       5\n",
      "103     4     3    9       9       4\n",
      "104     4     5    2       2       1\n",
      "105     8     8    7       6       4\n"
     ]
    }
   ],
   "source": [
    "import numpy as np\n",
    "import pandas as pd\n",
    "\n",
    "np.random.seed(0)\n",
    "columns = [\"book\", \"note\", \"pen\", \"eraser\", \"pencil\"]\n",
    "df = pd.DataFrame()\n",
    "\n",
    "print(df)\n",
    "\n",
    "for column in columns:\n",
    "    df[column] = np.random.choice(range(1, 10), 5)\n",
    "\n",
    "# dfのインデックスが101から始まるように設定\n",
    "\n",
    "df.index = [101, 102, 103, 104, 105]\n",
    "\n",
    "# 出力\n",
    "print(df)"
   ]
  },
  {
   "cell_type": "markdown",
   "metadata": {},
   "source": [
    "### 8-11\n",
    "* 以下のインデックスと値を持つSeries型変数**add_series**を生成しなさい\n",
    "    * インデックス：下記コード中の**df**のカラム名と同じ\n",
    "    * 値：「2, 4, 9, 1, 3」\n",
    "* **df**に新しい行として**add_series** を追加しなさい\n",
    "* 以下の値を持つList型変数 **add_list** を生成しなさい\n",
    "    * 値：「8, 5, 10, 1」\n",
    "* **add_series** 追加後の **df** に新しい列 **\"cutter\"** を追加しなさい。追加する列の値は **add_list** とする\n",
    "\n",
    "（参考：8.3.3 行を追加する、8.3.4 列を追加する）"
   ]
  },
  {
   "cell_type": "code",
   "execution_count": 57,
   "metadata": {
    "id": "answer",
    "scrolled": false
   },
   "outputs": [
    {
     "name": "stdout",
     "output_type": "stream",
     "text": [
      "=== df ===\n",
      "   book  note  pen  eraser  pencil\n",
      "0     6     4    6       8       9\n",
      "1     1     8    3       7       2\n",
      "2     4     4    5       9       7\n",
      "=== 新しい行追加後 ===\n",
      "   book  note  pen  eraser  pencil\n",
      "0     6     4    6       8       9\n",
      "1     1     8    3       7       2\n",
      "2     4     4    5       9       7\n",
      "3     2     4    9       1       3\n",
      "=== cutter列追加後 ===\n",
      "   book  note  pen  eraser  pencil  cutter\n",
      "0     6     4    6       8       9       8\n",
      "1     1     8    3       7       2       5\n",
      "2     4     4    5       9       7      10\n",
      "3     2     4    9       1       3       1\n"
     ]
    }
   ],
   "source": [
    "import numpy as np\n",
    "import pandas as pd\n",
    "\n",
    "np.random.seed(0)\n",
    "columns = [\"book\", \"note\", \"pen\", \"eraser\", \"pencil\"]\n",
    "df = pd.DataFrame()\n",
    "for column in columns:\n",
    "    df[column] = np.random.choice(range(1, 10), 3)\n",
    "print(\"=== df ===\")\n",
    "print(df)\n",
    "\n",
    "# dfと同じインデックスを持つSeries型変数add_seriesを生成\n",
    "add_series = pd.Series([2, 4, 9, 1, 3], index = columns)\n",
    "\n",
    "# dfに新しい行としてadd_series追加\n",
    "df = df.append(add_series, ignore_index=True)\n",
    "\n",
    "print(\"=== 新しい行追加後 ===\")\n",
    "print(df)\n",
    "\n",
    "# List型変数add_list生成\n",
    "add_list = [8, 5, 10, 1]\n",
    "\n",
    "# dfに新しい列としてcutter追加\n",
    "\n",
    "df[\"cutter\"] = add_list\n",
    "\n",
    "\n",
    "\n",
    "print(\"=== cutter列追加後 ===\")\n",
    "print(df)"
   ]
  },
  {
   "cell_type": "markdown",
   "metadata": {},
   "source": [
    "### 8-12\n",
    "* **loc\\[ \\]** を使って以下の条件で**df** を参照し、参照結果を出力しなさい\n",
    "    * 1行目から3行目までのすべての列\n",
    "    * すべての行の\"note\"列と\"pencil\"列\n",
    "    * 2行目と4行目の\"book\"列と\"eraser\"列\n",
    "    \n",
    "（参考：8.3.6 名前による参照）"
   ]
  },
  {
   "cell_type": "code",
   "execution_count": 76,
   "metadata": {
    "id": "answer"
   },
   "outputs": [
    {
     "name": "stdout",
     "output_type": "stream",
     "text": [
      "=== df ===\n",
      "     book  note  pen  eraser  pencil\n",
      "101     6     4    7       8       9\n",
      "102     1     6    9       8       5\n",
      "103     4     3    9       9       4\n",
      "104     4     5    2       2       1\n",
      "105     8     8    7       6       4\n",
      "=== 1行目から3行目までのすべての列 ===\n",
      "     book  note  pen  eraser  pencil\n",
      "101     6     4    7       8       9\n",
      "102     1     6    9       8       5\n",
      "103     4     3    9       9       4\n",
      "=== すべての行の\"note\"列と\"pencil\"列 ===\n",
      "     note  pencil\n",
      "101     4       9\n",
      "102     6       5\n",
      "103     3       4\n",
      "104     5       1\n",
      "105     8       4\n",
      "=== 2行目と4行目の\"book\"列と\"eraser\"列 ===\n",
      "     book  eraser\n",
      "101     6       8\n",
      "102     1       8\n",
      "103     4       9\n"
     ]
    }
   ],
   "source": [
    "import numpy as np\n",
    "import pandas as pd\n",
    "\n",
    "np.random.seed(0)\n",
    "columns = [\"book\", \"note\", \"pen\", \"eraser\", \"pencil\"]\n",
    "df = pd.DataFrame()\n",
    "for column in columns:\n",
    "    df[column] = np.random.choice(range(1, 10), 5)\n",
    "df.index = range(101, 106)\n",
    "print(\"=== df ===\")\n",
    "print(df)\n",
    "\n",
    "# 1行目から3行目までのすべての列\n",
    "print(\"=== 1行目から3行目までのすべての列 ===\")\n",
    "print(df.loc[[101,102,103]])\n",
    "\n",
    "# すべての行の\"note\"列と\"pencil\"列\n",
    "print(\"=== すべての行の\\\"note\\\"列と\\\"pencil\\\"列 ===\")\n",
    "print(df.loc[:,[\"note\",\"pencil\"]])\n",
    "\n",
    "# 2行目と4行目の\"book\"列と\"eraser\"列\n",
    "print(\"=== 2行目と4行目の\\\"book\\\"列と\\\"eraser\\\"列 ===\")\n",
    "print(df.loc[[101,102,103],[\"book\",\"eraser\"]])\n"
   ]
  },
  {
   "cell_type": "markdown",
   "metadata": {},
   "source": [
    "### 8-13\n",
    "* **iloc\\[ \\]** を使って以下の条件で**df** を参照し、参照結果を出力しなさい\n",
    "    * 1行目から3行目までのすべての列\n",
    "    * すべての行の\"note\"列と\"pencil\"列\n",
    "    * 2行目と4行目の\"book\"列と\"eraser\"列\n",
    "    \n",
    "（参考：8.3.7 番号による参照）"
   ]
  },
  {
   "cell_type": "code",
   "execution_count": 88,
   "metadata": {
    "id": "answer",
    "scrolled": false
   },
   "outputs": [
    {
     "name": "stdout",
     "output_type": "stream",
     "text": [
      "=== df ===\n",
      "     book  note  pen  eraser  pencil\n",
      "101     6     4    7       8       9\n",
      "102     1     6    9       8       5\n",
      "103     4     3    9       9       4\n",
      "104     4     5    2       2       1\n",
      "105     8     8    7       6       4\n",
      "=== 1行目から3行目までのすべての列 ===\n",
      "     book  note  pen  eraser  pencil\n",
      "101     6     4    7       8       9\n",
      "102     1     6    9       8       5\n",
      "103     4     3    9       9       4\n",
      "=== すべての行の\"note\"列と\"pencil\"列 ===\n",
      "     note  pencil\n",
      "101     4       9\n",
      "102     6       5\n",
      "103     3       4\n",
      "104     5       1\n",
      "105     8       4\n",
      "=== 2行目と4行目の\"book\"列と\"eraser\"列 ===\n",
      "     book  eraser\n",
      "102     1       8\n",
      "103     4       9\n",
      "104     4       2\n"
     ]
    }
   ],
   "source": [
    "import numpy as np\n",
    "import pandas as pd\n",
    "\n",
    "np.random.seed(0)\n",
    "columns = [\"book\", \"note\", \"pen\", \"eraser\", \"pencil\"]\n",
    "df = pd.DataFrame()\n",
    "for column in columns:\n",
    "    df[column] = np.random.choice(range(1, 10), 5)\n",
    "df.index = range(101, 106)\n",
    "print(\"=== df ===\")\n",
    "print(df)\n",
    "\n",
    "# 1行目から3行目までのすべての列\n",
    "print(\"=== 1行目から3行目までのすべての列 ===\")\n",
    "print(df.iloc[:3])\n",
    "\n",
    "# すべての行の\"note\"列と\"pencil\"列\n",
    "print(\"=== すべての行の\\\"note\\\"列と\\\"pencil\\\"列 ===\")\n",
    "print(df.iloc[:,[1, 4]])\n",
    "\n",
    "# 2行目と4行目の\"book\"列と\"eraser\"列\n",
    "print(\"=== 2行目と4行目の\\\"book\\\"列と\\\"eraser\\\"列 ===\")\n",
    "print(df.iloc[1:4,[0, 3]])\n"
   ]
  },
  {
   "cell_type": "markdown",
   "metadata": {},
   "source": [
    "### 8-14\n",
    "* **drop()** を用いて**df** の偶数の名前がついている行のみを残して**df** に代入してください  \n",
    "* **drop()** を用いて**df** の列 **\"note\"と\"eraser\"** を削除して**df**に代入してください  \n",
    "\n",
    "（参考：8.3.8 行または列の削除）"
   ]
  },
  {
   "cell_type": "code",
   "execution_count": 97,
   "metadata": {
    "id": "answer",
    "scrolled": false
   },
   "outputs": [
    {
     "name": "stdout",
     "output_type": "stream",
     "text": [
      "=== df ===\n",
      "     book  note  pen  eraser  pencil\n",
      "101     6     4    7       8       9\n",
      "102     1     6    9       8       5\n",
      "103     4     3    9       9       4\n",
      "104     4     5    2       2       1\n",
      "105     8     8    7       6       4\n",
      "=== 削除後 ===\n",
      "     book  pen  pencil\n",
      "102     1    9       5\n",
      "104     4    2       1\n"
     ]
    }
   ],
   "source": [
    "import numpy as np\n",
    "import pandas as pd\n",
    "\n",
    "np.random.seed(0)\n",
    "columns = [\"book\", \"note\", \"pen\", \"eraser\", \"pencil\"]\n",
    "df = pd.DataFrame()\n",
    "for column in columns:\n",
    "    df[column] = np.random.choice(range(1, 10), 5)\n",
    "df.index = range(101, 106)\n",
    "print(\"=== df ===\")\n",
    "print(df)\n",
    "\n",
    "# 偶数の名前がついている行のみを残してdf に代入\n",
    "df = df.drop(range(101,106,2))\n",
    "\n",
    "# \"note\"と\"eraser\" を削除してdfに代入\n",
    "df = df.drop([\"note\", \"eraser\"], axis =1)\n",
    "\n",
    "print(\"=== 削除後 ===\")\n",
    "print(df)"
   ]
  },
  {
   "cell_type": "markdown",
   "metadata": {},
   "source": [
    "### 8-15\n",
    "* dfを以下の条件でソートし出力しなさい。\n",
    "    * **\"note\"** の値で降順\n",
    "    * **\"book\", \"pencil\"** の優先度の順で昇順\n",
    "\n",
    "（参考：8.3.9 ソート）"
   ]
  },
  {
   "cell_type": "code",
   "execution_count": 99,
   "metadata": {
    "id": "answer",
    "scrolled": false
   },
   "outputs": [
    {
     "name": "stdout",
     "output_type": "stream",
     "text": [
      "=== df ===\n",
      "     book  note  pen  eraser  pencil\n",
      "101     6     4    7       8       9\n",
      "102     1     6    9       8       5\n",
      "103     4     3    9       9       4\n",
      "104     4     5    2       2       1\n",
      "105     8     8    7       6       4\n",
      "=== \"note\"列の値で降順にソート ===\n",
      "     book  note  pen  eraser  pencil\n",
      "103     4     3    9       9       4\n",
      "101     6     4    7       8       9\n",
      "104     4     5    2       2       1\n",
      "102     1     6    9       8       5\n",
      "105     8     8    7       6       4\n",
      "=== \"book\", \"pencil\" の優先度の順で昇順 ===\n",
      "     book  note  pen  eraser  pencil\n",
      "105     8     8    7       6       4\n",
      "101     6     4    7       8       9\n",
      "103     4     3    9       9       4\n",
      "104     4     5    2       2       1\n",
      "102     1     6    9       8       5\n"
     ]
    }
   ],
   "source": [
    "import numpy as np\n",
    "import pandas as pd\n",
    "\n",
    "np.random.seed(0)\n",
    "columns = [\"book\", \"note\", \"pen\", \"eraser\", \"pencil\"]\n",
    "df = pd.DataFrame()\n",
    "for column in columns:\n",
    "    df[column] = np.random.choice(range(1, 10), 5)\n",
    "df.index = range(101, 106)\n",
    "print(\"=== df ===\")\n",
    "print(df)\n",
    "\n",
    "# \"note\"列の値で降順にソート\n",
    "print(\"=== \\\"note\\\"列の値で降順にソート ===\")\n",
    "print(df.sort_values(by='note', ascending=True))\n",
    "\n",
    "\n",
    "# \"book\", \"pencil\" の優先度の順で昇順\n",
    "print(\"=== \\\"book\\\", \\\"pencil\\\" の優先度の順で昇順 ===\")\n",
    "print(df.sort_values(by=[\"book\", \"pencil\"], ascending=False))\n",
    "\n"
   ]
  },
  {
   "cell_type": "markdown",
   "metadata": {},
   "source": [
    "### 8-16\n",
    "* df内の要素のうち、以下の条件を満たす要素をそれぞれ出力しなさい\n",
    "    * \"pencil\"列が10以上\n",
    "    * \"eraser\"列が3の倍数\n",
    "    * \"eraser\"列が10以上かつ\"book\"列が5以下\n",
    "        * ヒント\n",
    "            * 条件を複数個つけたい場合 **`df[条件1][条件2]`** 、または **`df[(条件1) & (条件2)]`** とする\n",
    "    * インデックスが偶数\n",
    "    \n",
    "（参考：8.3.10 フィルタリング）"
   ]
  },
  {
   "cell_type": "code",
   "execution_count": 109,
   "metadata": {
    "id": "answer",
    "scrolled": false
   },
   "outputs": [
    {
     "name": "stdout",
     "output_type": "stream",
     "text": [
      "=== df ===\n",
      "     book  note  pen  eraser  pencil\n",
      "101    13     8   13      18      17\n",
      "102    16    10    2       6       6\n",
      "103     1    19    7      14      16\n",
      "104     4     5    8       9      16\n",
      "105     4     7   15      10       1\n",
      "=== \"pencil\"列が10以上 ===\n",
      "     book  note  pen  eraser  pencil\n",
      "101    13     8   13      18      17\n",
      "103     1    19    7      14      16\n",
      "104     4     5    8       9      16\n",
      "=== \"eraser\"列が3の倍数 ===\n",
      "     book  note  pen  eraser  pencil\n",
      "101    13     8   13      18      17\n",
      "102    16    10    2       6       6\n",
      "104     4     5    8       9      16\n",
      "=== \"eraser\"列が10以上かつ\"book\"列が5以下 ===\n",
      "     book  note  pen  eraser  pencil\n",
      "103     1    19    7      14      16\n",
      "105     4     7   15      10       1\n",
      "=== インデックスが偶数 ===\n",
      "     book  note  pen  eraser  pencil\n",
      "102    16    10    2       6       6\n",
      "104     4     5    8       9      16\n"
     ]
    },
    {
     "name": "stderr",
     "output_type": "stream",
     "text": [
      "<ipython-input-109-19e4e93238e6>:23: UserWarning: Boolean Series key will be reindexed to match DataFrame index.\n",
      "  print(df.loc[df[\"eraser\"] >= 10 ][df[\"book\"] <= 5])\n"
     ]
    }
   ],
   "source": [
    "import numpy as np\n",
    "import pandas as pd\n",
    "\n",
    "np.random.seed(0)\n",
    "columns = [\"book\", \"note\", \"pen\", \"eraser\", \"pencil\"]\n",
    "df = pd.DataFrame()\n",
    "for column in columns:\n",
    "    df[column] = np.random.choice(range(1, 20), 5)\n",
    "df.index = range(101, 106)\n",
    "print(\"=== df ===\")\n",
    "print(df)\n",
    "\n",
    "# \"pencil\"列が10以上\n",
    "print(\"=== \\\"pencil\\\"列が10以上 ===\")\n",
    "print(df.loc[df[\"pencil\"] >= 10])\n",
    "\n",
    "# \"eraser\"列が3の倍数\n",
    "print(\"=== \\\"eraser\\\"列が3の倍数 ===\")\n",
    "print(df.loc[df[\"eraser\"]%3 ==0])\n",
    "\n",
    "# \"eraser\"列が10以上かつ\"book\"列が5以下\n",
    "print(\"=== \\\"eraser\\\"列が10以上かつ\\\"book\\\"列が5以下 ===\")\n",
    "print(df.loc[df[\"eraser\"] >= 10 ][df[\"book\"] <= 5])\n",
    "\n",
    "# インデックスが偶数\n",
    "print(\"=== インデックスが偶数 ===\")\n",
    "print(df.loc[df.index % 2 ==0])\n"
   ]
  },
  {
   "cell_type": "code",
   "execution_count": null,
   "metadata": {},
   "outputs": [],
   "source": []
  }
 ],
 "metadata": {
  "kernelspec": {
   "display_name": "Python 3",
   "language": "python",
   "name": "python3"
  },
  "language_info": {
   "codemirror_mode": {
    "name": "ipython",
    "version": 3
   },
   "file_extension": ".py",
   "mimetype": "text/x-python",
   "name": "python",
   "nbconvert_exporter": "python",
   "pygments_lexer": "ipython3",
   "version": "3.8.3"
  },
  "varInspector": {
   "cols": {
    "lenName": 16,
    "lenType": 16,
    "lenVar": 40
   },
   "kernels_config": {
    "python": {
     "delete_cmd_postfix": "",
     "delete_cmd_prefix": "del ",
     "library": "var_list.py",
     "varRefreshCmd": "print(var_dic_list())"
    },
    "r": {
     "delete_cmd_postfix": ") ",
     "delete_cmd_prefix": "rm(",
     "library": "var_list.r",
     "varRefreshCmd": "cat(var_dic_list()) "
    }
   },
   "types_to_exclude": [
    "module",
    "function",
    "builtin_function_or_method",
    "instance",
    "_Feature"
   ],
   "window_display": false
  }
 },
 "nbformat": 4,
 "nbformat_minor": 2
}
