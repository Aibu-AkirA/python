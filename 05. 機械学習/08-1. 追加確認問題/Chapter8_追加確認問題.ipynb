{
 "cells": [
  {
   "cell_type": "markdown",
   "metadata": {
    "chapterId": "SyMl_A7ZxWf",
    "id": "chapter_name"
   },
   "source": [
    "#  Chapter8 Pandasの基礎"
   ]
  },
  {
   "cell_type": "markdown",
   "metadata": {},
   "source": [
    "### 8-1\n",
    "* リスト型変数indexとdataを生成しなさい。要素はそれぞれ以下の通りとする。  \n",
    "    * index：「\"dog\", \"cat\", \"bird\", \"mouse\", \"rabbit\"」\n",
    "    * data：「30, 15, 3, 8, 11」\n",
    "* データ(値)にdata、インデックスにindexを指定したSeriesを作成し、a_seriesに代入しなさい。  \n",
    "\n",
    "（参考：8.2.1 Seriesを生成する）\n"
   ]
  },
  {
   "cell_type": "code",
   "execution_count": null,
   "metadata": {
    "id": "answer",
    "scrolled": true
   },
   "outputs": [],
   "source": [
    "import pandas as pd\n",
    "\n",
    "# リスト型変数indexとdataを生成\n",
    "index = \n",
    "data = \n",
    "\n",
    "# indexとdataを含むSeriesを生成しa_seriesに代入\n",
    "a_series = \n",
    "\n",
    "print(a_series)"
   ]
  },
  {
   "cell_type": "markdown",
   "metadata": {},
   "source": [
    "### 8-2\n",
    "* 以下の要素を持つディクショナリ型変数dic_dataを生成しなさい。  \n",
    "    * 「\"dog\":30, \"cat\":15, \"bird\":3, \"mouse\":8, \"rabbit\":11」\n",
    "* dic_dataを用いてSeriesを作成し、a_seriesに代入しなさい。  \n",
    "\n",
    "（参考：8.2.1 Seriesを生成する）\n"
   ]
  },
  {
   "cell_type": "code",
   "execution_count": null,
   "metadata": {},
   "outputs": [],
   "source": [
    "import pandas as pd\n",
    "\n",
    "# ディクショナリ型変数dic_dataを生成\n",
    "dic_data = \n",
    "\n",
    "# dic_dataを用いてSeriesを生成し、a_seriesに代入\n",
    "a_series = \n",
    "\n",
    "print(a_series)"
   ]
  },
  {
   "cell_type": "markdown",
   "metadata": {},
   "source": [
    "### 8-3\n",
    "* インデックス参照（スライス）を用いて、seriesの1つ目から3つ目までの3つの要素を取り出して、items1に代入しなさい\n",
    "* インデックス参照（スライス）を用いて、seriesの1つ目、3つ目、5つ目の3つの要素を取り出して、items2に代入しなさい\n",
    "* インデックス値を指定する方法を用いて、seriesの\"apple\"、\"banana\"、\"kiwifruit\"のインデックスを持つ要素を取り出してitems3に代入しなさい\n",
    "\n",
    "（参考：8.2.2 参照）"
   ]
  },
  {
   "cell_type": "code",
   "execution_count": null,
   "metadata": {
    "id": "answer",
    "scrolled": true
   },
   "outputs": [],
   "source": [
    "import pandas as pd\n",
    "\n",
    "index = [\"apple\", \"orange\", \"banana\", \"strawberry\", \"kiwifruit\"]\n",
    "data = [10, 5, 8, 12, 3]\n",
    "series = pd.Series(data, index=index)\n",
    "\n",
    "# インデックス参照を用いてseriesの1つ目から3つ目までの3つの要素を取り出してitems1に代入\n",
    "items1 = \n",
    "\n",
    "# インデックス参照を用いてseriesの1つ目、3つ目、5つ目の3つの要素を取り出してitems2に代入\n",
    "items2 = \n",
    "\n",
    "# インデックス値を指定する方法を用いて\"apple\", \"banana\", \"kiwifruit\"のインデックスを持つ要素を取り出してitems3に代入\n",
    "items3 = \n",
    "\n",
    "print(items1)\n",
    "print()\n",
    "print(items2)\n",
    "print()\n",
    "print(items3)"
   ]
  },
  {
   "cell_type": "markdown",
   "metadata": {},
   "source": [
    "### 8-4\n",
    "* 変数**series_values** に**a_series** のデータ（値）を代入しなさい\n",
    "* 変数**series_index** に**a_series** のインデックスを代入しなさい\n",
    "\n",
    "（参考：8.2.3 データ、インデックスを取り出す）"
   ]
  },
  {
   "cell_type": "code",
   "execution_count": null,
   "metadata": {
    "id": "answer",
    "scrolled": true
   },
   "outputs": [],
   "source": [
    "import pandas as pd\n",
    "\n",
    "index = [\"dog\", \"cat\", \"bird\", \"mouse\", \"rabbit\"]\n",
    "data = [30, 15, 3, 8, 11]\n",
    "a_series = pd.Series(data, index=index)\n",
    "\n",
    "# series_valuesにseriesのデータを代入してください\n",
    "series_values = \n",
    "\n",
    "# series_indexにseriesのインデックスを代入してください\n",
    "series_index = \n",
    "\n",
    "print(series_values)\n",
    "print(series_index)"
   ]
  },
  {
   "cell_type": "markdown",
   "metadata": {},
   "source": [
    "### 8-5\n",
    "* a_seriesに以下のインデックスと値の要素を追加しなさい  \n",
    "    * インデックス：\"deer\", \"bear\"\n",
    "    * 値：40, 100\n",
    "* 要素追加後のa_seriesから、インデックス\"bird\"の要素を削除しなさい\n",
    "\n",
    "（参考：8.2.4 要素を追加する、8.2.5 要素を削除する）\n"
   ]
  },
  {
   "cell_type": "code",
   "execution_count": null,
   "metadata": {
    "id": "answer",
    "scrolled": true
   },
   "outputs": [],
   "source": [
    "import pandas as pd\n",
    "\n",
    "index = [\"dog\", \"cat\", \"bird\", \"mouse\", \"rabbit\"]\n",
    "data = [30, 15, 3, 8, 11]\n",
    "a_series = pd.Series(data, index=index)\n",
    "\n",
    "# a_seriesに、インデックスが「\"deer\", \"bear\"」、値が「40, 100」の要素を追加\n",
    "\n",
    "a_series = \n",
    "\n",
    "# 要素追加後のa_seriesを出力\n",
    "print(\"=== 要素追加後のa_series ===\")\n",
    "print(a_series)\n",
    "\n",
    "# a_seriesからインデックス\"bird\"の要素を削除\n",
    "a_series = \n",
    "\n",
    "# 要素削除後のa_seriesを出力\n",
    "print(\"=== 要素削除後のa_series ===\")\n",
    "print(a_series)"
   ]
  },
  {
   "cell_type": "markdown",
   "metadata": {},
   "source": [
    "### 8-6\n",
    "* a_series内の要素のうち、以下の条件を満たす要素をそれぞれ出力しなさい\n",
    "    * 値が15以下\n",
    "    * 値が10の倍数\n",
    "    * 値が10以上30未満\n",
    "        * ヒント\n",
    "            * 条件を複数個つけたい場合 **`series[条件1][条件2]`** 、または **`series[(条件1) & (条件2)]`** とする\n",
    "    * インデックスが\"mouse\"\n",
    "    \n",
    "（参考：8.2.6 フィルタリング）"
   ]
  },
  {
   "cell_type": "code",
   "execution_count": null,
   "metadata": {
    "id": "answer",
    "scrolled": true
   },
   "outputs": [],
   "source": [
    "import pandas as pd\n",
    "\n",
    "index = [\"dog\", \"cat\", \"bird\", \"mouse\", \"rabbit\", \"deer\", \"bear\"]\n",
    "data = [30, 15, 3, 8, 11, 40, 100]\n",
    "a_series = pd.Series(data, index=index)\n",
    "\n",
    "# 値が15以下の要素を含むSeriesを取得\n",
    "series1 = \n",
    "print(\"=== 値が15以下 ===\")\n",
    "print(series1)\n",
    "\n",
    "# 値が10の倍数の要素を含むSeriesを取得\n",
    "series2 = \n",
    "print(\"=== 値が10の倍数 ===\")\n",
    "print(series2)\n",
    "\n",
    "# 値が10以上30未満の要素を含むSeriesを取得\n",
    "series3 = \n",
    "print(\"=== 値が10以上30未満 ===\")\n",
    "print(series3)\n",
    "\n",
    "# インデックスが\"mouse\"の要素を含むSeriesを取得\n",
    "series4 = \n",
    "print(\"=== インデックスが\\\"mouse\\\" ===\")\n",
    "print(series4)"
   ]
  },
  {
   "cell_type": "markdown",
   "metadata": {},
   "source": [
    "### 8-7\n",
    "* a_seriesをインデックスについてアルファベット順にソートしたSeriesを**items1** に代入してください\n",
    "* a_seriesをデータについて値の大きさを**降順**にソートしたSeriesを**items2** に代入してください"
   ]
  },
  {
   "cell_type": "code",
   "execution_count": null,
   "metadata": {
    "id": "answer",
    "scrolled": true
   },
   "outputs": [],
   "source": [
    "import pandas as pd\n",
    "\n",
    "index = [\"dog\", \"cat\", \"bird\", \"mouse\", \"rabbit\"]\n",
    "data = [30, 15, 3, 8, 11]\n",
    "a_series = pd.Series(data, index=index)\n",
    "\n",
    "# a_seriesをインデックスについてアルファベット順にソートしたSeriesをitems1に代入\n",
    "items1 = \n",
    "\n",
    "# a_seriesをデータについて値の大きさを降順にソートしたSeriesをitems2に代入\n",
    "items2 = \n",
    "\n",
    "print(\"=== インデックスについてアルファベット順にソート ===\")\n",
    "print(items1)\n",
    "print(\"=== データについて値の大きさを降順にソート ===\")\n",
    "print(items2)"
   ]
  },
  {
   "cell_type": "markdown",
   "metadata": {},
   "source": [
    "### 8-8\n",
    "* リスト型変数index、data1、data2を生成しなさい。要素はそれぞれ以下の通りとする。\n",
    "    * index：「\"book\", \"note\", \"pen\", \"eraser\", \"pencil\"」\n",
    "    * data1：「1000, 150, 200, 100, 30」\n",
    "    * data2：「7, 13, 5, 2, 8」\n",
    "* データにdata1、インデックスにindexを指定したSeriesを作成し、series1に代入しなさい。\n",
    "* データにdata2、インデックスにindexを指定したSeriesを作成し、series2に代入しなさい。\n",
    "* series1、series2 からDataFrameを生成し、dfに代入しなさい\n",
    "\n",
    "（参考：8.3.1 DataFrameの生成）"
   ]
  },
  {
   "cell_type": "code",
   "execution_count": null,
   "metadata": {
    "id": "answer",
    "scrolled": false
   },
   "outputs": [],
   "source": [
    "import pandas as pd\n",
    "\n",
    "# リスト型変数index, data1, data2を生成\n",
    "index = \n",
    "data1 = \n",
    "data2 = \n",
    "\n",
    "# data1とindexからseries1を生成\n",
    "series1 = \n",
    "# data2とindexからseries2を生成\n",
    "series2 = \n",
    "\n",
    "# series1, series2からDataFrameを生成してdfに代入\n",
    "df = \n",
    "\n",
    "print(df)"
   ]
  },
  {
   "cell_type": "markdown",
   "metadata": {},
   "source": [
    "### 8-9\n",
    "8-8で生成したdfと同じ要素を持つDataFrame型変数df2を、ディクショナリ型変数dic_dataを用いて生成しなさい。"
   ]
  },
  {
   "cell_type": "code",
   "execution_count": null,
   "metadata": {
    "id": "answer",
    "scrolled": false
   },
   "outputs": [],
   "source": [
    "import pandas as pd\n",
    "\n",
    "# 8-8で生成したdfと同じ要素を持つディクショナリ型変数dic_dataを生成\n",
    "dic_data = \n",
    "\n",
    "\n",
    "\n",
    "\n",
    "\n",
    "# dic_dataからDataFrameを生成してdf2に代入\n",
    "df2 = \n",
    "\n",
    "print(df2)"
   ]
  },
  {
   "cell_type": "markdown",
   "metadata": {},
   "source": [
    "### 8-10\n",
    "* DataFrame型の変数**df**のインデックスが101から始まるように指定してください。"
   ]
  },
  {
   "cell_type": "code",
   "execution_count": null,
   "metadata": {
    "id": "answer",
    "scrolled": true
   },
   "outputs": [],
   "source": [
    "import numpy as np\n",
    "import pandas as pd\n",
    "\n",
    "np.random.seed(0)\n",
    "columns = [\"book\", \"note\", \"pen\", \"eraser\", \"pencil\"]\n",
    "df = pd.DataFrame()\n",
    "for column in columns:\n",
    "    df[column] = np.random.choice(range(1, 10), 5)\n",
    "\n",
    "# dfのインデックスが101から始まるように設定\n",
    "\n",
    "\n",
    "\n",
    "# 出力\n",
    "print(df)"
   ]
  },
  {
   "cell_type": "markdown",
   "metadata": {},
   "source": [
    "### 8-11\n",
    "* 以下のインデックスと値を持つSeries型変数**add_series**を生成しなさい\n",
    "    * インデックス：下記コード中の**df**のカラム名と同じ\n",
    "    * 値：「2, 4, 9, 1, 3」\n",
    "* **df**に新しい行として**add_series** を追加しなさい\n",
    "* 以下の値を持つList型変数 **add_list** を生成しなさい\n",
    "    * 値：「8, 5, 10, 1」\n",
    "* **add_series** 追加後の **df** に新しい列 **\"cutter\"** を追加しなさい。追加する列の値は **add_list** とする\n",
    "\n",
    "（参考：8.3.3 行を追加する、8.3.4 列を追加する）"
   ]
  },
  {
   "cell_type": "code",
   "execution_count": null,
   "metadata": {
    "id": "answer",
    "scrolled": true
   },
   "outputs": [],
   "source": [
    "import numpy as np\n",
    "import pandas as pd\n",
    "\n",
    "np.random.seed(0)\n",
    "columns = [\"book\", \"note\", \"pen\", \"eraser\", \"pencil\"]\n",
    "df = pd.DataFrame()\n",
    "for column in columns:\n",
    "    df[column] = np.random.choice(range(1, 10), 3)\n",
    "print(\"=== df ===\")\n",
    "print(df)\n",
    "\n",
    "# dfと同じインデックスを持つSeries型変数add_seriesを生成\n",
    "add_series = \n",
    "\n",
    "# dfに新しい行としてadd_series追加\n",
    "df = \n",
    "\n",
    "print(\"=== 新しい行追加後 ===\")\n",
    "print(df)\n",
    "\n",
    "# List型変数add_list生成\n",
    "add_list = \n",
    "\n",
    "# dfに新しい列としてcutter追加\n",
    "\n",
    "\n",
    "\n",
    "\n",
    "print(\"=== cutter列追加後 ===\")\n",
    "print(df)"
   ]
  },
  {
   "cell_type": "markdown",
   "metadata": {},
   "source": [
    "### 8-12\n",
    "* **loc\\[ \\]** を使って以下の条件で**df** を参照し、参照結果を出力しなさい\n",
    "    * 1行目から3行目までのすべての列\n",
    "    * すべての行の\"note\"列と\"pencil\"列\n",
    "    * 2行目と4行目の\"book\"列と\"eraser\"列\n",
    "    \n",
    "（参考：8.3.6 名前による参照）"
   ]
  },
  {
   "cell_type": "code",
   "execution_count": null,
   "metadata": {
    "id": "answer",
    "scrolled": true
   },
   "outputs": [],
   "source": [
    "import numpy as np\n",
    "import pandas as pd\n",
    "\n",
    "np.random.seed(0)\n",
    "columns = [\"book\", \"note\", \"pen\", \"eraser\", \"pencil\"]\n",
    "df = pd.DataFrame()\n",
    "for column in columns:\n",
    "    df[column] = np.random.choice(range(1, 10), 5)\n",
    "df.index = range(101, 106)\n",
    "print(\"=== df ===\")\n",
    "print(df)\n",
    "\n",
    "# 1行目から3行目までのすべての列\n",
    "print(\"=== 1行目から3行目までのすべての列 ===\")\n",
    "print(     )\n",
    "\n",
    "# すべての行の\"note\"列と\"pencil\"列\n",
    "print(\"=== すべての行の\\\"note\\\"列と\\\"pencil\\\"列 ===\")\n",
    "print(     )\n",
    "\n",
    "# 2行目と4行目の\"book\"列と\"eraser\"列\n",
    "print(\"=== 2行目と4行目の\\\"book\\\"列と\\\"eraser\\\"列 ===\")\n",
    "print(     )\n"
   ]
  },
  {
   "cell_type": "markdown",
   "metadata": {},
   "source": [
    "### 8-13\n",
    "* **iloc\\[ \\]** を使って以下の条件で**df** を参照し、参照結果を出力しなさい\n",
    "    * 1行目から3行目までのすべての列\n",
    "    * すべての行の\"note\"列と\"pencil\"列\n",
    "    * 2行目と4行目の\"book\"列と\"eraser\"列\n",
    "    \n",
    "（参考：8.3.7 番号による参照）"
   ]
  },
  {
   "cell_type": "code",
   "execution_count": null,
   "metadata": {
    "id": "answer",
    "scrolled": true
   },
   "outputs": [],
   "source": [
    "import numpy as np\n",
    "import pandas as pd\n",
    "\n",
    "np.random.seed(0)\n",
    "columns = [\"book\", \"note\", \"pen\", \"eraser\", \"pencil\"]\n",
    "df = pd.DataFrame()\n",
    "for column in columns:\n",
    "    df[column] = np.random.choice(range(1, 10), 5)\n",
    "df.index = range(101, 106)\n",
    "print(\"=== df ===\")\n",
    "print(df)\n",
    "\n",
    "# 1行目から3行目までのすべての列\n",
    "print(\"=== 1行目から3行目までのすべての列 ===\")\n",
    "print(     )\n",
    "\n",
    "# すべての行の\"note\"列と\"pencil\"列\n",
    "print(\"=== すべての行の\\\"note\\\"列と\\\"pencil\\\"列 ===\")\n",
    "print(     )\n",
    "\n",
    "# 2行目と4行目の\"book\"列と\"eraser\"列\n",
    "print(\"=== 2行目と4行目の\\\"book\\\"列と\\\"eraser\\\"列 ===\")\n",
    "print(     )\n"
   ]
  },
  {
   "cell_type": "markdown",
   "metadata": {},
   "source": [
    "### 8-14\n",
    "* **drop()** を用いて**df** の偶数の名前がついている行のみを残して**df** に代入してください  \n",
    "* **drop()** を用いて**df** の列 **\"note\"と\"eraser\"** を削除して**df**に代入してください  \n",
    "\n",
    "（参考：8.3.8 行または列の削除）"
   ]
  },
  {
   "cell_type": "code",
   "execution_count": null,
   "metadata": {
    "id": "answer",
    "scrolled": false
   },
   "outputs": [],
   "source": [
    "import numpy as np\n",
    "import pandas as pd\n",
    "\n",
    "np.random.seed(0)\n",
    "columns = [\"book\", \"note\", \"pen\", \"eraser\", \"pencil\"]\n",
    "df = pd.DataFrame()\n",
    "for column in columns:\n",
    "    df[column] = np.random.choice(range(1, 10), 5)\n",
    "df.index = range(101, 106)\n",
    "print(\"=== df ===\")\n",
    "print(df)\n",
    "\n",
    "# 偶数の名前がついている行のみを残してdf に代入\n",
    "df = \n",
    "\n",
    "# \"note\"と\"eraser\" を削除してdfに代入\n",
    "df = \n",
    "\n",
    "print(\"=== 削除後 ===\")\n",
    "print(df)"
   ]
  },
  {
   "cell_type": "markdown",
   "metadata": {},
   "source": [
    "### 8-15\n",
    "* dfを以下の条件でソートし出力しなさい。\n",
    "    * **\"note\"** の値で降順\n",
    "    * **\"book\", \"pencil\"** の優先度の順で昇順\n",
    "\n",
    "（参考：8.3.9 ソート）"
   ]
  },
  {
   "cell_type": "code",
   "execution_count": null,
   "metadata": {
    "id": "answer",
    "scrolled": false
   },
   "outputs": [],
   "source": [
    "import numpy as np\n",
    "import pandas as pd\n",
    "\n",
    "np.random.seed(0)\n",
    "columns = [\"book\", \"note\", \"pen\", \"eraser\", \"pencil\"]\n",
    "df = pd.DataFrame()\n",
    "for column in columns:\n",
    "    df[column] = np.random.choice(range(1, 10), 5)\n",
    "df.index = range(101, 106)\n",
    "print(\"=== df ===\")\n",
    "print(df)\n",
    "\n",
    "# \"note\"列の値で降順にソート\n",
    "print(\"=== \\\"note\\\"列の値で降順にソート ===\")\n",
    "print(     )\n",
    "\n",
    "\n",
    "# \"book\", \"pencil\" の優先度の順で昇順\n",
    "print(\"=== \\\"book\\\", \\\"pencil\\\" の優先度の順で昇順 ===\")\n",
    "print(     )\n",
    "\n"
   ]
  },
  {
   "cell_type": "markdown",
   "metadata": {},
   "source": [
    "### 8-16\n",
    "* df内の要素のうち、以下の条件を満たす要素をそれぞれ出力しなさい\n",
    "    * \"pencil\"列が10以上\n",
    "    * \"eraser\"列が3の倍数\n",
    "    * \"eraser\"列が10以上かつ\"book\"列が5以下\n",
    "        * ヒント\n",
    "            * 条件を複数個つけたい場合 **`df[条件1][条件2]`** 、または **`df[(条件1) & (条件2)]`** とする\n",
    "    * インデックスが偶数\n",
    "    \n",
    "（参考：8.3.10 フィルタリング）"
   ]
  },
  {
   "cell_type": "code",
   "execution_count": null,
   "metadata": {
    "id": "answer",
    "scrolled": true
   },
   "outputs": [],
   "source": [
    "import numpy as np\n",
    "import pandas as pd\n",
    "\n",
    "np.random.seed(0)\n",
    "columns = [\"book\", \"note\", \"pen\", \"eraser\", \"pencil\"]\n",
    "df = pd.DataFrame()\n",
    "for column in columns:\n",
    "    df[column] = np.random.choice(range(1, 20), 5)\n",
    "df.index = range(101, 106)\n",
    "print(\"=== df ===\")\n",
    "print(df)\n",
    "\n",
    "# \"pencil\"列が10以上\n",
    "print(\"=== \\\"pencil\\\"列が10以上 ===\")\n",
    "print(      )\n",
    "\n",
    "# \"eraser\"列が3の倍数\n",
    "print(\"=== \\\"eraser\\\"列が3の倍数 ===\")\n",
    "print(      )\n",
    "\n",
    "# \"eraser\"列が10以上かつ\"book\"列が5以下\n",
    "print(\"=== \\\"eraser\\\"列が10以上かつ\\\"book\\\"列が5以下 ===\")\n",
    "print(      )\n",
    "\n",
    "# インデックスが偶数\n",
    "print(\"=== インデックスが偶数 ===\")\n",
    "print(      )\n"
   ]
  }
 ],
 "metadata": {
  "kernelspec": {
   "display_name": "Python 3",
   "language": "python",
   "name": "python3"
  },
  "language_info": {
   "codemirror_mode": {
    "name": "ipython",
    "version": 3
   },
   "file_extension": ".py",
   "mimetype": "text/x-python",
   "name": "python",
   "nbconvert_exporter": "python",
   "pygments_lexer": "ipython3",
   "version": "3.7.4"
  },
  "varInspector": {
   "cols": {
    "lenName": 16,
    "lenType": 16,
    "lenVar": 40
   },
   "kernels_config": {
    "python": {
     "delete_cmd_postfix": "",
     "delete_cmd_prefix": "del ",
     "library": "var_list.py",
     "varRefreshCmd": "print(var_dic_list())"
    },
    "r": {
     "delete_cmd_postfix": ") ",
     "delete_cmd_prefix": "rm(",
     "library": "var_list.r",
     "varRefreshCmd": "cat(var_dic_list()) "
    }
   },
   "types_to_exclude": [
    "module",
    "function",
    "builtin_function_or_method",
    "instance",
    "_Feature"
   ],
   "window_display": false
  }
 },
 "nbformat": 4,
 "nbformat_minor": 2
}
