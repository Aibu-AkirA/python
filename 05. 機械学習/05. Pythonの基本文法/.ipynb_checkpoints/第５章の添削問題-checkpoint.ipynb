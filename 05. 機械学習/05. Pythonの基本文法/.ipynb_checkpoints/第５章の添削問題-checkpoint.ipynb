{
 "cells": [
  {
   "cell_type": "code",
   "execution_count": 9,
   "metadata": {},
   "outputs": [
    {
     "name": "stdout",
     "output_type": "stream",
     "text": [
      "eracerは1個100円で、2個購入します\n",
      "penは1個200円で、3個購入します\n",
      "notebookは1個400円で、5個購入します\n",
      "支払金額は2800円です\n",
      "お釣りは200円です\n"
     ]
    }
   ],
   "source": [
    "items = {\"eracer\" : [100, 2], \"pen\" : [200, 3], \"notebook\" : [400, 5]}\n",
    "total_price = 0\n",
    "\n",
    "# 変数 items を for文でループさせてください\n",
    "for i in items:\n",
    "    \n",
    "    #「＊＊は1個＊＊円で、＊＊個購入します」と出力してください\n",
    "    print(i, \"は1個\", items[i][0], \"円で、\", items[i][1], \"個購入します\", sep=\"\")\n",
    "    \n",
    "    #変数total_priceに値段✕個数を足して代入してください\n",
    "    total_price += items[i][0]*items[i][1]\n",
    "\n",
    "#「支払金額は＊＊円です」と出力してください\n",
    "print(\"支払金額は\", total_price,\"円です\", sep=\"\")\n",
    "\n",
    "# 変数moneyに好きな値を代入してください\n",
    "money = 3000\n",
    "# money > total_price の時「お釣りは＊＊円です」出力してください\n",
    "if money>total_price:\n",
    "    print(\"お釣りは\",money - total_price,\"円です\",sep=\"\")\n",
    "\n",
    "# money == total_price の時「お釣りはありません」出力してください\n",
    "elif money == total_price:\n",
    "    print(\"お釣りはありません\")\n",
    "\n",
    "# money < total_price の時「お金が足りません」出力してください\n",
    "else :\n",
    "    print(\"お金が足りません\")\n"
   ]
  },
  {
   "cell_type": "code",
   "execution_count": null,
   "metadata": {},
   "outputs": [],
   "source": []
  }
 ],
 "metadata": {
  "kernelspec": {
   "display_name": "Python 3",
   "language": "python",
   "name": "python3"
  },
  "language_info": {
   "codemirror_mode": {
    "name": "ipython",
    "version": 3
   },
   "file_extension": ".py",
   "mimetype": "text/x-python",
   "name": "python",
   "nbconvert_exporter": "python",
   "pygments_lexer": "ipython3",
   "version": "3.8.3"
  }
 },
 "nbformat": 4,
 "nbformat_minor": 4
}
