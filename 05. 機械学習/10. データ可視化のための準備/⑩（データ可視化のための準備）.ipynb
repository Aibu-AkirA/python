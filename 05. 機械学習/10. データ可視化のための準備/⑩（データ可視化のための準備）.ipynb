{
 "cells": [
  {
   "cell_type": "markdown",
   "metadata": {},
   "source": [
    "# 力試しタイム"
   ]
  },
  {
   "cell_type": "markdown",
   "metadata": {},
   "source": [
    "P.293の総合添削問題をやってみてはいかが？"
   ]
  },
  {
   "cell_type": "markdown",
   "metadata": {
    "chapterId": "SyUAPlA7M",
    "id": "chapter_name"
   },
   "source": [
    "# Chapter10　データ可視化のための準備"
   ]
  },
  {
   "cell_type": "markdown",
   "metadata": {
    "id": "section_name",
    "sectionId": "BJgIRweRmG"
   },
   "source": [
    "# 10.1 様々なグラフ（P.298）"
   ]
  },
  {
   "cell_type": "markdown",
   "metadata": {
    "courseId": 4040,
    "exerciseId": "rybIAweCXf",
    "id": "quiz_session_name",
    "important": false,
    "isDL": false,
    "timeoutSecs": 10
   },
   "source": [
    "### 10.1.1 折れ線グラフ"
   ]
  },
  {
   "cell_type": "markdown",
   "metadata": {},
   "source": [
    "* 平面上にデータをプロットし、プロットされたデータ間を直線で結んだグラフ\n",
    "* 時間や位置（距離）によって推移する量を視覚化するのに適している\n",
    "\n",
    "<img src=\".\\fig_10_01.png\" width=\"400\" alt=\"折れ線グラフ\">"
   ]
  },
  {
   "cell_type": "markdown",
   "metadata": {
    "courseId": 4040,
    "exerciseId": "S1fLRDe0QM",
    "id": "quiz_session_name",
    "important": false,
    "isDL": false,
    "timeoutSecs": 10
   },
   "source": [
    "### 10.1.2 棒グラフ\n",
    "* 項目を横軸に並べ、その項目が取る値を図形の長さで縦に表したグラフ\n",
    "* 2つ以上の項目が持つ値を比較する際に適している視覚化の方法\n",
    "* あるデータの視覚化に棒グラフが適しているとき、円グラフによる視覚化も有効な場合がある\n",
    "\n",
    "<img src=\".\\fig_10_02.png\" width=\"400\" alt=\"棒グラフ\">"
   ]
  },
  {
   "cell_type": "markdown",
   "metadata": {
    "courseId": 4040,
    "exerciseId": "H1QLCveAmf",
    "id": "quiz_session_name",
    "important": false,
    "isDL": false,
    "timeoutSecs": 10
   },
   "source": [
    "### 10.1.3 ヒストグラム"
   ]
  },
  {
   "cell_type": "markdown",
   "metadata": {},
   "source": [
    "* データを階級ごとに分けてから階級内の度数（同じ階級に含まれるデータの個数）を高さで表したグラフ\n",
    "* 度数分布図ともいう\n",
    "* 1次元のデータ（ある製品の長さを何回も測定したデータなど）の分布を可視化する際に最も適している\n",
    "\n",
    "<img src=\".\\fig_10_03.png\" width=\"400\" alt=\"ヒストグラム\">"
   ]
  },
  {
   "cell_type": "markdown",
   "metadata": {
    "courseId": 4040,
    "exerciseId": "Hk4UAwxRmM",
    "id": "quiz_session_name",
    "important": false,
    "isDL": false,
    "timeoutSecs": 10
   },
   "source": [
    "### 10.1.4 散布図"
   ]
  },
  {
   "cell_type": "markdown",
   "metadata": {},
   "source": [
    "* あるデータの2つの項目を平面上のx軸とy軸にそれぞれ対応させ、点を打ったグラフ\n",
    "* 点の色や大きさを活用することで**合計3つの項目を平面上に可視化** することもできる\n",
    "\n",
    "<img src=\".\\fig_10_04.png\" width=\"400\" alt=\"散布図\">"
   ]
  },
  {
   "cell_type": "markdown",
   "metadata": {
    "courseId": 4040,
    "exerciseId": "rkBLRDeC7f",
    "id": "quiz_session_name",
    "important": false,
    "isDL": false,
    "timeoutSecs": 10
   },
   "source": [
    "### 10.1.5 円グラフ"
   ]
  },
  {
   "cell_type": "markdown",
   "metadata": {},
   "source": [
    "* 円形の図形に、全体に占める割合に応じて中心からの角度を割り当てるグラフ\n",
    "* ある項目の割合を全体と比較したい時に最も適している\n",
    "* あるデータの可視化に円グラフが適しているとき、棒グラフによる可視化も有効な場合がある\n",
    "\n",
    "\n",
    "<img src=\".\\fig_10_05.png\" width=\"400\" alt=\"円グラフ\">"
   ]
  },
  {
   "cell_type": "markdown",
   "metadata": {
    "id": "section_name",
    "sectionId": "HJIL0Dl07G"
   },
   "source": [
    "## 10.2 乱数の生成"
   ]
  },
  {
   "cell_type": "markdown",
   "metadata": {
    "courseId": 4040,
    "exerciseId": "SyvLRwx0mz",
    "id": "code_session_name",
    "important": false,
    "isDL": false,
    "timeoutSecs": 10
   },
   "source": [
    "### 10.2.1 シードを設定する\n",
    "* コンピュータはシード（seed）を元に乱数を生成する\n",
    "* **シード** \n",
    "    * 乱数生成の元となる初期値\n",
    "* シードを固定することで、常に同じ乱数列を生成することができる\n",
    "    * 同じ乱数列を使用することで、同じ条件であれば乱数を使っても同様の計算結果を再現できる\n",
    "* シードを設定しない場合、コンピュータの現在時刻を初期値として使用する\n",
    "    * 実行ごとに異なる乱数が出力される\n",
    "* シードの設定方法\n",
    "    * **`numpy.ramdom.seed()`** にシード（整数）を与える"
   ]
  },
  {
   "cell_type": "markdown",
   "metadata": {},
   "source": [
    "**リスト10.1：問題**"
   ]
  },
  {
   "cell_type": "code",
   "execution_count": 1,
   "metadata": {
    "id": "answer",
    "scrolled": false
   },
   "outputs": [
    {
     "name": "stdout",
     "output_type": "stream",
     "text": [
      "シードを設定しない場合\n",
      "X: [-0.3440375  -0.01130835 -1.24647322  0.81248046  2.35897359]\n",
      "Y: [-0.26539681  0.57888247 -0.18885387 -0.02369235  0.01642524]\n",
      "シードを設定した場合\n",
      "x: [1.76405235 0.40015721 0.97873798 2.2408932  1.86755799]\n",
      "y: [1.76405235 0.40015721 0.97873798 2.2408932  1.86755799]\n"
     ]
    }
   ],
   "source": [
    "import numpy as np\n",
    "\n",
    "# シードを設定しない場合\n",
    "# X,Yにそれぞれ5つの乱数を格納\n",
    "X = np.random.randn(5)\n",
    "Y = np.random.randn(5)\n",
    "# X,Yの値を出力\n",
    "print(\"シードを設定しない場合\")\n",
    "print(\"X:\",X)\n",
    "print(\"Y:\",Y)\n",
    "\n",
    "# シードを設定した場合\n",
    "np.random.seed(0)\n",
    "# xに乱数を格納\n",
    "x = np.random.randn(5)\n",
    "# 同じシードを与えて初期化\n",
    "np.random.seed(0)\n",
    "# 再び乱数を作りyに代入\n",
    "y = np.random.randn(5)\n",
    "# x,yの値を出力\n",
    "print(\"シードを設定した場合\")\n",
    "print(\"x:\",x)\n",
    "print(\"y:\",y)"
   ]
  },
  {
   "cell_type": "markdown",
   "metadata": {
    "courseId": 4040,
    "exerciseId": "r1OL0DeR7M",
    "id": "code_session_name",
    "important": false,
    "isDL": false,
    "timeoutSecs": 10
   },
   "source": [
    "### 10.2.2 正規分布に従う乱数を生成する\n",
    "* （標準）正規分布に従う乱数を発生させる関数\n",
    "    * **`numpy.random.randn()`**\n",
    "* **`numpy.random.normal()`** との違い\n",
    "    * **`numpy.random.normal()`** は分布の平均と標準偏差を指定できる\n",
    "    * **`numpy.random.randn()`** は平均0、標準偏差1の正規分布（標準正規分布）"
   ]
  },
  {
   "cell_type": "markdown",
   "metadata": {},
   "source": [
    "#### 正規分布に従う乱数を発生させる例"
   ]
  },
  {
   "cell_type": "code",
   "execution_count": 1,
   "metadata": {
    "id": "index"
   },
   "outputs": [
    {
     "name": "stdout",
     "output_type": "stream",
     "text": [
      "[1.76405235 0.40015721 0.97873798 2.2408932  1.86755799]\n"
     ]
    }
   ],
   "source": [
    "import numpy as np\n",
    "\n",
    "# シードの値を0に設定\n",
    "np.random.seed(0)\n",
    "\n",
    "# 正規分布に従う乱数を5個生成し、xに代入\n",
    "x = np.random.randn(5)\n",
    "\n",
    "# 可視化します\n",
    "print(x)"
   ]
  },
  {
   "cell_type": "markdown",
   "metadata": {
    "courseId": 4040,
    "exerciseId": "rkt8ADxRmz",
    "id": "code_session_name",
    "important": false,
    "isDL": false,
    "timeoutSecs": 10
   },
   "source": [
    "### 10.2.3 二項分布に従う乱数を生成する\n",
    "* **`numpy.random.binomial(n, p)`**\n",
    "    * n：試行回数\n",
    "    * p：成功率（0～1）\n",
    "    * 成功率pの試行をn回行い、成功した回数を返す\n",
    "    * 第3引数に**`size=整数値`** を渡すと、n回試行したときの成功数を、指定した数だけ返す\n",
    "    * 戻り値：成功する回数\n"
   ]
  },
  {
   "cell_type": "markdown",
   "metadata": {},
   "source": [
    "#### （例）100回コインを投げた場合に表が出る回数を出力する"
   ]
  },
  {
   "cell_type": "code",
   "execution_count": 4,
   "metadata": {
    "id": "index"
   },
   "outputs": [
    {
     "name": "stdout",
     "output_type": "stream",
     "text": [
      "=== 0.5の確率で成功する試行を100回行った時の成功数を求めて出力 ===\n",
      "52\n",
      "=== 0.5の確率で成功する試行を100回行った時の成功数を5回求めて出力 ===\n",
      "[51 61 51 43 47]\n"
     ]
    }
   ],
   "source": [
    "import numpy as np\n",
    "\n",
    "# シードを設定\n",
    "np.random.seed(0)\n",
    "print(\"=== 0.5の確率で成功する試行を100回行った時の成功数を求めて出力 ===\")\n",
    "num1 = np.random.binomial(100, 0.5)\n",
    "print(num1)\n",
    "\n",
    "print(\"=== 0.5の確率で成功する試行を100回行った時の成功数を5回求めて出力 ===\")\n",
    "num2 = np.random.binomial(100, 0.5, 5)\n",
    "print(num2)"
   ]
  },
  {
   "cell_type": "markdown",
   "metadata": {
    "courseId": 4040,
    "exerciseId": "HJ5I0ve0mf",
    "id": "code_session_name",
    "important": false,
    "isDL": false,
    "timeoutSecs": 10
   },
   "source": [
    "### 10.2.4 リストからランダムに選択する\n",
    "* **`numpy.random.choice(x, n)`**\n",
    "    * x：リスト型データ\n",
    "    * n：選択個数\n",
    "    * 渡したリスト型データの中からランダムに選んだ結果を、nの数だけ返す\n",
    "    * 選択は重複を許す形で行われる\n",
    "        * 重複を許さない選択をしたい場合は引数に **`replace=False`** を渡す"
   ]
  },
  {
   "cell_type": "markdown",
   "metadata": {},
   "source": [
    "#### リストからのランダム選択の例"
   ]
  },
  {
   "cell_type": "code",
   "execution_count": 3,
   "metadata": {
    "id": "answer",
    "scrolled": false
   },
   "outputs": [
    {
     "name": "stdout",
     "output_type": "stream",
     "text": [
      "=== x ===\n",
      "[0, 1, 2, 3, 4, 5, 6, 7, 8, 9]\n",
      "=== y ===\n",
      "[5 0 3 3 7]\n"
     ]
    }
   ],
   "source": [
    "import numpy as np\n",
    "\n",
    "x = list(range(10))\n",
    "print(\"=== x ===\")\n",
    "print(x)\n",
    "\n",
    "# シードを設定\n",
    "np.random.seed(0)\n",
    "# xの中からランダムに5個選んでyに代入\n",
    "y = np.random.choice(x, 5)\n",
    "print(\"=== y ===\")\n",
    "print(y)"
   ]
  },
  {
   "cell_type": "markdown",
   "metadata": {
    "id": "section_name",
    "sectionId": "SyiL0wxC7G"
   },
   "source": [
    "## 10.3 時系列データ（P.310）"
   ]
  },
  {
   "cell_type": "markdown",
   "metadata": {
    "courseId": 4040,
    "exerciseId": "HkhI0vxCmz",
    "id": "code_session_name",
    "important": false,
    "isDL": false,
    "timeoutSecs": 10
   },
   "source": [
    "### 10.3.1 datetime型\n",
    "* 時を表すデータ型：**datetime型**\n",
    "* 生成方法\n",
    "    * **`datetime.datetime(年, 月, 日, 時, 分, 秒, ミリ秒)`**\n",
    "    * 引数の渡し方は順番通りでなく **`day=日`** といった渡し方も可能（キーワード引数）"
   ]
  },
  {
   "cell_type": "markdown",
   "metadata": {},
   "source": [
    "#### datatime型オブジェクト生成の例"
   ]
  },
  {
   "cell_type": "code",
   "execution_count": 4,
   "metadata": {
    "id": "index"
   },
   "outputs": [
    {
     "name": "stdout",
     "output_type": "stream",
     "text": [
      "2019-12-01 10:30:00\n"
     ]
    }
   ],
   "source": [
    "import datetime as dt\n",
    "\n",
    "# 2019年12月1日10時30分を表すオブジェクトを作成\n",
    "x = dt.datetime(2019, 12, 1, 10, 30)\n",
    "\n",
    "# 出力\n",
    "print(x)"
   ]
  },
  {
   "cell_type": "markdown",
   "metadata": {
    "courseId": 4040,
    "exerciseId": "H1TIAPxAXf",
    "id": "code_session_name",
    "important": false,
    "isDL": false,
    "timeoutSecs": 10
   },
   "source": [
    "### 10.3.2 timedelta型\n",
    "* 時間の長さを表すデータ型：**timedelta型**\n",
    "* [pythonリファレンスの記述](https://docs.python.org/ja/3/library/datetime.html)  \n",
    "**`class datetime.timedelta(days=0, seconds=0, microseconds=0, milliseconds=0, minutes=0, hours=0, weeks=0)`**\n",
    "```\n",
    "全ての引数がオプションで、デフォルト値は 0 です。 引数は整数、浮動小数点数でもよく、正でも負でもかまいません。\n",
    "days, seconds, microseconds だけが内部的に保持されます。 引数は以下のようにして変換されます:\n",
    "　・1 ミリ秒は 1000 マイクロ秒に変換されます。\n",
    "　・1 分は 60 秒に変換されます。\n",
    "　・1 時間は 3600 秒に変換されます。\n",
    "　・1 週間は 7 日に変換されます。\n",
    "さらに、値が一意に表されるように days, seconds, microseconds が以下のように正規化されます\n",
    "　・0 <= microseconds < 1000000\n",
    "　・0 <= seconds < 3600*24 (一日中の秒数)\n",
    "　・-999999999 <= days <= 999999999\n",
    "```\n"
   ]
  },
  {
   "cell_type": "markdown",
   "metadata": {},
   "source": [
    "#### timedelta型オブジェクト生成の例"
   ]
  },
  {
   "cell_type": "code",
   "execution_count": 5,
   "metadata": {},
   "outputs": [
    {
     "name": "stdout",
     "output_type": "stream",
     "text": [
      "2:05:50\n"
     ]
    }
   ],
   "source": [
    "import datetime as dt\n",
    "\n",
    "# 2時間5分50秒を表すtimedeltaオブジェクトを作成\n",
    "x = dt.timedelta(hours=2, minutes=5, seconds=50)\n",
    "\n",
    "# 出力\n",
    "print(x)"
   ]
  },
  {
   "cell_type": "markdown",
   "metadata": {
    "courseId": 4040,
    "exerciseId": "ryCLAPeAXM",
    "id": "code_session_name",
    "important": false,
    "isDL": false,
    "timeoutSecs": 10
   },
   "source": [
    "### 10.3.3 datetime型とtimedelta型の演算\n",
    "* datetime型オブジェクトとtimedelta型オブジェクトは足したり引いたりすることができる\n",
    "* timedelta型オブジェクトは整数倍することが可能、オブジェクト同士の演算も可能"
   ]
  },
  {
   "cell_type": "markdown",
   "metadata": {},
   "source": [
    "#### 演算の例"
   ]
  },
  {
   "cell_type": "code",
   "execution_count": 6,
   "metadata": {
    "id": "index"
   },
   "outputs": [
    {
     "name": "stdout",
     "output_type": "stream",
     "text": [
      "=== x ===\n",
      "2020-07-24 00:00:00\n",
      "=== y ===\n",
      "2020-04-15 00:00:00\n"
     ]
    }
   ],
   "source": [
    "import datetime as dt\n",
    "\n",
    "\n",
    "# 2020年7月24日を表すdatetimeオブジェクトを作成\n",
    "x = dt.datetime(2020, 7, 24)\n",
    "print(\"=== x ===\")\n",
    "print(x)\n",
    "\n",
    "# xから100日前を表すdatetimeオブジェクトを計算\n",
    "delta = dt.timedelta(100)\n",
    "y = x - delta\n",
    "\n",
    "# 出力\n",
    "print(\"=== y ===\")\n",
    "print(y)"
   ]
  },
  {
   "cell_type": "markdown",
   "metadata": {
    "courseId": 4040,
    "exerciseId": "rkkeLCPx07f",
    "id": "code_session_name",
    "important": false,
    "isDL": false,
    "timeoutSecs": 10
   },
   "source": [
    "### 10.3.4 時を表す文字列からdatetimeオブジェクトを作成する\n",
    "* 時を表す文字列からdatetimeオブジェクトを作成する\n",
    "    * **`dateime.datetime.strptime(文字列, \"書式\")`**\n",
    "        * 文字列 **s** が **\\\"年-月-日 時-分-秒\\\"** の形式の場合\n",
    "            * **`datetime.datetime.strptime(s, \"%Y-%m-%d %H-%M-%S\")`**"
   ]
  },
  {
   "cell_type": "markdown",
   "metadata": {},
   "source": [
    "#### 文字列からdatetimeオブジェクトを作成する例"
   ]
  },
  {
   "cell_type": "code",
   "execution_count": 8,
   "metadata": {
    "id": "index"
   },
   "outputs": [
    {
     "name": "stdout",
     "output_type": "stream",
     "text": [
      "=== s ===\n",
      "2019/12/1 10:20:30\n",
      "=== x ===\n",
      "2019-12-01 10:20:30\n"
     ]
    }
   ],
   "source": [
    "import datetime as dt\n",
    "\n",
    "# sに2019年12月1日10時20分30秒を表す文字列を\"年/月/日 時:分:秒\"の形式で代入\n",
    "s = \"2019/12/1 10:20:30\"\n",
    "print(\"=== s ===\")\n",
    "print(s)\n",
    "# sを変換して、datetimeオブジェクトをxに代入\n",
    "x = dt.datetime.strptime(s, \"%Y/%m/%d %H:%M:%S\")\n",
    "\n",
    "# 出力\n",
    "print(\"=== x ===\")\n",
    "print(x)"
   ]
  },
  {
   "cell_type": "markdown",
   "metadata": {},
   "source": [
    "## 10.4 データの操作（P.315）"
   ]
  },
  {
   "cell_type": "markdown",
   "metadata": {
    "courseId": 4040,
    "exerciseId": "SyZe80DlRmG",
    "id": "code_session_name",
    "important": false,
    "isDL": false,
    "timeoutSecs": 10
   },
   "source": [
    "### 10.4.1 文字列型から数値型へ型変換する\n",
    "* 数字のみの文字列を数値型に変換する\n",
    "    * **`int()`**\n",
    "        * 整数型に変換\n",
    "    * **`float()`**\n",
    "        * 浮動小数点型に変換"
   ]
  },
  {
   "cell_type": "markdown",
   "metadata": {},
   "source": [
    "#### 文字列型から数値型への変換の例"
   ]
  },
  {
   "cell_type": "code",
   "execution_count": 1,
   "metadata": {
    "id": "index"
   },
   "outputs": [
    {
     "name": "stdout",
     "output_type": "stream",
     "text": [
      "15.5\n"
     ]
    }
   ],
   "source": [
    "# 文字列型で代入\n",
    "x = \"10\"\n",
    "y = \"5.5\"\n",
    "\n",
    "# x, yを数値型に変換し計算する\n",
    "z = int(x) + float(y)\n",
    "\n",
    "# zの値を出力\n",
    "print(z)"
   ]
  },
  {
   "cell_type": "markdown",
   "metadata": {
    "courseId": 4040,
    "exerciseId": "rkGe8RPe07z",
    "id": "code_session_name",
    "important": false,
    "isDL": false,
    "timeoutSecs": 10
   },
   "source": [
    "### 10.4.2 等間隔の数列を生成する①\n",
    "* 等間隔の数列が欲しいケース\n",
    "    * リストの要素に順番をつける、偶数列（0, 2, 4,...）が欲しいときなど\n",
    "    * **`numpy.arange(始まりの値, 終わりの値, 間隔の値)`** が便利\n",
    "        * 始まりから終わりの直前までの数値を指定した間隔で返す"
   ]
  },
  {
   "cell_type": "markdown",
   "metadata": {},
   "source": [
    "#### numpy.arangeの例"
   ]
  },
  {
   "cell_type": "code",
   "execution_count": 4,
   "metadata": {
    "id": "index"
   },
   "outputs": [
    {
     "name": "stdout",
     "output_type": "stream",
     "text": [
      "x :  [0 2 4]\n",
      "y :  [0, 2, 4]\n"
     ]
    }
   ],
   "source": [
    "import numpy as np\n",
    "\n",
    "## 0から4までの偶数列をxに代入する\n",
    "## 終わりの値は4ではなく、5と指定する\n",
    "x = np.arange(0, 5, 2)\n",
    "# 出力\n",
    "print(\"x : \", x)\n",
    "\n",
    "#### （参考）range()を使用してリスト型変数を作成する場合\n",
    "y = list(range(0, 5, 2))\n",
    "print(\"y : \", y)"
   ]
  },
  {
   "cell_type": "markdown",
   "metadata": {
    "courseId": 4040,
    "exerciseId": "BJmgUAvgRmf",
    "id": "code_session_name",
    "important": false,
    "isDL": false,
    "timeoutSecs": 10
   },
   "source": [
    "### 10.4.3 等間隔の数列を生成する②\n",
    "* ある範囲を指定した個数に分割したいケース\n",
    "    * **`numpy.linspace(始まりの値, 終わりの値, 分割したい個数)`**\n",
    "        * 指定した個数に分割する点を返す\n",
    "        * **終わりの値の直前の値までで処理をするのではない**ので注意\n",
    "            * 引数endpointがデフォルトTrue"
   ]
  },
  {
   "cell_type": "markdown",
   "metadata": {},
   "source": [
    "#### numpy.linspaceの例"
   ]
  },
  {
   "cell_type": "code",
   "execution_count": 1,
   "metadata": {
    "id": "index"
   },
   "outputs": [
    {
     "name": "stdout",
     "output_type": "stream",
     "text": [
      "[ 0.    3.75  7.5  11.25 15.  ]\n"
     ]
    }
   ],
   "source": [
    "import numpy as np\n",
    "\n",
    "# 0から15までの範囲を等間隔にわける4点をxに代入\n",
    "x = np.linspace(0, 15, 5)\n",
    "\n",
    "# 出力します\n",
    "print(x)"
   ]
  },
  {
   "cell_type": "markdown",
   "metadata": {},
   "source": [
    "# ほげ要望"
   ]
  },
  {
   "cell_type": "markdown",
   "metadata": {},
   "source": [
    "第１０章の添削問題をやってくれたら工藤が喜びます"
   ]
  },
  {
   "cell_type": "markdown",
   "metadata": {},
   "source": [
    "# エクストラほげ問題⑩\n",
    "## Pythonで学ぶ線形代数\n",
    "## 単位行列と逆行列\n",
    "大学に進学をした理系学生が１年生の最初に習うのが線形代数です。その知識を使い今習っているPythonの技術向上を目指しましょう。   \n",
    "※ヒントのようなもの  \n",
    "①https://oguemon.com/topic/study/linear-algebra/  \n",
    "②https://mathtrain.jp/category/senkei  \n",
    "③https://python.atelierkobato.com/linear/  \n",
    "④https://examist.jp/category/mathematics/  \n",
    "⑤http://www.geisya.or.jp/~mwm48961/koukou/index_m.htm  \n",
    "  \n",
    "# もんだいだよん(^ω^)\n",
    "## 単位行列と逆行列\n",
    "### 単位行列 \n",
    "### numpy.identity()\n",
    "　下記の行列$A$と単位行列Iの行列積$A・I$を求めなさい  \n",
    " $\n",
    "  \\mathrm|A| = \\left|\n",
    "    \\begin{array}{ccc}\n",
    "           -1& 5\\\\\n",
    "            7& 0\n",
    "    \\end{array}\n",
    "  \\right|\n",
    "$  \n",
    "\n",
    "\n",
    "### 逆行列と正則行列\n",
    "### numpy.linalg.inv()\n",
    "行列Aの逆行列$A^{-1}$と$A・A^{-1}$を求めなさい  \n",
    " $\n",
    "  \\mathrm|A| = \\left|\n",
    "    \\begin{array}{ccc}\n",
    "            1& 2\\\\\n",
    "            3& 4\n",
    "    \\end{array}\n",
    "  \\right|\n",
    "$  "
   ]
  }
 ],
 "metadata": {
  "kernelspec": {
   "display_name": "Python 3",
   "language": "python",
   "name": "python3"
  },
  "language_info": {
   "codemirror_mode": {
    "name": "ipython",
    "version": 3
   },
   "file_extension": ".py",
   "mimetype": "text/x-python",
   "name": "python",
   "nbconvert_exporter": "python",
   "pygments_lexer": "ipython3",
   "version": "3.8.3"
  }
 },
 "nbformat": 4,
 "nbformat_minor": 2
}
