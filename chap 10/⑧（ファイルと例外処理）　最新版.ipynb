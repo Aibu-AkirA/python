{
 "cells": [
  {
   "cell_type": "markdown",
   "metadata": {},
   "source": [
    "# ⑧（ファイルと例外処理）"
   ]
  },
  {
   "cell_type": "markdown",
   "metadata": {},
   "source": [
    "# Lesson10"
   ]
  },
  {
   "cell_type": "markdown",
   "metadata": {},
   "source": [
    "### Sample1.py"
   ]
  },
  {
   "cell_type": "code",
   "execution_count": 1,
   "metadata": {},
   "outputs": [],
   "source": [
    "f = open(\"Sample.txt\", \"w\")\n",
    "\n",
    "f.write(\"こんにちは\\n\")\n",
    "f.write(\"さようなら\\n\")\n",
    "\n",
    "f.close()"
   ]
  },
  {
   "cell_type": "markdown",
   "metadata": {},
   "source": [
    "### with文\n",
    "```Python\n",
    "with <処理> as <ファイル変数>:\n",
    "```"
   ]
  },
  {
   "cell_type": "markdown",
   "metadata": {},
   "source": [
    "### Sample2.py"
   ]
  },
  {
   "cell_type": "code",
   "execution_count": 2,
   "metadata": {},
   "outputs": [
    {
     "name": "stdout",
     "output_type": "stream",
     "text": [
      "こんにちは\n",
      "さようなら\n"
     ]
    }
   ],
   "source": [
    "f = open(\"Sample.txt\", \"r\")\n",
    "\n",
    "lines = f.readlines()\n",
    "\n",
    "for line in lines:\n",
    "    print(line, end=\"\")\n",
    "\n",
    "f.close()"
   ]
  },
  {
   "cell_type": "markdown",
   "metadata": {},
   "source": [
    "### 構文（csvモジュールの利用）\n",
    "```Python\n",
    "import csv\n",
    "```"
   ]
  },
  {
   "cell_type": "markdown",
   "metadata": {},
   "source": [
    "### Sample3.py"
   ]
  },
  {
   "cell_type": "code",
   "execution_count": 3,
   "metadata": {},
   "outputs": [
    {
     "name": "stdout",
     "output_type": "stream",
     "text": [
      "東京,鉛筆,25,\n",
      "東京,消しゴム,30,\n",
      "名古屋,ノート,56,\n",
      "大阪,定規,100,\n",
      "福岡,ノート,73,\n",
      "\n"
     ]
    }
   ],
   "source": [
    "import csv\n",
    "\n",
    "f = open(\"Sample.csv\", \"r\")\n",
    "\n",
    "rd = csv.reader(f)\n",
    "\n",
    "for row in rd:\n",
    "    for col in row:\n",
    "       print(col, end=\",\")\n",
    "    print()\n",
    "f.close()"
   ]
  },
  {
   "cell_type": "markdown",
   "metadata": {},
   "source": [
    "### 構文（jsonモジュールの利用）\n",
    "```Python\n",
    "import json\n",
    "```"
   ]
  },
  {
   "cell_type": "markdown",
   "metadata": {},
   "source": [
    "### Sample4.py"
   ]
  },
  {
   "cell_type": "code",
   "execution_count": 4,
   "metadata": {},
   "outputs": [
    {
     "name": "stdout",
     "output_type": "stream",
     "text": [
      "{'関東': {'東京': 50, '横浜': 40}, '関西': {'大阪': 30, '京都': 20}}\n"
     ]
    }
   ],
   "source": [
    "import json\n",
    "\n",
    "f = open(\"Sample.json\", \"r\")\n",
    "\n",
    "data = json.load(f)\n",
    "\n",
    "print(data)\n",
    "\n",
    "f.close()"
   ]
  },
  {
   "cell_type": "markdown",
   "metadata": {},
   "source": [
    "### 構文（例外処理）\n",
    "```Python\n",
    "try:\n",
    "    <例外発生を調べる文>\n",
    "    ・・・\n",
    "except <例外クラス名>:\n",
    "    <例外が起きた時に処理する文>\n",
    "    ・・・\n",
    "else:\n",
    "    <例外が起きなかった時に処理する文>\n",
    "    ・・・\n",
    "finally:\n",
    "    <必ず最後に処理する文>\n",
    "    ・・・\n",
    "```"
   ]
  },
  {
   "cell_type": "markdown",
   "metadata": {},
   "source": [
    "### Sample5.py"
   ]
  },
  {
   "cell_type": "code",
   "execution_count": 5,
   "metadata": {},
   "outputs": [
    {
     "name": "stdout",
     "output_type": "stream",
     "text": [
      "こんにちは\n",
      "さようなら\n",
      "処理を終了します。\n"
     ]
    }
   ],
   "source": [
    "try:\n",
    "    f = open(\"Sample.txt\", \"r\")\n",
    "   \n",
    "except FileNotFoundError:\n",
    "    print(\"ファイルをオープンできませんでした。\")\n",
    "\n",
    "else:\n",
    "    lines = f.readlines()\n",
    "    for line in lines:\n",
    "       print(line, end=\"\")\n",
    "    f.close()\n",
    "\n",
    "finally:\n",
    "    print(\"処理を終了します。\")"
   ]
  },
  {
   "cell_type": "markdown",
   "metadata": {},
   "source": [
    "## osモジュール関連の話\n",
    "https://techacademy.jp/magazine/31132"
   ]
  },
  {
   "cell_type": "markdown",
   "metadata": {},
   "source": [
    "### 構文（osモジュールの利用）\n",
    "```Python\n",
    "import os\n",
    "```"
   ]
  },
  {
   "cell_type": "markdown",
   "metadata": {},
   "source": [
    "### Sample6.py"
   ]
  },
  {
   "cell_type": "code",
   "execution_count": 6,
   "metadata": {},
   "outputs": [
    {
     "name": "stdout",
     "output_type": "stream",
     "text": [
      ".ipynb_checkpoints\n",
      "Sample.csv\n",
      "Sample.json\n",
      "Sample.txt\n",
      "Sample1.py\n",
      "Sample2.py\n",
      "Sample3.py\n",
      "Sample4.py\n",
      "Sample5.py\n",
      "Sample6.py\n",
      "Sample7.py\n",
      "Sample8.py\n",
      "Sample9.py\n",
      "⑧（ファイルと例外処理）.html\n",
      "⑧（ファイルと例外処理）.ipynb\n",
      "エクストラ問題倉庫\n"
     ]
    }
   ],
   "source": [
    "import os\n",
    "\n",
    "curdir = os.listdir(\".\")\n",
    "\n",
    "for name in curdir:\n",
    "    print(name)"
   ]
  },
  {
   "cell_type": "markdown",
   "metadata": {},
   "source": [
    "### 構文（os.pathモジュールの利用）\n",
    "```Python\n",
    "import os.path\n",
    "```"
   ]
  },
  {
   "cell_type": "markdown",
   "metadata": {},
   "source": [
    "### Sample7.py"
   ]
  },
  {
   "cell_type": "code",
   "execution_count": 7,
   "metadata": {},
   "outputs": [
    {
     "name": "stdout",
     "output_type": "stream",
     "text": [
      "C:\\Users\\kng-kudo\\Desktop\\AI\\Freshman\\AIプログラミングⅠ\\⑧（ファイルと例外処理）\\.ipynb_checkpoints,ディレクトリです。\n",
      "C:\\Users\\kng-kudo\\Desktop\\AI\\Freshman\\AIプログラミングⅠ\\⑧（ファイルと例外処理）\\Sample.csv,ファイルです。\n",
      "C:\\Users\\kng-kudo\\Desktop\\AI\\Freshman\\AIプログラミングⅠ\\⑧（ファイルと例外処理）\\Sample.json,ファイルです。\n",
      "C:\\Users\\kng-kudo\\Desktop\\AI\\Freshman\\AIプログラミングⅠ\\⑧（ファイルと例外処理）\\Sample.txt,ファイルです。\n",
      "C:\\Users\\kng-kudo\\Desktop\\AI\\Freshman\\AIプログラミングⅠ\\⑧（ファイルと例外処理）\\Sample1.py,ファイルです。\n",
      "C:\\Users\\kng-kudo\\Desktop\\AI\\Freshman\\AIプログラミングⅠ\\⑧（ファイルと例外処理）\\Sample2.py,ファイルです。\n",
      "C:\\Users\\kng-kudo\\Desktop\\AI\\Freshman\\AIプログラミングⅠ\\⑧（ファイルと例外処理）\\Sample3.py,ファイルです。\n",
      "C:\\Users\\kng-kudo\\Desktop\\AI\\Freshman\\AIプログラミングⅠ\\⑧（ファイルと例外処理）\\Sample4.py,ファイルです。\n",
      "C:\\Users\\kng-kudo\\Desktop\\AI\\Freshman\\AIプログラミングⅠ\\⑧（ファイルと例外処理）\\Sample5.py,ファイルです。\n",
      "C:\\Users\\kng-kudo\\Desktop\\AI\\Freshman\\AIプログラミングⅠ\\⑧（ファイルと例外処理）\\Sample6.py,ファイルです。\n",
      "C:\\Users\\kng-kudo\\Desktop\\AI\\Freshman\\AIプログラミングⅠ\\⑧（ファイルと例外処理）\\Sample7.py,ファイルです。\n",
      "C:\\Users\\kng-kudo\\Desktop\\AI\\Freshman\\AIプログラミングⅠ\\⑧（ファイルと例外処理）\\Sample8.py,ファイルです。\n",
      "C:\\Users\\kng-kudo\\Desktop\\AI\\Freshman\\AIプログラミングⅠ\\⑧（ファイルと例外処理）\\Sample9.py,ファイルです。\n",
      "C:\\Users\\kng-kudo\\Desktop\\AI\\Freshman\\AIプログラミングⅠ\\⑧（ファイルと例外処理）\\⑧（ファイルと例外処理）.html,ファイルです。\n",
      "C:\\Users\\kng-kudo\\Desktop\\AI\\Freshman\\AIプログラミングⅠ\\⑧（ファイルと例外処理）\\⑧（ファイルと例外処理）.ipynb,ファイルです。\n",
      "C:\\Users\\kng-kudo\\Desktop\\AI\\Freshman\\AIプログラミングⅠ\\⑧（ファイルと例外処理）\\エクストラ問題倉庫,ディレクトリです。\n",
      "\n"
     ]
    }
   ],
   "source": [
    "import os\n",
    "import os.path\n",
    "\n",
    "curdir = os.listdir(\".\")\n",
    "\n",
    "for name in curdir:\n",
    "    print(os.path.abspath(name), end=\",\")\n",
    "    \n",
    "    if(os.path.isfile(name)):\n",
    "        print(\"ファイルです。\")\n",
    "    else:\n",
    "        print(\"ディレクトリです。\")\n",
    "print()"
   ]
  },
  {
   "cell_type": "markdown",
   "metadata": {},
   "source": [
    "### 構文（日時情報の利用）\n",
    "```Python\n",
    "import datetime\n",
    "```"
   ]
  },
  {
   "cell_type": "markdown",
   "metadata": {},
   "source": [
    "### Sample8.py"
   ]
  },
  {
   "cell_type": "code",
   "execution_count": 8,
   "metadata": {},
   "outputs": [
    {
     "name": "stdout",
     "output_type": "stream",
     "text": [
      "現在は 2020-08-05 11:53:59.451434 です。\n",
      "年： 2020\n",
      "月： 8\n",
      "日： 5\n",
      "1日後は 2020-08-06 11:53:59.451434 です。\n"
     ]
    }
   ],
   "source": [
    "import datetime\n",
    "\n",
    "dt = datetime.datetime.now()\n",
    "print(\"現在は\", dt, \"です。\")\n",
    "print(\"年：\", dt.year)\n",
    "print(\"月：\", dt.month)\n",
    "print(\"日：\", dt.day)\n",
    "\n",
    "dt = dt + datetime.timedelta(days=1)\n",
    "print(\"1日後は\", dt, \"です。\")"
   ]
  },
  {
   "cell_type": "markdown",
   "metadata": {},
   "source": [
    "### Sample9.py"
   ]
  },
  {
   "cell_type": "code",
   "execution_count": 9,
   "metadata": {},
   "outputs": [
    {
     "name": "stdout",
     "output_type": "stream",
     "text": [
      "現在は Wed Aug  5 11:54:00 2020 です。\n",
      "1日後は 2020-08-06 です。\n"
     ]
    }
   ],
   "source": [
    "import datetime\n",
    "\n",
    "dt = datetime.datetime.now()\n",
    "str = dt.strftime(\"%c\")\n",
    "print(\"現在は\", str, \"です。\")\n",
    "\n",
    "dt = dt + datetime.timedelta(days=1)\n",
    "str = dt.strftime(\"%Y-%m-%d\")\n",
    "print(\"1日後は\", str, \"です。\")"
   ]
  },
  {
   "cell_type": "markdown",
   "metadata": {},
   "source": [
    "# ほげ要望(^ω^)\n",
    "　教科書　【レッスンのまとめ】    \n",
    "・lesson10  \n",
    " 練習をやってくれたら喜びます"
   ]
  },
  {
   "cell_type": "markdown",
   "metadata": {},
   "source": [
    "# エクストラほげ問題⑧\n",
    "## 高校数学Ⅱ　複素数と方程式\n",
    "## 複素数の四則計算\n",
    "人工知能（AI）を学ぶ上で必須な数学の知識を問うような問題を出します。  \n",
    "最低限の内容ばかり問うのでわからない人は焦った方がいいと思います（ほげおくん調べ）  \n",
    "  \n",
    "### もんだいだよん(^ω^)\n",
    " \n",
    "計算せよ\n",
    "  \n",
    "①$(2-i)^3$\n",
    "  \n",
    "②$i+i^2+i^3+i^4+…+i^{50}$\n",
    "  \n",
    "③$(\\sqrt{3}+\\sqrt{-2})(\\sqrt{-6}-\\sqrt{4})$\n",
    "  \n",
    "④$\\frac{1+i}{3-2i}+\\frac{1-3i}{1+2i}$"
   ]
  },
  {
   "cell_type": "markdown",
   "metadata": {},
   "source": [
    "## エクストラぽむぽむ問題\n",
    "\n",
    "## 画像ファイルを開いてみよう\n",
    ">Wordとかのファイルも開けるんだから、画像ファイルだって開けます。\n",
    "\n",
    "opencvというライブラリで画像を読み込んでみよう。\n",
    "<br>このnotebookと同じ場所にimgファイルを作り、その中に任意の画像(jpg)をhogeとして１枚保存してね。\n",
    "\n",
    "##### インポートエラーに気を付けてね　わからなかったら聞いてください\n",
    "\n",
    "#### 実行すると画面に保存した画像が出てきます。てきとうに任意のキーボードを押すと消えます。"
   ]
  },
  {
   "cell_type": "code",
   "execution_count": null,
   "metadata": {},
   "outputs": [],
   "source": [
    "# ★の部分をかいて完成させてね\n",
    "import cv2\n",
    "import numpy as np\n",
    "\n",
    "try:\n",
    "    img = #★　画像読み込み部分\n",
    "\n",
    "    if img is None:\n",
    "        print ('ファイルを読み込めません。')\n",
    "        import sys\n",
    "\n",
    "    cv2.imshow('img', img)\n",
    "    \n",
    "    cv2.waitKey(0)\n",
    "    cv2.destroyAllWindows()\n",
    "except:\n",
    "    import sys\n",
    "    print(\"Error:\", sys.exc_info()[0])\n",
    "    print(sys.exc_info()[1])\n",
    "    import traceback\n",
    "    print(traceback.format_tb(sys.exc_info()[2]))\n"
   ]
  },
  {
   "cell_type": "markdown",
   "metadata": {},
   "source": [
    "### 2.画像ファイルの保存\n",
    ">保存が正しくできたら見てみてね。なんでそうなったか気になったら調べてみるといいかも。\n",
    "\n",
    "読み込めたので、次は保存してみます。\n",
    "保存の場所はさっき作ったimgフォルダで、hogegray.jpgという形式で保存してください。\n",
    "#### 正しく実行するとimgフォルダにhogegray.jpgという画像ができています。確認してね"
   ]
  },
  {
   "cell_type": "code",
   "execution_count": null,
   "metadata": {},
   "outputs": [],
   "source": [
    "# ★の部分をかいて完成させてね\n",
    "import cv2\n",
    "import numpy as np\n",
    "\n",
    "try:\n",
    "    img = #★　imgファイル内のhoge.jpgを読み込み\n",
    "\n",
    "    if img is None:\n",
    "        print ('ファイルを読み込めません。')\n",
    "        import sys\n",
    "    \n",
    "    img_array = np.asarray(img)\n",
    "    h, w, _ = img.shape\n",
    "\n",
    "    np.random.seed(0)\n",
    "    data1 = np.random.randint(0,h, 100000)\n",
    "    data2 = np.random.randint(0,w, 100000)\n",
    "    \n",
    "    img[(data1,data2)] = (0,0,0)\n",
    "    \n",
    "    cv2.imshow('dst',img)\n",
    "    \n",
    "    #★　imgフォルダ内にhogegray.jpgとして保存\n",
    "    \n",
    "    cv2.waitKey(0)\n",
    "    cv2.destroyAllWindows()\n",
    "except:\n",
    "    import sys\n",
    "    print(\"Error:\", sys.exc_info()[0])\n",
    "    print(sys.exc_info()[1])\n",
    "    import traceback\n",
    "    print(traceback.format_tb(sys.exc_info()[2]))\n"
   ]
  },
  {
   "cell_type": "markdown",
   "metadata": {},
   "source": [
    "# エクストラがんばれもんだい\n",
    "がんばれー\n",
    "つぎDBなんだけど使うときやればいいと思うのでnumpyやろうね"
   ]
  },
  {
   "cell_type": "code",
   "execution_count": 39,
   "metadata": {},
   "outputs": [],
   "source": [
    "# writerow()やwriterows()を使って、九九表をganbare.csvに出力してみてね\n",
    "#printしたときに、変な空行が入らないようにしてね！\n",
    "\n",
    "'''\n",
    "出力例\n",
    "[1,2,...,8,9]\n",
    "[2,4,...,16,18]\n",
    "...\n",
    "[8,16,...,64,72]\n",
    "[9,18,...,72,81]\n",
    "'''\n",
    "\n",
    "import csv\n",
    "\n",
    "\n",
    "# ここにかいてね\n",
    "\n",
    "\n",
    "\n",
    "with open('ganbare.csv') as f:\n",
    "    reader = csv.reader(f)\n",
    "    l = [row for row in reader]\n",
    "    for r in l:\n",
    "        print(r)"
   ]
  },
  {
   "cell_type": "code",
   "execution_count": 14,
   "metadata": {},
   "outputs": [
    {
     "name": "stdout",
     "output_type": "stream",
     "text": [
      "-----a------\n",
      "[[1]\n",
      " [2]\n",
      " [3]\n",
      " [4]\n",
      " [5]]\n",
      "-----b------\n",
      "[-1 -2 -3 -4 -5]\n",
      "-----c------\n",
      "[[ 0 -1 -2 -3 -4]\n",
      " [ 1  0 -1 -2 -3]\n",
      " [ 2  1  0 -1 -2]\n",
      " [ 3  2  1  0 -1]\n",
      " [ 4  3  2  1  0]]\n",
      "-----出力-----\n",
      "[[ 0 -1 -2 -3 -4]\n",
      " [ 1  0 -1 -2 -3]\n",
      " [ 2  1  0 -1 -2]\n",
      " [ 3  2  1  0 -1]\n",
      " [ 4  3  2  1  0]]\n"
     ]
    }
   ],
   "source": [
    "#numpyの二次元配列cを左右反転して、全部５倍にしてね\n",
    "# 二行が理想、importより下３行が理解できたらめっちゃいい\n",
    "'''\n",
    "例\n",
    "c= [[1,2,3]\n",
    "    [4,5,6]\n",
    "    [7,8,9]]\n",
    "なら\n",
    "res=[[15,10,5]\n",
    "    [30,25,20]\n",
    "    [45,40,35]]\n",
    "'''\n",
    "import numpy as np\n",
    "a=np.array([1,2,3,4,5])\n",
    "a=a.reshape([5,1])\n",
    "b=-np.array([1,2,3,4,5])\n",
    "\n",
    "print(\"-----a------\")\n",
    "print(a)\n",
    "\n",
    "print(\"-----b------\")\n",
    "print(b)\n",
    "\n",
    "c=a+b\n",
    "print(\"-----c------\")\n",
    "print(c)\n",
    "\n",
    "# ここにかいてね\n",
    "res=c\n",
    "print(\"-----出力-----\")\n",
    "print(res)"
   ]
  },
  {
   "cell_type": "code",
   "execution_count": 37,
   "metadata": {},
   "outputs": [
    {
     "name": "stdout",
     "output_type": "stream",
     "text": [
      "[1 2 3 4 5 6 7 8 9]\n",
      "[[1]\n",
      " [2]\n",
      " [3]\n",
      " [4]\n",
      " [5]\n",
      " [6]\n",
      " [7]\n",
      " [8]\n",
      " [9]]\n",
      "[[ 1  2  3  4  5  6  7  8  9]\n",
      " [ 2  4  6  8 10 12 14 16 18]\n",
      " [ 3  6  9 12 15 18 21 24 27]\n",
      " [ 4  8 12 16 20 24 28 32 36]\n",
      " [ 5 10 15 20 25 30 35 40 45]\n",
      " [ 6 12 18 24 30 36 42 48 54]\n",
      " [ 7 14 21 28 35 42 49 56 63]\n",
      " [ 8 16 24 32 40 48 56 64 72]\n",
      " [ 9 18 27 36 45 54 63 72 81]]\n",
      "1,2,3,4,5,6,7,8,9\n",
      "\n",
      "2,4,6,8,10,12,14,16,18\n",
      "\n",
      "3,6,9,12,15,18,21,24,27\n",
      "\n",
      "4,8,12,16,20,24,28,32,36\n",
      "\n",
      "5,10,15,20,25,30,35,40,45\n",
      "\n",
      "6,12,18,24,30,36,42,48,54\n",
      "\n",
      "7,14,21,28,35,42,49,56,63\n",
      "\n",
      "8,16,24,32,40,48,56,64,72\n",
      "\n",
      "9,18,27,36,45,54,63,72,81\n",
      "\n",
      "\n"
     ]
    }
   ],
   "source": [
    "#問題１をnumpyを使ってやってみてね\n",
    "#ファイル名はganbare2.csvにしてね\n",
    "#すでにnumpyでやってたそこの君はコピペでおっけー\n",
    "import csv\n",
    "import numpy as np\n",
    "\n",
    "#ここにかいてね\n",
    "\n",
    "\n",
    "\n",
    "with open('ganbare2.csv') as f:\n",
    "    print(f.read())"
   ]
  },
  {
   "cell_type": "code",
   "execution_count": null,
   "metadata": {},
   "outputs": [],
   "source": []
  }
 ],
 "metadata": {
  "kernelspec": {
   "display_name": "Python 3",
   "language": "python",
   "name": "python3"
  },
  "language_info": {
   "codemirror_mode": {
    "name": "ipython",
    "version": 3
   },
   "file_extension": ".py",
   "mimetype": "text/x-python",
   "name": "python",
   "nbconvert_exporter": "python",
   "pygments_lexer": "ipython3",
   "version": "3.8.3"
  }
 },
 "nbformat": 4,
 "nbformat_minor": 2
}
