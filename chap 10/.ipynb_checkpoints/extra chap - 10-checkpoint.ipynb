{
 "cells": [
  {
   "cell_type": "code",
   "execution_count": 1,
   "metadata": {},
   "outputs": [],
   "source": [
    "# ★の部分をかいて完成させてね\n",
    "import cv2\n",
    "import numpy as np\n",
    "\n",
    "try:\n",
    "    img = cv2.imread('hoge.jpg')\n",
    "\n",
    "    if img is None:\n",
    "        print ('ファイルを読み込めません。')\n",
    "        import sys\n",
    "\n",
    "    cv2.imshow('img', img)\n",
    "    \n",
    "    cv2.waitKey(0)\n",
    "    cv2.destroyAllWindows()\n",
    "except:\n",
    "    import sys\n",
    "    print(\"Error:\", sys.exc_info()[0])\n",
    "    print(sys.exc_info()[1])\n",
    "    import traceback\n",
    "    print(traceback.format_tb(sys.exc_info()[2]))"
   ]
  },
  {
   "cell_type": "code",
   "execution_count": 2,
   "metadata": {},
   "outputs": [],
   "source": [
    "# ★の部分をかいて完成させてね\n",
    "import cv2\n",
    "import numpy as np\n",
    "\n",
    "try:\n",
    "    img = cv2.imread('hoge.jpg')\n",
    "\n",
    "    if img is None:\n",
    "        print ('ファイルを読み込めません。')\n",
    "        import sys\n",
    "    \n",
    "    img_array = np.asarray(img)\n",
    "    h, w, _ = img.shape\n",
    "\n",
    "    np.random.seed(0)\n",
    "    data1 = np.random.randint(0,h, 100000)\n",
    "    data2 = np.random.randint(0,w, 100000)\n",
    "    \n",
    "    img[(data1,data2)] = (0,0,0)\n",
    "    \n",
    "    cv2.imshow('dst',img)\n",
    "    \n",
    "    cv2.imwrite('hogegray.jpg', img)\n",
    "    \n",
    "    cv2.waitKey(0)\n",
    "    cv2.destroyAllWindows()\n",
    "except:\n",
    "    import sys\n",
    "    print(\"Error:\", sys.exc_info()[0])\n",
    "    print(sys.exc_info()[1])\n",
    "    import traceback\n",
    "    print(traceback.format_tb(sys.exc_info()[2]))"
   ]
  },
  {
   "cell_type": "code",
   "execution_count": null,
   "metadata": {},
   "outputs": [],
   "source": [
    "# writerow()やwriterows()を使って、九九表をganbare.csvに出力してみてね\n",
    "#printしたときに、変な空行が入らないようにしてね！\n",
    "\n",
    "'''\n",
    "出力例\n",
    "[1,2,...,8,9]\n",
    "[2,4,...,16,18]\n",
    "...\n",
    "[8,16,...,64,72]\n",
    "[9,18,...,72,81]\n",
    "'''\n",
    "\n",
    "import csv\n",
    "\n",
    "\n",
    "# ここにかいてね\n",
    "\n",
    "\n",
    "\n",
    "with open('ganbare.csv') as f:\n",
    "    reader = csv.reader(f)\n",
    "    l = [row for row in reader]\n",
    "    for r in l:\n",
    "        print(r)"
   ]
  }
 ],
 "metadata": {
  "kernelspec": {
   "display_name": "Python 3",
   "language": "python",
   "name": "python3"
  },
  "language_info": {
   "codemirror_mode": {
    "name": "ipython",
    "version": 3
   },
   "file_extension": ".py",
   "mimetype": "text/x-python",
   "name": "python",
   "nbconvert_exporter": "python",
   "pygments_lexer": "ipython3",
   "version": "3.8.3"
  }
 },
 "nbformat": 4,
 "nbformat_minor": 4
}
