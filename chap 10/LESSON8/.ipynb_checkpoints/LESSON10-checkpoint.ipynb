{
 "cells": [
  {
   "cell_type": "code",
   "execution_count": 17,
   "metadata": {},
   "outputs": [
    {
     "name": "stdout",
     "output_type": "stream",
     "text": [
      "名前\t\tサイズ\n",
      ".ipynb_checkpoints\t4096 バイト\n",
      "LESSON10.ipynb\t1344 バイト\n",
      "Sample.txt\t24 バイト\n",
      "Sample1.py\t163 バイト\n",
      "Sample2.py\t173 バイト\n",
      "\n"
     ]
    }
   ],
   "source": [
    "import os\n",
    "import os.path\n",
    "\n",
    "curdir = os.listdir(\".\")\n",
    "\n",
    "print(\"名前\\t\\tサイズ\")\n",
    "for name in curdir:\n",
    "    print(name, end=\"\\t\")\n",
    "    print(os.path.getsize(name),\"バイト\")\n",
    "print()"
   ]
  },
  {
   "cell_type": "code",
   "execution_count": 20,
   "metadata": {},
   "outputs": [
    {
     "name": "stdout",
     "output_type": "stream",
     "text": [
      "名前\t\t最終アクセス時刻\n",
      ".ipynb_checkpoints\t2020-10-26 09:41:32.612016\n",
      "LESSON10.ipynb\t2020-10-26 09:41:32.612016\n",
      "Sample.txt\t2020-10-26 09:41:32.612016\n",
      "Sample1.py\t2020-10-26 09:41:32.612016\n",
      "Sample2.py\t2020-10-26 09:41:32.612016\n",
      "\n"
     ]
    }
   ],
   "source": [
    "import datetime\n",
    "\n",
    "name2=os.path.getatime(name)\n",
    "\n",
    "print(\"名前\\t\\t最終アクセス時刻\")\n",
    "for name in curdir:\n",
    "    print(name, end=\"\\t\")\n",
    "    print(datetime.datetime.fromtimestamp(name2))\n",
    "print()"
   ]
  },
  {
   "cell_type": "code",
   "execution_count": null,
   "metadata": {},
   "outputs": [],
   "source": []
  }
 ],
 "metadata": {
  "kernelspec": {
   "display_name": "Python 3",
   "language": "python",
   "name": "python3"
  },
  "language_info": {
   "codemirror_mode": {
    "name": "ipython",
    "version": 3
   },
   "file_extension": ".py",
   "mimetype": "text/x-python",
   "name": "python",
   "nbconvert_exporter": "python",
   "pygments_lexer": "ipython3",
   "version": "3.8.3"
  }
 },
 "nbformat": 4,
 "nbformat_minor": 4
}
