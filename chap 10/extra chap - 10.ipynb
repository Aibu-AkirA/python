{
 "cells": [
  {
   "cell_type": "code",
   "execution_count": 4,
   "metadata": {},
   "outputs": [],
   "source": [
    "# ★の部分をかいて完成させてね\n",
    "import cv2\n",
    "import numpy as np\n",
    "\n",
    "try:\n",
    "    img = cv2.imread('Harrison.jpg')\n",
    "\n",
    "    if img is None:\n",
    "        print ('ファイルを読み込めません。')\n",
    "        import sys\n",
    "\n",
    "    cv2.imshow('img', img)\n",
    "    \n",
    "    cv2.waitKey(0)\n",
    "    cv2.destroyAllWindows()\n",
    "except:\n",
    "    import sys\n",
    "    print(\"Error:\", sys.exc_info()[0])\n",
    "    print(sys.exc_info()[1])\n",
    "    import traceback\n",
    "    print(traceback.format_tb(sys.exc_info()[2]))"
   ]
  },
  {
   "cell_type": "code",
   "execution_count": null,
   "metadata": {},
   "outputs": [],
   "source": [
    "# ★の部分をかいて完成させてね\n",
    "import cv2\n",
    "import numpy as np\n",
    "\n",
    "try:\n",
    "    img = #★　imgファイル内のhoge.jpgを読み込み\n",
    "\n",
    "    if img is None:\n",
    "        print ('ファイルを読み込めません。')\n",
    "        import sys\n",
    "    \n",
    "    img_array = np.asarray(img)\n",
    "    h, w, _ = img.shape\n",
    "\n",
    "    np.random.seed(0)\n",
    "    data1 = np.random.randint(0,h, 100000)\n",
    "    data2 = np.random.randint(0,w, 100000)\n",
    "    \n",
    "    img[(data1,data2)] = (0,0,0)\n",
    "    \n",
    "    cv2.imshow('dst',img)\n",
    "    \n",
    "    #★　imgフォルダ内にhogegray.jpgとして保存\n",
    "    \n",
    "    cv2.waitKey(0)\n",
    "    cv2.destroyAllWindows()\n",
    "except:\n",
    "    import sys\n",
    "    print(\"Error:\", sys.exc_info()[0])\n",
    "    print(sys.exc_info()[1])\n",
    "    import traceback\n",
    "    print(traceback.format_tb(sys.exc_info()[2]))"
   ]
  }
 ],
 "metadata": {
  "kernelspec": {
   "display_name": "Python 3",
   "language": "python",
   "name": "python3"
  },
  "language_info": {
   "codemirror_mode": {
    "name": "ipython",
    "version": 3
   },
   "file_extension": ".py",
   "mimetype": "text/x-python",
   "name": "python",
   "nbconvert_exporter": "python",
   "pygments_lexer": "ipython3",
   "version": "3.8.3"
  }
 },
 "nbformat": 4,
 "nbformat_minor": 4
}
