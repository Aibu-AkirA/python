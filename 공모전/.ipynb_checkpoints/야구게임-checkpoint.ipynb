{
 "cells": [
  {
   "cell_type": "code",
   "execution_count": null,
   "metadata": {},
   "outputs": [
    {
     "name": "stdout",
     "output_type": "stream",
     "text": [
      "63\n",
      "数字(1~99)：65\n",
      "アンダー\n",
      "57\n",
      "数字(1~99)：57\n",
      "ホームラン！\n",
      "22\n"
     ]
    }
   ],
   "source": [
    "import random\n",
    "while True:\n",
    "    pNum = random.randrange(1, 100)\n",
    "    print(pNum)\n",
    "    bNum = int(input(\"数字(1~99)：\"))\n",
    "    \n",
    "    hit = [pNum-12, pNum+12]\n",
    "    foul = [pNum-22, pNum+22]\n",
    "    gBall, fBall = pNum-42 , pNum+42\n",
    "    \n",
    "    if(pNum==bNum):\n",
    "        print(\"ホームラン！\")\n",
    "    elif(bNum >=hit[0] and bNum <=hit[1]):\n",
    "        print(\"アンダー\")\n",
    "    elif():\n",
    "        print\n",
    "    else:\n",
    "        print(\"三振\")"
   ]
  },
  {
   "cell_type": "code",
   "execution_count": null,
   "metadata": {},
   "outputs": [],
   "source": []
  }
 ],
 "metadata": {
  "kernelspec": {
   "display_name": "Python 3",
   "language": "python",
   "name": "python3"
  },
  "language_info": {
   "codemirror_mode": {
    "name": "ipython",
    "version": 3
   },
   "file_extension": ".py",
   "mimetype": "text/x-python",
   "name": "python",
   "nbconvert_exporter": "python",
   "pygments_lexer": "ipython3",
   "version": "3.8.3"
  }
 },
 "nbformat": 4,
 "nbformat_minor": 4
}
