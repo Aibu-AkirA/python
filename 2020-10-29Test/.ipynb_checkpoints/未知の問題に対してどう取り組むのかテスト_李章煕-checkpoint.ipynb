{
 "cells": [
  {
   "cell_type": "markdown",
   "metadata": {},
   "source": [
    "# AIプログラミングI　未知の問題に対してどう取り組むのかテスト・解答用紙\n",
    "\n",
    "### 注意事項\n",
    "* ノートブック名（画面の上部に表示されている）を編集し、\"氏名\"を自分の名前に変えること\n",
    "* 解答は実行結果も表示された状態でHTML出力すること  \n",
    "    * 問題15はコード実行は行う必要なし\n",
    "* 携帯電話等の利用禁止（着信音がなっても駄目です）\n",
    "* SNS、Yahoo!知恵袋等のQAサービスは利用しないこと（友人とライン等で情報交換しているのが発見した場合以後の工藤のテストが鬼になります）\n",
    "    * 自分で書いたソースコード、上記以外のWebサイトの参照は可"
   ]
  },
  {
   "cell_type": "markdown",
   "metadata": {},
   "source": [
    "## 1  \n",
    "2進数、8進数、16進数の101を10進数で出力するコードを完成させなさい  \n",
    "コードは完成後実行して結果を出力すること"
   ]
  },
  {
   "cell_type": "code",
   "execution_count": 25,
   "metadata": {},
   "outputs": [
    {
     "name": "stdout",
     "output_type": "stream",
     "text": [
      "2進数の101は 5 です。\n",
      "8進数の101は 65 です。\n",
      "16進数の101は 257 です。\n"
     ]
    }
   ],
   "source": [
    "\n",
    "print(\"2進数の101は\",int('0b101',2), \"です。\")\n",
    "print(\"8進数の101は\",int('0o101',8), \"です。\")\n",
    "print(\"16進数の101は\",int('0x101',16), \"です。\")"
   ]
  },
  {
   "cell_type": "markdown",
   "metadata": {},
   "source": [
    "## 2 \n",
    "変数val1, val2, val3の演算について、式を追記してコードを完成させなさい  \n",
    "コードは完成後実行して結果を出力すること"
   ]
  },
  {
   "cell_type": "code",
   "execution_count": 3,
   "metadata": {
    "scrolled": true
   },
   "outputs": [
    {
     "name": "stdout",
     "output_type": "stream",
     "text": [
      "val1＋val2＋val3は 14 です。\n",
      "(val1＋val2)×val3は 49 です。\n",
      "val3 ÷ val1は商（整数部分）が 3 余りが 1 です。\n"
     ]
    }
   ],
   "source": [
    "val1 = 2\n",
    "val2 = 5\n",
    "val3 = 7\n",
    "\n",
    "print(\"val1＋val2＋val3は\", val1+val2+val3, \"です。\")\n",
    "print(\"(val1＋val2)×val3は\", (val1+val2)*val3, \"です。\")\n",
    "print(\"val3 ÷ val1は商（整数部分）が\", int(val3/val1), \"余りが\", val3%val1,\"です。\")"
   ]
  },
  {
   "cell_type": "markdown",
   "metadata": {},
   "source": [
    "3  \n",
    "キーボードから入力された売上個数と売上金額の数値によって出力する文章が変わるコードを記述しなさい  \n",
    "コードは完成後実行して結果を出力すること\n",
    "\n",
    "* 出力する文章の条件\n",
    "    * 売上個数が 0～24　→　売上個数はとても少ないです\n",
    "    * 売上個数が25～49　→　売上個数はやや少ないです\n",
    "    * 売上個数が50～74　→　売上個数はやや多いです\n",
    "    * 売上個数が75以上かつ売上金額が1000以上　→　売上個数はとても多く、売上金額も好調です\n",
    "    * 売上個数が75以上かつ売上金額が1000未満　→　売上個数はとても多いです\n",
    "\n",
    "なお、コードの実行時は以下の情報を入力すること\n",
    "* 売上個数：75\n",
    "* 売上金額：1000"
   ]
  },
  {
   "cell_type": "code",
   "execution_count": 19,
   "metadata": {
    "scrolled": true
   },
   "outputs": [
    {
     "name": "stdout",
     "output_type": "stream",
     "text": [
      "売上個数を入力してください：75\n",
      "金額を入力してください：1000\n",
      "売上個数はとても多く、売上金額も好調です\n",
      "売上個数： 75\n",
      "売上金額： 1000\n"
     ]
    }
   ],
   "source": [
    "## 入力された売上個数をnum, 入力された売上金額をsaleとする\n",
    "num = int(input(\"売上個数を入力してください：\"))\n",
    "sale = int(input(\"金額を入力してください：\"))\n",
    "\n",
    "if num >= 0 and num <= 24:\n",
    "    print(\"売上個数はとても少ないです\")\n",
    "elif num >= 25 and num < 50:\n",
    "    print(\"売上個数はやや少ないです\")\n",
    "elif num >= 50 and num < 75:\n",
    "    print(\"売上個数はやや多いです\")\n",
    "elif num >= 75 and sale >= 1000:\n",
    "    print(\"売上個数はとても多く、売上金額も好調です\")\n",
    "elif num >= 75 and sale < 1000:\n",
    "    print(\"売上個数はとても多いです\")\n",
    "\n",
    "print(\"売上個数：\",num)\n",
    "print(\"売上金額：\",sale)\n",
    "\n",
    "## 売上個数と売上金額によって出力する文章が変わるコードを記述する\n",
    "\n"
   ]
  },
  {
   "cell_type": "markdown",
   "metadata": {},
   "source": [
    "## 4\n",
    "range()関数を使用して、for文だけで2から10までの偶数を昇順に出力するコードを完成させなさい  \n",
    "コードは完成後実行して結果を出力すること\n",
    "```\n",
    "(出力)\n",
    "2 4 6 8 10\n",
    "```"
   ]
  },
  {
   "cell_type": "code",
   "execution_count": 28,
   "metadata": {
    "scrolled": false
   },
   "outputs": [
    {
     "name": "stdout",
     "output_type": "stream",
     "text": [
      "2 4 6 8 10 "
     ]
    }
   ],
   "source": [
    "### for i 以降のコードをrange()関数を使用して記述する\n",
    "for i in range(2,11, +2):\n",
    "    print(i, end=\" \")"
   ]
  },
  {
   "cell_type": "markdown",
   "metadata": {},
   "source": [
    "## 5\n",
    "以下に示す出力を行うコードを記述しなさい  \n",
    "コードは完成後実行して結果を出力すること\n",
    "\n",
    "```\n",
    "▲○▲○▲\n",
    "○▲○▲○\n",
    "▲○▲○▲\n",
    "○▲○▲○\n",
    "▲○▲○▲\n",
    "```"
   ]
  },
  {
   "cell_type": "code",
   "execution_count": 33,
   "metadata": {
    "scrolled": true
   },
   "outputs": [
    {
     "name": "stdout",
     "output_type": "stream",
     "text": [
      "▲○▲○▲\n",
      "○▲○▲○\n",
      "▲○▲○▲\n",
      "○▲○▲○\n",
      "▲○▲○▲\n"
     ]
    }
   ],
   "source": [
    "## 上に示した出力を行うコードを記述する\n",
    "for i in range(1, 6):\n",
    "    for y in range(0, 5):\n",
    "        if (i+y)%2 != 0:\n",
    "            print(\"▲\", end=\"\")\n",
    "        else :\n",
    "            print(\"○\", end=\"\")\n",
    "    print()\n"
   ]
  },
  {
   "cell_type": "markdown",
   "metadata": {},
   "source": [
    "## 6  \n",
    "1から8までの整数を要素を持つリストdataについて、  \n",
    "スライス指定を利用して、以下の条件で要素を出力するコードを完成させなさい  \n",
    "コードは完成後実行して結果を出力すること  \n",
    "1. インデックスが2～5の要素  \n",
    "1. インデックスが4以降の要素  \n",
    "1. 先頭から間隔2（1つおき）の要素  \n",
    "1. 逆順ですべての要素  \n",
    "\n",
    "\n",
    "* 出力\n",
    "```\n",
    "[3, 4, 5, 6]\n",
    "[5, 6, 7, 8]\n",
    "[1, 3, 5, 7]\n",
    "[8, 7, 6, 5, 4, 3, 2, 1]\n",
    "```"
   ]
  },
  {
   "cell_type": "code",
   "execution_count": 45,
   "metadata": {
    "scrolled": true
   },
   "outputs": [
    {
     "name": "stdout",
     "output_type": "stream",
     "text": [
      "[3, 4, 5, 6]\n",
      "[5, 6, 7, 8]\n",
      "[1, 3, 5, 7]\n",
      "[8, 7, 6, 5, 4, 3, 2, 1]\n"
     ]
    }
   ],
   "source": [
    "data = [1,2,3,4,5,6,7,8]\n",
    "\n",
    "## 1.インデックスが2～5の要素\n",
    "print(data[2:6])\n",
    "## 2.インデックスが4以降の要素\n",
    "print(data[4:])\n",
    "## 3.先頭から間隔2（1つおき）の要素\n",
    "print(data[0::2])\n",
    "## 4.逆順ですべての要素\n",
    "print(data[::-1])"
   ]
  },
  {
   "cell_type": "markdown",
   "metadata": {},
   "source": [
    "## 7\n",
    "1から12の整数をデータとして持つリストdata1について、リスト内包表記（コンプリヘンション）を利用して  \n",
    "奇数のみを4倍した数を持つリストdata2を作成し下に示す出力を行うコードを完成させなさい。  \n",
    "コードは完成後実行して結果を出力すること\n",
    "```\n",
    "出力\n",
    "[4, 12, 20, 28, 36, 44]\n",
    "```"
   ]
  },
  {
   "cell_type": "code",
   "execution_count": 48,
   "metadata": {},
   "outputs": [
    {
     "name": "stdout",
     "output_type": "stream",
     "text": [
      "[4, 12, 20, 28, 36, 44]\n"
     ]
    }
   ],
   "source": [
    "data1 = [1, 2, 3, 4, 5, 6, 7, 8, 9, 10, 11, 12]\n",
    "\n",
    "## リスト内包表記（コンプリヘンション）を利用して\n",
    "## 奇数のみを4倍した数を持つリストdata2を作成\n",
    "data2 = [i*4 for i in data1 if i%2!=0]\n",
    "print(data2)\n"
   ]
  },
  {
   "cell_type": "markdown",
   "metadata": {},
   "source": [
    "## 8 \n",
    "ディクショナリdataに対して、以下の処理を行うコードを完成させなさい  \n",
    "* キーボードからキーの入力を受ける\n",
    "* 入力されたキーがすでにdataにある場合、以下の出力を行う\n",
    "```\n",
    "（入力されたキー）のデータは存在しています。\n",
    "（入力されたキー）は（入力されたキーに対応する値）にあります。\n",
    "```\n",
    "* 入力されたキーがdataにない場合、さらに値の入力を受けて、dataに追加する\n",
    "\n",
    "コードを完成させた後、以下の情報を入力してコードを実行しなさい\n",
    "* キー：知床\n",
    "* 値：北海道"
   ]
  },
  {
   "cell_type": "code",
   "execution_count": 1,
   "metadata": {},
   "outputs": [
    {
     "name": "stdout",
     "output_type": "stream",
     "text": [
      "追加するキーを入力してください：知床\n",
      "追加する値を入力してください：北海道\n",
      "データを追加しました。\n",
      "現在のデータは {'法隆寺': '奈良県', '姫路城': '兵庫県', '屋久島': '鹿児島県', '厳島神社': '広島県', '知床': '北海道'} です。\n"
     ]
    }
   ],
   "source": [
    "data = {\"法隆寺\":\"奈良県\", \"姫路城\":\"兵庫県\", \"屋久島\":\"鹿児島県\", \"厳島神社\":\"広島県\"}\n",
    "\n",
    "k = input(\"追加するキーを入力してください：\")\n",
    "### １．if文を完成させる（入力されたキーがすでに存在している場合）\n",
    "if k in data:\n",
    "    print(k, \"のデータは存在しています。\")\n",
    "### ２．print文を完成させる（キーと値を出力する）\n",
    "    print(k, \"は\", data.get(k),\"にあります。\")\n",
    "else:\n",
    "    d = input(\"追加する値を入力してください：\")\n",
    "### ３．代入式を完成させる（キー：k、値：dの要素をdataに追加する）\n",
    "    data[k]= d\n",
    "    print(\"データを追加しました。\")\n",
    "print(\"現在のデータは\", data, \"です。\")"
   ]
  },
  {
   "cell_type": "markdown",
   "metadata": {},
   "source": [
    "## 9\n",
    "2つのセットdata1, data2について、集合演算を用いて以下の条件を満たす要素を出力するコードを完成させなさい  \n",
    "コードは完成後実行して結果を出力すること\n",
    "\n",
    "1. 共通するデータ  \n",
    "1. data1のみのデータ  \n",
    "1. すべてのデータ  \n",
    "\n",
    "\n",
    "* 出力\n",
    "```\n",
    "共通するデータは {1, 6} です。\n",
    "1のみのデータは {8, 2, 10, 4} です。\n",
    "すべてのデータは {1, 2, 3, 4, 5, 6, 7, 8, 9, 10} です。\n",
    "```"
   ]
  },
  {
   "cell_type": "code",
   "execution_count": 5,
   "metadata": {},
   "outputs": [
    {
     "name": "stdout",
     "output_type": "stream",
     "text": [
      "共通するデータは [1, 6] です。\n",
      "1のみのデータは [8, 2, 10, 4] です。\n",
      "すべてのデータは [1, 2, 3, 4, 5, 6, 7, 8, 9, 10] です。\n"
     ]
    }
   ],
   "source": [
    "data1 = {1, 2, 4, 6, 8, 10}\n",
    "data2 = {1, 3, 5, 6, 7, 9}\n",
    "\n",
    "print(\"共通するデータは\", list(set(data1)&set(data2)), \"です。\")\n",
    "print(\"1のみのデータは\", list(set(data1)-set(data2)), \"です。\")\n",
    "print(\"すべてのデータは\",list(set(data1)|set(data2)), \"です。\")"
   ]
  },
  {
   "cell_type": "markdown",
   "metadata": {},
   "source": [
    "## 10\n",
    "以下の入出力を行う関数func(price)を作成し、下のコードを完成させなさい  \n",
    "コードは完成後実行して結果を出力すること\n",
    "\n",
    "* 関数：**func(price)**\n",
    "    * 入力(引数)\n",
    "        * price:金額（単位：円、整数）  \n",
    "    * 出力（戻り値）\n",
    "        * 税込金額（単位：円、整数、税率は10%）  \n",
    "        （ただし、小数点以下の金額は切り捨てとする）\n",
    "\n",
    "\n",
    "* プログラム実行時の出力\n",
    "```\n",
    "税込金額は 165 円です\n",
    "```"
   ]
  },
  {
   "cell_type": "code",
   "execution_count": 7,
   "metadata": {},
   "outputs": [
    {
     "name": "stdout",
     "output_type": "stream",
     "text": [
      "税込金額は 165 円です\n"
     ]
    }
   ],
   "source": [
    "def func(price):\n",
    "    ## 関数を作成する\n",
    "    return int(price * 1.1)\n",
    "    \n",
    "    \n",
    "    \n",
    "    \n",
    "## 関数を利用した出力のためのコード（編集しないこと）\n",
    "p = 150\n",
    "print(\"税込金額は\", func(p), \"円です\")"
   ]
  },
  {
   "cell_type": "markdown",
   "metadata": {},
   "source": [
    "## 11 \n",
    "以下の入出力を行う関数func(price, tax_rate)を作成し、下のソースコードを完成させなさい  \n",
    "コードは完成後実行して結果を出力すること\n",
    "* 関数：**func(price, tax_rate)**\n",
    "    * 入力（引数）  \n",
    "        * price:金額（単位：円、整数）  \n",
    "        * tax_rate:税率（単位：%、整数、**デフォルト引数設定あり（デフォルト値:10）**）\n",
    "    * 出力（戻り値）  \n",
    "        * out_price：入力金額（単位：円、整数）\n",
    "        * out_tax：税額（単位：円、整数、小数点以下は切り捨て）\n",
    "        * out_sum_price：税込金額（単位：円、整数、小数点以下は切り捨て）\n",
    "\n",
    "\n",
    "* プログラム実行時の出力\n",
    "```\n",
    "税抜金額は 1250 円、税額は 125 円、合計金額は 1375 円です。\n",
    "```"
   ]
  },
  {
   "cell_type": "code",
   "execution_count": null,
   "metadata": {},
   "outputs": [],
   "source": [
    "## 関数を作成する\n",
    "## 引数、戻り値の部分も含め作成する\n",
    "def func(p):\n",
    "    \n",
    "\n",
    "\n",
    "\n",
    "\n",
    "## 関数を利用した出力のためのコード（編集しないこと）\n",
    "p = 1250\n",
    "out_p, out_t, out_sp = func(p)\n",
    "\n",
    "print(\"税抜金額は\", out_p, \"円、税額は\", out_t, \"円、合計金額は\", out_sp, \"円です。\")"
   ]
  },
  {
   "cell_type": "markdown",
   "metadata": {},
   "source": [
    "## 12 \n",
    "以下の属性（インスタンス属性）とメソッド（インスタンスメソッド）を持つクラスAnimalを定義し、  \n",
    "下のコードを完成させなさい。  \n",
    "コードは完成後実行して結果を出力すること。\n",
    "\n",
    "* クラス：**Animal**\n",
    "    * 属性\n",
    "        * name\n",
    "            * 名前、文字列\n",
    "        * age\n",
    "            * 年齢、文字列\n",
    "    * メソッド\n",
    "        * コンストラクタ\n",
    "            * インスタンス作成時に名前と年齢を設定できる\n",
    "        * getName(self)\n",
    "            * 名前を返す\n",
    "        * getAge(self)\n",
    "            * 年齢を返す\n",
    "            \n",
    "            \n",
    "* プログラム実行時の出力\n",
    "```\n",
    "はなこ は 3 才です。\n",
    "```"
   ]
  },
  {
   "cell_type": "code",
   "execution_count": 8,
   "metadata": {},
   "outputs": [
    {
     "name": "stdout",
     "output_type": "stream",
     "text": [
      "はなこ は 3 才です。\n"
     ]
    }
   ],
   "source": [
    "class Animal:\n",
    "\n",
    "    ## コンストラクタを定義する\n",
    "    def __init__(self, name, age):\n",
    "        self.name = name\n",
    "        self.age = age\n",
    "    \n",
    "    ## getNameメソッドを定義する\n",
    "    def getName(self):\n",
    "        return self.name\n",
    "\n",
    "    ## getAgeメソッドを定義する\n",
    "    def getAge(self):\n",
    "        return self.age\n",
    "\n",
    "## 関数を利用した出力のためのコード（編集しないこと）\n",
    "ani = Animal(\"はなこ\", 3)\n",
    "print(ani.getName(), \"は\", ani.getAge(), \"才です。\")"
   ]
  },
  {
   "cell_type": "markdown",
   "metadata": {},
   "source": [
    "## 13 \n",
    "12で作成したAnimalクラスの派生クラスとしてCatクラスを定義し、  \n",
    "下のコードを完成させなさい。  \n",
    "コードは完成後実行して結果を出力すること。  \n",
    "なお、Catクラスは以下の追加属性、メソッドを持つこととする。\n",
    "* クラス：**Cat**\n",
    "    * Animalクラスの派生クラス\n",
    "    * 属性\n",
    "        * color\n",
    "            * 色、文字列\n",
    "    * メソッド  \n",
    "        * コンストラクタ  \n",
    "            * 基底クラス（Animalクラス）のコンストラクタを使用して名前と年齢を設定する\n",
    "            * コンストラクタでcolorも設定できる  \n",
    "        * getColor(self)\n",
    "            * 色を返す\n",
    "        * getName(self)\n",
    "            * 基底クラスのメソッドのオーバーライド  \n",
    "            名前の後に\"（色：（設定されている色））\"をつけて返す\n",
    "\n",
    "\n",
    "* プログラム実行時の出力\n",
    "```\n",
    "マイケル（色：茶） は 5 才です。\n",
    "```"
   ]
  },
  {
   "cell_type": "code",
   "execution_count": 3,
   "metadata": {},
   "outputs": [
    {
     "name": "stdout",
     "output_type": "stream",
     "text": [
      "マイケル（色：茶） は 5 才です。\n"
     ]
    }
   ],
   "source": [
    "## Animalクラスは問題12と同じコードとなる\n",
    "class Animal:\n",
    "\n",
    "    ## コンストラクタを定義する\n",
    "    def __init__(self, name, age):\n",
    "        self.name = name\n",
    "        self.age = age\n",
    "\n",
    "    \n",
    "    ## getNameメソッドを定義する\n",
    "    def getName(self):\n",
    "        return self.name\n",
    "\n",
    "    ## getAgeメソッドを定義する\n",
    "    def getAge(self):\n",
    "        return self.age\n",
    "\n",
    "## Catクラスを定義する        \n",
    "class Cat(Animal):\n",
    "\n",
    "    ## コンストラクタを定義する\n",
    "    def __init__(self, na, ag, color):\n",
    "        super().__init__(na, ag)\n",
    "        self.color=color\n",
    "    \n",
    "    ## getColorメソッドを定義する\n",
    "    def getColor(self):\n",
    "        return self.color\n",
    "\n",
    "        \n",
    "    ## getNameメソッドをオーバーライドする\n",
    "    def getName(self):\n",
    "        return self.name + \"（色：\"+self.color+\"）\"\n",
    "        \n",
    "    \n",
    "## 関数を利用した出力のためのコード（編集しないこと）\n",
    "cat = Cat(\"マイケル\", 5, \"茶\")\n",
    "print(cat.getName(), \"は\", cat.getAge(), \"才です。\")"
   ]
  },
  {
   "cell_type": "markdown",
   "metadata": {},
   "source": [
    "## 14  \n",
    "リストprefsから**\\\"県\\\"で終わる要素のみを検索する**ための正規表現のパターンを変数patternに設定し、  \n",
    "コードを完成させなさい。  \n",
    "コードは完成後実行して結果を出力すること。  \n",
    "\n",
    "```\n",
    "出力\n",
    "['宮城県', '愛知県', '香川県', '大分県']\n",
    "```"
   ]
  },
  {
   "cell_type": "code",
   "execution_count": 9,
   "metadata": {},
   "outputs": [
    {
     "ename": "SyntaxError",
     "evalue": "invalid syntax (<ipython-input-9-1c937009d7f4>, line 6)",
     "output_type": "error",
     "traceback": [
      "\u001b[1;36m  File \u001b[1;32m\"<ipython-input-9-1c937009d7f4>\"\u001b[1;36m, line \u001b[1;32m6\u001b[0m\n\u001b[1;33m    pattern = [^県$]\u001b[0m\n\u001b[1;37m               ^\u001b[0m\n\u001b[1;31mSyntaxError\u001b[0m\u001b[1;31m:\u001b[0m invalid syntax\n"
     ]
    }
   ],
   "source": [
    "import re\n",
    "\n",
    "prefs = [\"北海道\", \"宮城県\", \"東京都\", \"愛知県\", \"京都府\", \"香川県\", \"大分県\", \"神奈川県警\", \"鹿児島県議会\"]\n",
    "\n",
    "## \"県\"で終わる要素のみ検索するための正規表現を定義する\n",
    "pattern = [^県$]\n",
    "\n",
    "## 作成したパターンによる検索を行うコード（編集しないこと）\n",
    "pattern = re.compile(pattern)\n",
    "ans = []\n",
    "for pref in prefs:\n",
    "    res = pattern.search(pref)\n",
    "    if res is not None:\n",
    "        ans.append(pref)\n",
    "\n",
    "print(ans)"
   ]
  },
  {
   "cell_type": "markdown",
   "metadata": {},
   "source": [
    "## 15\n",
    "テキストファイル\"Test.txt\"に文章を書き出して保存するコードを完成させなさい。  \n",
    "なお、\"Test.txt\"はオープンモード\"w\"で開くこととする。  \n",
    "**この問題はコードを実行する必要はありません**"
   ]
  },
  {
   "cell_type": "code",
   "execution_count": 17,
   "metadata": {},
   "outputs": [],
   "source": [
    "## \"Test.txt\"を開くコードを記述する\n",
    "f = open(\"Test.txt\", 'w') as f:\n",
    "\n",
    "## \"Test.txt\"に文章を出力するコードを完成させる\n",
    "f.write(\"Pythonは強力で、\\n\")\n",
    "f.write(\"学びやすいプログラミング言語です。\\n\")\n",
    "\n",
    "## \"Test.txt\"を閉じるコードを記述する\n",
    "f.close()"
   ]
  },
  {
   "cell_type": "markdown",
   "metadata": {},
   "source": [
    "## 16\n",
    "sqlite3モジュールを利用して、データベースに接続し、データの入出力を行うコードを完成させなさい。  \n",
    "コードは完成後実行して結果を出力すること。\n",
    "\n",
    "* 処理内容\n",
    "    * 接続DB名：**test.db**\n",
    "    * 作成Table名：**city**\n",
    "    * 登録データ：下表の通り（表の1行目は列名（型））   \n",
    "    * 出力データ：areaが500以上のデータ\n",
    "\n",
    "| name(CHAR(20)) | area(INT) |\n",
    "| ---- | ---------- |\n",
    "| 札幌市 | 1121 |\n",
    "| 函館市 | 678 |\n",
    "| 小樽市 | 244 |\n",
    "| 旭川市 | 748 |\n",
    "| 室蘭市 | 81 |\n",
    "| 釧路市 | 1363 |\n",
    "\n",
    "\n",
    "* 出力\n",
    "```\n",
    "('札幌市', 1121)('函館市', 678)('旭川市', 748)('釧路市', 1363)\n",
    "```"
   ]
  },
  {
   "cell_type": "code",
   "execution_count": 13,
   "metadata": {},
   "outputs": [
    {
     "name": "stdout",
     "output_type": "stream",
     "text": [
      "('札幌市', 1121)('函館市', 678)('旭川市', 748)('釧路市', 1363)"
     ]
    }
   ],
   "source": [
    "import sqlite3\n",
    "\n",
    "## \"test.db\"への接続\n",
    "conn = \n",
    "\n",
    "## カーソルの取得\n",
    "c = \n",
    "\n",
    "## すでにテーブル（city）がある場合削除する\n",
    "c.      (\"DROP TABLE IF EXISTS city\")\n",
    "\n",
    "## SQL文の発行（テーブル（city）の作成）\n",
    "c.\n",
    "## SQL文の発行（データの登録）\n",
    "c.\n",
    "c.\n",
    "c.\n",
    "c.\n",
    "c.\n",
    "c.\n",
    "\n",
    "## コミット\n",
    "conn.\n",
    "\n",
    "## SQL文の発行（面積（area）が500以上のデータの取得）\n",
    "itr = c.\n",
    "\n",
    "## 取得結果の出力（編集しないこと）\n",
    "for row in itr:\n",
    "    print(row, end=\"\")\n",
    "    \n",
    "## DBのクローズ\n",
    "conn."
   ]
  }
 ],
 "metadata": {
  "kernelspec": {
   "display_name": "Python 3",
   "language": "python",
   "name": "python3"
  }
 },
 "nbformat": 4,
 "nbformat_minor": 2
}
