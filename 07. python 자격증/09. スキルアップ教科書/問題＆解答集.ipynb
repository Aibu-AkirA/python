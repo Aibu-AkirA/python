{
 "cells": [
  {
   "cell_type": "markdown",
   "metadata": {},
   "source": [
    "# 2.1"
   ]
  },
  {
   "cell_type": "markdown",
   "metadata": {},
   "source": [
    "## 問題1-1"
   ]
  },
  {
   "cell_type": "markdown",
   "metadata": {},
   "source": [
    "　２つの自然数、２５３と３４１の最大公約数を求めなさい。最大公約数とは、２つの自然数に共通の約数のことですよ。\n"
   ]
  },
  {
   "cell_type": "markdown",
   "metadata": {},
   "source": [
    "## 解答"
   ]
  },
  {
   "cell_type": "code",
   "execution_count": 33,
   "metadata": {},
   "outputs": [
    {
     "data": {
      "text/plain": [
       "88"
      ]
     },
     "execution_count": 33,
     "metadata": {},
     "output_type": "execute_result"
    }
   ],
   "source": [
    "341 % 253"
   ]
  },
  {
   "cell_type": "code",
   "execution_count": 34,
   "metadata": {},
   "outputs": [
    {
     "data": {
      "text/plain": [
       "77"
      ]
     },
     "execution_count": 34,
     "metadata": {},
     "output_type": "execute_result"
    }
   ],
   "source": [
    "253 % 88"
   ]
  },
  {
   "cell_type": "code",
   "execution_count": 35,
   "metadata": {},
   "outputs": [
    {
     "data": {
      "text/plain": [
       "11"
      ]
     },
     "execution_count": 35,
     "metadata": {},
     "output_type": "execute_result"
    }
   ],
   "source": [
    "88 % 77"
   ]
  },
  {
   "cell_type": "code",
   "execution_count": 36,
   "metadata": {},
   "outputs": [
    {
     "data": {
      "text/plain": [
       "0"
      ]
     },
     "execution_count": 36,
     "metadata": {},
     "output_type": "execute_result"
    }
   ],
   "source": [
    "77 % 11"
   ]
  },
  {
   "cell_type": "markdown",
   "metadata": {},
   "source": [
    "## 問題 1-2"
   ]
  },
  {
   "cell_type": "markdown",
   "metadata": {},
   "source": [
    "　２つの自然数、２５３と３４１の最大公約数を求めなさい。最大公約数とは、２つの自然数に共通の約数のことですよ。（関数を用いて解きなさい）\n"
   ]
  },
  {
   "cell_type": "markdown",
   "metadata": {},
   "source": [
    "## 解答"
   ]
  },
  {
   "cell_type": "code",
   "execution_count": 37,
   "metadata": {},
   "outputs": [
    {
     "data": {
      "text/plain": [
       "11"
      ]
     },
     "execution_count": 37,
     "metadata": {},
     "output_type": "execute_result"
    }
   ],
   "source": [
    "import math\n",
    "math.gcd(253, 341)"
   ]
  },
  {
   "cell_type": "markdown",
   "metadata": {},
   "source": [
    "## 問題2-1"
   ]
  },
  {
   "cell_type": "markdown",
   "metadata": {},
   "source": [
    "　$9^{22}$を23で割った余りを求めてください。また、$22^{22}$を23で割った余りを求めてください。"
   ]
  },
  {
   "cell_type": "markdown",
   "metadata": {},
   "source": [
    "## 解答"
   ]
  },
  {
   "cell_type": "code",
   "execution_count": 9,
   "metadata": {},
   "outputs": [
    {
     "data": {
      "text/plain": [
       "1"
      ]
     },
     "execution_count": 9,
     "metadata": {},
     "output_type": "execute_result"
    }
   ],
   "source": [
    "9 ** 22 % 23"
   ]
  },
  {
   "cell_type": "markdown",
   "metadata": {},
   "source": [
    "## 問題2-2"
   ]
  },
  {
   "cell_type": "markdown",
   "metadata": {},
   "source": [
    "　$9^{22}$を23で割った余りを求めてください。また、$22^{22}$を23で割った余りを求めてください。（関数を用いて解きなさい）"
   ]
  },
  {
   "cell_type": "markdown",
   "metadata": {},
   "source": [
    "## 解答"
   ]
  },
  {
   "cell_type": "code",
   "execution_count": 10,
   "metadata": {},
   "outputs": [
    {
     "data": {
      "text/plain": [
       "1"
      ]
     },
     "execution_count": 10,
     "metadata": {},
     "output_type": "execute_result"
    }
   ],
   "source": [
    "pow(9, 22, 23)"
   ]
  },
  {
   "cell_type": "markdown",
   "metadata": {},
   "source": [
    "# 2.2"
   ]
  },
  {
   "cell_type": "markdown",
   "metadata": {},
   "source": [
    "## 問題"
   ]
  },
  {
   "cell_type": "markdown",
   "metadata": {},
   "source": [
    "次のコードのうち、変数を用意するコードとして最も適切なものを１つ選びなさい。また、適切でない理由も合わせて答えなさい。\n",
    "1. my_value = 128  \n",
    "1. 八百万 = 800 * 10000  \n",
    "1. list = 10  \n",
    "1. as = 20  \n"
   ]
  },
  {
   "cell_type": "markdown",
   "metadata": {},
   "source": [
    "## 解答"
   ]
  },
  {
   "cell_type": "markdown",
   "metadata": {},
   "source": [
    "①"
   ]
  },
  {
   "cell_type": "markdown",
   "metadata": {},
   "source": [
    "# 2.3"
   ]
  },
  {
   "cell_type": "markdown",
   "metadata": {},
   "source": [
    "## 問題"
   ]
  },
  {
   "cell_type": "markdown",
   "metadata": {},
   "source": [
    "2つの整数aとbから作られる分数$ \\frac{a}{b} $を少数で表現することを考える。a = 12、b = 55とした際に、この分数を正確に10進数の少数で表現しなさい。  \n",
    "組み込み関数divmodを使うと割り算の商と余りを同時に計算できるから便利かもね"
   ]
  },
  {
   "cell_type": "markdown",
   "metadata": {},
   "source": [
    "## 解答"
   ]
  },
  {
   "cell_type": "code",
   "execution_count": 11,
   "metadata": {},
   "outputs": [
    {
     "data": {
      "text/plain": [
       "0.21818181818181817"
      ]
     },
     "execution_count": 11,
     "metadata": {},
     "output_type": "execute_result"
    }
   ],
   "source": [
    "12/55"
   ]
  },
  {
   "cell_type": "code",
   "execution_count": 12,
   "metadata": {},
   "outputs": [
    {
     "data": {
      "text/plain": [
       "(0, 12)"
      ]
     },
     "execution_count": 12,
     "metadata": {},
     "output_type": "execute_result"
    }
   ],
   "source": [
    "divmod(12,55)"
   ]
  },
  {
   "cell_type": "markdown",
   "metadata": {},
   "source": [
    "# 2.4"
   ]
  },
  {
   "cell_type": "markdown",
   "metadata": {},
   "source": [
    "## 問題"
   ]
  },
  {
   "cell_type": "markdown",
   "metadata": {},
   "source": [
    "23（10進数）の2進数表記を得るコードを書きなさい。bin関数を使わずに書くことを望んでいます。"
   ]
  },
  {
   "cell_type": "markdown",
   "metadata": {},
   "source": [
    "## 解答"
   ]
  },
  {
   "cell_type": "code",
   "execution_count": 13,
   "metadata": {},
   "outputs": [
    {
     "name": "stdout",
     "output_type": "stream",
     "text": [
      "1\n",
      "11\n",
      "111\n",
      "0111\n",
      "10111\n"
     ]
    }
   ],
   "source": [
    "b23 = ''\n",
    "a = 23\n",
    "while a != 0:\n",
    "    a, r = divmod(a, 2)\n",
    "    b23 = str(r) + b23\n",
    "    print(b23)"
   ]
  },
  {
   "cell_type": "markdown",
   "metadata": {},
   "source": [
    "# 2.5"
   ]
  },
  {
   "cell_type": "markdown",
   "metadata": {},
   "source": [
    "## 問題"
   ]
  },
  {
   "cell_type": "markdown",
   "metadata": {},
   "source": [
    "次のコードのうちエラーになるものを選びなさい。\n",
    "1. print('abc',5)\n",
    "1. 'abc'+'5'\n",
    "1. 'abc'+int(\"5\")\n",
    "1. str(5)+'abc'"
   ]
  },
  {
   "cell_type": "markdown",
   "metadata": {},
   "source": [
    "## 解答"
   ]
  },
  {
   "cell_type": "markdown",
   "metadata": {},
   "source": [
    "③"
   ]
  },
  {
   "cell_type": "markdown",
   "metadata": {},
   "source": [
    "## 問題"
   ]
  },
  {
   "cell_type": "markdown",
   "metadata": {},
   "source": [
    "3*3のマスに黒色の丸を敷き詰めた！  \n",
    "●●●  \n",
    "●●●  \n",
    "●●●  \n",
    "ほげほげした結果  \n",
    "〇●●  \n",
    "●〇●  \n",
    "●●〇  \n",
    "白色の丸に変わった！  \n",
    "  \n",
    "二つの文字列を画面に出力してください。  "
   ]
  },
  {
   "cell_type": "markdown",
   "metadata": {},
   "source": [
    "## 解答"
   ]
  },
  {
   "cell_type": "code",
   "execution_count": 15,
   "metadata": {},
   "outputs": [
    {
     "name": "stdout",
     "output_type": "stream",
     "text": [
      "〇●●\n",
      "●〇●\n",
      "●●〇\n",
      "\n"
     ]
    }
   ],
   "source": [
    "w = '〇'\n",
    "b = '●'\n",
    "answer = ''\n",
    "for i in range(3):\n",
    "    for j in range(3):\n",
    "        if i == j:\n",
    "            answer += w\n",
    "        else:\n",
    "            answer += b\n",
    "    answer += '\\n'\n",
    "print(answer)"
   ]
  },
  {
   "cell_type": "markdown",
   "metadata": {},
   "source": [
    "# 2.6"
   ]
  },
  {
   "cell_type": "markdown",
   "metadata": {},
   "source": [
    "## 問題"
   ]
  },
  {
   "cell_type": "markdown",
   "metadata": {},
   "source": [
    "次のソースを実行した結果を書きなさい。エラー等が出る場合はどのようなエラーが出るのかと、なぜエラーが出るのかを説明しなさい。  \n",
    "```Python\n",
    "my_str = 'abcdefg'\n",
    "print(my_str[-10])\n",
    "```"
   ]
  },
  {
   "cell_type": "markdown",
   "metadata": {},
   "source": [
    "## 解答"
   ]
  },
  {
   "cell_type": "markdown",
   "metadata": {},
   "source": [
    "インデックスが文字列の範囲外を指定しているためエラーとなる"
   ]
  },
  {
   "cell_type": "code",
   "execution_count": 16,
   "metadata": {},
   "outputs": [
    {
     "ename": "IndexError",
     "evalue": "string index out of range",
     "output_type": "error",
     "traceback": [
      "\u001b[1;31m---------------------------------------------------------------------------\u001b[0m",
      "\u001b[1;31mIndexError\u001b[0m                                Traceback (most recent call last)",
      "\u001b[1;32m<ipython-input-16-6cb1ee327eb3>\u001b[0m in \u001b[0;36m<module>\u001b[1;34m\u001b[0m\n\u001b[0;32m      1\u001b[0m \u001b[0mmy_str\u001b[0m \u001b[1;33m=\u001b[0m \u001b[1;34m'abcdefg'\u001b[0m\u001b[1;33m\u001b[0m\u001b[1;33m\u001b[0m\u001b[0m\n\u001b[1;32m----> 2\u001b[1;33m \u001b[0mprint\u001b[0m\u001b[1;33m(\u001b[0m\u001b[0mmy_str\u001b[0m\u001b[1;33m[\u001b[0m\u001b[1;33m-\u001b[0m\u001b[1;36m10\u001b[0m\u001b[1;33m]\u001b[0m\u001b[1;33m)\u001b[0m\u001b[1;33m\u001b[0m\u001b[1;33m\u001b[0m\u001b[0m\n\u001b[0m",
      "\u001b[1;31mIndexError\u001b[0m: string index out of range"
     ]
    }
   ],
   "source": [
    "my_str = 'abcdefg'\n",
    "print(my_str[-10])"
   ]
  },
  {
   "cell_type": "markdown",
   "metadata": {},
   "source": [
    "## 問題"
   ]
  },
  {
   "cell_type": "markdown",
   "metadata": {},
   "source": [
    "次のソースを実行した結果を書きなさい。エラー等が出る場合はどのようなエラーが出るのかと、なぜエラーが出るのかを説明しなさい。 \n",
    "```Python\n",
    "title = 'address'\n",
    "value = 'tokyo'\n",
    "string = '{}:{}'\n",
    "print(string.format(title,value))\n",
    "```"
   ]
  },
  {
   "cell_type": "markdown",
   "metadata": {},
   "source": [
    "## 解答"
   ]
  },
  {
   "cell_type": "code",
   "execution_count": 17,
   "metadata": {},
   "outputs": [
    {
     "name": "stdout",
     "output_type": "stream",
     "text": [
      "address:tokyo\n"
     ]
    }
   ],
   "source": [
    "title = 'address'\n",
    "value = 'tokyo'\n",
    "string = '{}:{}'\n",
    "print(string.format(title,value))"
   ]
  },
  {
   "cell_type": "markdown",
   "metadata": {},
   "source": [
    "# 2.7"
   ]
  },
  {
   "cell_type": "markdown",
   "metadata": {},
   "source": [
    "## 問題"
   ]
  },
  {
   "cell_type": "markdown",
   "metadata": {},
   "source": [
    "空リストを用意して、文字列'orange','apple','grape','banana'を要素として追加しよう"
   ]
  },
  {
   "cell_type": "markdown",
   "metadata": {},
   "source": [
    "## 解答"
   ]
  },
  {
   "cell_type": "code",
   "execution_count": 18,
   "metadata": {
    "scrolled": true
   },
   "outputs": [
    {
     "name": "stdout",
     "output_type": "stream",
     "text": [
      "['orange', 'apple', 'grape', 'banana']\n"
     ]
    }
   ],
   "source": [
    "my_list = []\n",
    "my_list.append('orange')\n",
    "my_list.append('apple')\n",
    "my_list.append('grape')\n",
    "my_list.append('banana')\n",
    "print(my_list)"
   ]
  },
  {
   "cell_type": "markdown",
   "metadata": {},
   "source": [
    "## 問題"
   ]
  },
  {
   "cell_type": "markdown",
   "metadata": {},
   "source": [
    "問題１の文字列要素のリストを昇順および降順で並び替えなさい"
   ]
  },
  {
   "cell_type": "markdown",
   "metadata": {},
   "source": [
    "## 解答"
   ]
  },
  {
   "cell_type": "code",
   "execution_count": 19,
   "metadata": {},
   "outputs": [
    {
     "name": "stdout",
     "output_type": "stream",
     "text": [
      "['apple', 'banana', 'grape', 'orange']\n"
     ]
    }
   ],
   "source": [
    "# 昇順\n",
    "my_list = ['orange', 'apple', 'grape', 'banana']\n",
    "my_list.sort()\n",
    "print(my_list)"
   ]
  },
  {
   "cell_type": "code",
   "execution_count": 20,
   "metadata": {},
   "outputs": [
    {
     "name": "stdout",
     "output_type": "stream",
     "text": [
      "['orange', 'grape', 'banana', 'apple']\n"
     ]
    }
   ],
   "source": [
    "# 降順\n",
    "my_list = ['orange', 'apple', 'grape', 'banana']\n",
    "my_list.sort(reverse= True)\n",
    "print(my_list)"
   ]
  },
  {
   "cell_type": "markdown",
   "metadata": {},
   "source": [
    "# 2.8"
   ]
  },
  {
   "cell_type": "markdown",
   "metadata": {},
   "source": [
    "## 問題"
   ]
  },
  {
   "cell_type": "markdown",
   "metadata": {},
   "source": [
    "1から10までの数値が格納されたリストから、偶数の要素だけを逆順に取り出したリストを作ってください"
   ]
  },
  {
   "cell_type": "markdown",
   "metadata": {},
   "source": [
    "## 解答"
   ]
  },
  {
   "cell_type": "code",
   "execution_count": 21,
   "metadata": {},
   "outputs": [
    {
     "name": "stdout",
     "output_type": "stream",
     "text": [
      "[10, 8, 6, 4, 2]\n"
     ]
    }
   ],
   "source": [
    "my_list = [1, 2, 3, 4, 5, 6, 7, 8, 9, 10]\n",
    "reverse_even = my_list[::-2]\n",
    "print(reverse_even)"
   ]
  },
  {
   "cell_type": "markdown",
   "metadata": {},
   "source": [
    "## 問題"
   ]
  },
  {
   "cell_type": "markdown",
   "metadata": {},
   "source": [
    "リストの概念を用いて  \n",
    "I habe an apple.  \n",
    "を  \n",
    "I have a pineapple.  \n",
    "に変更しよう  "
   ]
  },
  {
   "cell_type": "markdown",
   "metadata": {},
   "source": [
    "## 解答"
   ]
  },
  {
   "cell_type": "code",
   "execution_count": 22,
   "metadata": {},
   "outputs": [
    {
     "name": "stdout",
     "output_type": "stream",
     "text": [
      "['I', 'have', 'a', 'pineapple', '.']\n"
     ]
    }
   ],
   "source": [
    "my_list = ['I', 'have', 'an', 'apple', '.']\n",
    "my_list[2:4] = ['a', 'pineapple']\n",
    "print(my_list)"
   ]
  },
  {
   "cell_type": "markdown",
   "metadata": {},
   "source": [
    "# 2.9"
   ]
  },
  {
   "cell_type": "markdown",
   "metadata": {},
   "source": [
    "## 問題"
   ]
  },
  {
   "cell_type": "markdown",
   "metadata": {},
   "source": [
    "次の値は何になりますか？\n",
    "```Python\n",
    "print('apple' in ['pineapple','orange','banana'])\n",
    "```"
   ]
  },
  {
   "cell_type": "markdown",
   "metadata": {},
   "source": [
    "## 解答"
   ]
  },
  {
   "cell_type": "code",
   "execution_count": 23,
   "metadata": {},
   "outputs": [
    {
     "name": "stdout",
     "output_type": "stream",
     "text": [
      "False\n"
     ]
    }
   ],
   "source": [
    "print('apple' in ['pineapple','orange','banana'])"
   ]
  },
  {
   "cell_type": "markdown",
   "metadata": {},
   "source": [
    "## 問題"
   ]
  },
  {
   "cell_type": "markdown",
   "metadata": {},
   "source": [
    "3つの変数がそれぞれ次の値の場合、以下に示す3つの式の値は何になりますか？  \n",
    "x = True  \n",
    "y = False  \n",
    "z = None  \n",
    "  \n",
    "1. x and z is None  \n",
    "1. not x or not y  \n",
    "1. x and not y and z is None  "
   ]
  },
  {
   "cell_type": "markdown",
   "metadata": {},
   "source": [
    "## 解答"
   ]
  },
  {
   "cell_type": "code",
   "execution_count": 24,
   "metadata": {},
   "outputs": [
    {
     "name": "stdout",
     "output_type": "stream",
     "text": [
      "True\n",
      "True\n",
      "True\n"
     ]
    }
   ],
   "source": [
    "x = True\n",
    "y = False\n",
    "z = None\n",
    "print(x and z is None)\n",
    "print(not x or not y)\n",
    "print(x and not y and z is None)"
   ]
  },
  {
   "cell_type": "markdown",
   "metadata": {},
   "source": [
    "# 2.10"
   ]
  },
  {
   "cell_type": "markdown",
   "metadata": {},
   "source": [
    "## 問題"
   ]
  },
  {
   "cell_type": "markdown",
   "metadata": {},
   "source": [
    "２０を３で割って得られる商を余りでべき乗すると、値はいくつになりますか？組み込み関数を用いて一行で書くこと。"
   ]
  },
  {
   "cell_type": "markdown",
   "metadata": {},
   "source": [
    "## 解答"
   ]
  },
  {
   "cell_type": "code",
   "execution_count": 25,
   "metadata": {},
   "outputs": [
    {
     "data": {
      "text/plain": [
       "36"
      ]
     },
     "execution_count": 25,
     "metadata": {},
     "output_type": "execute_result"
    }
   ],
   "source": [
    "pow(*divmod(20, 3))"
   ]
  },
  {
   "cell_type": "markdown",
   "metadata": {},
   "source": [
    "## 問題"
   ]
  },
  {
   "cell_type": "markdown",
   "metadata": {},
   "source": [
    "整数を格納したリストのすべての要素を、文字列に変換するコードを書いてください。sample_list = [2,3,4]などとして、適当なデータを用意してください。"
   ]
  },
  {
   "cell_type": "markdown",
   "metadata": {},
   "source": [
    "## 解答"
   ]
  },
  {
   "cell_type": "code",
   "execution_count": 26,
   "metadata": {},
   "outputs": [
    {
     "data": {
      "text/plain": [
       "['2', '3', '4']"
      ]
     },
     "execution_count": 26,
     "metadata": {},
     "output_type": "execute_result"
    }
   ],
   "source": [
    "sample_list = [2, 3, 4]\n",
    "list(map(str, sample_list))"
   ]
  },
  {
   "cell_type": "markdown",
   "metadata": {},
   "source": [
    "# 2.11"
   ]
  },
  {
   "cell_type": "markdown",
   "metadata": {},
   "source": [
    "## 問題"
   ]
  },
  {
   "cell_type": "markdown",
   "metadata": {},
   "source": [
    "以下の処理を実行した後で、変数ｃの値がいくつになるか答えなさい\n",
    "```Python\n",
    "a, b, c, d = 1, 2, 3, 4\n",
    "a, b, c, d = c, d, a, b\n",
    "```"
   ]
  },
  {
   "cell_type": "markdown",
   "metadata": {},
   "source": [
    "## 解答"
   ]
  },
  {
   "cell_type": "code",
   "execution_count": 27,
   "metadata": {},
   "outputs": [
    {
     "name": "stdout",
     "output_type": "stream",
     "text": [
      "1\n"
     ]
    }
   ],
   "source": [
    "a, b, c, d = 1, 2, 3, 4\n",
    "a, b, c, d = c, d, a, b\n",
    "print(c)"
   ]
  },
  {
   "cell_type": "markdown",
   "metadata": {},
   "source": [
    "## 問題"
   ]
  },
  {
   "cell_type": "markdown",
   "metadata": {},
   "source": [
    "以下の処理を実行後、変数aの値がいくつになるか答えなさい\n",
    "```Python\n",
    "a = 1\n",
    "b = 2\n",
    "a, b = b, a + b\n",
    "a, b = b, a + b\n",
    "```"
   ]
  },
  {
   "cell_type": "markdown",
   "metadata": {},
   "source": [
    "## 解答"
   ]
  },
  {
   "cell_type": "code",
   "execution_count": 28,
   "metadata": {},
   "outputs": [
    {
     "name": "stdout",
     "output_type": "stream",
     "text": [
      "3\n"
     ]
    }
   ],
   "source": [
    "a = 1\n",
    "b = 2\n",
    "a, b = b, a + b\n",
    "a, b = b, a + b\n",
    "print(a)"
   ]
  },
  {
   "cell_type": "markdown",
   "metadata": {},
   "source": [
    "# 2.12"
   ]
  },
  {
   "cell_type": "markdown",
   "metadata": {},
   "source": [
    "## 問題"
   ]
  },
  {
   "cell_type": "markdown",
   "metadata": {},
   "source": [
    "以下のコードを実行した結果を求めなさい\n",
    "```Python\n",
    "import math\n",
    "print(math.pow(2,3))\n",
    "```"
   ]
  },
  {
   "cell_type": "markdown",
   "metadata": {},
   "source": [
    "## 解答"
   ]
  },
  {
   "cell_type": "code",
   "execution_count": 29,
   "metadata": {},
   "outputs": [
    {
     "name": "stdout",
     "output_type": "stream",
     "text": [
      "8.0\n"
     ]
    }
   ],
   "source": [
    "import math\n",
    "print(math.pow(2,3))"
   ]
  },
  {
   "cell_type": "markdown",
   "metadata": {},
   "source": [
    "## 問題"
   ]
  },
  {
   "cell_type": "markdown",
   "metadata": {},
   "source": [
    "randomモジュールをインポートし忘れて下記コードを実行した。どのような結果になるか求めなさい\n",
    "```Python\n",
    "print(random.randint(0,10))\n",
    "```"
   ]
  },
  {
   "cell_type": "markdown",
   "metadata": {},
   "source": [
    "## 解答"
   ]
  },
  {
   "cell_type": "markdown",
   "metadata": {},
   "source": [
    "　random モジュールのクラスやメソッドは、 random モジュールをインポートしないと使用できません"
   ]
  },
  {
   "cell_type": "code",
   "execution_count": 33,
   "metadata": {},
   "outputs": [
    {
     "ename": "NameError",
     "evalue": "name 'random' is not defined",
     "output_type": "error",
     "traceback": [
      "\u001b[1;31m---------------------------------------------------------------------------\u001b[0m",
      "\u001b[1;31mNameError\u001b[0m                                 Traceback (most recent call last)",
      "\u001b[1;32m<ipython-input-33-3b31fae43204>\u001b[0m in \u001b[0;36m<module>\u001b[1;34m\u001b[0m\n\u001b[1;32m----> 1\u001b[1;33m \u001b[0mprint\u001b[0m\u001b[1;33m(\u001b[0m\u001b[0mrandom\u001b[0m\u001b[1;33m.\u001b[0m\u001b[0mrandint\u001b[0m\u001b[1;33m(\u001b[0m\u001b[1;36m0\u001b[0m\u001b[1;33m,\u001b[0m\u001b[1;36m10\u001b[0m\u001b[1;33m)\u001b[0m\u001b[1;33m)\u001b[0m\u001b[1;33m\u001b[0m\u001b[1;33m\u001b[0m\u001b[0m\n\u001b[0m",
      "\u001b[1;31mNameError\u001b[0m: name 'random' is not defined"
     ]
    }
   ],
   "source": [
    "print(random.randint(0,10))"
   ]
  },
  {
   "cell_type": "markdown",
   "metadata": {},
   "source": [
    "# 2.13"
   ]
  },
  {
   "cell_type": "markdown",
   "metadata": {},
   "source": [
    "## 問題"
   ]
  },
  {
   "cell_type": "markdown",
   "metadata": {},
   "source": [
    "次のコードの結果はどうなりますか？\n",
    "```Python\n",
    "from math import pow\n",
    "pow(2,3)\n",
    "```"
   ]
  },
  {
   "cell_type": "markdown",
   "metadata": {},
   "source": [
    "## 解答"
   ]
  },
  {
   "cell_type": "code",
   "execution_count": 34,
   "metadata": {},
   "outputs": [
    {
     "data": {
      "text/plain": [
       "8.0"
      ]
     },
     "execution_count": 34,
     "metadata": {},
     "output_type": "execute_result"
    }
   ],
   "source": [
    "from math import pow\n",
    "pow(2,3)"
   ]
  },
  {
   "cell_type": "markdown",
   "metadata": {},
   "source": [
    "## 問題"
   ]
  },
  {
   "cell_type": "markdown",
   "metadata": {},
   "source": [
    "次のプログラムの挙動を確認してください\n",
    "```Python\n",
    "import random\n",
    "from random import randint\n",
    "\n",
    "print(random,randint(0,10))\n",
    "print(randint(0,10))\n",
    "```"
   ]
  },
  {
   "cell_type": "markdown",
   "metadata": {},
   "source": [
    "## 解答"
   ]
  },
  {
   "cell_type": "code",
   "execution_count": 35,
   "metadata": {},
   "outputs": [
    {
     "name": "stdout",
     "output_type": "stream",
     "text": [
      "<module 'random' from 'C:\\\\Users\\\\student\\\\anaconda3\\\\lib\\\\random.py'> 0\n",
      "9\n"
     ]
    }
   ],
   "source": [
    "import random\n",
    "from random import randint\n",
    "\n",
    "print(random,randint(0,10))\n",
    "print(randint(0,10))"
   ]
  },
  {
   "cell_type": "markdown",
   "metadata": {},
   "source": [
    "# 3.1"
   ]
  },
  {
   "cell_type": "markdown",
   "metadata": {},
   "source": [
    "## 問題1"
   ]
  },
  {
   "cell_type": "markdown",
   "metadata": {},
   "source": [
    "次のプログラムを実行した結果を求めなさい\n",
    "```Python\n",
    "a = 100\n",
    "if a>= 10:\n",
    "    print(a)\n",
    "```"
   ]
  },
  {
   "cell_type": "markdown",
   "metadata": {},
   "source": [
    "## 解答"
   ]
  },
  {
   "cell_type": "code",
   "execution_count": 41,
   "metadata": {},
   "outputs": [
    {
     "name": "stdout",
     "output_type": "stream",
     "text": [
      "100\n"
     ]
    }
   ],
   "source": [
    "a = 100\n",
    "if a>= 10:\n",
    "    print(a)"
   ]
  },
  {
   "cell_type": "markdown",
   "metadata": {},
   "source": [
    "## 問題2"
   ]
  },
  {
   "cell_type": "markdown",
   "metadata": {},
   "source": [
    "次のプログラムを実行した結果を求めなさい\n",
    "```Python\n",
    "a = 0\n",
    "if a == 0:\n",
    "    a += 1\n",
    "    a *= 2\n",
    "    a -= 1\n",
    "print(a)\n",
    "```"
   ]
  },
  {
   "cell_type": "markdown",
   "metadata": {},
   "source": [
    "## 解答"
   ]
  },
  {
   "cell_type": "code",
   "execution_count": 42,
   "metadata": {},
   "outputs": [
    {
     "name": "stdout",
     "output_type": "stream",
     "text": [
      "1\n"
     ]
    }
   ],
   "source": [
    "a = 0\n",
    "if a == 0:\n",
    "    a += 1\n",
    "    a *= 2\n",
    "    a -= 1\n",
    "print(a)"
   ]
  },
  {
   "cell_type": "markdown",
   "metadata": {},
   "source": [
    "# 3.2"
   ]
  },
  {
   "cell_type": "markdown",
   "metadata": {},
   "source": [
    "## 問題"
   ]
  },
  {
   "cell_type": "markdown",
   "metadata": {},
   "source": [
    "次の処理を実行した後、変数aの値は何になるでしょうか\n",
    "```Python\n",
    "a = 10\n",
    "if a > 10:\n",
    "    a /= 2\n",
    "else:\n",
    "    a += 1\n",
    "```"
   ]
  },
  {
   "cell_type": "markdown",
   "metadata": {},
   "source": [
    "## 解答"
   ]
  },
  {
   "cell_type": "code",
   "execution_count": 44,
   "metadata": {},
   "outputs": [
    {
     "name": "stdout",
     "output_type": "stream",
     "text": [
      "11\n"
     ]
    }
   ],
   "source": [
    "a = 10\n",
    "if a > 10:\n",
    "    a /= 2\n",
    "else:\n",
    "    a += 1\n",
    "print(a)"
   ]
  },
  {
   "cell_type": "markdown",
   "metadata": {},
   "source": [
    "## 問題"
   ]
  },
  {
   "cell_type": "markdown",
   "metadata": {},
   "source": [
    "次の結果になるようにhogeを書き換えてください\n",
    "変数aの値が１００以上の場合は２倍。変数aの値が５０以上１００未満の場合は２で割る。それ以外は２足す。\n",
    "```Python\n",
    "if a >= 100:\n",
    "    a *= 2\n",
    "elif hoge:\n",
    "    a /= 2\n",
    "else:\n",
    "    a += 2\n",
    "```"
   ]
  },
  {
   "cell_type": "markdown",
   "metadata": {},
   "source": [
    "## 解答"
   ]
  },
  {
   "cell_type": "code",
   "execution_count": 47,
   "metadata": {},
   "outputs": [
    {
     "name": "stdout",
     "output_type": "stream",
     "text": [
      "12\n"
     ]
    }
   ],
   "source": [
    "a = 10\n",
    "if a >= 100:\n",
    "    a *= 2\n",
    "elif a>=50:\n",
    "    a /= 2\n",
    "else:\n",
    "    a += 2\n",
    "print(a)"
   ]
  },
  {
   "cell_type": "markdown",
   "metadata": {},
   "source": [
    "# 3.3"
   ]
  },
  {
   "cell_type": "markdown",
   "metadata": {},
   "source": [
    "## 問題"
   ]
  },
  {
   "cell_type": "markdown",
   "metadata": {},
   "source": [
    "次のリストから、文字数が六文字以上の文字列のみを格納したリストを作るようなソースを教えてください（迫真  \n",
    "※工藤がやり方わからないから聞いてるわけではないんだからねっ(>ω<)\n",
    "```Python\n",
    "my_list = ['Tokyo', 'Osaka', 'Fukuoka', 'Aichi', 'Kyoto', 'Chiba', 'Saitama', 'Gunma']\n",
    "```"
   ]
  },
  {
   "cell_type": "markdown",
   "metadata": {},
   "source": [
    "## 解答"
   ]
  },
  {
   "cell_type": "code",
   "execution_count": 49,
   "metadata": {},
   "outputs": [
    {
     "name": "stdout",
     "output_type": "stream",
     "text": [
      "['Fukuoka', 'Saitama']\n"
     ]
    }
   ],
   "source": [
    "my_list = ['Tokyo', 'Osaka', 'Fukuoka', 'Aichi', 'Kyoto', 'Chiba', 'Saitama',\n",
    "           'Gunma']\n",
    "my_list6 = []\n",
    "for s in my_list:\n",
    "    if len(s) >= 6:\n",
    "        my_list6.append(s)\n",
    "print(my_list6)"
   ]
  },
  {
   "cell_type": "markdown",
   "metadata": {},
   "source": [
    "## 問題"
   ]
  },
  {
   "cell_type": "markdown",
   "metadata": {},
   "source": [
    "次のプログラムを動かした場合、最終的な変数xの値はどうなる？\n",
    "```Python\n",
    "my_list = [1, 1, 2, 3, 5, 8, 13]\n",
    "x = 0\n",
    "for n in my_list:\n",
    "    if n % 2 != 0:\n",
    "        x += n\n",
    "```"
   ]
  },
  {
   "cell_type": "markdown",
   "metadata": {},
   "source": [
    "## 解答"
   ]
  },
  {
   "cell_type": "code",
   "execution_count": 51,
   "metadata": {},
   "outputs": [
    {
     "name": "stdout",
     "output_type": "stream",
     "text": [
      "23\n"
     ]
    }
   ],
   "source": [
    "my_list = [1, 1, 2, 3, 5, 8, 13]\n",
    "x = 0\n",
    "for n in my_list:\n",
    "    if n % 2 != 0:\n",
    "        x += n\n",
    "print(x)"
   ]
  },
  {
   "cell_type": "markdown",
   "metadata": {},
   "source": [
    "# 3.4"
   ]
  },
  {
   "cell_type": "markdown",
   "metadata": {},
   "source": [
    "## 問題"
   ]
  },
  {
   "cell_type": "markdown",
   "metadata": {},
   "source": [
    "下記プログラム実行時の出力を答えなさい。また、contibueをbreakに書き換えた場合の出力を答えなさい。\n",
    "```Python\n",
    "for i in range(10):\n",
    "    if i % 2 == 0:\n",
    "        continue\n",
    "    print(i)\n",
    "```"
   ]
  },
  {
   "cell_type": "markdown",
   "metadata": {},
   "source": [
    "## 解答"
   ]
  },
  {
   "cell_type": "code",
   "execution_count": 52,
   "metadata": {},
   "outputs": [
    {
     "name": "stdout",
     "output_type": "stream",
     "text": [
      "1\n",
      "3\n",
      "5\n",
      "7\n",
      "9\n"
     ]
    }
   ],
   "source": [
    "for i in range(10):\n",
    "    if i % 2 == 0:\n",
    "        continue\n",
    "    print(i)"
   ]
  },
  {
   "cell_type": "code",
   "execution_count": 53,
   "metadata": {},
   "outputs": [],
   "source": [
    "for i in range(10):\n",
    "    if i % 2 == 0:\n",
    "        break\n",
    "    print(i)"
   ]
  },
  {
   "cell_type": "markdown",
   "metadata": {},
   "source": [
    "## 問題"
   ]
  },
  {
   "cell_type": "markdown",
   "metadata": {},
   "source": [
    "次のプログラムを実行した場合、最終的な変数xの値を答えなさい\n",
    "```Python\n",
    "numbers = [1, 1, 2, 3, 5, 8, 13, 21]\n",
    "x = 0\n",
    "for n in numbers:\n",
    "    if n > 10:\n",
    "        break\n",
    "    x += n\n",
    "```"
   ]
  },
  {
   "cell_type": "markdown",
   "metadata": {},
   "source": [
    "## 解答"
   ]
  },
  {
   "cell_type": "code",
   "execution_count": 54,
   "metadata": {},
   "outputs": [
    {
     "name": "stdout",
     "output_type": "stream",
     "text": [
      "20\n"
     ]
    }
   ],
   "source": [
    "numbers = [1, 1, 2, 3, 5, 8, 13, 21]\n",
    "x = 0\n",
    "for n in numbers:\n",
    "    if n > 10:\n",
    "        break\n",
    "    x += n\n",
    "print(x)"
   ]
  },
  {
   "cell_type": "markdown",
   "metadata": {},
   "source": [
    "# 3.5"
   ]
  },
  {
   "cell_type": "markdown",
   "metadata": {},
   "source": [
    "## 問題"
   ]
  },
  {
   "cell_type": "markdown",
   "metadata": {},
   "source": [
    "次のhogeを書き換えて、１０未満の数字について繰り返しを行い、偶数を表示するプログラムを作りなさい。\n",
    "```Python\n",
    "a = 1\n",
    "while hoge:\n",
    "    if a % 2 == 0:\n",
    "        print(a)\n",
    "    a += 1\n",
    "```"
   ]
  },
  {
   "cell_type": "markdown",
   "metadata": {},
   "source": [
    "## 解答"
   ]
  },
  {
   "cell_type": "code",
   "execution_count": 56,
   "metadata": {},
   "outputs": [
    {
     "name": "stdout",
     "output_type": "stream",
     "text": [
      "2\n",
      "4\n",
      "6\n",
      "8\n"
     ]
    }
   ],
   "source": [
    "a = 1\n",
    "while a < 10:\n",
    "    if a % 2 == 0:\n",
    "        print(a)\n",
    "    a += 1"
   ]
  },
  {
   "cell_type": "markdown",
   "metadata": {},
   "source": [
    "## 問題"
   ]
  },
  {
   "cell_type": "markdown",
   "metadata": {},
   "source": [
    "次のプログラムを実行した場合、最終的な変数aの値はいくつになるか答えなさい。\n",
    "```Python\n",
    "a = 0\n",
    "while a < 100:\n",
    "    if a > 10:\n",
    "        break\n",
    "    a += 2\n",
    "```"
   ]
  },
  {
   "cell_type": "markdown",
   "metadata": {},
   "source": [
    "## 解答"
   ]
  },
  {
   "cell_type": "code",
   "execution_count": 57,
   "metadata": {},
   "outputs": [
    {
     "name": "stdout",
     "output_type": "stream",
     "text": [
      "12\n"
     ]
    }
   ],
   "source": [
    "a = 0\n",
    "while a < 100:\n",
    "    if a > 10:\n",
    "        break\n",
    "    a += 2\n",
    "print(a)"
   ]
  },
  {
   "cell_type": "markdown",
   "metadata": {},
   "source": [
    "# 3.6"
   ]
  },
  {
   "cell_type": "markdown",
   "metadata": {},
   "source": [
    "## 問題"
   ]
  },
  {
   "cell_type": "markdown",
   "metadata": {},
   "source": [
    "四桁の数字で構成された文字列をランダムに作成し、入力した文字列と一致したら「おめでとう」と出力して終了。  \n",
    "一致しなければ「ちがうよ」と出力して再度入力を待つようなゲームを実装してください。  \n",
    "注意点  \n",
    "４つの数字は重複しないものとして作成してください。  "
   ]
  },
  {
   "cell_type": "markdown",
   "metadata": {},
   "source": [
    "## 解答"
   ]
  },
  {
   "cell_type": "code",
   "execution_count": null,
   "metadata": {},
   "outputs": [],
   "source": [
    "import random\n",
    "numbers = ['0', '1', '2', '3', '4', '5', '6', '7', '8', '9']\n",
    "sample4 = random.sample(numbers, k = 4)\n",
    "num4 = ''.join(sample4)\n",
    "while True:\n",
    "    val = input()\n",
    "    if val == num4:\n",
    "        print('OK')\n",
    "        break\n",
    "    else:\n",
    "        print(val, ':NG')"
   ]
  },
  {
   "cell_type": "markdown",
   "metadata": {},
   "source": [
    "## 問題"
   ]
  },
  {
   "cell_type": "markdown",
   "metadata": {},
   "source": [
    "４桁の重複ない数字の文字列をランダムに生成して、入力した文字列と一致した文字だけを表示するゲームを実装してください。  \n",
    "注意点  \n",
    "一致しなかった個所は、Xを表示する仕様を入れてください。  "
   ]
  },
  {
   "cell_type": "markdown",
   "metadata": {},
   "source": [
    "## 解答"
   ]
  },
  {
   "cell_type": "code",
   "execution_count": null,
   "metadata": {},
   "outputs": [],
   "source": [
    "import random\n",
    "numbers = ['0', '1', '2', '3', '4', '5', '6', '7', '8', '9']\n",
    "num4 = ''.join(random.sample(numbers, k=4))\n",
    "while True:\n",
    "    val = input()\n",
    "    if val == num4:\n",
    "        break\n",
    "    if len(val) != 4:\n",
    "        print('input 4 numbers.')\n",
    "        continue\n",
    "    answer = ''\n",
    "    for i in range(4):\n",
    "        if num4[i] == val[i]:\n",
    "            answer += num4[i]\n",
    "        else:\n",
    "            answer += '×'\n",
    "    print('-> '+ answer)"
   ]
  },
  {
   "cell_type": "markdown",
   "metadata": {},
   "source": [
    "# 3.7"
   ]
  },
  {
   "cell_type": "markdown",
   "metadata": {},
   "source": [
    "## 問題"
   ]
  },
  {
   "cell_type": "markdown",
   "metadata": {},
   "source": [
    "実行すると.txtファイルから１行読み込んでその内容を表示するプログラムを書きなさい。"
   ]
  },
  {
   "cell_type": "markdown",
   "metadata": {},
   "source": [
    "## 解答"
   ]
  },
  {
   "cell_type": "code",
   "execution_count": 3,
   "metadata": {},
   "outputs": [
    {
     "name": "stdout",
     "output_type": "stream",
     "text": [
      "sample.txt hoge\n"
     ]
    }
   ],
   "source": [
    "with open('sample.txt', 'r') as f:\n",
    "    line = f.readline()\n",
    "    print(line)"
   ]
  },
  {
   "cell_type": "markdown",
   "metadata": {},
   "source": [
    "## 問題"
   ]
  },
  {
   "cell_type": "markdown",
   "metadata": {},
   "source": [
    "各行に1から10まで書かれたファイルnumbers.txtを読み込んで各行の数値の総和を求めるプログラムを書きなさい。  \n",
    "そして、実行した結果の答えも求めなさい。  "
   ]
  },
  {
   "cell_type": "markdown",
   "metadata": {},
   "source": [
    "## 解答"
   ]
  },
  {
   "cell_type": "code",
   "execution_count": 4,
   "metadata": {},
   "outputs": [
    {
     "name": "stdout",
     "output_type": "stream",
     "text": [
      "55\n"
     ]
    }
   ],
   "source": [
    "with open('numbers.txt', 'r') as f:\n",
    "    sum = 0\n",
    "    for data in f:\n",
    "        num = int(data)\n",
    "        sum += num\n",
    "    print(sum)"
   ]
  },
  {
   "cell_type": "markdown",
   "metadata": {},
   "source": [
    "# 3.8"
   ]
  },
  {
   "cell_type": "markdown",
   "metadata": {},
   "source": [
    "## 問題"
   ]
  },
  {
   "cell_type": "markdown",
   "metadata": {},
   "source": [
    "1から10までの数値のリストをファイルtest1.pklに書き込むプログラムを書きなさい。"
   ]
  },
  {
   "cell_type": "markdown",
   "metadata": {},
   "source": [
    "## 解答"
   ]
  },
  {
   "cell_type": "code",
   "execution_count": 6,
   "metadata": {},
   "outputs": [],
   "source": [
    "import pickle\n",
    "\n",
    "with open('test1.pkl', 'wb') as f:\n",
    "    my_list = list(range(1,11))\n",
    "    pickle.dump(my_list, f)"
   ]
  },
  {
   "cell_type": "markdown",
   "metadata": {},
   "source": [
    "## 問題"
   ]
  },
  {
   "cell_type": "markdown",
   "metadata": {},
   "source": [
    "上記問題で作成したファイルから数値を読み込んで、リストに格納するプログラムを作成しなさい。"
   ]
  },
  {
   "cell_type": "markdown",
   "metadata": {},
   "source": [
    "## 解答"
   ]
  },
  {
   "cell_type": "code",
   "execution_count": 7,
   "metadata": {},
   "outputs": [
    {
     "name": "stdout",
     "output_type": "stream",
     "text": [
      "[1, 2, 3, 4, 5, 6, 7, 8, 9, 10]\n"
     ]
    }
   ],
   "source": [
    "import pickle\n",
    "with open('test1.pkl', 'rb') as f:\n",
    "    result = pickle.load(f)\n",
    "    print(result)"
   ]
  },
  {
   "cell_type": "markdown",
   "metadata": {},
   "source": [
    "# 4.1"
   ]
  },
  {
   "cell_type": "markdown",
   "metadata": {},
   "source": [
    "## 問題"
   ]
  },
  {
   "cell_type": "markdown",
   "metadata": {},
   "source": [
    "フィボナッチ数列を計算して画面に出力する関数を書きなさい。  \n",
    "注意  \n",
    "最初の2項が0と1で始まる流儀で書いてください。  "
   ]
  },
  {
   "cell_type": "markdown",
   "metadata": {},
   "source": [
    "## 解答"
   ]
  },
  {
   "cell_type": "code",
   "execution_count": 10,
   "metadata": {},
   "outputs": [],
   "source": [
    "def gib(n):\n",
    "    '''n より小さなフィボナッチ数列を列挙する'''\n",
    "    a, b = 0, 1\n",
    "    while a < n:\n",
    "        print(a, end=' ')\n",
    "        a, b = b, a+b"
   ]
  },
  {
   "cell_type": "code",
   "execution_count": 11,
   "metadata": {},
   "outputs": [
    {
     "name": "stdout",
     "output_type": "stream",
     "text": [
      "0 1 1 2 3 5 8 13 21 34 55 89 144 233 377 610 987 "
     ]
    }
   ],
   "source": [
    "gib(1000)"
   ]
  },
  {
   "cell_type": "markdown",
   "metadata": {},
   "source": [
    "## 問題"
   ]
  },
  {
   "cell_type": "markdown",
   "metadata": {},
   "source": [
    "問題１で作成したものを使って、フィボナッチ数列をリストに格納して返すように改良してください。"
   ]
  },
  {
   "cell_type": "markdown",
   "metadata": {},
   "source": [
    "## 解答"
   ]
  },
  {
   "cell_type": "code",
   "execution_count": 14,
   "metadata": {},
   "outputs": [],
   "source": [
    "def fib2(n):\n",
    "    '''n より小さなフィボナッチ数列をリストで返す'''\n",
    "    result = []\n",
    "    a, b = 0, 1\n",
    "    while a < n:\n",
    "        result.append(a)\n",
    "        a, b = b, a+b\n",
    "    return result"
   ]
  },
  {
   "cell_type": "code",
   "execution_count": 15,
   "metadata": {},
   "outputs": [
    {
     "data": {
      "text/plain": [
       "[0, 1, 1, 2, 3, 5, 8, 13, 21, 34, 55, 89, 144, 233, 377, 610, 987]"
      ]
     },
     "execution_count": 15,
     "metadata": {},
     "output_type": "execute_result"
    }
   ],
   "source": [
    "fib2(1000)"
   ]
  },
  {
   "cell_type": "markdown",
   "metadata": {},
   "source": [
    "# 4.2"
   ]
  },
  {
   "cell_type": "markdown",
   "metadata": {},
   "source": [
    "## 問題"
   ]
  },
  {
   "cell_type": "markdown",
   "metadata": {},
   "source": [
    "下記内容の処理を行う関数を作成しなさい。  \n",
    "任意の整数を引数として、今日から何日後かを判定してください。  \n",
    "出力として、{昨日、今日、明日、今日から１日を超えて離れた日}の四種類に分類するようにしてください。  \n",
    "引数のデフォルト値は0とします。  "
   ]
  },
  {
   "cell_type": "markdown",
   "metadata": {},
   "source": [
    "## 解答"
   ]
  },
  {
   "cell_type": "code",
   "execution_count": 23,
   "metadata": {},
   "outputs": [],
   "source": [
    "def number_to_day(num=0):\n",
    "    '''任意の整数が与えられたら、今日、昨日、明日、それ以外を判定して返す関数\n",
    "    \n",
    "    戻り値\n",
    "    　明日（num=-1の場合）\n",
    "    　今日（num=0の場合）\n",
    "    　昨日（num=1の場合）\n",
    "    　今日から一日を超えて離れた日（numが上記以外の場合）   \n",
    "    '''\n",
    "    if num == 0:\n",
    "        day = '今日'\n",
    "    elif num == 1:\n",
    "        day = '明日'\n",
    "    elif num == -1:\n",
    "        day = '明日'\n",
    "    else:\n",
    "        day = '今日から一日を超えて離れた日'\n",
    "    return day"
   ]
  },
  {
   "cell_type": "code",
   "execution_count": 24,
   "metadata": {},
   "outputs": [
    {
     "data": {
      "text/plain": [
       "'今日'"
      ]
     },
     "execution_count": 24,
     "metadata": {},
     "output_type": "execute_result"
    }
   ],
   "source": [
    "number_to_day()"
   ]
  },
  {
   "cell_type": "code",
   "execution_count": 25,
   "metadata": {},
   "outputs": [
    {
     "data": {
      "text/plain": [
       "'明日'"
      ]
     },
     "execution_count": 25,
     "metadata": {},
     "output_type": "execute_result"
    }
   ],
   "source": [
    "number_to_day(-1)"
   ]
  },
  {
   "cell_type": "code",
   "execution_count": 26,
   "metadata": {},
   "outputs": [
    {
     "data": {
      "text/plain": [
       "'今日から一日を超えて離れた日'"
      ]
     },
     "execution_count": 26,
     "metadata": {},
     "output_type": "execute_result"
    }
   ],
   "source": [
    "number_to_day(num=3)"
   ]
  },
  {
   "cell_type": "code",
   "execution_count": 27,
   "metadata": {},
   "outputs": [
    {
     "name": "stdout",
     "output_type": "stream",
     "text": [
      "Help on function number_to_day in module __main__:\n",
      "\n",
      "number_to_day(num=0)\n",
      "    任意の整数が与えられたら、今日、昨日、明日、それ以外を判定して返す関数\n",
      "    \n",
      "    戻り値\n",
      "    　明日（num=-1の場合）\n",
      "    　今日（num=0の場合）\n",
      "    　昨日（num=1の場合）\n",
      "    　今日から一日を超えて離れた日（numが上記以外の場合）\n",
      "\n"
     ]
    }
   ],
   "source": [
    "help(number_to_day)"
   ]
  },
  {
   "cell_type": "markdown",
   "metadata": {},
   "source": [
    "## 問題"
   ]
  },
  {
   "cell_type": "markdown",
   "metadata": {},
   "source": [
    "最初の３つの数字が3,0,2で、これらを０番目から２番目までの数列とします。ペラン数列をwebで検索して  \n",
    "https://mathtrain.jp/perrinnumber  \n",
    "数列のうち100より小さい数列をすべてリストで返す関数を作ってください。  \n",
    "引数のデフォルト値は100とします。  "
   ]
  },
  {
   "cell_type": "markdown",
   "metadata": {},
   "source": [
    "## 解答"
   ]
  },
  {
   "cell_type": "code",
   "execution_count": 33,
   "metadata": {},
   "outputs": [],
   "source": [
    "def perrin(m=100):\n",
    "    '''m より小さなペラン数列をリストで返す\n",
    "    ペラン数列:3, 0, 2, 3, 2, 5, 5, 7, 10, 12, 17, 22, 29, 39, 51, 68, 90, …\n",
    "    '''\n",
    "    a, b, c = 3, 0, 2\n",
    "    result = []\n",
    "    while a < m:\n",
    "        result.append(a)\n",
    "        a, b, c, = b, c, a+b\n",
    "    return result"
   ]
  },
  {
   "cell_type": "code",
   "execution_count": 34,
   "metadata": {},
   "outputs": [
    {
     "data": {
      "text/plain": [
       "[3, 0, 2, 3, 2, 5, 5, 7, 10, 12, 17, 22, 29, 39, 51, 68, 90]"
      ]
     },
     "execution_count": 34,
     "metadata": {},
     "output_type": "execute_result"
    }
   ],
   "source": [
    "perrin()"
   ]
  },
  {
   "cell_type": "markdown",
   "metadata": {},
   "source": [
    "# 4.3"
   ]
  },
  {
   "cell_type": "markdown",
   "metadata": {},
   "source": [
    "## 問題"
   ]
  },
  {
   "cell_type": "markdown",
   "metadata": {},
   "source": [
    "任意の数の単語と、区切り文字separatorを受け取り、区切り文字でつなげる関数を作成してください。  \n",
    "入力と出力の一例  \n",
    "～入力～  \n",
    "引数：'a','b','c'  \n",
    "区切り文字:'_'  \n",
    "～出力～  \n",
    "出力:'a_b_c'  "
   ]
  },
  {
   "cell_type": "markdown",
   "metadata": {},
   "source": [
    "## 解答"
   ]
  },
  {
   "cell_type": "code",
   "execution_count": 35,
   "metadata": {},
   "outputs": [],
   "source": [
    "def concat_words(*args, separator='.'):\n",
    "    '''任意の数の位置引数と区切り文字を受け取り、区切り文字でつなげる'''\n",
    "    return separator.join(args)"
   ]
  },
  {
   "cell_type": "code",
   "execution_count": 36,
   "metadata": {},
   "outputs": [
    {
     "data": {
      "text/plain": [
       "'a_b_c'"
      ]
     },
     "execution_count": 36,
     "metadata": {},
     "output_type": "execute_result"
    }
   ],
   "source": [
    "concat_words('a', 'b', 'c', separator='_')"
   ]
  },
  {
   "cell_type": "code",
   "execution_count": 38,
   "metadata": {},
   "outputs": [
    {
     "data": {
      "text/plain": [
       "'hoge(^ω^)fuga(^ω^)piyo'"
      ]
     },
     "execution_count": 38,
     "metadata": {},
     "output_type": "execute_result"
    }
   ],
   "source": [
    "concat_words('hoge', 'fuga', 'piyo', separator='(^ω^)')"
   ]
  },
  {
   "cell_type": "markdown",
   "metadata": {},
   "source": [
    "## 問題"
   ]
  },
  {
   "cell_type": "markdown",
   "metadata": {},
   "source": [
    "任意個数の数字からなるリストを引数として受け取り、それらを二乗した数字からなるリストを返す関数を作成しなさい。  \n",
    "例:1,2,3,4を受け取ったら1,4,9,16を返す。  \n",
    "更に、100個の数字からなるリストをその関数に渡して結果を表示すること  "
   ]
  },
  {
   "cell_type": "markdown",
   "metadata": {},
   "source": [
    "## 解答"
   ]
  },
  {
   "cell_type": "code",
   "execution_count": 40,
   "metadata": {},
   "outputs": [
    {
     "data": {
      "text/plain": [
       "[1, 4, 9, 16]"
      ]
     },
     "execution_count": 40,
     "metadata": {},
     "output_type": "execute_result"
    }
   ],
   "source": [
    "numbers = [1, 2, 3, 4]\n",
    "def func_square(*args):\n",
    "    results = []\n",
    "    for n in args:\n",
    "        results.append(n*n)\n",
    "    return results\n",
    "\n",
    "numbers = [1, 2, 3, 4]\n",
    "func_square(*numbers)"
   ]
  },
  {
   "cell_type": "code",
   "execution_count": 41,
   "metadata": {},
   "outputs": [
    {
     "name": "stdout",
     "output_type": "stream",
     "text": [
      "[0, 1, 4, 9, 16, 25, 36, 49, 64, 81, 100, 121, 144, 169, 196, 225, 256, 289, 324, 361, 400, 441, 484, 529, 576, 625, 676, 729, 784, 841, 900, 961, 1024, 1089, 1156, 1225, 1296, 1369, 1444, 1521, 1600, 1681, 1764, 1849, 1936, 2025, 2116, 2209, 2304, 2401, 2500, 2601, 2704, 2809, 2916, 3025, 3136, 3249, 3364, 3481, 3600, 3721, 3844, 3969, 4096, 4225, 4356, 4489, 4624, 4761, 4900, 5041, 5184, 5329, 5476, 5625, 5776, 5929, 6084, 6241, 6400, 6561, 6724, 6889, 7056, 7225, 7396, 7569, 7744, 7921, 8100, 8281, 8464, 8649, 8836, 9025, 9216, 9409, 9604, 9801]\n"
     ]
    }
   ],
   "source": [
    "many_numbers = list(range(100))\n",
    "print(func_square(*many_numbers))"
   ]
  },
  {
   "cell_type": "markdown",
   "metadata": {},
   "source": [
    "# 4.4"
   ]
  },
  {
   "cell_type": "markdown",
   "metadata": {},
   "source": [
    "## 問題"
   ]
  },
  {
   "cell_type": "markdown",
   "metadata": {},
   "source": [
    "関数を3つ作成して選挙（ AKB 的なものをイメージするとわかりやすいです）の時に使う投票箱を作って下さい  \n",
    "ただし、投票箱は次のような機能を持つようにしてください。  \n",
    "1. vote_num という変数を定義  \n",
    "1. 投票する vote() を実行すると、 vote_num の値が一つ増える\n",
    "1. 箱を空にする reset_box() を実行すると、 vote_num の値は0になる  \n",
    "1. 箱を確認する check_box() を実行すると、箱の中の票数を表示する  \n",
    "\n",
    "ここでは上記の三つの関数の中で global 文を積極的に使って書きなさい  "
   ]
  },
  {
   "cell_type": "markdown",
   "metadata": {},
   "source": [
    "## 解答"
   ]
  },
  {
   "cell_type": "code",
   "execution_count": 45,
   "metadata": {},
   "outputs": [],
   "source": [
    "vote_num = 0\n",
    "def vote():\n",
    "    print(\"投票します\")\n",
    "    global vote_num\n",
    "    vote_num += 1\n",
    "    \n",
    "def reset_box():\n",
    "    global vote_num\n",
    "    print(\"箱を空にします\")\n",
    "    vote_num = 0\n",
    "    \n",
    "def check_box():\n",
    "    global vote_num\n",
    "    print(\"票の数は {} です\".format(vote_num))"
   ]
  },
  {
   "cell_type": "code",
   "execution_count": 46,
   "metadata": {},
   "outputs": [
    {
     "name": "stdout",
     "output_type": "stream",
     "text": [
      "投票します\n",
      "票の数は 1 です\n",
      "投票します\n",
      "票の数は 2 です\n",
      "投票します\n",
      "投票します\n",
      "投票します\n",
      "票の数は 5 です\n",
      "箱を空にします\n",
      "票の数は 0 です\n"
     ]
    }
   ],
   "source": [
    "vote()\n",
    "check_box()\n",
    "vote()\n",
    "check_box()\n",
    "for i in range(3):\n",
    "    vote()\n",
    "check_box()\n",
    "reset_box()\n",
    "check_box()"
   ]
  },
  {
   "cell_type": "markdown",
   "metadata": {},
   "source": [
    "## 問題"
   ]
  },
  {
   "cell_type": "markdown",
   "metadata": {},
   "source": [
    "問題1の内容をglobal文を使わない方法で書きなさい"
   ]
  },
  {
   "cell_type": "markdown",
   "metadata": {},
   "source": [
    "## 解答"
   ]
  },
  {
   "cell_type": "code",
   "execution_count": 53,
   "metadata": {},
   "outputs": [],
   "source": [
    "vote_num = 0\n",
    "\n",
    "def vote(vote_n):\n",
    "    print(\"投票します\")\n",
    "    vote_n += 1\n",
    "    return vote_n\n",
    "    \n",
    "def reset_box(vote_n):\n",
    "    print(\"箱を空にします\")\n",
    "    vote_n = 0\n",
    "    return vote_n\n",
    "    \n",
    "def check_box(vote_n):\n",
    "    print(\"票の数は {} です\".format(vote_n))\n",
    "    return"
   ]
  },
  {
   "cell_type": "code",
   "execution_count": 54,
   "metadata": {},
   "outputs": [
    {
     "name": "stdout",
     "output_type": "stream",
     "text": [
      "投票します\n",
      "票の数は 1 です\n",
      "投票します\n",
      "票の数は 2 です\n",
      "投票します\n",
      "投票します\n",
      "投票します\n",
      "票の数は 5 です\n",
      "箱を空にします\n",
      "票の数は 0 です\n"
     ]
    }
   ],
   "source": [
    "vote_num = vote(vote_num)\n",
    "check_box(vote_num)\n",
    "vote_num = vote(vote_num)\n",
    "check_box(vote_num)\n",
    "for i in range(3):\n",
    "    vote_num = vote(vote_num)\n",
    "check_box(vote_num)\n",
    "vote_num = reset_box(vote_num)\n",
    "check_box(vote_num)"
   ]
  },
  {
   "cell_type": "markdown",
   "metadata": {},
   "source": [
    "# 4.5"
   ]
  },
  {
   "cell_type": "markdown",
   "metadata": {},
   "source": [
    "## 問題"
   ]
  },
  {
   "cell_type": "markdown",
   "metadata": {},
   "source": [
    "組み込み関数sum()、min()、max()は、いずれも引数に反復可能体（iterable）を受け取り、それぞれ、総和、最小値、最大値の計算結果を返す。  \n",
    "引数に与える反復可能体の要素は通常数値で、返す結果も数値になる。  \n",
    "これらの組み込み関数を要素としてリストを作成し、そのリストに関してループ処理を行い、1から10までの自然数について上記3つの組み込み関数で処理した結果を表示しなさい。  "
   ]
  },
  {
   "cell_type": "markdown",
   "metadata": {},
   "source": [
    "## 解答"
   ]
  },
  {
   "cell_type": "code",
   "execution_count": 3,
   "metadata": {},
   "outputs": [
    {
     "name": "stdout",
     "output_type": "stream",
     "text": [
      "Function: sum, Result: 55\n",
      "Function: min, Result: 1\n",
      "Function: max, Result: 10\n"
     ]
    }
   ],
   "source": [
    "functions = [sum, min, max]\n",
    "number_list = range(1, 11)\n",
    "for func in functions:\n",
    "    print(\"Function: {}, Result: {}\".format(func.__name__, func(number_list)))"
   ]
  },
  {
   "cell_type": "markdown",
   "metadata": {},
   "source": [
    "## 問題"
   ]
  },
  {
   "cell_type": "markdown",
   "metadata": {},
   "source": [
    "組み込み関数mapは第一引数に関数、第二引数に反復可能体を受け取り、反復可能体の個々の要素を使って完遂による計算を施し、計算結果を与える反復子（iterator）を返す。mapを使うと、forループの階層構造を減らすことができ、しかも高速に作動するメリットがある。  \n",
    "mapを使って、下記に示す3つ一組の数字文字列からなる4つの座標のリスト  "
   ]
  },
  {
   "cell_type": "code",
   "execution_count": 3,
   "metadata": {},
   "outputs": [],
   "source": [
    "s_coordi_list = [\"1.0, 2.2, 3.5\", \"2.1,3.2,5.5\", \"1.2,1.3,2.2\", \"2.1,3.1, 4.5\"]"
   ]
  },
  {
   "cell_type": "markdown",
   "metadata": {},
   "source": [
    "を、下記に示す3つ一組の数値リストからなる4つの座標のリストに変換しなさい。  "
   ]
  },
  {
   "cell_type": "code",
   "execution_count": 4,
   "metadata": {},
   "outputs": [],
   "source": [
    "s_coordi_list = [[1.0, 2.2, 3.5], [2.1,3.2,5.5], [1.2,1.3,2.2], [2.1,3.1, 4.5]]"
   ]
  },
  {
   "cell_type": "markdown",
   "metadata": {},
   "source": [
    "## 解答"
   ]
  },
  {
   "cell_type": "code",
   "execution_count": 5,
   "metadata": {},
   "outputs": [
    {
     "name": "stdout",
     "output_type": "stream",
     "text": [
      "[[1.0, 2.2, 3.5], [2.1, 3.2, 5.5], [1.2, 1.3, 2.2], [2.1, 3.1, 4.5]]\n"
     ]
    }
   ],
   "source": [
    "s_coordi_list = [\"1.0,2.2,3.5\", \"2.1,3.2,5.5\", \"1.2,1.3,2.2\",\"2.1,3.1,4.5\"]\n",
    "\n",
    "def str_to_float_coordi(s_coordi):\n",
    "    '''与えられた文字列をカンマで分割し float 型に変換して数値リストを返す'''\n",
    "    p = s_coordi.split(\",\")\n",
    "    return list(map(float, p))\n",
    "\n",
    "def str_to_float_coordi_iter(s_coordi_list):\n",
    "    '''与えられたリストの要素を str_to_float_coordi() 関数で処理して結果を指す反復可能体（iterable）を返す'''\n",
    "    return map(str_to_float_coordi, s_coordi_list)\n",
    "\n",
    "f_coordi_list = list(str_to_float_coordi_iter(s_coordi_list))\n",
    "\n",
    "print(f_coordi_list)"
   ]
  },
  {
   "cell_type": "markdown",
   "metadata": {},
   "source": [
    "# 4.6"
   ]
  },
  {
   "cell_type": "markdown",
   "metadata": {},
   "source": [
    "## 問題"
   ]
  },
  {
   "cell_type": "markdown",
   "metadata": {},
   "source": [
    "1から7までの数字（整数とする）がrange(1,8)という反復可能体（iterable）で与えられたとき、それをゼロ埋めされた４桁の数字文字列の反復可能体に変更しなさい。  \n",
    "※for文を使わずに、map()関数とラムダ式を使って簡潔に記載すること"
   ]
  },
  {
   "cell_type": "markdown",
   "metadata": {},
   "source": [
    "## 解答"
   ]
  },
  {
   "cell_type": "code",
   "execution_count": 6,
   "metadata": {},
   "outputs": [
    {
     "data": {
      "text/plain": [
       "<map at 0x2095d4e5460>"
      ]
     },
     "execution_count": 6,
     "metadata": {},
     "output_type": "execute_result"
    }
   ],
   "source": [
    "str_num_list = map(lambda x: \"{:04}\".format(x), range(1, 8))\n",
    "str_num_list"
   ]
  },
  {
   "cell_type": "markdown",
   "metadata": {},
   "source": [
    "## 問題"
   ]
  },
  {
   "cell_type": "markdown",
   "metadata": {},
   "source": [
    "生徒十名のデータをランダムで生成し、生徒名、身長、体重からなうタプルをいくつか格納したstudents_dataを作成しなさい。  \n",
    "その要素を身長と体重順に並べなおして下さい。"
   ]
  },
  {
   "cell_type": "markdown",
   "metadata": {},
   "source": [
    "## 解答"
   ]
  },
  {
   "cell_type": "code",
   "execution_count": 12,
   "metadata": {},
   "outputs": [
    {
     "name": "stdout",
     "output_type": "stream",
     "text": [
      "i, name, height, weight\n",
      "0 n20 151 60\n",
      "1 n37 169 78\n",
      "・・・\n",
      "9 n21 184 74\n"
     ]
    }
   ],
   "source": [
    "import random\n",
    "def generate_students_data(num_students=10):\n",
    "    '''生徒名、身長、体重からなるデータをランダムに生成する\n",
    "    \n",
    "    引数 : numstudents: 生徒の人数を取る\n",
    "    戻り : numstudents このタプル（生徒名、身長、体重）からなるリスト\n",
    "    \n",
    "    データの内容\n",
    "        生徒名　'nXX', XX は 10 から 50 の番号\n",
    "        身長    150-190 cm からランダムに選んだ値\n",
    "        体重    50-80 kg   からランダムに選んだ値\n",
    "    '''\n",
    "    students_data = []\n",
    "    for i in range(num_students):\n",
    "        name = 'n' + str(random.randint(10, 50))\n",
    "        height = random.randint(150, 190)\n",
    "        weight = random.randint(50, 80)\n",
    "        students_data.append((name, height, weight))\n",
    "        if i == 0: print('i, name, height, weight')\n",
    "        if i < 2 or i == num_students - 1:\n",
    "            print(i, name, height, weight)\n",
    "        elif i == 2:\n",
    "            print('・・・')\n",
    "    return students_data\n",
    "students_data = generate_students_data(10)"
   ]
  },
  {
   "cell_type": "code",
   "execution_count": 13,
   "metadata": {},
   "outputs": [
    {
     "data": {
      "text/plain": [
       "[('n20', 151, 60),\n",
       " ('n37', 169, 78),\n",
       " ('n30', 177, 56),\n",
       " ('n18', 186, 61),\n",
       " ('n42', 151, 69),\n",
       " ('n13', 155, 74),\n",
       " ('n14', 190, 79),\n",
       " ('n33', 183, 61),\n",
       " ('n19', 158, 60),\n",
       " ('n21', 184, 74)]"
      ]
     },
     "execution_count": 13,
     "metadata": {},
     "output_type": "execute_result"
    }
   ],
   "source": [
    "students_data"
   ]
  },
  {
   "cell_type": "code",
   "execution_count": 14,
   "metadata": {},
   "outputs": [],
   "source": [
    "students_by_height = sorted(students_data, key=lambda s: s[1])\n",
    "students_by_height = sorted(students_data, key=lambda s: s[2])"
   ]
  },
  {
   "cell_type": "markdown",
   "metadata": {},
   "source": [
    "# 4.7"
   ]
  },
  {
   "cell_type": "markdown",
   "metadata": {},
   "source": [
    "## 問題"
   ]
  },
  {
   "cell_type": "markdown",
   "metadata": {},
   "source": [
    "二つの数値を受け取り、それらを足し合わせた値を返す関数を返す関数を作成してください"
   ]
  },
  {
   "cell_type": "markdown",
   "metadata": {},
   "source": [
    "## 解答"
   ]
  },
  {
   "cell_type": "code",
   "execution_count": 1,
   "metadata": {},
   "outputs": [],
   "source": [
    "def make_addfunc():\n",
    "    def add(x,y):\n",
    "        return x + y\n",
    "    return add"
   ]
  },
  {
   "cell_type": "code",
   "execution_count": 2,
   "metadata": {},
   "outputs": [
    {
     "name": "stdout",
     "output_type": "stream",
     "text": [
      "11\n"
     ]
    }
   ],
   "source": [
    "adder = make_addfunc()\n",
    "answer = adder(1, 10)\n",
    "print(answer)"
   ]
  },
  {
   "cell_type": "markdown",
   "metadata": {},
   "source": [
    "# 4.8"
   ]
  },
  {
   "cell_type": "markdown",
   "metadata": {},
   "source": [
    "## 問題"
   ]
  },
  {
   "cell_type": "markdown",
   "metadata": {},
   "source": [
    "　関数が呼ばれたときに==begin、終了したときに==endを表示するshow_begin_endというデコレータを作成してください"
   ]
  },
  {
   "cell_type": "markdown",
   "metadata": {},
   "source": [
    "## 解答"
   ]
  },
  {
   "cell_type": "code",
   "execution_count": 4,
   "metadata": {},
   "outputs": [],
   "source": [
    "def show_begin_end(func):\n",
    "    '''呼ばれた関数の初めと終わりを表示するデコレータ'''\n",
    "    def deco_func(*args, **kwargs):\n",
    "        '''関数を実行する前と後にメッセージの表示'''\n",
    "        print('== start')\n",
    "        result = func(*args, **kwargs)\n",
    "        print('== end')\n",
    "        return result\n",
    "    return deco_func"
   ]
  },
  {
   "cell_type": "code",
   "execution_count": 6,
   "metadata": {},
   "outputs": [
    {
     "name": "stdout",
     "output_type": "stream",
     "text": [
      "sleeping ..\n",
      "Done sleeping\n"
     ]
    }
   ],
   "source": [
    "import time\n",
    "\n",
    "def sleep_for_a_while():\n",
    "    '''しばらく眠ろう(~ω~)'''\n",
    "    print(\"sleeping ..\")\n",
    "    time.sleep(2) # sleep for a while: interrupt me!\n",
    "    print(\"Done sleeping\")\n",
    "    \n",
    "sleep_for_a_while()"
   ]
  },
  {
   "cell_type": "code",
   "execution_count": 8,
   "metadata": {},
   "outputs": [
    {
     "name": "stdout",
     "output_type": "stream",
     "text": [
      "== start\n",
      "sleeping ..\n",
      "Done sleeping\n",
      "== end\n"
     ]
    }
   ],
   "source": [
    "import time\n",
    "\n",
    "@show_begin_end\n",
    "def sleep_for_a_while():\n",
    "    '''しばらく眠ろう(~ω~)'''\n",
    "    print(\"sleeping ..\")\n",
    "    time.sleep(2) # sleep for a while: interrupt me!\n",
    "    print(\"Done sleeping\")\n",
    "    \n",
    "sleep_for_a_while()"
   ]
  },
  {
   "cell_type": "markdown",
   "metadata": {},
   "source": [
    "# 4.9"
   ]
  },
  {
   "cell_type": "markdown",
   "metadata": {},
   "source": [
    "## 問題"
   ]
  },
  {
   "cell_type": "markdown",
   "metadata": {},
   "source": [
    "PEP8に従ってプログラムを書きなさい"
   ]
  },
  {
   "cell_type": "markdown",
   "metadata": {},
   "source": [
    "## 解答"
   ]
  },
  {
   "cell_type": "markdown",
   "metadata": {},
   "source": [
    "今までの答えはすべてPEP8に従っています"
   ]
  },
  {
   "cell_type": "markdown",
   "metadata": {},
   "source": [
    "# 5.1"
   ]
  },
  {
   "cell_type": "markdown",
   "metadata": {},
   "source": [
    "リストのメソッドを使ってスタックを作成してください。スタックは、最後に追加された要素が最初に取得されるものとする。（後入れ先出し）  \n",
    "まず、空のスタックを用意して要素１を追加し、次に要素２を追加します。その次にスタックの先頭（トップ）から要素の取得を２回繰り返してください。"
   ]
  },
  {
   "cell_type": "markdown",
   "metadata": {},
   "source": [
    "## 問題１"
   ]
  },
  {
   "cell_type": "markdown",
   "metadata": {},
   "source": [
    "ほげを書き換えたうえプログラムを実行して「suzuki」という結果を取得して、元のリストから要素を消すコードを書きなさい"
   ]
  },
  {
   "cell_type": "code",
   "execution_count": 1,
   "metadata": {},
   "outputs": [
    {
     "ename": "NameError",
     "evalue": "name 'membersmbers' is not defined",
     "output_type": "error",
     "traceback": [
      "\u001b[1;31m---------------------------------------------------------------------------\u001b[0m",
      "\u001b[1;31mNameError\u001b[0m                                 Traceback (most recent call last)",
      "\u001b[1;32m<ipython-input-1-95959b78286b>\u001b[0m in \u001b[0;36m<module>\u001b[1;34m\u001b[0m\n\u001b[0;32m      1\u001b[0m \u001b[0mmembers\u001b[0m \u001b[1;33m=\u001b[0m \u001b[1;33m[\u001b[0m\u001b[1;34m'Honda'\u001b[0m\u001b[1;33m,\u001b[0m\u001b[1;34m'Kawasaki'\u001b[0m\u001b[1;33m,\u001b[0m\u001b[1;34m'Toyota'\u001b[0m\u001b[1;33m,\u001b[0m\u001b[1;34m'Suzuki'\u001b[0m\u001b[1;33m]\u001b[0m\u001b[1;33m\u001b[0m\u001b[1;33m\u001b[0m\u001b[0m\n\u001b[1;32m----> 2\u001b[1;33m \u001b[0mname\u001b[0m \u001b[1;33m=\u001b[0m \u001b[0mmembersmbers\u001b[0m\u001b[1;33m.\u001b[0m\u001b[0mpop\u001b[0m\u001b[1;33m(\u001b[0m\u001b[1;33m)\u001b[0m\u001b[1;33m\u001b[0m\u001b[1;33m\u001b[0m\u001b[0m\n\u001b[0m\u001b[0;32m      3\u001b[0m \u001b[0mprint\u001b[0m\u001b[1;33m(\u001b[0m\u001b[0mname\u001b[0m\u001b[1;33m)\u001b[0m\u001b[1;33m\u001b[0m\u001b[1;33m\u001b[0m\u001b[0m\n",
      "\u001b[1;31mNameError\u001b[0m: name 'membersmbers' is not defined"
     ]
    }
   ],
   "source": [
    "members = ['Honda','Kawasaki','Toyota','Suzuki']\n",
    "#ほげ\n",
    "print(name)"
   ]
  },
  {
   "cell_type": "markdown",
   "metadata": {},
   "source": [
    "## 解答"
   ]
  },
  {
   "cell_type": "code",
   "execution_count": 2,
   "metadata": {},
   "outputs": [
    {
     "name": "stdout",
     "output_type": "stream",
     "text": [
      "Suzuki\n"
     ]
    }
   ],
   "source": [
    "members = ['Honda','Kawasaki','Toyota','Suzuki']\n",
    "name = members.pop(3)\n",
    "print(name)"
   ]
  },
  {
   "cell_type": "markdown",
   "metadata": {},
   "source": [
    "## 問題２"
   ]
  },
  {
   "cell_type": "markdown",
   "metadata": {},
   "source": [
    "リストのメソッドを使ってスタックを作成してください。スタックは、最後に追加された要素が最初に取得されるものとする。（後入れ先出し）  \n",
    "まず、空のスタックを用意して要素１を追加し、次に要素２を追加します。その次にスタックの先頭（トップ）から要素の取得を２回繰り返してください。"
   ]
  },
  {
   "cell_type": "markdown",
   "metadata": {},
   "source": [
    "## 解答"
   ]
  },
  {
   "cell_type": "code",
   "execution_count": 7,
   "metadata": {},
   "outputs": [
    {
     "name": "stdout",
     "output_type": "stream",
     "text": [
      "stack: [1]\n",
      "stack: [1, 2]\n",
      "pop 1st value: 2\n",
      "pop 2st value: 1\n",
      "stack: []\n"
     ]
    }
   ],
   "source": [
    "stack = []\n",
    "stack.append(1)\n",
    "print('stack:', stack)\n",
    "stack.append(2)\n",
    "print('stack:', stack)\n",
    "print('pop 1st value:', stack.pop())\n",
    "print('pop 2st value:', stack.pop())\n",
    "print('stack:', stack)"
   ]
  },
  {
   "cell_type": "markdown",
   "metadata": {},
   "source": [
    "## 問題３"
   ]
  },
  {
   "cell_type": "markdown",
   "metadata": {},
   "source": [
    "リストのメソッドを使って、キューを作成しなさい。キューでは、最初に追加された要素が最初に取得されるものとします。（先入れ後出し）  \n",
    "まず、空のキューを用意し、要素１を追加し、次に要素２を追加します。次にキューの先頭から、要素の取得を２回繰り返してください。  "
   ]
  },
  {
   "cell_type": "markdown",
   "metadata": {},
   "source": [
    "## 解答"
   ]
  },
  {
   "cell_type": "code",
   "execution_count": 9,
   "metadata": {},
   "outputs": [
    {
     "name": "stdout",
     "output_type": "stream",
     "text": [
      "queue: [1]\n",
      "queue: [1, 2]\n",
      "pop from queue 1st value: 1\n",
      "pop from queue 2st value: 2\n",
      "queue: []\n"
     ]
    }
   ],
   "source": [
    "queue = []\n",
    "queue.append(1)\n",
    "print('queue:', queue)\n",
    "queue.append(2)\n",
    "print('queue:', queue)\n",
    "print('pop from queue 1st value:', queue.pop(0))\n",
    "print('pop from queue 2st value:', queue.pop(0))\n",
    "print('queue:', queue)"
   ]
  },
  {
   "cell_type": "markdown",
   "metadata": {},
   "source": [
    "# 5.2"
   ]
  },
  {
   "cell_type": "markdown",
   "metadata": {},
   "source": [
    "## 問題1"
   ]
  },
  {
   "cell_type": "markdown",
   "metadata": {},
   "source": [
    "　下記プログラムを実行した結果を求めなさい（pritをして眺めるだけではないということはわかりますよね？手作業で計算してください）  \n",
    "```Python\n",
    "num = [[1, 2, 3, 4, 5],\n",
    "      [6, 7, 8, 9, 10]]\n",
    "col = [row[2] for row in num]\n",
    "```"
   ]
  },
  {
   "cell_type": "markdown",
   "metadata": {},
   "source": [
    "## 解答"
   ]
  },
  {
   "cell_type": "code",
   "execution_count": 11,
   "metadata": {},
   "outputs": [
    {
     "name": "stdout",
     "output_type": "stream",
     "text": [
      "[3, 8]\n"
     ]
    }
   ],
   "source": [
    "num = [[1, 2, 3, 4, 5],\n",
    "      [6, 7, 8, 9, 10]]\n",
    "col = [row[2] for row in num]\n",
    "print(col)"
   ]
  },
  {
   "cell_type": "markdown",
   "metadata": {},
   "source": [
    "## 問題2"
   ]
  },
  {
   "cell_type": "markdown",
   "metadata": {},
   "source": [
    "　下記プログラムを実行した結果を求めなさい（pritをして眺めるだけではないということはわかりますよね？手作業で計算してください）\n",
    "```Python\n",
    "list1 = [1, 2, 3, 4, 5, 6, 7, 8, 9]\n",
    "[x if x%2==0 else None for x in list1]\n",
    "```"
   ]
  },
  {
   "cell_type": "markdown",
   "metadata": {},
   "source": [
    "## 解答"
   ]
  },
  {
   "cell_type": "code",
   "execution_count": 14,
   "metadata": {},
   "outputs": [
    {
     "data": {
      "text/plain": [
       "[None, 2, None, 4, None, 6, None, 8, None]"
      ]
     },
     "execution_count": 14,
     "metadata": {},
     "output_type": "execute_result"
    }
   ],
   "source": [
    "list1 = [1, 2, 3, 4, 5, 6, 7, 8, 9]\n",
    "[x if x%2==0 else None for x in list1]"
   ]
  },
  {
   "cell_type": "markdown",
   "metadata": {},
   "source": [
    "## 問題3"
   ]
  },
  {
   "cell_type": "markdown",
   "metadata": {},
   "source": [
    "　下記プログラムを実行した結果を求めなさい（pritをして眺めるだけではないということはわかりますよね？手作業で計算してください）\n",
    "```Python\n",
    "[x*y for x in range(3) for y in range(x+1)]\n",
    "```"
   ]
  },
  {
   "cell_type": "markdown",
   "metadata": {},
   "source": [
    "## 解答"
   ]
  },
  {
   "cell_type": "code",
   "execution_count": 15,
   "metadata": {},
   "outputs": [
    {
     "data": {
      "text/plain": [
       "[0, 0, 1, 0, 2, 4]"
      ]
     },
     "execution_count": 15,
     "metadata": {},
     "output_type": "execute_result"
    }
   ],
   "source": [
    "[x*y for x in range(3) for y in range(x+1)]"
   ]
  },
  {
   "cell_type": "markdown",
   "metadata": {},
   "source": [
    "# 5.3"
   ]
  },
  {
   "cell_type": "markdown",
   "metadata": {},
   "source": [
    "## 問題1"
   ]
  },
  {
   "cell_type": "markdown",
   "metadata": {},
   "source": [
    "　下記プログラムを実行した結果を求めなさい（pritをして眺めるだけではないということはわかりますよね？手作業で計算してください）\n",
    "```Python\n",
    "members = ['Yamada','Satou','Suzuki','Tanaka','Itou']\n",
    "del members[2]\n",
    "members\n",
    "```"
   ]
  },
  {
   "cell_type": "markdown",
   "metadata": {},
   "source": [
    "## 解答"
   ]
  },
  {
   "cell_type": "code",
   "execution_count": 16,
   "metadata": {},
   "outputs": [
    {
     "data": {
      "text/plain": [
       "['Yamada', 'Satou', 'Tanaka', 'Itou']"
      ]
     },
     "execution_count": 16,
     "metadata": {},
     "output_type": "execute_result"
    }
   ],
   "source": [
    "members = ['Yamada','Satou','Suzuki','Tanaka','Itou']\n",
    "del members[2]\n",
    "members"
   ]
  },
  {
   "cell_type": "markdown",
   "metadata": {},
   "source": [
    "## 問題2"
   ]
  },
  {
   "cell_type": "markdown",
   "metadata": {},
   "source": [
    "　整数１から５までを要素に持つリストxを作成し、del文で末尾の２つの要素を削除するプログラムを作成してください。"
   ]
  },
  {
   "cell_type": "markdown",
   "metadata": {},
   "source": [
    "## 解答"
   ]
  },
  {
   "cell_type": "code",
   "execution_count": 18,
   "metadata": {},
   "outputs": [
    {
     "name": "stdout",
     "output_type": "stream",
     "text": [
      "[1, 2, 3, 4, 5]\n",
      "[1, 2, 3]\n"
     ]
    }
   ],
   "source": [
    "x = list(range(1, 6))\n",
    "print(x)\n",
    "del x[-2:]\n",
    "print(x)"
   ]
  },
  {
   "cell_type": "markdown",
   "metadata": {},
   "source": [
    "# 5.4"
   ]
  },
  {
   "cell_type": "markdown",
   "metadata": {},
   "source": [
    "## 問題1"
   ]
  },
  {
   "cell_type": "markdown",
   "metadata": {},
   "source": [
    "　下記プログラムを実行した結果を求めなさい（pritをして眺めるだけではないということはわかりますよね？手作業で計算してください）\n",
    "```Python\n",
    "a,b,c,d,e = ('Sapporo','Sendai', 'Tokyo', 'Nagoya','Osaka')\n",
    "g = d + e\n",
    "g\n",
    "```"
   ]
  },
  {
   "cell_type": "markdown",
   "metadata": {},
   "source": [
    "## 解答"
   ]
  },
  {
   "cell_type": "code",
   "execution_count": 19,
   "metadata": {},
   "outputs": [
    {
     "data": {
      "text/plain": [
       "'NagoyaOsaka'"
      ]
     },
     "execution_count": 19,
     "metadata": {},
     "output_type": "execute_result"
    }
   ],
   "source": [
    "a,b,c,d,e = ('Sapporo','Sendai', 'Tokyo', 'Nagoya','Osaka')\n",
    "g = d + e\n",
    "g"
   ]
  },
  {
   "cell_type": "markdown",
   "metadata": {},
   "source": [
    "## 問題2"
   ]
  },
  {
   "cell_type": "markdown",
   "metadata": {},
   "source": [
    "　下記プログラムを実行した結果を求めなさい（pritをして眺めるだけではないということはわかりますよね？手作業で計算してください）\n",
    "```Python\n",
    "a, b, c, d, e = (1, 2, 3, 4, 5)\n",
    "d + e\n",
    "```"
   ]
  },
  {
   "cell_type": "markdown",
   "metadata": {},
   "source": [
    "## 解答"
   ]
  },
  {
   "cell_type": "code",
   "execution_count": 20,
   "metadata": {},
   "outputs": [
    {
     "data": {
      "text/plain": [
       "9"
      ]
     },
     "execution_count": 20,
     "metadata": {},
     "output_type": "execute_result"
    }
   ],
   "source": [
    "a, b, c, d, e = (1, 2, 3, 4, 5)\n",
    "d + e"
   ]
  },
  {
   "cell_type": "markdown",
   "metadata": {},
   "source": [
    "## 問題3"
   ]
  },
  {
   "cell_type": "markdown",
   "metadata": {},
   "source": [
    "　下記プログラムを実行した結果を求めなさい（pritをして眺めるだけではないということはわかりますよね？手作業で計算してください）\n",
    "```Python\n",
    "(1, 2, 3, 4, 5) + (1, 2, 3, 4, 5)\n",
    "```"
   ]
  },
  {
   "cell_type": "markdown",
   "metadata": {},
   "source": [
    "## 解答"
   ]
  },
  {
   "cell_type": "code",
   "execution_count": 21,
   "metadata": {},
   "outputs": [
    {
     "data": {
      "text/plain": [
       "(1, 2, 3, 4, 5, 1, 2, 3, 4, 5)"
      ]
     },
     "execution_count": 21,
     "metadata": {},
     "output_type": "execute_result"
    }
   ],
   "source": [
    "(1, 2, 3, 4, 5) + (1, 2, 3, 4, 5)"
   ]
  },
  {
   "cell_type": "markdown",
   "metadata": {},
   "source": [
    "## 問題4"
   ]
  },
  {
   "cell_type": "markdown",
   "metadata": {},
   "source": [
    "　下記プログラムを実行した結果を求めなさい（pritをして眺めるだけではないということはわかりますよね？手作業で計算してください）\n",
    "```Python\n",
    "(1, 2, 3, 4, 5) * 3\n",
    "```"
   ]
  },
  {
   "cell_type": "markdown",
   "metadata": {},
   "source": [
    "## 解答"
   ]
  },
  {
   "cell_type": "code",
   "execution_count": 22,
   "metadata": {},
   "outputs": [
    {
     "data": {
      "text/plain": [
       "(1, 2, 3, 4, 5, 1, 2, 3, 4, 5, 1, 2, 3, 4, 5)"
      ]
     },
     "execution_count": 22,
     "metadata": {},
     "output_type": "execute_result"
    }
   ],
   "source": [
    "(1, 2, 3, 4, 5) * 3"
   ]
  },
  {
   "cell_type": "markdown",
   "metadata": {},
   "source": [
    "# 5.5"
   ]
  },
  {
   "cell_type": "markdown",
   "metadata": {},
   "source": [
    "## 問題1"
   ]
  },
  {
   "cell_type": "markdown",
   "metadata": {},
   "source": [
    "　下記プログラムを実行した結果を求めなさい（pritをして眺めるだけではないということはわかりますよね？手作業で計算してください）\n",
    " ```Python\n",
    "a = {x for x in 'abcabcabc' if x not in 'ab'}\n",
    "a\n",
    "```"
   ]
  },
  {
   "cell_type": "markdown",
   "metadata": {},
   "source": [
    "## 解答"
   ]
  },
  {
   "cell_type": "code",
   "execution_count": 23,
   "metadata": {},
   "outputs": [
    {
     "data": {
      "text/plain": [
       "{'c'}"
      ]
     },
     "execution_count": 23,
     "metadata": {},
     "output_type": "execute_result"
    }
   ],
   "source": [
    "a = {x for x in 'abcabcabc' if x not in 'ab'}\n",
    "a"
   ]
  },
  {
   "cell_type": "markdown",
   "metadata": {},
   "source": [
    "## 問題2"
   ]
  },
  {
   "cell_type": "markdown",
   "metadata": {},
   "source": [
    "　０以上２０以下の奇数を要素として持つ集合Aを、内包表記を使って作成しなさい"
   ]
  },
  {
   "cell_type": "markdown",
   "metadata": {},
   "source": [
    "## 解答"
   ]
  },
  {
   "cell_type": "code",
   "execution_count": 24,
   "metadata": {},
   "outputs": [
    {
     "name": "stdout",
     "output_type": "stream",
     "text": [
      "{1, 3, 5, 7, 9, 11, 13, 15, 17, 19}\n"
     ]
    }
   ],
   "source": [
    "A = {x for x in range(21) if x % 2 == 1}\n",
    "print(A)"
   ]
  },
  {
   "cell_type": "markdown",
   "metadata": {},
   "source": [
    "# 5.6"
   ]
  },
  {
   "cell_type": "markdown",
   "metadata": {},
   "source": [
    "## 問題1"
   ]
  },
  {
   "cell_type": "markdown",
   "metadata": {},
   "source": [
    "下記プログラムを実行した結果を求めなさい（pritをして眺めるだけではないということはわかりますよね？手作業で計算してください）\n",
    "```Python\n",
    "a = {x for x in 'abcabcabc' if x not in 'ab'}\n",
    "b = {y for y in 'abcabcabc' if y not in 'bc'}\n",
    "a | b\n",
    "```"
   ]
  },
  {
   "cell_type": "markdown",
   "metadata": {},
   "source": [
    "## 解答"
   ]
  },
  {
   "cell_type": "code",
   "execution_count": 25,
   "metadata": {},
   "outputs": [
    {
     "data": {
      "text/plain": [
       "{'a', 'c'}"
      ]
     },
     "execution_count": 25,
     "metadata": {},
     "output_type": "execute_result"
    }
   ],
   "source": [
    "a = {x for x in 'abcabcabc' if x not in 'ab'}\n",
    "b = {y for y in 'abcabcabc' if y not in 'bc'}\n",
    "a | b"
   ]
  },
  {
   "cell_type": "markdown",
   "metadata": {},
   "source": [
    "## 問題2"
   ]
  },
  {
   "cell_type": "markdown",
   "metadata": {},
   "source": [
    "　０から２０までの整数を要素として持つ集合Aと、０以上２０以下の偶数を要素として持つ集合Bを作成し、集合Aと集合Bの演算によって０以上２０以下の偶数ではない（奇数である）数を要素とする集合Cを生成してみましょう"
   ]
  },
  {
   "cell_type": "markdown",
   "metadata": {},
   "source": [
    "## 解答"
   ]
  },
  {
   "cell_type": "code",
   "execution_count": 26,
   "metadata": {},
   "outputs": [
    {
     "name": "stdout",
     "output_type": "stream",
     "text": [
      "{0, 1, 2, 3, 4, 5, 6, 7, 8, 9, 10, 11, 12, 13, 14, 15, 16, 17, 18, 19, 20}\n",
      "{0, 2, 4, 6, 8, 10, 12, 14, 16, 18, 20}\n",
      "{1, 3, 5, 7, 9, 11, 13, 15, 17, 19}\n"
     ]
    }
   ],
   "source": [
    "A = {x for x in range(21)}\n",
    "print(A)\n",
    "B = {x for x in range(21) if x % 2 == 0}\n",
    "print(B)\n",
    "C = A - B\n",
    "print(C)"
   ]
  },
  {
   "cell_type": "markdown",
   "metadata": {},
   "source": [
    "# 5.7"
   ]
  },
  {
   "cell_type": "markdown",
   "metadata": {},
   "source": [
    "## 問題1"
   ]
  },
  {
   "cell_type": "markdown",
   "metadata": {},
   "source": [
    "下記プログラムを実行した結果を求めなさい（pritをして眺めるだけではないということはわかりますよね？手作業で計算してください）\n",
    "```Python\n",
    "yamanote_line = {0: 'Tokyo', 1: 'Yuurakuchou', 2:'Shinbashi'}\n",
    "for v in yamanote_line.values():\n",
    "    print(v)\n",
    "```"
   ]
  },
  {
   "cell_type": "markdown",
   "metadata": {},
   "source": [
    "## 解答"
   ]
  },
  {
   "cell_type": "code",
   "execution_count": 28,
   "metadata": {},
   "outputs": [
    {
     "name": "stdout",
     "output_type": "stream",
     "text": [
      "Tokyo\n",
      "Yuurakuchou\n",
      "Shinbashi\n"
     ]
    }
   ],
   "source": [
    "yamanote_line = {0: 'Tokyo', 1: 'Yuurakuchou', 2:'Shinbashi'}\n",
    "for v in yamanote_line.values():\n",
    "    print(v)"
   ]
  },
  {
   "cell_type": "markdown",
   "metadata": {},
   "source": [
    "## 問題2"
   ]
  },
  {
   "cell_type": "markdown",
   "metadata": {},
   "source": [
    "　下記の会員番号、会員の性別、氏名、年齢、都道府県の表をもとに、データを格納する辞書を生成するプログラムを作成しなさい。まず、表を入れ子のリストデータとして生成し、会員番号を辞書のキー、それ以外のレコードをリスト変数として辞書の値とし、辞書変数に格納する形で作りなさい。  \n",
    "\n",
    "|会員番号|性別|性|名|年齢|都道府県|\n",
    "|:-|:-|:-|:-|:-|:-|\n",
    "|'0001'|Male|Yamada|Tarou|25|Tokyo|\n",
    "|'0002'|Male|Satou|Takeshi|27|Kanagawa|\n",
    "|'0003'|Female|Tanaka|Yuko|25|Saitama|\n",
    "|'0004'|Male|Suzuki|Ichirou|35|Hokkaido|"
   ]
  },
  {
   "cell_type": "markdown",
   "metadata": {},
   "source": [
    "## 解答"
   ]
  },
  {
   "cell_type": "code",
   "execution_count": 30,
   "metadata": {},
   "outputs": [
    {
     "data": {
      "text/plain": [
       "[['0001', 'Male', 'Yamada', 'Tarou', 25, 'Tokyo'],\n",
       " ['0002', 'Male', 'Satou', 'Takeshi', 27, 'Kanagawa'],\n",
       " ['0003', 'Female', 'Tanaka', 'Yuko', 25, 'Saitama'],\n",
       " ['0004', 'Male', 'Suzuki', 'Ichirou', 35, 'Hokkaido']]"
      ]
     },
     "execution_count": 30,
     "metadata": {},
     "output_type": "execute_result"
    }
   ],
   "source": [
    "# 表データの生成\n",
    "data = [\n",
    "    ['0001', 'Male', 'Yamada', 'Tarou', 25,'Tokyo',],\n",
    "    ['0002', 'Male', 'Satou', 'Takeshi', 27,'Kanagawa',],\n",
    "    ['0003', 'Female', 'Tanaka', 'Yuko', 25,'Saitama',],\n",
    "    ['0004', 'Male', 'Suzuki', 'Ichirou', 35,'Hokkaido',]\n",
    "]\n",
    "data"
   ]
  },
  {
   "cell_type": "code",
   "execution_count": 31,
   "metadata": {},
   "outputs": [],
   "source": [
    "# 辞書変数生成\n",
    "member_information = {}\n",
    "\n",
    "# 表データをレコード毎に格納する\n",
    "for record in data:\n",
    "    key = record[0]\n",
    "    info = record[1:]\n",
    "    member_information[key] = info"
   ]
  },
  {
   "cell_type": "code",
   "execution_count": 32,
   "metadata": {},
   "outputs": [
    {
     "name": "stdout",
     "output_type": "stream",
     "text": [
      "number\tinformation\n",
      "0001 ['Male', 'Yamada', 'Tarou', 25, 'Tokyo']\n",
      "0002 ['Male', 'Satou', 'Takeshi', 27, 'Kanagawa']\n",
      "0003 ['Female', 'Tanaka', 'Yuko', 25, 'Saitama']\n",
      "0004 ['Male', 'Suzuki', 'Ichirou', 35, 'Hokkaido']\n"
     ]
    }
   ],
   "source": [
    "# 結果を表示する\n",
    "print('number', 'information', sep='\\t')\n",
    "for key, info in member_information.items():\n",
    "    print(key, info)"
   ]
  },
  {
   "cell_type": "markdown",
   "metadata": {},
   "source": [
    "# 5.8"
   ]
  },
  {
   "cell_type": "markdown",
   "metadata": {},
   "source": [
    "## 問題1"
   ]
  },
  {
   "cell_type": "markdown",
   "metadata": {},
   "source": [
    "　下記プログラムを実行した結果を求めなさい（pritをして眺めるだけではないということはわかりますよね？手作業で計算してください）\n",
    "```Python\n",
    "country_code = {\n",
    "    'Iceland': {'code': 354, 'capital': 'Reykjavik'},\n",
    "    'Iceland': {'code': 353, 'capital': 'Dublin'},\n",
    "    'Azerbaidjan': {'code': 994, 'capital': 'Baku'}\n",
    "}\n",
    "\n",
    "def getstr_keyval(x):\n",
    "    if isinstance(x, dict):\n",
    "        return x\n",
    "    \n",
    "    my_str = ''\n",
    "    for key, val in x.items():\n",
    "        my_str += (' ' + str(key) + ' ' + getstr_keyval(val))\n",
    "    return my_str\n",
    "\n",
    "for key1, val1 in country_code.items():\n",
    "    print(key1, getstr_keyval(val1))\n",
    "```"
   ]
  },
  {
   "cell_type": "markdown",
   "metadata": {},
   "source": [
    "## 解答"
   ]
  },
  {
   "cell_type": "code",
   "execution_count": 33,
   "metadata": {},
   "outputs": [
    {
     "name": "stdout",
     "output_type": "stream",
     "text": [
      "Iceland {'code': 353, 'capital': 'Dublin'}\n",
      "Azerbaidjan {'code': 994, 'capital': 'Baku'}\n"
     ]
    }
   ],
   "source": [
    "country_code = {\n",
    "    'Iceland': {'code': 354, 'capital': 'Reykjavik'},\n",
    "    'Iceland': {'code': 353, 'capital': 'Dublin'},\n",
    "    'Azerbaidjan': {'code': 994, 'capital': 'Baku'}\n",
    "}\n",
    "\n",
    "def getstr_keyval(x):\n",
    "    if isinstance(x, dict):\n",
    "        return x\n",
    "\n",
    "    my_str = ''\n",
    "    for key, val in x.items():\n",
    "        my_str += (' ' + str(key) + ' ' + getstr_keyval(val))\n",
    "    return my_str\n",
    "\n",
    "for key1, val1 in country_code.items():\n",
    "    print(key1, getstr_keyval(val1))"
   ]
  },
  {
   "cell_type": "markdown",
   "metadata": {},
   "source": [
    "## 問題2"
   ]
  },
  {
   "cell_type": "markdown",
   "metadata": {},
   "source": [
    "　下記の国番号、会員番号、会員の性別、氏名、年齢、都道府県の表をもとに、データを格納する辞書を生成するプログラムを作成してください。まず、表を入れ子のリストデータとして生成し、国番号と会員番号を辞書のキー、それ以外のレコードをリスト変数として辞書の値とし、辞書変数に格納するものとします。  \n",
    " \n",
    "|国番号|会員番号|性別|性|名|年齢|都道府県|\n",
    "|:-|:-|:-|:-|:-|:-|:-|\n",
    "|'01'|'0001'|Male|Yamada|Tarou|25|Tokyo|\n",
    "|'01'|'0002'|Male|Satou|Takeshi|27|Kanagawa|\n",
    "|'01'|'0003'|Female|Tanaka|Yuko|25|Saitama|\n",
    "|'02'|'0001'|Male|Smith|Mike|22|NewJersey|\n",
    "|'02'|'0002'|Male|Turner|Tom|27|Kansas|\n",
    "|'02'|'0003'|Male|Jackson|David|25|Florida|"
   ]
  },
  {
   "cell_type": "markdown",
   "metadata": {},
   "source": [
    "## 解答"
   ]
  },
  {
   "cell_type": "code",
   "execution_count": 35,
   "metadata": {},
   "outputs": [
    {
     "data": {
      "text/plain": [
       "[['01', '0001', 'Male', 'Yamada', 'Tarou', 25, 'Tokyo'],\n",
       " ['01', '0002', 'Male', 'Satou', 'Takeshi', 27, 'Kanagawa'],\n",
       " ['01', '0003', 'Female', 'Tanaka', 'Yuko', 25, 'Saitama'],\n",
       " ['02', '0001', 'Male', 'Smith', 'Mike', 22, 'NewJersey'],\n",
       " ['02', '0002', 'Male', 'Turner', 'Tom', 27, 'Kansas'],\n",
       " ['02', '0003', 'Male', 'Jackson', 'David', 25, 'Florida']]"
      ]
     },
     "execution_count": 35,
     "metadata": {},
     "output_type": "execute_result"
    }
   ],
   "source": [
    "# 表データの生成\n",
    "data = [\n",
    "    ['01','0001', 'Male', 'Yamada', 'Tarou', 25,'Tokyo'],\n",
    "    ['01','0002', 'Male', 'Satou', 'Takeshi', 27,'Kanagawa'],\n",
    "    ['01','0003', 'Female', 'Tanaka', 'Yuko', 25,'Saitama'],\n",
    "    ['02','0001', 'Male', 'Smith', 'Mike', 22,'NewJersey'],\n",
    "    ['02','0002', 'Male', 'Turner', 'Tom', 27,'Kansas'],\n",
    "    ['02','0003', 'Male', 'Jackson', 'David', 25,'Florida'],\n",
    "]\n",
    "data"
   ]
  },
  {
   "cell_type": "code",
   "execution_count": 38,
   "metadata": {},
   "outputs": [],
   "source": [
    "# 辞書変数生成\n",
    "member_information = {}\n",
    "\n",
    "# 表データをレコード毎に格納する\n",
    "for record in data:\n",
    "    key = (record[0],record[1])\n",
    "    info = record[2:]\n",
    "    member_information[key] = info"
   ]
  },
  {
   "cell_type": "code",
   "execution_count": 39,
   "metadata": {},
   "outputs": [
    {
     "name": "stdout",
     "output_type": "stream",
     "text": [
      "number\tinformation\n",
      "('01', '0001') ['Male', 'Yamada', 'Tarou', 25, 'Tokyo']\n",
      "('01', '0002') ['Male', 'Satou', 'Takeshi', 27, 'Kanagawa']\n",
      "('01', '0003') ['Female', 'Tanaka', 'Yuko', 25, 'Saitama']\n",
      "('02', '0001') ['Male', 'Smith', 'Mike', 22, 'NewJersey']\n",
      "('02', '0002') ['Male', 'Turner', 'Tom', 27, 'Kansas']\n",
      "('02', '0003') ['Male', 'Jackson', 'David', 25, 'Florida']\n"
     ]
    }
   ],
   "source": [
    "# 結果を表示する\n",
    "print('number', 'information', sep='\\t')\n",
    "for key, info in member_information.items():\n",
    "    print(key, info)"
   ]
  },
  {
   "cell_type": "markdown",
   "metadata": {},
   "source": [
    "# 5.9"
   ]
  },
  {
   "cell_type": "markdown",
   "metadata": {},
   "source": [
    "## 問題"
   ]
  },
  {
   "cell_type": "markdown",
   "metadata": {},
   "source": [
    "　ラムダ式を工夫することで、下記の辞書変数mountain_in_japanを、標高の逆順にソートしてください\n",
    "```Python\n",
    "mountain_in_japan = {'fuji': 3776, 'kitadake': 3193, 'okuhodakadake':3190, 'dummy': 0}\n",
    "```"
   ]
  },
  {
   "cell_type": "markdown",
   "metadata": {},
   "source": [
    "## 解答"
   ]
  },
  {
   "cell_type": "code",
   "execution_count": 40,
   "metadata": {},
   "outputs": [
    {
     "name": "stdout",
     "output_type": "stream",
     "text": [
      "[('fuji', 3776), ('kitadake', 3193), ('okuhodakadake', 3190), ('dummy', 0)]\n"
     ]
    }
   ],
   "source": [
    "mountain_in_japan = {'fuji': 3776, 'kitadake': 3193, 'okuhodakadake':3190, 'dummy': 0}\n",
    "mountain_in_japan_sorted = sorted(mountain_in_japan.items(), key=lambda x: x[1], reverse=True)\n",
    "print(mountain_in_japan_sorted)"
   ]
  },
  {
   "cell_type": "markdown",
   "metadata": {},
   "source": [
    "# 5.10"
   ]
  },
  {
   "cell_type": "markdown",
   "metadata": {},
   "source": [
    "## 問題"
   ]
  },
  {
   "cell_type": "markdown",
   "metadata": {},
   "source": [
    "　引数ｘが１０以上、２０未満であるか否かを判定する関数is_number_of_positions_of_10(x)を、比較演算子の連鎖を用いて作成しなさい"
   ]
  },
  {
   "cell_type": "markdown",
   "metadata": {},
   "source": [
    "## 解答"
   ]
  },
  {
   "cell_type": "code",
   "execution_count": 41,
   "metadata": {},
   "outputs": [
    {
     "data": {
      "text/plain": [
       "True"
      ]
     },
     "execution_count": 41,
     "metadata": {},
     "output_type": "execute_result"
    }
   ],
   "source": [
    "def is_number_positions_of_10(x):\n",
    "    return 10 <= x < 20\n",
    "is_number_positions_of_10(12)"
   ]
  },
  {
   "cell_type": "markdown",
   "metadata": {},
   "source": [
    "# 6.1"
   ]
  },
  {
   "cell_type": "markdown",
   "metadata": {},
   "source": [
    "## 問題1"
   ]
  },
  {
   "cell_type": "markdown",
   "metadata": {},
   "source": [
    "　ねこです。ニャーとなく四本足の動物です。ねこはいます。これをもとに、猫のクラスを作ってください。ただし、メソッドは作らずデータ属性のみで作成してください。ねこでした。  \n",
    "実行例  \n",
    "'鳴き声:　ニャー、足の数：　4、動物：　True'"
   ]
  },
  {
   "cell_type": "markdown",
   "metadata": {},
   "source": [
    "## 解答"
   ]
  },
  {
   "cell_type": "code",
   "execution_count": 42,
   "metadata": {},
   "outputs": [],
   "source": [
    "class Cat:\n",
    "    cry = \"ニャー\"\n",
    "    legs = 4\n",
    "    is_animal = True"
   ]
  },
  {
   "cell_type": "code",
   "execution_count": 44,
   "metadata": {},
   "outputs": [
    {
     "data": {
      "text/plain": [
       "'鳴き声: ニャー, 足の数: 4, 動物: True'"
      ]
     },
     "execution_count": 44,
     "metadata": {},
     "output_type": "execute_result"
    }
   ],
   "source": [
    "tama = Cat()\n",
    "\"鳴き声: {}, 足の数: {}, 動物: {}\".format(tama.cry, tama.legs, tama.is_animal)"
   ]
  },
  {
   "cell_type": "markdown",
   "metadata": {},
   "source": [
    "## 問題2"
   ]
  },
  {
   "cell_type": "markdown",
   "metadata": {},
   "source": [
    "　次のような４つの属性をもつ、Personというクラスを作成して下さい。ただし、生成されるインスタンスは、様々な名前や国籍、生年、住所の場合がありうることを想定して下さい。更に、これらの属性を示すためのshow_attributes()というメソッドを持たせてください。  \n",
    "名前　国籍　生年　住所  \n",
    "コーディングの際に次のような英語を使うとかっこいいかもです。  \n",
    "\n",
    "|日本語|英語|\n",
    "|:-|:-|\n",
    "|'名前'|'name'|\n",
    "|'国籍'|'nationality'|\n",
    "|'生年'|'birth'|\n",
    "|'住所'|'address'|"
   ]
  },
  {
   "cell_type": "markdown",
   "metadata": {},
   "source": [
    "## 解答"
   ]
  },
  {
   "cell_type": "code",
   "execution_count": 7,
   "metadata": {},
   "outputs": [],
   "source": [
    "class Person:\n",
    "    def __init__(self, name = '', nationality = '', birth = '', address = ''):\n",
    "        self.name = name\n",
    "        self.nationality = nationality\n",
    "        self.birth = birth\n",
    "        self.address = address\n",
    "        \n",
    "    def show_attributes(self):\n",
    "        print(\"名前:\", self.name)\n",
    "        print(\"国籍:\", self.nationality)\n",
    "        print(\"生まれた年:\", self.birth)\n",
    "        print(\"住んでる場所:\", self.address)"
   ]
  },
  {
   "cell_type": "code",
   "execution_count": 8,
   "metadata": {},
   "outputs": [
    {
     "name": "stdout",
     "output_type": "stream",
     "text": [
      "名前: かぐや姫\n",
      "国籍: 日本\n",
      "生まれた年: 685\n",
      "住んでる場所: 静岡県富士市\n"
     ]
    }
   ],
   "source": [
    "heroine = Person('かぐや姫','日本','685','静岡県富士市')\n",
    "heroine.show_attributes()"
   ]
  },
  {
   "cell_type": "code",
   "execution_count": 9,
   "metadata": {},
   "outputs": [
    {
     "name": "stdout",
     "output_type": "stream",
     "text": [
      "名前: 金太郎\n",
      "国籍: 日本\n",
      "生まれた年: 956\n",
      "住んでる場所: 静岡県駿東郡小山町\n"
     ]
    }
   ],
   "source": [
    "hero = Person('金太郎','日本','956','静岡県駿東郡小山町')\n",
    "hero.show_attributes()"
   ]
  },
  {
   "cell_type": "markdown",
   "metadata": {},
   "source": [
    "# 6.2"
   ]
  },
  {
   "cell_type": "markdown",
   "metadata": {},
   "source": [
    "## 問題"
   ]
  },
  {
   "cell_type": "markdown",
   "metadata": {},
   "source": [
    "　円柱を表すクラスを生成してください。円柱を半径と高さによって特徴づけて、任意の半径と高さを持つ円柱について表面積と体積を計算しなさい。  \n",
    "※コーディングの際には以下のような名称で使うとかっこいいかもね円周率πは3.14として計算していいです。  \n",
    "\n",
    "|日本語|英語|\n",
    "|:-|:-|\n",
    "|円柱|cylinder|\n",
    "|底面|base|\n",
    "|面積|area|\n",
    "|側面|side|\n",
    "|円周|circumference|\n",
    "|表面積|surface area|\n",
    "|体積|cvolume|\n",
    "|円周率|pi|"
   ]
  },
  {
   "cell_type": "markdown",
   "metadata": {},
   "source": [
    "## 解答"
   ]
  },
  {
   "cell_type": "code",
   "execution_count": 21,
   "metadata": {},
   "outputs": [],
   "source": [
    "class Cylinder:\n",
    "    '''円柱'''\n",
    "    pi = 3.14\n",
    "    \n",
    "    def __init__(self, radius=1, height=1):\n",
    "        '''円柱を特徴づける属性'''\n",
    "        self.radius = float(radius)\n",
    "        self.height = float(height)\n",
    "        \n",
    "    def calc_base_area(self):\n",
    "        '''低面積を計算'''\n",
    "        pi = Cylinder.pi\n",
    "        r = self.radius\n",
    "        return pi * r * r\n",
    "    \n",
    "    def calc_side_area(self):\n",
    "        '''側面積を計算'''\n",
    "        pi = Cylinder.pi\n",
    "        r = self.radius\n",
    "        h = self.height\n",
    "        return 2 * pi * r * h\n",
    "    \n",
    "    def calc_surface_area(self):\n",
    "        '''表面積を計算'''\n",
    "        c = self.calc_base_area()\n",
    "        s = self.calc_side_area()\n",
    "        return 2 * c + s\n",
    "    \n",
    "    def calc_volume(self):\n",
    "        '''体積を計算'''\n",
    "        c = self.calc_base_area()\n",
    "        h = self.height\n",
    "        return c * h\n",
    "    \n",
    "    def show_results(self):\n",
    "        '''属性と計算結果を見せる'''\n",
    "        r = self.radius\n",
    "        h = self.height\n",
    "        S = self.calc_surface_area()\n",
    "        V = self.calc_volume()\n",
    "        print('半径： {}, 高さ: {}, 表面積: {}, 体積{}'.format(r, h, S, V))"
   ]
  },
  {
   "cell_type": "code",
   "execution_count": 22,
   "metadata": {},
   "outputs": [
    {
     "name": "stdout",
     "output_type": "stream",
     "text": [
      "半径： 1.0, 高さ: 1.0, 表面積: 12.56, 体積3.14\n",
      "半径： 1.0, 高さ: 3.0, 表面積: 25.12, 体積9.42\n",
      "半径： 2.0, 高さ: 1.0, 表面積: 37.68, 体積12.56\n",
      "半径： 2.0, 高さ: 3.0, 表面積: 62.8, 体積37.68\n"
     ]
    }
   ],
   "source": [
    "c1 = Cylinder()\n",
    "c1.show_results()\n",
    "c2 = Cylinder(1., 3.)\n",
    "c2.show_results()\n",
    "c3 = Cylinder(2., 1.)\n",
    "c3.show_results()\n",
    "c2 = Cylinder(2., 3.)\n",
    "c2.show_results()"
   ]
  },
  {
   "cell_type": "markdown",
   "metadata": {},
   "source": [
    "# 6.3"
   ]
  },
  {
   "cell_type": "markdown",
   "metadata": {},
   "source": [
    "## 問題1"
   ]
  },
  {
   "cell_type": "markdown",
   "metadata": {},
   "source": [
    "　握り寿司のカツオのクラスを考えます。握り寿司のかつおは赤身をねたとしているところはまぐろと同じですが、生姜とネギのトッピングが加わります。Nigiriのクラスを継承して、かつおのクラスを作ってください。なお、show_attributes()というメソッドで特性を表示するようにしてください。"
   ]
  },
  {
   "cell_type": "code",
   "execution_count": 25,
   "metadata": {},
   "outputs": [],
   "source": [
    "class Nigiri:\n",
    "    category = \"にぎり\"\n",
    "    top = \"ねた\"\n",
    "    base = \"しゃり\"\n",
    "    \n",
    "    def show_attributes(self):\n",
    "        print(\"top: {}, base: {}, category: {}\".format(self.top, self.base, self.category))"
   ]
  },
  {
   "cell_type": "code",
   "execution_count": 26,
   "metadata": {},
   "outputs": [
    {
     "name": "stdout",
     "output_type": "stream",
     "text": [
      "top: ねた, base: しゃり, category: にぎり\n"
     ]
    }
   ],
   "source": [
    "n1 = Nigiri()\n",
    "n1.show_attributes()"
   ]
  },
  {
   "cell_type": "markdown",
   "metadata": {},
   "source": [
    "## 解答"
   ]
  },
  {
   "cell_type": "code",
   "execution_count": 27,
   "metadata": {},
   "outputs": [],
   "source": [
    "class Katsuo(Nigiri):\n",
    "    top = \"かつお\"\n",
    "    topping = \"生姜とねぎ\"\n",
    "    price = 100\n",
    "    \n",
    "    def show_attributes(self):\n",
    "        super().show_attributes()\n",
    "        print(\"topping: {}\".format(self.topping))"
   ]
  },
  {
   "cell_type": "code",
   "execution_count": 28,
   "metadata": {},
   "outputs": [
    {
     "name": "stdout",
     "output_type": "stream",
     "text": [
      "top: かつお, base: しゃり, category: にぎり\n",
      "topping: 生姜とねぎ\n"
     ]
    }
   ],
   "source": [
    "k1 = Katsuo()\n",
    "k1.show_attributes()"
   ]
  },
  {
   "cell_type": "markdown",
   "metadata": {},
   "source": [
    "## 問題2"
   ]
  },
  {
   "cell_type": "markdown",
   "metadata": {},
   "source": [
    "　長方形のクラスを継承して、正方形のクラスを作成してください。長方形は、幅と高さで特徴づけることができ、長方形は幅のみで特徴づけるものとします。長方形も正方形も、州の長さと面積を計算できるメソッドを持つものとします。"
   ]
  },
  {
   "cell_type": "code",
   "execution_count": 36,
   "metadata": {},
   "outputs": [],
   "source": [
    "class Rectangle:\n",
    "    '''長方形'''\n",
    "    angle = 90\n",
    "    \n",
    "    def __init__(self, width, height):\n",
    "        self.name = 'rectangle'\n",
    "        self.width = width\n",
    "        self.height = height\n",
    "        self.perimeter = self.calc_perimeter()\n",
    "        self.area = self.calc_area()\n",
    "        \n",
    "    def calc_perimeter(self):\n",
    "        w = self.width\n",
    "        h = self.height\n",
    "        return (w + h) * 2\n",
    "    \n",
    "    def calc_area(self):\n",
    "        w = self.width\n",
    "        h = self.height\n",
    "        return w * h\n",
    "    \n",
    "    def show_attributes(self):\n",
    "        ang = self.angle\n",
    "        n = self.name\n",
    "        w = self.width\n",
    "        h = self.height\n",
    "        p = self.perimeter\n",
    "        a = self.area\n",
    "        print(\"name: {}, width: {}, height: {}, angle : {}\".format(n, w, h, ang))\n",
    "        print(\"perimeter: {}, area: {}\".format(p, a))\n"
   ]
  },
  {
   "cell_type": "code",
   "execution_count": 37,
   "metadata": {},
   "outputs": [
    {
     "name": "stdout",
     "output_type": "stream",
     "text": [
      "name: rectangle, width: 4, height: 3, angle : 90\n",
      "perimeter: 14, area: 12\n"
     ]
    }
   ],
   "source": [
    "# インスタンスを作って実行\n",
    "r1 = Rectangle(4, 3)\n",
    "r1.show_attributes()"
   ]
  },
  {
   "cell_type": "markdown",
   "metadata": {},
   "source": [
    "## 解答"
   ]
  },
  {
   "cell_type": "code",
   "execution_count": 38,
   "metadata": {},
   "outputs": [],
   "source": [
    "class Square(Rectangle):\n",
    "    '''正方形'''\n",
    "    \n",
    "    def __init__(self, width):\n",
    "        super().__init__(width, width)\n",
    "        self.name = 'square'"
   ]
  },
  {
   "cell_type": "code",
   "execution_count": 40,
   "metadata": {},
   "outputs": [
    {
     "name": "stdout",
     "output_type": "stream",
     "text": [
      "name: square, width: 4, height: 4, angle : 90\n",
      "perimeter: 16, area: 16\n"
     ]
    }
   ],
   "source": [
    "# インスタンスを作って実行\n",
    "s1 = Square(4)\n",
    "s1.show_attributes()"
   ]
  },
  {
   "cell_type": "markdown",
   "metadata": {},
   "source": [
    "# 6.4"
   ]
  },
  {
   "cell_type": "markdown",
   "metadata": {},
   "source": [
    "## 問題1"
   ]
  },
  {
   "cell_type": "markdown",
   "metadata": {},
   "source": [
    "　百万行からなるファイルの最初の３行を表示するプログラムを作成してください。ただし、百万行からなるファイルを手打ちで作るのは大変なので、以下の方法で作成したものを使ってください。\n",
    "```Python\n",
    "import random\n",
    "# 何回実行しても同じ結果になるように seed （乱数の種みたいなもの）を固定する\n",
    "random.seed(1)\n",
    "msgs = [\"Hi\", \"Hello\", \"Good morning\", \"Good night\", \"See you later\", \"How are you\", \"Have a good day\", \"hoge\", \"fuga\", \"piyo\", \"(^ω^)\"]\n",
    "with open(\"some.txt\",\"w\") as f:\n",
    "    for i in range(1000000):\n",
    "        f.write(\"{}, {}\\n\".format(i, random.choice(msgs)))\n",
    "```"
   ]
  },
  {
   "cell_type": "code",
   "execution_count": 41,
   "metadata": {},
   "outputs": [],
   "source": [
    "import random\n",
    "# 何回実行しても同じ結果になるように seed （乱数の種みたいなもの）を固定する\n",
    "random.seed(1)\n",
    "msgs = [\"Hi\", \"Hello\", \"Good morning\", \"Good night\", \"See you later\", \"How are you\", \"Have a good day\", \"hoge\", \"fuga\", \"piyo\", \"(^ω^)\"]\n",
    "with open(\"some.txt\",\"w\") as f:\n",
    "    for i in range(1000000):\n",
    "        f.write(\"{}, {}\\n\".format(i, random.choice(msgs)))"
   ]
  },
  {
   "cell_type": "markdown",
   "metadata": {},
   "source": [
    "## 解答"
   ]
  },
  {
   "cell_type": "code",
   "execution_count": 45,
   "metadata": {},
   "outputs": [
    {
     "name": "stdout",
     "output_type": "stream",
     "text": [
      "0, Good morning\n",
      "1, piyo\n",
      "2, Hello\n",
      "Wall time: 998 µs\n"
     ]
    }
   ],
   "source": [
    "%%time\n",
    "f = open('some.txt')\n",
    "c = 0\n",
    "for l in f:\n",
    "    print(l,end='')\n",
    "    if c == 2:\n",
    "        break\n",
    "    c += 1\n",
    "f.close()"
   ]
  },
  {
   "cell_type": "markdown",
   "metadata": {},
   "source": [
    "## 問題2"
   ]
  },
  {
   "cell_type": "markdown",
   "metadata": {},
   "source": [
    "　素数を返すジェネレータ関数を作成してください。素数とは、一とその数自身との外には約数がない正の整数のことです。  \n",
    "　たとえば、最初の10個の素数は、  \n",
    "　2,3,5,7,11,13,17,19,23,29  \n",
    "です。  \n",
    "素数は無限個あることが証明されています。（ここ豆知識）  "
   ]
  },
  {
   "cell_type": "markdown",
   "metadata": {},
   "source": [
    "## 解答"
   ]
  },
  {
   "cell_type": "code",
   "execution_count": 8,
   "metadata": {},
   "outputs": [],
   "source": [
    "import math\n",
    "def gen_prime(x=2):\n",
    "    '''素数を返すジェネレータ関数'''\n",
    "    while True:\n",
    "        for i in range(2, int(math.sqrt(x))+1):\n",
    "            if x % i == 0:\n",
    "                break\n",
    "        else:\n",
    "            yield x\n",
    "        x += 1"
   ]
  },
  {
   "cell_type": "code",
   "execution_count": 9,
   "metadata": {},
   "outputs": [
    {
     "name": "stdout",
     "output_type": "stream",
     "text": [
      "10007 10009 10037 10039 10061 10067 10069 10079 10091 10093 \n",
      "Wall time: 998 µs\n"
     ]
    }
   ],
   "source": [
    "%%time\n",
    "i = gen_prime(10000)\n",
    "for c in range(10):\n",
    "    print(next(i), end=\" \")\n",
    "print(\"\")"
   ]
  },
  {
   "cell_type": "markdown",
   "metadata": {},
   "source": [
    "# 6.5"
   ]
  },
  {
   "cell_type": "markdown",
   "metadata": {},
   "source": [
    "## 問題1"
   ]
  },
  {
   "cell_type": "markdown",
   "metadata": {},
   "source": [
    "　数学関数my_pow()が含まれる、 my_math.py というモジュールファイルを作成しなさい。数学関数 my_pow() は、引数を二つ受け取り、値を一つ返します。第一引数を x 、第二引数を y とすると、 x の y 乗を返すものとする。  \n",
    "　このモジュールファイルをインポートして、引数に x=2 と y=5 を与え、結果が 32 になることを確認せよ。"
   ]
  },
  {
   "cell_type": "markdown",
   "metadata": {},
   "source": [
    "## 解答"
   ]
  },
  {
   "cell_type": "code",
   "execution_count": 11,
   "metadata": {},
   "outputs": [],
   "source": [
    "# my_powの中身\n",
    "def my_pow(x, y):\n",
    "    return x ** y"
   ]
  },
  {
   "cell_type": "code",
   "execution_count": 12,
   "metadata": {},
   "outputs": [],
   "source": [
    "with open(\"my_math.py\", \"w\") as f:\n",
    "    f.write(\"\"\"def my_pow(x, y):\n",
    "    return x ** y\\n\"\"\")"
   ]
  },
  {
   "cell_type": "code",
   "execution_count": 13,
   "metadata": {},
   "outputs": [
    {
     "data": {
      "text/plain": [
       "32"
      ]
     },
     "execution_count": 13,
     "metadata": {},
     "output_type": "execute_result"
    }
   ],
   "source": [
    "import my_math\n",
    "my_math.my_pow(2, 5)"
   ]
  },
  {
   "cell_type": "code",
   "execution_count": 14,
   "metadata": {},
   "outputs": [
    {
     "data": {
      "text/plain": [
       "1.4142135623730951"
      ]
     },
     "execution_count": 14,
     "metadata": {},
     "output_type": "execute_result"
    }
   ],
   "source": [
    "# おまけ（√２の計算）\n",
    "my_math.my_pow(2, 0.5)"
   ]
  },
  {
   "cell_type": "markdown",
   "metadata": {},
   "source": [
    "## 問題2"
   ]
  },
  {
   "cell_type": "markdown",
   "metadata": {},
   "source": [
    "　上記と同じ関数を含む my_math2.py という名前のモジュールファイルを作成し、スクリプトとして実行したときは my_pow() のテストコードが実行され、モジュールとして実行されたときはテストコードが実行されないようにしなさい。テストコードは、引数に 2 と 5 を与えて結果が 32 になることを確認するものとする。"
   ]
  },
  {
   "cell_type": "markdown",
   "metadata": {},
   "source": [
    "## 解答"
   ]
  },
  {
   "cell_type": "code",
   "execution_count": 25,
   "metadata": {},
   "outputs": [],
   "source": [
    "with open(\"my_math2.py\", \"w\") as f:\n",
    "    f.writelines('''def my_pow(x, y):\n",
    "    return x ** y\n",
    "if __name__ == \"__main__\":\n",
    "    x, y, exp = 2, 5, 32\n",
    "    ans = my_pow(x, y)\n",
    "    print(\"Test my_pow({},{}) -> {}, exp: {} ---- \".format(x, y, ans, exp), end=\"\")\n",
    "    if ans == exp:\n",
    "        print(\"Test OK\")\n",
    "    else:\n",
    "        print(\"Test Fail\")\\n''')"
   ]
  },
  {
   "cell_type": "code",
   "execution_count": 26,
   "metadata": {},
   "outputs": [
    {
     "name": "stdout",
     "output_type": "stream",
     "text": [
      "Test my_pow(2,5) -> 32, exp: 32 ---- Test OK\n"
     ]
    }
   ],
   "source": [
    "!python my_math2.py"
   ]
  },
  {
   "cell_type": "code",
   "execution_count": 27,
   "metadata": {},
   "outputs": [
    {
     "data": {
      "text/plain": [
       "32"
      ]
     },
     "execution_count": 27,
     "metadata": {},
     "output_type": "execute_result"
    }
   ],
   "source": [
    "import my_math2\n",
    "my_math2.my_pow(2, 5)"
   ]
  },
  {
   "cell_type": "markdown",
   "metadata": {},
   "source": [
    "# 6.6"
   ]
  },
  {
   "cell_type": "markdown",
   "metadata": {},
   "source": [
    "## 問題"
   ]
  },
  {
   "cell_type": "markdown",
   "metadata": {},
   "source": [
    "　下記プログラムを実行した結果を求めなさい（pritをして眺めるだけではないということはわかりますよね？手作業で計算してください）\n",
    "```Python\n",
    "x = 'Happy '\n",
    "def event1():\n",
    "    print(\"In event1:\", x, end=\" -> \")\n",
    "    \n",
    "def event2():\n",
    "    x = 'sad   '\n",
    "    print(\"In event2:\", x, end=\" -> \")\n",
    "    \n",
    "def event3():\n",
    "    global x\n",
    "    x = 'Tired '\n",
    "    print(\"In event3:\", x, end=\" -> \")\n",
    "    \n",
    "def event4():\n",
    "    x = 'Excite'\n",
    "    def happening():\n",
    "        print(\"In event4:\", x, end=\" -> \")\n",
    "    happening()\n",
    "    \n",
    "def event5():\n",
    "    x = 'fun   '\n",
    "    def happening():\n",
    "        nonlocal x\n",
    "        x = 'Score '\n",
    "    happening()\n",
    "    print(\"In event5:\", x, end=\" -> \")\n",
    "\n",
    "func_list = [event1, event2, event3, event4, event5]\n",
    "for f in func_list:\n",
    "    f()\n",
    "    print(\"After {}: {}\".format(f.__name__, x))\n",
    "```"
   ]
  },
  {
   "cell_type": "markdown",
   "metadata": {},
   "source": [
    "## 解答"
   ]
  },
  {
   "cell_type": "code",
   "execution_count": 28,
   "metadata": {},
   "outputs": [
    {
     "name": "stdout",
     "output_type": "stream",
     "text": [
      "In event1: Happy  -> After event1: Happy \n",
      "In event2: sad    -> After event2: Happy \n",
      "In event3: Tired  -> After event3: Tired \n",
      "In event4: Excite -> After event4: Tired \n",
      "In event5: Score  -> After event5: Tired \n"
     ]
    }
   ],
   "source": [
    "x = 'Happy '\n",
    "def event1():\n",
    "    print(\"In event1:\", x, end=\" -> \")\n",
    "\n",
    "def event2():\n",
    "    x = 'sad   '\n",
    "    print(\"In event2:\", x, end=\" -> \")\n",
    "\n",
    "def event3():\n",
    "    global x\n",
    "    x = 'Tired '\n",
    "    print(\"In event3:\", x, end=\" -> \")\n",
    "\n",
    "def event4():\n",
    "    x = 'Excite'\n",
    "    def happening():\n",
    "        print(\"In event4:\", x, end=\" -> \")\n",
    "    happening()\n",
    "\n",
    "def event5():\n",
    "    x = 'fun   '\n",
    "    def happening():\n",
    "        nonlocal x\n",
    "        x = 'Score '\n",
    "    happening()\n",
    "    print(\"In event5:\", x, end=\" -> \")\n",
    "\n",
    "func_list = [event1, event2, event3, event4, event5]\n",
    "for f in func_list:\n",
    "    f()\n",
    "    print(\"After {}: {}\".format(f.__name__, x))"
   ]
  },
  {
   "cell_type": "markdown",
   "metadata": {},
   "source": [
    "# 7.1"
   ]
  },
  {
   "cell_type": "markdown",
   "metadata": {},
   "source": [
    "## 問題1"
   ]
  },
  {
   "cell_type": "markdown",
   "metadata": {},
   "source": [
    "　人の名前をキーに、年齢を要素にした以下のような内容の辞書変数 name_age を用意し、キーを引数として要素を返す関数 dict_info(dict_tbl, key) を作成してください。その後、 dict_info 関数に name_age 変数と 'satou', name_age 変数と 'yamada' を指定して実行し、正しく動作することを確認してください。ただし、 key 引数に name_age に登録されていない人命が指定された場合は、 try-except を使って 'key is not found' を返すようにします。  \n",
    "```Python\n",
    "{'tanaka': 35, 'satou': 25, 'suzuki': 27}\n",
    "```"
   ]
  },
  {
   "cell_type": "markdown",
   "metadata": {},
   "source": [
    "## 解答"
   ]
  },
  {
   "cell_type": "code",
   "execution_count": 30,
   "metadata": {},
   "outputs": [
    {
     "name": "stdout",
     "output_type": "stream",
     "text": [
      "25\n",
      "key is not found\n"
     ]
    }
   ],
   "source": [
    "name_age = {'tanaka': 35, 'satou': 25, 'suzuki': 27}\n",
    "\n",
    "def dict_info(dict_tbl, key):\n",
    "    try:\n",
    "        return dict_tbl[key]\n",
    "    except:\n",
    "        return 'key is not found'\n",
    "    \n",
    "print(dict_info(name_age, 'satou'))\n",
    "print(dict_info(name_age, 'yamada'))"
   ]
  },
  {
   "cell_type": "markdown",
   "metadata": {},
   "source": [
    "## 問題2"
   ]
  },
  {
   "cell_type": "markdown",
   "metadata": {},
   "source": [
    "　プログラミングにおいてよくある例外として、ゼロ除算による例外があります。少数を要素とするリスト変数の平均値を求める関数 list_average() を、 try-except 文を用いて作成しなさい。  \n",
    " ゼロ除算とかのうんぬんかんぬんが入ってるページとか  \n",
    "https://tenshoku.mynavi.jp/engineer/z/dictionary/14/"
   ]
  },
  {
   "cell_type": "markdown",
   "metadata": {},
   "source": [
    "## 解答"
   ]
  },
  {
   "cell_type": "code",
   "execution_count": 32,
   "metadata": {},
   "outputs": [
    {
     "name": "stdout",
     "output_type": "stream",
     "text": [
      "3.5666666666666664\n",
      "list_length: 0\n",
      "None\n"
     ]
    }
   ],
   "source": [
    "def list_average(x):\n",
    "    try:\n",
    "        return sum(x)/len(x)\n",
    "    except:\n",
    "        print('list_length:',len(x))\n",
    "        return None\n",
    "    \n",
    "print(list_average([3.9, 4.5, 2.3]))\n",
    "print(list_average([]))"
   ]
  },
  {
   "cell_type": "markdown",
   "metadata": {},
   "source": [
    "## 問題3"
   ]
  },
  {
   "cell_type": "markdown",
   "metadata": {},
   "source": [
    "　以下のプログラムを実行したらエラーが出るらしい。どのようなエラーが出るか答えなさい。\n",
    "```Python\n",
    "int('3.5')\n",
    "```"
   ]
  },
  {
   "cell_type": "markdown",
   "metadata": {},
   "source": [
    "## 解答"
   ]
  },
  {
   "cell_type": "code",
   "execution_count": 38,
   "metadata": {},
   "outputs": [
    {
     "ename": "ValueError",
     "evalue": "invalid literal for int() with base 10: '3.5'",
     "output_type": "error",
     "traceback": [
      "\u001b[1;31m---------------------------------------------------------------------------\u001b[0m",
      "\u001b[1;31mValueError\u001b[0m                                Traceback (most recent call last)",
      "\u001b[1;32m<ipython-input-38-6a27da1b269d>\u001b[0m in \u001b[0;36m<module>\u001b[1;34m\u001b[0m\n\u001b[1;32m----> 1\u001b[1;33m \u001b[0mint\u001b[0m\u001b[1;33m(\u001b[0m\u001b[1;34m'3.5'\u001b[0m\u001b[1;33m)\u001b[0m\u001b[1;33m\u001b[0m\u001b[1;33m\u001b[0m\u001b[0m\n\u001b[0m",
      "\u001b[1;31mValueError\u001b[0m: invalid literal for int() with base 10: '3.5'"
     ]
    }
   ],
   "source": [
    "int('3.5')"
   ]
  },
  {
   "cell_type": "markdown",
   "metadata": {},
   "source": [
    "## 問題4"
   ]
  },
  {
   "cell_type": "markdown",
   "metadata": {},
   "source": [
    "　以下のプログラムを実行したらエラーが出るらしい。どのようなエラーが出るか答えなさい。\n",
    "```Python\n",
    "my_list = []\n",
    "my_list.insert(3)\n",
    "```"
   ]
  },
  {
   "cell_type": "markdown",
   "metadata": {},
   "source": [
    "## 解答"
   ]
  },
  {
   "cell_type": "code",
   "execution_count": 39,
   "metadata": {},
   "outputs": [
    {
     "ename": "TypeError",
     "evalue": "insert expected 2 arguments, got 1",
     "output_type": "error",
     "traceback": [
      "\u001b[1;31m---------------------------------------------------------------------------\u001b[0m",
      "\u001b[1;31mTypeError\u001b[0m                                 Traceback (most recent call last)",
      "\u001b[1;32m<ipython-input-39-7bd0edc481ba>\u001b[0m in \u001b[0;36m<module>\u001b[1;34m\u001b[0m\n\u001b[0;32m      1\u001b[0m \u001b[0mmy_list\u001b[0m \u001b[1;33m=\u001b[0m \u001b[1;33m[\u001b[0m\u001b[1;33m]\u001b[0m\u001b[1;33m\u001b[0m\u001b[1;33m\u001b[0m\u001b[0m\n\u001b[1;32m----> 2\u001b[1;33m \u001b[0mmy_list\u001b[0m\u001b[1;33m.\u001b[0m\u001b[0minsert\u001b[0m\u001b[1;33m(\u001b[0m\u001b[1;36m3\u001b[0m\u001b[1;33m)\u001b[0m\u001b[1;33m\u001b[0m\u001b[1;33m\u001b[0m\u001b[0m\n\u001b[0m",
      "\u001b[1;31mTypeError\u001b[0m: insert expected 2 arguments, got 1"
     ]
    }
   ],
   "source": [
    "my_list = []\n",
    "my_list.insert(3)"
   ]
  },
  {
   "cell_type": "markdown",
   "metadata": {},
   "source": [
    "# 7.2"
   ]
  },
  {
   "cell_type": "markdown",
   "metadata": {},
   "source": [
    "## 問題1"
   ]
  },
  {
   "cell_type": "markdown",
   "metadata": {},
   "source": [
    "　リスト変数と、インデックスを引数としてインデックスの要素を削除する関数 list_del_nth(list, index) を作成してください。もし、 index（整数）の要素が list にない場合は、 try-except 文を使ってメッセージ 'Index Not Found' を出力し、それ以外の例外が発生したときは 'Unexpected Error' を出力してください。また、 try 節が正常に完了したときは、 'Successfully' を出力してください。"
   ]
  },
  {
   "cell_type": "markdown",
   "metadata": {},
   "source": [
    "## 解答"
   ]
  },
  {
   "cell_type": "code",
   "execution_count": 41,
   "metadata": {},
   "outputs": [
    {
     "name": "stdout",
     "output_type": "stream",
     "text": [
      "Unexpected Error\n",
      "Index Not Found\n",
      "Successfully\n"
     ]
    },
    {
     "data": {
      "text/plain": [
       "['b', 'c', 'd']"
      ]
     },
     "execution_count": 41,
     "metadata": {},
     "output_type": "execute_result"
    }
   ],
   "source": [
    "def list_del_nth(list_, index):\n",
    "    try:\n",
    "        del list_[index]\n",
    "    except IndexError:\n",
    "        print('Index Not Found')\n",
    "    except:\n",
    "        print('Unexpected Error')\n",
    "    else:\n",
    "        print('Successfully')\n",
    "            \n",
    "my_list = ['a', 'b', 'c', 'd']\n",
    "list_del_nth(my_list, '5')\n",
    "list_del_nth(my_list, 5)\n",
    "list_del_nth(my_list, 0)\n",
    "\n",
    "my_list"
   ]
  },
  {
   "cell_type": "markdown",
   "metadata": {},
   "source": [
    "## 問題2"
   ]
  },
  {
   "cell_type": "markdown",
   "metadata": {},
   "source": [
    "　与えられた引数の値を2乗して返す関数 esquare() を作成しなさい。ただし、関数内で引数の型を確認して、引数が整数もしくは少数でなければ TypeError例外を送出するものとします。"
   ]
  },
  {
   "cell_type": "markdown",
   "metadata": {},
   "source": [
    "## 解答"
   ]
  },
  {
   "cell_type": "code",
   "execution_count": 43,
   "metadata": {},
   "outputs": [
    {
     "name": "stdout",
     "output_type": "stream",
     "text": [
      "4\n"
     ]
    },
    {
     "ename": "ValueError",
     "evalue": "('square', 'a')",
     "output_type": "error",
     "traceback": [
      "\u001b[1;31m---------------------------------------------------------------------------\u001b[0m",
      "\u001b[1;31mValueError\u001b[0m                                Traceback (most recent call last)",
      "\u001b[1;32m<ipython-input-43-3cec248acf46>\u001b[0m in \u001b[0;36m<module>\u001b[1;34m\u001b[0m\n\u001b[0;32m      8\u001b[0m \u001b[1;33m\u001b[0m\u001b[0m\n\u001b[0;32m      9\u001b[0m \u001b[0mprint\u001b[0m\u001b[1;33m(\u001b[0m\u001b[0msquare\u001b[0m\u001b[1;33m(\u001b[0m\u001b[1;36m2\u001b[0m\u001b[1;33m)\u001b[0m\u001b[1;33m)\u001b[0m\u001b[1;33m\u001b[0m\u001b[1;33m\u001b[0m\u001b[0m\n\u001b[1;32m---> 10\u001b[1;33m \u001b[0mprint\u001b[0m\u001b[1;33m(\u001b[0m\u001b[0msquare\u001b[0m\u001b[1;33m(\u001b[0m\u001b[1;34m'a'\u001b[0m\u001b[1;33m)\u001b[0m\u001b[1;33m)\u001b[0m\u001b[1;33m\u001b[0m\u001b[1;33m\u001b[0m\u001b[0m\n\u001b[0m",
      "\u001b[1;32m<ipython-input-43-3cec248acf46>\u001b[0m in \u001b[0;36msquare\u001b[1;34m(x)\u001b[0m\n\u001b[0;32m      4\u001b[0m             \u001b[0mx\u001b[0m \u001b[1;33m=\u001b[0m \u001b[0mint\u001b[0m\u001b[1;33m(\u001b[0m\u001b[0mx\u001b[0m\u001b[1;33m)\u001b[0m\u001b[1;33m\u001b[0m\u001b[1;33m\u001b[0m\u001b[0m\n\u001b[0;32m      5\u001b[0m         \u001b[1;32melse\u001b[0m\u001b[1;33m:\u001b[0m\u001b[1;33m\u001b[0m\u001b[1;33m\u001b[0m\u001b[0m\n\u001b[1;32m----> 6\u001b[1;33m             \u001b[1;32mraise\u001b[0m \u001b[0mValueError\u001b[0m\u001b[1;33m(\u001b[0m\u001b[1;34m'square'\u001b[0m\u001b[1;33m,\u001b[0m \u001b[0mx\u001b[0m\u001b[1;33m)\u001b[0m\u001b[1;33m\u001b[0m\u001b[1;33m\u001b[0m\u001b[0m\n\u001b[0m\u001b[0;32m      7\u001b[0m     \u001b[1;32mreturn\u001b[0m \u001b[0mx\u001b[0m \u001b[1;33m**\u001b[0m \u001b[0mx\u001b[0m\u001b[1;33m\u001b[0m\u001b[1;33m\u001b[0m\u001b[0m\n\u001b[0;32m      8\u001b[0m \u001b[1;33m\u001b[0m\u001b[0m\n",
      "\u001b[1;31mValueError\u001b[0m: ('square', 'a')"
     ]
    }
   ],
   "source": [
    "def square(x):\n",
    "    if not isinstance(x, (int, float)):\n",
    "        if isinstance(x, str) and x.isdigit():\n",
    "            x = int(x)\n",
    "        else:\n",
    "            raise ValueError('square', x)        \n",
    "    return x ** x\n",
    "\n",
    "print(square(2))\n",
    "print(square('a'))"
   ]
  },
  {
   "cell_type": "markdown",
   "metadata": {},
   "source": [
    "# 7.3"
   ]
  },
  {
   "cell_type": "markdown",
   "metadata": {},
   "source": [
    "## 問題"
   ]
  },
  {
   "cell_type": "markdown",
   "metadata": {},
   "source": [
    "　辞書にキーが登録されていないことを示すユーザー定義例外 MyDictKeyError クラスと、辞書 dict_tbl 、および変数 key を引数とする関数 get_ dict_value(dict_tbl, key) を作成してください。 get_diict_value(dict_tbl, key) 関数は、 key が dict_tbl に登録されていないときは MyDictKeyError を送出し、 key が dict_tbl に登録されているときは key に反応する値を返すものとします。"
   ]
  },
  {
   "cell_type": "markdown",
   "metadata": {},
   "source": [
    "## 解答"
   ]
  },
  {
   "cell_type": "code",
   "execution_count": 45,
   "metadata": {},
   "outputs": [
    {
     "name": "stdout",
     "output_type": "stream",
     "text": [
      "辞書にKeyが登録されていません 5\n",
      "5 purple をmy_dictに追加しました\n"
     ]
    },
    {
     "data": {
      "text/plain": [
       "'purple'"
      ]
     },
     "execution_count": 45,
     "metadata": {},
     "output_type": "execute_result"
    }
   ],
   "source": [
    "color_reference = {1: 'red', 2: 'blue', 3: 'yellow', 4: 'green', 5: 'purple'}\n",
    "\n",
    "class MyDictKeyError(Exception):\n",
    "    def __init__(self, key):\n",
    "        self.key = key\n",
    "    def __str__(self):\n",
    "        return '辞書にKeyが登録されていません {0}'.format(self.key)\n",
    "    \n",
    "def get_dict_value(dict_tbl, key):\n",
    "    if key not in dict_tbl:\n",
    "        raise MyDictKeyError(key)\n",
    "    else:\n",
    "        return dict_tbl[key]\n",
    "    \n",
    "my_dict = {1: 'red', 2: 'blue', 3: 'yellow'}\n",
    "\n",
    "try:\n",
    "    my_color = get_dict_value(my_dict, 5)\n",
    "except MyDictKeyError as err:\n",
    "    print(err)\n",
    "    key = err.args[0]\n",
    "    my_dict[key] = color_reference[key]\n",
    "    print(key, color_reference[key], 'をmy_dictに追加しました')\n",
    "    my_color = color_reference[key]\n",
    "    \n",
    "my_color"
   ]
  },
  {
   "cell_type": "markdown",
   "metadata": {},
   "source": [
    "# 7.4"
   ]
  },
  {
   "cell_type": "markdown",
   "metadata": {},
   "source": [
    "## 問題1"
   ]
  },
  {
   "cell_type": "markdown",
   "metadata": {},
   "source": [
    "　with 文を使ってテキストファイルをかき出しモードでオープンし、 'Hello out_test.txt' の文字列を書き込んでください。"
   ]
  },
  {
   "cell_type": "markdown",
   "metadata": {},
   "source": [
    "## 解答"
   ]
  },
  {
   "cell_type": "code",
   "execution_count": 47,
   "metadata": {},
   "outputs": [
    {
     "name": "stdout",
     "output_type": "stream",
     "text": [
      "Hello out_test.txt"
     ]
    }
   ],
   "source": [
    "fname = 'out_test.txt'\n",
    "s = 'Hello out_test.txt'\n",
    "with open(fname, 'w') as f:\n",
    "    f.write(s)\n",
    "    \n",
    "with open(fname, 'r') as f:\n",
    "    for line in f:\n",
    "        print(line, end=\"\")"
   ]
  },
  {
   "cell_type": "markdown",
   "metadata": {},
   "source": [
    "## 問題2"
   ]
  },
  {
   "cell_type": "markdown",
   "metadata": {},
   "source": [
    "　以下のプログラムを実行した際の実行結果を確かめなさい（pritをして眺めるだけではないということはわかりますよね？手作業で計算してください）\n",
    "```Python\n",
    "def test_function():\n",
    "    try:\n",
    "        print('try')\n",
    "        return\n",
    "    except:\n",
    "        print('except')\n",
    "    else:\n",
    "        print('else')\n",
    "    finally:\n",
    "        print('finally')\n",
    "        \n",
    "test_function()\n",
    "```"
   ]
  },
  {
   "cell_type": "markdown",
   "metadata": {},
   "source": [
    "## 解答"
   ]
  },
  {
   "cell_type": "code",
   "execution_count": 48,
   "metadata": {},
   "outputs": [
    {
     "name": "stdout",
     "output_type": "stream",
     "text": [
      "try\n",
      "finally\n"
     ]
    }
   ],
   "source": [
    "def test_function():\n",
    "    try:\n",
    "        print('try')\n",
    "        return\n",
    "    except:\n",
    "        print('except')\n",
    "    else:\n",
    "        print('else')\n",
    "    finally:\n",
    "        print('finally')\n",
    "\n",
    "test_function()"
   ]
  },
  {
   "cell_type": "markdown",
   "metadata": {},
   "source": [
    "# 8.1"
   ]
  },
  {
   "cell_type": "markdown",
   "metadata": {},
   "source": [
    "## 問題1"
   ]
  },
  {
   "cell_type": "markdown",
   "metadata": {},
   "source": [
    "　カレントディレクトリに save_dir というディレクトリが存在するかを調べ、存在するときは存在することを表示し、存在しなければ作成して、作成したことを表示する関数を作成してください。関数の名前は prepare_dir() としてください。"
   ]
  },
  {
   "cell_type": "markdown",
   "metadata": {},
   "source": [
    "## 解答"
   ]
  },
  {
   "cell_type": "code",
   "execution_count": 8,
   "metadata": {},
   "outputs": [],
   "source": [
    "import os\n",
    "def prepare_dir(dir_name=\"save_dir\"):\n",
    "    if os.path.exists(dir_name):\n",
    "        print(\"ディレクトリ '{}' が存在します。\".format(dir_name))\n",
    "    else:\n",
    "        os.mkdir(dir_name)\n",
    "        print(\"ディレクトリ '{}' を作成しました。\".format(dir_name))"
   ]
  },
  {
   "cell_type": "code",
   "execution_count": 9,
   "metadata": {},
   "outputs": [
    {
     "name": "stdout",
     "output_type": "stream",
     "text": [
      "ディレクトリ 'save_dir' を作成しました。\n"
     ]
    }
   ],
   "source": [
    "prepare_dir()"
   ]
  },
  {
   "cell_type": "code",
   "execution_count": 10,
   "metadata": {},
   "outputs": [
    {
     "name": "stdout",
     "output_type": "stream",
     "text": [
      "ディレクトリ 'save_dir' が存在します。\n"
     ]
    }
   ],
   "source": [
    "prepare_dir()"
   ]
  },
  {
   "cell_type": "markdown",
   "metadata": {},
   "source": [
    "## 問題2"
   ]
  },
  {
   "cell_type": "markdown",
   "metadata": {},
   "source": [
    "　問題１で作成したディレクトリ save_dir の存在を確認して、存在していればそのことを報告し、ディレクトリを消去して消去したことを報告し、存在しなければ存在しないことを報告する関数を作成してください。関数名は delete_dir() としてください。"
   ]
  },
  {
   "cell_type": "markdown",
   "metadata": {},
   "source": [
    "## 解答"
   ]
  },
  {
   "cell_type": "code",
   "execution_count": 11,
   "metadata": {},
   "outputs": [],
   "source": [
    "import os\n",
    "\n",
    "def delete_dir(dir_name=\"save_dir\"):\n",
    "    if os.path.exists(dir_name):\n",
    "        print(\"ディレクトリ '{}' が存在します。\".format(dir_name))\n",
    "        os.rmdir(dir_name)\n",
    "        print(\"ディレクトリ '{}' を削除しました。\".format(dir_name))\n",
    "    else:\n",
    "        print(\"ディレクトリ '{}' はありません。\".format(dir_name))"
   ]
  },
  {
   "cell_type": "code",
   "execution_count": 12,
   "metadata": {},
   "outputs": [
    {
     "name": "stdout",
     "output_type": "stream",
     "text": [
      "ディレクトリ 'save_dir' が存在します。\n",
      "ディレクトリ 'save_dir' を削除しました。\n"
     ]
    }
   ],
   "source": [
    "delete_dir()"
   ]
  },
  {
   "cell_type": "code",
   "execution_count": 13,
   "metadata": {},
   "outputs": [
    {
     "name": "stdout",
     "output_type": "stream",
     "text": [
      "ディレクトリ 'save_dir' はありません。\n"
     ]
    }
   ],
   "source": [
    "delete_dir()"
   ]
  },
  {
   "cell_type": "markdown",
   "metadata": {},
   "source": [
    "# 8.2"
   ]
  },
  {
   "cell_type": "markdown",
   "metadata": {},
   "source": [
    "## 問題1"
   ]
  },
  {
   "cell_type": "markdown",
   "metadata": {},
   "source": [
    "　以下のプログラムを実行すると、どのような結果が得られるか答えなさい\n",
    "```Python\n",
    "import pathlib\n",
    "p = pathlib.Path('.')\n",
    "for pf in p.iterdir():\n",
    "    if pf.is_file():\n",
    "        print(str(pf))\n",
    "```"
   ]
  },
  {
   "cell_type": "markdown",
   "metadata": {},
   "source": [
    "## 解答"
   ]
  },
  {
   "cell_type": "code",
   "execution_count": 14,
   "metadata": {},
   "outputs": [
    {
     "name": "stdout",
     "output_type": "stream",
     "text": [
      "8.5 math・statistics 問題１.jpg\n",
      "my_math.py\n",
      "my_math2.py\n",
      "numbers.txt\n",
      "out_test.txt\n",
      "sample.txt\n",
      "some.txt\n",
      "test1.pkl\n",
      "問題＆解答集.ipynb\n"
     ]
    }
   ],
   "source": [
    "import pathlib\n",
    "p = pathlib.Path('.')\n",
    "for pf in p.iterdir():\n",
    "    if pf.is_file():\n",
    "        print(str(pf))"
   ]
  },
  {
   "cell_type": "markdown",
   "metadata": {},
   "source": [
    "## 問題2"
   ]
  },
  {
   "cell_type": "markdown",
   "metadata": {},
   "source": [
    "　カレントディレクトリにある、名前が「a」で始まるディレクトリの一覧を表示するプログラムを書いてください。"
   ]
  },
  {
   "cell_type": "markdown",
   "metadata": {},
   "source": [
    "## 解答"
   ]
  },
  {
   "cell_type": "code",
   "execution_count": 18,
   "metadata": {},
   "outputs": [],
   "source": [
    "import pathlib\n",
    "p = pathlib.Path('.')\n",
    "for pf in p.glob('a*'):\n",
    "    if pf.is_dir():\n",
    "        print(pf)"
   ]
  },
  {
   "cell_type": "markdown",
   "metadata": {},
   "source": [
    "# 8.3"
   ]
  },
  {
   "cell_type": "markdown",
   "metadata": {},
   "source": [
    "## 問題"
   ]
  },
  {
   "cell_type": "markdown",
   "metadata": {},
   "source": [
    "　文字列を受け取って、使われている文字数を数え、１回しか出てこない文字を返すプログラムを作ってください。入力する文字列は、「すもももももももものうち」を利用しても構いません。"
   ]
  },
  {
   "cell_type": "markdown",
   "metadata": {},
   "source": [
    "## 解答"
   ]
  },
  {
   "cell_type": "code",
   "execution_count": 19,
   "metadata": {},
   "outputs": [
    {
     "data": {
      "text/plain": [
       "['す', 'の', 'う', 'ち']"
      ]
     },
     "execution_count": 19,
     "metadata": {},
     "output_type": "execute_result"
    }
   ],
   "source": [
    "import collections\n",
    "data = 'すもももももももものうち'\n",
    "count = collections.Counter(data)\n",
    "res_dict = collections.defaultdict(list)\n",
    "for ch, cnt in count.items():\n",
    "    res_dict[cnt].append(ch)\n",
    "res_dict[1]"
   ]
  },
  {
   "cell_type": "markdown",
   "metadata": {},
   "source": [
    "# 8.4"
   ]
  },
  {
   "cell_type": "markdown",
   "metadata": {},
   "source": [
    "## 問題"
   ]
  },
  {
   "cell_type": "markdown",
   "metadata": {},
   "source": [
    "　次の文章から、半角英字、ハイフン、数字が組み合わさった単語すべてを抜き出してください。  \n",
    "　かなり昔の話だが、 hoge777 に対して多大なる信頼を感じていた気がしていた。札幌駅から遠くの駅まで向かう際も fu333ga を欠かさず買っていたのも昔の記憶として鮮明に残っている。 111piyo だって今の相棒だ。"
   ]
  },
  {
   "cell_type": "markdown",
   "metadata": {},
   "source": [
    "## 解答"
   ]
  },
  {
   "cell_type": "code",
   "execution_count": 24,
   "metadata": {},
   "outputs": [
    {
     "data": {
      "text/plain": [
       "['hoge777', 'fu333']"
      ]
     },
     "execution_count": 24,
     "metadata": {},
     "output_type": "execute_result"
    }
   ],
   "source": [
    "import re\n",
    "\n",
    "data = '　かなり昔の話だが、 hoge777 に対して多大なる信頼を感じていた気がしていた。札幌駅から遠くの駅まで向かう際も fu333ga を欠かさず買っていたのも昔の記憶として鮮明に残っている。 111piyo だって今の相棒だ。'\n",
    "re.findall(r'[a-zA-Z-]+\\d+', data)"
   ]
  },
  {
   "cell_type": "markdown",
   "metadata": {},
   "source": [
    "# 8.5"
   ]
  },
  {
   "cell_type": "markdown",
   "metadata": {},
   "source": [
    "## 問題"
   ]
  },
  {
   "attachments": {
    "8.5%20math%E3%83%BBstatistics%20%E5%95%8F%E9%A1%8C%EF%BC%91.jpg": {
     "image/jpeg": "[encoded data removed]"
    }
   },
   "cell_type": "markdown",
   "metadata": {},
   "source": [
    "　円周率 π をシミュレーションで求めることを考えます。原点を中心として半径１の円と、これを取り込む１辺が２の正方形を考えます。 x 座標と y 座標がともに正となる第１象限のみを考え、ここにランダムに点を発生させるます。図中で原点と点線で結ばれている点は、原点から距離 L にあり、$L = (x_0^2 + y_0^2 )^{1/2} $となります。 L が１以下ならば円の内側にあり、それ以外は円の外側と考えることができます。 math.pi との誤差が $1.0 × 10^{-5} $ より小さくなるまでに、いくつの点を発生させればよいか考えなさい。\n",
    "![8.5%20math%E3%83%BBstatistics%20%E5%95%8F%E9%A1%8C%EF%BC%91.jpg](attachment:8.5%20math%E3%83%BBstatistics%20%E5%95%8F%E9%A1%8C%EF%BC%91.jpg)"
   ]
  },
  {
   "cell_type": "markdown",
   "metadata": {},
   "source": [
    "## 解答"
   ]
  },
  {
   "cell_type": "code",
   "execution_count": 26,
   "metadata": {},
   "outputs": [
    {
     "name": "stdout",
     "output_type": "stream",
     "text": [
      "3.141597868859861\n",
      "287921\n"
     ]
    }
   ],
   "source": [
    "import math\n",
    "import random\n",
    "\n",
    "total = 0\n",
    "num_inside = 0\n",
    "\n",
    "sim_pi = 0\n",
    "while not math.isclose(sim_pi, math.pi, abs_tol=1e-5):\n",
    "    x = random.random()\n",
    "    y = random.random()\n",
    "    L = pow(x**2 + y**2, 0.5)\n",
    "    total += 1\n",
    "    if L <= 1:\n",
    "        num_inside += 1\n",
    "        sim_pi = 4 * num_inside / total\n",
    "print(sim_pi)\n",
    "print(total)"
   ]
  },
  {
   "cell_type": "markdown",
   "metadata": {},
   "source": [
    "# 8.6"
   ]
  },
  {
   "cell_type": "markdown",
   "metadata": {},
   "source": [
    "## 問題"
   ]
  },
  {
   "cell_type": "markdown",
   "metadata": {},
   "source": [
    "　'20180101120130'の文字列を２０１８年０１月１２時０１分１３秒として、datetime変数を生成してください。さらに、読み込んだ変数を再び'20180101120130'に変換して表示してください。"
   ]
  },
  {
   "cell_type": "markdown",
   "metadata": {},
   "source": [
    "## 解答"
   ]
  },
  {
   "cell_type": "code",
   "execution_count": 4,
   "metadata": {},
   "outputs": [
    {
     "name": "stdout",
     "output_type": "stream",
     "text": [
      "2018-05-12 01:03:00\n",
      "20180512010300\n"
     ]
    }
   ],
   "source": [
    "from datetime import datetime\n",
    "t_str = '201805120130'\n",
    "dt = datetime.strptime(t_str,\"%Y%m%d%H%M%S\")\n",
    "print(dt)\n",
    "print(dt.strftime(\"%Y%m%d%H%M%S\"))"
   ]
  },
  {
   "cell_type": "markdown",
   "metadata": {},
   "source": [
    "# 8.7"
   ]
  },
  {
   "cell_type": "markdown",
   "metadata": {},
   "source": [
    "## 問題"
   ]
  },
  {
   "cell_type": "markdown",
   "metadata": {},
   "source": [
    "　JSON 形式の名簿データファイルを作成してください。名簿に登録するデータは、以下の構成のものとします。名簿データをファイルに保存したら、再び別の変数に読み込んで、全要素を表示してください。\n",
    " \n",
    "|名前|年齢|血液型|性別|\n",
    "|:-|:-|:-|:-|\n",
    "|tanaka|20|A|男性|\n",
    "|satou|19|O|女性|\n",
    "|suzuki|20|AB|男性|"
   ]
  },
  {
   "cell_type": "markdown",
   "metadata": {},
   "source": [
    "## 解答"
   ]
  },
  {
   "cell_type": "code",
   "execution_count": 8,
   "metadata": {},
   "outputs": [
    {
     "name": "stdout",
     "output_type": "stream",
     "text": [
      "tanaka {'age': 20, 'bloodtype': 'A', 'gender': 'male'}\n",
      "satou {'age': 19, 'bloodtype': 'O', 'gender': 'female'}\n",
      "suzuki {'age': 20, 'bloodtype': 'AB', 'gender': 'female'}\n"
     ]
    }
   ],
   "source": [
    "import json\n",
    "\n",
    "name_list = {\n",
    "    'tanaka':{\n",
    "        'age':20,\n",
    "        'bloodtype':'A',\n",
    "        'gender':'male'\n",
    "    },\n",
    "    'satou':{\n",
    "        'age':19,\n",
    "        'bloodtype':'O',\n",
    "        'gender':'female'\n",
    "    },\n",
    "    'suzuki':{\n",
    "        'age':20,\n",
    "        'bloodtype':'AB',\n",
    "        'gender':'female'\n",
    "    }\n",
    "}\n",
    "\n",
    "with open('name_list.json','w') as f1:\n",
    "    json.dump(name_list, f1)\n",
    "    \n",
    "with open('name_list.json','r') as f2:\n",
    "    name_list_l = json.load(f2)\n",
    "    \n",
    "for key, val in name_list_l.items():\n",
    "    print(key,val)"
   ]
  },
  {
   "cell_type": "markdown",
   "metadata": {},
   "source": [
    "# 8.8"
   ]
  },
  {
   "cell_type": "markdown",
   "metadata": {},
   "source": [
    "## 問題1"
   ]
  },
  {
   "cell_type": "markdown",
   "metadata": {},
   "source": [
    "　下記内容のプログラムを実行した結果を予測したのち、確かめなさい。  \n",
    "```Python\n",
    "import sqlite3\n",
    "\n",
    "db = 'test.db'\n",
    "con = sqlite3.connect(db)\n",
    "csr = con.cursor()\n",
    "\n",
    "csr.execute('create table human(name, nickname);')\n",
    "\n",
    "csr.execute(\"insert into human(name) values('Ichiro');\")\n",
    "csr.execute(\"insert into human(name) values('Jiro');\")\n",
    "csr.execute(\"insert into human(name) values('Saburo');\")\n",
    "\n",
    "csr.execute(\"update human set nickname = 'Lazer' where name = 'Ichiro';\")\n",
    "\n",
    "csr.execute(\"select * from human;\")\n",
    "print(csr.fetchall())\n",
    "\n",
    "con.commit()\n",
    "con.close()\n",
    "```"
   ]
  },
  {
   "cell_type": "markdown",
   "metadata": {},
   "source": [
    "## 解答"
   ]
  },
  {
   "cell_type": "code",
   "execution_count": 9,
   "metadata": {},
   "outputs": [
    {
     "name": "stdout",
     "output_type": "stream",
     "text": [
      "[('Ichiro', 'Lazer'), ('Jiro', None), ('Saburo', None)]\n"
     ]
    }
   ],
   "source": [
    "import sqlite3\n",
    "\n",
    "db = 'test.db'\n",
    "con = sqlite3.connect(db)\n",
    "csr = con.cursor()\n",
    "\n",
    "csr.execute('create table human(name, nickname);')\n",
    "\n",
    "csr.execute(\"insert into human(name) values('Ichiro');\")\n",
    "csr.execute(\"insert into human(name) values('Jiro');\")\n",
    "csr.execute(\"insert into human(name) values('Saburo');\")\n",
    "\n",
    "csr.execute(\"update human set nickname = 'Lazer' where name = 'Ichiro';\")\n",
    "\n",
    "csr.execute(\"select * from human;\")\n",
    "print(csr.fetchall())\n",
    "\n",
    "con.commit()\n",
    "con.close()"
   ]
  },
  {
   "cell_type": "markdown",
   "metadata": {},
   "source": [
    "## 問題2"
   ]
  },
  {
   "cell_type": "markdown",
   "metadata": {},
   "source": [
    "　下記内容のプログラムを実行した結果を予測したのち、確かめなさい。（問題１実行後の結果が残っている状態で実行してください）  \n",
    "```Python\n",
    "import sqlite3\n",
    "\n",
    "db = 'test.db'\n",
    "\n",
    "con = sqlite3.connect(db)\n",
    "csr = con.cursor()\n",
    "\n",
    "csr.execute(\"Update human set nickname = 'Lazer' where name = 'Jiro';\")\n",
    "\n",
    "csr.execute(\"delete from human where nickname = 'Lazer';\")\n",
    "\n",
    "csr.execute(\"select * from human;\")\n",
    "print(csr.fetchall())\n",
    "\n",
    "con.commit()\n",
    "con.close()\n",
    "```"
   ]
  },
  {
   "cell_type": "markdown",
   "metadata": {},
   "source": [
    "## 解答"
   ]
  },
  {
   "cell_type": "code",
   "execution_count": 10,
   "metadata": {},
   "outputs": [
    {
     "name": "stdout",
     "output_type": "stream",
     "text": [
      "[('Saburo', None)]\n"
     ]
    }
   ],
   "source": [
    "import sqlite3\n",
    "\n",
    "db = 'test.db'\n",
    "\n",
    "con = sqlite3.connect(db)\n",
    "csr = con.cursor()\n",
    "\n",
    "csr.execute(\"Update human set nickname = 'Lazer' where name = 'Jiro';\")\n",
    "\n",
    "csr.execute(\"delete from human where nickname = 'Lazer';\")\n",
    "\n",
    "csr.execute(\"select * from human;\")\n",
    "print(csr.fetchall())\n",
    "\n",
    "con.commit()\n",
    "con.close()"
   ]
  },
  {
   "cell_type": "markdown",
   "metadata": {},
   "source": [
    "# 8.9"
   ]
  },
  {
   "cell_type": "markdown",
   "metadata": {},
   "source": [
    "## 問題"
   ]
  },
  {
   "cell_type": "markdown",
   "metadata": {},
   "source": [
    "　小数点以下にかすかな違いがある二つの大きな数の差を求め、差からかすかな違いを引いたとき、浮動小数点型だとゼロにはなりません。例えば、百億より0.2大きい数字から百億をひいたものを diff とし、 diff - 0.2 を計算すると、次のようにかなり大きな差が出ます。"
   ]
  },
  {
   "cell_type": "code",
   "execution_count": 1,
   "metadata": {},
   "outputs": [
    {
     "data": {
      "text/plain": [
       "7.629394531138978e-07"
      ]
     },
     "execution_count": 1,
     "metadata": {},
     "output_type": "execute_result"
    }
   ],
   "source": [
    "diff = 10000000000.2 - 10000000000\n",
    "diff - 0.2"
   ]
  },
  {
   "cell_type": "markdown",
   "metadata": {},
   "source": [
    "　これを、 Decimal クラスを使って計算しなおすとどうなるか確認してください。そしてその結果の理由を考えなさい。"
   ]
  },
  {
   "cell_type": "markdown",
   "metadata": {},
   "source": [
    "## 解答"
   ]
  },
  {
   "cell_type": "code",
   "execution_count": 13,
   "metadata": {},
   "outputs": [
    {
     "data": {
      "text/plain": [
       "Decimal('0.0')"
      ]
     },
     "execution_count": 13,
     "metadata": {},
     "output_type": "execute_result"
    }
   ],
   "source": [
    "from decimal import Decimal\n",
    "diff_d = Decimal(\"10_000_000_000.2\") - Decimal(\"10_000_000_000\")\n",
    "diff_d - Decimal(\"0.2\")"
   ]
  },
  {
   "cell_type": "markdown",
   "metadata": {},
   "source": [
    "# 8.10"
   ]
  },
  {
   "cell_type": "markdown",
   "metadata": {},
   "source": [
    "## 問題1"
   ]
  },
  {
   "cell_type": "markdown",
   "metadata": {},
   "source": [
    "プログラムを実行して次の結果の出力ファイルを得たいとします。\n",
    "```\n",
    "WARNING:root:1\n",
    "ERROR:root:2\n",
    "```\n",
    "コードを書きなさい。"
   ]
  },
  {
   "cell_type": "markdown",
   "metadata": {},
   "source": [
    "## 解答"
   ]
  },
  {
   "cell_type": "code",
   "execution_count": 14,
   "metadata": {},
   "outputs": [],
   "source": [
    "import logging\n",
    "\n",
    "logging.basicConfig(filename='practice1.log', level=logging.WARNING)\n",
    "logging.warning('1')\n",
    "logging.error('2')\n",
    "logging.debug('3')\n",
    "logging.info('4')\n",
    "logging.shutdown()"
   ]
  },
  {
   "cell_type": "markdown",
   "metadata": {},
   "source": [
    "## 問題2"
   ]
  },
  {
   "cell_type": "markdown",
   "metadata": {},
   "source": [
    "　引数 x1 を引数 x2 で割った数を返す関数 devide(x1, x2) を作成し、関数内で ZeroDivisionError を発生させ、 try-except 文の except 節から logging.exception メソッドを使い、例外情報を標準表示に出力してください。"
   ]
  },
  {
   "cell_type": "markdown",
   "metadata": {},
   "source": [
    "## 解答"
   ]
  },
  {
   "cell_type": "code",
   "execution_count": 2,
   "metadata": {},
   "outputs": [],
   "source": [
    "import logging\n",
    "\n",
    "def devide(x1, x2):\n",
    "    return x1 / x2\n",
    "\n",
    "logging.basicConfig(filename='testlog.log',level=logging.WARNING,format='%(levelname)s:%(asctime)s:%(message)s')\n",
    "\n",
    "try:\n",
    "    ret = devide(10, 0)\n",
    "except:\n",
    "    logging.exception('test exception message')\n",
    "logging.shutdown()"
   ]
  },
  {
   "cell_type": "code",
   "execution_count": null,
   "metadata": {},
   "outputs": [],
   "source": []
  }
 ],
 "metadata": {
  "kernelspec": {
   "display_name": "Python 3",
   "language": "python",
   "name": "python3"
  },
  "language_info": {
   "codemirror_mode": {
    "name": "ipython",
    "version": 3
   },
   "file_extension": ".py",
   "mimetype": "text/x-python",
   "name": "python",
   "nbconvert_exporter": "python",
   "pygments_lexer": "ipython3",
   "version": "3.8.3"
  }
 },
 "nbformat": 4,
 "nbformat_minor": 4
}
