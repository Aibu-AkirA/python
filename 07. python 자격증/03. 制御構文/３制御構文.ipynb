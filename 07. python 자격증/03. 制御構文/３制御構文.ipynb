{
 "cells": [
  {
   "cell_type": "markdown",
   "metadata": {},
   "source": [
    "# 3.1"
   ]
  },
  {
   "cell_type": "markdown",
   "metadata": {},
   "source": [
    "## 問題１\n",
    "次のプログラムを実行した結果を求めなさい<br>\n",
    "<br>\n",
    "a = 100<br>\n",
    "if a>= 10:<br>\n",
    "    print(a)<br>"
   ]
  },
  {
   "cell_type": "markdown",
   "metadata": {},
   "source": [
    "### 答え：100が出力されます。"
   ]
  },
  {
   "cell_type": "markdown",
   "metadata": {},
   "source": [
    "## 問題２\n",
    "次のプログラムを実行した結果を求めなさい<br>\n",
    "<br>\n",
    "```python\n",
    "a = 0\n",
    "if a == 0:\n",
    "    a += 1\n",
    "    a *= 2\n",
    "    a -= 1\n",
    "print(a)\n",
    "```"
   ]
  },
  {
   "cell_type": "markdown",
   "metadata": {},
   "source": [
    "### 答え\n",
    "```python\n",
    "a = 0\n",
    "if a == 0:\n",
    "a += 1 -> #a = 1\n",
    "a *= 2 -> #a = 2\n",
    "a -= 1 -> #a = 1\n",
    "print(a)\n",
    "```\n",
    "1が出力されます。"
   ]
  },
  {
   "cell_type": "markdown",
   "metadata": {},
   "source": [
    "# 3.2"
   ]
  },
  {
   "cell_type": "markdown",
   "metadata": {},
   "source": [
    "## 問題１\n",
    "次の処理を実行した後、変数aの値は何になるでしょうか<br>\n",
    "<br>\n",
    "```python\n",
    "a = 10\n",
    "if a > 10:\n",
    "    a /= 2\n",
    "else:\n",
    "    a += 1\n",
    "```"
   ]
  },
  {
   "cell_type": "markdown",
   "metadata": {},
   "source": [
    "### 答え：11になります。"
   ]
  },
  {
   "cell_type": "markdown",
   "metadata": {},
   "source": [
    "## 問題２\n",
    "次の結果になるようにhogeを書き換えてください 変数aの値が１００以上の場合は２倍。変数aの値が５０以上１００未満の場合は２で割る。それ以外は２足す。\n",
    "```python\n",
    "if a >= 100:\n",
    "    a *= 2\n",
    "elif hoge:\n",
    "    a /= 2\n",
    "else:\n",
    "    a += 2\n",
    "```"
   ]
  },
  {
   "cell_type": "markdown",
   "metadata": {},
   "source": [
    "### 答え：\n",
    "```python\n",
    "if a >= 100:\n",
    "    a *= 2\n",
    "elif a < 50:\n",
    "    a /= 2\n",
    "else:\n",
    "    a += 2\n",
    "```"
   ]
  },
  {
   "cell_type": "markdown",
   "metadata": {},
   "source": [
    "# 3.3"
   ]
  },
  {
   "cell_type": "markdown",
   "metadata": {},
   "source": [
    "## 問題１\n",
    "次のリストから、文字数が六文字以上の文字列のみを格納したリストを作るようなソースを教えてください（迫真\n",
    "※工藤がやり方わからないから聞いてるわけではないんだからねっ(>ω<)"
   ]
  },
  {
   "cell_type": "code",
   "execution_count": 2,
   "metadata": {},
   "outputs": [],
   "source": [
    "my_list = ['Tokyo', 'Osaka', 'Fukuoka', 'Aichi', 'Kyoto', 'Chiba', 'Saitama', 'Gunma']"
   ]
  },
  {
   "cell_type": "code",
   "execution_count": 3,
   "metadata": {},
   "outputs": [
    {
     "name": "stdout",
     "output_type": "stream",
     "text": [
      "['Fukuoka', 'Saitama']\n"
     ]
    }
   ],
   "source": [
    "my_list_6Over = []\n",
    "for i in my_list:\n",
    "    if len(i) > 5:\n",
    "        my_list_6Over.append(i)\n",
    "print(my_list_6Over)"
   ]
  },
  {
   "cell_type": "markdown",
   "metadata": {},
   "source": [
    "## 問題２\n",
    "次のプログラムを動かした場合、最終的な変数xの値はどうなる？\n",
    "```python\n",
    "my_list = [1, 1, 2, 3, 5, 8, 13]\n",
    "x = 0\n",
    "for n in my_list:\n",
    "    if n % 2 != 0:\n",
    "        x += n\n",
    "```"
   ]
  },
  {
   "cell_type": "markdown",
   "metadata": {},
   "source": [
    "### 答え：\n",
    "n % 2 != 0: -> 1, 1, 3, 5, 13 なので<br>\n",
    "xは23になります。<br>"
   ]
  },
  {
   "cell_type": "markdown",
   "metadata": {},
   "source": [
    "# 3.4"
   ]
  },
  {
   "cell_type": "markdown",
   "metadata": {},
   "source": [
    "## 問題１\n",
    "下記プログラム実行時の出力を答えなさい。また、contibueをbreakに書き換えた場合の出力を答えなさい。\n",
    "```python\n",
    "for i in range(10):\n",
    "    if i % 2 == 0:\n",
    "        continue\n",
    "    print(i)\n",
    "```"
   ]
  },
  {
   "cell_type": "markdown",
   "metadata": {},
   "source": [
    "### 答え：\n",
    "1<br>\n",
    "3<br>\n",
    "5<br>\n",
    "7<br>\n",
    "9<br>\n",
    "が出力されます。"
   ]
  },
  {
   "cell_type": "markdown",
   "metadata": {},
   "source": [
    "continue を breakにすると、1 % 2 は0なので繰り返すが止まります。"
   ]
  },
  {
   "cell_type": "markdown",
   "metadata": {},
   "source": [
    "## 問題２\n",
    "次のプログラムを実行した場合、最終的な変数xの値を答えなさい\n",
    "```python\n",
    "numbers = [1, 1, 2, 3, 5, 8, 13, 21]\n",
    "x = 0\n",
    "for n in numbers:\n",
    "    if n > 10:\n",
    "        break\n",
    "    x += n\n",
    "```"
   ]
  },
  {
   "cell_type": "markdown",
   "metadata": {},
   "source": [
    "### 答え：\n",
    "nが10超過になると繰り返すが止まるので1, 1, 2, 3, 5, 8まで足し算します。\n",
    "xは20になります。"
   ]
  },
  {
   "cell_type": "markdown",
   "metadata": {},
   "source": [
    "# 3.5"
   ]
  },
  {
   "cell_type": "markdown",
   "metadata": {},
   "source": [
    "## 問題１\n",
    "次のhogeを書き換えて、１０未満の数字について繰り返しを行い、偶数を表示するプログラムを作りなさい。\n",
    "```python\n",
    "a = 1\n",
    "while hoge:\n",
    "    if a % 2 == 0:\n",
    "        print(a)\n",
    "    a += 1\n",
    "```"
   ]
  },
  {
   "cell_type": "code",
   "execution_count": 10,
   "metadata": {},
   "outputs": [
    {
     "name": "stdout",
     "output_type": "stream",
     "text": [
      "2\n",
      "4\n",
      "6\n",
      "8\n"
     ]
    }
   ],
   "source": [
    "a = 1\n",
    "while a < 10:\n",
    "    if a % 2 == 0:\n",
    "        print(a)\n",
    "    a += 1"
   ]
  },
  {
   "cell_type": "markdown",
   "metadata": {},
   "source": [
    "## 問題２\n",
    "次のプログラムを実行した場合、最終的な変数aの値はいくつになるか答えなさい。\n",
    "```python\n",
    "a = 0\n",
    "while a < 100:\n",
    "    if a > 10:\n",
    "        break\n",
    "    a += 2\n",
    "```"
   ]
  },
  {
   "cell_type": "markdown",
   "metadata": {},
   "source": [
    "### 答え：\n",
    "aが100になる時whileが止まるけどifでaが10になる時breakするのでaは10になります。"
   ]
  },
  {
   "cell_type": "markdown",
   "metadata": {},
   "source": [
    "# 3.6"
   ]
  },
  {
   "cell_type": "markdown",
   "metadata": {},
   "source": [
    "## 問題１\n",
    "四桁の数字で構成された文字列をランダムに作成し、入力した文字列と一致したら「おめでとう」と出力して終了。<br>\n",
    "一致しなければ「ちがうよ」と出力して再度入力を待つようなゲームを実装してください。<br>\n",
    "注意点<br>\n",
    "４つの数字は重複しないものとして作成してください。<br>"
   ]
  },
  {
   "cell_type": "code",
   "execution_count": 29,
   "metadata": {},
   "outputs": [
    {
     "name": "stdout",
     "output_type": "stream",
     "text": [
      "答え：8617\n",
      "1234\n",
      "ちがうよ\n",
      "0123\n",
      "ちがうよ\n",
      "7891\n",
      "ちがうよ\n",
      "8617\n",
      "おめでとう\n"
     ]
    }
   ],
   "source": [
    "import random\n",
    "\n",
    "num_list = range(10)\n",
    "cho_list = \"\"\n",
    "\n",
    "while len(cho_list) < 4:\n",
    "    i = str(random.choice(num_list))\n",
    "    if i not in cho_list:\n",
    "        cho_list += i\n",
    "        \n",
    "print(\"答え：\"+cho_list)\n",
    "        \n",
    "while True:\n",
    "    ans = input()\n",
    "    if ans == cho_list:\n",
    "        print(\"おめでとう\")\n",
    "        break\n",
    "    else:\n",
    "        print(\"ちがうよ\")\n"
   ]
  },
  {
   "cell_type": "markdown",
   "metadata": {},
   "source": [
    "### 問題２\n",
    "４桁の重複ない数字の文字列をランダムに生成して、入力した文字列と一致した文字だけを表示するゲームを実装してください。<br>\n",
    "注意点<br>\n",
    "一致しなかった個所は、Xを表示する仕様を入れてください。<br>"
   ]
  },
  {
   "cell_type": "code",
   "execution_count": 31,
   "metadata": {},
   "outputs": [
    {
     "name": "stdout",
     "output_type": "stream",
     "text": [
      "1234\n",
      "X X X X \n",
      "4567\n",
      "X X X 7 \n",
      "2347\n",
      "X X X 7 \n",
      "3457\n",
      "X X X 7 \n",
      "4567\n",
      "X X X 7 \n",
      "8907\n",
      "X X X 7 \n",
      "9017\n",
      "X X X 7 \n",
      "0127\n",
      "0 X 2 7 \n",
      "0327\n",
      "0 X 2 7 \n",
      "0827\n",
      "0 X 2 7 \n",
      "0627\n",
      "おめでとう\n"
     ]
    }
   ],
   "source": [
    "import random\n",
    "\n",
    "num_list = range(10)\n",
    "cho_list = \"\"\n",
    "\n",
    "while len(cho_list) < 4:\n",
    "    i = str(random.choice(num_list))\n",
    "    if i not in cho_list:\n",
    "        cho_list += i\n",
    "        \n",
    "        \n",
    "while True:\n",
    "    ans = input()\n",
    "    if ans == cho_list:\n",
    "        print(\"おめでとう\")\n",
    "        break\n",
    "    else:\n",
    "        for i in range(4):\n",
    "            if ans[i] == cho_list[i]:\n",
    "                print(ans[i], end=\" \")\n",
    "            else:\n",
    "                print(\"X\", end=\" \")\n",
    "        print()"
   ]
  },
  {
   "cell_type": "markdown",
   "metadata": {},
   "source": [
    "# 3.7"
   ]
  },
  {
   "cell_type": "markdown",
   "metadata": {},
   "source": [
    "## 問題１\n",
    "実行すると.txtファイルから１行読み込んでその内容を表示するプログラムを書きなさい。"
   ]
  },
  {
   "cell_type": "code",
   "execution_count": 39,
   "metadata": {},
   "outputs": [
    {
     "name": "stdout",
     "output_type": "stream",
     "text": [
      "アキラは李章熙の真ん中漢字、章の訓読みです。\n"
     ]
    }
   ],
   "source": [
    "with open('akira.txt','rt', encoding='UTF8') as a:\n",
    "    lines = list(a)\n",
    "print(*lines)"
   ]
  },
  {
   "cell_type": "markdown",
   "metadata": {},
   "source": [
    "## 問題２\n",
    "各行に1から10まで書かれたファイルnumbers.txtを読み込んで各行の数値の総和を求めるプログラムを書きなさい。<br>\n",
    "そして、実行した結果の答えも求めなさい。<br>"
   ]
  },
  {
   "cell_type": "code",
   "execution_count": 62,
   "metadata": {},
   "outputs": [
    {
     "name": "stdout",
     "output_type": "stream",
     "text": [
      "1  総和：1\n",
      "2  総和：3\n",
      "3  総和：6\n",
      "4  総和：10\n",
      "5  総和：15\n",
      "6  総和：21\n",
      "7  総和：28\n",
      "8  総和：36\n",
      "9  総和：45\n",
      "10  総和：55\n"
     ]
    }
   ],
   "source": [
    "i = 0\n",
    "with open('num.txt','r') as f:\n",
    "    for line in f:\n",
    "        i += int(line)\n",
    "        print(line.strip(), \" 総和：\"+ str(i))"
   ]
  },
  {
   "cell_type": "markdown",
   "metadata": {},
   "source": [
    "# 3.8"
   ]
  },
  {
   "cell_type": "markdown",
   "metadata": {},
   "source": [
    "## 問題１\n",
    "1から10までの数値のリストをファイルtest1.pklに書き込むプログラムを書きなさい。"
   ]
  },
  {
   "cell_type": "code",
   "execution_count": 65,
   "metadata": {},
   "outputs": [
    {
     "name": "stdout",
     "output_type": "stream",
     "text": [
      "[1, 2, 3, 4, 5, 6, 7, 8, 9, 10]\n"
     ]
    }
   ],
   "source": [
    "import pickle\n",
    "sample_num = [1, 2, 3, 4, 5, 6, 7, 8, 9, 10]\n",
    "with open('sample.pkl','wb') as f:\n",
    "    pickle.dump(sample_num, f)\n",
    "    \n",
    "with open('sample.pkl','rb') as f:\n",
    "    load_num = pickle.load(f)\n",
    "    print(load_num)"
   ]
  },
  {
   "cell_type": "markdown",
   "metadata": {},
   "source": [
    "## 問題２\n",
    "問題1で作成したファイルから数値を読み込んで、リストに格納するプログラムを作成しなさい。"
   ]
  },
  {
   "cell_type": "code",
   "execution_count": 67,
   "metadata": {},
   "outputs": [
    {
     "name": "stdout",
     "output_type": "stream",
     "text": [
      "[1, 2, 3, 4, 5, 6, 7, 8, 9, 10]\n"
     ]
    }
   ],
   "source": [
    "with open('sample.pkl','rb') as f:\n",
    "    new_list = pickle.load(f)\n",
    "    \n",
    "print(new_list)"
   ]
  },
  {
   "cell_type": "code",
   "execution_count": 68,
   "metadata": {},
   "outputs": [
    {
     "name": "stdout",
     "output_type": "stream",
     "text": [
      "1\n",
      "2\n",
      "3\n",
      "4\n",
      "5\n",
      "6\n",
      "7\n",
      "8\n",
      "9\n",
      "10\n"
     ]
    }
   ],
   "source": [
    "for i in new_list:\n",
    "    print(i)"
   ]
  },
  {
   "cell_type": "code",
   "execution_count": null,
   "metadata": {},
   "outputs": [],
   "source": []
  }
 ],
 "metadata": {
  "kernelspec": {
   "display_name": "Python 3",
   "language": "python",
   "name": "python3"
  },
  "language_info": {
   "codemirror_mode": {
    "name": "ipython",
    "version": 3
   },
   "file_extension": ".py",
   "mimetype": "text/x-python",
   "name": "python",
   "nbconvert_exporter": "python",
   "pygments_lexer": "ipython3",
   "version": "3.8.3"
  }
 },
 "nbformat": 4,
 "nbformat_minor": 4
}
