{
 "cells": [
  {
   "cell_type": "markdown",
   "metadata": {},
   "source": [
    "# 8.1"
   ]
  },
  {
   "cell_type": "markdown",
   "metadata": {},
   "source": [
    "## 問題１\n",
    "　カレントディレクトリに save_dir というディレクトリが存在するかを調べ、孫愛するときは存在することを表示し、存在しなければ作成して、作成したことを表示する関数を作成してください。関数の名前は prepare_dir() としてください。"
   ]
  },
  {
   "cell_type": "code",
   "execution_count": 7,
   "metadata": {},
   "outputs": [],
   "source": [
    "import os\n",
    "def prepare_dir(get_dir):\n",
    "    if os.path.exists(get_dir):\n",
    "        print(\"存在します。\")\n",
    "    else:\n",
    "        os.mkdir(get_dir)\n",
    "        print(get_dir+\"を作成しました。\")"
   ]
  },
  {
   "cell_type": "code",
   "execution_count": 8,
   "metadata": {},
   "outputs": [
    {
     "name": "stdout",
     "output_type": "stream",
     "text": [
      "save_dirを作成しました。\n"
     ]
    }
   ],
   "source": [
    "prepare_dir('save_dir')"
   ]
  },
  {
   "cell_type": "code",
   "execution_count": 9,
   "metadata": {},
   "outputs": [
    {
     "name": "stdout",
     "output_type": "stream",
     "text": [
      "存在します。\n"
     ]
    }
   ],
   "source": [
    "prepare_dir('save_dir')"
   ]
  },
  {
   "cell_type": "markdown",
   "metadata": {},
   "source": [
    "## 問題２\n",
    "　問題１で作成したディレクトリ save_dir の存在を確認して、存在していればそのことを報告し、ディレクトリを消去して消去したことを報告し、存在しなければ存在しないことを報告する関数を作成してください。関数名は delete_dir() としてください。"
   ]
  },
  {
   "cell_type": "code",
   "execution_count": 13,
   "metadata": {},
   "outputs": [],
   "source": [
    "import os\n",
    "def delete_dir(get_dir):\n",
    "    if os.path.exists(get_dir):\n",
    "        print(\"存在します。\")\n",
    "        os.rmdir(get_dir)\n",
    "        print(\"削除しました。\")\n",
    "    else:\n",
    "        print('存在しません。')"
   ]
  },
  {
   "cell_type": "code",
   "execution_count": 14,
   "metadata": {},
   "outputs": [
    {
     "name": "stdout",
     "output_type": "stream",
     "text": [
      "存在します。\n",
      "削除しました。\n"
     ]
    }
   ],
   "source": [
    "delete_dir('save_dir')"
   ]
  },
  {
   "cell_type": "code",
   "execution_count": 15,
   "metadata": {},
   "outputs": [
    {
     "name": "stdout",
     "output_type": "stream",
     "text": [
      "存在しません。\n"
     ]
    }
   ],
   "source": [
    "delete_dir('save_dir')"
   ]
  },
  {
   "cell_type": "markdown",
   "metadata": {},
   "source": [
    "# 8.2"
   ]
  },
  {
   "cell_type": "markdown",
   "metadata": {},
   "source": [
    "## 問題１\n",
    "　以下のプログラムを実行すると、どのような結果が得られるか答えなさい\n",
    "```python\n",
    "import pathlib\n",
    "p = pathlib.Path('.')\n",
    "for pf in p.iterdir():\n",
    "    if pf.is_file():\n",
    "        print(str(pf))\n",
    "```"
   ]
  },
  {
   "cell_type": "markdown",
   "metadata": {},
   "source": [
    "「p = pathlib.Path('.')」で今ファイルがあるフォルダを指定します。<br>\n",
    "「p.iterdir()」でフォルダにあるファイルをlistで受けます。<br>\n",
    "「pf.is_file():」でファイルであるかを確認して、ファイル名str(文字列)で出力します。<br>"
   ]
  },
  {
   "cell_type": "markdown",
   "metadata": {},
   "source": [
    "## 問題２\n",
    "　カレントディレクトリにある、名前が「a」で始まるディレクトリの一覧を表示するプログラムを書いてください。"
   ]
  },
  {
   "cell_type": "code",
   "execution_count": 23,
   "metadata": {},
   "outputs": [
    {
     "name": "stdout",
     "output_type": "stream",
     "text": [
      "aaa.txt\n",
      "abc.txt\n",
      "ai.txt\n"
     ]
    }
   ],
   "source": [
    "import pathlib\n",
    "p = pathlib.Path('.')\n",
    "for n in p.glob('a*'):\n",
    "    print(str(n))"
   ]
  },
  {
   "cell_type": "markdown",
   "metadata": {},
   "source": [
    "# 8.3"
   ]
  },
  {
   "cell_type": "markdown",
   "metadata": {},
   "source": [
    "## 問題１\n",
    "　文字列を受け取って、使われている文字数を数え、１回しか出てこない文字を返すプログラムを作ってください。入力する文字列は、「すもももももももものうち」を利用しても構いません。"
   ]
  },
  {
   "cell_type": "code",
   "execution_count": 24,
   "metadata": {},
   "outputs": [],
   "source": [
    "import collections as col\n",
    "\n",
    "def count_check(get_Str = \"\"):\n",
    "    one_list=[]\n",
    "    count = col.Counter(get_Str)\n",
    "    for k, v in count.items():\n",
    "        if v == 1 :\n",
    "            one_list.append(k)\n",
    "    return one_list"
   ]
  },
  {
   "cell_type": "code",
   "execution_count": 25,
   "metadata": {},
   "outputs": [
    {
     "data": {
      "text/plain": [
       "['す', 'の', 'う', 'ち']"
      ]
     },
     "execution_count": 25,
     "metadata": {},
     "output_type": "execute_result"
    }
   ],
   "source": [
    "count_check('すもももももももものうち')"
   ]
  },
  {
   "cell_type": "markdown",
   "metadata": {},
   "source": [
    "# 8.4"
   ]
  },
  {
   "cell_type": "markdown",
   "metadata": {},
   "source": [
    "## 問題１\n",
    "　次の文章から、半角英字、ハイフン、数字が組み合わさった単語すべてを抜き出してください。<br>\n",
    "　かなり昔の話だが、 hoge に対して多大なる信頼を感じていた気がしていた。札幌駅から遠くの駅まで向かう際も fuga を欠かさず買っていたのも昔の記憶として鮮明に残っている。 piyo だって今の相棒だ。"
   ]
  },
  {
   "cell_type": "code",
   "execution_count": 36,
   "metadata": {},
   "outputs": [
    {
     "name": "stdout",
     "output_type": "stream",
     "text": [
      "hoge_123\n"
     ]
    }
   ],
   "source": [
    "import re\n",
    "story = 'かなり昔の話だが、 hoge_123 に対して多大なる信頼を感じていた気がしていた。札幌駅から遠くの駅まで向かう際も fuga を欠かさず買っていたのも昔の記憶として鮮明に残っている。 piyo だって今の相棒だ。'\n",
    "story_list = story.split(\" \")\n",
    "for i in story_list:\n",
    "    if re.search(r'([a-zA-z]+)(\\d+)', i):\n",
    "        print(i)"
   ]
  },
  {
   "cell_type": "markdown",
   "metadata": {},
   "source": [
    "# 8.5"
   ]
  },
  {
   "cell_type": "markdown",
   "metadata": {},
   "source": [
    "## 問題１\n",
    "　円周率 π をシミュレーションで求めることを考えます。原点を中心として半径１の円と、これを取り込む１辺が２の正方形を考えます。 x 座標と y 座標がともに正となる第１象限のみを考え、ここにランダムに点を発生させるます。図中で原点と点線で結ばれている点は、原点から距離 L にあり、 L=(x20+y20)1/2 となります。 L が１以下ならば円の内側にあり、それ以外は円の外側と考えることができます。 math.pi との誤差が  1.0×10−5  より小さくなるまでに、いくつの点を発生させればよいか考えなさい。"
   ]
  },
  {
   "cell_type": "code",
   "execution_count": 41,
   "metadata": {},
   "outputs": [
    {
     "name": "stdout",
     "output_type": "stream",
     "text": [
      "3.1416007036059805\n",
      "12507\n"
     ]
    }
   ],
   "source": [
    "import math\n",
    "import random\n",
    "\n",
    "total = 0\n",
    "num_inside = 0\n",
    "\n",
    "sim_pi = 0\n",
    "while not math.isclose(sim_pi, math.pi, abs_tol=1e-5):\n",
    "    x = random.random()\n",
    "    y = random.random()\n",
    "    L = pow(x**2 + y**2, 0.5)\n",
    "    total += 1\n",
    "    if L <= 1:\n",
    "        num_inside += 1\n",
    "        sim_pi = 4 * num_inside / total\n",
    "print(sim_pi)\n",
    "print(total)"
   ]
  },
  {
   "cell_type": "markdown",
   "metadata": {},
   "source": [
    "# 8.6"
   ]
  },
  {
   "cell_type": "markdown",
   "metadata": {},
   "source": [
    "## 問題１\n",
    "　'20180101120130'の文字列を２０１８年０１月１２時０１分１３秒として、datetime変数を生成してください。さらに、読み込んだ変数を再び'20180101120130'に変換して表示してください。"
   ]
  },
  {
   "cell_type": "code",
   "execution_count": 44,
   "metadata": {},
   "outputs": [
    {
     "name": "stdout",
     "output_type": "stream",
     "text": [
      "2018-01-01 12:01:30\n",
      "20180101120130\n"
     ]
    }
   ],
   "source": [
    "from datetime import datetime\n",
    "time_num = '20180101120130'\n",
    "time_format = datetime.strptime(time_num,\"%Y%m%d%H%M%S\")\n",
    "print(time_format)\n",
    "time_format_num = time_format.strftime(\"%Y%m%d%H%M%S\")\n",
    "print(time_format_num)"
   ]
  },
  {
   "cell_type": "markdown",
   "metadata": {},
   "source": [
    "# 8.7"
   ]
  },
  {
   "cell_type": "markdown",
   "metadata": {},
   "source": [
    "## 問題１\n",
    "　JSON 形式の名簿データファイルを作成してください。名簿に登録するデータは、以下の構成のものとします。名簿データをファイルに保存したら、再び別の変数に読み込んで、全要素を表示してください。\n",
    "\n",
    "名前|年齢|血液型|性別\n",
    "----|----|----|----\n",
    "tanaka|20|A|男性\n",
    "satou|19|O|女性\n",
    "suzuki|20|AB|男性"
   ]
  },
  {
   "cell_type": "code",
   "execution_count": 47,
   "metadata": {},
   "outputs": [
    {
     "name": "stdout",
     "output_type": "stream",
     "text": [
      "{'tanaka': {'年齢': 20, '血液型': 'A', '性別': '男性'}, 'satou': {'年齢': 19, '血液型': 'O', '性別': '女性'}, 'suzuki': {'年齢': 20, '血液型': 'AB', '性別': '男性'}}\n"
     ]
    }
   ],
   "source": [
    "import json\n",
    "\n",
    "with open('kojinjyouhou.json', 'w') as f:\n",
    "    json.dump({'tanaka':{'年齢':20, '血液型':'A', '性別':'男性'},\n",
    "               'satou':{'年齢':19, '血液型':'O','性別':'女性'},\n",
    "               'suzuki':{'年齢':20, '血液型':'AB', '性別':'男性'}},f)\n",
    "\n",
    "\n",
    "json_open = open('kojinjyouhou.json', 'r')\n",
    "json_load = json.load(json_open)\n",
    "\n",
    "print(json_load)"
   ]
  },
  {
   "cell_type": "markdown",
   "metadata": {},
   "source": [
    "# 8.8"
   ]
  },
  {
   "cell_type": "markdown",
   "metadata": {},
   "source": [
    "## 問題１\n",
    "　下記内容のプログラムを実行した結果を予測したのち、確かめなさい。\n",
    "```python\n",
    "import sqlite3\n",
    "\n",
    "db = 'test.db'\n",
    "con = sqlite3.connect(db)\n",
    "csr = con.cursor()\n",
    "\n",
    "csr.execute('create table human(name, nickname);')\n",
    "\n",
    "csr.execute(\"insert into human(name) values('Ichiro');\")\n",
    "csr.execute(\"insert into human(name) values('Jiro');\")\n",
    "csr.execute(\"insert into human(name) values('Saburo');\")\n",
    "\n",
    "csr.execute(\"update human set nickname = 'Lazer' where name = 'Ichiro';\")\n",
    "\n",
    "csr.execute(\"select * from human;\")\n",
    "print(csr.fetchall())\n",
    "\n",
    "con.commit()\n",
    "con.close()\n",
    "```"
   ]
  },
  {
   "cell_type": "markdown",
   "metadata": {},
   "source": [
    "## 説明\n",
    "```python\n",
    "import sqlite3 \n",
    "\n",
    "db = 'test.db'\n",
    "con = sqlite3.connect(db)\n",
    "csr = con.cursor() #ここまでデータベース操作する準備をします。\n",
    "\n",
    "csr.execute('create table human(name, nickname);') #nameとnicknameカラムを持っているhumanテーブルを作りました。\n",
    "\n",
    "csr.execute(\"insert into human(name) values('Ichiro');\")\n",
    "csr.execute(\"insert into human(name) values('Jiro');\")\n",
    "csr.execute(\"insert into human(name) values('Saburo');\") #humanテーブルのnameにデータを入れます。\n",
    "\n",
    "csr.execute(\"update human set nickname = 'Lazer' where name = 'Ichiro';\") #humanテーブルでnameが'Ichiro'であるnicknameに'Lazer'を入れました。\n",
    "\n",
    "csr.execute(\"select * from human;\") #humanテーブルの中みを見ます。\n",
    "print(csr.fetchall()) #出力します。\n",
    "\n",
    "con.commit()\n",
    "con.close()\n",
    "```\n",
    "('Ichiro', 'Lazer'), ('Jiro', None), ('Saburo', None)<br>\n",
    "が出力されます。"
   ]
  },
  {
   "cell_type": "markdown",
   "metadata": {},
   "source": [
    "## 問題２\n",
    "　下記内容のプログラムを実行した結果を予測したのち、確かめなさい。（問題１実行後の結果が残っている状態で実行してください）\n",
    "```python\n",
    "import sqlite3\n",
    "\n",
    "db = 'test.db'\n",
    "\n",
    "con = sqlite3.connect(db)\n",
    "csr = con.cursor()\n",
    "\n",
    "csr.execute(\"Update human set nickname = 'Lazer' where name = 'Jiro';\")\n",
    "\n",
    "csr.execute(\"delete from human where nickname = 'Lazer';\")\n",
    "\n",
    "csr.execute(\"select * from human;\")\n",
    "print(csr.fetchall())\n",
    "\n",
    "con.commit()\n",
    "con.close()\n",
    "```"
   ]
  },
  {
   "cell_type": "markdown",
   "metadata": {},
   "source": [
    "## 説明\n",
    "```python\n",
    "import sqlite3\n",
    "\n",
    "db = 'test.db'\n",
    "\n",
    "con = sqlite3.connect(db)\n",
    "csr = con.cursor() #問題1で使った'test.db'をそのままつかいます。\n",
    "\n",
    "csr.execute(\"Update human set nickname = 'Lazer' where name = 'Jiro';\") #humanテーブルでnameが'Jiro'であるnicknameに'Lazer'を入れました。\n",
    "\n",
    "csr.execute(\"delete from human where nickname = 'Lazer';\") #humanテーブルでnicknameが'Lazer'であるデータ(nameとnickname)を消します。\n",
    "\n",
    "csr.execute(\"select * from human;\") #humanテーブルの中みを見ます。\n",
    "print(csr.fetchall())\n",
    "\n",
    "con.commit()\n",
    "con.close()\n",
    "```\n",
    "('Saburo', None)<br>\n",
    "が出力されます。"
   ]
  },
  {
   "cell_type": "markdown",
   "metadata": {},
   "source": [
    "# 8.9"
   ]
  },
  {
   "cell_type": "markdown",
   "metadata": {},
   "source": [
    "## 問題１\n",
    "　小数点以下にかすかな違いがある二つの大きな数の差を求め、差からかすかな違いを引いたとき、浮動小数点型だとゼロにはなりません。例えば、百億より0.2大きい数字から百億をひいたものを diff とし、 diff - 0.2 を計算すると、次のようにかなり大きな差が出ます。"
   ]
  },
  {
   "cell_type": "code",
   "execution_count": 48,
   "metadata": {},
   "outputs": [
    {
     "data": {
      "text/plain": [
       "7.629394531138978e-07"
      ]
     },
     "execution_count": 48,
     "metadata": {},
     "output_type": "execute_result"
    }
   ],
   "source": [
    "diff = 10000000000.2 - 10000000000\n",
    "diff - 0.2"
   ]
  },
  {
   "cell_type": "markdown",
   "metadata": {},
   "source": [
    "これを、 Decimal クラスを使って計算しなおすとどうなるか確認してください。そしてその結果の理由を考えなさい。"
   ]
  },
  {
   "cell_type": "code",
   "execution_count": 51,
   "metadata": {},
   "outputs": [
    {
     "data": {
      "text/plain": [
       "Decimal('0.0')"
      ]
     },
     "execution_count": 51,
     "metadata": {},
     "output_type": "execute_result"
    }
   ],
   "source": [
    "from decimal import Decimal\n",
    "num = Decimal('10000000000.2') - Decimal('10000000000')\n",
    "num - Decimal('0.2')"
   ]
  },
  {
   "cell_type": "markdown",
   "metadata": {},
   "source": [
    "## 結果の理由\n",
    "flaotは10進数の小数を0と1である2進数のデータで保存します。その時、有限2進数で保存できる時もあるけど、無限2進数小数になる時もあります。\n",
    "その時の無限2進数小数は極限値にはなるけど、完全に10進数の小数と同じにはなりません。だから上のようにそのままfloatを計算すると上の結果のように誤差が発生します。このような誤差が出ないようにするために、Decimalを使ってfloatではなく文字列でもらって計算します。"
   ]
  },
  {
   "cell_type": "markdown",
   "metadata": {},
   "source": [
    "# 8.10"
   ]
  },
  {
   "cell_type": "markdown",
   "metadata": {},
   "source": [
    "## 問題１\n",
    "プログラムを実行して次の結果の出力ファイルを得たいとします。\n",
    "```python\n",
    "WARNING:root:1\n",
    "ERROR:root:2\n",
    "```\n",
    "コードを書きなさい。"
   ]
  },
  {
   "cell_type": "code",
   "execution_count": 5,
   "metadata": {},
   "outputs": [],
   "source": [
    "import logging\n",
    "\n",
    "logging.basicConfig(filename= 'mondai8.log', level=logging.WARNING)\n",
    "logging.warning('1')\n",
    "logging.error('2')\n",
    "logging.shutdown()"
   ]
  },
  {
   "cell_type": "markdown",
   "metadata": {},
   "source": [
    "## 問題２\n",
    "　引数 x1 を引数 x2 で割った数を返す関数 devide(x1, x2) を作成し、関数内で ZeroDivisionError を発生させ、 try-except 文の except 節から logging.exception メソッドを使い、例外情報を標準表示に出力してください。"
   ]
  },
  {
   "cell_type": "code",
   "execution_count": 6,
   "metadata": {},
   "outputs": [],
   "source": [
    "import logging\n",
    "\n",
    "def devide(x1, x2):\n",
    "    return x1/x2\n",
    "\n",
    "logging.basicConfig(filename='testlog.log',level=logging.WARNING,format='%(levelname)s:%(asctime)s:%(message)s')\n",
    "\n",
    "try:\n",
    "    ret = devide(15, 5)\n",
    "except:\n",
    "    logging.exception('test exception message')\n",
    "logging.shutdown()"
   ]
  },
  {
   "cell_type": "code",
   "execution_count": null,
   "metadata": {},
   "outputs": [],
   "source": []
  }
 ],
 "metadata": {
  "kernelspec": {
   "display_name": "Python 3",
   "language": "python",
   "name": "python3"
  },
  "language_info": {
   "codemirror_mode": {
    "name": "ipython",
    "version": 3
   },
   "file_extension": ".py",
   "mimetype": "text/x-python",
   "name": "python",
   "nbconvert_exporter": "python",
   "pygments_lexer": "ipython3",
   "version": "3.8.3"
  }
 },
 "nbformat": 4,
 "nbformat_minor": 4
}
