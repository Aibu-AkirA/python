{
 "cells": [
  {
   "cell_type": "markdown",
   "metadata": {},
   "source": [
    "# 4.1"
   ]
  },
  {
   "cell_type": "markdown",
   "metadata": {},
   "source": [
    "## 問題１\n",
    "フィボナッチ数列を計算して画面に出力する関数を書きなさい。<br>\n",
    "注意<br>\n",
    "最初の2項が0と1で始まる流儀で書いてくださ<br>"
   ]
  },
  {
   "cell_type": "code",
   "execution_count": 12,
   "metadata": {},
   "outputs": [],
   "source": [
    "def fibonacci(num):\n",
    "    if num < 3:\n",
    "        print(\"エラー：3以上入力してください\")\n",
    "    else:\n",
    "        fn_2=0; fn_1=1\n",
    "        print(fn_2, fn_1, end=\" \")\n",
    "        for i in range(num-2):\n",
    "            fn = fn_2 + fn_1\n",
    "            print(fn, end=\" \")\n",
    "            fn_2, fn_1 = fn_1, fn_2\n",
    "            fn_1 = fn"
   ]
  },
  {
   "cell_type": "code",
   "execution_count": 13,
   "metadata": {},
   "outputs": [
    {
     "name": "stdout",
     "output_type": "stream",
     "text": [
      "0 1 1 2 3 5 8 "
     ]
    }
   ],
   "source": [
    "fibonacci(7)"
   ]
  },
  {
   "cell_type": "markdown",
   "metadata": {},
   "source": [
    "## 問題２\n",
    "問題①で作成したものを使って、フィボナッチ数列をリストに格納して返すように改良してください"
   ]
  },
  {
   "cell_type": "code",
   "execution_count": 14,
   "metadata": {},
   "outputs": [],
   "source": [
    "def fibonacciL(num, f_list=[]):\n",
    "    if num < 3:\n",
    "        print(\"エラー：3以上入力してください\")\n",
    "    else:\n",
    "        fn_2=0; fn_1=1\n",
    "        f_list.extend([0, 1])\n",
    "        for i in range(num-2):\n",
    "            fn = fn_2 + fn_1\n",
    "            f_list.append(fn)\n",
    "            fn_2, fn_1 = fn_1, fn_2\n",
    "            fn_1 = fn\n",
    "    return f_list"
   ]
  },
  {
   "cell_type": "code",
   "execution_count": 15,
   "metadata": {},
   "outputs": [
    {
     "data": {
      "text/plain": [
       "[0, 1, 1, 2, 3, 5, 8, 13]"
      ]
     },
     "execution_count": 15,
     "metadata": {},
     "output_type": "execute_result"
    }
   ],
   "source": [
    "numList = []\n",
    "num = 8\n",
    "fibonacciL(num, numList)"
   ]
  },
  {
   "cell_type": "markdown",
   "metadata": {},
   "source": [
    "# 4.2"
   ]
  },
  {
   "cell_type": "markdown",
   "metadata": {},
   "source": [
    "## 問題１\n",
    "下記内容の処理を行う関数を作成しなさい。<br>\n",
    "任意の整数を引数として、今日から何日後かを判定してください。<br>\n",
    "出力として、{〇日前、昨日、今日、明日、〇日後}の五種類に分類するようにしてください。<br>\n",
    "引数のデフォルト値は0とします。<br>"
   ]
  },
  {
   "cell_type": "code",
   "execution_count": 41,
   "metadata": {},
   "outputs": [
    {
     "data": {
      "text/plain": [
       "{'0日前': '02-04', '昨日': '02-03', '今日': '02-04', '明日': '02-05', '0日後': '02-04'}"
      ]
     },
     "execution_count": 41,
     "metadata": {},
     "output_type": "execute_result"
    }
   ],
   "source": [
    "from datetime import date, timedelta\n",
    "\n",
    "def dateDentaku(day=0):\n",
    "    today = date.today()\n",
    "    \n",
    "    beforeday = date.today() - timedelta(day)\n",
    "    yesday = date.today() - timedelta(1)\n",
    "    tomday = date.today() + timedelta(1)\n",
    "    afterday = date.today() + timedelta(day)\n",
    "    \n",
    "    beforeday = beforeday.strftime('%m-%d')\n",
    "    yesday = yesday.strftime('%m-%d')\n",
    "    today = today.strftime('%m-%d')\n",
    "    tomday = tomday.strftime('%m-%d')\n",
    "    afterday = afterday.strftime('%m-%d')\n",
    "    \n",
    "    return {str(day)+'日前' : beforeday, '昨日' : yesday, '今日' : today, '明日' : tomday, str(day)+'日後' : afterday}\n",
    "\n",
    "dateDentaku()"
   ]
  },
  {
   "cell_type": "code",
   "execution_count": 42,
   "metadata": {},
   "outputs": [
    {
     "data": {
      "text/plain": [
       "{'5日前': '01-30', '昨日': '02-03', '今日': '02-04', '明日': '02-05', '5日後': '02-09'}"
      ]
     },
     "execution_count": 42,
     "metadata": {},
     "output_type": "execute_result"
    }
   ],
   "source": [
    "dateDentaku(5)"
   ]
  },
  {
   "cell_type": "markdown",
   "metadata": {},
   "source": [
    "## 問題２\n",
    "最初の３つの数字が3,0,2で、これらを０番目から２番目までの数列とします。ペラン数列をwebで検索して<br>\n",
    "https://mathtrain.jp/perrinnumber<br>\n",
    "数列のうち100より小さい数列をすべてリストで返す関数を作ってください。<br>\n",
    "引数のデフォルト値は100とします。<br>"
   ]
  },
  {
   "cell_type": "code",
   "execution_count": 6,
   "metadata": {},
   "outputs": [
    {
     "name": "stdout",
     "output_type": "stream",
     "text": [
      "3 0 2 3 2 5 5 7 10 12 17 22 29 39 51 68 90 "
     ]
    }
   ],
   "source": [
    "def perrin(num=100):\n",
    "    p_3 = 3; p_2 = 0; p_1 =2\n",
    "    print(p_3, p_2, p_1, end=\" \")\n",
    "    while True:\n",
    "        pn = p_3 + p_2\n",
    "        if pn >= num:\n",
    "            break\n",
    "        else:\n",
    "            print(pn, end=\" \")\n",
    "            p_3 = p_2\n",
    "            p_2 = p_1\n",
    "            p_1 = pn\n",
    "perrin()"
   ]
  },
  {
   "cell_type": "code",
   "execution_count": 7,
   "metadata": {},
   "outputs": [
    {
     "name": "stdout",
     "output_type": "stream",
     "text": [
      "3 0 2 3 2 5 5 7 10 12 17 22 29 39 51 68 90 119 158 209 277 367 486 "
     ]
    }
   ],
   "source": [
    "perrin(500)"
   ]
  },
  {
   "cell_type": "markdown",
   "metadata": {},
   "source": [
    "# 4.3"
   ]
  },
  {
   "cell_type": "markdown",
   "metadata": {},
   "source": [
    "## 問題１\n",
    "任意の数の単語と、区切り文字separatorを受け取り、区切り文字でつなげる関数を作成してください。<br>\n",
    "入力と出力の一例<br>\n",
    "～入力～<br>\n",
    "引数：'a','b','c'<br>\n",
    "区切り文字:'_'<br>\n",
    "～出力～<br>\n",
    "出力:'a_b_c'<br>"
   ]
  },
  {
   "cell_type": "code",
   "execution_count": 16,
   "metadata": {},
   "outputs": [
    {
     "data": {
      "text/plain": [
       "'a_b_c'"
      ]
     },
     "execution_count": 16,
     "metadata": {},
     "output_type": "execute_result"
    }
   ],
   "source": [
    "def separator_(*str_, sep='_'):\n",
    "    return sep.join(str_)\n",
    "separator_('a', 'b', 'c')"
   ]
  },
  {
   "cell_type": "markdown",
   "metadata": {},
   "source": [
    "## 問題２\n",
    "任意個数の数字からなるリストを引数として受け取り、それらを二乗した数字からなるリストを返す関数を作成しなさい。<br>\n",
    "例:1,2,3,4を受け取ったら1,4,9,16を返す。<br>\n",
    "更に、100個の数字からなるリストをその関数に渡して結果を表示すること"
   ]
  },
  {
   "cell_type": "code",
   "execution_count": 68,
   "metadata": {},
   "outputs": [],
   "source": [
    "def square_(*num_):\n",
    "    for i in num_[0]:\n",
    "        print(i**2, end=\" \")"
   ]
  },
  {
   "cell_type": "code",
   "execution_count": 69,
   "metadata": {},
   "outputs": [
    {
     "name": "stdout",
     "output_type": "stream",
     "text": [
      "1 4 9 16 25 36 49 64 81 100 121 144 169 196 225 256 289 324 361 400 441 484 529 576 625 676 729 784 841 900 961 1024 1089 1156 1225 1296 1369 1444 1521 1600 1681 1764 1849 1936 2025 2116 2209 2304 2401 2500 2601 2704 2809 2916 3025 3136 3249 3364 3481 3600 3721 3844 3969 4096 4225 4356 4489 4624 4761 4900 5041 5184 5329 5476 5625 5776 5929 6084 6241 6400 6561 6724 6889 7056 7225 7396 7569 7744 7921 8100 8281 8464 8649 8836 9025 9216 9409 9604 9801 10000 "
     ]
    }
   ],
   "source": [
    "num100List = list(range(1,101))\n",
    "square_(num100List)"
   ]
  },
  {
   "cell_type": "markdown",
   "metadata": {},
   "source": [
    "# 4.4"
   ]
  },
  {
   "cell_type": "markdown",
   "metadata": {},
   "source": [
    "## 問題１\n",
    "関数を3つ作成して選挙（ AKB 的なものをイメージするとわかりやすいです）の時に使う投票箱を作って下さい<br>\n",
    "ただし、投票箱は次のような機能を持つようにしてください。<br>\n",
    "\n",
    "1. vote_num という変数を定義\n",
    "2. 投票する vote() を実行すると、 vote_num の値が一つ増える\n",
    "3. 箱を空にする reset_box() を実行すると、 vote_num の値は0になる\n",
    "4. 箱を確認する check_box() を実行すると、箱の中の票数を表示する<br>\n",
    "\n",
    "ここでは上記の三つの関数の中で global 文を積極的に使って書きなさい"
   ]
  },
  {
   "cell_type": "code",
   "execution_count": 128,
   "metadata": {},
   "outputs": [],
   "source": [
    "def vote():\n",
    "    global vote_num\n",
    "    vote_num += 1\n",
    "    \n",
    "def reset_box():\n",
    "    global vote_num\n",
    "    vote_num = 0\n",
    "    \n",
    "def check_box():\n",
    "    return vote_num"
   ]
  },
  {
   "cell_type": "code",
   "execution_count": 129,
   "metadata": {},
   "outputs": [
    {
     "data": {
      "text/plain": [
       "5"
      ]
     },
     "execution_count": 129,
     "metadata": {},
     "output_type": "execute_result"
    }
   ],
   "source": [
    "vote()\n",
    "vote()\n",
    "vote()\n",
    "vote()\n",
    "vote()\n",
    "check_box()"
   ]
  },
  {
   "cell_type": "code",
   "execution_count": 130,
   "metadata": {},
   "outputs": [
    {
     "data": {
      "text/plain": [
       "0"
      ]
     },
     "execution_count": 130,
     "metadata": {},
     "output_type": "execute_result"
    }
   ],
   "source": [
    "reset_box()\n",
    "check_box()"
   ]
  },
  {
   "cell_type": "markdown",
   "metadata": {},
   "source": [
    "## 問題２\n",
    "問題1の内容をglobal文を使わない方法で書きなさい"
   ]
  },
  {
   "cell_type": "code",
   "execution_count": 134,
   "metadata": {},
   "outputs": [],
   "source": [
    "vote_num2 = [0]\n",
    "\n",
    "def vote2():\n",
    "    vote_num2[0] += 1\n",
    "    \n",
    "def reset_box2():\n",
    "    vote_num2[0] = 0\n",
    "    \n",
    "def check_box2():\n",
    "    return vote_num2[0]"
   ]
  },
  {
   "cell_type": "code",
   "execution_count": 135,
   "metadata": {},
   "outputs": [
    {
     "data": {
      "text/plain": [
       "4"
      ]
     },
     "execution_count": 135,
     "metadata": {},
     "output_type": "execute_result"
    }
   ],
   "source": [
    "vote2()\n",
    "vote2()\n",
    "vote2()\n",
    "vote2()\n",
    "check_box2()"
   ]
  },
  {
   "cell_type": "code",
   "execution_count": 136,
   "metadata": {},
   "outputs": [
    {
     "data": {
      "text/plain": [
       "0"
      ]
     },
     "execution_count": 136,
     "metadata": {},
     "output_type": "execute_result"
    }
   ],
   "source": [
    "reset_box2()\n",
    "check_box2()"
   ]
  },
  {
   "cell_type": "markdown",
   "metadata": {},
   "source": [
    "# 4.5"
   ]
  },
  {
   "cell_type": "markdown",
   "metadata": {},
   "source": [
    "## 問題1\n",
    "組み込み関数sum()、min()、max()は、いずれも引数に反復可能体（iterable）を受け取り、それぞれ、総和、最小値、最大値の計算結果を返す。<br>\n",
    "引数に与える反復可能体の要素は通常数値で、返す結果も数値になる。<br>\n",
    "これらの組み込み関数を要素としてリストを作成し、そのリストに関してループ処理を行い、<br>1から10までの自然数について上記3つの組み込み関数で処理した結果を表示しなさい。\n",
    "\n"
   ]
  },
  {
   "cell_type": "code",
   "execution_count": null,
   "metadata": {},
   "outputs": [],
   "source": []
  }
 ],
 "metadata": {
  "kernelspec": {
   "display_name": "Python 3",
   "language": "python",
   "name": "python3"
  },
  "language_info": {
   "codemirror_mode": {
    "name": "ipython",
    "version": 3
   },
   "file_extension": ".py",
   "mimetype": "text/x-python",
   "name": "python",
   "nbconvert_exporter": "python",
   "pygments_lexer": "ipython3",
   "version": "3.8.3"
  }
 },
 "nbformat": 4,
 "nbformat_minor": 4
}
