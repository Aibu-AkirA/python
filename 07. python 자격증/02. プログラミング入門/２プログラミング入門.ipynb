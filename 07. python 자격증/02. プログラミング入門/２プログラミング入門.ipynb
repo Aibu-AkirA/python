{
 "cells": [
  {
   "cell_type": "markdown",
   "metadata": {},
   "source": [
    "# 2.1"
   ]
  },
  {
   "cell_type": "markdown",
   "metadata": {},
   "source": [
    "## 問題1-1\n",
    "　２つの自然数、２５３と３４１の最大公約数を求めなさい。最大公約数とは、２つの自然数に共通の約数のことですよ。"
   ]
  },
  {
   "cell_type": "code",
   "execution_count": 8,
   "metadata": {},
   "outputs": [
    {
     "name": "stdout",
     "output_type": "stream",
     "text": [
      "[1, 11, 23, 253]\n",
      "[1, 11, 31, 341]\n",
      "11\n"
     ]
    }
   ],
   "source": [
    "list_253 = []\n",
    "list_341 = []\n",
    "\n",
    "for i in range(1, 254):\n",
    "    if(253%i == 0):\n",
    "        list_253.append(i)\n",
    "        \n",
    "for i in range(1, 342):\n",
    "    if(341%i == 0):\n",
    "        list_341.append(i)\n",
    "ans = 0\n",
    "for i in list_253:\n",
    "    for y in list_341:\n",
    "        if(i == y):\n",
    "            ans = i\n",
    "\n",
    "print(list_253)\n",
    "print(list_341)\n",
    "print(ans)"
   ]
  },
  {
   "cell_type": "markdown",
   "metadata": {},
   "source": [
    "## 問題1-2\n",
    "　２つの自然数、２５３と３４１の最大公約数を求めなさい。最大公約数とは、２つの自然数に共通の約数のことですよ。（関数を用いて解きなさい）"
   ]
  },
  {
   "cell_type": "code",
   "execution_count": 22,
   "metadata": {},
   "outputs": [],
   "source": [
    "def maxComMea(num_1, num_2):\n",
    "    if(num_1 < num_2):\n",
    "        num_1, num_2 = num_2, num_1\n",
    "    for i in range(num_2, 0, -1):\n",
    "        if(num_1 % i ==0 and num_2 % i == 0):\n",
    "            return i\n",
    "            break"
   ]
  },
  {
   "cell_type": "code",
   "execution_count": 23,
   "metadata": {},
   "outputs": [
    {
     "data": {
      "text/plain": [
       "11"
      ]
     },
     "execution_count": 23,
     "metadata": {},
     "output_type": "execute_result"
    }
   ],
   "source": [
    "maxComMea(253, 341)"
   ]
  },
  {
   "cell_type": "code",
   "execution_count": 27,
   "metadata": {},
   "outputs": [
    {
     "name": "stdout",
     "output_type": "stream",
     "text": [
      "11\n",
      "11\n",
      "21\n"
     ]
    }
   ],
   "source": [
    "#test\n",
    "print(maxComMea(341, 253))\n",
    "print(maxComMea(55, 11))\n",
    "test_1 = maxComMea(1071, 1029)\n",
    "print(test_1)"
   ]
  },
  {
   "cell_type": "markdown",
   "metadata": {},
   "source": [
    "## 問題2-1\n",
    "　 922 を23で割った余りを求めてください。また、 2222 を23で割った余りを求めてください。"
   ]
  },
  {
   "cell_type": "code",
   "execution_count": 17,
   "metadata": {},
   "outputs": [
    {
     "name": "stdout",
     "output_type": "stream",
     "text": [
      "1\n",
      "14\n"
     ]
    }
   ],
   "source": [
    "print(922 % 3)\n",
    "print(2222 % 23)"
   ]
  },
  {
   "cell_type": "markdown",
   "metadata": {},
   "source": [
    "## 問題2-2\n",
    "　 922 を23で割った余りを求めてください。また、 2222 を23で割った余りを求めてください。（関数を用いて解きなさい）"
   ]
  },
  {
   "cell_type": "code",
   "execution_count": 20,
   "metadata": {},
   "outputs": [],
   "source": [
    "def amari(x, y):\n",
    "    return x % y"
   ]
  },
  {
   "cell_type": "code",
   "execution_count": 29,
   "metadata": {},
   "outputs": [
    {
     "name": "stdout",
     "output_type": "stream",
     "text": [
      "2\n",
      "14\n"
     ]
    }
   ],
   "source": [
    "print(amari(922, 23))\n",
    "print(amari(2222, 23))"
   ]
  },
  {
   "cell_type": "markdown",
   "metadata": {},
   "source": [
    "# 2.2"
   ]
  },
  {
   "cell_type": "markdown",
   "metadata": {},
   "source": [
    "## 問題１\n",
    "次のコードのうち、変数を用意するコードとして最も適切なものを１つ選びなさい。また、適切でない理由も合わせて答えなさい。\n",
    "\n",
    "1. my_value = 128\n",
    "2. 八百万 = 800 * 10000\n",
    "3. list = 10\n",
    "4. as = 20"
   ]
  },
  {
   "cell_type": "markdown",
   "metadata": {},
   "source": [
    "### 答え：１<br>\n",
    "できない理由<br>\n",
    "2. 変数名には普通に英語を使うので適切でないと思います。\n",
    "3. listは「予約語」であるので適切でないと思います。\n",
    "4. 特に問題はありませんが、変数名の意味が不明確なので適切でないと思います。"
   ]
  },
  {
   "cell_type": "markdown",
   "metadata": {},
   "source": [
    "# 2.3"
   ]
  },
  {
   "cell_type": "markdown",
   "metadata": {},
   "source": [
    "## 問題１\n",
    "2つの整数aとbから作られる分数 ab を少数で表現することを考える。 a=12 、 b=55 とした際に、この分数を正確に10進数の少数で表現しなさい。 組み込み関数divmodを使うと割り算の商と余りを同時に計算できるから便利かもね"
   ]
  },
  {
   "cell_type": "code",
   "execution_count": 40,
   "metadata": {},
   "outputs": [
    {
     "name": "stdout",
     "output_type": "stream",
     "text": [
      "0.21818181818181817\n",
      "0 12\n"
     ]
    }
   ],
   "source": [
    "a = 12\n",
    "b = 55\n",
    "print(a/b)\n",
    "print(*divmod(a, b))"
   ]
  },
  {
   "cell_type": "markdown",
   "metadata": {},
   "source": [
    "# 2.4"
   ]
  },
  {
   "cell_type": "markdown",
   "metadata": {},
   "source": [
    "## 問題１\n",
    "23（10進数）の2進数表記を得るコードを書きなさい。bin関数を使わずに書くことを望んでいます。"
   ]
  },
  {
   "cell_type": "code",
   "execution_count": 41,
   "metadata": {},
   "outputs": [
    {
     "data": {
      "text/plain": [
       "'10111'"
      ]
     },
     "execution_count": 41,
     "metadata": {},
     "output_type": "execute_result"
    }
   ],
   "source": [
    "format(23, 'b')"
   ]
  },
  {
   "cell_type": "code",
   "execution_count": 44,
   "metadata": {},
   "outputs": [],
   "source": [
    "def ten2two(num):\n",
    "    ans = \"\"\n",
    "    while True:\n",
    "        ans += str(num%2)\n",
    "        num = num//2\n",
    "        if(num == 1 or num == 0):\n",
    "            ans += str(num)\n",
    "            break\n",
    "    return ans[::-1]"
   ]
  },
  {
   "cell_type": "code",
   "execution_count": 45,
   "metadata": {},
   "outputs": [
    {
     "data": {
      "text/plain": [
       "'10111'"
      ]
     },
     "execution_count": 45,
     "metadata": {},
     "output_type": "execute_result"
    }
   ],
   "source": [
    "ten2two(23)"
   ]
  },
  {
   "cell_type": "markdown",
   "metadata": {},
   "source": [
    "# 2.5"
   ]
  },
  {
   "cell_type": "markdown",
   "metadata": {},
   "source": [
    "## 問題１\n",
    "次のコードのうちエラーになるものを選びなさい。\n",
    "\n",
    "1. print('abc',5)\n",
    "2. 'abc'+'5'\n",
    "3. 'abc'+int(\"5\")\n",
    "4. str(5)+'abc'"
   ]
  },
  {
   "cell_type": "markdown",
   "metadata": {},
   "source": [
    "### 答え：３\n",
    "str(文字列)とint(整数)は +(足し算)ができません。"
   ]
  },
  {
   "cell_type": "markdown",
   "metadata": {},
   "source": [
    "## 問題２\n",
    "3*3のマスに黒色の丸を敷き詰めた！<br>\n",
    "●●●<br>\n",
    "●●●<br>\n",
    "●●●<br>\n",
    "ほげほげした結果<br>\n",
    "〇●●<br>\n",
    "●〇●<br>\n",
    "●●〇<br>\n",
    "白色の丸に変わった！<br>\n",
    "<br>\n",
    "二つの文字列を画面に出力してください。"
   ]
  },
  {
   "cell_type": "code",
   "execution_count": 58,
   "metadata": {},
   "outputs": [
    {
     "name": "stdout",
     "output_type": "stream",
     "text": [
      "●●●\n",
      "●●●\n",
      "●●●\n",
      "\n",
      "〇●●\n",
      "●〇●\n",
      "●●〇\n"
     ]
    }
   ],
   "source": [
    "str_1 = '''●●●\n",
    "●●●\n",
    "●●●\n",
    "'''\n",
    "\n",
    "str_2 = '''〇●●\n",
    "●〇●\n",
    "●●〇'''\n",
    "\n",
    "print(str_1)\n",
    "print(str_2)"
   ]
  },
  {
   "cell_type": "code",
   "execution_count": 52,
   "metadata": {},
   "outputs": [
    {
     "name": "stdout",
     "output_type": "stream",
     "text": [
      "●●●\n",
      "●●●\n",
      "●●●\n",
      "\n",
      "〇●●\n",
      "●〇●\n",
      "●●〇\n"
     ]
    }
   ],
   "source": [
    "for i in range(3):\n",
    "    print(\"●●●\")\n",
    "    \n",
    "print()\n",
    "\n",
    "for i in range(3):\n",
    "    for y in range(3):\n",
    "        if (i-y != 0):\n",
    "            print(\"●\", end=\"\")\n",
    "        else:\n",
    "            print(\"〇\", end=\"\")\n",
    "    print()"
   ]
  },
  {
   "cell_type": "markdown",
   "metadata": {},
   "source": [
    "# 2.6"
   ]
  },
  {
   "cell_type": "markdown",
   "metadata": {},
   "source": [
    "## 問題１\n",
    "次のソースを実行した結果を書きなさい。エラー等が出る場合はどのようなエラーが出るのかと、なぜエラーが出るのかを説明しなさい。\n",
    "<br><br>\n",
    "my_str = 'abcdefg'<br>\n",
    "print(my_str[-10])<br>"
   ]
  },
  {
   "cell_type": "code",
   "execution_count": 64,
   "metadata": {},
   "outputs": [
    {
     "ename": "IndexError",
     "evalue": "string index out of range",
     "output_type": "error",
     "traceback": [
      "\u001b[1;31m---------------------------------------------------------------------------\u001b[0m",
      "\u001b[1;31mIndexError\u001b[0m                                Traceback (most recent call last)",
      "\u001b[1;32m<ipython-input-64-6cb1ee327eb3>\u001b[0m in \u001b[0;36m<module>\u001b[1;34m\u001b[0m\n\u001b[0;32m      1\u001b[0m \u001b[0mmy_str\u001b[0m \u001b[1;33m=\u001b[0m \u001b[1;34m'abcdefg'\u001b[0m\u001b[1;33m\u001b[0m\u001b[1;33m\u001b[0m\u001b[0m\n\u001b[1;32m----> 2\u001b[1;33m \u001b[0mprint\u001b[0m\u001b[1;33m(\u001b[0m\u001b[0mmy_str\u001b[0m\u001b[1;33m[\u001b[0m\u001b[1;33m-\u001b[0m\u001b[1;36m10\u001b[0m\u001b[1;33m]\u001b[0m\u001b[1;33m)\u001b[0m\u001b[1;33m\u001b[0m\u001b[1;33m\u001b[0m\u001b[0m\n\u001b[0m",
      "\u001b[1;31mIndexError\u001b[0m: string index out of range"
     ]
    }
   ],
   "source": [
    "my_str = 'abcdefg'\n",
    "print(my_str[-10])"
   ]
  },
  {
   "cell_type": "markdown",
   "metadata": {},
   "source": [
    "### エラーの理由\n",
    "my_strのindex(中身)は0から6まであるので-10ではエラーが発生します。"
   ]
  },
  {
   "cell_type": "markdown",
   "metadata": {},
   "source": [
    "## 問題２\n",
    "次のソースを実行した結果を書きなさい。エラー等が出る場合はどのようなエラーが出るのかと、なぜエラーが出るのかを説明しなさい。\n",
    "<br><br>\n",
    "title = 'address'<br>\n",
    "value = 'tokyo'<br>\n",
    "string = '{}:{}'<br>\n",
    "print(string.format(title,value))"
   ]
  },
  {
   "cell_type": "code",
   "execution_count": 65,
   "metadata": {},
   "outputs": [
    {
     "name": "stdout",
     "output_type": "stream",
     "text": [
      "address:tokyo\n"
     ]
    }
   ],
   "source": [
    "title = 'address'\n",
    "value = 'tokyo'\n",
    "string = '{}:{}'\n",
    "print(string.format(title,value))"
   ]
  },
  {
   "cell_type": "markdown",
   "metadata": {},
   "source": [
    "### ちゃんと動いています。"
   ]
  },
  {
   "cell_type": "markdown",
   "metadata": {},
   "source": [
    "# 2.7"
   ]
  },
  {
   "cell_type": "markdown",
   "metadata": {},
   "source": [
    "## 問題１\n",
    "空リストを用意して、文字列'orange','apple','grape','banana'を要素として追加しよう"
   ]
  },
  {
   "cell_type": "code",
   "execution_count": 66,
   "metadata": {},
   "outputs": [
    {
     "data": {
      "text/plain": [
       "['orange', 'apple', 'grape', 'banana']"
      ]
     },
     "execution_count": 66,
     "metadata": {},
     "output_type": "execute_result"
    }
   ],
   "source": [
    "list_fruit=[]\n",
    "list_fruit.append('orange')\n",
    "list_fruit.append('apple')\n",
    "list_fruit.extend(['grape', 'banana'])\n",
    "\n",
    "list_fruit"
   ]
  },
  {
   "cell_type": "markdown",
   "metadata": {},
   "source": [
    "## 問題２\n",
    "問題１の文字列要素のリストを昇順および降順で並び替えなさい"
   ]
  },
  {
   "cell_type": "code",
   "execution_count": 67,
   "metadata": {},
   "outputs": [
    {
     "name": "stdout",
     "output_type": "stream",
     "text": [
      "['apple', 'banana', 'grape', 'orange']\n",
      "['orange', 'grape', 'banana', 'apple']\n"
     ]
    }
   ],
   "source": [
    "list_fruit.sort()\n",
    "print(list_fruit)\n",
    "list_fruit.reverse()\n",
    "print(list_fruit)"
   ]
  },
  {
   "cell_type": "markdown",
   "metadata": {},
   "source": [
    "# 2.8"
   ]
  },
  {
   "cell_type": "markdown",
   "metadata": {},
   "source": [
    "## 問題１\n",
    "1から10までの数値が格納されたリストから、偶数の要素だけを逆順に取り出したリストを作ってください"
   ]
  },
  {
   "cell_type": "code",
   "execution_count": 73,
   "metadata": {},
   "outputs": [
    {
     "data": {
      "text/plain": [
       "[2, 4, 6, 8, 10]"
      ]
     },
     "execution_count": 73,
     "metadata": {},
     "output_type": "execute_result"
    }
   ],
   "source": [
    "num_list = [1,2,3,4,5,6,7,8,9,10]\n",
    "num_list[1:11:2]"
   ]
  },
  {
   "cell_type": "markdown",
   "metadata": {},
   "source": [
    "## 問題２\n",
    "リストの概念を用いて<br>\n",
    "I habe an apple.<br>\n",
    "を<br>\n",
    "I have a pineapple.<br>\n",
    "に変更しよう<br>"
   ]
  },
  {
   "cell_type": "code",
   "execution_count": 81,
   "metadata": {},
   "outputs": [
    {
     "name": "stdout",
     "output_type": "stream",
     "text": [
      "i have a pineapple.\n"
     ]
    }
   ],
   "source": [
    "str_list=['i', 'have', 'an', 'apple.']\n",
    "str_list[2] = 'a'\n",
    "str_list[3] = 'pineapple.'\n",
    "print(*str_list)"
   ]
  },
  {
   "cell_type": "markdown",
   "metadata": {},
   "source": [
    "# 2.9"
   ]
  },
  {
   "cell_type": "markdown",
   "metadata": {},
   "source": [
    "## 問題１\n",
    "次の値は何になりますか？<br>\n",
    "print('apple' in ['pineapple','orange','banana'])"
   ]
  },
  {
   "cell_type": "code",
   "execution_count": 79,
   "metadata": {},
   "outputs": [
    {
     "name": "stdout",
     "output_type": "stream",
     "text": [
      "False\n"
     ]
    }
   ],
   "source": [
    "print('apple' in ['pineapple','orange','banana'])"
   ]
  },
  {
   "cell_type": "markdown",
   "metadata": {},
   "source": [
    "## 問題２\n",
    "3つの変数がそれぞれ次の値の場合、以下に示す3つの式の値は何になりますか？<br>\n",
    "x = True<br>\n",
    "y = False<br>\n",
    "z = None<br>\n",
    "1. x and z is None\n",
    "2. not x or not y\n",
    "3. x and not y and z is None"
   ]
  },
  {
   "cell_type": "markdown",
   "metadata": {},
   "source": [
    "1. False\n",
    "2. False\n",
    "3. True"
   ]
  },
  {
   "cell_type": "markdown",
   "metadata": {},
   "source": [
    "# 2.10"
   ]
  },
  {
   "cell_type": "markdown",
   "metadata": {},
   "source": [
    "## 問題１\n",
    "２０を３で割って得られる商を余りでべき乗すると、値はいくつになりますか？組み込み関数を用いて一行で書くこと。"
   ]
  },
  {
   "cell_type": "code",
   "execution_count": 84,
   "metadata": {},
   "outputs": [
    {
     "data": {
      "text/plain": [
       "36"
      ]
     },
     "execution_count": 84,
     "metadata": {},
     "output_type": "execute_result"
    }
   ],
   "source": [
    "pow(*divmod(20, 3))"
   ]
  },
  {
   "cell_type": "markdown",
   "metadata": {},
   "source": [
    "## 問題２\n",
    "整数を格納したリストのすべての要素を、文字列に変換するコードを書いてください。sample_list = [2,3,4]などとして、適当なデータを用意してください。"
   ]
  },
  {
   "cell_type": "code",
   "execution_count": 92,
   "metadata": {},
   "outputs": [
    {
     "data": {
      "text/plain": [
       "['1', '2', '3', '4']"
      ]
     },
     "execution_count": 92,
     "metadata": {},
     "output_type": "execute_result"
    }
   ],
   "source": [
    "int_list = [1,2,3,4]\n",
    "str_list = list(map(str, int_list))\n",
    "str_list"
   ]
  },
  {
   "cell_type": "markdown",
   "metadata": {},
   "source": [
    "## 2.11"
   ]
  },
  {
   "cell_type": "markdown",
   "metadata": {},
   "source": [
    "## 問題１\n",
    "以下の処理を実行した後で、変数ｃの値がいくつになるか答えなさい<br>\n",
    "<br>\n",
    "a, b, c, d = 1, 2, 3, 4<br>\n",
    "a, b, c, d = c, d, a, b<br>"
   ]
  },
  {
   "cell_type": "markdown",
   "metadata": {},
   "source": [
    "### Cの値は1だけあるので一つです。"
   ]
  },
  {
   "cell_type": "markdown",
   "metadata": {},
   "source": [
    "## 問題２\n",
    "以下の処理を実行後、変数aの値がいくつになるか答えなさい<br>\n",
    "<br>\n",
    "a = 1<br>\n",
    "b = 2<br>\n",
    "a, b = b, a + b<br>\n",
    "a, b = b, a + b<br>"
   ]
  },
  {
   "cell_type": "markdown",
   "metadata": {},
   "source": [
    "### aは３になります。<br>\n",
    "a, b = 2, 1 + 2<br>\n",
    "-><br>\n",
    "a = 2<br>\n",
    "b = 3<br>\n",
    "a, b = 3, 2 + 3<br>\n",
    "-><br>\n",
    "a = 3<br>\n",
    "b = 5<br>"
   ]
  },
  {
   "cell_type": "markdown",
   "metadata": {},
   "source": [
    "# 2.12"
   ]
  },
  {
   "cell_type": "markdown",
   "metadata": {},
   "source": [
    "## 問題１\n",
    "以下のコードを実行した結果を求めなさい<br>\n",
    "<br>\n",
    "import math<br>\n",
    "print(math.pow(2,3))<br>"
   ]
  },
  {
   "cell_type": "code",
   "execution_count": 96,
   "metadata": {},
   "outputs": [
    {
     "name": "stdout",
     "output_type": "stream",
     "text": [
      "8.0\n"
     ]
    }
   ],
   "source": [
    "import math\n",
    "print(math.pow(2,3))"
   ]
  },
  {
   "cell_type": "markdown",
   "metadata": {},
   "source": [
    "## 問題２\n",
    "randomモジュールをインポートし忘れて下記コードを実行した。どのような結果になるか求めなさい<br>\n",
    "<br>\n",
    "print(random.randint(0,10))<br>"
   ]
  },
  {
   "cell_type": "code",
   "execution_count": 97,
   "metadata": {},
   "outputs": [
    {
     "ename": "NameError",
     "evalue": "name 'random' is not defined",
     "output_type": "error",
     "traceback": [
      "\u001b[1;31m---------------------------------------------------------------------------\u001b[0m",
      "\u001b[1;31mNameError\u001b[0m                                 Traceback (most recent call last)",
      "\u001b[1;32m<ipython-input-97-3b31fae43204>\u001b[0m in \u001b[0;36m<module>\u001b[1;34m\u001b[0m\n\u001b[1;32m----> 1\u001b[1;33m \u001b[0mprint\u001b[0m\u001b[1;33m(\u001b[0m\u001b[0mrandom\u001b[0m\u001b[1;33m.\u001b[0m\u001b[0mrandint\u001b[0m\u001b[1;33m(\u001b[0m\u001b[1;36m0\u001b[0m\u001b[1;33m,\u001b[0m\u001b[1;36m10\u001b[0m\u001b[1;33m)\u001b[0m\u001b[1;33m)\u001b[0m\u001b[1;33m\u001b[0m\u001b[1;33m\u001b[0m\u001b[0m\n\u001b[0m",
      "\u001b[1;31mNameError\u001b[0m: name 'random' is not defined"
     ]
    }
   ],
   "source": [
    "print(random.randint(0,10))"
   ]
  },
  {
   "cell_type": "markdown",
   "metadata": {},
   "source": [
    "### randomの組み込み関数がないのでエラーが起こします。"
   ]
  },
  {
   "cell_type": "markdown",
   "metadata": {},
   "source": [
    "# 2.13"
   ]
  },
  {
   "cell_type": "markdown",
   "metadata": {},
   "source": [
    "## 問題１\n",
    "次のコードの結果はどうなりますか？<br>\n",
    "<br>\n",
    "from math import pow<br>\n",
    "pow(2,3)<br>"
   ]
  },
  {
   "cell_type": "code",
   "execution_count": 98,
   "metadata": {},
   "outputs": [
    {
     "data": {
      "text/plain": [
       "8.0"
      ]
     },
     "execution_count": 98,
     "metadata": {},
     "output_type": "execute_result"
    }
   ],
   "source": [
    "from math import pow\n",
    "pow(2,3)"
   ]
  },
  {
   "cell_type": "markdown",
   "metadata": {},
   "source": [
    "## 問題２\n",
    "次のプログラムの挙動を確認してください<br>\n",
    "<br>\n",
    "import random<br>\n",
    "from random import randint<br>\n",
    "<br>\n",
    "print(random,randint(0,10))<br>\n",
    "print(randint(0,10))<br>"
   ]
  },
  {
   "cell_type": "code",
   "execution_count": 105,
   "metadata": {},
   "outputs": [
    {
     "name": "stdout",
     "output_type": "stream",
     "text": [
      "<module 'random' from 'C:\\\\Users\\\\wkdgm\\\\anaconda3\\\\lib\\\\random.py'> 7\n",
      "2\n"
     ]
    }
   ],
   "source": [
    "import random\n",
    "from random import randint\n",
    "\n",
    "print(random,randint(0,10))\n",
    "print(randint(0,10))"
   ]
  },
  {
   "cell_type": "code",
   "execution_count": null,
   "metadata": {},
   "outputs": [],
   "source": []
  }
 ],
 "metadata": {
  "kernelspec": {
   "display_name": "Python 3",
   "language": "python",
   "name": "python3"
  },
  "language_info": {
   "codemirror_mode": {
    "name": "ipython",
    "version": 3
   },
   "file_extension": ".py",
   "mimetype": "text/x-python",
   "name": "python",
   "nbconvert_exporter": "python",
   "pygments_lexer": "ipython3",
   "version": "3.8.3"
  }
 },
 "nbformat": 4,
 "nbformat_minor": 4
}
