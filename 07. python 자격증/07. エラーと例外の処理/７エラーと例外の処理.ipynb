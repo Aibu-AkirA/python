{
 "cells": [
  {
   "cell_type": "markdown",
   "metadata": {},
   "source": [
    "# 7.1"
   ]
  },
  {
   "cell_type": "markdown",
   "metadata": {},
   "source": [
    "## 問題１\n",
    "　人の名前をキーに、年齢を要素にした以下のような内容の辞書変数 name_age を用意し、キーを引数として要素を返す関数 dict_info(dict_tbl, key) を作成してください。その後、 dict_info 関数に name_age 変数と 'satou', name_age 変数と 'yamada' を指定して実行し、正しく動作することを確認してください。ただし、 key 引数に name_age に登録されていない人命が指定された場合は、 try-except を使って 'key is not found' を返すようにします。\n",
    "```python\n",
    "{'tanaka': 35, 'satou': 25, 'suzuki': 27}\n",
    "```"
   ]
  },
  {
   "cell_type": "code",
   "execution_count": 1,
   "metadata": {},
   "outputs": [],
   "source": [
    "name_age = {'tanaka': 35, 'satou': 25, 'suzuki': 27}\n",
    "def dict_info(dict_tbl, key):\n",
    "    try:\n",
    "        return dict_tbl[key] \n",
    "    except:\n",
    "        return 'key is not found'"
   ]
  },
  {
   "cell_type": "code",
   "execution_count": 2,
   "metadata": {},
   "outputs": [
    {
     "data": {
      "text/plain": [
       "25"
      ]
     },
     "execution_count": 2,
     "metadata": {},
     "output_type": "execute_result"
    }
   ],
   "source": [
    "dict_info(name_age, 'satou')"
   ]
  },
  {
   "cell_type": "code",
   "execution_count": 3,
   "metadata": {},
   "outputs": [
    {
     "data": {
      "text/plain": [
       "'key is not found'"
      ]
     },
     "execution_count": 3,
     "metadata": {},
     "output_type": "execute_result"
    }
   ],
   "source": [
    "dict_info(name_age, 'yamada')"
   ]
  },
  {
   "cell_type": "markdown",
   "metadata": {},
   "source": [
    "## 問題２\n",
    "　プログラミングにおいてよくある例外として、ゼロ除算による例外があります。少数を要素とするリスト変数の平均値を求める関数 list_average() を、 try-except 文を用いて作成しなさい。<br>\n",
    "ゼロ除算とかのうんぬんかんぬんが入ってるページとか<br>\n",
    "https://tenshoku.mynavi.jp/engineer/z/dictionary/14/"
   ]
  },
  {
   "cell_type": "code",
   "execution_count": 4,
   "metadata": {},
   "outputs": [],
   "source": [
    "def list_average(x=list):\n",
    "    try:\n",
    "        return round(sum(x) / len(x), 2)\n",
    "    except:\n",
    "        return '数字の配列を入れてください！'"
   ]
  },
  {
   "cell_type": "code",
   "execution_count": 5,
   "metadata": {},
   "outputs": [
    {
     "name": "stdout",
     "output_type": "stream",
     "text": [
      "26.41\n",
      "5.0\n",
      "数字の配列を入れてください！\n"
     ]
    }
   ],
   "source": [
    "num_list1 = [1.2, 13.23, 22,13, 64.0, 45]\n",
    "num_list2 = list(range(11))\n",
    "num_nolist = 3\n",
    "print(list_average(num_list1))\n",
    "print(list_average(num_list2))\n",
    "print(list_average(num_nolist))"
   ]
  },
  {
   "cell_type": "markdown",
   "metadata": {},
   "source": [
    "## 問題３\n",
    "　以下のプログラムを実行したらエラーが出るらしい。どのようなエラーが出るか答えなさい。\n",
    "```python\n",
    "int('3.5')\n",
    "```"
   ]
  },
  {
   "cell_type": "markdown",
   "metadata": {},
   "source": [
    "int()関数は整数の文字列(str)と、小数であるけどfloat型の変数をint型に変わる関数です。<br>\n",
    "ですから、'3.5'は小数の文字列なので'3.5'を先にfloat()を使てfloat型に変わってから、<br>\n",
    "int()を使てint型に変わるのができます。<br>\n",
    "```python\n",
    "int(float('3.5'))\n",
    "```\n",
    "にしないと、エラーがでます。"
   ]
  },
  {
   "cell_type": "markdown",
   "metadata": {},
   "source": [
    "## 問題４\n",
    "　以下のプログラムを実行したらエラーが出るらしい。どのようなエラーが出るか答えなさい。\n",
    "```python\n",
    "my_list = []\n",
    "my_list.insert(3)\n",
    "```"
   ]
  },
  {
   "cell_type": "markdown",
   "metadata": {},
   "source": [
    "insert()は二つの引数が必要です。<br>\n",
    "```python\n",
    "insert(3, 'hello')\n",
    "```\n",
    "このように、前の3はindex（どこに）、後ろの'hello'は値（何を）にしないとエラーがでます。"
   ]
  },
  {
   "cell_type": "markdown",
   "metadata": {},
   "source": [
    "# 7.2"
   ]
  },
  {
   "cell_type": "markdown",
   "metadata": {},
   "source": [
    "## 問題１\n",
    "　リスト変数と、インデックスを引数としてインデックスの要素を削除する関数 list_del_nth(list, index) を作成してください。もし、 index（整数）の要素が list にない場合は、 try-except 文を使ってメッセージ 'Index Not Found' を出力し、それ以外の例外が発生したときは 'Unexpected Error' を出力してください。また、 try 節が正常に完了したときは、 'Successfully' を出力してください。"
   ]
  },
  {
   "cell_type": "code",
   "execution_count": 17,
   "metadata": {},
   "outputs": [
    {
     "name": "stdout",
     "output_type": "stream",
     "text": [
      "Unexpected Error\n",
      "Index Not Found\n",
      "Successfully\n"
     ]
    },
    {
     "data": {
      "text/plain": [
       "[0, 1, 2, 3, 5, 6, 7, 8, 9, 10]"
      ]
     },
     "execution_count": 17,
     "metadata": {},
     "output_type": "execute_result"
    }
   ],
   "source": [
    "def list_del_nth(get_list, index):\n",
    "    try:\n",
    "        del get_list[index]\n",
    "    except IndexError:\n",
    "        print('Index Not Found')\n",
    "    except:\n",
    "        print('Unexpected Error')\n",
    "    else:\n",
    "        print('Successfully')\n",
    "            \n",
    "num_list = list(range(11))\n",
    "list_del_nth(num_list, \"削除して\")\n",
    "list_del_nth(num_list, 99)\n",
    "list_del_nth(num_list, 4)\n",
    "num_list"
   ]
  },
  {
   "cell_type": "markdown",
   "metadata": {},
   "source": [
    "## 問題２\n",
    "　与えられた引数の値を2乗して返す関数 esquare() を作成しなさい。ただし、関数内で引数の型を確認して、引数が整数もしくは少数でなければ TypeError例外を送出するものとします。"
   ]
  },
  {
   "cell_type": "code",
   "execution_count": 24,
   "metadata": {},
   "outputs": [],
   "source": [
    "def esquare(i = 0):\n",
    "    try:\n",
    "        return i**2\n",
    "    except:\n",
    "        return 'Type Error'"
   ]
  },
  {
   "cell_type": "code",
   "execution_count": 25,
   "metadata": {},
   "outputs": [
    {
     "data": {
      "text/plain": [
       "'Type Error'"
      ]
     },
     "execution_count": 25,
     "metadata": {},
     "output_type": "execute_result"
    }
   ],
   "source": [
    "esquare(\"数字\")"
   ]
  },
  {
   "cell_type": "code",
   "execution_count": 26,
   "metadata": {},
   "outputs": [
    {
     "data": {
      "text/plain": [
       "100"
      ]
     },
     "execution_count": 26,
     "metadata": {},
     "output_type": "execute_result"
    }
   ],
   "source": [
    "esquare(10)"
   ]
  },
  {
   "cell_type": "markdown",
   "metadata": {},
   "source": [
    "# 7.3"
   ]
  },
  {
   "cell_type": "markdown",
   "metadata": {},
   "source": [
    "## 問題１\n",
    "　辞書にキーが登録されていないことを示すユーザー定義例外 MyDictKeyError クラスと、辞書 dicttbl 、および変数 key を引数とする関数 get dict_value(dict_tbl, key) を作成してください。 get_diict_value(dict_tbl, key) 関数は、 key が dict_tbl に登録されていないときは MyDictKeyError を送出し、 key が dict_tbl に登録されているときは key に反応する値を返すものとします。"
   ]
  },
  {
   "cell_type": "code",
   "execution_count": 58,
   "metadata": {},
   "outputs": [],
   "source": [
    "class MyDictKeyError (Exception):\n",
    "    def __init__(self, dict_tbl, key):\n",
    "        self.dict_tbl = dict_tbl\n",
    "        self.key = key\n",
    "    def __str__(self):\n",
    "        return (\"「{}」のなかに「{}」が登録されていません。\".format(self.dict_tbl, self.key))\n",
    "\n",
    "def get_dict_value(dict_tbl, key):\n",
    "    if key not in dict_tbl:\n",
    "        raise MyDictKeyError(dict_tbl, key)\n",
    "    else:\n",
    "        return dict_tbl[key] \n",
    "\n",
    "dic_list={'name':'akira', 'age':'27', 'gender':'man'}"
   ]
  },
  {
   "cell_type": "code",
   "execution_count": 59,
   "metadata": {},
   "outputs": [
    {
     "data": {
      "text/plain": [
       "'akira'"
      ]
     },
     "execution_count": 59,
     "metadata": {},
     "output_type": "execute_result"
    }
   ],
   "source": [
    "get_dict_value(dic_list, 'name')"
   ]
  },
  {
   "cell_type": "code",
   "execution_count": 60,
   "metadata": {},
   "outputs": [
    {
     "ename": "MyDictKeyError",
     "evalue": "「{'name': 'akira', 'age': '27', 'gender': 'man'}」のなかに「country」が登録されていません。",
     "output_type": "error",
     "traceback": [
      "\u001b[1;31m---------------------------------------------------------------------------\u001b[0m",
      "\u001b[1;31mMyDictKeyError\u001b[0m                            Traceback (most recent call last)",
      "\u001b[1;32m<ipython-input-60-3f827b00d135>\u001b[0m in \u001b[0;36m<module>\u001b[1;34m\u001b[0m\n\u001b[1;32m----> 1\u001b[1;33m \u001b[0mget_dict_value\u001b[0m\u001b[1;33m(\u001b[0m\u001b[0mdic_list\u001b[0m\u001b[1;33m,\u001b[0m \u001b[1;34m'country'\u001b[0m\u001b[1;33m)\u001b[0m\u001b[1;33m\u001b[0m\u001b[1;33m\u001b[0m\u001b[0m\n\u001b[0m",
      "\u001b[1;32m<ipython-input-58-c378de3a08e0>\u001b[0m in \u001b[0;36mget_dict_value\u001b[1;34m(dict_tbl, key)\u001b[0m\n\u001b[0;32m      8\u001b[0m \u001b[1;32mdef\u001b[0m \u001b[0mget_dict_value\u001b[0m\u001b[1;33m(\u001b[0m\u001b[0mdict_tbl\u001b[0m\u001b[1;33m,\u001b[0m \u001b[0mkey\u001b[0m\u001b[1;33m)\u001b[0m\u001b[1;33m:\u001b[0m\u001b[1;33m\u001b[0m\u001b[1;33m\u001b[0m\u001b[0m\n\u001b[0;32m      9\u001b[0m     \u001b[1;32mif\u001b[0m \u001b[0mkey\u001b[0m \u001b[1;32mnot\u001b[0m \u001b[1;32min\u001b[0m \u001b[0mdict_tbl\u001b[0m\u001b[1;33m:\u001b[0m\u001b[1;33m\u001b[0m\u001b[1;33m\u001b[0m\u001b[0m\n\u001b[1;32m---> 10\u001b[1;33m         \u001b[1;32mraise\u001b[0m \u001b[0mMyDictKeyError\u001b[0m\u001b[1;33m(\u001b[0m\u001b[0mdict_tbl\u001b[0m\u001b[1;33m,\u001b[0m \u001b[0mkey\u001b[0m\u001b[1;33m)\u001b[0m\u001b[1;33m\u001b[0m\u001b[1;33m\u001b[0m\u001b[0m\n\u001b[0m\u001b[0;32m     11\u001b[0m     \u001b[1;32melse\u001b[0m\u001b[1;33m:\u001b[0m\u001b[1;33m\u001b[0m\u001b[1;33m\u001b[0m\u001b[0m\n\u001b[0;32m     12\u001b[0m         \u001b[1;32mreturn\u001b[0m \u001b[0mdict_tbl\u001b[0m\u001b[1;33m[\u001b[0m\u001b[0mkey\u001b[0m\u001b[1;33m]\u001b[0m\u001b[1;33m\u001b[0m\u001b[1;33m\u001b[0m\u001b[0m\n",
      "\u001b[1;31mMyDictKeyError\u001b[0m: 「{'name': 'akira', 'age': '27', 'gender': 'man'}」のなかに「country」が登録されていません。"
     ]
    }
   ],
   "source": [
    "get_dict_value(dic_list, 'country')"
   ]
  },
  {
   "cell_type": "markdown",
   "metadata": {},
   "source": [
    "# 7.4"
   ]
  },
  {
   "cell_type": "markdown",
   "metadata": {},
   "source": [
    "## 問題１\n",
    "　with 文を使ってテキストファイルをかき出しモードでオープンし、 'Hello out_test.txt' の文字列を書き込んでください。"
   ]
  },
  {
   "cell_type": "code",
   "execution_count": 61,
   "metadata": {},
   "outputs": [],
   "source": [
    "with open('Hello out_test.txt', 'w') as f:\n",
    "    f.write('Hello out_test.txt')"
   ]
  },
  {
   "cell_type": "code",
   "execution_count": 62,
   "metadata": {},
   "outputs": [
    {
     "name": "stdout",
     "output_type": "stream",
     "text": [
      "Hello out_test.txt\n"
     ]
    }
   ],
   "source": [
    "with open('Hello out_test.txt', 'r') as f:\n",
    "    for l in f:\n",
    "        print(l)"
   ]
  },
  {
   "cell_type": "markdown",
   "metadata": {},
   "source": [
    "## 問題２\n",
    "　以下のプログラムを実行した際の実行結果を確かめなさい（pritをして眺めるだけではないということはわかりますよね？手作業で計算してください）\n",
    "```python\n",
    "def test_function():\n",
    "    try:\n",
    "        print('try')\n",
    "        return\n",
    "    except:\n",
    "        print('except')\n",
    "    else:\n",
    "        print('else')\n",
    "    finally:\n",
    "        print('finally')\n",
    "\n",
    "test_function()\n",
    "```"
   ]
  },
  {
   "cell_type": "markdown",
   "metadata": {},
   "source": [
    "まず、「try」で「print('try')」をやってみます。<br>\n",
    "もし、コード的に問題があるなら「except」が動いて「print('except')」を実行して「finally」で「print('finally')」を実行します。<br>\n",
    "しかし、問題がないので「except」は無視されます。<br>\n",
    "そして、「try」の中に「return」があるので「else」も動きません。<br>\n",
    "最後に「finally」は上の処理と関係なくて実行される文なので、<br>\n",
    "「print('finally')」を実行します。<br>\n",
    "<br>\n",
    "try<br>\n",
    "finally<br>\n",
    "<br>\n",
    "このように出力されます。"
   ]
  },
  {
   "cell_type": "code",
   "execution_count": null,
   "metadata": {},
   "outputs": [],
   "source": []
  }
 ],
 "metadata": {
  "kernelspec": {
   "display_name": "Python 3",
   "language": "python",
   "name": "python3"
  },
  "language_info": {
   "codemirror_mode": {
    "name": "ipython",
    "version": 3
   },
   "file_extension": ".py",
   "mimetype": "text/x-python",
   "name": "python",
   "nbconvert_exporter": "python",
   "pygments_lexer": "ipython3",
   "version": "3.8.3"
  }
 },
 "nbformat": 4,
 "nbformat_minor": 4
}
