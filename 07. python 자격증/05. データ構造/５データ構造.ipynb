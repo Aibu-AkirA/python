{
 "cells": [
  {
   "cell_type": "markdown",
   "metadata": {},
   "source": [
    "# 5.1"
   ]
  },
  {
   "cell_type": "markdown",
   "metadata": {},
   "source": [
    "## 問題１\n",
    "ほげを書き換えたうえプログラムを実行して「suzuki」という結果を取得して、元のリストから要素を消すコードを書きなさい"
   ]
  },
  {
   "cell_type": "code",
   "execution_count": 4,
   "metadata": {},
   "outputs": [
    {
     "name": "stdout",
     "output_type": "stream",
     "text": [
      "Suzuki\n"
     ]
    }
   ],
   "source": [
    "members = ['Honda','Kawasaki','Toyota','Suzuki']\n",
    "name = members.pop(3)\n",
    "print(name)"
   ]
  },
  {
   "cell_type": "markdown",
   "metadata": {},
   "source": [
    "## 問題２\n",
    "リストのメソッドを使ってスタックを作成してください。スタックは、最後に追加された要素が最初に取得されるものとする。（後入れ先出し）<br>\n",
    "まず、空のスタックを用意して要素１を追加し、次に要素２を追加します。その次にスタックの先頭（トップ）から要素の取得を２回繰り返してください。"
   ]
  },
  {
   "cell_type": "code",
   "execution_count": 5,
   "metadata": {},
   "outputs": [
    {
     "name": "stdout",
     "output_type": "stream",
     "text": [
      "2\n",
      "1\n"
     ]
    }
   ],
   "source": [
    "stack = []\n",
    "stack.append(1)\n",
    "stack.append(2)\n",
    "print(stack.pop())\n",
    "print(stack.pop())"
   ]
  },
  {
   "cell_type": "markdown",
   "metadata": {},
   "source": [
    "## 問題３\n",
    "リストのメソッドを使って、キューを作成しなさい。キューでは、最初に追加された要素が最初に取得されるものとします。（先入れ後出し）<br>\n",
    "まず、空のキューを用意し、要素１を追加し、次に要素２を追加します。次にキューの先頭から、要素の取得を２回繰り返してください。"
   ]
  },
  {
   "cell_type": "code",
   "execution_count": 6,
   "metadata": {},
   "outputs": [
    {
     "name": "stdout",
     "output_type": "stream",
     "text": [
      "1\n",
      "2\n"
     ]
    }
   ],
   "source": [
    "q = []\n",
    "q.append(1)\n",
    "q.append(2)\n",
    "print(q.pop(0))\n",
    "print(q.pop(0))"
   ]
  },
  {
   "cell_type": "markdown",
   "metadata": {},
   "source": [
    "# 5.2"
   ]
  },
  {
   "cell_type": "markdown",
   "metadata": {},
   "source": [
    "## 問題１\n",
    "　下記プログラムを実行した結果を求めなさい（pritをして眺めるだけではないということはわかりますよね？手作業で計算してください）<br>\n",
    "```python\n",
    "num = [[1, 2, 3, 4, 5],\n",
    "      [6, 7, 8, 9, 10]]\n",
    "col = [row[2] for row in num]\n",
    "```"
   ]
  },
  {
   "cell_type": "markdown",
   "metadata": {},
   "source": [
    "row[2]は3と8です。(2資源配列です。)\n",
    "colは [3, 8] になります。"
   ]
  },
  {
   "cell_type": "markdown",
   "metadata": {},
   "source": [
    "## 問題２\n",
    "　下記プログラムを実行した結果を求めなさい（pritをして眺めるだけではないということはわかりますよね？手作業で計算してください）\n",
    "```python\n",
    "list1 = [1, 2, 3, 4, 5, 6, 7, 8, 9]\n",
    "[x if x%2==0 else None for x in list1]\n",
    "```"
   ]
  },
  {
   "cell_type": "markdown",
   "metadata": {},
   "source": [
    "x if x%2==0 は偶数を探すif文です。<br>\n",
    "そして、else None があるので<br>\n",
    "[None, 2, None, 4, None, 6, None, 8, None]が出力されます"
   ]
  },
  {
   "cell_type": "markdown",
   "metadata": {},
   "source": [
    "## 問題３\n",
    "　下記プログラムを実行した結果を求めなさい（pritをして眺めるだけではないということはわかりますよね？手作業で計算してください）\n",
    "```python\n",
    "[x*y for x in range(3) for y in range(x+1)]\n",
    "```"
   ]
  },
  {
   "cell_type": "markdown",
   "metadata": {},
   "source": [
    "```python\n",
    "for x in range(3):\n",
    "    for y in range(x+1):\n",
    "        x*y\n",
    "```\n",
    "と同じなので<br>\n",
    "x = 0<br>\n",
    "-> y = 0 -> x * y = 0<br>\n",
    "x = 1<br>\n",
    "-> y = 0 -> x * y = 0<br>\n",
    "-> y = 1 -> x * y = 1<br>\n",
    "x = 2<br>\n",
    "-> y = 0 -> x * y = 0<br>\n",
    "-> y = 1 -> x * y = 2<br>\n",
    "-> y = 2 -> x * y = 4<br>\n",
    "[0 ,0, 1, 0, 2, 4]が出力されます。"
   ]
  },
  {
   "cell_type": "markdown",
   "metadata": {},
   "source": [
    "# 5.3"
   ]
  },
  {
   "cell_type": "markdown",
   "metadata": {},
   "source": [
    "## 問題１\n",
    "　下記プログラムを実行した結果を求めなさい（pritをして眺めるだけではないということはわかりますよね？手作業で計算してください）\n",
    "```python\n",
    "members = ['Yamada','Satou','Suzuki','Tanaka','Itou']\n",
    "del members[2]\n",
    "members\n",
    "```"
   ]
  },
  {
   "cell_type": "markdown",
   "metadata": {},
   "source": [
    "delはリストの要素を削除します<br>\n",
    "membersのindex2が無くなるので<br>\n",
    "['Yamada','Satou','Tanaka','Itou']が出ます。"
   ]
  },
  {
   "cell_type": "markdown",
   "metadata": {},
   "source": [
    "## 問題２\n",
    "　整数１から５までを要素に持つリストxを作成し、del文で末尾の２つの要素を削除するプログラムを作成してください。"
   ]
  },
  {
   "cell_type": "code",
   "execution_count": 35,
   "metadata": {},
   "outputs": [
    {
     "data": {
      "text/plain": [
       "[1, 2, 3]"
      ]
     },
     "execution_count": 35,
     "metadata": {},
     "output_type": "execute_result"
    }
   ],
   "source": [
    "x = list(range(1,6))\n",
    "del x[-2:]\n",
    "x"
   ]
  },
  {
   "cell_type": "markdown",
   "metadata": {},
   "source": [
    "# 5.4"
   ]
  },
  {
   "cell_type": "markdown",
   "metadata": {},
   "source": [
    "## 問題１\n",
    "　下記プログラムを実行した結果を求めなさい（pritをして眺めるだけではないということはわかりますよね？手作業で計算してください）\n",
    "```python\n",
    "a,b,c,d,e = ('Sapporo','Sendai', 'Tokyo', 'Nagoya','Osaka')\n",
    "g = d + e\n",
    "g\n",
    "```"
   ]
  },
  {
   "cell_type": "markdown",
   "metadata": {},
   "source": [
    "d = 'Nagoya'<br>\n",
    "e = 'Osaka' なので<br>\n",
    "gは'NagoyaOsaka'になります。"
   ]
  },
  {
   "cell_type": "markdown",
   "metadata": {},
   "source": [
    "## 問題２\n",
    "　下記プログラムを実行した結果を求めなさい（pritをして眺めるだけではないということはわかりますよね？手作業で計算してください）\n",
    "```pyhton\n",
    "a, b, c, d, e = (1, 2, 3, 4, 5)\n",
    "d + e\n",
    "```"
   ]
  },
  {
   "cell_type": "markdown",
   "metadata": {},
   "source": [
    "d = 4 , e = 5<br>\n",
    "9になります。"
   ]
  },
  {
   "cell_type": "markdown",
   "metadata": {},
   "source": [
    "## 問題３\n",
    "　下記プログラムを実行した結果を求めなさい（pritをして眺めるだけではないということはわかりますよね？手作業で計算してください）\n",
    "```python\n",
    "(1, 2, 3, 4, 5) + (1, 2, 3, 4, 5)\n",
    "```"
   ]
  },
  {
   "cell_type": "markdown",
   "metadata": {},
   "source": [
    "そのまま足し算して<br>\n",
    "(1, 2, 3, 4, 5, 1, 2, 3, 4, 5)が出ます。"
   ]
  },
  {
   "cell_type": "markdown",
   "metadata": {},
   "source": [
    "## 問題４\n",
    "　下記プログラムを実行した結果を求めなさい（pritをして眺めるだけではないということはわかりますよね？手作業で計算してください）\n",
    "```python\n",
    "(1, 2, 3, 4, 5) * 3\n",
    "```"
   ]
  },
  {
   "cell_type": "markdown",
   "metadata": {},
   "source": [
    "(1, 2, 3, 4, 5)が3回出るので<br>\n",
    "(1, 2, 3, 4, 5, 1, 2, 3, 4, 5, 1, 2, 3, 4, 5)が出ます。"
   ]
  },
  {
   "cell_type": "markdown",
   "metadata": {},
   "source": [
    "# 5.5"
   ]
  },
  {
   "cell_type": "markdown",
   "metadata": {},
   "source": [
    "## 問題１\n",
    "　下記プログラムを実行した結果を求めなさい（pritをして眺めるだけではないということはわかりますよね？手作業で計算してください）\n",
    "```python\n",
    "a = {x for x in 'abcabcabc' if x not in 'ab'}\n",
    "a\n",
    "```"
   ]
  },
  {
   "cell_type": "markdown",
   "metadata": {},
   "source": [
    "```python\n",
    "for x in 'abcabcabc':\n",
    "    if x not in 'ab':\n",
    "        a = x\n",
    "```\n",
    "と同じですから(集合は重複ができません)<br>\n",
    "aは'c'になります。"
   ]
  },
  {
   "cell_type": "markdown",
   "metadata": {},
   "source": [
    "## 問題２\n",
    "　０以上２０以下の奇数を要素として持つ集合Aを、内包表記を使って作成しなさい"
   ]
  },
  {
   "cell_type": "code",
   "execution_count": 55,
   "metadata": {},
   "outputs": [
    {
     "data": {
      "text/plain": [
       "{1, 3, 5, 7, 9, 11, 13, 15, 17, 19}"
      ]
     },
     "execution_count": 55,
     "metadata": {},
     "output_type": "execute_result"
    }
   ],
   "source": [
    "A = {x for x in range(21) if x%2!=0}\n",
    "A"
   ]
  },
  {
   "cell_type": "markdown",
   "metadata": {},
   "source": [
    "# 5.6"
   ]
  },
  {
   "cell_type": "markdown",
   "metadata": {},
   "source": [
    "## 問題１\n",
    "下記プログラムを実行した結果を求めなさい（pritをして眺めるだけではないということはわかりますよね？手作業で計算してください）\n",
    "```python\n",
    "a = {x for x in 'abcabcabc' if x not in 'ab'}\n",
    "b = {y for y in 'abcabcabc' if y not in 'bc'}\n",
    "a | b\n",
    "```"
   ]
  },
  {
   "cell_type": "markdown",
   "metadata": {},
   "source": [
    "a = {'c'}, b = {'a'} になるので<br>\n",
    "a | b　は{'c', 'a'}になります。"
   ]
  },
  {
   "cell_type": "markdown",
   "metadata": {},
   "source": [
    "## 問題２\n",
    "　０から２０までの整数を要素として持つ集合Aと、０以上２０以下の偶数を要素として持つ集合Bを作成し、<br>集合Aと集合Bの演算によって０以上２０以下の偶数ではない（奇数である）数を要素とする集合Cを生成してみましょう"
   ]
  },
  {
   "cell_type": "code",
   "execution_count": 61,
   "metadata": {},
   "outputs": [
    {
     "name": "stdout",
     "output_type": "stream",
     "text": [
      "{0, 1, 2, 3, 4, 5, 6, 7, 8, 9, 10, 11, 12, 13, 14, 15, 16, 17, 18, 19, 20}\n",
      "{0, 2, 4, 6, 8, 10, 12, 14, 16, 18, 20}\n",
      "{1, 3, 5, 7, 9, 11, 13, 15, 17, 19}\n"
     ]
    }
   ],
   "source": [
    "A = {x for x in range(21)}\n",
    "B = {x for x in A if x%2==0}\n",
    "C = A - B\n",
    "print(A)\n",
    "print(B)\n",
    "print(C)"
   ]
  },
  {
   "cell_type": "markdown",
   "metadata": {},
   "source": [
    "# 5.7"
   ]
  },
  {
   "cell_type": "markdown",
   "metadata": {},
   "source": [
    "## 問題１\n",
    "下記プログラムを実行した結果を求めなさい（pritをして眺めるだけではないということはわかりますよね？手作業で計算してください）\n",
    "```python\n",
    "yamanote_line = {0: 'Tokyo', 1: 'Yuurakuchou', 2:'Shinbashi'}\n",
    "for v in yamanote_line.values():\n",
    "    print(v)\n",
    "```"
   ]
  },
  {
   "cell_type": "markdown",
   "metadata": {},
   "source": [
    "values()は後ろの値を意味するので、<br>\n",
    "Tokyo<br>\n",
    "Yuurakuchou<br>\n",
    "Shinbashi<br>\n",
    "が出力されます。"
   ]
  },
  {
   "cell_type": "markdown",
   "metadata": {},
   "source": [
    "## 問題２\n",
    "　下記の会員番号、会員の性別、氏名、年齢、都道府県の表をもとに、データを格納する辞書を生成するプログラムを作成しなさい。まず、表を入れ子のリストデータとして生成し、会員番号を辞書のキー、それ以外のレコードをリスト変数として辞書の値とし、辞書変数に格納する形で作りなさい。\n",
    "\n",
    "会員番号|性別|性|名|年齢|都道府県\n",
    "----|------|-----|---------|--------|--------\n",
    "'0001'|Male|Yamada|Tarou|25|Tokyo\n",
    "'0002'|Male|Satou|Takeshi|27|Kanagawa\n",
    "'0003'|Female|Tanaka|Yuko|25|Saitama\n",
    "'0004'|Male|Suzuki|Ichirou|35|Hokkaido"
   ]
  },
  {
   "cell_type": "code",
   "execution_count": 67,
   "metadata": {},
   "outputs": [
    {
     "name": "stdout",
     "output_type": "stream",
     "text": [
      "0001 ['Male', 'Yamada', 'Tarou', 25, 'Tokyo']\n",
      "0002 ['Male', 'SatouTakeshi', 27, 'Kanagawa']\n",
      "0003 ['Female', 'Tanaka', 'Yuko', 25, 'Saitama']\n",
      "0004 ['Male', 'Suzuki', 'Ichirou', 35, 'Hokkaido']\n"
     ]
    }
   ],
   "source": [
    "list_data = [['0001','Male','Yamada','Tarou',25,'Tokyo'],\n",
    "             ['0002','Male','Satou'\t'Takeshi',27,'Kanagawa'],\n",
    "             ['0003','Female','Tanaka','Yuko',25,'Saitama'],\n",
    "             ['0004','Male','Suzuki','Ichirou',35,'Hokkaido']\n",
    "            ]\n",
    "dic_data={}\n",
    "for i in list_data:\n",
    "    dic_data[i[0]] = i[1:]\n",
    "    \n",
    "for x, y in dic_data.items():\n",
    "    print(x, y)"
   ]
  },
  {
   "cell_type": "markdown",
   "metadata": {},
   "source": [
    "# 5.8"
   ]
  },
  {
   "cell_type": "markdown",
   "metadata": {},
   "source": [
    "## 問題１\n",
    "　下記プログラムを実行した結果を求めなさい（pritをして眺めるだけではないということはわかりますよね？手作業で計算してください）\n",
    "```python\n",
    "country_code = {\n",
    "    'Iceland': {'code': 354, 'capital': 'Reykjavik'},\n",
    "    'Iceland': {'code': 353, 'capital': 'Dublin'},\n",
    "    'Azerbaidjan': {'code': 994, 'capital': 'Baku'}\n",
    "}\n",
    "\n",
    "def getstr_keyval(x):\n",
    "    if isinstance(x, dict):\n",
    "        return x\n",
    "\n",
    "    my_str = ''\n",
    "    for key, val in x.items():\n",
    "        my_str += (' ' + str(key) + ' ' + getstr_keyval(val))\n",
    "    return my_str\n",
    "\n",
    "for key1, val1 in country_code.items():\n",
    "    print(key1, getstr_keyval(val1))\n",
    "```"
   ]
  },
  {
   "cell_type": "markdown",
   "metadata": {},
   "source": [
    "### 答え\n",
    "最初は\n",
    "```python\n",
    "country_code = {\n",
    "    'Iceland': {'code': 354, 'capital': 'Reykjavik'},\n",
    "    'Iceland': {'code': 353, 'capital': 'Dublin'},\n",
    "    'Azerbaidjan': {'code': 994, 'capital': 'Baku'}\n",
    "}\n",
    "```\n",
    "を見ます。<br>\n",
    "keyに同じ名前（'Iceland'）があります。<br>\n",
    "ディクショナリーでは、keyの名前が違うならvalueは重複しても大丈夫ですが、同じkeyをもらうと<br>\n",
    "最後にもっらたvalueを持っている一つのkeyが残るので、\n",
    "```python\n",
    "country_code = {\n",
    "    'Iceland': {'code': 353, 'capital': 'Dublin'},\n",
    "    'Azerbaidjan': {'code': 994, 'capital': 'Baku'}\n",
    "}\n",
    "```\n",
    "になります。<br>\n",
    "つぎは下から行きます。\n",
    "```python\n",
    "for key1, val1 in country_code.items():\n",
    "    print(key1, getstr_keyval(val1))\n",
    "```\n",
    "関数getstr_keyval()にcountry_code(ディクショナリー)の値(value)をfor文を用いて順番で入れます。<br>\n",
    "例）{'code': 353, 'capital': 'Dublin'}と{'code': 994, 'capital': 'Baku'}が入ります。\n",
    "```python\n",
    "def getstr_keyval(x):\n",
    "    if isinstance(x, dict):\n",
    "        return x\n",
    "\n",
    "    my_str = ''\n",
    "    for key, val in x.items():\n",
    "        my_str += (' ' + str(key) + ' ' + getstr_keyval(val))\n",
    "    return my_str\n",
    "```\n",
    "ここではまず、「if isinstance(x, dict):」でxのデータ型を確認します。<br>\n",
    "そして、my_strにxのkeyとvalueを文字列にして入れます。<br>\n",
    "最後、「return my_str」します。\n",
    "```python\n",
    "print(key1, getstr_keyval(val1))\n",
    "```\n",
    "ここで、country_codeのkey達とmy_strを出力して<br>\n",
    "Iceland {'code': 353, 'capital': 'Dublin'}<br>\n",
    "Azerbaidjan {'code': 994, 'capital': 'Baku'}<br>\n",
    "が出力されます。"
   ]
  },
  {
   "cell_type": "markdown",
   "metadata": {},
   "source": [
    "## 問題２\n",
    "　下記の国番号、会員番号、会員の性別、氏名、年齢、都道府県の表をもとに、データを格納する辞書を生成するプログラムを作成してください。まず、表を入れ子のリストデータとして生成し、国番号と会員番号を辞書のキー、それ以外のレコードをリスト変数として辞書の値とし、辞書変数に格納するものとします。\n",
    "\n",
    "\n",
    "国番号|会員番号|性別|性|名|年齢|都道府県\n",
    "-|-|-|-|-|-|-\n",
    "'01'|'0001'|Male|Yamada|Tarou|25|Tokyo\n",
    "'01'|'0002'|Male|Satou|Takeshi|27|Kanagawa\n",
    "'01'|'0003'|Female|Tanaka|Yuko|25|Saitama\n",
    "'02'|'0001'|Male|Smith|Mike|22|NewJersey\n",
    "'02'|'0002'|Male|Turner|Tom|27|Kansas\n",
    "'02'|'0003'|Male|Jackson|David|25|Florida"
   ]
  },
  {
   "cell_type": "code",
   "execution_count": 78,
   "metadata": {},
   "outputs": [
    {
     "name": "stdout",
     "output_type": "stream",
     "text": [
      "('01', '0001') ['Male', 'Yamada', 'Tarou', 25, 'Tokyo']\n",
      "('01', '0002') ['Male', 'Satou', 'Takeshi', 27, 'Kanagawa']\n",
      "('01', '0003') ['Female', 'Tanaka', 'Yuko', 25, 'Saitama']\n",
      "('02', '0001') ['Male', 'Smith', 'Mike', 22, 'NewJersey']\n",
      "('02', '0002') ['Male', 'Turner', 'Tom', 27, 'Kansas']\n",
      "('02', '0003') ['Male', 'Jackson', 'David', 25, 'Florida']\n"
     ]
    }
   ],
   "source": [
    "country_data=[['01','0001','Male','Yamada','Tarou',25,'Tokyo'],\n",
    "              ['01','0002','Male','Satou','Takeshi',27,'Kanagawa'],\n",
    "              ['01','0003','Female','Tanaka','Yuko',25,'Saitama'],\n",
    "              ['02','0001','Male','Smith','Mike',22,'NewJersey'],\n",
    "              ['02','0002','Male','Turner','Tom',27,'Kansas'],\n",
    "              ['02','0003','Male','Jackson','David',25,'Florida'],\n",
    "             ]\n",
    "\n",
    "country_dic={}\n",
    "for i in country_data:\n",
    "    country_dic[i[0],i[1]] = i[2:]\n",
    "    \n",
    "for x, y in country_dic.items():\n",
    "    print(x, y)"
   ]
  },
  {
   "cell_type": "markdown",
   "metadata": {},
   "source": [
    "# 5.9"
   ]
  },
  {
   "cell_type": "markdown",
   "metadata": {},
   "source": [
    "## 問題１\n",
    "　ラムダ式を工夫することで、下記の辞書変数mountain_in_japanを、標高の逆順にソートしてください\n",
    "```python\n",
    "mountain_in_japan = {'fuji': 3776, 'kitadake': 3193, 'okuhodakadake':3190, 'dummy': 0}\n",
    "```"
   ]
  },
  {
   "cell_type": "code",
   "execution_count": 80,
   "metadata": {},
   "outputs": [
    {
     "name": "stdout",
     "output_type": "stream",
     "text": [
      "dummy 0\n",
      "okuhodakadake 3190\n",
      "kitadake 3193\n",
      "fuji 3776\n"
     ]
    }
   ],
   "source": [
    "mountain_in_japan = {'fuji': 3776, 'kitadake': 3193, 'okuhodakadake':3190, 'dummy': 0}\n",
    "mountain_in_japan_sorted = sorted(mountain_in_japan.items(), key=lambda x: x[1])\n",
    "for key, val in mountain_in_japan_sorted:\n",
    "    print(key, val)"
   ]
  },
  {
   "cell_type": "markdown",
   "metadata": {},
   "source": [
    "# 5.10"
   ]
  },
  {
   "cell_type": "markdown",
   "metadata": {},
   "source": [
    "## 問題１\n",
    "　引数ｘが１０以上、２０未満であるか否かを判定する関数is_number_of_positions_of_10(x)を、比較演算子の連鎖を用いて作成しなさい"
   ]
  },
  {
   "cell_type": "code",
   "execution_count": 81,
   "metadata": {},
   "outputs": [],
   "source": [
    "def is_number_of_positions_of_10(x):\n",
    "    print(bool(10 <= x and x < 20))"
   ]
  },
  {
   "cell_type": "code",
   "execution_count": 83,
   "metadata": {},
   "outputs": [
    {
     "name": "stdout",
     "output_type": "stream",
     "text": [
      "True\n",
      "False\n",
      "False\n",
      "True\n"
     ]
    }
   ],
   "source": [
    "is_number_of_positions_of_10(11)\n",
    "is_number_of_positions_of_10(30)\n",
    "is_number_of_positions_of_10(51)\n",
    "is_number_of_positions_of_10(17)"
   ]
  },
  {
   "cell_type": "code",
   "execution_count": null,
   "metadata": {},
   "outputs": [],
   "source": []
  }
 ],
 "metadata": {
  "kernelspec": {
   "display_name": "Python 3",
   "language": "python",
   "name": "python3"
  },
  "language_info": {
   "codemirror_mode": {
    "name": "ipython",
    "version": 3
   },
   "file_extension": ".py",
   "mimetype": "text/x-python",
   "name": "python",
   "nbconvert_exporter": "python",
   "pygments_lexer": "ipython3",
   "version": "3.8.3"
  }
 },
 "nbformat": 4,
 "nbformat_minor": 4
}
