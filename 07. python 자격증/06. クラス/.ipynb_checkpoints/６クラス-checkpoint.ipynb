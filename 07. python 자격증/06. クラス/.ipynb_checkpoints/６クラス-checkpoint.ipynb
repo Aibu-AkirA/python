{
 "cells": [
  {
   "cell_type": "markdown",
   "metadata": {},
   "source": [
    "# 6.1"
   ]
  },
  {
   "cell_type": "markdown",
   "metadata": {},
   "source": [
    "## 問題１\n",
    "　ねこです。ニャーとなく四本足の動物です。ねこはいます。これをもとに、猫のクラスを作ってください。ただし、メソッドは作らずデータ属性のみで作成してください。ねこでした。<br>\n",
    "実行例<br>\n",
    "'鳴き声:　ニャー、足の数：　4、動物：　True'"
   ]
  },
  {
   "cell_type": "code",
   "execution_count": 2,
   "metadata": {},
   "outputs": [
    {
     "name": "stdout",
     "output_type": "stream",
     "text": [
      "ニャー\n",
      "4\n",
      "True\n"
     ]
    }
   ],
   "source": [
    "class Neko:\n",
    "    koe = 'ニャー'\n",
    "    foots = 4\n",
    "    animal = True\n",
    "    \n",
    "cat_data = Neko()\n",
    "print(cat_data.koe)\n",
    "print(cat_data.foots)\n",
    "print(cat_data.animal)"
   ]
  },
  {
   "cell_type": "markdown",
   "metadata": {},
   "source": [
    "## 問題２\n",
    "　次のような４つの属性をもつ、Personというクラスを作成して下さい。ただし、生成されるインスタンスは、様々な名前や国籍、生年、住所の場合がありうることを想定して下さい。更に、これらの属性を示すためのshow_attributes()というメソッドを持たせてください。\n",
    "名前　国籍　生年　住所\n",
    "コーディングの際に次のような英語を使うとかっこいいかもです。\n",
    "\n",
    "日本語|英語\n",
    "----|----\n",
    "'名前'|'name'\n",
    "'国籍'|'nationality'\n",
    "'生年'|'birth'\n",
    "'住所'|'address'"
   ]
  },
  {
   "cell_type": "code",
   "execution_count": 10,
   "metadata": {},
   "outputs": [
    {
     "name": "stdout",
     "output_type": "stream",
     "text": [
      "名前: 章\n",
      "国籍: 北朝鮮\n",
      "生年: 5-5-5\n",
      "住所: 札幌駅の北入口階段\n",
      "\n",
      "名前: 熙\n",
      "国籍: ウランバートル\n",
      "生年: 3-4-5\n",
      "住所: 中島公園の島\n"
     ]
    }
   ],
   "source": [
    "class Person:\n",
    "    def __init__(self, name = '',nationality = '', birth = '', address = ''):\n",
    "        self.name = name\n",
    "        self.nationality = nationality\n",
    "        self.birth = birth\n",
    "        self.address = address\n",
    "        \n",
    "    def show_attributes(self):\n",
    "        print(\"名前:\", self.name)\n",
    "        print(\"国籍:\", self.nationality)\n",
    "        print(\"生年:\", self.birth)\n",
    "        print(\"住所:\", self.address)\n",
    "        \n",
    "person_1 = Person(\"章\", \"北朝鮮\", \"5-5-5\", \"札幌駅の北入口階段\")\n",
    "person_1.show_attributes()\n",
    "print()\n",
    "person_2 = Person(\"熙\", \"ウランバートル\", \"3-4-5\", \"中島公園の島\")\n",
    "person_2.show_attributes()"
   ]
  },
  {
   "cell_type": "markdown",
   "metadata": {},
   "source": [
    "# 6.2"
   ]
  },
  {
   "cell_type": "markdown",
   "metadata": {},
   "source": [
    "## 問題１\n",
    "円柱を表すクラスを生成してください。円柱を半径と高さによって特徴づけて、任意の半径と高さを持つ円柱について表面積と体積を計算しなさい。<br>\n",
    "※コーディングの際には以下のような名称で使うとかっこいいかもね円周率πは3.14として計算していいです。\n",
    "\n",
    "日本語|英語\n",
    "----|----\n",
    "円柱|cylinder\n",
    "底面|base\n",
    "面積|area\n",
    "側面|side\n",
    "円周|circumference\n",
    "表面積|surface area\n",
    "体積|cvolume\n",
    "円周率|pi\n"
   ]
  },
  {
   "cell_type": "code",
   "execution_count": 45,
   "metadata": {},
   "outputs": [],
   "source": [
    "import numpy as np\n",
    "\n",
    "class Cylindr_Data:\n",
    "    def __init__(self, height=0, radius=0):\n",
    "        self.height = height\n",
    "        self.radius = radius\n",
    "        \n",
    "    def cylindr_Calculator(self):\n",
    "        base = np.pi*self.radius*self.radius\n",
    "        circumference = np.pi*self.radius*2\n",
    "        side = self.height * circumference\n",
    "        area = base + side\n",
    "        cvolume = base * self.height\n",
    "        \n",
    "        print(\"高さ :\", self.height)\n",
    "        print(\"半径 :\", self.radius)\n",
    "        print(\"円周 :\", round(circumference,2))\n",
    "        print(\"底面 :\", round(base,2))\n",
    "        print(\"側面 :\", round(side,2))\n",
    "        print(\"表面積 :\", round(area,2))\n",
    "        print(\"体積 :\", round(cvolume,2))"
   ]
  },
  {
   "cell_type": "code",
   "execution_count": 46,
   "metadata": {},
   "outputs": [
    {
     "name": "stdout",
     "output_type": "stream",
     "text": [
      "高さ : 10\n",
      "半径 : 3\n",
      "円周 : 18.85\n",
      "底面 : 28.27\n",
      "側面 : 188.5\n",
      "表面積 : 216.77\n",
      "体積 : 282.74\n"
     ]
    }
   ],
   "source": [
    "cD1 = Cylindr_Data(10, 3)\n",
    "cD1.cylindr_Calculator()"
   ]
  },
  {
   "cell_type": "code",
   "execution_count": 47,
   "metadata": {},
   "outputs": [
    {
     "name": "stdout",
     "output_type": "stream",
     "text": [
      "高さ : 1240\n",
      "半径 : 600\n",
      "円周 : 3769.91\n",
      "底面 : 1130973.36\n",
      "側面 : 4674689.87\n",
      "表面積 : 5805663.22\n",
      "体積 : 1402406960.56\n"
     ]
    }
   ],
   "source": [
    "cD2 = Cylindr_Data(1240, 600)\n",
    "cD2.cylindr_Calculator()"
   ]
  },
  {
   "cell_type": "markdown",
   "metadata": {},
   "source": [
    "# 6.3"
   ]
  },
  {
   "cell_type": "markdown",
   "metadata": {},
   "source": [
    "## 問題１\n",
    "　握り寿司のカツオのクラスを考えます。握り寿司のかつおは赤身をねたとしているところはまぐろと同じですが、生姜とネギのトッピングが加わります。Nigiriのクラスを継承して、かつおのクラスを作ってください。なお、show_attributes()というメソッドで特性を表示するようにしてください。"
   ]
  },
  {
   "cell_type": "code",
   "execution_count": 43,
   "metadata": {},
   "outputs": [],
   "source": [
    "class Nigiri:\n",
    "    category = \"にぎり\"\n",
    "    top = \"ねた\"\n",
    "    base = \"しゃり\"\n",
    "    \n",
    "    def show_attributes(self):\n",
    "        print(\"top: {}, base: {}, category: {}\".format(self.top, self.base, self.category))\n",
    "\n",
    "class Katuo(Nigiri):\n",
    "    top = \"かつお\"\n",
    "    topping_1 = \"しょうが\"\n",
    "    topping_2 = \"ねぎ\"\n",
    "    \n",
    "    def show_attributes(self):\n",
    "        super().show_attributes()\n",
    "        print(\"topping_1 : {}, topping_2 : {}\".format(self.topping_1, self.topping_1))"
   ]
  },
  {
   "cell_type": "code",
   "execution_count": 44,
   "metadata": {},
   "outputs": [
    {
     "name": "stdout",
     "output_type": "stream",
     "text": [
      "top: かつお, base: しゃり, category: にぎり\n",
      "topping_1 : しょうが, topping_2 : しょうが\n"
     ]
    }
   ],
   "source": [
    "eat_susi = Katuo()\n",
    "eat_susi.show_attributes()"
   ]
  },
  {
   "cell_type": "markdown",
   "metadata": {},
   "source": [
    "## 問題２\n",
    "　長方形のクラスを継承して、正方形のクラスを作成してください。長方形は、幅と高さで特徴づけることができ、長方形は幅のみで特徴づけるものとします。長方形も正方形も、州の長さと面積を計算できるメソッドを持つものとします。"
   ]
  },
  {
   "cell_type": "code",
   "execution_count": 59,
   "metadata": {},
   "outputs": [],
   "source": [
    "class Rectangle:\n",
    "    def __init__(self, width=0, height=0):\n",
    "        self.width = width\n",
    "        self.height = height\n",
    "        self.perimeter = (width + height)*2\n",
    "        self.area = width*height\n",
    "        \n",
    "    def Rectangle_cal(self):\n",
    "        print(\"たて : {}, よこ : {}, 回り : {}, 面積 : {}\".format(self.width, self.height, self.perimeter, self.area))"
   ]
  },
  {
   "cell_type": "code",
   "execution_count": 60,
   "metadata": {},
   "outputs": [
    {
     "name": "stdout",
     "output_type": "stream",
     "text": [
      "たて : 10, よこ : 20, 回り : 60, 面積 : 200\n"
     ]
    }
   ],
   "source": [
    "rec_1 = Rectangle(10,20)\n",
    "rec_1.Rectangle_cal()"
   ]
  },
  {
   "cell_type": "code",
   "execution_count": 63,
   "metadata": {},
   "outputs": [],
   "source": [
    "class Square(Rectangle):\n",
    "    def __init__(self, width=0):\n",
    "        super().__init__(width, width)"
   ]
  },
  {
   "cell_type": "code",
   "execution_count": 64,
   "metadata": {},
   "outputs": [
    {
     "name": "stdout",
     "output_type": "stream",
     "text": [
      "たて : 25, よこ : 25, 回り : 100, 面積 : 625\n"
     ]
    }
   ],
   "source": [
    "squ_1 = Square(25)\n",
    "squ_1.Rectangle_cal()"
   ]
  },
  {
   "cell_type": "markdown",
   "metadata": {},
   "source": [
    "# 6.4"
   ]
  },
  {
   "cell_type": "markdown",
   "metadata": {},
   "source": [
    "## 問題１\n",
    "　百万行からなるファイルの最初の３行を表示するプログラムを作成してください。ただし、百万行からなるファイルを手打ちで作るのは大変なので、以下の方法で作成したものを使ってください。\n",
    "```python\n",
    "import random\n",
    "# 何回実行しても同じ結果になるように seed （乱数の種みたいなもの）を固定する\n",
    "random.seed(1)\n",
    "msgs = [\"Hi\", \"Hello\", \"Good morning\", \"Good night\", \"See you later\", \"How are you\", \"Have a good day\", \"hoge\", \"fuga\", \"piyo\", \"(^ω^)\"]\n",
    "with open(\"some.txt\",\"w\") as f:\n",
    "    for i in range(1000000):\n",
    "        f.write(\"{}, {}\\n\".format(i, random.choice(msgs)))\n",
    "```"
   ]
  },
  {
   "cell_type": "code",
   "execution_count": 66,
   "metadata": {},
   "outputs": [],
   "source": [
    "import random\n",
    "# 何回実行しても同じ結果になるように seed （乱数の種みたいなもの）を固定する\n",
    "random.seed(1)\n",
    "msgs = [\"Hi\", \"Hello\", \"Good morning\", \"Good night\", \"See you later\", \"How are you\", \"Have a good day\", \"hoge\", \"fuga\", \"piyo\", \"(^ω^)\"]\n",
    "with open(\"some.txt\",\"w\") as f:\n",
    "    for i in range(1000000):\n",
    "        f.write(\"{}, {}\\n\".format(i, random.choice(msgs)))"
   ]
  },
  {
   "cell_type": "code",
   "execution_count": 69,
   "metadata": {},
   "outputs": [
    {
     "name": "stdout",
     "output_type": "stream",
     "text": [
      "0, Good morning\n",
      "1, piyo\n",
      "2, Hello\n"
     ]
    }
   ],
   "source": [
    "file = open('some.txt', 'r')\n",
    "file_itr = iter(file)\n",
    "print(next(file_itr), end =\"\")\n",
    "print(next(file_itr), end =\"\")\n",
    "print(next(file_itr), end =\"\")"
   ]
  },
  {
   "cell_type": "markdown",
   "metadata": {},
   "source": [
    "## 問題２\n",
    "　素数を返すジェネレータ関数を作成してください。素数とは、一とその数自身との外には約数がない正の整数のことです。<br>\n",
    "　たとえば、最初の10個の素数は、<br>\n",
    "　2,3,5,7,11,13,17,19,23,29<br>\n",
    "です。<br>\n",
    "素数は無限個あることが証明されています。（ここ豆知識）"
   ]
  },
  {
   "cell_type": "code",
   "execution_count": null,
   "metadata": {},
   "outputs": [],
   "source": [
    "def primeNumber(x=2, y=3):\n",
    "    count = 0\n",
    "    while True:\n",
    "        for i in range(2, x+1):\n",
    "            if x % i == 0:\n",
    "                break\n",
    "            elif(i == x):\n",
    "                count += 1\n",
    "                yield x\n",
    "        x += 1\n",
    "        if count == y:\n",
    "            break"
   ]
  },
  {
   "cell_type": "code",
   "execution_count": null,
   "metadata": {},
   "outputs": [],
   "source": [
    "find_PN = primeNumber(50)\n",
    "print(next(find_PN))"
   ]
  },
  {
   "cell_type": "code",
   "execution_count": 3,
   "metadata": {},
   "outputs": [],
   "source": [
    "import math\n",
    "def gen_prime(x=2):\n",
    "    '''素数を返すジェネレータ関数'''\n",
    "    while True:\n",
    "        for i in range(2, int(math.sqrt(x))+1):\n",
    "            if x % i == 0:\n",
    "                break\n",
    "        else:\n",
    "            yield x\n",
    "        x += 1"
   ]
  },
  {
   "cell_type": "code",
   "execution_count": 4,
   "metadata": {},
   "outputs": [
    {
     "name": "stdout",
     "output_type": "stream",
     "text": [
      "61 67 71 73 79 83 89 97 101 103 \n",
      "Wall time: 996 µs\n"
     ]
    }
   ],
   "source": [
    "%%time\n",
    "i = gen_prime(60)\n",
    "for c in range(10):\n",
    "    print(next(i), end=\" \")\n",
    "print(\"\")"
   ]
  },
  {
   "cell_type": "markdown",
   "metadata": {},
   "source": [
    "# 6.5"
   ]
  },
  {
   "cell_type": "markdown",
   "metadata": {},
   "source": [
    "## 問題１\n",
    "　数学関数my_pow()が含まれる、 my_math.py というモジュールファイルを作成しなさい。数学関数 my_pow() は、引数を二つ受け取り、値を一つ返します。第一引数を x 、第二引数を y とすると、 x の y 乗を返すものとする。<br>\n",
    "　このモジュールファイルをインポートして、引数に x=2 と y=5 を与え、結果が 32 になることを確認せよ。"
   ]
  },
  {
   "cell_type": "code",
   "execution_count": 9,
   "metadata": {},
   "outputs": [],
   "source": [
    "with open(\"my_math.py\", \"w\") as l:\n",
    "    l.write(\"\"\"def my_pow(x, y):\n",
    "    return x**y\"\"\")"
   ]
  },
  {
   "cell_type": "code",
   "execution_count": 10,
   "metadata": {},
   "outputs": [
    {
     "data": {
      "text/plain": [
       "32"
      ]
     },
     "execution_count": 10,
     "metadata": {},
     "output_type": "execute_result"
    }
   ],
   "source": [
    "import my_math\n",
    "my_math.my_pow(2, 5)"
   ]
  },
  {
   "cell_type": "markdown",
   "metadata": {},
   "source": [
    "## 問題２\n",
    "　上記と同じ関数を含む my_math2.py という名前のモジュールファイルを作成し、スクリプトとして実行したときは my_pow() のテストコードが実行され、モジュールとして実行されたときはテストコードが実行されないようにしなさい。テストコードは、引数に 2 と 5 を与えて結果が 32 になることを確認するものとする。"
   ]
  },
  {
   "cell_type": "code",
   "execution_count": 18,
   "metadata": {},
   "outputs": [],
   "source": [
    "with open(\"my_math2.py\", \"w\") as l:\n",
    "    l.write(\"\"\"def my_pow(x = 2, y = 5):\n",
    "    return x**y\"\"\")"
   ]
  },
  {
   "cell_type": "code",
   "execution_count": 19,
   "metadata": {},
   "outputs": [
    {
     "data": {
      "text/plain": [
       "32"
      ]
     },
     "execution_count": 19,
     "metadata": {},
     "output_type": "execute_result"
    }
   ],
   "source": [
    "import my_math2\n",
    "my_math2.my_pow()"
   ]
  },
  {
   "cell_type": "code",
   "execution_count": 20,
   "metadata": {},
   "outputs": [
    {
     "data": {
      "text/plain": [
       "81"
      ]
     },
     "execution_count": 20,
     "metadata": {},
     "output_type": "execute_result"
    }
   ],
   "source": [
    "my_math2.my_pow(3, 4)"
   ]
  },
  {
   "cell_type": "markdown",
   "metadata": {},
   "source": [
    "# 6.6"
   ]
  },
  {
   "cell_type": "markdown",
   "metadata": {},
   "source": [
    "## 問題１\n",
    "　下記プログラムを実行した結果を求めなさい（pritをして眺めるだけではないということはわかりますよね？手作業で計算してください）\n",
    "```python\n",
    "x = 'Happy '\n",
    "def event1():\n",
    "    print(\"In event1:\", x, end=\" -> \")\n",
    "\n",
    "def event2():\n",
    "    x = 'sad   '\n",
    "    print(\"In event2:\", x, end=\" -> \")\n",
    "\n",
    "def event3():\n",
    "    global x\n",
    "    x = 'Tired '\n",
    "    print(\"In event3:\", x, end=\" -> \")\n",
    "\n",
    "def event4():\n",
    "    x = 'Excite'\n",
    "    def happening():\n",
    "        print(\"In event4:\", x, end=\" -> \")\n",
    "    happening()\n",
    "\n",
    "def event5():\n",
    "    x = 'fun   '\n",
    "    def happening():\n",
    "        nonlocal x\n",
    "        x = 'Score '\n",
    "    happening()\n",
    "    print(\"In event5:\", x, end=\" -> \")\n",
    "\n",
    "func_list = [event1, event2, event3, event4, event5]\n",
    "for f in func_list:\n",
    "    f()\n",
    "    print(\"After {}: {}\".format(f.__name__, x))\n",
    "```"
   ]
  },
  {
   "cell_type": "markdown",
   "metadata": {},
   "source": [
    "まず、\n",
    "```python\n",
    "func_list = [event1, event2, event3, event4, event5]\n",
    "for f in func_list:\n",
    "    f()\n",
    "    print(\"After {}: {}\".format(f.__name__, x))\n",
    "```\n",
    "を通して関数event1~5まで呼んできます。<br><br>\n",
    "「f()」でevent関数を実行し、「print(\"After {}: {}\".format(f.__name__, x))」で<br>\n",
    "関数名と、xを出力します。<br>\n",
    "event1では関数外の変数を読み込めるので前も「Happy」、後ろも「Happy」がでます。<br><br>\n",
    "event2では関数の中でxを「sad」に初期化しで（地域変数になります。）<br>\n",
    "前は「sad」が、後ろでは外のxだけ読めるので「Happy」がでます。<br><br>\n",
    "event3では「global」を使って外のxを直接操作して、xを（グローバル、外のx）「Tired」に変わります。<br>\n",
    "だから、前と、後ろ全部グローバル（外の）xを呼んでいるので、全部「Tired」がでます。<br><br>\n",
    "event4では（※今外のxの値は「Tired」です。）、地域変数でxを「Excite」で初期化しました。<br>\n",
    "そして、関数「happening」の中のxは「event4」の中にxがあるのでそのxをつかいます。<br>\n",
    "(もし、なかったら関数「event4」の外にあるxをつかいます。)<br>\n",
    "だから、前には「Excite」、後ろには「Tired」がでます。<br><br>\n",
    "event5では地域変数xを「fun」で初期化したけど関数「happening」で「nonlocal」を使て一番近いにあるxに「Score」を入れました。<br>\n",
    "だから、前には「Score」、後ろには「Tired」がでます。"
   ]
  }
 ],
 "metadata": {
  "kernelspec": {
   "display_name": "Python 3",
   "language": "python",
   "name": "python3"
  },
  "language_info": {
   "codemirror_mode": {
    "name": "ipython",
    "version": 3
   },
   "file_extension": ".py",
   "mimetype": "text/x-python",
   "name": "python",
   "nbconvert_exporter": "python",
   "pygments_lexer": "ipython3",
   "version": "3.8.3"
  }
 },
 "nbformat": 4,
 "nbformat_minor": 4
}
