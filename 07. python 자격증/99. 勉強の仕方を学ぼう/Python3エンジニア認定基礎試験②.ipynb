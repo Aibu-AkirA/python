{
 "cells": [
  {
   "cell_type": "markdown",
   "metadata": {},
   "source": [
    "# 12月９日実施分①"
   ]
  },
  {
   "cell_type": "markdown",
   "metadata": {},
   "source": [
    "## 問題１"
   ]
  },
  {
   "cell_type": "markdown",
   "metadata": {},
   "source": [
    "以下のプログラムを実行した際の出力結果として正しいものを選択しなさい。\n",
    "```Python\n",
    "d = 'xxxxDIVExxxxDIVExxxxDIVE'\n",
    "\n",
    "print(d.replace('DIVE', 'CODE', 1))\n",
    "```\n",
    "正解: xxxxCODExxxxDIVExxxxDIVE"
   ]
  },
  {
   "cell_type": "markdown",
   "metadata": {},
   "source": [
    "# 解説"
   ]
  },
  {
   "cell_type": "markdown",
   "metadata": {},
   "source": [
    "[Pythonでreplaceを使って文字列を置換する方法 【初心者向け】](https://techacademy.jp/magazine/19188)\n",
    "1. プログラムの流れ  \n",
    "・文字列.replace(置換前の文字列, 置換後の文字列, 最大回数)"
   ]
  },
  {
   "cell_type": "markdown",
   "metadata": {},
   "source": [
    "## 問題２"
   ]
  },
  {
   "cell_type": "markdown",
   "metadata": {},
   "source": [
    "以下のプログラムを実行した際の出力結果として正しいものを選択しなさい。\n",
    "```Python\n",
    "dive_into_code = [(1, 'Noro'), (2, 'Nakao'), (3, 'Miyaoka'), (4, 'Kimura')]\n",
    "dic = dive_into_code\n",
    "dic.sort(key=lambda dic: dic[1])\n",
    "\n",
    "print(dic)\n",
    "```\n",
    "正解: [(4, 'Kimura'), (3, 'Miyaoka'), (2, 'Nakao'), (1, 'Noro')]"
   ]
  },
  {
   "cell_type": "markdown",
   "metadata": {},
   "source": [
    "## 解説"
   ]
  },
  {
   "cell_type": "markdown",
   "metadata": {},
   "source": [
    "[Python3エンジニア認定基礎試験 対策（其の1）](https://www.webtomoblg.net/web/python3-exam-01/)  \n",
    "[Python3エンジニア認定基礎試験 対策（其の2）](https://www.webtomoblg.net/web/python3-exam-02/)  \n",
    "[Python3エンジニア認定基礎試験 対策（其の3）](https://www.webtomoblg.net/web/python3-exam-03/)  \n",
    "[Python3エンジニア認定基礎試験 対策（其の4）](https://www.webtomoblg.net/web/python3-exam-04/)  \n",
    "[Python3エンジニア認定基礎試験 対策（補講）](https://www.webtomoblg.net/web/python3-exam-ex/)  \n",
    "\n",
    "1. プログラムの流れ  \n",
    "    1. 変数dive_into_codeに、リスト型で要素が入っている。\n",
    "    1. 変数dive_into_codeの中身を、変数dicに代入\n",
    "    1. dicをsort関数で並び替え\n",
    "        1. sort(【リスト型/辞書型】, key=lambda x: 【keyにしたい要素】)\n",
    "        1. dic[1]のように[1]をとると、バリューでの並び替えとなる。（[0]をとると、キーでの並び替えとなる。）昇順。\n",
    "        1. lambdaは無名関数\n",
    "1. lambdaとは  \n",
    "・lambda・・・無名のインライン関数で、単一の式により構成され、コール時に評価される。ラムダ関数を生成する構文は、 lambda [引数]: 式"
   ]
  },
  {
   "cell_type": "markdown",
   "metadata": {},
   "source": [
    "## 問題３"
   ]
  },
  {
   "cell_type": "markdown",
   "metadata": {},
   "source": [
    "リストから、引数の値(x)の最初のアイテムを削除するメソッドを選びなさい。\n",
    "\n",
    "正解: list.remove(x)"
   ]
  },
  {
   "cell_type": "markdown",
   "metadata": {},
   "source": [
    "## 解説"
   ]
  },
  {
   "cell_type": "markdown",
   "metadata": {},
   "source": [
    "[Pythonでリスト（配列）の要素を削除するclear, pop, remove, del](https://note.nkmk.me/python-list-clear-pop-remove-del/)  \n",
    "1. listの使い方\n",
    "    1. すべての要素を削除: clear()\n",
    "    1. 指定した位置の要素を削除し、値を取得: pop()\n",
    "    1. 指定した値と同じ要素を検索し、最初の要素を削除: remove()\n",
    "    1. インデックス・スライスで位置・範囲を指定して削除: del\n",
    "    1. 条件を満たす複数の要素を一括で削除: リスト内包表記"
   ]
  },
  {
   "cell_type": "markdown",
   "metadata": {},
   "source": [
    "## 問題４"
   ]
  },
  {
   "cell_type": "markdown",
   "metadata": {},
   "source": [
    "以下のプログラムと同じ出力結果を得たい。\n",
    "```Python\n",
    "dive_into_code = ['Noro', 'Nakao', 'Miyaoka', 'Miyashita', 'Shibata', 'Kimura']\n",
    "dive_into_code.clear()\n",
    "print(dive_into_code)\n",
    "```\n",
    "下記のプログラムの(A)に記述すべきコードを選択肢から選びなさい。\n",
    "```Python\n",
    "dive_into_code = ['Noro', 'Nakao', 'Miyaoka', 'Miyashita', 'Shibata', 'Kimura']\n",
    "\n",
    "(A)\n",
    "\n",
    "print(dive_into_code)\n",
    "```\n",
    "正解: del dive_into_code[:]"
   ]
  },
  {
   "cell_type": "markdown",
   "metadata": {},
   "source": [
    "## 解説"
   ]
  },
  {
   "cell_type": "markdown",
   "metadata": {},
   "source": [
    "[Python3エンジニア認定基礎試験 対策（其の1）](https://www.webtomoblg.net/web/python3-exam-01/)  \n",
    "[Python3エンジニア認定基礎試験 対策（其の2）](https://www.webtomoblg.net/web/python3-exam-02/)  \n",
    "[Python3エンジニア認定基礎試験 対策（其の3）](https://www.webtomoblg.net/web/python3-exam-03/)  \n",
    "[Python3エンジニア認定基礎試験 対策（其の4）](https://www.webtomoblg.net/web/python3-exam-04/)  \n",
    "[Python3エンジニア認定基礎試験 対策（補講）](https://www.webtomoblg.net/web/python3-exam-ex/)  \n",
    "\n",
    "1. プログラムの流れ\n",
    "    1. listを変数dive_into_codeに代入\n",
    "    1. 変数dive_into_codeにlistの要素を削除するclear() -> listの中身全削除\n",
    "    1. 変数dive_into_codeをprint -> 出力は []\n",
    "    \n",
    "・delで全削除することが可能。del 変数名[:] とすると全範囲指定になる。（スライス）"
   ]
  },
  {
   "cell_type": "markdown",
   "metadata": {},
   "source": [
    "## 問題５"
   ]
  },
  {
   "cell_type": "markdown",
   "metadata": {},
   "source": [
    "以下のプログラムを実行した際の出力結果として正しいものを選択しなさい。\n",
    "```Python\n",
    "dic = {'Noro': 1, 'Nakao': 2, 'Miyaoka': 3}\n",
    "\n",
    "dic['Miyaoka'] += 1\n",
    "\n",
    "print(dic)\n",
    "```\n",
    "正解: {'Noro': 1, 'Nakao': 2, 'Miyaoka': 4}"
   ]
  },
  {
   "cell_type": "markdown",
   "metadata": {},
   "source": [
    "## 解説"
   ]
  },
  {
   "cell_type": "markdown",
   "metadata": {},
   "source": []
  },
  {
   "cell_type": "markdown",
   "metadata": {},
   "source": [
    "## 問題６"
   ]
  },
  {
   "cell_type": "markdown",
   "metadata": {},
   "source": [
    "仮想環境を生成、管理するのにつかわれているスクリプトを選択肢の中から選びなさい。\n",
    "\n",
    "正解: pyvenv"
   ]
  },
  {
   "cell_type": "markdown",
   "metadata": {},
   "source": [
    "## 解説"
   ]
  },
  {
   "cell_type": "markdown",
   "metadata": {},
   "source": [
    "[【Python】pipでrequestsパッケージを使ってみる（Web API）](https://www.webtomoblg.net/web/pip-requests-web-api/)  \n",
    "[venv --- 仮想環境の作成](https://docs.python.org/ja/3/library/venv.html)  \n",
    "1. pyvenvとは  \n",
    "・venvモジュールは、軽量な仮想環境の構築をすることができる。"
   ]
  },
  {
   "cell_type": "markdown",
   "metadata": {},
   "source": [
    "## 問題７"
   ]
  },
  {
   "cell_type": "markdown",
   "metadata": {},
   "source": [
    "対話モード時に、最後に表示した式を格納している変数を選びなさい。\n",
    "\n",
    "正解: 変数：_ (アンダーバー)"
   ]
  },
  {
   "cell_type": "markdown",
   "metadata": {},
   "source": [
    "## 解説"
   ]
  },
  {
   "cell_type": "markdown",
   "metadata": {},
   "source": [
    "[Python3エンジニア認定基礎試験 対策（其の1）](https://www.webtomoblg.net/web/python3-exam-01/)  \n",
    "[Python3エンジニア認定基礎試験 対策（其の2）](https://www.webtomoblg.net/web/python3-exam-02/)  \n",
    "[Python3エンジニア認定基礎試験 対策（其の3）](https://www.webtomoblg.net/web/python3-exam-03/)  \n",
    "[Python3エンジニア認定基礎試験 対策（其の4）](https://www.webtomoblg.net/web/python3-exam-04/)  \n",
    "[Python3エンジニア認定基礎試験 対策（補講）](https://www.webtomoblg.net/web/python3-exam-ex/)  \n",
    "\n",
    "1. 対話モードのやり方と_の意味  \n",
    "・対話モードは、コマンドプロンプトにpython3と入力するとなれる。  \n",
    "・環境変数PYTHONSTARTUPに特定のPythonスクリプトのパスを設定することで、対話モードが起動する時にそのスクリプトを最初に実行してくれる。  \n",
    "・対話モードでは、最後に表示した値を変数「_」（アンダースコア）に代入  "
   ]
  },
  {
   "cell_type": "markdown",
   "metadata": {},
   "source": [
    "## 問題８"
   ]
  },
  {
   "cell_type": "markdown",
   "metadata": {},
   "source": [
    "以下のプログラムを実行した際の出力結果を選びなさい。\n",
    "```Python\n",
    "def fugafuga(title,content = 'default_content', number = 4):\n",
    "    content = 'content'\n",
    "    print(title, end=' ')\n",
    "    print(content, end=' ')\n",
    "    print(number)\n",
    " \n",
    "fugafuga(title = 'title_default', content = 'None', number = 5) \n",
    "```\n",
    "正解: title_default content 5"
   ]
  },
  {
   "cell_type": "markdown",
   "metadata": {},
   "source": [
    "## 解説"
   ]
  },
  {
   "cell_type": "markdown",
   "metadata": {},
   "source": []
  },
  {
   "cell_type": "markdown",
   "metadata": {},
   "source": [
    "## 問題９"
   ]
  },
  {
   "cell_type": "markdown",
   "metadata": {},
   "source": [
    "Pythonインタープリタにて以下のように入力した場合の出力結果として正しいものを選びなさい。\n",
    "```Python\n",
    ">>> import math\n",
    ">>> math.sqrt(2)\n",
    "```\n",
    "正解: 1.414213562"
   ]
  },
  {
   "cell_type": "markdown",
   "metadata": {},
   "source": [
    "## 解説"
   ]
  },
  {
   "cell_type": "markdown",
   "metadata": {},
   "source": []
  },
  {
   "cell_type": "markdown",
   "metadata": {},
   "source": [
    "## 問題１０"
   ]
  },
  {
   "cell_type": "markdown",
   "metadata": {},
   "source": [
    "クリーンアップ動作を定義してあるオブジェクトに対して、クリーナップ動作を保証した形で利用するための構文で適切なものを選びなさい。\n",
    "\n",
    "正解: with"
   ]
  },
  {
   "cell_type": "markdown",
   "metadata": {},
   "source": [
    "## 解説"
   ]
  },
  {
   "cell_type": "markdown",
   "metadata": {},
   "source": []
  },
  {
   "cell_type": "markdown",
   "metadata": {},
   "source": [
    "## 問題１１"
   ]
  },
  {
   "cell_type": "markdown",
   "metadata": {},
   "source": [
    "Pythonのコーディングスタイルについて、誤っているものを選択肢から選びなさい。\n",
    "\n",
    "正解: 可能であればコメント行を独立させるのを避ける。"
   ]
  },
  {
   "cell_type": "markdown",
   "metadata": {},
   "source": [
    "## 解説"
   ]
  },
  {
   "cell_type": "markdown",
   "metadata": {},
   "source": []
  },
  {
   "cell_type": "markdown",
   "metadata": {},
   "source": [
    "## 問題１２"
   ]
  },
  {
   "cell_type": "markdown",
   "metadata": {},
   "source": [
    "Pythonの対話型インタープリンタの中で存在するものを選択肢の中から選びなさい。\n",
    "\n",
    "正解: IPython"
   ]
  },
  {
   "cell_type": "markdown",
   "metadata": {},
   "source": [
    "## 解説"
   ]
  },
  {
   "cell_type": "markdown",
   "metadata": {},
   "source": []
  },
  {
   "cell_type": "markdown",
   "metadata": {},
   "source": [
    "## 問題１３"
   ]
  },
  {
   "cell_type": "markdown",
   "metadata": {},
   "source": [
    "Pythonインタープリタにて以下のように入力した場合の出力結果として正しいものを選びなさい。\n",
    "```Python\n",
    ">>>import reprlib\n",
    ">>>reprlib.repr(set('diveintocode'))\n",
    "```\n",
    "正解: \"{'c', 'd', 'e', 'i', 'n', 'o', ...}\""
   ]
  },
  {
   "cell_type": "markdown",
   "metadata": {},
   "source": [
    "## 解説"
   ]
  },
  {
   "cell_type": "markdown",
   "metadata": {},
   "source": []
  },
  {
   "cell_type": "markdown",
   "metadata": {},
   "source": [
    "## 問題１４"
   ]
  },
  {
   "cell_type": "markdown",
   "metadata": {},
   "source": [
    "例外の処理の説明として誤っているものを選択肢から選びなさい。\n",
    "\n",
    "正解: else節は全てのexcept節より前でなければならない。"
   ]
  },
  {
   "cell_type": "markdown",
   "metadata": {},
   "source": [
    "## 解説"
   ]
  },
  {
   "cell_type": "markdown",
   "metadata": {},
   "source": []
  },
  {
   "cell_type": "markdown",
   "metadata": {},
   "source": [
    "## 問題１５"
   ]
  },
  {
   "cell_type": "markdown",
   "metadata": {},
   "source": [
    "Pythonにおけるタブ補完について正しいものを選択肢から選びなさい。\n",
    "\n",
    "正解: 変数とモジュール名の補完はインタープリタの起動時に自動で有効になっており、[Tab]キーで補完機能が呼び出せる。"
   ]
  },
  {
   "cell_type": "markdown",
   "metadata": {},
   "source": [
    "## 解説"
   ]
  },
  {
   "cell_type": "markdown",
   "metadata": {},
   "source": []
  },
  {
   "cell_type": "markdown",
   "metadata": {},
   "source": [
    "## 問題１６"
   ]
  },
  {
   "cell_type": "markdown",
   "metadata": {},
   "source": [
    "Pythonがサポートする複素数の虚部を表す接尾辞で正しいものを選びなさい。\n",
    "\n",
    "正解: 「j」または「J」"
   ]
  },
  {
   "cell_type": "markdown",
   "metadata": {},
   "source": [
    "## 解説"
   ]
  },
  {
   "cell_type": "markdown",
   "metadata": {},
   "source": []
  },
  {
   "cell_type": "markdown",
   "metadata": {},
   "source": [
    "## 問題１７"
   ]
  },
  {
   "cell_type": "markdown",
   "metadata": {},
   "source": [
    "pythonインタープリタにて以下のように入力した場合の出力結果として正しいものを選びなさい。\n",
    "```Python\n",
    "25//7\n",
    "```\n",
    "正解: 3"
   ]
  },
  {
   "cell_type": "markdown",
   "metadata": {},
   "source": [
    "## 解説"
   ]
  },
  {
   "cell_type": "markdown",
   "metadata": {},
   "source": []
  },
  {
   "cell_type": "markdown",
   "metadata": {},
   "source": [
    "## 問題１８"
   ]
  },
  {
   "cell_type": "markdown",
   "metadata": {},
   "source": [
    "以下のプログラムを実行した際の出力結果として正しいものを選択しなさい。\n",
    "```Python\n",
    "i = 10\n",
    "\n",
    "def num(arg=i):\n",
    "    print(arg)\n",
    "\n",
    "i = 7\n",
    "\n",
    "num()\n",
    "```\n",
    "正解: 10"
   ]
  },
  {
   "cell_type": "markdown",
   "metadata": {},
   "source": [
    "## 解説"
   ]
  },
  {
   "cell_type": "markdown",
   "metadata": {},
   "source": []
  },
  {
   "cell_type": "markdown",
   "metadata": {},
   "source": [
    "## 問題１９"
   ]
  },
  {
   "cell_type": "markdown",
   "metadata": {},
   "source": [
    "問題文のプログラムを実行した場合の、出力結果を選びなさい。\n",
    "```Python\n",
    "class Sample:\n",
    "\n",
    "  c_list = []\n",
    "\n",
    "  def add_c_list(self,data):\n",
    "    self.c_list.append(data)\n",
    "\n",
    "print(\"出力結果:\", end=\" \")\n",
    "sample1 = Sample()\n",
    "sample1.add_c_list(\"データ1\")\n",
    "\n",
    "sample2 = Sample()\n",
    "sample2.add_c_list(\"データ2\")\n",
    "\n",
    "for item_data in sample1.c_list:\n",
    "  print(item_data, end=\" \")\n",
    "```\n",
    "正解: 出力結果: データ1 データ2"
   ]
  },
  {
   "cell_type": "markdown",
   "metadata": {},
   "source": [
    "## 解説"
   ]
  },
  {
   "cell_type": "markdown",
   "metadata": {},
   "source": []
  },
  {
   "cell_type": "markdown",
   "metadata": {},
   "source": [
    "## 問題２０"
   ]
  },
  {
   "cell_type": "markdown",
   "metadata": {},
   "source": [
    "pythonインタープリタを終了するコマンドを、選択肢の中から選びなさい。\n",
    "\n",
    "正解: quit()"
   ]
  },
  {
   "cell_type": "markdown",
   "metadata": {},
   "source": [
    "## 解説"
   ]
  },
  {
   "cell_type": "markdown",
   "metadata": {},
   "source": []
  },
  {
   "cell_type": "markdown",
   "metadata": {},
   "source": [
    "## 問題２１"
   ]
  },
  {
   "cell_type": "markdown",
   "metadata": {},
   "source": [
    "以下のプログラムを実行した際の出力結果を選びなさい。\n",
    "```Python\n",
    "name1,name2,name3,name4= '', 'suzuki','tanaka','sato'\n",
    "selected_name = name1 or name2 or name3 or name4\n",
    "print(selected_name)\n",
    "```\n",
    "正解: suzuki"
   ]
  },
  {
   "cell_type": "markdown",
   "metadata": {},
   "source": [
    "## 解説"
   ]
  },
  {
   "cell_type": "markdown",
   "metadata": {},
   "source": []
  },
  {
   "cell_type": "markdown",
   "metadata": {},
   "source": [
    "## 問題２２"
   ]
  },
  {
   "cell_type": "markdown",
   "metadata": {},
   "source": [
    "プログラムを実行し、下記の実行結果を得たい。\n",
    "```Python\n",
    "Miyashita\n",
    "下記のプログラムの(A)に記述すべきコードを選択肢から選びなさい。\n",
    "```Python\n",
    "dive_into_code = ['Noro', 'Nakao', 'Miyaoka', 'Miyashita', 'Shibata', 'Kimura']\n",
    "\n",
    "(A)\n",
    "\n",
    "print(ex_mentor)\n",
    "```\n",
    "正解: ex_mentor = dive_into_code.pop(3)"
   ]
  },
  {
   "cell_type": "markdown",
   "metadata": {},
   "source": [
    "## 解説"
   ]
  },
  {
   "cell_type": "markdown",
   "metadata": {},
   "source": []
  },
  {
   "cell_type": "markdown",
   "metadata": {},
   "source": [
    "## 問題２３"
   ]
  },
  {
   "cell_type": "markdown",
   "metadata": {},
   "source": [
    "pythonインタープリタにて以下のように入力した場合の出力結果として正しいものを選びなさい。\n",
    "```Python\n",
    " >>>letter = 'diveintoexam'\n",
    " >>>letter[-8] \n",
    "```\n",
    "正解: ‘i’"
   ]
  },
  {
   "cell_type": "markdown",
   "metadata": {},
   "source": [
    "## 解説"
   ]
  },
  {
   "cell_type": "markdown",
   "metadata": {},
   "source": []
  },
  {
   "cell_type": "markdown",
   "metadata": {},
   "source": [
    "## 問題２４"
   ]
  },
  {
   "cell_type": "markdown",
   "metadata": {},
   "source": [
    "以下のプログラムを実行した際の出力結果を選びなさい。\n",
    "```Python\n",
    "a = 2\n",
    "b = 5\n",
    "\n",
    "c = 3.0 + b, 5 * a\n",
    "\n",
    "print(c)\n",
    "```\n",
    "正解: (8.0, 10)"
   ]
  },
  {
   "cell_type": "markdown",
   "metadata": {},
   "source": [
    "## 解説"
   ]
  },
  {
   "cell_type": "markdown",
   "metadata": {},
   "source": []
  },
  {
   "cell_type": "markdown",
   "metadata": {},
   "source": [
    "## 問題２５"
   ]
  },
  {
   "cell_type": "markdown",
   "metadata": {},
   "source": [
    "pythonインタープリタにて以下のように入力した場合の出力結果として正しいものを選びなさい。\n",
    "```Python\n",
    ">>>3*3.72/1.5\n",
    "```\n",
    "正解: 7.44"
   ]
  },
  {
   "cell_type": "markdown",
   "metadata": {},
   "source": [
    "## 解説"
   ]
  },
  {
   "cell_type": "markdown",
   "metadata": {},
   "source": []
  },
  {
   "cell_type": "markdown",
   "metadata": {},
   "source": [
    "## 問題２６"
   ]
  },
  {
   "cell_type": "markdown",
   "metadata": {},
   "source": [
    "コマンドライン引数を取得するためのモジュールを選択肢の中から選びなさい。\n",
    "\n",
    "正解: sys"
   ]
  },
  {
   "cell_type": "markdown",
   "metadata": {},
   "source": [
    "## 解説"
   ]
  },
  {
   "cell_type": "markdown",
   "metadata": {},
   "source": []
  },
  {
   "cell_type": "markdown",
   "metadata": {},
   "source": [
    "## 問題２７"
   ]
  },
  {
   "cell_type": "markdown",
   "metadata": {},
   "source": [
    "以下のプログラムを実行した際の出力結果を選びなさい。\n",
    "```Python\n",
    "print(range(5))\n",
    "```\n",
    "正解: range(0, 5)"
   ]
  },
  {
   "cell_type": "markdown",
   "metadata": {},
   "source": [
    "## 解説"
   ]
  },
  {
   "cell_type": "markdown",
   "metadata": {},
   "source": []
  },
  {
   "cell_type": "markdown",
   "metadata": {},
   "source": [
    "## 問題２８"
   ]
  },
  {
   "cell_type": "markdown",
   "metadata": {},
   "source": [
    "ログを取得するためのモジュールを選択肢の中から選びなさい。\n",
    "\n",
    "正解: logging"
   ]
  },
  {
   "cell_type": "markdown",
   "metadata": {},
   "source": [
    "## 解説"
   ]
  },
  {
   "cell_type": "markdown",
   "metadata": {},
   "source": []
  },
  {
   "cell_type": "markdown",
   "metadata": {},
   "source": [
    "## 問題２９"
   ]
  },
  {
   "cell_type": "markdown",
   "metadata": {},
   "source": [
    "以下のプログラムを実行した際の出力結果を選びなさい。\n",
    "```Python\n",
    "print(list(range(5)))\n",
    "```\n",
    "正解: [0, 1, 2, 3, 4]"
   ]
  },
  {
   "cell_type": "markdown",
   "metadata": {},
   "source": [
    "## 解説"
   ]
  },
  {
   "cell_type": "markdown",
   "metadata": {},
   "source": []
  },
  {
   "cell_type": "markdown",
   "metadata": {},
   "source": [
    "## 問題３０"
   ]
  },
  {
   "cell_type": "markdown",
   "metadata": {},
   "source": [
    "以下のプログラムを実行した際の出力結果を選びなさい。\n",
    "```Python\n",
    "d = 'dive\\ninto\\ncode\\t'\n",
    "\n",
    "print(len(d))\n",
    "```\n",
    "正解: 15"
   ]
  },
  {
   "cell_type": "markdown",
   "metadata": {},
   "source": [
    "## 解説"
   ]
  },
  {
   "cell_type": "markdown",
   "metadata": {},
   "source": []
  },
  {
   "cell_type": "markdown",
   "metadata": {},
   "source": [
    "## 問題３１"
   ]
  },
  {
   "cell_type": "markdown",
   "metadata": {},
   "source": [
    "以下のプログラムを実行した際の出力結果として正しいものを選択しなさい。\n",
    "```Python\n",
    "dic = [\n",
    "    ['Noro', 'Nakao', 'Miyaoka'],\n",
    "    ['Kimura', 'Miyashita', 'Shibata'],\n",
    "    ['Matsumoto', 'Tanaka', 'Ivan'],\n",
    "]\n",
    "\n",
    "print(list(zip(*dic)))\n",
    "```\n",
    "正解: [('Noro', 'Kimura', 'Matsumoto'), ('Nakao', 'Miyashita', 'Tanaka'), ('Miyaoka', 'Shibata', 'Ivan')]"
   ]
  },
  {
   "cell_type": "markdown",
   "metadata": {},
   "source": [
    "## 解説"
   ]
  },
  {
   "cell_type": "markdown",
   "metadata": {},
   "source": []
  },
  {
   "cell_type": "markdown",
   "metadata": {},
   "source": [
    "## 問題３２"
   ]
  },
  {
   "cell_type": "markdown",
   "metadata": {},
   "source": [
    "次の中からmutableなものをまとめたものとして適切なものを選びなさい\n",
    "\n",
    "正解: リスト"
   ]
  },
  {
   "cell_type": "markdown",
   "metadata": {},
   "source": [
    "## 解説"
   ]
  },
  {
   "cell_type": "markdown",
   "metadata": {},
   "source": []
  },
  {
   "cell_type": "markdown",
   "metadata": {},
   "source": [
    "## 問題３３"
   ]
  },
  {
   "cell_type": "markdown",
   "metadata": {},
   "source": [
    "Pythonインタープリタにて以下のように入力した場合の出力結果として正しいものを選びなさい。\n",
    "```Python\n",
    ">>> from math import pi\n",
    ">>> [str(round(pi, i)) for i in range(0, 5)]\n",
    "```\n",
    "正解: ['3.0', '3.1', '3.14', '3.142', '3.1416']"
   ]
  },
  {
   "cell_type": "markdown",
   "metadata": {},
   "source": [
    "## 解説"
   ]
  },
  {
   "cell_type": "markdown",
   "metadata": {},
   "source": []
  },
  {
   "cell_type": "markdown",
   "metadata": {},
   "source": [
    "## 問題３４"
   ]
  },
  {
   "cell_type": "markdown",
   "metadata": {},
   "source": [
    "以下のプログラムをインタープリタにて実行した際の出力結果を選びなさい。\n",
    "```Python\n",
    "[(x, y) for x in [0,1,2] for y in [1,2,3] if x != y]\n",
    "```\n",
    "正解: [(0, 1), (0, 2), (0, 3), (1, 2), (1, 3), (2, 1), (2, 3)]"
   ]
  },
  {
   "cell_type": "markdown",
   "metadata": {},
   "source": [
    "## 解説"
   ]
  },
  {
   "cell_type": "markdown",
   "metadata": {},
   "source": []
  },
  {
   "cell_type": "markdown",
   "metadata": {},
   "source": [
    "## 問題３５"
   ]
  },
  {
   "cell_type": "markdown",
   "metadata": {},
   "source": [
    "仮想環境にインストールされたすべてのパッケージを表示するpipのオプションを\n",
    "選択肢の中から選びなさい。\n",
    "\n",
    "正解: pip list"
   ]
  },
  {
   "cell_type": "markdown",
   "metadata": {},
   "source": [
    "## 解説"
   ]
  },
  {
   "cell_type": "markdown",
   "metadata": {},
   "source": []
  },
  {
   "cell_type": "markdown",
   "metadata": {},
   "source": [
    "## 問題３６"
   ]
  },
  {
   "cell_type": "markdown",
   "metadata": {},
   "source": [
    "ビルドイン関数dir()についての適切なものを選びなさい。\n",
    "\n",
    "正解: モジュールが定義している名前を確認することができる。"
   ]
  },
  {
   "cell_type": "markdown",
   "metadata": {},
   "source": [
    "## 解説"
   ]
  },
  {
   "cell_type": "markdown",
   "metadata": {},
   "source": []
  },
  {
   "cell_type": "markdown",
   "metadata": {},
   "source": [
    "## 問題３７"
   ]
  },
  {
   "cell_type": "markdown",
   "metadata": {},
   "source": [
    "アクティベート状態から抜けるコマンドを選択肢から選びなさい。\n",
    "\n",
    "正解: deactivate"
   ]
  },
  {
   "cell_type": "markdown",
   "metadata": {},
   "source": [
    "## 解説"
   ]
  },
  {
   "cell_type": "markdown",
   "metadata": {},
   "source": []
  },
  {
   "cell_type": "markdown",
   "metadata": {},
   "source": [
    "## 問題３８"
   ]
  },
  {
   "cell_type": "markdown",
   "metadata": {},
   "source": [
    "シーケンスデータ型について説明した文章で正しいものを\n",
    "選択肢の中から選びなさい。\n",
    "\n",
    "正解: タプルは「immutable」であり、 アンパッキングしてアクセスすることができる。"
   ]
  },
  {
   "cell_type": "markdown",
   "metadata": {},
   "source": [
    "## 解説"
   ]
  },
  {
   "cell_type": "markdown",
   "metadata": {},
   "source": []
  },
  {
   "cell_type": "markdown",
   "metadata": {},
   "source": [
    "## 問題３９"
   ]
  },
  {
   "cell_type": "markdown",
   "metadata": {},
   "source": [
    "Python言語は何型の言語であるか、選択肢の中から選びなさい。\n",
    "\n",
    "正解: インタプリンタ型"
   ]
  },
  {
   "cell_type": "markdown",
   "metadata": {},
   "source": [
    "## 解説"
   ]
  },
  {
   "cell_type": "markdown",
   "metadata": {},
   "source": []
  },
  {
   "cell_type": "markdown",
   "metadata": {},
   "source": [
    "## 問題４０"
   ]
  },
  {
   "cell_type": "markdown",
   "metadata": {},
   "source": [
    "条件についての説明で誤っているものを選択肢から選びなさい。\n",
    "\n",
    "正解: 比較はブール演算のand及びorによって組み合わせることができ、また比較の結論はnotにより否定ができる。これらの優先順位は比較演算子よりも高い。"
   ]
  },
  {
   "cell_type": "markdown",
   "metadata": {},
   "source": [
    "## 解説"
   ]
  },
  {
   "cell_type": "markdown",
   "metadata": {},
   "source": []
  },
  {
   "cell_type": "code",
   "execution_count": null,
   "metadata": {},
   "outputs": [],
   "source": []
  },
  {
   "cell_type": "code",
   "execution_count": null,
   "metadata": {},
   "outputs": [],
   "source": []
  }
 ],
 "metadata": {
  "kernelspec": {
   "display_name": "Python 3",
   "language": "python",
   "name": "python3"
  },
  "language_info": {
   "codemirror_mode": {
    "name": "ipython",
    "version": 3
   },
   "file_extension": ".py",
   "mimetype": "text/x-python",
   "name": "python",
   "nbconvert_exporter": "python",
   "pygments_lexer": "ipython3",
   "version": "3.8.3"
  }
 },
 "nbformat": 4,
 "nbformat_minor": 4
}
