{
 "cells": [
  {
   "cell_type": "markdown",
   "metadata": {},
   "source": [
    "# 12月８日実施分①"
   ]
  },
  {
   "cell_type": "markdown",
   "metadata": {},
   "source": [
    "## 問題１"
   ]
  },
  {
   "cell_type": "markdown",
   "metadata": {},
   "source": [
    "以下のプログラムをインタープリタで実行した出力結果として正しいものを選びなさい\n",
    "```\n",
    "$ python test.py test\n",
    "```\n",
    "・test.py\n",
    "```Python\n",
    "import sys\n",
    "print(sys.argv)\n",
    "```\n",
    "正解: ['test.py', 'test']\n"
   ]
  },
  {
   "cell_type": "code",
   "execution_count": 26,
   "metadata": {},
   "outputs": [
    {
     "name": "stdout",
     "output_type": "stream",
     "text": [
      "['test.py', 'test']\n"
     ]
    }
   ],
   "source": [
    "! python test.py test"
   ]
  },
  {
   "cell_type": "markdown",
   "metadata": {},
   "source": [
    "## 解説"
   ]
  },
  {
   "cell_type": "markdown",
   "metadata": {},
   "source": [
    "[Pythonのsys.argvの使い方を現役エンジニアが解説【初心者向け】](https://techacademy.jp/magazine/20629)\n",
    "[Python3エンジニア認定基礎試験 対策（其の1）](https://www.webtomoblg.net/web/python3-exam-01/)  \n",
    "[Python3エンジニア認定基礎試験 対策（其の2）](https://www.webtomoblg.net/web/python3-exam-02/)  \n",
    "[Python3エンジニア認定基礎試験 対策（其の3）](https://www.webtomoblg.net/web/python3-exam-03/)  \n",
    "[Python3エンジニア認定基礎試験 対策（其の4）](https://www.webtomoblg.net/web/python3-exam-04/)  \n",
    "[Python3エンジニア認定基礎試験 対策（補講）](https://www.webtomoblg.net/web/python3-exam-ex/)  \n",
    "\n",
    "1. コマンドライン引数とは  \n",
    "    - コマンドライン引数とは、コンピュータのコマンド入力画面(コマンドライン)からプログラムを起動する際に指定するパラメータのこと  \n",
    "    - プログラムの実行時にオプションや処理対象のデータなどを与えるために利用される  \n",
    "1. sys.argvとは  \n",
    "    - sys.argvは、Pythonスクリプトに渡された、コマンドライン引数のリストです。リストの先頭、sys.argv[0]はスクリプトの名前  "
   ]
  },
  {
   "cell_type": "markdown",
   "metadata": {},
   "source": [
    "## 問題２"
   ]
  },
  {
   "cell_type": "markdown",
   "metadata": {},
   "source": [
    "以下のプログラムを実行した際の出力結果を選びなさい。\n",
    "```Python\n",
    "for i in range(20):\n",
    "    if i%3 == 0:\n",
    "        print(\"{}は3で割り切れます\".format(i), end=' ')\n",
    "    elif i>8 and i%2 == 0:\n",
    "        break\n",
    "    else:\n",
    "        continue\n",
    "```\n",
    "正解: 0は3で割り切れます 3は3で割り切れます 6は3で割り切れます 9は3で割り切れます"
   ]
  },
  {
   "cell_type": "code",
   "execution_count": 27,
   "metadata": {},
   "outputs": [
    {
     "name": "stdout",
     "output_type": "stream",
     "text": [
      "0は3で割り切れます 3は3で割り切れます 6は3で割り切れます 9は3で割り切れます "
     ]
    }
   ],
   "source": [
    "for i in range(20):\n",
    "    if i%3 == 0:\n",
    "        print(\"{}は3で割り切れます\".format(i), end=' ')\n",
    "    elif i>8 and i%2 == 0:\n",
    "        break\n",
    "    else:\n",
    "        continue"
   ]
  },
  {
   "cell_type": "markdown",
   "metadata": {},
   "source": [
    "## 解説"
   ]
  },
  {
   "cell_type": "markdown",
   "metadata": {},
   "source": [
    "[Pythonの文字列フォーマット（formatメソッドの使い方）](https://gammasoft.jp/blog/python-string-format/)\n",
    "[Python3エンジニア認定基礎試験 対策（其の1）](https://www.webtomoblg.net/web/python3-exam-01/)  \n",
    "[Python3エンジニア認定基礎試験 対策（其の2）](https://www.webtomoblg.net/web/python3-exam-02/)  \n",
    "[Python3エンジニア認定基礎試験 対策（其の3）](https://www.webtomoblg.net/web/python3-exam-03/)  \n",
    "[Python3エンジニア認定基礎試験 対策（其の4）](https://www.webtomoblg.net/web/python3-exam-04/)  \n",
    "[Python3エンジニア認定基礎試験 対策（補講）](https://www.webtomoblg.net/web/python3-exam-ex/)  \n",
    "\n",
    "1. format()メソッドの使い方  \n",
    "以下のように文字列の中に、波かっこ{}で囲まれた「置換フィールド」を埋め込み、format( )メソッドの引数で{}の部分を置換します。\n",
    "```Python\n",
    ">>> line = \"{0}さんの身長は{1}cm、体重は{2}kgです。\".format(\"山田\", 190, 105.3)\n",
    ">>> print(line)\n",
    "```\n",
    "山田さんの身長は190cm、体重は105.3kgです。"
   ]
  },
  {
   "cell_type": "markdown",
   "metadata": {},
   "source": [
    "## 問題３"
   ]
  },
  {
   "cell_type": "markdown",
   "metadata": {},
   "source": [
    "シーケンスデータ型について説明した文章で正しいものを\n",
    "選択肢の中から選びなさい。\n",
    "\n",
    "正解: タプルは「immutable」であり、 アンパッキングしてアクセスすることができる。"
   ]
  },
  {
   "cell_type": "markdown",
   "metadata": {},
   "source": [
    "## 解説"
   ]
  },
  {
   "cell_type": "markdown",
   "metadata": {},
   "source": [
    "[シーケンス型とは](https://www.python.ambitious-engineer.com/archives/126)\n",
    "1. シーケンス型  \n",
    "　シーケンスとは、複数の値を順番に並べたものをひとかたまりとして格納するための型です。例えば、第1回から第10回までのテストの点数データがあり、順番に出力する場合を考えてみましょう。以下のように10個の配列を用意することは少々面倒臭そうですね。また、数を追加するとさらに大変です。  \n",
    "\n",
    "```Python\n",
    "# テストの点数\n",
    "num_list = [97, 78, 88, 76, 100, 85, 72, 85, 92, 75]\n",
    " \n",
    "# 出力する\n",
    "for num in num_list:\n",
    "    print(num)\n",
    "```"
   ]
  },
  {
   "cell_type": "code",
   "execution_count": 28,
   "metadata": {},
   "outputs": [
    {
     "name": "stdout",
     "output_type": "stream",
     "text": [
      "97\n",
      "78\n",
      "88\n",
      "76\n",
      "100\n",
      "85\n",
      "72\n",
      "85\n",
      "92\n",
      "75\n"
     ]
    }
   ],
   "source": [
    "# テストの点数\n",
    "num_list = [97, 78, 88, 76, 100, 85, 72, 85, 92, 75]\n",
    " \n",
    "# 出力する\n",
    "for num in num_list:\n",
    "    print(num)"
   ]
  },
  {
   "cell_type": "markdown",
   "metadata": {},
   "source": [
    "## 問題４"
   ]
  },
  {
   "cell_type": "markdown",
   "metadata": {},
   "source": [
    "ログを取得するためのモジュールを選択肢の中から選びなさい。\n",
    "\n",
    "正解: logging"
   ]
  },
  {
   "cell_type": "markdown",
   "metadata": {},
   "source": [
    "## 解説"
   ]
  },
  {
   "cell_type": "markdown",
   "metadata": {},
   "source": [
    "[【Python入門】loggingモジュールで処理の記録を残してみよう！](https://www.sejuku.net/blog/23149)\n",
    "1. ログとは  \n",
    "　ログを一言で表すと、プログラムの実行中に起こった出来事の記録\n",
    "1. ロギングとは  \n",
    "　ログを取ること(出力すること)を、ロギング（logging）と言います。  \n",
    ">- ログ出力なのか、ユーザ(プログラム実行者)に伝えたい情報としての出力なのかを切り分けられる  \n",
    ">- ログの種類をErrorやDebugのように、レベル分けが出来る  \n",
    ">- フォーマットを指定すれば、簡単に統一化された出力の仕方ができる  "
   ]
  },
  {
   "cell_type": "markdown",
   "metadata": {},
   "source": [
    "## 問題５"
   ]
  },
  {
   "cell_type": "markdown",
   "metadata": {},
   "source": [
    "問題文のプログラムを実行した場合の、出力結果を選びなさい。\n",
    "```Python\n",
    "print(\"出力結果:\")\n",
    "try:\n",
    "  raise Exception(\"開始前\",\"Exception発生\")\n",
    "  print(\"開始\")\n",
    "except IOError as msg:\n",
    "  print(\"IOError発生:\",msg.args[0])\n",
    "except Exception as msg:\n",
    "  print(\"予期せぬ問題発生:\",msg.args[1])\n",
    "else:\n",
    "  print(\"Else表示\")\n",
    "```\n",
    "正解: 出力結果:予期せぬ問題発生: Exception発生"
   ]
  },
  {
   "cell_type": "code",
   "execution_count": 29,
   "metadata": {},
   "outputs": [
    {
     "name": "stdout",
     "output_type": "stream",
     "text": [
      "出力結果:\n",
      "予期せぬ問題発生: Exception発生\n"
     ]
    }
   ],
   "source": [
    "print(\"出力結果:\")\n",
    "try:\n",
    "  raise Exception(\"開始前\",\"Exception発生\")\n",
    "  print(\"開始\")\n",
    "except IOError as msg:\n",
    "  print(\"IOError発生:\",msg.args[0])\n",
    "except Exception as msg:\n",
    "  print(\"予期せぬ問題発生:\",msg.args[1])\n",
    "else:\n",
    "  print(\"Else表示\")"
   ]
  },
  {
   "cell_type": "markdown",
   "metadata": {},
   "source": [
    "## 解説"
   ]
  },
  {
   "cell_type": "markdown",
   "metadata": {},
   "source": [
    "[Pythonで例外を発生させる：raise](https://uxmilk.jp/39845)\n",
    "[Python3エンジニア認定基礎試験 対策（其の1）](https://www.webtomoblg.net/web/python3-exam-01/)  \n",
    "[Python3エンジニア認定基礎試験 対策（其の2）](https://www.webtomoblg.net/web/python3-exam-02/)  \n",
    "[Python3エンジニア認定基礎試験 対策（其の3）](https://www.webtomoblg.net/web/python3-exam-03/)  \n",
    "[Python3エンジニア認定基礎試験 対策（其の4）](https://www.webtomoblg.net/web/python3-exam-04/)  \n",
    "[Python3エンジニア認定基礎試験 対策（補講）](https://www.webtomoblg.net/web/python3-exam-ex/)  \n",
    "\n",
    "1. raise の使い方  \n",
    "Python に組み込まれている例外（エラー）に関しては、自動的に例外が発生しますが、自作した関数などで例外を発生させたい場合には raise を使います。raise の記述方法は以下の通りです。\n",
    "```Python\n",
    "raise 例外クラス(メッセージ):\n",
    "```\n",
    "例外クラスの引数には例外が発生した原因などを文字列で指定します。この引数は省略することもできます。\n",
    "1. raise の使い方（例）  \n",
    "以下は、raise を使用して例外を発生させた例です。\n",
    "```Python\n",
    "try:\n",
    "    raise ValueError(\"error!\")\n",
    "except ValueError as e:\n",
    "    print(e)\n",
    "```\n",
    "実行結果：error!"
   ]
  },
  {
   "cell_type": "markdown",
   "metadata": {},
   "source": [
    "## 問題６"
   ]
  },
  {
   "cell_type": "markdown",
   "metadata": {},
   "source": [
    "以下のプログラムを実行した際の出力結果を選びなさい。\n",
    "```Python\n",
    "d = 'dive\\ninto\\ncode\\t'\n",
    "print(len(d))\n",
    "```\n",
    "正解: 15"
   ]
  },
  {
   "cell_type": "code",
   "execution_count": 30,
   "metadata": {},
   "outputs": [
    {
     "name": "stdout",
     "output_type": "stream",
     "text": [
      "15\n"
     ]
    }
   ],
   "source": [
    "d = 'dive\\ninto\\ncode\\t'\n",
    "print(len(d))"
   ]
  },
  {
   "cell_type": "markdown",
   "metadata": {},
   "source": [
    "## 解説"
   ]
  },
  {
   "cell_type": "markdown",
   "metadata": {},
   "source": [
    "[Pythonのlen関数で様々な型のオブジェクトのサイズを取得](https://note.nkmk.me/python-len-usage/)\n",
    "[Python3エンジニア認定基礎試験 対策（其の1）](https://www.webtomoblg.net/web/python3-exam-01/)  \n",
    "[Python3エンジニア認定基礎試験 対策（其の2）](https://www.webtomoblg.net/web/python3-exam-02/)  \n",
    "[Python3エンジニア認定基礎試験 対策（其の3）](https://www.webtomoblg.net/web/python3-exam-03/)  \n",
    "[Python3エンジニア認定基礎試験 対策（其の4）](https://www.webtomoblg.net/web/python3-exam-04/)  \n",
    "[Python3エンジニア認定基礎試験 対策（補講）](https://www.webtomoblg.net/web/python3-exam-ex/)  \n",
    "\n",
    "1. len関数とは  \n",
    "Pythonの組み込み関数len()を使うと、リストや文字列など様々な型のオブジェクトのサイズ（要素数や文字数）を取得できる。"
   ]
  },
  {
   "cell_type": "markdown",
   "metadata": {},
   "source": [
    "## 問題７"
   ]
  },
  {
   "cell_type": "markdown",
   "metadata": {},
   "source": [
    "問題文のfor文を実行した場合の、出力結果を選びなさい。\n",
    "```Python\n",
    "titles={'title1':'hoge1','title2':'hoge2','title3':'hoge3'}\n",
    " \n",
    "print(\"出力結果:\")\n",
    "for k,v in titles.items():\n",
    "  print(v)\n",
    "```\n",
    "正解: ※順不同 出力結果: hoge1 hoge2 hoge3"
   ]
  },
  {
   "cell_type": "code",
   "execution_count": 31,
   "metadata": {},
   "outputs": [
    {
     "name": "stdout",
     "output_type": "stream",
     "text": [
      "出力結果:\n",
      "hoge1\n",
      "hoge2\n",
      "hoge3\n"
     ]
    }
   ],
   "source": [
    "titles={'title1':'hoge1','title2':'hoge2','title3':'hoge3'}\n",
    "\n",
    "print(\"出力結果:\")\n",
    "for k,v in titles.items():\n",
    "  print(v)"
   ]
  },
  {
   "cell_type": "markdown",
   "metadata": {},
   "source": [
    "## 解説"
   ]
  },
  {
   "cell_type": "markdown",
   "metadata": {},
   "source": [
    "[Pythonの辞書（dict）のforループ処理（keys, values, items）](https://note.nkmk.me/python-dict-keys-values-items/)\n",
    "[Python3エンジニア認定基礎試験 対策（其の1）](https://www.webtomoblg.net/web/python3-exam-01/)  \n",
    "[Python3エンジニア認定基礎試験 対策（其の2）](https://www.webtomoblg.net/web/python3-exam-02/)  \n",
    "[Python3エンジニア認定基礎試験 対策（其の3）](https://www.webtomoblg.net/web/python3-exam-03/)  \n",
    "[Python3エンジニア認定基礎試験 対策（其の4）](https://www.webtomoblg.net/web/python3-exam-04/)  \n",
    "[Python3エンジニア認定基礎試験 対策（補講）](https://www.webtomoblg.net/web/python3-exam-ex/)  \n",
    "\n",
    "1. values()  \n",
    "各要素の値に対してforループ処理   "
   ]
  },
  {
   "cell_type": "markdown",
   "metadata": {},
   "source": [
    "## 問題８"
   ]
  },
  {
   "cell_type": "markdown",
   "metadata": {},
   "source": [
    "ファイルの読み書きで使用する「open」関数のモードについて、存在しないものを選択肢の中から選びなさい。\n",
    "\n",
    "正解: r-"
   ]
  },
  {
   "cell_type": "markdown",
   "metadata": {},
   "source": [
    "## 解説"
   ]
  },
  {
   "cell_type": "markdown",
   "metadata": {},
   "source": [
    "[Pythonでファイルの読み込み、書き込み（作成・追記）](https://note.nkmk.me/python-file-io-open-with/)\n",
    "1. 「open」関数のモード  \n",
    "\n",
    "|modeの種類|内容|\n",
    "|----|----|\n",
    "|mode='r'|読み込み用でファイルオープン|\n",
    "|mode='w'|書き込み用でファイルオープン|\n",
    "|mode='x'|新規作成専用でファイルオープン|\n",
    "|mode='a'|末尾に追記|\n",
    "|mode='r+'|先頭、途中に挿入|\n",
    "|mode='rb'|バイナリファイルの読み込み|\n",
    "|moode='ab'|バイナリファイルの末尾に追記|"
   ]
  },
  {
   "cell_type": "markdown",
   "metadata": {},
   "source": [
    "## 問題９"
   ]
  },
  {
   "cell_type": "markdown",
   "metadata": {},
   "source": [
    "pythonインタープリタにて以下のように入力した場合の出力結果として正しいものを選びなさい。\n",
    "```Python\n",
    "25//7\n",
    "```\n",
    "正解: 3"
   ]
  },
  {
   "cell_type": "code",
   "execution_count": 32,
   "metadata": {},
   "outputs": [
    {
     "data": {
      "text/plain": [
       "3"
      ]
     },
     "execution_count": 32,
     "metadata": {},
     "output_type": "execute_result"
    }
   ],
   "source": [
    "25//7"
   ]
  },
  {
   "cell_type": "markdown",
   "metadata": {},
   "source": [
    "## 解説"
   ]
  },
  {
   "cell_type": "markdown",
   "metadata": {},
   "source": [
    "[とほほのPython入門 - 演算子](http://www.tohoho-web.com/python/operators.html)\n",
    "\n",
    "a // b # 切り捨て除算"
   ]
  },
  {
   "cell_type": "markdown",
   "metadata": {},
   "source": [
    "## 問題１０"
   ]
  },
  {
   "cell_type": "markdown",
   "metadata": {},
   "source": [
    "pythonインタープリタにて以下のように入力した場合の出力結果として正しいものを選びなさい。\n",
    "```Python\n",
    ">>>3*3.72/1.5\n",
    "```\n",
    "正解: 7.44"
   ]
  },
  {
   "cell_type": "markdown",
   "metadata": {},
   "source": [
    "## 解説"
   ]
  },
  {
   "cell_type": "markdown",
   "metadata": {},
   "source": [
    "計算を頑張ろう(^ω^)b"
   ]
  },
  {
   "cell_type": "markdown",
   "metadata": {},
   "source": [
    "## 問題１１"
   ]
  },
  {
   "cell_type": "markdown",
   "metadata": {},
   "source": [
    "以下のプログラムを実行した際の出力結果を選びなさい。\n",
    "```Python\n",
    "a = 2\n",
    "b = 5\n",
    "\n",
    "c = 3.0 + b, 5 * a\n",
    "\n",
    "print(c)\n",
    "```\n",
    "正解: (8.0, 10)"
   ]
  },
  {
   "cell_type": "code",
   "execution_count": 33,
   "metadata": {},
   "outputs": [
    {
     "name": "stdout",
     "output_type": "stream",
     "text": [
      "(8.0, 10)\n"
     ]
    }
   ],
   "source": [
    "a = 2\n",
    "b = 5\n",
    "\n",
    "c = 3.0 + b, 5 * a\n",
    "\n",
    "print(c)"
   ]
  },
  {
   "cell_type": "markdown",
   "metadata": {},
   "source": [
    "## 解説"
   ]
  },
  {
   "cell_type": "markdown",
   "metadata": {},
   "source": [
    "[Pythonで複数の変数に複数の値または同じ値を代入](https://note.nkmk.me/python-multi-variables-values/)\n",
    "[Python3エンジニア認定基礎試験 対策（其の1）](https://www.webtomoblg.net/web/python3-exam-01/)  \n",
    "[Python3エンジニア認定基礎試験 対策（其の2）](https://www.webtomoblg.net/web/python3-exam-02/)  \n",
    "[Python3エンジニア認定基礎試験 対策（其の3）](https://www.webtomoblg.net/web/python3-exam-03/)  \n",
    "[Python3エンジニア認定基礎試験 対策（其の4）](https://www.webtomoblg.net/web/python3-exam-04/)  \n",
    "[Python3エンジニア認定基礎試験 対策（補講）](https://www.webtomoblg.net/web/python3-exam-ex/)  \n",
    "\n",
    "1. 複数の変数に複数の値を代入  \n",
    "\n",
    "```Python\n",
    "a, b = 100, 200\n",
    "\n",
    "print(a)\n",
    "print(b)\n",
    "# 100\n",
    "# 200\n",
    "```\n",
    "1. 左辺の変数が一つの場合  \n",
    "　タプルとして代入される  \n",
    " \n",
    "```Python\n",
    "a = 100, 200\n",
    "\n",
    "print(a)\n",
    "print(type(a))\n",
    "# (100, 200)\n",
    "# <class 'tuple'>\n",
    "```"
   ]
  },
  {
   "cell_type": "markdown",
   "metadata": {},
   "source": [
    "## 問題１２"
   ]
  },
  {
   "cell_type": "markdown",
   "metadata": {},
   "source": [
    "問題文のプログラムを実行した場合の、出力結果を選びなさい。\n",
    "```Python\n",
    "class Sample:\n",
    "\n",
    "  c_list = []\n",
    "\n",
    "  def add_c_list(self,data):\n",
    "    self.c_list.append(data)\n",
    "\n",
    "print(\"出力結果:\", end=\" \")\n",
    "sample1 = Sample()\n",
    "sample1.add_c_list(\"データ1\")\n",
    "\n",
    "sample2 = Sample()\n",
    "sample2.add_c_list(\"データ2\")\n",
    "\n",
    "for item_data in sample1.c_list:\n",
    "  print(item_data, end=\" \")\n",
    "```\n",
    "正解: 出力結果: データ1 データ2"
   ]
  },
  {
   "cell_type": "code",
   "execution_count": 34,
   "metadata": {},
   "outputs": [
    {
     "name": "stdout",
     "output_type": "stream",
     "text": [
      "出力結果: データ1 データ2 "
     ]
    }
   ],
   "source": [
    "class Sample:\n",
    "\n",
    "  c_list = []\n",
    "\n",
    "  def add_c_list(self,data):\n",
    "    self.c_list.append(data)\n",
    "\n",
    "print(\"出力結果:\", end=\" \")\n",
    "sample1 = Sample()\n",
    "sample1.add_c_list(\"データ1\")\n",
    "\n",
    "sample2 = Sample()\n",
    "sample2.add_c_list(\"データ2\")\n",
    "\n",
    "for item_data in sample1.c_list:\n",
    "  print(item_data, end=\" \")"
   ]
  },
  {
   "cell_type": "markdown",
   "metadata": {},
   "source": [
    "## 解説"
   ]
  },
  {
   "cell_type": "markdown",
   "metadata": {},
   "source": [
    "[Pythonのselfとは？使い方や注意点について解説](https://www.sejuku.net/blog/64106)\n",
    "[Python3エンジニア認定基礎試験 対策（其の1）](https://www.webtomoblg.net/web/python3-exam-01/)  \n",
    "[Python3エンジニア認定基礎試験 対策（其の2）](https://www.webtomoblg.net/web/python3-exam-02/)  \n",
    "[Python3エンジニア認定基礎試験 対策（其の3）](https://www.webtomoblg.net/web/python3-exam-03/)  \n",
    "[Python3エンジニア認定基礎試験 対策（其の4）](https://www.webtomoblg.net/web/python3-exam-04/)  \n",
    "[Python3エンジニア認定基礎試験 対策（補講）](https://www.webtomoblg.net/web/python3-exam-ex/)  \n",
    "\n",
    "1. Pythonのselfとは？  \n",
    "・ インスタンス自身を示すもの  \n",
    "    1. インスタンス変数として参照する  \n",
    "    ・ コンストラクタで使用する例  \n",
    "        \n",
    "        ```Python\n",
    "        class className():\n",
    "            def __init__(self, strA, strB):\n",
    "                self.strA = strA\n",
    "                self.strB = strB\n",
    "         \n",
    "        test = className(\"Hello\", \"World!\")\n",
    "        print(test.strA)\n",
    "        print(test.strB)\n",
    "        ```"
   ]
  },
  {
   "cell_type": "code",
   "execution_count": 35,
   "metadata": {},
   "outputs": [
    {
     "name": "stdout",
     "output_type": "stream",
     "text": [
      "Hello\n",
      "World!\n"
     ]
    }
   ],
   "source": [
    " class className():\n",
    "     def __init__(self, strA, strB):\n",
    "         self.strA = strA\n",
    "         self.strB = strB\n",
    "\n",
    " test = className(\"Hello\", \"World!\")\n",
    " print(test.strA)\n",
    " print(test.strB)"
   ]
  },
  {
   "cell_type": "markdown",
   "metadata": {},
   "source": [
    "## 問題１３"
   ]
  },
  {
   "cell_type": "markdown",
   "metadata": {},
   "source": [
    "Pythonインタープリタにて以下のように入力した場合の出力結果として正しいものを選びなさい。\n",
    "```Python\n",
    ">>>dic = 'i will be an engineer'.replace('engineer', 'i')\n",
    ">>>dic\n",
    "```\n",
    "正解: 'i will be an i'"
   ]
  },
  {
   "cell_type": "code",
   "execution_count": 36,
   "metadata": {},
   "outputs": [
    {
     "data": {
      "text/plain": [
       "'i will be an i'"
      ]
     },
     "execution_count": 36,
     "metadata": {},
     "output_type": "execute_result"
    }
   ],
   "source": [
    "dic = 'i will be an engineer'.replace('engineer', 'i')\n",
    "dic"
   ]
  },
  {
   "cell_type": "markdown",
   "metadata": {},
   "source": [
    "## 解説"
   ]
  },
  {
   "cell_type": "markdown",
   "metadata": {},
   "source": [
    "[Pythonで文字列を置換（replace, translate, re.sub, re.subn）](https://note.nkmk.me/python-str-replace-translate-re-sub/)\n",
    "1. replace()とは  \n",
    "文字列を指定して置換する場合は文字列（str型）のreplace()メソッドを使う。  \n",
    "※ 第一引数に置換元文字列、第二引数に置換先文字列を指定する。\n",
    "\n",
    "```Python\n",
    "s = 'one two one two one'\n",
    "\n",
    "print(s.replace(' ', '-'))\n",
    "# one-two-one-two-one\n",
    "```  \n"
   ]
  },
  {
   "cell_type": "code",
   "execution_count": 37,
   "metadata": {},
   "outputs": [
    {
     "name": "stdout",
     "output_type": "stream",
     "text": [
      "one-two-one-two-one\n"
     ]
    }
   ],
   "source": [
    "s = 'one two one two one'\n",
    "\n",
    "print(s.replace(' ', '-'))\n",
    "# one-two-one-two-one"
   ]
  },
  {
   "cell_type": "markdown",
   "metadata": {},
   "source": [
    "## 問題１４"
   ]
  },
  {
   "cell_type": "markdown",
   "metadata": {},
   "source": [
    "仮想環境を生成、管理するのにつかわれているスクリプトを選択肢の中から選びなさい。\n",
    "\n",
    "正解: pyvenv"
   ]
  },
  {
   "cell_type": "markdown",
   "metadata": {},
   "source": [
    "## 解説"
   ]
  },
  {
   "cell_type": "markdown",
   "metadata": {},
   "source": [
    "[venv --- 仮想環境の作成](https://docs.python.org/ja/3/library/venv.html)  \n",
    "[venv: Python 仮想環境管理](https://qiita.com/fiftystorm36/items/b2fd47cf32c7694adc2e)  \n",
    "　頑張って覚えよう(=ω=)"
   ]
  },
  {
   "cell_type": "markdown",
   "metadata": {},
   "source": [
    "## 問題１５"
   ]
  },
  {
   "cell_type": "markdown",
   "metadata": {},
   "source": [
    "以下のプログラムを実行した際の出力結果として正しいものを選択しなさい。\n",
    "```Python\n",
    "dive_into_code = [(1, 'Noro'), (2, 'Nakao'), (3, 'Miyaoka'), (4, 'Kimura')]\n",
    "dic = dive_into_code\n",
    "dic.sort(key=lambda dic: dic[1])\n",
    "\n",
    "print(dic)\n",
    "```\n",
    "正解: [(4, 'Kimura'), (3, 'Miyaoka'), (2, 'Nakao'), (1, 'Noro')]"
   ]
  },
  {
   "cell_type": "code",
   "execution_count": 38,
   "metadata": {},
   "outputs": [
    {
     "name": "stdout",
     "output_type": "stream",
     "text": [
      "[(4, 'Kimura'), (3, 'Miyaoka'), (2, 'Nakao'), (1, 'Noro')]\n"
     ]
    }
   ],
   "source": [
    "dive_into_code = [(1, 'Noro'), (2, 'Nakao'), (3, 'Miyaoka'), (4, 'Kimura')]\n",
    "dic = dive_into_code\n",
    "dic.sort(key=lambda dic: dic[1])\n",
    "\n",
    "print(dic)"
   ]
  },
  {
   "cell_type": "markdown",
   "metadata": {},
   "source": [
    "## 解説"
   ]
  },
  {
   "cell_type": "markdown",
   "metadata": {},
   "source": [
    "[Pythonでリストをソートするsortとsortedの違い](https://note.nkmk.me/python-list-sort-sorted/)  \n",
    "[pythonのsorted関数で使われるlambdaとは何なのか](https://qiita.com/n10432/items/e0315979286ea9121d57)\n",
    "[Python3エンジニア認定基礎試験 対策（其の1）](https://www.webtomoblg.net/web/python3-exam-01/)  \n",
    "[Python3エンジニア認定基礎試験 対策（其の2）](https://www.webtomoblg.net/web/python3-exam-02/)  \n",
    "[Python3エンジニア認定基礎試験 対策（其の3）](https://www.webtomoblg.net/web/python3-exam-03/)  \n",
    "[Python3エンジニア認定基礎試験 対策（其の4）](https://www.webtomoblg.net/web/python3-exam-04/)  \n",
    "[Python3エンジニア認定基礎試験 対策（補講）](https://www.webtomoblg.net/web/python3-exam-ex/)  \n",
    "\n",
    "1. sort()とsorted()の違い  \n",
    "・リスト型のメソッド sort(): 元のリストをソート  \n",
    "・組み込み関数 sorted(): ソートした新たなリストを生成  "
   ]
  },
  {
   "cell_type": "markdown",
   "metadata": {},
   "source": [
    "## 問題１６"
   ]
  },
  {
   "cell_type": "markdown",
   "metadata": {},
   "source": [
    "Pythonインタープリタにて以下のように入力した場合の出力結果として正しいものを選びなさい。\n",
    "```Python\n",
    ">>>import reprlib\n",
    ">>>reprlib.repr(set('diveintocode'))\n",
    "```\n",
    "正解: \"{'c', 'd', 'e', 'i', 'n', 'o', ...}\""
   ]
  },
  {
   "cell_type": "code",
   "execution_count": 39,
   "metadata": {},
   "outputs": [
    {
     "data": {
      "text/plain": [
       "\"{'c', 'd', 'e', 'i', 'n', 'o', ...}\""
      ]
     },
     "execution_count": 39,
     "metadata": {},
     "output_type": "execute_result"
    }
   ],
   "source": [
    "import reprlib\n",
    "reprlib.repr(set('diveintocode'))"
   ]
  },
  {
   "cell_type": "markdown",
   "metadata": {},
   "source": [
    "## 解説"
   ]
  },
  {
   "cell_type": "markdown",
   "metadata": {},
   "source": [
    "[Python勉強会：ひよこコース　第5回(補足)　模擬試験の解説](https://ameblo.jp/jobcrown-it/entry-12581202851.html)  \n",
    "[reprlib --- もう一つの repr() の実装](https://docs.python.org/ja/3/library/reprlib.html)  \n",
    ">reprlib.repr(obj)\n",
    "これは aRepr の repr() メソッドです。同じ名前の組み込み関数が返す文字列と似ていますが、最大サイズに制限のある文字列を返します。  \n",
    "\n",
    ">Repr.maxlevel\n",
    "再帰的な表現を作る場合の深さ制限。デフォルトは 6 です。"
   ]
  },
  {
   "cell_type": "markdown",
   "metadata": {},
   "source": [
    "## 問題１７"
   ]
  },
  {
   "cell_type": "markdown",
   "metadata": {},
   "source": [
    "条件についての説明で誤っているものを選択肢から選びなさい。\n",
    "\n",
    "正解: 比較はブール演算のand及びorによって組み合わせることができ、また比較の結論はnotにより否定ができる。これらの優先順位は比較演算子よりも高い。"
   ]
  },
  {
   "cell_type": "markdown",
   "metadata": {},
   "source": [
    "## 解説"
   ]
  },
  {
   "cell_type": "markdown",
   "metadata": {},
   "source": [
    "「これらの優先順位は比較演算子よりも高い。」ここが違う。優先順位は、比較演算子よりもand / or / not が低い。"
   ]
  },
  {
   "cell_type": "markdown",
   "metadata": {},
   "source": [
    "## 問題１８"
   ]
  },
  {
   "cell_type": "markdown",
   "metadata": {},
   "source": [
    "次のprint文のうち、「こんにちは！山田さん」と出力される記述はどれかを選びなさい。\n",
    "\n",
    "正解:\n",
    "```Python\n",
    "print('こんにちは!{}さん'.format('山田'))\n",
    "```"
   ]
  },
  {
   "cell_type": "code",
   "execution_count": 40,
   "metadata": {},
   "outputs": [
    {
     "name": "stdout",
     "output_type": "stream",
     "text": [
      "こんにちは!山田さん\n"
     ]
    }
   ],
   "source": [
    "print('こんにちは!{}さん'.format('山田'))"
   ]
  },
  {
   "cell_type": "markdown",
   "metadata": {},
   "source": [
    "## 解説"
   ]
  },
  {
   "cell_type": "markdown",
   "metadata": {},
   "source": [
    "このくらいはわかるよね？(^ω^)"
   ]
  },
  {
   "cell_type": "markdown",
   "metadata": {},
   "source": [
    "## 問題１９"
   ]
  },
  {
   "cell_type": "markdown",
   "metadata": {},
   "source": [
    "sys.pathの初期化で参照しないものを、\n",
    "選択肢の中から選びなさい。\n",
    "\n",
    "正解: スクリプトが存在するフォルダのシンボリックリンク先"
   ]
  },
  {
   "cell_type": "markdown",
   "metadata": {},
   "source": [
    "## 解説"
   ]
  },
  {
   "cell_type": "markdown",
   "metadata": {},
   "source": [
    "[sys --- システムパラメータと関数](https://docs.python.org/ja/3/library/sys.html?highlight=sys%20path)  \n",
    "モジュールを検索するパスを示す文字列のリスト。 PYTHONPATH 環境変数と、インストール時に指定したデフォルトパスで初期化されます。"
   ]
  },
  {
   "cell_type": "markdown",
   "metadata": {},
   "source": [
    "## 問題２０"
   ]
  },
  {
   "cell_type": "markdown",
   "metadata": {},
   "source": [
    "Pythonの変数に関する記述として正しいものを選択肢から選びなさい。\n",
    "\n",
    "正解: 関数内で変数に代入を行うと、その値がローカル変数のシンボル表に記録される"
   ]
  },
  {
   "cell_type": "markdown",
   "metadata": {},
   "source": [
    "## 解説"
   ]
  },
  {
   "cell_type": "markdown",
   "metadata": {},
   "source": []
  },
  {
   "cell_type": "markdown",
   "metadata": {},
   "source": [
    "## 問題２１"
   ]
  },
  {
   "cell_type": "markdown",
   "metadata": {},
   "source": [
    "ビルドイン関数dir()についての適切なものを選びなさい。\n",
    "\n",
    "正解: モジュールが定義している名前を確認することができる。"
   ]
  },
  {
   "cell_type": "markdown",
   "metadata": {},
   "source": [
    "## 解説"
   ]
  },
  {
   "cell_type": "markdown",
   "metadata": {},
   "source": [
    "[Python3エンジニア認定基礎試験 対策（其の1）](https://www.webtomoblg.net/web/python3-exam-01/#toc4)  \n",
    "1. ビルドイン関数 dir()とは  \n",
    "dir()関数は、モジュールが定義している名前を確認することができる。  \n",
    "引数に指定したオブジェクトの属性やメソッドなどの名前のリストを返してくれる。  \n",
    "ちなみにビルドイン関数とは、組み込み関数のこと。  "
   ]
  },
  {
   "cell_type": "markdown",
   "metadata": {},
   "source": [
    "## 問題２２"
   ]
  },
  {
   "cell_type": "markdown",
   "metadata": {},
   "source": [
    "Pythonインタープリタにて以下のように入力した場合の出力結果として正しいものを選びなさい。\n",
    "```Python\n",
    ">>> import math\n",
    ">>> math.cos(math.pi / 5)\n",
    "```\n",
    "正解: 0.8090169944"
   ]
  },
  {
   "cell_type": "markdown",
   "metadata": {},
   "source": [
    "## 解説"
   ]
  },
  {
   "cell_type": "code",
   "execution_count": 41,
   "metadata": {},
   "outputs": [
    {
     "data": {
      "text/plain": [
       "0.8090169943749475"
      ]
     },
     "execution_count": 41,
     "metadata": {},
     "output_type": "execute_result"
    }
   ],
   "source": [
    "import math\n",
    "math.cos(math.pi / 5)"
   ]
  },
  {
   "cell_type": "markdown",
   "metadata": {},
   "source": [
    "[Pythonでπ（円周率）を使う方法を現役エンジニアが解説【初心者向け】](https://techacademy.jp/magazine/20606)\n",
    "1. math.pi\n",
    "・math.pyは円周率を扱うもの\n",
    "1. math.cos()\n",
    "・math.cos()は三角関数を扱うもの"
   ]
  },
  {
   "cell_type": "markdown",
   "metadata": {},
   "source": [
    "## 問題２３"
   ]
  },
  {
   "cell_type": "markdown",
   "metadata": {},
   "source": [
    "Python言語は何型の言語であるか、選択肢の中から選びなさい。\n",
    "\n",
    "正解: インタプリンタ型"
   ]
  },
  {
   "cell_type": "markdown",
   "metadata": {},
   "source": [
    "## 解説"
   ]
  },
  {
   "cell_type": "markdown",
   "metadata": {},
   "source": [
    "[プログラミング言語のPythonとは？その特徴と活用方法](https://hnavi.co.jp/knowledge/blog/python/)  \n",
    "[プログラミング言語の種類について](https://network.t-denso.com/tidbits/article0007/)  \n",
    "1. プログラミング言語の型  \n",
    "・Pythonはインタプリンタ型言語  \n",
    "・入力すればすぐに実行結果を確認できる  "
   ]
  },
  {
   "cell_type": "markdown",
   "metadata": {},
   "source": [
    "## 問題２４"
   ]
  },
  {
   "cell_type": "markdown",
   "metadata": {},
   "source": [
    "Pythonの対話型インタープリンタの中で存在するものを選択肢の中から選びなさい。\n",
    "\n",
    "正解: IPython"
   ]
  },
  {
   "cell_type": "markdown",
   "metadata": {},
   "source": [
    "## 解説"
   ]
  },
  {
   "cell_type": "markdown",
   "metadata": {},
   "source": [
    "[IPythonの使い方](https://qiita.com/5t111111/items/7852e13ace6de288042f)  \n",
    "1. IPythonとは  \n",
    "・Pythonの対話型インタプリタを強力に(本当に強力に)拡張したもの"
   ]
  },
  {
   "cell_type": "markdown",
   "metadata": {},
   "source": [
    "## 問題２５"
   ]
  },
  {
   "cell_type": "markdown",
   "metadata": {},
   "source": [
    "アクティベート状態から抜けるコマンドを選択肢から選びなさい。\n",
    "\n",
    "正解: deactivate"
   ]
  },
  {
   "cell_type": "markdown",
   "metadata": {},
   "source": [
    "## 解説"
   ]
  },
  {
   "cell_type": "markdown",
   "metadata": {},
   "source": [
    "[【簡単！】Pythonで仮想環境を作成する方法](https://prokatsu.com/python_env/)  \n",
    "1. アクティベート状態から抜けるコマンド  \n",
    "・deactivate"
   ]
  },
  {
   "cell_type": "markdown",
   "metadata": {},
   "source": [
    "## 問題２６"
   ]
  },
  {
   "cell_type": "markdown",
   "metadata": {},
   "source": [
    "Pythonにおけるタブ補完について正しいものを選択肢から選びなさい。\n",
    "\n",
    "正解: 変数とモジュール名の補完はインタープリタの起動時に自動で有効になっており、[Tab]キーで補完機能が呼び出せる。"
   ]
  },
  {
   "cell_type": "markdown",
   "metadata": {},
   "source": [
    "## 解説"
   ]
  },
  {
   "cell_type": "markdown",
   "metadata": {},
   "source": [
    "[【Python学習】タブ補完に関してまとめてみる](https://www.secat-blog.net/wordpress/learn-python-tab_completion-python_tutorial_ver3_chapter14/)  \n",
    "1. タブ補完とは  \n",
    "・ブ補完とは、Tabキーで入力内容を補完する機能のこと。  \n",
    "・Pythonの対話型インタープリタでは、タブ補完機能が用意されていて、インタープリタ起動時に自動有効となる。  \n",
    "1. Pythonでのタブ補完のやり方  \n",
    "・インタープリタの起動時に自動で有効になっており、[Tab]キーで補完機能が呼び出せる"
   ]
  },
  {
   "cell_type": "markdown",
   "metadata": {},
   "source": [
    "## 問題２７"
   ]
  },
  {
   "cell_type": "markdown",
   "metadata": {},
   "source": [
    "以下のプログラムを実行した際の出力結果として正しいものを選択しなさい。\n",
    "```Python\n",
    "diver = [d * 2 for d in 'diver']\n",
    "\n",
    "print(diver)\n",
    "```\n",
    "正解: ['dd', 'ii', 'vv', 'ee', 'rr']"
   ]
  },
  {
   "cell_type": "code",
   "execution_count": 42,
   "metadata": {},
   "outputs": [
    {
     "name": "stdout",
     "output_type": "stream",
     "text": [
      "['dd', 'ii', 'vv', 'ee', 'rr']\n"
     ]
    }
   ],
   "source": [
    "diver = [d * 2 for d in 'diver']\n",
    "\n",
    "print(diver)"
   ]
  },
  {
   "cell_type": "markdown",
   "metadata": {},
   "source": [
    "## 解説"
   ]
  },
  {
   "cell_type": "markdown",
   "metadata": {},
   "source": [
    "[Python3エンジニア認定基礎試験 対策（其の1）](https://www.webtomoblg.net/web/python3-exam-01/)  \n",
    "[Python3エンジニア認定基礎試験 対策（其の2）](https://www.webtomoblg.net/web/python3-exam-02/)  \n",
    "[Python3エンジニア認定基礎試験 対策（其の3）](https://www.webtomoblg.net/web/python3-exam-03/)  \n",
    "[Python3エンジニア認定基礎試験 対策（其の4）](https://www.webtomoblg.net/web/python3-exam-04/)  \n",
    "[Python3エンジニア認定基礎試験 対策（補講）](https://www.webtomoblg.net/web/python3-exam-ex/)  \n",
    "\n",
    "1. プログラムの流れ  \n",
    "    1. 変数dを用いて文字列の一文字ずつを格納\n",
    "    1. d * 2 より同じ文字を２個ずつ表示"
   ]
  },
  {
   "cell_type": "markdown",
   "metadata": {},
   "source": [
    "## 問題２８"
   ]
  },
  {
   "cell_type": "markdown",
   "metadata": {},
   "source": [
    "以下のプログラムを実行した際の出力結果を選びなさい。\n",
    "```Python\n",
    "print(5 ** 2 + 4)\n",
    "```\n",
    "正解: 29"
   ]
  },
  {
   "cell_type": "markdown",
   "metadata": {},
   "source": [
    "## 解説"
   ]
  },
  {
   "cell_type": "markdown",
   "metadata": {},
   "source": [
    "1. プログラムの流れ  \n",
    "・ 5 ** 2 = ５の二乗"
   ]
  },
  {
   "cell_type": "markdown",
   "metadata": {},
   "source": [
    "## 問題２９"
   ]
  },
  {
   "cell_type": "markdown",
   "metadata": {},
   "source": [
    "問題文のprint文を実行した場合の、出力結果を選びなさい。\n",
    "```Python\n",
    "print(\"出力結果:\")\n",
    "print('円周率は%5.3fである。'%math.pi)\n",
    "```\n",
    "正解: 出力結果:円周率は3.142である。"
   ]
  },
  {
   "cell_type": "code",
   "execution_count": 11,
   "metadata": {},
   "outputs": [
    {
     "name": "stdout",
     "output_type": "stream",
     "text": [
      "円周率は                           15.3421である。\n"
     ]
    }
   ],
   "source": [
    "num_1 = 15.34212341\n",
    "print('円周率は%34.4fである。'%num_1)"
   ]
  },
  {
   "cell_type": "markdown",
   "metadata": {},
   "source": [
    "## 解説"
   ]
  },
  {
   "cell_type": "markdown",
   "metadata": {},
   "source": [
    "[Python3エンジニア認定基礎試験 対策（其の1）](https://www.webtomoblg.net/web/python3-exam-01/)  \n",
    "[Python3エンジニア認定基礎試験 対策（其の2）](https://www.webtomoblg.net/web/python3-exam-02/)  \n",
    "[Python3エンジニア認定基礎試験 対策（其の3）](https://www.webtomoblg.net/web/python3-exam-03/)  \n",
    "[Python3エンジニア認定基礎試験 対策（其の4）](https://www.webtomoblg.net/web/python3-exam-04/)  \n",
    "[Python3エンジニア認定基礎試験 対策（補講）](https://www.webtomoblg.net/web/python3-exam-ex/)  \n",
    "\n",
    "1. プログラムの流れ  \n",
    "・ %5.3f は五文字を表示（小数点を合わせて）して小数点以下３文字を表示するということ  "
   ]
  },
  {
   "cell_type": "markdown",
   "metadata": {},
   "source": [
    "## 問題３０"
   ]
  },
  {
   "cell_type": "markdown",
   "metadata": {},
   "source": [
    "次の中からmutableなものをまとめたものとして適切なものを選びなさい\n",
    "\n",
    "正解: リスト"
   ]
  },
  {
   "cell_type": "markdown",
   "metadata": {},
   "source": [
    "## 解説"
   ]
  },
  {
   "cell_type": "markdown",
   "metadata": {},
   "source": [
    "[3.1. オブジェクト、値、および型](https://docs.python.org/ja/3/reference/datamodel.html?highlight=mutable)  \n",
    "1. mutableなもの一覧  \n",
    "    1. リスト型 (list)  \n",
    "    1. バイト配列  "
   ]
  },
  {
   "cell_type": "markdown",
   "metadata": {},
   "source": [
    "## 問題３１"
   ]
  },
  {
   "cell_type": "markdown",
   "metadata": {},
   "source": [
    "以下のプログラムを実行した際の出力結果として正しいものを選択しなさい。\n",
    "```Python\n",
    "i = 10\n",
    "\n",
    "def num(arg=i):\n",
    "    print(arg)\n",
    "\n",
    "i = 7\n",
    "\n",
    "num()\n",
    "```\n",
    "正解: 10"
   ]
  },
  {
   "cell_type": "code",
   "execution_count": 43,
   "metadata": {},
   "outputs": [
    {
     "name": "stdout",
     "output_type": "stream",
     "text": [
      "10\n"
     ]
    }
   ],
   "source": [
    "i = 10\n",
    "\n",
    "def num(arg=i):\n",
    "    print(arg)\n",
    "\n",
    "i = 7\n",
    "\n",
    "num()"
   ]
  },
  {
   "cell_type": "markdown",
   "metadata": {},
   "source": [
    "## 解説"
   ]
  },
  {
   "cell_type": "markdown",
   "metadata": {},
   "source": [
    "[Python3エンジニア認定基礎試験 対策（其の1）](https://www.webtomoblg.net/web/python3-exam-01/)  \n",
    "[Python3エンジニア認定基礎試験 対策（其の2）](https://www.webtomoblg.net/web/python3-exam-02/)  \n",
    "[Python3エンジニア認定基礎試験 対策（其の3）](https://www.webtomoblg.net/web/python3-exam-03/)  \n",
    "[Python3エンジニア認定基礎試験 対策（其の4）](https://www.webtomoblg.net/web/python3-exam-04/)  \n",
    "[Python3エンジニア認定基礎試験 対策（補講）](https://www.webtomoblg.net/web/python3-exam-ex/)   \n",
    "[Python♪引数のディフォルト値が変化する場合と変化しない場合の違い](https://snowtree-injune.com/2018/08/04/post-768/)  \n",
    "\n",
    "1. プログラムの流れ  \n",
    "    1. 変数 i に10を代入  \n",
    "    1. 関数 numを定義  \n",
    "        1. 引数 arg に i を定義  \n",
    "        1. この時点で、i は10が入っている  \n",
    "        1. 関数 num を定義したときには、num()オブジェクトが arg=10 を保持している。  \n",
    "    1. i = 7 を定義  \n",
    "    1. num() で関数を実行  \n",
    "        1. num() iには10が入っている  \n",
    "1. デフォルト引数とは  \n",
    "・関数定義時に代入された変数オブジェクトへのリンク。デフォルト値を設定することで、呼び出しの際に値を呼び出さなくても良くなる。  \n",
    "・-> num()で良くなる。  "
   ]
  },
  {
   "cell_type": "markdown",
   "metadata": {},
   "source": [
    "## 問題３２"
   ]
  },
  {
   "cell_type": "markdown",
   "metadata": {},
   "source": [
    "仮想環境にインストールされたすべてのパッケージを表示するpipのオプションを\n",
    "選択肢の中から選びなさい。\n",
    "\n",
    "正解: pip list"
   ]
  },
  {
   "cell_type": "markdown",
   "metadata": {},
   "source": [
    "## 解説"
   ]
  },
  {
   "cell_type": "markdown",
   "metadata": {},
   "source": [
    "[12. 仮想環境とパッケージ](https://docs.python.org/ja/3/tutorial/venv.html?highlight=pip%20list)  \n",
    "1. インストールしたすべてのパッケージの表示  \n",
    "・pip list  \n",
    "1. 指定されたパッケージの情報を表示  \n",
    "・pip show  "
   ]
  },
  {
   "cell_type": "markdown",
   "metadata": {},
   "source": [
    "## 問題３３"
   ]
  },
  {
   "cell_type": "markdown",
   "metadata": {},
   "source": [
    "「パッケージ」の説明として正しいものを選択肢から選びなさい。\n",
    "\n",
    "正解: 「ドット区切りモジュール名」を使ってPythonのモジュールを構築する方法。"
   ]
  },
  {
   "cell_type": "markdown",
   "metadata": {},
   "source": [
    "## 解説"
   ]
  },
  {
   "cell_type": "markdown",
   "metadata": {},
   "source": [
    "[【Python学習】パッケージについて学んでみる](http://www.secat-blog.net/wordpress/learn-package-python_tutorial_ver3_chapter6/)  \n",
    "[Pythonのパッケージとモジュールを理解してみる](https://qiita.com/ganariya/items/5232ee1a3713f107d9fc)  \n",
    "1. モジュールとパッケージの違い  \n",
    "    1. モジュールとは  \n",
    "    ・モジュールは、Pythonではファイルを表します。つまり、add.pyというファイルを作ったらaddというモジュールになります。   \n",
    "    1. パッケージとは  \n",
    "    ・パッケージは、モジュールの集まり。  \n",
    "    ・「ドット区切りモジュール名」を使ってPythonモジュールを管理する。  \n",
    "    ・ドット区切りモジュールというのは、パッケージやモジュールをドット区切りで指定することで階層的に指定することができる。  "
   ]
  },
  {
   "cell_type": "markdown",
   "metadata": {},
   "source": [
    "## 問題３４"
   ]
  },
  {
   "cell_type": "markdown",
   "metadata": {},
   "source": [
    "以下のプログラムを実行した際の出力結果を選びなさい。\n",
    "```Python\n",
    "d = 'diveinto'\n",
    "\n",
    "d + 'code'\n",
    "\n",
    "print(d)\n",
    "```\n",
    "正解: diveinto"
   ]
  },
  {
   "cell_type": "code",
   "execution_count": 44,
   "metadata": {},
   "outputs": [
    {
     "name": "stdout",
     "output_type": "stream",
     "text": [
      "diveinto\n"
     ]
    }
   ],
   "source": [
    "d = 'diveinto'\n",
    "\n",
    "d + 'code'\n",
    "\n",
    "print(d)"
   ]
  },
  {
   "cell_type": "markdown",
   "metadata": {},
   "source": [
    "## 解説"
   ]
  },
  {
   "cell_type": "markdown",
   "metadata": {},
   "source": [
    "[Python3エンジニア認定基礎試験 対策（其の1）](https://www.webtomoblg.net/web/python3-exam-01/)  \n",
    "[Python3エンジニア認定基礎試験 対策（其の2）](https://www.webtomoblg.net/web/python3-exam-02/)  \n",
    "[Python3エンジニア認定基礎試験 対策（其の3）](https://www.webtomoblg.net/web/python3-exam-03/)  \n",
    "[Python3エンジニア認定基礎試験 対策（其の4）](https://www.webtomoblg.net/web/python3-exam-04/)  \n",
    "[Python3エンジニア認定基礎試験 対策（補講）](https://www.webtomoblg.net/web/python3-exam-ex/)  \n",
    "\n",
    "1. プログラムの流れ  \n",
    "・2行目の d + ‘code’ をなにかの変数に入れていないので、出力は最初の ‘diveinto’ になる。  "
   ]
  },
  {
   "cell_type": "markdown",
   "metadata": {},
   "source": [
    "## 問題３５"
   ]
  },
  {
   "cell_type": "markdown",
   "metadata": {},
   "source": [
    "以下のプログラムを実行した際の出力結果として正しいものを選択しなさい。\n",
    "```Python\n",
    "dic = 'diveintocode'\n",
    "\n",
    "print(dic[1:10:2])\n",
    "```\n",
    "正解: ienoo"
   ]
  },
  {
   "cell_type": "code",
   "execution_count": 45,
   "metadata": {},
   "outputs": [
    {
     "name": "stdout",
     "output_type": "stream",
     "text": [
      "ienoo\n"
     ]
    }
   ],
   "source": [
    "dic = 'diveintocode'\n",
    "\n",
    "print(dic[1:10:2])"
   ]
  },
  {
   "cell_type": "markdown",
   "metadata": {},
   "source": [
    "## 解説"
   ]
  },
  {
   "cell_type": "markdown",
   "metadata": {},
   "source": [
    "[Python3エンジニア認定基礎試験 対策（其の1）](https://www.webtomoblg.net/web/python3-exam-01/)  \n",
    "[Python3エンジニア認定基礎試験 対策（其の2）](https://www.webtomoblg.net/web/python3-exam-02/)  \n",
    "[Python3エンジニア認定基礎試験 対策（其の3）](https://www.webtomoblg.net/web/python3-exam-03/)  \n",
    "[Python3エンジニア認定基礎試験 対策（其の4）](https://www.webtomoblg.net/web/python3-exam-04/)  \n",
    "[Python3エンジニア認定基礎試験 対策（補講）](https://www.webtomoblg.net/web/python3-exam-ex/)  \n",
    "\n",
    "1. プログラムの流れ  \n",
    "・スライス・・・変数名[開始:終了:ステップ]  "
   ]
  },
  {
   "cell_type": "markdown",
   "metadata": {},
   "source": [
    "## 問題３６"
   ]
  },
  {
   "cell_type": "markdown",
   "metadata": {},
   "source": [
    "以下のプログラムを実行した際の出力結果として正しいものを選択しなさい。\n",
    "```Python\n",
    "dic = {'Noro': 1, 'Nakao': 2, 'Miyaoka': 3}\n",
    "\n",
    "dic['Miyaoka'] += 1\n",
    "\n",
    "print(dic)\n",
    "```\n",
    "正解: {'Noro': 1, 'Nakao': 2, 'Miyaoka': 4}"
   ]
  },
  {
   "cell_type": "markdown",
   "metadata": {},
   "source": [
    "## 解説"
   ]
  },
  {
   "cell_type": "markdown",
   "metadata": {},
   "source": [
    "[Python3エンジニア認定基礎試験 対策（其の1）](https://www.webtomoblg.net/web/python3-exam-01/)  \n",
    "[Python3エンジニア認定基礎試験 対策（其の2）](https://www.webtomoblg.net/web/python3-exam-02/)  \n",
    "[Python3エンジニア認定基礎試験 対策（其の3）](https://www.webtomoblg.net/web/python3-exam-03/)  \n",
    "[Python3エンジニア認定基礎試験 対策（其の4）](https://www.webtomoblg.net/web/python3-exam-04/)  \n",
    "[Python3エンジニア認定基礎試験 対策（補講）](https://www.webtomoblg.net/web/python3-exam-ex/)  \n",
    "\n",
    "1. プログラムの流れ\n",
    "    1. {} は辞書型オブジェクト。要素が3つはいっている。\n",
    "    1. そこに、新しくキーとバリューを追加している。\n",
    "        1. 変数名[‘キー名’] = バリュー名 で、追加できる。\n",
    "        1. 今回は、キーが既存のものなので上書かれる。"
   ]
  },
  {
   "cell_type": "markdown",
   "metadata": {},
   "source": [
    "## 問題３７"
   ]
  },
  {
   "cell_type": "markdown",
   "metadata": {},
   "source": [
    "構文的に文が必要なのに、プログラム的には何もする必要がないときに使う構文を選びなさい。\n",
    "\n",
    "正解: pass"
   ]
  },
  {
   "cell_type": "markdown",
   "metadata": {},
   "source": [
    "## 解説"
   ]
  },
  {
   "cell_type": "markdown",
   "metadata": {},
   "source": [
    "[Pythonのpass文の意味と使い方](https://note.nkmk.me/python-pass-usage/)  \n",
    "[7. 単純文 (simple statement)](https://docs.python.org/ja/3/reference/simple_stmts.html#pass)\n",
    "1. pass文とは  \n",
    "・pass はヌル操作 (null operation) です --- pass が実行されても、何も起きません。 pass は、構文法的には文が必要だが、コードとしては何も実行したくない場合のプレースホルダとして有用です。  "
   ]
  },
  {
   "cell_type": "markdown",
   "metadata": {},
   "source": [
    "## 問題３８"
   ]
  },
  {
   "cell_type": "markdown",
   "metadata": {},
   "source": [
    "コマンドライン引数を取得するためのモジュールを選択肢の中から選びなさい。\n",
    "\n",
    "正解: sys"
   ]
  },
  {
   "cell_type": "markdown",
   "metadata": {},
   "source": [
    "## 解説"
   ]
  },
  {
   "cell_type": "markdown",
   "metadata": {},
   "source": [
    "[Pythonのコマンドライン引数とは？取得方法を3つのパターンで解説](https://www.sejuku.net/blog/60106)\n",
    "1. Pythonのコマンドライン引数とは  \n",
    "・Pythonのプログラム実行時にコマンドラインで引数を指定することにより、プログラム内で引数を受け取ってプログラムの挙動を変えたい場合に使用します。  "
   ]
  },
  {
   "cell_type": "markdown",
   "metadata": {},
   "source": [
    "## 問題３９"
   ]
  },
  {
   "cell_type": "markdown",
   "metadata": {},
   "source": [
    "以下のプログラムを実行した際の出力結果を選びなさい。\n",
    "```Python\n",
    "print(3 * 'Dive' + 'into' + 'Code')\n",
    "```\n",
    "正解: DiveDiveDiveintoCode"
   ]
  },
  {
   "cell_type": "markdown",
   "metadata": {},
   "source": [
    "## 解説"
   ]
  },
  {
   "cell_type": "markdown",
   "metadata": {},
   "source": [
    "[Python3エンジニア認定基礎試験 対策（其の1）](https://www.webtomoblg.net/web/python3-exam-01/)  \n",
    "[Python3エンジニア認定基礎試験 対策（其の2）](https://www.webtomoblg.net/web/python3-exam-02/)  \n",
    "[Python3エンジニア認定基礎試験 対策（其の3）](https://www.webtomoblg.net/web/python3-exam-03/)  \n",
    "[Python3エンジニア認定基礎試験 対策（其の4）](https://www.webtomoblg.net/web/python3-exam-04/)  \n",
    "[Python3エンジニア認定基礎試験 対策（補講）](https://www.webtomoblg.net/web/python3-exam-ex/)  \n",
    "\n",
    "1. プログラムの流れ\n",
    "・掛け算割り算が優先される"
   ]
  },
  {
   "cell_type": "markdown",
   "metadata": {},
   "source": [
    "## 問題４０"
   ]
  },
  {
   "cell_type": "markdown",
   "metadata": {},
   "source": [
    "以下のプログラムを実行した際の出力結果を選びなさい。\n",
    "```Python\n",
    "print(list(range(5)))\n",
    "```\n",
    "正解: [0, 1, 2, 3, 4]"
   ]
  },
  {
   "cell_type": "markdown",
   "metadata": {},
   "source": [
    "## 解説"
   ]
  },
  {
   "cell_type": "markdown",
   "metadata": {},
   "source": [
    "[Python3エンジニア認定基礎試験 対策（其の1）](https://www.webtomoblg.net/web/python3-exam-01/)  \n",
    "[Python3エンジニア認定基礎試験 対策（其の2）](https://www.webtomoblg.net/web/python3-exam-02/)  \n",
    "[Python3エンジニア認定基礎試験 対策（其の3）](https://www.webtomoblg.net/web/python3-exam-03/)  \n",
    "[Python3エンジニア認定基礎試験 対策（其の4）](https://www.webtomoblg.net/web/python3-exam-04/)  \n",
    "[Python3エンジニア認定基礎試験 対策（補講）](https://www.webtomoblg.net/web/python3-exam-ex/)  \n",
    "\n",
    "1. プログラムの流れ\n",
    "・list型での出力のため、[ ]の出力となる。  \n",
    "・rangeで範囲が指定されるので0からの個数が出力される。  "
   ]
  }
 ],
 "metadata": {
  "kernelspec": {
   "display_name": "Python 3",
   "language": "python",
   "name": "python3"
  },
  "language_info": {
   "codemirror_mode": {
    "name": "ipython",
    "version": 3
   },
   "file_extension": ".py",
   "mimetype": "text/x-python",
   "name": "python",
   "nbconvert_exporter": "python",
   "pygments_lexer": "ipython3",
   "version": "3.8.3"
  }
 },
 "nbformat": 4,
 "nbformat_minor": 4
}
