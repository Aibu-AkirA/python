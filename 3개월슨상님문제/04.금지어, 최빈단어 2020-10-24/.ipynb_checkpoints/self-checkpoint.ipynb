{
 "cells": [
  {
   "cell_type": "code",
   "execution_count": 1,
   "metadata": {},
   "outputs": [],
   "source": [
    "paragraph = \"Bob hit a ball, the hit BaLL flew far after it was hit.\"\n",
    "banned = [\"hit\"]"
   ]
  },
  {
   "cell_type": "code",
   "execution_count": 2,
   "metadata": {},
   "outputs": [],
   "source": [
    "import re\n",
    "from collections import Counter\n",
    "\n",
    "def mostFrequentWord(s, b):\n",
    "    s = s.lower()\n",
    "    b = [i.lower() for i in b]\n",
    "    s = re.sub('[^a-z0-9 ]','',s)\n",
    "    for var in b:\n",
    "        ban = re.escape(var) #리스트 변수 쓸려면 이거 해야함\n",
    "        s = re.sub(ban, '',s)\n",
    "    s = s.split()\n",
    "    sCount = Counter(s) # 리스트안에서 같은 값끼리 카운트후 딕셔너리에 넣음\n",
    "    sOrder = sCount.most_common() #튜플에 높은 순서대로 정렬\n",
    "    \n",
    "    sFrequent=''\n",
    "    for i in sOrder:\n",
    "        if i[1] == sOrder[0][1]:\n",
    "            sFrequent += i[0]+\", \"\n",
    "\n",
    "    del sOrder\n",
    "    return sFrequent[:-2]"
   ]
  },
  {
   "cell_type": "code",
   "execution_count": 3,
   "metadata": {},
   "outputs": [
    {
     "data": {
      "text/plain": [
       "'ball'"
      ]
     },
     "execution_count": 3,
     "metadata": {},
     "output_type": "execute_result"
    }
   ],
   "source": [
    "mostFrequentWord(paragraph, banned)"
   ]
  },
  {
   "cell_type": "code",
   "execution_count": 4,
   "metadata": {},
   "outputs": [
    {
     "data": {
      "text/plain": [
       "'aa, bb, cc'"
      ]
     },
     "execution_count": 4,
     "metadata": {},
     "output_type": "execute_result"
    }
   ],
   "source": [
    "manyFrequent= \"aa aa aa aa bb bb bb bb cc cc cc cc dd dd dd ee ee ee ee ee fff fff fff gg gg gg gg hh hh hh \"\n",
    "banned2 = [\"ee\", \"gg\", \"hhh\"]\n",
    "mostFrequentWord(manyFrequent, banned2)"
   ]
  },
  {
   "cell_type": "code",
   "execution_count": null,
   "metadata": {},
   "outputs": [],
   "source": []
  }
 ],
 "metadata": {
  "kernelspec": {
   "display_name": "Python 3",
   "language": "python",
   "name": "python3"
  },
  "language_info": {
   "codemirror_mode": {
    "name": "ipython",
    "version": 3
   },
   "file_extension": ".py",
   "mimetype": "text/x-python",
   "name": "python",
   "nbconvert_exporter": "python",
   "pygments_lexer": "ipython3",
   "version": "3.8.3"
  }
 },
 "nbformat": 4,
 "nbformat_minor": 4
}
