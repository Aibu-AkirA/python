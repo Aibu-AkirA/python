{
 "cells": [
  {
   "cell_type": "code",
   "execution_count": 2,
   "metadata": {},
   "outputs": [
    {
     "name": "stdout",
     "output_type": "stream",
     "text": [
      "['やさしいpython', 'すっきりわかるjava', 'HTML/CSSワークショップ']\n"
     ]
    }
   ],
   "source": [
    "# ★の部分をかいて完成させてね\n",
    "book = ['やさしいpython', 'すっきりわかるjava', 'HTML/CSSワークショップ']\n",
    "\n",
    "print(book)"
   ]
  },
  {
   "cell_type": "code",
   "execution_count": 3,
   "metadata": {},
   "outputs": [
    {
     "name": "stdout",
     "output_type": "stream",
     "text": [
      "['やさしいpython', 'すっきりわかるjava', 'HTML/CSSワークショップ', 'Springフレームワーク']\n"
     ]
    }
   ],
   "source": [
    "#★の部分をかいて完成させてね\n",
    "\n",
    "book.append(\"Springフレームワーク\")\n",
    "print(book)\n"
   ]
  },
  {
   "cell_type": "code",
   "execution_count": 16,
   "metadata": {},
   "outputs": [
    {
     "name": "stdout",
     "output_type": "stream",
     "text": [
      "['やさしいpython', 'すっきりわからなくもないjava', 'HTML/CSSワークショップ', 'Springフレームワーク']\n",
      "===インデックス化===\n",
      "0 やさしいpython\n",
      "1 すっきりわからなくもないjava\n",
      "2 HTML/CSSワークショップ\n",
      "3 Springフレームワーク\n"
     ]
    }
   ],
   "source": [
    "# ★の部分をかいて完成させてね\n",
    "book[1]=\"すっきりわからなくもないjava\"\n",
    "\n",
    "print(book)\n",
    "\n",
    "print(\"===インデックス化===\")\n",
    "for i,n in enumerate(book):\n",
    "    print(i,n)"
   ]
  },
  {
   "cell_type": "code",
   "execution_count": 1,
   "metadata": {},
   "outputs": [
    {
     "name": "stdout",
     "output_type": "stream",
     "text": [
      "[1, 0, 3, 1, 10, 8, 0, 6, 2, 7]\n"
     ]
    }
   ],
   "source": [
    "#ランダムな整数を10個リストに入れたいのにエラー出るから直してね\n",
    "import random\n",
    "list=[]\n",
    "for i in range(10):\n",
    "    list.append(random.randint(0,10))\n",
    "\n",
    "print(list)"
   ]
  },
  {
   "cell_type": "code",
   "execution_count": 32,
   "metadata": {},
   "outputs": [
    {
     "name": "stdout",
     "output_type": "stream",
     "text": [
      "[[49, 97], [53, 5], [33, 65], [62, 51], [100, 38], [61, 45], [74, 27], [64, 17], [36, 17], [96, 12]]\n",
      "[0, 1, 0, 1, 1, 1, 1, 1, 0, 1]\n",
      "[[49, 97], [33, 65], [36, 17]]\n",
      "[[53, 5], [62, 51], [100, 38], [61, 45], [74, 27], [64, 17], [96, 12]]\n"
     ]
    }
   ],
   "source": [
    "#機械学習の教師データっぽいデータのtrain_xの中身を、train_yの数値(0か1)に基づいて「list0」,「list1」という配列にいれてってね\n",
    "#どうやってもいいけどできるだけコードは短くしてみよ\n",
    "\n",
    "'''\n",
    "[例]　\n",
    "train_x=[[49, 97], [53, 5], [33, 65]]\n",
    "train_y=[0,1,0]\n",
    "なら、\n",
    "list0=[[49, 97], [33, 65]]\n",
    "list1=[[53, 5]]\n",
    "'''\n",
    "\n",
    "import random\n",
    "random.seed(0)\n",
    "train_x=[[random.randint(0, 100), random.randint(0, 100)] for i in range(10)]\n",
    "train_y=[0 if i[0]<50 else 1 for i in train_x ]\n",
    "\n",
    "print(train_x)\n",
    "print(train_y)\n",
    "\n",
    "#ここにかいてねーー\n",
    "\n",
    "list0=[x for x,y in zip(train_x, train_y) if y==0]\n",
    "list1=[x for x,y in zip(train_x, train_y) if y==1]\n",
    "\n",
    "\n",
    "\n",
    "print(list0)\n",
    "print(list1)"
   ]
  },
  {
   "cell_type": "code",
   "execution_count": null,
   "metadata": {},
   "outputs": [],
   "source": []
  }
 ],
 "metadata": {
  "kernelspec": {
   "display_name": "Python 3",
   "language": "python",
   "name": "python3"
  },
  "language_info": {
   "codemirror_mode": {
    "name": "ipython",
    "version": 3
   },
   "file_extension": ".py",
   "mimetype": "text/x-python",
   "name": "python",
   "nbconvert_exporter": "python",
   "pygments_lexer": "ipython3",
   "version": "3.8.3"
  }
 },
 "nbformat": 4,
 "nbformat_minor": 4
}
