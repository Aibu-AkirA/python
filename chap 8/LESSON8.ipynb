{
 "cells": [
  {
   "cell_type": "code",
   "execution_count": 4,
   "metadata": {},
   "outputs": [
    {
     "name": "stdout",
     "output_type": "stream",
     "text": [
      "ナンバーは 1234 ガソリン量は 25.5 です。\n",
      "ナンバーは 2345 ガソリン量は 30.5 です。\n"
     ]
    }
   ],
   "source": [
    "class Car:\n",
    "    \n",
    "    def __init__(self, number, oil):\n",
    "        self.number = number\n",
    "        self.oil = oil\n",
    "        \n",
    "    def getNumber(self):\n",
    "        return self.number\n",
    "\n",
    "    def getOil(self):\n",
    "        return self.oil\n",
    "    \n",
    "car1 = Car(1234, 25.5)\n",
    "n1 = car1.getNumber()\n",
    "o1 = car1.getOil()\n",
    "\n",
    "car2 = Car(2345, 30.5)\n",
    "n2 = car2.getNumber()\n",
    "o2 = car2.getOil()\n",
    "\n",
    "print(\"ナンバーは\", n1, \"ガソリン量は\", o1, \"です。\")\n",
    "print(\"ナンバーは\", n2, \"ガソリン量は\", o2, \"です。\")"
   ]
  },
  {
   "cell_type": "code",
   "execution_count": null,
   "metadata": {},
   "outputs": [],
   "source": []
  }
 ],
 "metadata": {
  "kernelspec": {
   "display_name": "Python 3",
   "language": "python",
   "name": "python3"
  },
  "language_info": {
   "codemirror_mode": {
    "name": "ipython",
    "version": 3
   },
   "file_extension": ".py",
   "mimetype": "text/x-python",
   "name": "python",
   "nbconvert_exporter": "python",
   "pygments_lexer": "ipython3",
   "version": "3.8.3"
  }
 },
 "nbformat": 4,
 "nbformat_minor": 4
}
