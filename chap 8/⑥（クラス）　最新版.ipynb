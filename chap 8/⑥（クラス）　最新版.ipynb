{
 "cells": [
  {
   "cell_type": "markdown",
   "metadata": {},
   "source": [
    "# ⑥（クラス）"
   ]
  },
  {
   "cell_type": "markdown",
   "metadata": {},
   "source": [
    "# Lesson8"
   ]
  },
  {
   "cell_type": "markdown",
   "metadata": {},
   "source": [
    "### 構文（クラスの定義）\n",
    "```Python\n",
    "class <クラス名>:\n",
    "    def <メソッド名>(self, <引数リスト>):\n",
    "        self.<変数> = ・・・\n",
    "        ・・・\n",
    "        return <式>\n",
    "```"
   ]
  },
  {
   "cell_type": "markdown",
   "metadata": {},
   "source": [
    "### 構文（インスタンスの作成）\n",
    "```Python\n",
    "<インスタンス名> = <クラス名>()\n",
    "```"
   ]
  },
  {
   "cell_type": "markdown",
   "metadata": {},
   "source": [
    "### 構文（属性の利用）\n",
    "```Python\n",
    "<インスタンス名>.<データ属性名>  \n",
    "<インスタンス名>.<メソッド名>(<引数リスト>)\n",
    "```"
   ]
  },
  {
   "cell_type": "markdown",
   "metadata": {},
   "source": [
    "### Sample1.py"
   ]
  },
  {
   "cell_type": "code",
   "execution_count": 4,
   "metadata": {},
   "outputs": [
    {
     "name": "stdout",
     "output_type": "stream",
     "text": [
      "鈴木 さんは 23 才です。\n"
     ]
    }
   ],
   "source": [
    "class Person:\n",
    "\n",
    "    def getName(self):\n",
    "        return self.name\n",
    "\n",
    "    def getAge(self):\n",
    "       return self.age\n",
    "\n",
    "pr = Person()\n",
    "pr.name = \"鈴木\"\n",
    "pr.age = 23\n",
    "\n",
    "n = pr.getName()\n",
    "a = pr.getAge()\n",
    "\n",
    "print(n, \"さんは\", a, \"才です。\")"
   ]
  },
  {
   "cell_type": "markdown",
   "metadata": {},
   "source": [
    "### Sample2.py"
   ]
  },
  {
   "cell_type": "code",
   "execution_count": 5,
   "metadata": {},
   "outputs": [
    {
     "name": "stdout",
     "output_type": "stream",
     "text": [
      "鈴木 さんは 23 才です。\n",
      "佐藤 さんは 38 才です。\n"
     ]
    }
   ],
   "source": [
    "class Person:\n",
    "\n",
    "    def getName(self):\n",
    "        return self.name\n",
    "\n",
    "    def getAge(self):\n",
    "        return self.age\n",
    "\n",
    "pr1 = Person()\n",
    "pr1.name = \"鈴木\"\n",
    "pr1.age = 23\n",
    "n1 = pr1.getName()\n",
    "a1 = pr1.getAge()\n",
    "\n",
    "pr2 = Person()\n",
    "pr2.name = \"佐藤\"\n",
    "pr2.age = 38\n",
    "n2 = pr2.getName()\n",
    "a2 = pr2.getAge()\n",
    "\n",
    "print(n1, \"さんは\", a1, \"才です。\")\n",
    "print(n2, \"さんは\", a2, \"才です。\")"
   ]
  },
  {
   "cell_type": "markdown",
   "metadata": {},
   "source": [
    "### 構文（コンストラクタ）\n",
    "```Python\n",
    "def __init__(self, <引数リスト>):\n",
    "    ・・・\n",
    "```"
   ]
  },
  {
   "cell_type": "markdown",
   "metadata": {},
   "source": [
    "### Sample3.py"
   ]
  },
  {
   "cell_type": "code",
   "execution_count": 6,
   "metadata": {},
   "outputs": [
    {
     "name": "stdout",
     "output_type": "stream",
     "text": [
      "鈴木 さんは 23 才です。\n"
     ]
    }
   ],
   "source": [
    "class Person:\n",
    "\n",
    "    def __init__(self, name, age):\n",
    "        self.name = name\n",
    "        self.age = age\n",
    "\n",
    "    def getName(self):\n",
    "        return self.name\n",
    "\n",
    "    def getAge(self):\n",
    "        return self.age\n",
    "\n",
    "pr = Person(\"鈴木\", 23)\n",
    "\n",
    "n = pr.getName()\n",
    "a = pr.getAge()\n",
    "\n",
    "print(n, \"さんは\", a, \"才です。\")"
   ]
  },
  {
   "cell_type": "markdown",
   "metadata": {},
   "source": [
    "### Sample4.py"
   ]
  },
  {
   "cell_type": "code",
   "execution_count": 7,
   "metadata": {},
   "outputs": [
    {
     "name": "stdout",
     "output_type": "stream",
     "text": [
      "鈴木 さんは 23 才です。\n",
      "佐藤 さんは 38 才です。\n",
      "合計人数は 2 です。\n"
     ]
    }
   ],
   "source": [
    "class Person:\n",
    "    count = 0\n",
    "\n",
    "    def __init__(self, name, age):\n",
    "        Person.count = Person.count + 1\n",
    "\n",
    "        self.name = name\n",
    "        self.age = age\n",
    "      \n",
    "    def getName(self):\n",
    "        return self.name\n",
    "\n",
    "    def getAge(self):\n",
    "        return self.age\n",
    "\n",
    "    @classmethod\n",
    "    def getCount(cls):\n",
    "        return cls.count\n",
    "\n",
    "pr1 = Person(\"鈴木\", 23)\n",
    "pr2 = Person(\"佐藤\", 38)\n",
    "\n",
    "print(pr1.getName(), \"さんは\", pr1.getAge(), \"才です。\")\n",
    "print(pr2.getName(), \"さんは\", pr2.getAge(), \"才です。\")\n",
    "print(\"合計人数は\", Person.getCount(), \"です。\")"
   ]
  },
  {
   "cell_type": "markdown",
   "metadata": {},
   "source": [
    "### 構文（派生クラスの定義）\n",
    "```Python\n",
    "class <派生クラス名>(<基礎クラス名>):\n",
    "    ・・・\n",
    "    def <派生クラスに追加するメソッド>(self, <引数のリスト>):\n",
    "        self.<派生クラスに追加するデータ属性> = <値>\n",
    "        ・・・\n",
    "```"
   ]
  },
  {
   "cell_type": "markdown",
   "metadata": {},
   "source": [
    "### Sample5.py"
   ]
  },
  {
   "cell_type": "code",
   "execution_count": 8,
   "metadata": {},
   "outputs": [
    {
     "name": "stdout",
     "output_type": "stream",
     "text": [
      "顧客：鈴木 さんは 23 才です。\n",
      "アドレスは mmm@nnn.nn.jp 電話番号は xxx-xxx-xxxx です。\n"
     ]
    }
   ],
   "source": [
    "class Person:\n",
    "\n",
    "    def __init__(self, name, age):\n",
    "        self.name = name\n",
    "        self.age = age\n",
    "\n",
    "    def getName(self):\n",
    "        return self.name\n",
    "\n",
    "    def getAge(self):\n",
    "        return self.age\n",
    "\n",
    "class Customer(Person):\n",
    "    def __init__(self, nm, ag, ad, tl):\n",
    "        super().__init__(nm, ag)\n",
    "\n",
    "        self.adr = ad\n",
    "        self.tel = tl\n",
    "\n",
    "    def getName(self):\n",
    "        return \"顧客：\" + self.name\n",
    "\n",
    "    def getAdr(self):\n",
    "        return self.adr\n",
    "\n",
    "    def getTel(self):\n",
    "        return self.tel\n",
    "\n",
    "pr = Customer(\"鈴木\", 23, \"mmm@nnn.nn.jp\", \"xxx-xxx-xxxx\")\n",
    "\n",
    "nm = pr.getName()\n",
    "ag = pr.getAge()\n",
    "ad = pr.getAdr()\n",
    "tl = pr.getTel()\n",
    "\n",
    "print(nm, \"さんは\", ag, \"才です。\")\n",
    "print(\"アドレスは\", ad, \"電話番号は\", tl, \"です。\")"
   ]
  },
  {
   "cell_type": "markdown",
   "metadata": {},
   "source": [
    "### myclass.py"
   ]
  },
  {
   "cell_type": "code",
   "execution_count": 4,
   "metadata": {},
   "outputs": [],
   "source": [
    "class Person:\n",
    "\n",
    "    def __init__(self, name, age):\n",
    "       self.name = name\n",
    "       self.age = age\n",
    "\n",
    "    def getName(self):\n",
    "        return self.name\n",
    "\n",
    "    def getAge(self):\n",
    "        return self.age\n",
    "\n",
    "class Customer(Person):\n",
    "    def __init__(self, nm, ag, ad, tl):\n",
    "        super().__init__(nm, ag)\n",
    "\n",
    "        self.adr = ad\n",
    "        self.tel = tl\n",
    "\n",
    "    def getName(self):\n",
    "        return \"顧客：\" + self.name\n",
    "\n",
    "    def getAdr(self):\n",
    "        return self.adr\n",
    "\n",
    "    def getTel(self):\n",
    "        return self.tel"
   ]
  },
  {
   "cell_type": "markdown",
   "metadata": {},
   "source": [
    "### Sample6.py"
   ]
  },
  {
   "cell_type": "code",
   "execution_count": 5,
   "metadata": {},
   "outputs": [
    {
     "name": "stdout",
     "output_type": "stream",
     "text": [
      "顧客：鈴木 さんは 23 才です。\n",
      "アドレスは mmm@nnn.nn.jp 電話番号は xxx-xxx-xxxx です。\n"
     ]
    }
   ],
   "source": [
    "import myclass\n",
    "\n",
    "pr = myclass.Customer(\"鈴木\", 23, \"mmm@nnn.nn.jp\", \"xxx-xxx-xxxx\")\n",
    "\n",
    "nm = pr.getName()\n",
    "ag = pr.getAge()\n",
    "ad = pr.getAdr()\n",
    "tl = pr.getTel()\n",
    "\n",
    "print(nm, \"さんは\", ag, \"才です。\")\n",
    "print(\"アドレスは\", ad, \"電話番号は\", tl, \"です。\")"
   ]
  },
  {
   "cell_type": "code",
   "execution_count": 6,
   "metadata": {},
   "outputs": [
    {
     "name": "stdout",
     "output_type": "stream",
     "text": [
      "顧客：鈴木 さんは 23 才です。\n",
      "アドレスは mmm@nnn.nn.jp 電話番号は xxx-xxx-xxxx です。\n"
     ]
    }
   ],
   "source": [
    "# myclass.pyを用いてSample6,pyを実行しようとした結果\n",
    "%run Sample6.py"
   ]
  },
  {
   "cell_type": "markdown",
   "metadata": {},
   "source": [
    "### 構文（インポート）\n",
    "```Python\n",
    "import <モジュール名>\n",
    "```"
   ]
  },
  {
   "cell_type": "markdown",
   "metadata": {},
   "source": [
    "### 構文（インポートした関数・クラスの利用）\n",
    "```Python\n",
    "<モジュール名>.<モジュール内の関数名やクラス名など>.・・・\n",
    "```"
   ]
  },
  {
   "cell_type": "markdown",
   "metadata": {},
   "source": [
    "### 構文（名前を付ける）\n",
    "```Python\n",
    "import <モジュール名> as <自分でつけた名前>\n",
    "```"
   ]
  },
  {
   "cell_type": "markdown",
   "metadata": {},
   "source": [
    "### 構文（直接インポートする）\n",
    "```Python\n",
    "from <モジュール名> import <関数名やクラス名など>\n",
    "```"
   ]
  },
  {
   "cell_type": "markdown",
   "metadata": {},
   "source": [
    "### 構文（まとめてインポートする）\n",
    "```Python\n",
    "from <モジュール名> import *\n",
    "```"
   ]
  },
  {
   "cell_type": "markdown",
   "metadata": {},
   "source": [
    "### おすすめしたい標準ライブラリの主なモジュール\n",
    "https://docs.python.org/ja/3/library/index.html"
   ]
  },
  {
   "cell_type": "markdown",
   "metadata": {},
   "source": [
    "### Sample7.py"
   ]
  },
  {
   "cell_type": "code",
   "execution_count": 10,
   "metadata": {},
   "outputs": [
    {
     "name": "stdout",
     "output_type": "stream",
     "text": [
      "顧客：鈴木 さんは 23 才です。\n",
      "アドレスは mmm@nnn.nn.jp 電話番号は xxx-xxx-xxxx です。\n"
     ]
    }
   ],
   "source": [
    "import myclass\n",
    "\n",
    "pr = myclass.Customer(\"鈴木\", 23, \"mmm@nnn.nn.jp\", \"xxx-xxx-xxxx\")\n",
    "\n",
    "nm = pr.getName()\n",
    "ag = pr.getAge()\n",
    "ad = pr.getAdr()\n",
    "tl = pr.getTel()\n",
    "\n",
    "print(nm, \"さんは\", ag, \"才です。\")\n",
    "print(\"アドレスは\", ad, \"電話番号は\", tl, \"です。\")"
   ]
  },
  {
   "cell_type": "markdown",
   "metadata": {},
   "source": [
    "### Sample8.py"
   ]
  },
  {
   "cell_type": "code",
   "execution_count": 11,
   "metadata": {},
   "outputs": [
    {
     "name": "stdout",
     "output_type": "stream",
     "text": [
      "    October 2018\n",
      "Mo Tu We Th Fr Sa Su\n",
      " 1  2  3  4  5  6  7\n",
      " 8  9 10 11 12 13 14\n",
      "15 16 17 18 19 20 21\n",
      "22 23 24 25 26 27 28\n",
      "29 30 31\n"
     ]
    }
   ],
   "source": [
    "import calendar\n",
    "\n",
    "c = calendar.TextCalendar()\n",
    "c.prmonth(2018, 10)"
   ]
  },
  {
   "cell_type": "markdown",
   "metadata": {},
   "source": [
    "# ほげ要望(^ω^)\n",
    "　教科書　【レッスンのまとめ】    \n",
    "・lesson8  \n",
    " 練習をやってくれたら喜びます"
   ]
  },
  {
   "cell_type": "markdown",
   "metadata": {},
   "source": [
    "# エクストラほげ問題⑥\n",
    "## 高校数学Ⅱ　整式の積分\n",
    "## 定積分の計算と性質, 偶関数・奇関数の定積分\n",
    "人工知能（AI）を学ぶ上で必須な数学の知識を問うような問題を出します。  \n",
    "最低限の内容ばかり問うのでわからない人は焦った方がいいと思います（ほげおくん調べ）  \n",
    "  \n",
    "### もんだいだよん(^ω^)\n",
    "  \n",
    "次の定積分を求めよ\n",
    "  \n",
    "①$\\int_1^5 (2x^2-5x+8) dx$\n",
    "  \n",
    "②$\\int_{-1}^2 (t+3)(t-1) dt$\n",
    "  \n",
    "③$\\int_0^2 (4x-1) dx + \\int_2^3 (4x-1) dx$"
   ]
  },
  {
   "cell_type": "markdown",
   "metadata": {},
   "source": [
    "## エクストラぽむぽむ問題\n",
    "\n",
    "### なつかしのjavaでやったクラス化をやります\n",
    ">覚えていますか、ミナトくん・・・\n",
    "><br>勇者を生み出してみましょう\n",
    "\n",
    "Heroクラスをつくってみよう！\n",
    "<br>メインメソッドに加え、名前とHPを定義するメソッドをつくります。\n",
    "<br>インスタンス化して呼び出してprintしてください。\n",
    "\n"
   ]
  },
  {
   "cell_type": "code",
   "execution_count": null,
   "metadata": {},
   "outputs": [],
   "source": [
    "#### 以下実行結果\n",
    "勇者 ミナト を生み出した！\n",
    "初期HPは 10 です\n",
    "\n",
    "# ★の部分をかいて完成させてね　\n",
    "#★Heroクラス定義\n",
    "\n",
    "    def __init__(self, name, hp):\n",
    "        self.name = name\n",
    "        self.hp = hp\n",
    "\n",
    "    def getName(self):\n",
    "        return self.name\n",
    "\n",
    "    def getHP(self):\n",
    "        return self.hp\n",
    "\n",
    "human = #★インスタンス化\n",
    "\n",
    "#★　名前呼び出し\n",
    "#★　HP呼び出し\n",
    "\n",
    "print(\"勇者\",★,\"を生み出した！\")\n",
    "print(\"初期HPは\",★,\"です\")"
   ]
  },
  {
   "cell_type": "markdown",
   "metadata": {},
   "source": [
    "# エクストラがんばれ問題\n",
    "がんばれimportわかればなんとかなる  \n",
    "2問目は次の正規表現の問題で地獄だけど作ったら便利そうだからできた人は僕に下さい  \n",
    "丸投げはきついからかんたんにやり方だけ置いておくけど出来たらすごい"
   ]
  },
  {
   "cell_type": "code",
   "execution_count": 2,
   "metadata": {},
   "outputs": [
    {
     "ename": "NameError",
     "evalue": "name 'numpy' is not defined",
     "output_type": "error",
     "traceback": [
      "\u001b[1;31m---------------------------------------------------------------------------\u001b[0m",
      "\u001b[1;31mNameError\u001b[0m                                 Traceback (most recent call last)",
      "\u001b[1;32m<ipython-input-2-9109e181d7b1>\u001b[0m in \u001b[0;36m<module>\u001b[1;34m\u001b[0m\n\u001b[0;32m      1\u001b[0m \u001b[1;32mfrom\u001b[0m \u001b[0mnumpy\u001b[0m \u001b[1;32mimport\u001b[0m \u001b[0msin\u001b[0m\u001b[1;33m\u001b[0m\u001b[1;33m\u001b[0m\u001b[0m\n\u001b[1;32m----> 2\u001b[1;33m \u001b[0mprint\u001b[0m\u001b[1;33m(\u001b[0m\u001b[0mnumpy\u001b[0m\u001b[1;33m.\u001b[0m\u001b[0msin\u001b[0m\u001b[1;33m(\u001b[0m\u001b[1;36m0\u001b[0m\u001b[1;33m)\u001b[0m\u001b[1;33m)\u001b[0m\u001b[1;33m\u001b[0m\u001b[1;33m\u001b[0m\u001b[0m\n\u001b[0m",
      "\u001b[1;31mNameError\u001b[0m: name 'numpy' is not defined"
     ]
    }
   ],
   "source": [
    "#エラー直してsinの関数が正しく実行できるようにしてね\n",
    "#二行目を変えてほしいなあ！\n",
    "from numpy import sin\n",
    "print(numpy.sin(0))"
   ]
  },
  {
   "cell_type": "code",
   "execution_count": 5,
   "metadata": {},
   "outputs": [
    {
     "name": "stdout",
     "output_type": "stream",
     "text": [
      "検索する単語を入力してくださいパスファインダー\n"
     ]
    }
   ],
   "source": [
    "#文字列から特定の単語を検索して、何行目に表示されているかを出力するプログラムをかいてね\n",
    "#なんでもよかったんだけど文章はAPEXのパッチノートにしました\n",
    "words=\"\"\"レジェンドの皆さん、こんにちは。\n",
    "\n",
    "コレクションイベント「アフターマーケット」では、待望のクロスプレイベータがついに登場します。そしてイベントでは、新しい注目の期間限定モード「フラッシュポイント」や大量の報酬、コースティックの新スーパーレジェンドなどが登場します。詳細はブログでご確認ください。また、今回はさまざまな改良と調整、修正を実施しています。本稿を読んで、「アフターマーケット」を有利に戦うために万全の情報武装を行いましょう。 \n",
    "\n",
    "それでは、アリーナでお会いしましょう！\n",
    "\n",
    "クロスプレイベータ\n",
    "\n",
    "クロスプレイは「エーペックスレジェンズ」の配信以来、最も要望をいただいた機能の一つで、他機種のフレンドとのプレイを望むプレイヤーから多くの声が寄せられていました。クロスプレイベータの期間中は、クロスプレイ機能をもれなく使用できます。それと並行して、データ収集と大規模な機能試験を進めながら、何よりも大切なプレイヤーの声を募集します。\n",
    "\n",
    "期間限定モード - フラッシュポイント\n",
    "\n",
    "アフターマーケットでは、最新の期間限定モードとして「フラッシュポイント」が登場します。キングスキャニオンを舞台とする同モードでは、すべての回復アイテムが姿を消す代わりに、体力とシールドを回復させる広大なゾーンがマップ各地に出現します。\n",
    "\n",
    "クロスプレイベータとフラッシュポイントの詳細は、アフターマーケットの紹介ブログでご案内しています。\n",
    "\n",
    "コレクションイベント\n",
    "\n",
    "アフターマーケットでは、ワットソン用スキン「アクセル全開」やレイス用スキン「ヴォイドプラウラー」をはじめとした、全24種類のアイテムを集めるコレクションイベントも新しく実施します。\n",
    "\n",
    "イベント報酬トラック\n",
    "\n",
    "新イベントの開催に伴って、チャレンジのトラックも一新されます。バンガロールの「ブルーチップ」やヘムロックの「パフォーマンスブースト」といった、無料装飾アイテムを手に入れるチャンスです。\n",
    "\n",
    "新スーパーレジェンド - コースティック用「デスハンマー」\n",
    "最新のスーパーレジェンドとして、コースティックのデスハンマーが新登場。窒素酸化物を充填したハンマーで、接触を試みる者を全てなぎ倒しましょう。\n",
    "\n",
    "レジェンドの有効戦術\n",
    "ランパート\n",
    "\n",
    "シーラの弾道の拡散ペースを早めました\n",
    "ブラッドハウンド\n",
    "\n",
    "戦術アビリティのクールダウンを更新し、アルティメットの待機時間が6秒から8秒になりました。\n",
    "\n",
    "開発者メモ:以前の6秒への変更では、ブラッドハウンドが極端に強化されてしまいました。今ではこのアルティメットが、敵にとって恐るべき脅威となっています。この6秒への短縮は、少し過剰だったと考えています。強力なブラッドハウンド使いが相手では、スキャンを受けない時間が2秒しかありません。これを8秒に変更すると、現在地を見破られるまでに4秒の猶予が生まれて、パルスが途絶えた4秒間に位置を変えることができます。\n",
    "パスファインダー\n",
    "\n",
    "グラップルのクールダウン時間が、パスファインダーの移動距離に応じて決まるようになりました。最速復帰は10秒で、最長では35秒を要しますが、最長時間に到達するのは非常に長い距離の移動を行った場合です。存分にグラップルを楽しみましょう！\n",
    "\n",
    "開発者メモ:\n",
    "パスファインダー使いに朗報です。アウトランズきっての楽天家に、素敵な贈り物が届きました。グラップルのクールダウン時間は元の15秒に戻らず、妥協点の25秒にも変わりません。その代わり（redditで）寄せられた意見を参考に、グラップルの消費エネルギーを「タイタンフォール 2」と同様の仕様に変更することになりました。更新後は、地面を離れた瞬間から、超高速スライディングが終わって再着地した瞬間までの移動距離を計測します。これにより、次の2つ影響が生じます。\n",
    "パスファインダーの操作が苦手な方は、グラップルからの落下を過度に恐れずに済むようになります。大移動ができなくても、長時間のクールダウンは生じません。\n",
    "一方、パスファインダーを非常に得意としている方は、グラップルで最大限の移動を狙う場合は、成功時に35秒のクールダウンが発生することになります。この2つの変化によって、パスファインダーの最恐ロボットとしての優位性が少しだけ抑えられて、スキルの新しい活用方法が生まれます。皆さんは、クールダウンを短縮しながら戦いを有利に運ぶための、短距離グラップルの優れた活用法を見つけられるでしょうか。この能力がどのように使われるのか、拝見するのが楽しみです。\n",
    "レイス\n",
    "\n",
    "レイスのダッシュモーションを更新しました。\n",
    "\n",
    "開発者メモ:\n",
    "レイスは弱体化がかなり難しいレジェンドです。開発陣がレジェンドの能力を評価する際に用いるデータは、対象レジェンドを含む3人チームの勝率と上位入賞率、レジェンドが相手をダウンさせた割合とダウンさせられた割合、レジェンドの選択率のように多岐にわたります。こうした多くのデータのすべてで、レイスは傑出した成績を残しています。\n",
    "\n",
    "スタッフがアビリティに手を加えても（これまでに多くの変更を行いました）、彼女は数週間以内に成績を回復させて、選択率の減少を食い止めてしまうのです。レイスの能力は、ソロの戦いと高度な連携が求められる戦闘のどちらでも、非常に有用です。そして、キャラクターとしても魅力にあふれています。そこで、ひとつの結論に至りました。\n",
    "\n",
    "彼女のアビリティに手を加えることをやめたのです。レイスとパスファインダーには、クールダウンと能力に関する弱体化を限界まで行ってきたため、これ以上能力面に調整を施せばプレイの魅力が大きく損なわれてしまうでしょう。それは、望むところではありません。\n",
    "\n",
    "そこで、彼女の強さの源泉となっているかもしれない、レジェンドに固有の他の要素に目を向けたところ、彼女独自のダッシュモーションが（背中を丸める動作によって）体勢を下げる働きを担っている程度が判明し、敵にとっては着弾領域が狭まっていたことが明らかになりました。あまり大きな違いには思えないでしょうが、彼女の当り判定がそもそも小さかったことを加味すると、大きなアドバンテージが生じていたのです。\n",
    "\n",
    "そこで今回のパッチでは、レイスの新しいダッシュモーションを導入しました。これによって姿勢はかなりまっすぐになり、銃撃にさらされる部分が大きくなりました。彼女を象徴する従来のダッシュ動作が姿を消すのは残念でなりませんが、これ以上彼女のアビリティに手を加えずに、戦闘力を同水準に近づけるには、これが抜群の最善策だと考えています。このモーションが実装された後の動向次第では、彼女のアビリティの弱体化をある程度まで撤回できる可能性もあります（ただし、約束はできません）。\n",
    "\n",
    "これまでと同様に、今後はプレイヤーの声に耳を傾けながら、変更に関するデータを見守ってまいります。\n",
    "\n",
    "クリプト\n",
    "\n",
    "クリプトのインベントリに鍵があれば、ドローンを使ってアイテム保管庫を開けられるようになりました。鍵は通常通りに消費されます。\n",
    "ローバ\n",
    "\n",
    "アルティメットアビリティとパッシブアビリティの効果範囲を、3100ユニットから4500ユニットに拡大しました。\n",
    "ローバが、アルティメットゲージを半分チャージした状態で戦闘を開始します。\n",
    "武器の有効戦術\n",
    "ディヴォーション\n",
    "\n",
    "腰撃ち時の基本レベルの弾道拡散量が増加し、通常射撃時の拡散量も増加しました。\n",
    "スピットファイア\n",
    "\n",
    "本作では、同クラスの類似武器の腰撃ち回数をそろえるようにしています。そのため、ディヴォーションの腰撃ち弾道の拡散量を、スピットファイアにも適用しました。補正措置として、スピットファイアでは横方向の反動を抑えています。\n",
    "トリプルテイク\n",
    "\n",
    "発射速度を1.4から1.3に引き下げました。\n",
    "快適性向上\n",
    "獲得アイテムの情報に進化シールドの受けているダメージが表示されて、切り替えの判断を下しやすくなりました。\n",
    "\n",
    "これで、同レベルで残り体力が少ないアーマーでも、進化が近いものであれば乗り換えられるようになります。\n",
    "獲得アイテムの情報に、シグナルを送る目安として、仲間が必要としているかを示す小さなインジケーターが表示されるようになりました。\n",
    "\n",
    "パフォーマンス表示は、戦闘中に画面右上に現れるパネルを起動するための新機能です。\n",
    "ここには、次のデータが表示されます。\n",
    "FPS - 1秒あたりの表示フレーム数、すなわちゲームがフレームをレンダリングする速度\n",
    "レイテンシ - ゲームクライアントが、サーバーとデータ通信を往復させる際の所要時間（ミリ秒単位）\n",
    "ロス - パケットデータがサーバーから届く際の、1秒あたりの損失率\n",
    "チョーク - データがサーバーから届く際の輻輳（混雑）率\n",
    "イン/アウト - サーバーから/サーバーへ送られるデータ量 \n",
    "プレイ中に継続的に問題が発生する場合は、この表示が解決に役立つかもしれません。起きている現象を特定しましょう。パフォーマンス表示は、プレイ設定メニューからいつでも表示の有無を切り替えられます。\n",
    "\n",
    "匿名モード設定を追加しました。チャンピオン演出やキル通知、別の場所に敵が生存している際のプレイヤー名表示を匿名化します。 \n",
    "レベル0の進化アーマーがイベントリで非所持扱いとなり、アーマーを要求するシグナルを送信できるようになりました。\n",
    "ワールズエッジの掲示バナー数を増やすことで、クリプトがドローンから付近の部隊を判別しやすくなりました。\n",
    "ラインオーバー - ラインオーバーの計測タイマーが、他のラインオーバーエリアに出た際にリセットされなくなりました。タイマーの合計時間は30秒に固定されて、新しいラインオーバーエリアに入ると、カウントダウンを続行します。ただし、残り時間が5秒未満の状態では、タイマーは繰り返し残り5秒に戻ります。 \n",
    "これでタイマーの悪用を防止しながら、ラインを越えてしまったプレイヤーにも復帰時間を残すことができるでしょう。\n",
    "お気に入りからランダムで項目を選択する機能を、BGMとロード画面に設けました。\n",
    "ホロスプレーにいいねをしたプレイヤーが記憶されて、所有者はいいねの数を確認できるようになりました。この変更には、他のプレイヤーによる「いいね」の連打を防ぐ効果もあります。\n",
    "レジェンドトークンが最小化されて、ロビーでカーソルを合わせた際にツールチップが表示されるようになりました。所有通貨の残額は、カーソルを重ねることで表示されます。\n",
    "不具合の修正\n",
    "一般\n",
    "\n",
    "ドロップシップから、クリプトのマップルームでサテライトのシグナルを送信できる機能を追加しました。 \n",
    "ジブラルタル\n",
    "\n",
    "特定の状況でドームシールドが白く見える問題を修正しました。 \n",
    "ライフライン\n",
    "\n",
    "シーラ使用時に「守護天使」スキンの首部分が伸びて表示される問題を修正しました。 \n",
    "キングスキャニオンで、ケアパッケージをキャパシター、リグ、サルベージの特定のパーツに乗せられない問題を修正しました。\n",
    "コースティック\n",
    "\n",
    "コースティックのガス管が輸送コンテナに斜めに設置される問題を修正しました。 \n",
    "ミラージュ\n",
    "\n",
    "ミラージュのデコイについて、シグナルを送信できなかった問題を修正しました。 \n",
    "クリプトのドローンが、デコイを強調表示できなかった問題を修正しました。\n",
    "オクタン\n",
    "\n",
    "オクタンのジャンプパッドで飛ぶと、プレイヤーに影のレヴナントが表示されなくなる視覚上の問題を修正しました。 \n",
    "特定のエリアで、ジャンプパッドが地面にめり込んでしまう不具合を修正しました。\n",
    "クリプト\n",
    "\n",
    "クリプトのドローンがワットソンの防衛フェンスを検知しない問題を修正しました。\n",
    "調査ビーコンをクリプトのドローンで使おうとすると、効果音が非常に小さくなる音声の問題を修正しました。\n",
    "ドローンが真下からの攻撃でダメージを受けない問題を修正しました。 \n",
    "レヴナント\n",
    "\n",
    "トーテムの効果が消えてもレプリケーターが画面に表示され続ける、HUDの不具合を修正しました。\n",
    "ローバ\n",
    "\n",
    "サプライシップにテレポートする際の挙動が一貫しない問題を修正しました。 \n",
    "溶岩溝周辺のドリル内にテレポートできてしまう問題を修正しました。\n",
    "中継地点で特定の地形にテレポートできない問題を修正しました。 \n",
    "ランパート\n",
    "\n",
    "戸口に設置したシーラを撤去している際に、ドアが閉じる問題を修正しました。 \n",
    "増幅バリケードをサプライシップに設置すると宙に浮いてしまう問題を修正しました。\n",
    "シーラをアイテムボックスに設置できる問題を修正しました。\n",
    "ロングボウDMR、トリプルテイク、マスティフ、センチネルが増幅バリケードの強化を受けないことがある問題を修正しました。 \n",
    "マップ周辺部で増幅バリケードを問題のある角度に設置できてしまう現象を修正しました。 \n",
    "増幅バリケードを、チャージライフルで一撃で破壊できない問題を修正しました。 \n",
    "特定の角度で放たれた弾丸が、増幅バリケードを通過する前に増幅されてしまう問題を修正しました。 \n",
    "L-スター\n",
    "\n",
    "単発の射撃を複数回行った際に、オーバーヒートが発生する問題を修正しました。\"\"\"\n",
    "\n",
    "import re\n",
    "\n",
    "search_word=str(input(\"検索する単語を入力してください\"))\n",
    "\n",
    "'''やり方の一例～\n",
    "1.文章を一行ごとに分けてリストに入れる\n",
    "2.for文とかでリストの要素一つずつsearch()して、マッチしたらその要素のインデックスをリストとかでとっとく\n",
    "3.見やすいようにprintで出力！\n",
    "\n",
    "別のやり方でもいいし説明わかりにくすぎたら二年の誰かに聞いてみてね\n",
    "'''\n",
    "    "
   ]
  },
  {
   "cell_type": "code",
   "execution_count": null,
   "metadata": {},
   "outputs": [],
   "source": []
  }
 ],
 "metadata": {
  "kernelspec": {
   "display_name": "Python 3",
   "language": "python",
   "name": "python3"
  },
  "language_info": {
   "codemirror_mode": {
    "name": "ipython",
    "version": 3
   },
   "file_extension": ".py",
   "mimetype": "text/x-python",
   "name": "python",
   "nbconvert_exporter": "python",
   "pygments_lexer": "ipython3",
   "version": "3.8.3"
  }
 },
 "nbformat": 4,
 "nbformat_minor": 2
}
