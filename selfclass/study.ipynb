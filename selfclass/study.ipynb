{
 "cells": [
  {
   "cell_type": "code",
   "execution_count": 1,
   "metadata": {},
   "outputs": [
    {
     "name": "stdout",
     "output_type": "stream",
     "text": [
      "7\n",
      "34\n"
     ]
    }
   ],
   "source": [
    "#LESSON.01\n",
    "print(3+4)\n",
    "print(\"3\"+\"4\")"
   ]
  },
  {
   "cell_type": "code",
   "execution_count": 6,
   "metadata": {},
   "outputs": [
    {
     "name": "stdout",
     "output_type": "stream",
     "text": [
      "Hellopythonworld\n",
      "Hello python world\n",
      "Hello/python/world\n"
     ]
    }
   ],
   "source": [
    "i=\"Hello\"\n",
    "y=\"python\"\n",
    "z=\"world\"\n",
    "print(i+y+z)\n",
    "print(i, y, z)\n",
    "print(i, y, z, sep=\"/\")"
   ]
  },
  {
   "cell_type": "code",
   "execution_count": 7,
   "metadata": {},
   "outputs": [
    {
     "name": "stdout",
     "output_type": "stream",
     "text": [
      "石井石井石井\n"
     ]
    }
   ],
   "source": [
    "i=\"石井\"\n",
    "y=3\n",
    "print(i*y)"
   ]
  },
  {
   "cell_type": "code",
   "execution_count": 12,
   "metadata": {},
   "outputs": [
    {
     "name": "stdout",
     "output_type": "stream",
     "text": [
      "0b1010\n",
      "0o12\n",
      "0xa\n"
     ]
    }
   ],
   "source": [
    "#LESSON.02\n",
    "#10進数をN進数に変わる。\n",
    "#2進数\n",
    "print(bin(10))\n",
    "\n",
    "#8進数\n",
    "print(oct(10))\n",
    "\n",
    "#16進数\n",
    "print(hex(10))"
   ]
  },
  {
   "cell_type": "code",
   "execution_count": 13,
   "metadata": {},
   "outputs": [
    {
     "name": "stdout",
     "output_type": "stream",
     "text": [
      "2\n",
      "8\n",
      "16\n"
     ]
    }
   ],
   "source": [
    "#N進数を10進数に変わる。\n",
    "#2進数\n",
    "print(0b10)\n",
    "\n",
    "#8進数\n",
    "print(0o10)\n",
    "\n",
    "#16進数\n",
    "print(0x10)"
   ]
  },
  {
   "cell_type": "code",
   "execution_count": 14,
   "metadata": {},
   "outputs": [
    {
     "name": "stdout",
     "output_type": "stream",
     "text": [
      "Hello\n",
      "python\n",
      "world\n"
     ]
    }
   ],
   "source": [
    "#エスケープシーケンス 教科書22p\n",
    "#\\n -> 改行\n",
    "print(\"Hello\\npython\\nworld\")"
   ]
  },
  {
   "cell_type": "code",
   "execution_count": 15,
   "metadata": {},
   "outputs": [
    {
     "name": "stdout",
     "output_type": "stream",
     "text": [
      "1\n",
      "3.14\n"
     ]
    }
   ],
   "source": [
    "print(1)\n",
    "print(3.14)"
   ]
  },
  {
   "cell_type": "code",
   "execution_count": 16,
   "metadata": {},
   "outputs": [
    {
     "name": "stdout",
     "output_type": "stream",
     "text": [
      "123\n",
      "\\ 100 もらった\n",
      "また明日\n"
     ]
    }
   ],
   "source": [
    "print(\"123\\n\\\\ 100 もらった\\nまた明日\")"
   ]
  },
  {
   "cell_type": "code",
   "execution_count": 17,
   "metadata": {},
   "outputs": [
    {
     "name": "stdout",
     "output_type": "stream",
     "text": [
      "1\t2\t3\t4\t5\t6\n"
     ]
    }
   ],
   "source": [
    "print(\"1\\t2\\t3\\t4\\t5\\t6\")"
   ]
  },
  {
   "cell_type": "code",
   "execution_count": 18,
   "metadata": {},
   "outputs": [],
   "source": [
    "#lesson.03\n",
    "#データ型\n",
    "#str型\n",
    "s3 = \"\"\n",
    "#int型\n",
    "i3 = 0\n",
    "#float型\n",
    "f3 = 0.0"
   ]
  },
  {
   "cell_type": "code",
   "execution_count": 23,
   "metadata": {},
   "outputs": [
    {
     "name": "stdout",
     "output_type": "stream",
     "text": [
      "7\n",
      "3\n",
      "10\n",
      "2.5\n",
      "2\n",
      "1\n",
      "7\n"
     ]
    }
   ],
   "source": [
    "#演算子\n",
    "num3_1 = 5\n",
    "num3_2 = 2\n",
    "print(num3_1 + num3_2)\n",
    "print(num3_1 - num3_2)\n",
    "print(num3_1 * num3_2)\n",
    "print(num3_1 / num3_2)\n",
    "print(int(num3_1 / num3_2))\n",
    "print(num3_1 % num3_2)#余り\n",
    "num3_3 = num3_1 + num3_2\n",
    "print(num3_3)"
   ]
  },
  {
   "cell_type": "code",
   "execution_count": 26,
   "metadata": {},
   "outputs": [
    {
     "name": "stdout",
     "output_type": "stream",
     "text": [
      "2020年は 21 歳\n",
      "2021年は 22 歳\n",
      "2022年は 23 歳\n",
      "2023年は 24 歳\n",
      "2024年は 25 歳\n"
     ]
    }
   ],
   "source": [
    "#教科書45p\n",
    "isiiage3 = 21\n",
    "print(\"2020年は\",isiiage3,\"歳\")\n",
    "isiiage3 += 1\n",
    "print(\"2021年は\",isiiage3,\"歳\")\n",
    "isiiage3 += 1\n",
    "print(\"2022年は\",isiiage3,\"歳\")\n",
    "isiiage3 += 1\n",
    "print(\"2023年は\",isiiage3,\"歳\")\n",
    "isiiage3 += 1\n",
    "print(\"2024年は\",isiiage3,\"歳\")"
   ]
  },
  {
   "cell_type": "code",
   "execution_count": 27,
   "metadata": {},
   "outputs": [
    {
     "name": "stdout",
     "output_type": "stream",
     "text": [
      "14\n"
     ]
    }
   ],
   "source": [
    "#49p\n",
    "print(2+3*4)"
   ]
  },
  {
   "cell_type": "code",
   "execution_count": 28,
   "metadata": {},
   "outputs": [
    {
     "name": "stdout",
     "output_type": "stream",
     "text": [
      "20\n"
     ]
    }
   ],
   "source": [
    "print((2+3)*4)"
   ]
  },
  {
   "cell_type": "code",
   "execution_count": 29,
   "metadata": {},
   "outputs": [
    {
     "name": "stdout",
     "output_type": "stream",
     "text": [
      "入力してください：10\n",
      "10\n"
     ]
    }
   ],
   "source": [
    "#52p\n",
    "ip = input(\"入力してください：\")\n",
    "print(ip)"
   ]
  },
  {
   "cell_type": "code",
   "execution_count": 30,
   "metadata": {},
   "outputs": [
    {
     "name": "stdout",
     "output_type": "stream",
     "text": [
      "5\n",
      "6\n",
      "11\n"
     ]
    }
   ],
   "source": [
    "ip1 = int(input())\n",
    "ip2 = input()\n",
    "print(ip1+int(ip2))"
   ]
  },
  {
   "cell_type": "code",
   "execution_count": 32,
   "metadata": {},
   "outputs": [
    {
     "name": "stdout",
     "output_type": "stream",
     "text": [
      "3\n",
      "33333\n",
      "15\n"
     ]
    }
   ],
   "source": [
    "iz3 = input()\n",
    "iz4 = int(iz3)\n",
    "print(iz3*5)\n",
    "print(iz4*5)"
   ]
  },
  {
   "cell_type": "code",
   "execution_count": 41,
   "metadata": {},
   "outputs": [
    {
     "name": "stdout",
     "output_type": "stream",
     "text": [
      "いけない\n"
     ]
    }
   ],
   "source": [
    "num6 = -1000\n",
    "if(num6 > 10 or num6 < 1):\n",
    "    print(\"いけない\")\n",
    "else:\n",
    "    print(\"いける\")"
   ]
  },
  {
   "cell_type": "code",
   "execution_count": 17,
   "metadata": {},
   "outputs": [
    {
     "name": "stdout",
     "output_type": "stream",
     "text": [
      "1000\n",
      "#\n"
     ]
    }
   ],
   "source": [
    "intNum = int(input())\n",
    "if(intNum >= 30 and intNum <= 50 ):\n",
    "    print(\"★\")\n",
    "elif(intNum < 30):\n",
    "    print(\"●\")\n",
    "else:\n",
    "    print(\"#\") "
   ]
  },
  {
   "cell_type": "code",
   "execution_count": 22,
   "metadata": {},
   "outputs": [],
   "source": [
    "#for(int i = 0; i < 5; i++)"
   ]
  },
  {
   "cell_type": "code",
   "execution_count": 54,
   "metadata": {},
   "outputs": [
    {
     "name": "stdout",
     "output_type": "stream",
     "text": [
      "1x1=1\t1x2=2\t1x3=3\t1x4=4\t1x5=5\t1x6=6\t1x7=7\t1x8=8\t1x9=9\t\n",
      "2x1=2\t2x2=4\t2x3=6\t2x4=8\t2x5=10\t2x6=12\t2x7=14\t2x8=16\t2x9=18\t\n",
      "3x1=3\t3x2=6\t3x3=9\t3x4=12\t3x5=15\t3x6=18\t3x7=21\t3x8=24\t3x9=27\t\n",
      "4x1=4\t4x2=8\t4x3=12\t4x4=16\t4x5=20\t4x6=24\t4x7=28\t4x8=32\t4x9=36\t\n",
      "5x1=5\t5x2=10\t5x3=15\t5x4=20\t5x5=25\t5x6=30\t5x7=35\t5x8=40\t5x9=45\t\n",
      "6x1=6\t6x2=12\t6x3=18\t6x4=24\t6x5=30\t6x6=36\t6x7=42\t6x8=48\t6x9=54\t\n",
      "7x1=7\t7x2=14\t7x3=21\t7x4=28\t7x5=35\t7x6=42\t7x7=49\t7x8=56\t7x9=63\t\n",
      "8x1=8\t8x2=16\t8x3=24\t8x4=32\t8x5=40\t8x6=48\t8x7=56\t8x8=64\t8x9=72\t\n",
      "9x1=9\t9x2=18\t9x3=27\t9x4=36\t9x5=45\t9x6=54\t9x7=63\t9x8=72\t9x9=81\t\n"
     ]
    }
   ],
   "source": [
    "for i in range(1,10):\n",
    "    for y in range(1,10):\n",
    "        print(i,\"x\",y,\"=\",i*y, sep=\"\",end=\"\\t\")\n",
    "    print(\"\")"
   ]
  },
  {
   "cell_type": "code",
   "execution_count": 65,
   "metadata": {},
   "outputs": [
    {
     "name": "stdout",
     "output_type": "stream",
     "text": [
      "奇数： 1\n",
      "偶数： 2\n",
      "奇数： 3\n",
      "偶数： 4\n",
      "奇数： 5\n",
      "偶数： 6\n",
      "奇数： 7\n",
      "偶数： 8\n",
      "奇数： 9\n",
      "偶数： 10\n"
     ]
    }
   ],
   "source": [
    "for i in range(1,11):\n",
    "    if(i%2==0):\n",
    "        print(\"偶数：\",i)\n",
    "    else:\n",
    "        print(\"奇数：\",i)"
   ]
  },
  {
   "cell_type": "code",
   "execution_count": 77,
   "metadata": {},
   "outputs": [
    {
     "name": "stdout",
     "output_type": "stream",
     "text": [
      "●●●●〇\n",
      "●●●〇〇\n",
      "●●〇〇〇\n",
      "●〇〇〇〇\n"
     ]
    }
   ],
   "source": [
    "for i in range(4):\n",
    "    for j in range(5):\n",
    "        if(i+j < 4):\n",
    "            print(\"●\",end='')\n",
    "        else:\n",
    "            print(\"〇\",end='')\n",
    "    print()"
   ]
  },
  {
   "cell_type": "code",
   "execution_count": 78,
   "metadata": {
    "scrolled": false
   },
   "outputs": [
    {
     "name": "stdout",
     "output_type": "stream",
     "text": [
      "01234\n",
      "12345\n",
      "23456\n",
      "34567\n"
     ]
    }
   ],
   "source": [
    "for i in range(4):\n",
    "    for j in range(5):\n",
    "        print(i+j,end=\"\")\n",
    "    print()"
   ]
  },
  {
   "cell_type": "code",
   "execution_count": 85,
   "metadata": {},
   "outputs": [
    {
     "name": "stdout",
     "output_type": "stream",
     "text": [
      "['86', 'GT-R', 'rx-7', 'ランエボ3']\n"
     ]
    }
   ],
   "source": [
    "myCar = [\"86\",\"GT-R\",\"rx-7\",\"ランエボ3\"]\n",
    "print(myCar)"
   ]
  },
  {
   "cell_type": "code",
   "execution_count": 86,
   "metadata": {},
   "outputs": [
    {
     "name": "stdout",
     "output_type": "stream",
     "text": [
      "86 GT-R rx-7 ランエボ3 "
     ]
    }
   ],
   "source": [
    "for i in range(4):\n",
    "    print(myCar[i],end=\" \")"
   ]
  },
  {
   "cell_type": "code",
   "execution_count": 87,
   "metadata": {},
   "outputs": [
    {
     "name": "stdout",
     "output_type": "stream",
     "text": [
      "86 GT-R rx-7 ランエボ3 "
     ]
    }
   ],
   "source": [
    "for i in range(len(myCar)):\n",
    "    print(myCar[i],end=\" \")"
   ]
  },
  {
   "cell_type": "code",
   "execution_count": 88,
   "metadata": {},
   "outputs": [
    {
     "name": "stdout",
     "output_type": "stream",
     "text": [
      "4\n"
     ]
    }
   ],
   "source": [
    "print(len(myCar))"
   ]
  },
  {
   "cell_type": "code",
   "execution_count": 92,
   "metadata": {},
   "outputs": [
    {
     "name": "stdout",
     "output_type": "stream",
     "text": [
      "86 GT-R rx-7 ランエボ3 "
     ]
    }
   ],
   "source": [
    "for i in myCar:\n",
    "    print(i,end=\" \")"
   ]
  },
  {
   "cell_type": "code",
   "execution_count": 93,
   "metadata": {},
   "outputs": [
    {
     "data": {
      "text/plain": [
       "5"
      ]
     },
     "execution_count": 93,
     "metadata": {},
     "output_type": "execute_result"
    }
   ],
   "source": []
  },
  {
   "cell_type": "code",
   "execution_count": 96,
   "metadata": {},
   "outputs": [
    {
     "name": "stdout",
     "output_type": "stream",
     "text": [
      "[1, 2, 3, 4, 5, 6, 5, 7, 8, 9]\n",
      "[6, 5, 7, 8, 9, 1, 2, 3, 4, 5]\n"
     ]
    }
   ],
   "source": [
    "myNum1 = [1,2,3,4,5]\n",
    "myNum2 = [6,5,7,8,9]\n",
    "print(myNum1+myNum2)\n",
    "print(myNum2+myNum1)"
   ]
  },
  {
   "cell_type": "code",
   "execution_count": 111,
   "metadata": {},
   "outputs": [
    {
     "data": {
      "text/plain": [
       "[1, 2, 3, 4, 5]"
      ]
     },
     "execution_count": 111,
     "metadata": {},
     "output_type": "execute_result"
    }
   ],
   "source": [
    "myNum1[:]"
   ]
  },
  {
   "cell_type": "code",
   "execution_count": 112,
   "metadata": {},
   "outputs": [
    {
     "data": {
      "text/plain": [
       "[1, 2, 3, 4, 5]"
      ]
     },
     "execution_count": 112,
     "metadata": {},
     "output_type": "execute_result"
    }
   ],
   "source": [
    "myNum1[::]"
   ]
  },
  {
   "cell_type": "code",
   "execution_count": 117,
   "metadata": {},
   "outputs": [
    {
     "data": {
      "text/plain": [
       "[5, 4, 3, 2, 1]"
      ]
     },
     "execution_count": 117,
     "metadata": {},
     "output_type": "execute_result"
    }
   ],
   "source": [
    "myNum1[::-1]"
   ]
  },
  {
   "cell_type": "code",
   "execution_count": 121,
   "metadata": {},
   "outputs": [
    {
     "data": {
      "text/plain": [
       "[6, 5, 4, 3]"
      ]
     },
     "execution_count": 121,
     "metadata": {},
     "output_type": "execute_result"
    }
   ],
   "source": [
    "myNum3 = [0,1,2,3,4,5,6,7,8,9]\n",
    "myNum3[6:2:-1]"
   ]
  },
  {
   "cell_type": "code",
   "execution_count": null,
   "metadata": {},
   "outputs": [],
   "source": []
  }
 ],
 "metadata": {
  "kernelspec": {
   "display_name": "Python 3",
   "language": "python",
   "name": "python3"
  },
  "language_info": {
   "codemirror_mode": {
    "name": "ipython",
    "version": 3
   },
   "file_extension": ".py",
   "mimetype": "text/x-python",
   "name": "python",
   "nbconvert_exporter": "python",
   "pygments_lexer": "ipython3",
   "version": "3.8.3"
  }
 },
 "nbformat": 4,
 "nbformat_minor": 4
}
