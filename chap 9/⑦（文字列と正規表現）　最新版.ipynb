{
 "cells": [
  {
   "cell_type": "markdown",
   "metadata": {},
   "source": [
    "# ⑦（文字列と正規表現）"
   ]
  },
  {
   "cell_type": "markdown",
   "metadata": {},
   "source": [
    "# Lesson9"
   ]
  },
  {
   "cell_type": "markdown",
   "metadata": {},
   "source": [
    "### Sample1.py"
   ]
  },
  {
   "cell_type": "code",
   "execution_count": 1,
   "metadata": {},
   "outputs": [
    {
     "name": "stdout",
     "output_type": "stream",
     "text": [
      "文字列を入力してください。ほげほげお\n",
      "文字列は ほげほげお です。\n",
      "0番目の文字は ほ です。\n",
      "文字列を逆順にすると おげほげほ です。\n",
      "文字列の長さは 5 です。\n"
     ]
    }
   ],
   "source": [
    "str = input(\"文字列を入力してください。\")\n",
    "\n",
    "print(\"文字列は\", str, \"です。\")\n",
    "print(\"0番目の文字は\", str[0], \"です。\")\n",
    "print(\"文字列を逆順にすると\", str[::-1], \"です。\")\n",
    "print(\"文字列の長さは\", len(str), \"です。\")"
   ]
  },
  {
   "cell_type": "markdown",
   "metadata": {},
   "source": [
    "### Sample2.py"
   ]
  },
  {
   "cell_type": "code",
   "execution_count": 3,
   "metadata": {},
   "outputs": [
    {
     "name": "stdout",
     "output_type": "stream",
     "text": [
      "文字列を入力してください。HOGE\n",
      "文字列は HOGE です。\n",
      "大文字にすると HOGE です。\n",
      "小文字にすると hoge です。\n"
     ]
    }
   ],
   "source": [
    "str = input(\"文字列を入力してください。\")\n",
    "\n",
    "print(\"文字列は\", str, \"です。\")\n",
    "print(\"大文字にすると\", str.upper(), \"です。\")\n",
    "print(\"小文字にすると\", str.lower(), \"です。\")"
   ]
  },
  {
   "cell_type": "markdown",
   "metadata": {},
   "source": [
    "### Sample3.py"
   ]
  },
  {
   "cell_type": "code",
   "execution_count": 5,
   "metadata": {},
   "outputs": [
    {
     "name": "stdout",
     "output_type": "stream",
     "text": [
      "1つ目の単語を入力してください。HOGE\n",
      "2つ目の単語を入力してください。FUGA\n",
      "3つ目の単語を入力してください。PIYO\n",
      "HOGEはFUGAPIYOです。PIYOです。\n",
      "個数を入力してください。5\n",
      "金額を入力してください。500\n",
      "5個       500円\n"
     ]
    }
   ],
   "source": [
    "\n",
    "word0 = input(\"1つ目の単語を入力してください。\")\n",
    "word1 = input(\"2つ目の単語を入力してください。\")\n",
    "word2 = input(\"3つ目の単語を入力してください。\")\n",
    "\n",
    "print(\"{0}は{1}{2}です。{2}です。\".format(word0, word1, word2))\n",
    "\n",
    "num0 = int(input(\"個数を入力してください。\"))\n",
    "num1 = int(input(\"金額を入力してください。\"))\n",
    "\n",
    "print(\"{0:<}個{1:>10,}円\".format(num0, num1))"
   ]
  },
  {
   "cell_type": "markdown",
   "metadata": {},
   "source": [
    "### Sample4.py"
   ]
  },
  {
   "cell_type": "code",
   "execution_count": 6,
   "metadata": {},
   "outputs": [
    {
     "name": "stdout",
     "output_type": "stream",
     "text": [
      "文字列を入力してください。HOGE\n",
      "検索する文字列を入力してくださいO\n",
      "HOGE の 1 の位置に O がみつかりました。\n"
     ]
    }
   ],
   "source": [
    "str = input(\"文字列を入力してください。\")\n",
    "key = input(\"検索する文字列を入力してください\")\n",
    "\n",
    "res = str.find(key)\n",
    "\n",
    "if res != -1:\n",
    "    print(str, \"の\", res, \"の位置に\", key, \"がみつかりました。\")\n",
    "else:\n",
    "    print(str,  \"の中に\", key, \"がみつかりませんでした。\")"
   ]
  },
  {
   "cell_type": "markdown",
   "metadata": {},
   "source": [
    "### Sample5.py"
   ]
  },
  {
   "cell_type": "code",
   "execution_count": 10,
   "metadata": {
    "scrolled": true
   },
   "outputs": [
    {
     "name": "stdout",
     "output_type": "stream",
     "text": [
      "文字列を入力してください。HOGEHOGEO\n",
      "置換される文字列を入力してください。HO\n",
      "置換する文字列を入力してください。FU\n",
      "HOGEHOGEOの中にHOがみつかりませんでした。\n"
     ]
    }
   ],
   "source": [
    "str1 = input(\"文字列を入力してください。\")\n",
    "old = input(\"置換される文字列を入力してください。\")\n",
    "new = input(\"置換する文字列を入力してください。\")\n",
    "\n",
    "if old in str1:\n",
    "    print(str1 + \"の中に\" + old + \"がみつかりませんでした。\")"
   ]
  },
  {
   "cell_type": "markdown",
   "metadata": {},
   "source": [
    "### 構文（正規表現の利用）\n",
    "```Python\n",
    "import re\n",
    "```"
   ]
  },
  {
   "cell_type": "markdown",
   "metadata": {},
   "source": [
    "### Sample6.py"
   ]
  },
  {
   "cell_type": "code",
   "execution_count": 11,
   "metadata": {},
   "outputs": [
    {
     "name": "stdout",
     "output_type": "stream",
     "text": [
      "------\n",
      "（パターン）Apple（文字列）Hello（マッチ）×\n",
      "（パターン）Apple（文字列）GoodBye（マッチ）×\n",
      "（パターン）Apple（文字列）Thankyou（マッチ）×\n",
      "------\n",
      "（パターン）GoodBye（文字列）Hello（マッチ）×\n",
      "（パターン）GoodBye（文字列）GoodBye（マッチ）〇\n",
      "（パターン）GoodBye（文字列）Thankyou（マッチ）×\n",
      "------\n",
      "（パターン）Thankyou（文字列）Hello（マッチ）×\n",
      "（パターン）Thankyou（文字列）GoodBye（マッチ）×\n",
      "（パターン）Thankyou（文字列）Thankyou（マッチ）〇\n"
     ]
    }
   ],
   "source": [
    "import re\n",
    "\n",
    "ptr = [\"Apple\", \"GoodBye\", \"Thankyou\"]\n",
    "str = [\"Hello\", \"GoodBye\", \"Thankyou\"]\n",
    "\n",
    "for valueptr in ptr:\n",
    "    print(\"------\")\n",
    "    pattern = re.compile(valueptr)\n",
    "    for valuestr in str:\n",
    "        res = pattern.search(valuestr)\n",
    "        if res is not None:\n",
    "            m = \"〇\"\n",
    "        else:\n",
    "            m = \"×\"\n",
    "        msg = \"（パターン）\" + valueptr + \"（文字列）\" + valuestr + \"（マッチ）\" + m\n",
    "        print(msg)"
   ]
  },
  {
   "cell_type": "markdown",
   "metadata": {},
   "source": [
    "### Sample7.py"
   ]
  },
  {
   "cell_type": "code",
   "execution_count": 12,
   "metadata": {},
   "outputs": [
    {
     "name": "stdout",
     "output_type": "stream",
     "text": [
      "------\n",
      "（パターン）TXT（文字列）TXT（マッチ）〇\n",
      "（パターン）TXT（文字列）TXTT（マッチ）〇\n",
      "（パターン）TXT（文字列）TXTTT（マッチ）〇\n",
      "（パターン）TXT（文字列）TTXT（マッチ）〇\n",
      "------\n",
      "（パターン）^TXT（文字列）TXT（マッチ）〇\n",
      "（パターン）^TXT（文字列）TXTT（マッチ）〇\n",
      "（パターン）^TXT（文字列）TXTTT（マッチ）〇\n",
      "（パターン）^TXT（文字列）TTXT（マッチ）×\n",
      "------\n",
      "（パターン）TXT$（文字列）TXT（マッチ）〇\n",
      "（パターン）TXT$（文字列）TXTT（マッチ）×\n",
      "（パターン）TXT$（文字列）TXTTT（マッチ）×\n",
      "（パターン）TXT$（文字列）TTXT（マッチ）〇\n",
      "------\n",
      "（パターン）^TXT$（文字列）TXT（マッチ）〇\n",
      "（パターン）^TXT$（文字列）TXTT（マッチ）×\n",
      "（パターン）^TXT$（文字列）TXTTT（マッチ）×\n",
      "（パターン）^TXT$（文字列）TTXT（マッチ）×\n"
     ]
    }
   ],
   "source": [
    "import re\n",
    "\n",
    "ptr = [\"TXT\", \"^TXT\", \"TXT$\", \"^TXT$\"]\n",
    "str = [\"TXT\", \"TXTT\", \"TXTTT\", \"TTXT\"]\n",
    "\n",
    "for valueptr in ptr:\n",
    "    print(\"------\")\n",
    "    pattern = re.compile(valueptr)\n",
    "    for valuestr in str:\n",
    "        res = pattern.search(valuestr)\n",
    "        if res is not None:\n",
    "            m = \"〇\"\n",
    "        else:\n",
    "            m = \"×\"\n",
    "        msg = \"（パターン）\" + valueptr + \"（文字列）\" + valuestr + \"（マッチ）\" + m\n",
    "        print(msg)"
   ]
  },
  {
   "cell_type": "markdown",
   "metadata": {},
   "source": [
    "### Sample8.py"
   ]
  },
  {
   "cell_type": "code",
   "execution_count": 13,
   "metadata": {},
   "outputs": [
    {
     "name": "stdout",
     "output_type": "stream",
     "text": [
      "------\n",
      "（パターン）TXT.（文字列）TXT（マッチ）×\n",
      "（パターン）TXT.（文字列）TXTT（マッチ）〇\n",
      "（パターン）TXT.（文字列）TXTTT（マッチ）〇\n",
      "（パターン）TXT.（文字列）TTXT（マッチ）×\n",
      "（パターン）TXT.（文字列）TTTXT（マッチ）×\n",
      "------\n",
      "（パターン）TXT..（文字列）TXT（マッチ）×\n",
      "（パターン）TXT..（文字列）TXTT（マッチ）×\n",
      "（パターン）TXT..（文字列）TXTTT（マッチ）〇\n",
      "（パターン）TXT..（文字列）TTXT（マッチ）×\n",
      "（パターン）TXT..（文字列）TTTXT（マッチ）×\n",
      "------\n",
      "（パターン）.TXT（文字列）TXT（マッチ）×\n",
      "（パターン）.TXT（文字列）TXTT（マッチ）×\n",
      "（パターン）.TXT（文字列）TXTTT（マッチ）×\n",
      "（パターン）.TXT（文字列）TTXT（マッチ）〇\n",
      "（パターン）.TXT（文字列）TTTXT（マッチ）〇\n",
      "------\n",
      "（パターン）..TXT（文字列）TXT（マッチ）×\n",
      "（パターン）..TXT（文字列）TXTT（マッチ）×\n",
      "（パターン）..TXT（文字列）TXTTT（マッチ）×\n",
      "（パターン）..TXT（文字列）TTXT（マッチ）×\n",
      "（パターン）..TXT（文字列）TTTXT（マッチ）〇\n"
     ]
    }
   ],
   "source": [
    "import re\n",
    "\n",
    "ptr = [\"TXT.\", \"TXT..\", \".TXT\", \"..TXT\"]\n",
    "str = [\"TXT\", \"TXTT\", \"TXTTT\", \"TTXT\", \"TTTXT\"]\n",
    "\n",
    "for valueptr in ptr:\n",
    "    print(\"------\")\n",
    "    pattern = re.compile(valueptr)\n",
    "    for valuestr in str:\n",
    "        res = pattern.search(valuestr)\n",
    "        if res is not None:\n",
    "            m = \"〇\"\n",
    "        else:\n",
    "            m = \"×\"\n",
    "        msg = \"（パターン）\" + valueptr + \"（文字列）\" + valuestr + \"（マッチ）\" + m\n",
    "        print(msg)"
   ]
  },
  {
   "cell_type": "markdown",
   "metadata": {},
   "source": [
    "### Sample9.py"
   ]
  },
  {
   "cell_type": "code",
   "execution_count": 14,
   "metadata": {},
   "outputs": [
    {
     "name": "stdout",
     "output_type": "stream",
     "text": [
      "------\n",
      "（パターン）[012]（文字列）0（マッチ）〇\n",
      "（パターン）[012]（文字列）1（マッチ）〇\n",
      "（パターン）[012]（文字列）2（マッチ）〇\n",
      "（パターン）[012]（文字列）3（マッチ）×\n",
      "------\n",
      "（パターン）[0-3]（文字列）0（マッチ）〇\n",
      "（パターン）[0-3]（文字列）1（マッチ）〇\n",
      "（パターン）[0-3]（文字列）2（マッチ）〇\n",
      "（パターン）[0-3]（文字列）3（マッチ）〇\n",
      "------\n",
      "（パターン）[^012]（文字列）0（マッチ）×\n",
      "（パターン）[^012]（文字列）1（マッチ）×\n",
      "（パターン）[^012]（文字列）2（マッチ）×\n",
      "（パターン）[^012]（文字列）3（マッチ）〇\n"
     ]
    }
   ],
   "source": [
    "import re\n",
    "\n",
    "ptr = [\"[012]\", \"[0-3]\", \"[^012]\"]\n",
    "str = [\"0\", \"1\", \"2\", \"3\"]\n",
    "\n",
    "for valueptr in ptr:\n",
    "    print(\"------\")\n",
    "    pattern = re.compile(valueptr)\n",
    "    for valuestr in str:\n",
    "        res = pattern.search(valuestr)\n",
    "        if res is not None:\n",
    "            m = \"〇\"\n",
    "        else:\n",
    "            m = \"×\"\n",
    "        msg = \"（パターン）\" + valueptr + \"（文字列）\" + valuestr + \"（マッチ）\" + m\n",
    "        print(msg)"
   ]
  },
  {
   "cell_type": "markdown",
   "metadata": {},
   "source": [
    "### Sample10.py"
   ]
  },
  {
   "cell_type": "code",
   "execution_count": 15,
   "metadata": {},
   "outputs": [
    {
     "name": "stdout",
     "output_type": "stream",
     "text": [
      "------\n",
      "（パターン）T*（文字列）X（マッチ）〇\n",
      "（パターン）T*（文字列）TT（マッチ）〇\n",
      "（パターン）T*（文字列）TTT（マッチ）〇\n",
      "（パターン）T*（文字列）TTTT（マッチ）〇\n",
      "------\n",
      "（パターン）T+（文字列）X（マッチ）×\n",
      "（パターン）T+（文字列）TT（マッチ）〇\n",
      "（パターン）T+（文字列）TTT（マッチ）〇\n",
      "（パターン）T+（文字列）TTTT（マッチ）〇\n",
      "------\n",
      "（パターン）T?（文字列）X（マッチ）〇\n",
      "（パターン）T?（文字列）TT（マッチ）〇\n",
      "（パターン）T?（文字列）TTT（マッチ）〇\n",
      "（パターン）T?（文字列）TTTT（マッチ）〇\n",
      "------\n",
      "（パターン）T{3}（文字列）X（マッチ）×\n",
      "（パターン）T{3}（文字列）TT（マッチ）×\n",
      "（パターン）T{3}（文字列）TTT（マッチ）〇\n",
      "（パターン）T{3}（文字列）TTTT（マッチ）〇\n"
     ]
    }
   ],
   "source": [
    "import re\n",
    "\n",
    "ptr = [\"T*\", \"T+\", \"T?\", \"T{3}\"]\n",
    "str = [\"X\", \"TT\", \"TTT\", \"TTTT\"]\n",
    "\n",
    "for valueptr in ptr:\n",
    "    print(\"------\")\n",
    "    pattern = re.compile(valueptr)\n",
    "    for valuestr in str:\n",
    "        res = pattern.search(valuestr)\n",
    "        if res is not None:\n",
    "            m = \"〇\"\n",
    "        else:\n",
    "            m = \"×\"\n",
    "        msg = \"（パターン）\" + valueptr + \"（文字列）\" + valuestr + \"（マッチ）\" + m\n",
    "        print(msg)"
   ]
  },
  {
   "cell_type": "markdown",
   "metadata": {},
   "source": [
    "### Sample11.py"
   ]
  },
  {
   "cell_type": "code",
   "execution_count": 16,
   "metadata": {},
   "outputs": [
    {
     "name": "stdout",
     "output_type": "stream",
     "text": [
      "------\n",
      "（パターン）(TXT)+（文字列）TX（マッチ）×\n",
      "（パターン）(TXT)+（文字列）TXT（マッチ）〇\n",
      "（パターン）(TXT)+（文字列）XTX（マッチ）×\n",
      "（パターン）(TXT)+（文字列）TXTXT（マッチ）〇\n",
      "------\n",
      "（パターン）TXT|XTX（文字列）TX（マッチ）×\n",
      "（パターン）TXT|XTX（文字列）TXT（マッチ）〇\n",
      "（パターン）TXT|XTX（文字列）XTX（マッチ）〇\n",
      "（パターン）TXT|XTX（文字列）TXTXT（マッチ）〇\n"
     ]
    }
   ],
   "source": [
    "import re\n",
    "\n",
    "ptr = [\"(TXT)+\", \"TXT|XTX\"]\n",
    "str = [\"TX\", \"TXT\", \"XTX\", \"TXTXT\"]\n",
    "\n",
    "for valueptr in ptr:\n",
    "    print(\"------\")\n",
    "    pattern = re.compile(valueptr)\n",
    "    for valuestr in str:\n",
    "        res = pattern.search(valuestr)\n",
    "        if res is not None:\n",
    "            m = \"〇\"\n",
    "        else:\n",
    "            m = \"×\"\n",
    "        msg = \"（パターン）\" + valueptr + \"（文字列）\" + valuestr + \"（マッチ）\" + m\n",
    "        print(msg)"
   ]
  },
  {
   "cell_type": "markdown",
   "metadata": {},
   "source": [
    "### Sample12.py"
   ]
  },
  {
   "cell_type": "code",
   "execution_count": 17,
   "metadata": {},
   "outputs": [
    {
     "name": "stdout",
     "output_type": "stream",
     "text": [
      "（変換前）Sample.csv（変換後）Sample.txt\n",
      "（変換前）Sample.exe（変換後）Sample.exe\n",
      "（変換前）test.py（変換後）test.txt\n",
      "（変換前）index.html（変換後）index.txt\n"
     ]
    }
   ],
   "source": [
    "import re\n",
    "\n",
    "ptr = \"\\.(csv|html|py)$\"\n",
    "str = [\"Sample.csv\", \"Sample.exe\", \"test.py\", \"index.html\"]\n",
    "\n",
    "pattern = re.compile(ptr)\n",
    "for valuestr in str:\n",
    "    res = pattern.sub(\".txt\", valuestr)\n",
    "    msg = \"（変換前）\" + valuestr + \"（変換後）\" + res\n",
    "    print(msg)"
   ]
  },
  {
   "cell_type": "markdown",
   "metadata": {},
   "source": [
    "# ほげ要望(^ω^)\n",
    "　教科書　【レッスンのまとめ】    \n",
    "・lesson9  \n",
    " 練習をやってくれたら喜びます"
   ]
  },
  {
   "cell_type": "markdown",
   "metadata": {},
   "source": [
    "# エクストラほげ問題⑦\n",
    "## 高校数学Ｂ　数列\n",
    "## 和の記号Σの基本的な扱い\n",
    "人工知能（AI）を学ぶ上で必須な数学の知識を問うような問題を出します。  \n",
    "最低限の内容ばかり問うのでわからない人は焦った方がいいと思います（ほげおくん調べ）  \n",
    "  \n",
    "### もんだいだよん(^ω^)\n",
    " \n",
    "次の和をΣを用いて表せ\n",
    "  \n",
    "①$2^2+5^2+8^2+…+(3n-1)^2$\n",
    "  \n",
    "②$1・3+5・3^3+9・3^3+…+29・3^{15}$"
   ]
  },
  {
   "cell_type": "markdown",
   "metadata": {},
   "source": [
    "## エクストラぽむぽむ問題\n",
    "\n",
    "### スクレイピングと正規表現\n",
    "今回は習った正規表現と、スクレイピングという作業を組み合わせてみます。\n",
    "\n",
    "### １．スクレイピングをしてみよう\n",
    ">スクレイピングができたら、のちのちの機械学習に生かしたりできちゃったり・・・\n",
    ">マスターするのはそんなに難しくないけど、処理が大きいです。\n",
    "\n",
    "スクレイピングについて各自で調べ、マークダウン形式でまとめてください。自分が理解できた部分の言葉をコピペしてもいいです。\n",
    "<br>その時に調べてほしいのが、スクレイピングをするときに使うライブラリも調べてまとめてね。"
   ]
  },
  {
   "cell_type": "markdown",
   "metadata": {},
   "source": [
    "### スクレイピングとは\n",
    "\n",
    "自分で調べた分をここに記述\n",
    "\n",
    "### スクレイピングをするときに使うライブラリ\n",
    "\n",
    "自分で調べた分を記述"
   ]
  },
  {
   "cell_type": "markdown",
   "metadata": {},
   "source": [
    "### ２．組み合わせてみよう\n",
    "今回はスクレイピングをするにあたってBeautifulSoupというライブラリを使います。\n",
    "<br>スクレイピングしたあと正規表現を用いてhttps://からはじまるurlを出力します。\n",
    "\n",
    "ここで気を付けてほしいのが、importエラー。\n",
    "<br>どうやって直すかは調べたりして頑張って改善してください。\n",
    "\n",
    "#### 以下出力結果\n",
    "https://example.com/fuga\n",
    "<br>https://example.com/foo"
   ]
  },
  {
   "cell_type": "code",
   "execution_count": 1,
   "metadata": {},
   "outputs": [
    {
     "name": "stdout",
     "output_type": "stream",
     "text": [
      "https://example.com/fuga\n",
      "https://example.com/foo\n"
     ]
    }
   ],
   "source": [
    "from bs4 import BeautifulSoup \n",
    "import re \n",
    "\n",
    "html = \"\"\"\n",
    "<ul>\n",
    "  <li><a href=\"hoge.html\">hoge</li>\n",
    "  <li><a href=\"https://example.com/fuga\">fuga*</li>\n",
    "  <li><a href=\"https://example.com/foo\">foo*</li>\n",
    "  <li><a href=\"http://example.com/aaa\">aaa</li>\n",
    "</ul>\n",
    "\"\"\"\n",
    "soup = BeautifulSoup(html, \"html.parser\")\n",
    "# ★の部分を正規表現を使ってhttps://から始まるという条件を書いてください\n",
    "li = soup.find_all(href=re.compile(★))\n",
    "for e in li: print(e.attrs['href'])"
   ]
  },
  {
   "cell_type": "code",
   "execution_count": null,
   "metadata": {},
   "outputs": [],
   "source": []
  },
  {
   "cell_type": "markdown",
   "metadata": {},
   "source": [
    "# エクストラがんばれもんだい\n",
    "がんばれ"
   ]
  },
  {
   "cell_type": "code",
   "execution_count": 3,
   "metadata": {},
   "outputs": [
    {
     "name": "stdout",
     "output_type": "stream",
     "text": [
      "1×2＝2で、2＋1=3です。\n"
     ]
    }
   ],
   "source": [
    "#フォーマットを駆使して、意味が正しい文章が出力されるようにしてね\n",
    "a=1\n",
    "b=a*2\n",
    "\n",
    "c=b+a\n",
    "\n",
    "print(\"{0}×2＝{1}で、{1}＋{0}={2}です。\".format())"
   ]
  },
  {
   "cell_type": "code",
   "execution_count": 7,
   "metadata": {},
   "outputs": [
    {
     "ename": "IndentationError",
     "evalue": "expected an indented block (<ipython-input-7-3013c85689bc>, line 15)",
     "output_type": "error",
     "traceback": [
      "\u001b[1;36m  File \u001b[1;32m\"<ipython-input-7-3013c85689bc>\"\u001b[1;36m, line \u001b[1;32m15\u001b[0m\n\u001b[1;33m    if __name__ == '__main__':\u001b[0m\n\u001b[1;37m     ^\u001b[0m\n\u001b[1;31mIndentationError\u001b[0m\u001b[1;31m:\u001b[0m expected an indented block\n"
     ]
    }
   ],
   "source": [
    "#関数main()の中身を書きたして、「dataフォルダをつくり、その中に入力した検索ワードとそれぞれ同じ名前のフォルダをつくる」コードにしてね\n",
    "'''\n",
    "data/\n",
    "├ 検索ワード1/\n",
    "│　\n",
    "├ 検索ワード2/\n",
    "│　 　　\n",
    "こんなかんじ\n",
    "\n",
    "'''\n",
    "def main(search_word):\n",
    "    # フォルダを作る\n",
    "\n",
    "    \n",
    "if __name__ == '__main__':\n",
    "    member = []\n",
    "    num = int(input(\"人数\"))\n",
    "    for i in range(num):\n",
    "        member.append(input(\"検索ワード\"))\n",
    "    for i in range(len(member)):\n",
    "        main(member[i])"
   ]
  },
  {
   "cell_type": "code",
   "execution_count": null,
   "metadata": {},
   "outputs": [],
   "source": [
    "#例外処理でエラー内容を出力するコードをかいてね\n",
    "#便利なはず\n",
    "\n",
    "try:\n",
    "    print(\"try開始\")\n",
    "    #エラーを発生させるため0除算\n",
    "    a = 1 / 0\n",
    "    print 'try-終了'\n",
    "except Exception as e:\n",
    "    #ここにかいてね"
   ]
  }
 ],
 "metadata": {
  "kernelspec": {
   "display_name": "Python 3",
   "language": "python",
   "name": "python3"
  },
  "language_info": {
   "codemirror_mode": {
    "name": "ipython",
    "version": 3
   },
   "file_extension": ".py",
   "mimetype": "text/x-python",
   "name": "python",
   "nbconvert_exporter": "python",
   "pygments_lexer": "ipython3",
   "version": "3.8.3"
  }
 },
 "nbformat": 4,
 "nbformat_minor": 2
}
