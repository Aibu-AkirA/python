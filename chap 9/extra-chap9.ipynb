{
 "cells": [
  {
   "cell_type": "code",
   "execution_count": 1,
   "metadata": {},
   "outputs": [],
   "source": [
    "#スクレイピングとは\n",
    "\n",
    "#ウェブからデータを収集すること"
   ]
  },
  {
   "cell_type": "code",
   "execution_count": 2,
   "metadata": {},
   "outputs": [],
   "source": [
    "#スクレイピングをするときに使うライブラリ\n",
    "\n",
    "#BeautifulSoupとScrapy"
   ]
  },
  {
   "cell_type": "code",
   "execution_count": 3,
   "metadata": {},
   "outputs": [
    {
     "name": "stdout",
     "output_type": "stream",
     "text": [
      "https://example.com/fuga\n",
      "https://example.com/foo\n"
     ]
    }
   ],
   "source": [
    "from bs4 import BeautifulSoup \n",
    "import re \n",
    "\n",
    "html = \"\"\"\n",
    "<ul>\n",
    "  <li><a href=\"hoge.html\">hoge</li>\n",
    "  <li><a href=\"https://example.com/fuga\">fuga*</li>\n",
    "  <li><a href=\"https://example.com/foo\">foo*</li>\n",
    "  <li><a href=\"http://example.com/aaa\">aaa</li>\n",
    "</ul>\n",
    "\"\"\"\n",
    "soup = BeautifulSoup(html, \"html.parser\")\n",
    "# ★の部分を正規表現を使ってhttps://から始まるという条件を書いてください\n",
    "li = soup.find_all(href=re.compile('https://'))\n",
    "for e in li: print(e.attrs['href'])"
   ]
  },
  {
   "cell_type": "code",
   "execution_count": 5,
   "metadata": {},
   "outputs": [
    {
     "name": "stdout",
     "output_type": "stream",
     "text": [
      "1×2＝2で、2＋1=3です。\n"
     ]
    }
   ],
   "source": [
    "#フォーマットを駆使して、意味が正しい文章が出力されるようにしてね\n",
    "a=1\n",
    "b=a*2\n",
    "\n",
    "c=b+a\n",
    "\n",
    "print(\"{0}×2＝{1}で、{1}＋{0}={2}です。\".format(a, b, c))"
   ]
  },
  {
   "cell_type": "code",
   "execution_count": 17,
   "metadata": {},
   "outputs": [
    {
     "name": "stdout",
     "output_type": "stream",
     "text": [
      "人数3\n",
      "検索ワード日本\n",
      "検索ワード日本酒\n",
      "検索ワード日本人\n"
     ]
    }
   ],
   "source": [
    "#関数main()の中身を書きたして、「dataフォルダをつくり、その中に入力した検索ワードとそれぞれ同じ名前のフォルダをつくる」コードにしてね\n",
    "'''\n",
    "data/\n",
    "├ 検索ワード1/\n",
    "│　\n",
    "├ 検索ワード2/\n",
    "│　 　　\n",
    "こんなかんじ\n",
    "\n",
    "'''\n",
    "import os\n",
    "\n",
    "def main(search_word):\n",
    "    path = os.getcwd()+'/data'\n",
    "    os.makedirs(path, exist_ok=True)\n",
    "    os.makedirs(path+'/'+search_word)\n",
    "    \n",
    "if __name__ == '__main__':\n",
    "    member = []\n",
    "    num = int(input(\"人数\"))\n",
    "    for i in range(num):\n",
    "        member.append(input(\"検索ワード\"))\n",
    "    for i in range(len(member)):\n",
    "        main(member[i])\n",
    "        "
   ]
  },
  {
   "cell_type": "code",
   "execution_count": 20,
   "metadata": {},
   "outputs": [
    {
     "name": "stdout",
     "output_type": "stream",
     "text": [
      "try開始\n",
      "division by zero\n"
     ]
    }
   ],
   "source": [
    "#例外処理でエラー内容を出力するコードをかいてね\n",
    "#便利なはず\n",
    "\n",
    "try:\n",
    "    print(\"try開始\")\n",
    "    #エラーを発生させるため0除算\n",
    "    a = 1 / 0\n",
    "    print ('try-終了')\n",
    "except Exception as e:\n",
    "    print(e)"
   ]
  },
  {
   "cell_type": "code",
   "execution_count": null,
   "metadata": {},
   "outputs": [],
   "source": []
  }
 ],
 "metadata": {
  "kernelspec": {
   "display_name": "Python 3",
   "language": "python",
   "name": "python3"
  },
  "language_info": {
   "codemirror_mode": {
    "name": "ipython",
    "version": 3
   },
   "file_extension": ".py",
   "mimetype": "text/x-python",
   "name": "python",
   "nbconvert_exporter": "python",
   "pygments_lexer": "ipython3",
   "version": "3.8.3"
  }
 },
 "nbformat": 4,
 "nbformat_minor": 4
}
