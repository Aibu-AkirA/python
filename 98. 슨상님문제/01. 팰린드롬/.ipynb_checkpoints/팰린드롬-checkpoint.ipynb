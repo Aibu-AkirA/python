{
 "cells": [
  {
   "cell_type": "code",
   "execution_count": null,
   "metadata": {},
   "outputs": [
    {
     "name": "stdout",
     "output_type": "stream",
     "text": [
      "パリンドローム検査：sos\n",
      "True\n",
      "パリンドローム検査：Sos\n",
      "True\n",
      "パリンドローム検査：bbaBb\n",
      "True\n",
      "パリンドローム検査：hello\n",
      "False\n",
      "パリンドローム検査：\"A man, a plan, a canal:Panama\"\n",
      "True\n",
      "パリンドローム検査：감사합니다\n",
      "False\n"
     ]
    }
   ],
   "source": [
    "while True :\n",
    "    uketa = input(\"パリンドローム検査：\")\n",
    "    kitta = list(uketa)\n",
    "    for i in range(len(kitta)) :\n",
    "        if kitta[i].isalpha() == False and kitta[i].isdigit() == False :\n",
    "            kitta[i] = \"\"\n",
    "        elif kitta[i].isalpha() == True :\n",
    "            kitta[i] = kitta[i].lower()\n",
    "    kitta = [k for k in kitta if k]\n",
    "    kittahanbun = int(len(kitta) / 2)\n",
    "    kotae = True\n",
    "    for i in range(0, kittahanbun):\n",
    "        if kitta[i] !=  kitta[len(kitta) - 1 - i]:\n",
    "            kotae = False\n",
    "            break\n",
    "    print(kotae)"
   ]
  },
  {
   "cell_type": "code",
   "execution_count": null,
   "metadata": {},
   "outputs": [],
   "source": []
  }
 ],
 "metadata": {
  "kernelspec": {
   "display_name": "Python 3",
   "language": "python",
   "name": "python3"
  },
  "language_info": {
   "codemirror_mode": {
    "name": "ipython",
    "version": 3
   },
   "file_extension": ".py",
   "mimetype": "text/x-python",
   "name": "python",
   "nbconvert_exporter": "python",
   "pygments_lexer": "ipython3",
   "version": "3.8.3"
  }
 },
 "nbformat": 4,
 "nbformat_minor": 4
}
