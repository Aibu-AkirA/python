{
 "cells": [
  {
   "cell_type": "code",
   "execution_count": 3,
   "metadata": {},
   "outputs": [],
   "source": [
    "paragraph = \"Bob hit a ball, the hit BaLL flew far after it was hit.\"\n",
    "banned = [\"hit\"]"
   ]
  },
  {
   "cell_type": "code",
   "execution_count": 13,
   "metadata": {},
   "outputs": [],
   "source": [
    "import re\n",
    "from collections import Counter\n",
    "\n",
    "def mostFrequentWord(s, b):\n",
    "    s = s.lower()\n",
    "    b = [i.lower() for i in b]\n",
    "    s = re.sub('[^a-z0-9 ]','',s)\n",
    "    for var in b:\n",
    "        ban = re.escape(var) #리스트 변수 쓸려면 이거 해야함\n",
    "        s = re.sub(ban, '',s)\n",
    "    s = s.split()\n",
    "    sCount = Counter(s) # 리스트안에서 같은 값끼리 카운트후 딕셔너리에 넣음\n",
    "    \n",
    "    print(sCount)\n",
    "    \n",
    "    sOrder = sCount.most_common() #튜플에 높은 순서대로 정렬\n",
    "    \n",
    "    print(sOrder)\n",
    "    \n",
    "    sFrequent=''\n",
    "    for i in sOrder:\n",
    "        if i[1] == sOrder[0][1]:\n",
    "            sFrequent += i[0]+\", \"\n",
    "\n",
    "    del sOrder\n",
    "    return sFrequent[:-2]"
   ]
  },
  {
   "cell_type": "code",
   "execution_count": 14,
   "metadata": {},
   "outputs": [
    {
     "name": "stdout",
     "output_type": "stream",
     "text": [
      "Counter({'ball': 2, 'bob': 1, 'a': 1, 'the': 1, 'flew': 1, 'far': 1, 'after': 1, 'it': 1, 'was': 1})\n",
      "[('ball', 2), ('bob', 1), ('a', 1), ('the', 1), ('flew', 1), ('far', 1), ('after', 1), ('it', 1), ('was', 1)]\n"
     ]
    },
    {
     "data": {
      "text/plain": [
       "'ball'"
      ]
     },
     "execution_count": 14,
     "metadata": {},
     "output_type": "execute_result"
    }
   ],
   "source": [
    "mostFrequentWord(paragraph, banned)"
   ]
  },
  {
   "cell_type": "code",
   "execution_count": 15,
   "metadata": {},
   "outputs": [
    {
     "name": "stdout",
     "output_type": "stream",
     "text": [
      "Counter({'aa': 4, 'bb': 4, 'cc': 4, 'dd': 3, 'fff': 3, 'hh': 3})\n",
      "[('aa', 4), ('bb', 4), ('cc', 4), ('dd', 3), ('fff', 3), ('hh', 3)]\n"
     ]
    },
    {
     "data": {
      "text/plain": [
       "'aa, bb, cc'"
      ]
     },
     "execution_count": 15,
     "metadata": {},
     "output_type": "execute_result"
    }
   ],
   "source": [
    "manyFrequent= \"aa aa aa aa bb bb bb bb cc cc cc cc dd dd dd ee ee ee ee ee fff fff fff gg gg gg gg hh hh hh \"\n",
    "banned2 = [\"ee\", \"gg\", \"hhh\"]\n",
    "mostFrequentWord(manyFrequent, banned2)"
   ]
  },
  {
   "cell_type": "code",
   "execution_count": null,
   "metadata": {},
   "outputs": [],
   "source": []
  }
 ],
 "metadata": {
  "kernelspec": {
   "display_name": "Python 3",
   "language": "python",
   "name": "python3"
  },
  "language_info": {
   "codemirror_mode": {
    "name": "ipython",
    "version": 3
   },
   "file_extension": ".py",
   "mimetype": "text/x-python",
   "name": "python",
   "nbconvert_exporter": "python",
   "pygments_lexer": "ipython3",
   "version": "3.8.3"
  }
 },
 "nbformat": 4,
 "nbformat_minor": 4
}
