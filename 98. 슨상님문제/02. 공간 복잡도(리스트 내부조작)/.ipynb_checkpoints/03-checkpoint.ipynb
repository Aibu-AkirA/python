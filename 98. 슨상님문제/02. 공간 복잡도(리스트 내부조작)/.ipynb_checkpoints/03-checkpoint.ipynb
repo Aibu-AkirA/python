{
 "cells": [
  {
   "cell_type": "code",
   "execution_count": 31,
   "metadata": {},
   "outputs": [],
   "source": [
    "s = ['H','a','n','n','a','h']"
   ]
  },
  {
   "cell_type": "code",
   "execution_count": 32,
   "metadata": {},
   "outputs": [
    {
     "data": {
      "text/plain": [
       "['H', 'a', 'n', 'n', 'a', 'h']"
      ]
     },
     "execution_count": 32,
     "metadata": {},
     "output_type": "execute_result"
    }
   ],
   "source": [
    "s"
   ]
  },
  {
   "cell_type": "code",
   "execution_count": 36,
   "metadata": {},
   "outputs": [
    {
     "name": "stdout",
     "output_type": "stream",
     "text": [
      "['h', 'a', 'n', 'n', 'a', 'H']\n",
      "1941977387456 1941977796224\n"
     ]
    }
   ],
   "source": [
    "def reverseString(s):\n",
    "    s = s[::-1] #リスト内部を直接操作するために\n",
    "    print(s)    #そのままprint(s[::-1])はダメです。\n",
    "    \n",
    "    print(id(s),id(s[::-1]))\n",
    "\n",
    "\n",
    "reverseString(s)"
   ]
  },
  {
   "cell_type": "code",
   "execution_count": 28,
   "metadata": {},
   "outputs": [
    {
     "data": {
      "text/plain": [
       "(1941978125632, 1941976430400)"
      ]
     },
     "execution_count": 28,
     "metadata": {},
     "output_type": "execute_result"
    }
   ],
   "source": []
  },
  {
   "cell_type": "code",
   "execution_count": 18,
   "metadata": {},
   "outputs": [],
   "source": [
    "s1= ['H','a','n','n','a','h']"
   ]
  },
  {
   "cell_type": "code",
   "execution_count": 37,
   "metadata": {},
   "outputs": [
    {
     "name": "stdout",
     "output_type": "stream",
     "text": [
      "['H', 'a', 'n', 'n', 'a', 'h']\n",
      "1941977795328 1941977795328\n"
     ]
    }
   ],
   "source": [
    "def reverseString2(s1):\n",
    "    s1[:]=s1[::-1]\n",
    "    print(s1)\n",
    "    \n",
    "    print(id(s1[:]),id(s1[::-1]))\n",
    "\n",
    "reverseString2(s1)"
   ]
  },
  {
   "cell_type": "code",
   "execution_count": null,
   "metadata": {},
   "outputs": [],
   "source": []
  }
 ],
 "metadata": {
  "kernelspec": {
   "display_name": "Python 3",
   "language": "python",
   "name": "python3"
  },
  "language_info": {
   "codemirror_mode": {
    "name": "ipython",
    "version": 3
   },
   "file_extension": ".py",
   "mimetype": "text/x-python",
   "name": "python",
   "nbconvert_exporter": "python",
   "pygments_lexer": "ipython3",
   "version": "3.8.3"
  }
 },
 "nbformat": 4,
 "nbformat_minor": 4
}
